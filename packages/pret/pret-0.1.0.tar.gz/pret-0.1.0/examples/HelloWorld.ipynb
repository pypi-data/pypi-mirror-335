{
 "cells": [
  {
   "cell_type": "code",
   "execution_count": 2,
   "id": "b8bc8928-05fb-4ccd-a62d-1f6bf0c60283",
   "metadata": {},
   "outputs": [],
   "source": [
    "%load_ext autoreload\n",
    "%autoreload 2"
   ]
  },
  {
   "cell_type": "code",
   "execution_count": 3,
   "id": "28c1ae29-2e88-4fa6-b7dd-4018a87f9540",
   "metadata": {},
   "outputs": [
    {
     "data": {
      "text/plain": [
       "'/opt/homebrew/anaconda3/envs/pret/bin/python3'"
      ]
     },
     "execution_count": 3,
     "metadata": {},
     "output_type": "execute_result"
    }
   ],
   "source": [
    "import sys\n",
    "sys.executable"
   ]
  },
  {
   "cell_type": "code",
   "execution_count": 42,
   "id": "fd60663d-4bc1-41ae-b9a5-79a7c8fa647e",
   "metadata": {},
   "outputs": [],
   "source": [
    "from metanno.stubs import TextComponent, TableComponent"
   ]
  },
  {
   "cell_type": "code",
   "execution_count": 51,
   "id": "8b825e16-ab2c-427a-92fd-6b61a1f2411f",
   "metadata": {
    "tags": []
   },
   "outputs": [],
   "source": [
    "from pret.stubs.joy import Box, Button, Tab, TabList, Tabs, Typography, Slider\n",
    "from pret.stubs.react import div, use_state\n",
    "from pret.render import component\n",
    "from pret.state import proxy, use_tracked\n",
    "\n",
    "\n",
    "def TextView():\n",
    "    state = use_tracked(shared_state)\n",
    "    selected, set_selected = use_state([])\n",
    "\n",
    "    def on_mouse_select(modkeys, selection):\n",
    "        if not len(selection):\n",
    "            return\n",
    "        set_selected(\n",
    "            [\n",
    "                *selected,\n",
    "                *(\n",
    "                    {\n",
    "                        **span,\n",
    "                    }\n",
    "                    for span in selection\n",
    "                ),\n",
    "            ]\n",
    "        )\n",
    "\n",
    "    def on_key_press(key, modkeys, ranges):\n",
    "        if key == \"Backspace\":\n",
    "            shared_state['spans'] = [\n",
    "                span for span in shared_state['spans']\n",
    "                if not any(\n",
    "                    ms['end'] >= span[\"begin\"] and span['end'] >= ms['begin']\n",
    "                    for ms in selected\n",
    "                )\n",
    "            ]\n",
    "            set_selected([])\n",
    "            return\n",
    "        elif key == \"a\":\n",
    "            label = \"short\"\n",
    "        elif key == \"b\":\n",
    "            label = \"long\"\n",
    "        else:\n",
    "            return\n",
    "\n",
    "        for span in selected:\n",
    "            shared_state['spans'].append({**span, \"label\": label, \"id\": f\"{span['begin']}-{span['end']}-{label}\"})\n",
    "\n",
    "        set_selected([])\n",
    "\n",
    "    return TextComponent(\n",
    "        text=\"Le petit poucet est un livre pour enfant.\\nLe Petit Poucet est un conte appartenant à la tradition orale, retranscrit et transformé par Charles Perrault en France et paru dans Les Contes de ma mère l'Oye, en 1697. C'est également le nom du personnage principal de ce conte.\",\n",
    "        spans=[{**span, \"style\": span[\"label\"]} for span in state[\"spans\"]],\n",
    "        mouse_selection=selected,\n",
    "        actions={},\n",
    "        on_mouse_select=on_mouse_select,\n",
    "        on_key_press=on_key_press,\n",
    "        styles={\n",
    "            \"short\": {\"color\": \"pink\"},\n",
    "            \"long\": {\"color\": \"black\"},\n",
    "        },\n",
    "    )\n",
    "\n",
    "@component\n",
    "def TabPanel(*children, index=None, value=None):\n",
    "    data = use_tracked(shared_state)\n",
    "\n",
    "    def handle_click(e):\n",
    "        shared_state[\"count\"] += 1\n",
    "        \n",
    "    def handle_slide(e, new_value, old_value):\n",
    "        shared_state[\"count\"] = new_value\n",
    "\n",
    "    return div(\n",
    "        *(\n",
    "            (\n",
    "                Typography(\"Mon titre B\", variant=\"h3\"),\n",
    "                Button(\n",
    "                    f\"mon bouton: {data['count']}\",\n",
    "                    #variant=\"contained\",\n",
    "                    color=\"primary\",\n",
    "                    disable_ripple=True,\n",
    "                    on_click=handle_click,\n",
    "                ),\n",
    "                div(Slider(on_change=handle_slide, sx={\"width\": \"100px\", \"margin\": \"10px\"})),\n",
    "                TextView(),\n",
    "            )\n",
    "            if (value == index)\n",
    "            else ()\n",
    "        ),\n",
    "        # props\n",
    "        role=\"tabpanel\",\n",
    "        hidden=index != value,\n",
    "        id=f\"simple-tabpanel-{index}\",\n",
    "        aria_labelledby=f\"simple-tab-{index}\",\n",
    "    )\n",
    "\n",
    "@component\n",
    "def App():\n",
    "    # count, set_count = use_state(0)\n",
    "    index, set_index = use_state(0)\n",
    "\n",
    "    def handle_index_change(e, new_index):\n",
    "        set_index(new_index)\n",
    "\n",
    "    return div(\n",
    "        Box(\n",
    "            Tabs(\n",
    "                TabList(\n",
    "                    Tab(\n",
    "                        \"Item One\",\n",
    "                        aria_controls=\"simple-tabpanel-0\",\n",
    "                        key=\"simple-tab-0\",\n",
    "                    ),\n",
    "                    Tab(\n",
    "                        \"Item Two\",\n",
    "                        aria_controls=\"simple-tabpanel-1\",\n",
    "                        key=\"simple-tab-1\",\n",
    "                    ),\n",
    "                    Tab(\n",
    "                        \"Item Three\",\n",
    "                        aria_controls=\"simple-tabpanel-2\",\n",
    "                        key=\"simple-tab-2\",\n",
    "                    ),\n",
    "                ),\n",
    "                default_value=index,\n",
    "                on_change=handle_index_change,\n",
    "                aria_label=\"basic tabs example\",\n",
    "            ),\n",
    "            borderBottom=1,\n",
    "            borderColor=\"divider\",\n",
    "        ),\n",
    "        TabPanel(\n",
    "            key=\"tab-panel-0\",\n",
    "            index=0,\n",
    "            value=index,\n",
    "        ),\n",
    "        TabPanel(\n",
    "            key=\"tab-panel-1\",\n",
    "            index=1,\n",
    "            value=index,\n",
    "        ),\n",
    "    )\n",
    "\n",
    "\n",
    "shared_state = proxy(\n",
    "    {\n",
    "        \"count\": 0,\n",
    "        \"count2\": 0,\n",
    "        \"spans\": [],\n",
    "    },\n",
    "    remote_sync=False,\n",
    ")\n",
    "\n",
    "#App()"
   ]
  },
  {
   "cell_type": "code",
   "execution_count": 52,
   "id": "5ad0aa96-c721-433c-b4de-1f21413fde78",
   "metadata": {
    "tags": []
   },
   "outputs": [
    {
     "data": {
      "application/vnd.pret+json": {
       "detach": false,
       "version_major": 0,
       "version_minor": 0,
       "view_data": {
        "chunk_idx": 0,
        "serialized": "gASVGAABAAAAAACMCmRpbGwuX2RpbGyUjBBfY3JlYXRlX2Z1bmN0aW9ulJOUKIwOcHJldC5zZXJp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\n",
        "unpickler_id": "aa6d4b4775384af49c71fce47300a4cd"
       }
      },
      "text/plain": [
       "<pret.render.Renderable object at 0x107702f40>"
      ]
     },
     "execution_count": 52,
     "metadata": {},
     "output_type": "execute_result"
    }
   ],
   "source": [
    "App()"
   ]
  },
  {
   "cell_type": "code",
   "execution_count": 5,
   "id": "1f411135-5985-471e-a99f-80269fe902b0",
   "metadata": {
    "tags": []
   },
   "outputs": [
    {
     "name": "stderr",
     "output_type": "stream",
     "text": [
      "[autoreload of pret.manager failed: Traceback (most recent call last):\n",
      "  File \"/Users/perceval/Development/metanno/.venv/lib/python3.11/site-packages/IPython/extensions/autoreload.py\", line 261, in check\n",
      "    superreload(m, reload, self.old_objects)\n",
      "  File \"/Users/perceval/Development/metanno/.venv/lib/python3.11/site-packages/IPython/extensions/autoreload.py\", line 484, in superreload\n",
      "    update_generic(old_obj, new_obj)\n",
      "  File \"/Users/perceval/Development/metanno/.venv/lib/python3.11/site-packages/IPython/extensions/autoreload.py\", line 381, in update_generic\n",
      "    update(a, b)\n",
      "  File \"/Users/perceval/Development/metanno/.venv/lib/python3.11/site-packages/IPython/extensions/autoreload.py\", line 314, in update_class\n",
      "    old_obj = getattr(old, key)\n",
      "              ^^^^^^^^^^^^^^^^^\n",
      "  File \"/Users/perceval/Development/pret/pret/manager.py\", line 62, in __get__\n",
      "    self.instance = ref(instance)\n",
      "                    ^^^^^^^^^^^^^\n",
      "TypeError: cannot create weak reference to 'NoneType' object\n",
      "]\n"
     ]
    }
   ],
   "source": [
    "from pret.manager import get_manager"
   ]
  },
  {
   "cell_type": "code",
   "execution_count": 2,
   "id": "cc5aa4e2-de96-403e-b53e-c78eeb53e1d5",
   "metadata": {},
   "outputs": [],
   "source": [
    "from pret.mui import Button, Slider, Typography\n",
    "from pret.react import div\n",
    "#Slider(orientation='vertical')"
   ]
  },
  {
   "cell_type": "code",
   "execution_count": 3,
   "id": "5ec72db4-81f5-4823-bf33-6e8a70c01658",
   "metadata": {},
   "outputs": [],
   "source": [
    "from pret.state import proxy, get_manager\n",
    "from pret.render import use_state, use_tracked, component, server_only\n",
    "from pret.bridge import create_proxy\n",
    "import addon\n",
    "from pret.serialize import shared_pickler"
   ]
  },
  {
   "cell_type": "code",
   "execution_count": 4,
   "id": "f6dfb172-1dee-46bb-a2b4-296545f25cd1",
   "metadata": {},
   "outputs": [],
   "source": [
    "state = proxy({\n",
    "    \"count\": 0,\n",
    "    \"count2\": 0,\n",
    "}, remote_sync=True)"
   ]
  },
  {
   "cell_type": "code",
   "execution_count": 5,
   "id": "c2b1fa6d-078f-4d7e-af04-380d8b5488d7",
   "metadata": {},
   "outputs": [],
   "source": [
    "@component\n",
    "def App():\n",
    "    #count, set_count = use_state(0)\n",
    "    data = use_tracked(state)\n",
    "    \n",
    "    def handle_click(e):\n",
    "        state['count'] += 1\n",
    "    \n",
    "    return div(\n",
    "        Typography(\"Mon titre\", variant=\"h3\"),\n",
    "        Button(\n",
    "            f\"mon bouton: {data['count']}\",\n",
    "            variant=\"contained\",\n",
    "            color=\"primary\",\n",
    "            disable_ripple=True,\n",
    "            on_click=handle_click,\n",
    "        )\n",
    "    );\n",
    "\n",
    "@component\n",
    "def App2():\n",
    "    #count, set_count = use_state(0)\n",
    "    data = use_tracked(state)\n",
    "    \n",
    "    def handle_click(e):\n",
    "        state['count2'] += 1\n",
    "    \n",
    "    return div(\n",
    "        Typography(\"Mon titre\", variant=\"h3\"),\n",
    "        *(Button(\n",
    "            f\"mon bouton: {data['count2']}\",\n",
    "            variant=\"contained\",\n",
    "            color=\"primary\",\n",
    "            disable_ripple=True,\n",
    "            on_click=handle_click,\n",
    "        ) for i in range(data[\"count\"]))\n",
    "    );"
   ]
  },
  {
   "cell_type": "code",
   "execution_count": 5,
   "id": "84b722c6-65fe-4c76-83a5-d5797bf684a1",
   "metadata": {},
   "outputs": [],
   "source": [
    "#App()"
   ]
  },
  {
   "cell_type": "code",
   "execution_count": 6,
   "id": "f7b55939-6446-4d35-9eac-73ea97c7c5c6",
   "metadata": {
    "tags": []
   },
   "outputs": [],
   "source": [
    "#App2()"
   ]
  },
  {
   "cell_type": "code",
   "execution_count": 8,
   "id": "32732e03-bf07-4e88-a9e7-5be35eef6ce0",
   "metadata": {},
   "outputs": [],
   "source": [
    "@component\n",
    "def SliderApp():\n",
    "    #count, set_count = use_state(0)\n",
    "    data = use_tracked(state)\n",
    "    \n",
    "    def handle_change(event, value, active_thumb):\n",
    "        print(\"ok\")\n",
    "        state['count'] = value\n",
    "        pass\n",
    "    \n",
    "    return Slider(\n",
    "        value=data['count'],\n",
    "        variant=\"contained\",\n",
    "        color=\"primary\",\n",
    "        on_change=handle_change,\n",
    "    );"
   ]
  },
  {
   "cell_type": "code",
   "execution_count": 2,
   "id": "a66243f8-8141-466c-914b-8dc2124ed7c6",
   "metadata": {
    "tags": []
   },
   "outputs": [],
   "source": [
    "#SliderApp()"
   ]
  },
  {
   "cell_type": "code",
   "execution_count": 9,
   "id": "3d15c127-9092-43dd-8acd-13fab52c238f",
   "metadata": {},
   "outputs": [],
   "source": [
    "@component\n",
    "def SliderApp():\n",
    "    #count, set_count = use_state(0)\n",
    "    data = use_tracked(state)\n",
    "    \n",
    "    def handle_change(event, value, active_thumb):\n",
    "        print(\"ok\")\n",
    "        state['count'] = value\n",
    "        pass\n",
    "    \n",
    "    return Slider(\n",
    "        value=data['count'],\n",
    "        variant=\"contained\",\n",
    "        color=\"primary\",\n",
    "        on_change=handle_change,\n",
    "    );"
   ]
  },
  {
   "cell_type": "code",
   "execution_count": 86,
   "id": "edbbaf14-50d2-4f91-bd65-1c8c88070342",
   "metadata": {},
   "outputs": [],
   "source": [
    "dico = {\"a\": \"a\"}"
   ]
  },
  {
   "cell_type": "code",
   "execution_count": 87,
   "id": "4003f04e-e588-4273-afc8-9932fe8cbf9a",
   "metadata": {},
   "outputs": [],
   "source": [
    "from weakref import finalize"
   ]
  },
  {
   "cell_type": "code",
   "execution_count": 11,
   "id": "4a62a334-2aac-4ab6-83ef-46f4acf80fd6",
   "metadata": {
    "tags": []
   },
   "outputs": [
    {
     "data": {
      "text/plain": [
       "{'count': 28}"
      ]
     },
     "execution_count": 11,
     "metadata": {},
     "output_type": "execute_result"
    }
   ],
   "source": [
    "state"
   ]
  },
  {
   "cell_type": "code",
   "execution_count": 10,
   "id": "b710ba0d-6ce2-4a34-a2de-4d6ab4f89858",
   "metadata": {},
   "outputs": [],
   "source": [
    "from pret.render import rendered_view_refs"
   ]
  },
  {
   "cell_type": "code",
   "execution_count": 13,
   "id": "490b3dc4-aa69-4f07-910c-a4bf0fad5d6c",
   "metadata": {},
   "outputs": [
    {
     "name": "stdout",
     "output_type": "stream",
     "text": [
      "57155\n"
     ]
    }
   ],
   "source": [
    "for ref in rendered_view_refs:\n",
    "    try:\n",
    "        print(len(ref().data))\n",
    "    except:\n",
    "        pass"
   ]
  },
  {
   "cell_type": "code",
   "execution_count": 7,
   "id": "b4c470af-36b4-4981-8c98-4ab22c568a23",
   "metadata": {},
   "outputs": [],
   "source": [
    "#App()"
   ]
  },
  {
   "cell_type": "code",
   "execution_count": 12,
   "id": "e7bfb191-9f1d-4d05-93f8-84734899b657",
   "metadata": {},
   "outputs": [
    {
     "name": "stdout",
     "output_type": "stream",
     "text": [
      "DELETING VIEW <pret.render.PretView object at 0x10879e010>\n"
     ]
    },
    {
     "data": {
      "text/plain": [
       "0"
      ]
     },
     "execution_count": 12,
     "metadata": {},
     "output_type": "execute_result"
    }
   ],
   "source": [
    "import gc\n",
    "gc.collect()"
   ]
  },
  {
   "cell_type": "code",
   "execution_count": null,
   "id": "10e56e67-e489-401f-ad83-a1853c174a8a",
   "metadata": {},
   "outputs": [],
   "source": [
    "from pret."
   ]
  },
  {
   "cell_type": "code",
   "execution_count": 18,
   "id": "14df4686-2db6-4a8c-93a3-3b4d85ea4324",
   "metadata": {},
   "outputs": [
    {
     "name": "stdout",
     "output_type": "stream",
     "text": [
      "12 19\n"
     ]
    },
    {
     "ename": "NameError",
     "evalue": "name 'obj' is not defined",
     "output_type": "error",
     "traceback": [
      "\u001B[0;31m---------------------------------------------------------------------------\u001B[0m",
      "\u001B[0;31mNameError\u001B[0m                                 Traceback (most recent call last)",
      "Cell \u001B[0;32mIn[18], line 1\u001B[0m\n\u001B[0;32m----> 1\u001B[0m \u001B[38;5;28;01mdel\u001B[39;00m \u001B[43mobj\u001B[49m\n",
      "\u001B[0;31mNameError\u001B[0m: name 'obj' is not defined"
     ]
    }
   ],
   "source": [
    "del obj"
   ]
  },
  {
   "cell_type": "code",
   "execution_count": 17,
   "id": "36ceda2e-e1aa-47c3-b68e-a60d7fd59479",
   "metadata": {},
   "outputs": [
    {
     "name": "stdout",
     "output_type": "stream",
     "text": [
      "14 18\n"
     ]
    }
   ],
   "source": [
    "#App()"
   ]
  },
  {
   "cell_type": "code",
   "execution_count": 27,
   "id": "e6d393d8-ed54-45e1-a29b-062208561c1b",
   "metadata": {},
   "outputs": [],
   "source": [
    "del pickler"
   ]
  },
  {
   "cell_type": "code",
   "execution_count": 28,
   "id": "483a7328-2344-43cc-a079-08691bafb763",
   "metadata": {},
   "outputs": [
    {
     "name": "stdout",
     "output_type": "stream",
     "text": [
      "26 29\n",
      "DELETED !\n"
     ]
    },
    {
     "data": {
      "text/plain": [
       "0"
      ]
     },
     "execution_count": 28,
     "metadata": {},
     "output_type": "execute_result"
    }
   ],
   "source": [
    "import gc\n",
    "gc.collect()"
   ]
  },
  {
   "cell_type": "code",
   "execution_count": 18,
   "id": "f67f1a76-ac9e-4a92-896a-cc535cb4fe1d",
   "metadata": {},
   "outputs": [
    {
     "name": "stdout",
     "output_type": "stream",
     "text": [
      "13 19\n"
     ]
    }
   ],
   "source": [
    "#App()"
   ]
  },
  {
   "cell_type": "code",
   "execution_count": 14,
   "id": "0d68fda5-55f8-443f-b396-78b0d61f2d51",
   "metadata": {},
   "outputs": [],
   "source": [
    "from pret.serialize import shared_pickler"
   ]
  },
  {
   "cell_type": "code",
   "execution_count": 15,
   "id": "0f86779e-b5b2-4181-82c3-4a1c19749aa9",
   "metadata": {},
   "outputs": [],
   "source": [
    "from pret.react import p, b, h2, button, div"
   ]
  },
  {
   "cell_type": "code",
   "execution_count": 16,
   "id": "a4b16780-0358-4928-bf1a-fc4c60cf5b1d",
   "metadata": {},
   "outputs": [],
   "source": [
    "from pret.state import proxy, get_manager\n",
    "from pret.render import use_state, use_tracked, component, server_only\n",
    "import addon\n",
    "from pret.serialize import shared_pickler\n",
    "\n",
    "addon_dico = addon.__dict__\n",
    "\n",
    "state = proxy({\"foo\": \"mes valeurs\", \"nested\": {\"a\": 1, \"b\": 2}}, remote_sync=True)"
   ]
  },
  {
   "cell_type": "code",
   "execution_count": 1,
   "id": "6fd37442-2c21-4b35-891e-f8dbfe0f464d",
   "metadata": {},
   "outputs": [
    {
     "ename": "NameError",
     "evalue": "name 'server_only' is not defined",
     "output_type": "error",
     "traceback": [
      "\u001B[0;31m---------------------------------------------------------------------------\u001B[0m",
      "\u001B[0;31mNameError\u001B[0m                                 Traceback (most recent call last)",
      "Cell \u001B[0;32mIn[1], line 1\u001B[0m\n\u001B[0;32m----> 1\u001B[0m \u001B[38;5;129m@server_only\u001B[39m\n\u001B[1;32m      2\u001B[0m \u001B[38;5;28;01mdef\u001B[39;00m \u001B[38;5;21mcompute_value_on_server\u001B[39m(x):\n\u001B[1;32m      3\u001B[0m     \u001B[38;5;28;01mreturn\u001B[39;00m x \u001B[38;5;241m+\u001B[39m \u001B[38;5;241m1\u001B[39m\n\u001B[1;32m      5\u001B[0m \u001B[38;5;129m@component\u001B[39m\n\u001B[1;32m      6\u001B[0m \u001B[38;5;28;01mdef\u001B[39;00m \u001B[38;5;21mMyApp\u001B[39m(\u001B[38;5;241m*\u001B[39mchildren, server_func, \u001B[38;5;241m*\u001B[39m\u001B[38;5;241m*\u001B[39mprops):\n",
      "\u001B[0;31mNameError\u001B[0m: name 'server_only' is not defined"
     ]
    }
   ],
   "source": [
    "@server_only\n",
    "def compute_value_on_server(x):\n",
    "    return x + 1\n",
    "\n",
    "@component\n",
    "def MyApp(*children, server_func, **props):\n",
    "    print(len(addon.__dict__))\n",
    "    \n",
    "    value, set_value = use_state(4)\n",
    "    data = use_tracked(state, notify_in_sync=False)\n",
    "\n",
    "    async def async_on_click(events):\n",
    "        state[\"nested\"][\"a\"] = await server_func(state[\"nested\"][\"a\"])\n",
    "        #state[\"nested\"][\"a\"] += 1\n",
    "\n",
    "    return div(\n",
    "        h2(\"Mon titre\"),\n",
    "        b(\"En gras\"),\n",
    "        p(data[\"foo\"]),\n",
    "        button(f\"cliquer pour augmenter: value vaut {data['nested']['a']}\",\n",
    "               on_click=async_on_click, ), )\n",
    "\n",
    "#MyApp(\"ceci est mon texte\", server_func=compute_value_on_server)"
   ]
  },
  {
   "cell_type": "code",
   "execution_count": 6,
   "id": "1d391fff-5ccf-4314-86e5-52321bdea44b",
   "metadata": {},
   "outputs": [],
   "source": [
    "state[\"foo\"] = \"Voici un bouton !\""
   ]
  },
  {
   "cell_type": "code",
   "execution_count": 6,
   "id": "2719eed8-ad2d-40da-bc26-f041f596a992",
   "metadata": {},
   "outputs": [
    {
     "ename": "ImportError",
     "evalue": "cannot import name 'P' from 'pret.render' (/Users/perceval/Development/pret/pret/render.py)",
     "output_type": "error",
     "traceback": [
      "\u001B[0;31m---------------------------------------------------------------------------\u001B[0m",
      "\u001B[0;31mImportError\u001B[0m                               Traceback (most recent call last)",
      "Cell \u001B[0;32mIn[6], line 2\u001B[0m\n\u001B[1;32m      1\u001B[0m \u001B[38;5;28;01mfrom\u001B[39;00m \u001B[38;5;21;01mpret\u001B[39;00m\u001B[38;5;21;01m.\u001B[39;00m\u001B[38;5;21;01mstate\u001B[39;00m \u001B[38;5;28;01mimport\u001B[39;00m proxy, get_manager\n\u001B[0;32m----> 2\u001B[0m \u001B[38;5;28;01mfrom\u001B[39;00m \u001B[38;5;21;01mpret\u001B[39;00m\u001B[38;5;21;01m.\u001B[39;00m\u001B[38;5;21;01mrender\u001B[39;00m \u001B[38;5;28;01mimport\u001B[39;00m use_state, use_tracked, component, server_only, P, H1, Button\n\u001B[1;32m      3\u001B[0m \u001B[38;5;28;01mimport\u001B[39;00m \u001B[38;5;21;01maddon\u001B[39;00m\n\u001B[1;32m      5\u001B[0m addon_dico \u001B[38;5;241m=\u001B[39m addon\u001B[38;5;241m.\u001B[39m\u001B[38;5;18m__dict__\u001B[39m\n",
      "\u001B[0;31mImportError\u001B[0m: cannot import name 'P' from 'pret.render' (/Users/perceval/Development/pret/pret/render.py)"
     ]
    }
   ],
   "source": [
    "from pret.state import proxy, get_manager\n",
    "from pret.render import use_state, use_tracked, component, server_only, P, H1, Button\n",
    "import addon\n",
    "\n",
    "addon_dico = addon.__dict__\n",
    "\n",
    "state = proxy({\"foo\": \"mes valeurs\", \"nested\": {\"a\": 1, \"b\": 2}}, remote_sync=True)\n",
    "\n",
    "@server_only\n",
    "def compute_value_on_server(x):\n",
    "    return x + 1\n",
    "\n",
    "@component\n",
    "def MyApp(*children, server_func, **props):\n",
    "    print(len(addon.__dict__))\n",
    "    \n",
    "    value, set_value = use_state(4)\n",
    "    data = use_tracked(state, notify_in_sync=False)\n",
    "\n",
    "    async def async_on_click(events):\n",
    "        state[\"nested\"][\"a\"] = await server_func(state[\"nested\"][\"a\"])\n",
    "        #state[\"nested\"][\"a\"] += 1\n",
    "\n",
    "    return P(\n",
    "        H1(\"Mon titre\"),\n",
    "        data[\"foo\"],\n",
    "        Button(f\"cliquer pour augmenter: value vaut {data['nested']['a']}\",\n",
    "               on_click=async_on_click, ), )\n",
    "\n",
    "#MyApp(\"ceci est mon texte\", server_func=compute_value_on_server).reload('dump.pkl')"
   ]
  },
  {
   "cell_type": "code",
   "execution_count": 2,
   "id": "2d20cc91-e9ba-43e6-bb3e-b410d3d394e6",
   "metadata": {},
   "outputs": [],
   "source": [
    "import base64\n",
    "from pret.serialize import dumps\n",
    "\n",
    "class Dumper:\n",
    "    def __init__(self, x):\n",
    "        self.x = x\n",
    "        \n",
    "    def _repr_mimebundle_(self, *args, **kwargs):\n",
    "        plaintext = repr(self)\n",
    "        serialized = base64.encodebytes(\n",
    "            (\n",
    "                dumps(\n",
    "                    self.x,\n",
    "                    pickled_modules=(\n",
    "                        \"pret\",\n",
    "                        \"pret.serialize\",\n",
    "                        \"pret.state\",\n",
    "                        \"pret.render\",\n",
    "                        \"pret.bridge\",\n",
    "                        \"pret.manager\",\n",
    "                        \"addon\",\n",
    "                    ),\n",
    "                    recurse=True,\n",
    "                )\n",
    "            )\n",
    "        ).decode()\n",
    "        print(\"SERIALIZED\", len(serialized))\n",
    "        \n",
    "        if len(plaintext) > 110:\n",
    "            plaintext = plaintext[:110] + \"…\"\n",
    "        return {\n",
    "            \"text/plain\": plaintext,\n",
    "            \"application/vnd.pret+json\": {\n",
    "                \"detach\": False,\n",
    "                \"version_major\": 0,\n",
    "                \"version_minor\": 0,\n",
    "                \"view_data\": {\n",
    "                    \"serialized\": serialized,\n",
    "                    \"bundled_modules\": {},  # bundled_modules,\n",
    "                },\n",
    "            },\n",
    "        }"
   ]
  },
  {
   "cell_type": "code",
   "execution_count": 3,
   "id": "0b1ac69b-90db-4818-96ff-1db572ad6aae",
   "metadata": {},
   "outputs": [
    {
     "name": "stdout",
     "output_type": "stream",
     "text": [
      "499\n",
      "25\n",
      "5\n"
     ]
    }
   ],
   "source": [
    "import base64\n",
    "import io\n",
    "from pret.serialize import PretPickler\n",
    "from dill import Unpickler as DillUnpickler, Pickler as DillPickler\n",
    "\n",
    "dump_file = io.BytesIO()\n",
    "shared_pickler = PretPickler(dump_file)\n",
    "\n",
    "def dumps(\n",
    "    obj,\n",
    "    byref=None,\n",
    "    recurse=None,\n",
    "    no_recurse_in=None,\n",
    "    pickled_modules=(),\n",
    "):\n",
    "    dump_file.seek(0)\n",
    "    dump_file.truncate()\n",
    "\n",
    "    shared_pickler.dump(obj)\n",
    "\n",
    "    return dump_file.getvalue()\n",
    "\n",
    "class Unpickler(DillUnpickler):\n",
    "    \"\"\"python's Unpickler extended to interpreter sessions and more types\"\"\"\n",
    "\n",
    "    from dill.settings import settings\n",
    "\n",
    "    def __init__(\n",
    "        self, *, fix_imports=True, encoding=\"ASCII\", errors=\"strict\", buffers=None\n",
    "    ):\n",
    "        self.file = io.BytesIO()\n",
    "        super().__init__(\n",
    "            self.file,\n",
    "            fix_imports=fix_imports,\n",
    "            encoding=encoding,\n",
    "            errors=errors,\n",
    "            buffers=buffers,\n",
    "        )\n",
    "\n",
    "    def load_data(\n",
    "        self, data, buffers=None\n",
    "    ):  # NOTE: if settings change, need to update attributes\n",
    "        # Add the content of file to self.file\n",
    "        self.file.seek(0)\n",
    "        self.file.truncate()\n",
    "        self.file.write(data)\n",
    "        self.file.seek(0)\n",
    "        return self.load()\n",
    "\n",
    "\n",
    "unpickler = Unpickler()\n",
    "\n",
    "def loads(data):\n",
    "    return unpickler.load_data(data)\n",
    "\n",
    "\n",
    "import pickle\n",
    "import io\n",
    "\n",
    "class CustomClass:\n",
    "    def __init__(self, value):\n",
    "        self.value = value\n",
    "\n",
    "# Create some objects\n",
    "obj1 = CustomClass(1)\n",
    "obj2 = CustomClass(2)\n",
    "obj3 = obj1\n",
    "\n",
    "x1 = dumps(obj1)\n",
    "print(len(x1))\n",
    "\n",
    "x2 = dumps(obj2)\n",
    "print(len(x2))\n",
    "\n",
    "x3 = dumps(obj1)\n",
    "print(len(x3))"
   ]
  },
  {
   "cell_type": "code",
   "execution_count": 23,
   "id": "887e5cf2-40b1-41c8-a2d5-5e51d358fa7c",
   "metadata": {},
   "outputs": [
    {
     "data": {
      "text/plain": [
       "<function pret.state.subscribe.<locals>.unsubscribe()>"
      ]
     },
     "execution_count": 23,
     "metadata": {},
     "output_type": "execute_result"
    }
   ],
   "source": [
    "from pret.state import proxy, tracked, subscribe, snapshot, WeakValueDictionary, is_changed\n",
    "\n",
    "class ProxiedClass:\n",
    "    def __new__(cls, *args, **kwargs):\n",
    "        instance = super().__new__(cls, *args, **kwargs)\n",
    "        instance.__dict__['_state'] = proxy({\"foo\": \"mes valeurs\", \"nested\": {\"a\": 1, \"b\": 2}})\n",
    "        return instance\n",
    "    \n",
    "    def subscribe(self, callback):\n",
    "        return subscribe(self.__dict__['_state'], callback)\n",
    "        \n",
    "    def __getattr__(self, attr):\n",
    "        try:\n",
    "            return self.__dict__['_state'][attr]\n",
    "        except KeyError:\n",
    "            raise AttributeError(attr)\n",
    "    \n",
    "    def __setattr__(self, attr, value):\n",
    "        self.__dict__['_state'][attr] = value\n",
    "        \n",
    "    def __dir__(self):\n",
    "        return tuple(self.__dict__['_state'])\n",
    "        \n",
    "class Zoo(ProxiedClass):\n",
    "    def __init__(self):\n",
    "        self.cows = 3\n",
    "        self.dogs = 2\n",
    "        \n",
    "x = Zoo()\n",
    "x.subscribe(print)"
   ]
  },
  {
   "cell_type": "code",
   "execution_count": 27,
   "id": "c1c2b3d6-db7c-447a-8162-bb46d1d55075",
   "metadata": {},
   "outputs": [
    {
     "name": "stdout",
     "output_type": "stream",
     "text": [
      "TRIGGER LISTENER ! ['__setitem__', ['cows'], 5]\n",
      "[['__setitem__', ['cows'], 5]]\n"
     ]
    }
   ],
   "source": [
    "x.cows = 5"
   ]
  },
  {
   "cell_type": "code",
   "execution_count": null,
   "id": "e186571c-6541-45bf-9885-0b897f405ef9",
   "metadata": {},
   "outputs": [],
   "source": [
    "from pret.state import patch"
   ]
  },
  {
   "cell_type": "code",
   "execution_count": null,
   "id": "f44ee935-1917-4025-bc6c-46c6dd340bad",
   "metadata": {},
   "outputs": [
    {
     "data": {
      "text/plain": [
       "{'foo': 'mes valeurs', 'nested': {'a': 1, 'b': 2}}"
      ]
     },
     "execution_count": 44,
     "metadata": {},
     "output_type": "execute_result"
    }
   ],
   "source": [
    "state = proxy({\"foo\": \"mes valeurs\", \"nested\": {\"a\": 1, \"b\": 2}})\n",
    "subscribe(state, print, notify_in_sync=True)\n",
    "state"
   ]
  },
  {
   "cell_type": "code",
   "execution_count": null,
   "id": "bbf3b248-cf9c-403f-add7-f6414e164998",
   "metadata": {},
   "outputs": [],
   "source": [
    "patch(state, [['__setitem__', ['foo'], {'ok': 1, 'ko': 0}]])"
   ]
  },
  {
   "cell_type": "code",
   "execution_count": null,
   "id": "056cd84c-bdc0-47c6-93d0-fa569ce868f1",
   "metadata": {},
   "outputs": [],
   "source": [
    "state"
   ]
  },
  {
   "cell_type": "code",
   "execution_count": null,
   "id": "f141b6fc-2f7c-4c73-8981-dc5efbafa3f4",
   "metadata": {},
   "outputs": [
    {
     "data": {
      "text/plain": [
       "{'foo': {'ok': 1, 'ko': 0}, 'nested': {'a': 1, 'b': 2}}"
      ]
     },
     "execution_count": 46,
     "metadata": {},
     "output_type": "execute_result"
    }
   ],
   "source": [
    "state"
   ]
  },
  {
   "cell_type": "code",
   "execution_count": null,
   "id": "88ebd50f-afb1-45f5-b49c-5f63514c2969",
   "metadata": {},
   "outputs": [
    {
     "name": "stdout",
     "output_type": "stream",
     "text": [
      "AFFECTED !\n",
      "Affected({'nested'}, set())\n",
      "DONE\n",
      "[['__setitem__', ['nested', 'a'], 3]]\n"
     ]
    }
   ],
   "source": [
    "from pret.state import proxy, subscribe, tracked, snapshot, WeakKeyDictionary, is_changed\n",
    "\n",
    "state = proxy({\"foo\": \"mes valeurs\", \"nested\": {\"a\": 1, \"b\": 2}})\n",
    "subscribe(state, print, notify_in_sync=True)\n",
    "affected = WeakKeyDictionary()\n",
    "snap_1 = snapshot(state)\n",
    "tracked_state_1 = tracked(snap_1, affected)\n",
    "snap_2 = snapshot(state)\n",
    "tracked_state_2 = tracked(snap_2, affected)\n",
    "x = tracked_state_1[\"nested\"]\n",
    "print(\"AFFECTED !\")\n",
    "for a in affected.values():\n",
    "    print(a)\n",
    "print(\"DONE\")\n",
    "state[\"nested\"][\"a\"] = 3\n",
    "snap_2 = snapshot(state)"
   ]
  },
  {
   "cell_type": "code",
   "execution_count": null,
   "id": "d8169654-494a-4bc3-80c8-bdee415a737b",
   "metadata": {},
   "outputs": [],
   "source": []
  }
 ],
 "metadata": {
  "kernelspec": {
   "display_name": "pret",
   "language": "python",
   "name": "pret"
  },
  "language_info": {
   "codemirror_mode": {
    "name": "ipython",
    "version": 3
   },
   "file_extension": ".py",
   "mimetype": "text/x-python",
   "name": "python",
   "nbconvert_exporter": "python",
   "pygments_lexer": "ipython3",
   "version": "3.8.18"
  },
  "widgets": {
   "application/vnd.jupyter.widget-state+json": {
    "state": {},
    "version_major": 2,
    "version_minor": 0
   }
  }
 },
 "nbformat": 4,
 "nbformat_minor": 5
}
