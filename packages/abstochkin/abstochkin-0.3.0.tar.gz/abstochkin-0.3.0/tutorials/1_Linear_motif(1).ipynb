{
 "cells": [
  {
   "metadata": {},
   "cell_type": "markdown",
   "source": [
    "https://github.com/alexplaka/AbStochKin/blob/master/docs/Agent-basedKinetics_monograph.pdf\n",
    "section 3.1.1"
   ],
   "id": "1b30fe25626ead56"
  },
  {
   "metadata": {
    "collapsed": true,
    "ExecuteTime": {
     "end_time": "2025-02-19T06:41:43.840694Z",
     "start_time": "2025-02-19T06:41:42.925209Z"
    }
   },
   "cell_type": "code",
   "source": [
    "from abstochkin import AbStochKin\n",
    "from abstochkin.process import Process, RegulatedProcess"
   ],
   "id": "initial_id",
   "outputs": [],
   "execution_count": 1
  },
  {
   "metadata": {
    "ExecuteTime": {
     "end_time": "2025-02-19T06:41:45.127963Z",
     "start_time": "2025-02-19T06:41:45.122933Z"
    }
   },
   "cell_type": "code",
   "source": [
    "k_b = 0.02\n",
    "k_d = 0.02\n",
    "k_s = 1\n",
    "\n",
    "S_max = 20\n",
    "\n",
    "t_max = 700\n",
    "dt = 0.02\n",
    "\n",
    "reps = 1"
   ],
   "id": "5b2723cf56c7994e",
   "outputs": [],
   "execution_count": 2
  },
  {
   "metadata": {
    "ExecuteTime": {
     "end_time": "2025-02-19T06:41:46.554731Z",
     "start_time": "2025-02-19T06:41:46.546443Z"
    }
   },
   "cell_type": "code",
   "source": [
    "# Simulation parameters for S = 0\n",
    "simulation_params = [\n",
    "    dict(processes=[Process.from_string(\" -> S\", k=0),  # dummy process so that S is a known species\n",
    "                    Process.from_string(\" -> R\", k=k_b),\n",
    "                    Process.from_string(\"R -> \", k=k_d)],\n",
    "         p0={'S': 0, \"R\": 0},\n",
    "         t_max=t_max,\n",
    "         dt=dt,\n",
    "         n=reps)\n",
    "]\n",
    "\n",
    "for s in range(1, S_max + 1):\n",
    "    procs = [Process.from_string(\" -> S\", k=0),\n",
    "             Process.from_string(\" -> R\", k=k_b),\n",
    "             RegulatedProcess.from_string(\" -> R\", k=k_s, regulating_species='S', K50=1, nH=1, alpha=1 + s - 1 / s),\n",
    "             Process.from_string(\"R -> \", k=k_d)]\n",
    "    simulation_params.append(dict(processes=procs, p0={'S': s, \"R\": 0}, t_max=t_max, dt=dt, n=reps))\n"
   ],
   "id": "ad9dd9621d409e73",
   "outputs": [],
   "execution_count": 3
  },
  {
   "metadata": {
    "ExecuteTime": {
     "end_time": "2025-02-19T06:41:59.293513Z",
     "start_time": "2025-02-19T06:41:49.253871Z"
    }
   },
   "cell_type": "code",
   "source": [
    "linear_SR = AbStochKin()\n",
    "linear_SR.simulate_series_in_parallel(simulation_params)\n"
   ],
   "id": "f1796636fa6a3586",
   "outputs": [
    {
     "name": "stderr",
     "output_type": "stream",
     "text": [
      "Progress: 100% |\u001B[32m███████████████████████\u001B[0m| n=1/1 [00:02,  2.35s/it]\u001B[0m\n",
      "Progress: 100% |\u001B[32m███████████████████████\u001B[0m| n=1/1 [00:02,  2.70s/it]\u001B[0m\n",
      "Progress: 100% |\u001B[32m███████████████████████\u001B[0m| n=1/1 [00:02,  2.88s/it]\u001B[0m\n",
      "\n",
      "Progress: 100% |\u001B[32m███████████████████████\u001B[0m| n=1/1 [00:03,  3.04s/it]\u001B[0m\n",
      "Progress: 100% |\u001B[32m███████████████████████\u001B[0m| n=1/1 [00:03,  3.21s/it]\u001B[0m\n",
      "Progress: 100% |\u001B[32m███████████████████████\u001B[0m| n=1/1 [00:03,  3.28s/it]\u001B[0m\n",
      "Progress: 100% |\u001B[32m███████████████████████\u001B[0m| n=1/1 [00:03,  3.40s/it]\u001B[0m\n",
      "Progress: 100% |\u001B[32m███████████████████████\u001B[0m| n=1/1 [00:03,  3.49s/it]\u001B[0m\n",
      "Progress: 100% |\u001B[32m███████████████████████\u001B[0m| n=1/1 [00:03,  3.38s/it]\u001B[0m\n",
      "Progress: 100% |\u001B[32m███████████████████████\u001B[0m| n=1/1 [00:03,  3.43s/it]\u001B[0m\n",
      "Progress: 100% |\u001B[32m███████████████████████\u001B[0m| n=1/1 [00:03,  3.46s/it]\u001B[0m\n",
      "Progress: 100% |\u001B[32m███████████████████████\u001B[0m| n=1/1 [00:03,  3.86s/it]\u001B[0m\n",
      "Progress: 100% |\u001B[32m███████████████████████\u001B[0m| n=1/1 [00:03,  3.79s/it]\u001B[0m\n",
      "Progress: 100% |\u001B[32m███████████████████████\u001B[0m| n=1/1 [00:03,  3.63s/it]\u001B[0m\n",
      "Progress: 100% |\u001B[32m███████████████████████\u001B[0m| n=1/1 [00:03,  3.75s/it]\u001B[0m\n",
      "Progress: 100% |\u001B[32m███████████████████████\u001B[0m| n=1/1 [00:02,  2.63s/it]\u001B[0m\n",
      "Progress: 100% |\u001B[32m███████████████████████\u001B[0m| n=1/1 [00:02,  2.47s/it]\u001B[0m\n",
      "Progress: 100% |\u001B[32m███████████████████████\u001B[0m| n=1/1 [00:02,  2.20s/it]\u001B[0m\n",
      "Progress: 100% |\u001B[32m███████████████████████\u001B[0m| n=1/1 [00:02,  2.99s/it]\u001B[0m\n",
      "Progress: 100% |\u001B[32m███████████████████████\u001B[0m| n=1/1 [00:02,  2.83s/it]\u001B[0m\n"
     ]
    }
   ],
   "execution_count": 4
  },
  {
   "metadata": {
    "ExecuteTime": {
     "end_time": "2025-02-22T07:17:19.574979Z",
     "start_time": "2025-02-22T07:17:18.502828Z"
    }
   },
   "cell_type": "code",
   "source": [
    "from abstochkin import AbStochKin\n",
    "from abstochkin.process import Process, RegulatedProcess\n",
    "\n",
    "simulation_params = []\n",
    "for α in range(2, 4):\n",
    "    procs = [\n",
    "        Process.from_string(\" -> R\", k=0.02),\n",
    "        RegulatedProcess.from_string(\" -> R\", k=1, regulating_species='S', K50=1, nH=1, alpha=α),\n",
    "        Process.from_string(\"R -> \", k=0.02)\n",
    "    ]\n",
    "    simulation_params.append(\n",
    "        dict(\n",
    "            processes=procs,\n",
    "            p0={'S': 10, \"R\": 0},\n",
    "            t_max=10,\n",
    "            dt=0.01,\n",
    "            n=10\n",
    "        )\n",
    "    )\n",
    "\n",
    "SR = AbStochKin()\n",
    "SR.simulate_series_in_parallel(simulation_params)"
   ],
   "id": "af62e95eadaf1d0d",
   "outputs": [
    {
     "name": "stderr",
     "output_type": "stream",
     "text": [
      "Progress: 100% |\u001B[32m█████████████████████\u001B[0m| n=10/10 [00:00, 12.36it/s]\u001B[0m\n",
      "Progress: 100% |\u001B[32m█████████████████████\u001B[0m| n=10/10 [00:00, 11.87it/s]\u001B[0m\n"
     ]
    }
   ],
   "execution_count": 2
  }
 ],
 "metadata": {
  "kernelspec": {
   "display_name": "Python 3",
   "language": "python",
   "name": "python3"
  },
  "language_info": {
   "codemirror_mode": {
    "name": "ipython",
    "version": 2
   },
   "file_extension": ".py",
   "mimetype": "text/x-python",
   "name": "python",
   "nbconvert_exporter": "python",
   "pygments_lexer": "ipython2",
   "version": "2.7.6"
  }
 },
 "nbformat": 4,
 "nbformat_minor": 5
}
