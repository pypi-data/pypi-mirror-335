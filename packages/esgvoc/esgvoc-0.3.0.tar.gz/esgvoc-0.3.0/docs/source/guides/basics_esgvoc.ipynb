{
 "cells": [
  {
   "cell_type": "code",
   "execution_count": 1,
   "id": "fb748320-b986-4887-9cfa-a7e6e7a374b5",
   "metadata": {},
   "outputs": [
    {
     "data": {
      "text/plain": [
       "datetime.datetime(2025, 3, 10, 10, 50, 58, 666709)"
      ]
     },
     "execution_count": 1,
     "metadata": {},
     "output_type": "execute_result"
    }
   ],
   "source": [
    "from datetime import datetime\n",
    "datetime.now()"
   ]
  },
  {
   "cell_type": "markdown",
   "id": "794cd75b-1cf5-430b-a95a-f855cccc8347",
   "metadata": {},
   "source": [
    "# ESGVOC library tutorial"
   ]
  },
  {
   "cell_type": "markdown",
   "id": "9962fdb5-2b8f-415c-97b3-640453358145",
   "metadata": {},
   "source": [
    "prerequesite:\n",
    "```bash\n",
    "pip install esgvoc  \n",
    "esgvoc install # in order to get the latest CVs\n",
    "```\n"
   ]
  },
  {
   "cell_type": "markdown",
   "id": "0c330e97-7a5d-439d-8c24-3754f7feb20e",
   "metadata": {},
   "source": [
    "\n",
    "The esgvoc library supports a wide range of use cases, including:\n",
    "* Listing:  \n",
    "All data descriptors from the universe.  \n",
    "All terms of one data descriptor from the universe.  \n",
    "All available projects.  \n",
    "All collections from a project.  \n",
    "All terms from a project.  \n",
    "All terms of a collection from a project.\n",
    "\n",
    "* Validating an input string against:  \n",
    "All terms of a project.  \n",
    "All terms of a collection from a project.  \n",
    "All terms from all projects (cross-validation).\n"
   ]
  },
  {
   "cell_type": "markdown",
   "id": "3ef879ff-1ce6-4501-a482-8dbd5663852c",
   "metadata": {},
   "source": [
    "## Universe and projects organization\n",
    "\n",
    "The universe CV (Controlled Vocabularies) follows this organizational pattern:\n",
    "```bash\n",
    "<universe><DataDescriptor><Term>\n",
    "```\n",
    "Similarly, all CVs are organized as:\n",
    "\n",
    "```bash\n",
    "<project><collection><Term>   \n",
    "```\n",
    "\n",
    "## ESGVOC API organization\n",
    "\n",
    "The API functions are sorted as follows:\n",
    "\n",
    "- **get** functions return a list of something (collections from a project, terms from a collection, etc.)\n",
    "- **find** functions try to find terms corresponding to an input string.  \n",
    "- **valid** functions check the compliance of an input string to the DRS of terms."
   ]
  },
  {
   "cell_type": "code",
   "execution_count": 2,
   "id": "3b55898c-7da9-4dba-8a55-c5fb124a7157",
   "metadata": {},
   "outputs": [],
   "source": [
    "import esgvoc.api as ev"
   ]
  },
  {
   "cell_type": "markdown",
   "id": "d45e8691-c96b-4957-8355-cdb7e01db893",
   "metadata": {},
   "source": [
    "## Universe "
   ]
  },
  {
   "cell_type": "markdown",
   "id": "58c622d6-0d5d-4a3b-b319-e71e7aaa0353",
   "metadata": {},
   "source": [
    "### Listing "
   ]
  },
  {
   "cell_type": "code",
   "execution_count": 3,
   "id": "97e2118f-6e64-4de1-bf0a-a9b8492c87c9",
   "metadata": {},
   "outputs": [
    {
     "data": {
      "text/plain": [
       "['physic_index',\n",
       " 'realisation_index',\n",
       " 'temporal_label',\n",
       " 'mip_era',\n",
       " 'horizontal_label',\n",
       " 'directory_date',\n",
       " 'initialisation_index',\n",
       " 'sub_experiment',\n",
       " 'forcing_index',\n",
       " 'consortium',\n",
       " 'license',\n",
       " 'variable',\n",
       " 'frequency',\n",
       " 'source_type',\n",
       " 'activity',\n",
       " 'vertical_label',\n",
       " 'source',\n",
       " 'date',\n",
       " 'branded_variable',\n",
       " 'model_component',\n",
       " 'product',\n",
       " 'institution',\n",
       " 'resolution',\n",
       " 'time_range',\n",
       " 'table',\n",
       " 'variant_label',\n",
       " 'branded_suffix',\n",
       " 'organisation',\n",
       " 'experiment',\n",
       " 'area_label',\n",
       " 'realm',\n",
       " 'grid']"
      ]
     },
     "execution_count": 3,
     "metadata": {},
     "output_type": "execute_result"
    }
   ],
   "source": [
    "ev.get_all_data_descriptors_in_universe()"
   ]
  },
  {
   "cell_type": "code",
   "execution_count": 4,
   "id": "0834b6a9-d337-48f1-8627-14c93803d020",
   "metadata": {},
   "outputs": [
    {
     "data": {
      "text/plain": [
       "[Activity(id='dynvarmip', type='activity', drs_name='DynVarMIP', name='DynVarMIP', long_name='Dynamics and Variability Model Intercomparison Project', url=None, @context='000_context.jsonld', cmip_acronym='DynVarMIP'),\n",
       " Activity(id='lumip', type='activity', drs_name='LUMIP', name='LUMIP', long_name='Land-Use Model Intercomparison Project', url=None, @context='000_context.jsonld', cmip_acronym='LUMIP'),\n",
       " Activity(id='pmip', type='activity', drs_name='PMIP', name='PMIP', long_name='Palaeoclimate Modelling Intercomparison Project', url=None, @context='000_context.jsonld', cmip_acronym='PMIP')]"
      ]
     },
     "execution_count": 4,
     "metadata": {},
     "output_type": "execute_result"
    }
   ],
   "source": [
    "ev.get_all_terms_in_data_descriptor(data_descriptor_id=\"activity\")[:3] \n",
    "# each datadescriptor from the above cell could be use as argument\n",
    "# [:3] just to limit the result with the 3 first one"
   ]
  },
  {
   "cell_type": "code",
   "execution_count": 5,
   "id": "c8e34d36-72e4-47a0-8faa-142cd7f8ca94",
   "metadata": {},
   "outputs": [
    {
     "data": {
      "text/plain": [
       "[Activity(id='aerchemmip', type='activity', drs_name='AerChemMIP', name='AerChemMIP', long_name='Aerosols and Chemistry Model Intercomparison Project', url=None, @context='000_context.jsonld', cmip_acronym='AerChemMIP')]"
      ]
     },
     "execution_count": 5,
     "metadata": {},
     "output_type": "execute_result"
    }
   ],
   "source": [
    "ev.find_terms_in_data_descriptor(data_descriptor_id=\"activity\", term_id=\"aerchemmip\") "
   ]
  },
  {
   "cell_type": "markdown",
   "id": "583d5c8d-040a-4f5a-8199-750c73bf77c0",
   "metadata": {},
   "source": [
    "### Little detour: pydantic model instance return\n"
   ]
  },
  {
   "cell_type": "markdown",
   "id": "34902d37-afc6-4e78-b472-8b16fdcbb0b8",
   "metadata": {},
   "source": [
    "The result of the previous call is a list of instances of a pydantic model of the requested data descriptor. From the above example, the result is an **Activity** object that can be query directly in Python."
   ]
  },
  {
   "cell_type": "code",
   "execution_count": 6,
   "id": "a4525ed1-3518-491a-b263-271db19b5b59",
   "metadata": {},
   "outputs": [
    {
     "name": "stdout",
     "output_type": "stream",
     "text": [
      "aerchemmip\n",
      "AerChemMIP\n",
      "Aerosols and Chemistry Model Intercomparison Project\n",
      "id='aerchemmip' type='activity' drs_name='AerChemMIP' name='AerChemMIP' long_name='Aerosols and Chemistry Model Intercomparison Project' url=None @context='000_context.jsonld' cmip_acronym='AerChemMIP'\n"
     ]
    }
   ],
   "source": [
    "my_activity = ev.find_terms_in_data_descriptor(data_descriptor_id=\"activity\", term_id=\"aerchemmip\")[0]\n",
    "print(my_activity.id)\n",
    "print(my_activity.drs_name)\n",
    "print(my_activity.long_name)\n",
    "print(my_activity)\n"
   ]
  },
  {
   "cell_type": "code",
   "execution_count": 7,
   "id": "c94cdccb-73dd-4483-ab0c-29a33ddbae53",
   "metadata": {},
   "outputs": [
    {
     "data": {
      "text/plain": [
       "[Activity(id='aerchemmip', type='activity', drs_name='AerChemMIP', name='AerChemMIP', long_name='Aerosols and Chemistry Model Intercomparison Project', url=None, @context='000_context.jsonld', cmip_acronym='AerChemMIP')]"
      ]
     },
     "execution_count": 7,
     "metadata": {},
     "output_type": "execute_result"
    }
   ],
   "source": [
    "ev.find_terms_in_universe(term_id=\"aerchemmip\") # give the same result as above"
   ]
  },
  {
   "cell_type": "markdown",
   "id": "32ddd1d3-8b4d-4e46-9963-32a8fd3b099d",
   "metadata": {},
   "source": [
    "## Project example: CMIP6plus"
   ]
  },
  {
   "cell_type": "code",
   "execution_count": 8,
   "id": "d12f6c7e-081d-42eb-922f-64e84a999e26",
   "metadata": {},
   "outputs": [
    {
     "data": {
      "text/plain": [
       "['cmip6', 'cmip6plus']"
      ]
     },
     "execution_count": 8,
     "metadata": {},
     "output_type": "execute_result"
    }
   ],
   "source": [
    "ev.get_all_projects()"
   ]
  },
  {
   "cell_type": "code",
   "execution_count": 9,
   "id": "d92926f3-7494-4219-9f74-eb5dabe5a134",
   "metadata": {},
   "outputs": [
    {
     "data": {
      "text/plain": [
       "['member_id',\n",
       " 'activity_id',\n",
       " 'mip_era',\n",
       " 'institution_id',\n",
       " 'source_id',\n",
       " 'time_range',\n",
       " 'version',\n",
       " 'table_id',\n",
       " 'grid_label',\n",
       " 'experiment_id',\n",
       " 'variable_id']"
      ]
     },
     "execution_count": 9,
     "metadata": {},
     "output_type": "execute_result"
    }
   ],
   "source": [
    "ev.get_all_collections_in_project(project_id=\"cmip6plus\")"
   ]
  },
  {
   "cell_type": "code",
   "execution_count": 10,
   "id": "8cef4296-b9a6-42a9-8c2b-d52eeda55aa2",
   "metadata": {},
   "outputs": [
    {
     "data": {
      "text/plain": [
       "[Activity(id='cmip', type='activity', drs_name='CMIP', name='CMIP', long_name='CMIP DECK: 1pctCO2, abrupt4xCO2, amip, esm-piControl, esm-historical, historical, and piControl experiments', url='https://gmd.copernicus.org/articles/9/1937/2016/gmd-9-1937-2016.pdf', @context='000_context.jsonld', cmip_acronym='CMIP'),\n",
       " Activity(id='lesfmip', type='activity', drs_name='LESFMIP', name='LESFMIP', long_name='The Large Ensemble Single Forcing Model Intercomparison Project', url='https://www.frontiersin.org/articles/10.3389/fclim.2022.955414/full', @context='000_context.jsonld', cmip_acronym='LESFMIP')]"
      ]
     },
     "execution_count": 10,
     "metadata": {},
     "output_type": "execute_result"
    }
   ],
   "source": [
    "ev.get_all_terms_in_collection(project_id=\"cmip6plus\", collection_id=\"activity_id\")"
   ]
  },
  {
   "cell_type": "code",
   "execution_count": 11,
   "id": "f99b6067-e323-4fa9-b423-d64e072ebe31",
   "metadata": {},
   "outputs": [
    {
     "data": {
      "text/plain": [
       "[Activity(id='cmip', type='activity', drs_name='CMIP', name='CMIP', long_name='CMIP DECK: 1pctCO2, abrupt4xCO2, amip, esm-piControl, esm-historical, historical, and piControl experiments', url='https://gmd.copernicus.org/articles/9/1937/2016/gmd-9-1937-2016.pdf', @context='000_context.jsonld', cmip_acronym='CMIP')]"
      ]
     },
     "execution_count": 11,
     "metadata": {},
     "output_type": "execute_result"
    }
   ],
   "source": [
    "ev.find_terms_in_collection(project_id=\"cmip6plus\", collection_id=\"activity_id\", term_id=\"cmip\")"
   ]
  },
  {
   "cell_type": "markdown",
   "id": "87666d15-64ea-4689-9927-6f5e987da941",
   "metadata": {},
   "source": [
    "## Validating string against the project CV"
   ]
  },
  {
   "cell_type": "code",
   "execution_count": 12,
   "id": "79a4d58e-3560-4c8c-aef3-9a1e80e862a4",
   "metadata": {},
   "outputs": [],
   "source": [
    "valid_string = \"IPSL\" # the standard name of the institution : \"Institut Pierre Simon Laplace\"\n",
    "unvalid_string = \"ipsl\" # NOT the DRS name ! but in that case it is the 'id' of the term "
   ]
  },
  {
   "cell_type": "markdown",
   "id": "9162d7b6-4abb-42cf-921f-2a1cf425c8a8",
   "metadata": {},
   "source": [
    "### Queries based on the project and the collection ids"
   ]
  },
  {
   "cell_type": "code",
   "execution_count": 13,
   "id": "d67f80f0-ed4e-4c15-9c22-0cf00c2b20be",
   "metadata": {},
   "outputs": [
    {
     "data": {
      "text/plain": [
       "[MatchingTerm(project_id='cmip6plus', collection_id='institution_id', term_id='ipsl')]"
      ]
     },
     "execution_count": 13,
     "metadata": {},
     "output_type": "execute_result"
    }
   ],
   "source": [
    "ev.valid_term_in_collection(value=valid_string, project_id=\"cmip6plus\", collection_id=\"institution_id\")"
   ]
  },
  {
   "cell_type": "code",
   "execution_count": 14,
   "id": "16cdaf0a-17b3-4080-a910-6e590cafb0d0",
   "metadata": {},
   "outputs": [
    {
     "data": {
      "text/plain": [
       "[]"
      ]
     },
     "execution_count": 14,
     "metadata": {},
     "output_type": "execute_result"
    }
   ],
   "source": [
    "ev.valid_term_in_collection(value=unvalid_string, project_id=\"cmip6plus\", collection_id=\"institution_id\")"
   ]
  },
  {
   "cell_type": "code",
   "execution_count": 15,
   "id": "3c7a93a7-72b2-485b-ad62-9c95ff5098c2",
   "metadata": {},
   "outputs": [
    {
     "name": "stdout",
     "output_type": "stream",
     "text": [
      "Valid\n"
     ]
    }
   ],
   "source": [
    "if ev.valid_term_in_collection(value=valid_string, project_id=\"cmip6plus\", collection_id=\"institution_id\"):\n",
    "    print(\"Valid\")\n",
    "else:\n",
    "    print(\"Unvalid\")"
   ]
  },
  {
   "cell_type": "code",
   "execution_count": 16,
   "id": "698f1676-036c-4999-91e2-360fe6e3aa2f",
   "metadata": {},
   "outputs": [
    {
     "name": "stdout",
     "output_type": "stream",
     "text": [
      "Unvalid\n"
     ]
    }
   ],
   "source": [
    "if ev.valid_term_in_collection(value=unvalid_string, project_id=\"cmip6plus\", collection_id=\"institution_id\"):\n",
    "    print(\"Valid\")\n",
    "else:\n",
    "    print(\"Unvalid\")"
   ]
  },
  {
   "cell_type": "markdown",
   "id": "065ea31c-8f49-41b3-8a51-71faecaea63c",
   "metadata": {},
   "source": [
    "### Queries based only on the project id"
   ]
  },
  {
   "cell_type": "code",
   "execution_count": 17,
   "id": "44ddebd5-5cfb-4cae-8177-6d58422892c1",
   "metadata": {},
   "outputs": [
    {
     "data": {
      "text/plain": [
       "[MatchingTerm(project_id='cmip6plus', collection_id='institution_id', term_id='ipsl')]"
      ]
     },
     "execution_count": 17,
     "metadata": {},
     "output_type": "execute_result"
    }
   ],
   "source": [
    "ev.valid_term_in_project(value=valid_string, project_id=\"cmip6plus\")"
   ]
  },
  {
   "cell_type": "markdown",
   "id": "0bd502ab-7528-41ad-ad97-7e8f48bff221",
   "metadata": {},
   "source": [
    "### Across all projects\n"
   ]
  },
  {
   "cell_type": "code",
   "execution_count": 18,
   "id": "5b485f84-bb45-49f8-b425-59d848079635",
   "metadata": {},
   "outputs": [
    {
     "name": "stdout",
     "output_type": "stream",
     "text": [
      "[MatchingTerm(project_id='cmip6', collection_id='institution_id', term_id='ipsl'), MatchingTerm(project_id='cmip6plus', collection_id='institution_id', term_id='ipsl')]\n",
      "[]\n"
     ]
    }
   ],
   "source": [
    "print(ev.valid_term_in_all_projects(value=valid_string))\n",
    "print(ev.valid_term_in_all_projects(value=unvalid_string))"
   ]
  }
 ],
 "metadata": {
  "kernelspec": {
   "display_name": ".venv",
   "language": "python",
   "name": "python3"
  },
  "language_info": {
   "codemirror_mode": {
    "name": "ipython",
    "version": 3
   },
   "file_extension": ".py",
   "mimetype": "text/x-python",
   "name": "python",
   "nbconvert_exporter": "python",
   "pygments_lexer": "ipython3",
   "version": "3.12.7"
  }
 },
 "nbformat": 4,
 "nbformat_minor": 5
}
