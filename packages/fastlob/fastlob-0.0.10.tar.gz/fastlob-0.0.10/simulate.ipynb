{
 "cells": [
  {
   "cell_type": "code",
   "execution_count": 5,
   "id": "eadfbd02",
   "metadata": {},
   "outputs": [],
   "source": [
    "import random\n",
    "import time\n",
    "import matplotlib.pyplot as plt\n",
    "from scipy import stats\n",
    "from IPython.display import clear_output\n",
    "\n",
    "import fastlob as lob"
   ]
  },
  {
   "cell_type": "code",
   "execution_count": 6,
   "id": "68e566bb",
   "metadata": {},
   "outputs": [],
   "source": [
    "def generate_orders(T: int, midprice: float):\n",
    "    result = list()\n",
    "    \n",
    "    for _ in range(T):\n",
    "    \n",
    "        n_ask_limits = stats.poisson.rvs(500)\n",
    "        n_bid_limits = stats.poisson.rvs(500)\n",
    "    \n",
    "        ask_limits_price = stats.expon.rvs(loc=midprice, scale=1, size=n_ask_limits)\n",
    "        bid_limits_price = -stats.expon.rvs(loc=midprice, scale=1, size=n_bid_limits) + 2*midprice\n",
    "    \n",
    "        ask_limits_quantities = stats.uniform.rvs(loc=1, scale=100, size=n_ask_limits)\n",
    "        bid_limits_quantities = stats.uniform.rvs(loc=1, scale=100, size=n_bid_limits)\n",
    "    \n",
    "        ask_limits_params = [lob.OrderParams(lob.OrderSide.ASK, p, q) for (p, q) in zip(ask_limits_price, ask_limits_quantities)]\n",
    "        bid_limits_params = [lob.OrderParams(lob.OrderSide.BID, p, q) for (p, q) in zip(bid_limits_price, bid_limits_quantities)]\n",
    "    \n",
    "        n_markets = stats.poisson.rvs(100)\n",
    "    \n",
    "        markets_price = stats.norm.rvs(loc=midprice, scale=2, size=n_markets)\n",
    "        markets_quantities = stats.uniform.rvs(loc=1, scale=100, size=n_markets)\n",
    "        markets_bid_or_ask = [random.choice((lob.OrderSide.BID, lob.OrderSide.ASK)) for _ in range(n_markets)]\n",
    "    \n",
    "        markets_params = [lob.OrderParams(s, p, q) for (s, p, q) in zip(markets_bid_or_ask, markets_price, markets_quantities)]\n",
    "    \n",
    "        orders = ask_limits_params + bid_limits_params + markets_params\n",
    "        random.shuffle(orders)\n",
    "        \n",
    "        result.append(orders)\n",
    "        \n",
    "    return result"
   ]
  },
  {
   "cell_type": "code",
   "execution_count": 7,
   "id": "3a672864",
   "metadata": {},
   "outputs": [],
   "source": [
    "def simulate(orders):\n",
    "    ob = lob.Orderbook('Simulation')\n",
    "    ob.start()\n",
    "\n",
    "    for o in orders:\n",
    "        ob.process_many(o)\n",
    "        ob.render()\n",
    "        time.sleep(0.1)\n",
    "        clear_output(wait=True)\n",
    "        \n",
    "    ob.stop()"
   ]
  },
  {
   "cell_type": "code",
   "execution_count": 8,
   "id": "561b31ef",
   "metadata": {},
   "outputs": [
    {
     "name": "stdout",
     "output_type": "stream",
     "text": [
      "   [ORDER-BOOK Simulation]\n",
      "\n",
      "\u001b[31m   ...(678 more asks)\n",
      " - 658.09 | 460 | 22993.75 | 15131956.9375\n",
      " - 658.08 | 469 | 23227.03 | 15285243.9024\n",
      " - 658.07 | 488 | 24907.82 | 16391089.1074\n",
      " - 658.06 | 490 | 24404.62 | 16059704.2372\n",
      " - 658.05 | 495 | 25068.83 | 16496543.5815\n",
      " - 658.04 | 499 | 24691.68 | 16248113.1072\n",
      " - 658.03 | 172 | 08773.26 | 5773068.2778\n",
      " - 658.02 | 007 | 00335.55 | 220798.6110\n",
      " - 658.01 | 001 | 00019.67 | 12943.0567\n",
      " - 657.99 | 001 | 00001.28 | 842.2272\n",
      "\u001b[0m ~~~~~~~~~~~~~~~~~~~~~~~~~~~~~~~~~~~~~~~\n",
      "\u001b[32m - 657.95 | 007 | 00439.65 | 289267.7175\n",
      " - 657.94 | 009 | 00521.29 | 342977.5426\n",
      " - 657.93 | 208 | 09690.14 | 6375433.8102\n",
      " - 657.92 | 455 | 22840.25 | 15027057.2800\n",
      " - 657.91 | 470 | 23681.66 | 15580400.9306\n",
      " - 657.90 | 483 | 24085.67 | 15845962.2930\n",
      " - 657.89 | 470 | 22964.04 | 15107812.2756\n",
      " - 657.88 | 462 | 24295.74 | 15983681.4312\n",
      " - 657.87 | 438 | 21253.60 | 13982105.8320\n",
      " - 657.86 | 448 | 22266.60 | 14648305.4760\n",
      "   ...(676 more bids)\n",
      "\u001b[0m\u001b[34m\n",
      "    Spread = 0.04\u001b[0m\u001b[34m, Mid-price = 657.970\u001b[0m\n"
     ]
    }
   ],
   "source": [
    "orders = generate_orders(100, 657.98)\n",
    "simulate(orders)"
   ]
  }
 ],
 "metadata": {
  "kernelspec": {
   "display_name": "venv",
   "language": "python",
   "name": "venv"
  },
  "language_info": {
   "codemirror_mode": {
    "name": "ipython",
    "version": 3
   },
   "file_extension": ".py",
   "mimetype": "text/x-python",
   "name": "python",
   "nbconvert_exporter": "python",
   "pygments_lexer": "ipython3",
   "version": "3.12.3"
  }
 },
 "nbformat": 4,
 "nbformat_minor": 5
}
