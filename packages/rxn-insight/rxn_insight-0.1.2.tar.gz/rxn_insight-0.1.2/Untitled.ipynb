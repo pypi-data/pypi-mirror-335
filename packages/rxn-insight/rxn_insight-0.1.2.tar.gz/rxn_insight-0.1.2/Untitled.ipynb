{
 "cells": [
  {
   "cell_type": "code",
   "execution_count": 1,
   "id": "83d52e86",
   "metadata": {},
   "outputs": [],
   "source": [
    "from rxn_insight.reaction import *"
   ]
  },
  {
   "cell_type": "markdown",
   "id": "a364b95a",
   "metadata": {},
   "source": [
    "# 2. Load sample dataset"
   ]
  },
  {
   "cell_type": "code",
   "execution_count": 2,
   "id": "2d10e7f1",
   "metadata": {},
   "outputs": [],
   "source": [
    "df_analyzed = pd.read_parquet(r\"../rxninsights-master/data/uspto.gzip\")"
   ]
  },
  {
   "cell_type": "code",
   "execution_count": 3,
   "id": "f5a1b202",
   "metadata": {},
   "outputs": [
    {
     "data": {
      "text/plain": [
       "Index(['REACTION', 'MAPPED_REACTION', 'SOLVENT', 'REAGENT', 'CATALYST',\n",
       "       'N_REACTANTS', 'N_PRODUCTS', 'FG_REACTANTS', 'FG_PRODUCTS', 'PR_RINGS',\n",
       "       'PP_RINGS', 'PRODUCT_RINGS', 'BYPRODUCTS', 'CLASS', 'NAME', 'REF',\n",
       "       'TAG', 'SCAFFOLD', 'rxn_str_patt_fp', 'rxn_dif_patt_fp',\n",
       "       'rxn_str_morgan_fp', 'rxn_dif_morgan_fp', 'TAG2', 'PRODUCT'],\n",
       "      dtype='object')"
      ]
     },
     "execution_count": 3,
     "metadata": {},
     "output_type": "execute_result"
    }
   ],
   "source": [
    "df_analyzed.keys()"
   ]
  },
  {
   "cell_type": "code",
   "execution_count": 4,
   "id": "01c3e693",
   "metadata": {},
   "outputs": [],
   "source": [
    "r = 'C=Cc1ccccc1.Ic1ccccc1>>C(=C/c1ccccc1)\\c1ccccc1'"
   ]
  },
  {
   "cell_type": "code",
   "execution_count": 5,
   "id": "d2ba75d1",
   "metadata": {},
   "outputs": [
    {
     "data": {
      "image/svg+xml": [
       "<svg xmlns=\"http://www.w3.org/2000/svg\" xmlns:rdkit=\"http://www.rdkit.org/xml\" xmlns:xlink=\"http://www.w3.org/1999/xlink\" version=\"1.1\" baseProfile=\"full\" xml:space=\"preserve\" width=\"800px\" height=\"300px\" viewBox=\"0 0 800 300\">\n",
       "<!-- END OF HEADER -->\n",
       "<rect style=\"opacity:1.0;fill:#FFFFFF;stroke:none\" width=\"800.0\" height=\"300.0\" x=\"0.0\" y=\"0.0\"> </rect>\n",
       "<path class=\"bond-0 atom-0 atom-1\" d=\"M 44.1,137.3 L 72.1,167.7\" style=\"fill:none;fill-rule:evenodd;stroke:#000000;stroke-width:2.0px;stroke-linecap:butt;stroke-linejoin:miter;stroke-opacity:1\"/>\n",
       "<path class=\"bond-0 atom-0 atom-1\" d=\"M 48.6,133.1 L 74.2,160.8\" style=\"fill:none;fill-rule:evenodd;stroke:#000000;stroke-width:2.0px;stroke-linecap:butt;stroke-linejoin:miter;stroke-opacity:1\"/>\n",
       "<path class=\"bond-1 atom-1 atom-2\" d=\"M 72.1,167.7 L 112.4,158.6\" style=\"fill:none;fill-rule:evenodd;stroke:#000000;stroke-width:2.0px;stroke-linecap:butt;stroke-linejoin:miter;stroke-opacity:1\"/>\n",
       "<path class=\"bond-2 atom-2 atom-3\" d=\"M 112.4,158.6 L 124.6,119.2\" style=\"fill:none;fill-rule:evenodd;stroke:#000000;stroke-width:2.0px;stroke-linecap:butt;stroke-linejoin:miter;stroke-opacity:1\"/>\n",
       "<path class=\"bond-2 atom-2 atom-3\" d=\"M 119.3,157.0 L 129.5,124.4\" style=\"fill:none;fill-rule:evenodd;stroke:#000000;stroke-width:2.0px;stroke-linecap:butt;stroke-linejoin:miter;stroke-opacity:1\"/>\n",
       "<path class=\"bond-3 atom-3 atom-4\" d=\"M 124.6,119.2 L 164.9,110.1\" style=\"fill:none;fill-rule:evenodd;stroke:#000000;stroke-width:2.0px;stroke-linecap:butt;stroke-linejoin:miter;stroke-opacity:1\"/>\n",
       "<path class=\"bond-4 atom-4 atom-5\" d=\"M 164.9,110.1 L 192.9,140.4\" style=\"fill:none;fill-rule:evenodd;stroke:#000000;stroke-width:2.0px;stroke-linecap:butt;stroke-linejoin:miter;stroke-opacity:1\"/>\n",
       "<path class=\"bond-4 atom-4 atom-5\" d=\"M 162.8,116.9 L 186.0,142.0\" style=\"fill:none;fill-rule:evenodd;stroke:#000000;stroke-width:2.0px;stroke-linecap:butt;stroke-linejoin:miter;stroke-opacity:1\"/>\n",
       "<path class=\"bond-5 atom-5 atom-6\" d=\"M 192.9,140.4 L 180.7,179.8\" style=\"fill:none;fill-rule:evenodd;stroke:#000000;stroke-width:2.0px;stroke-linecap:butt;stroke-linejoin:miter;stroke-opacity:1\"/>\n",
       "<path class=\"bond-6 atom-6 atom-7\" d=\"M 180.7,179.8 L 140.4,188.9\" style=\"fill:none;fill-rule:evenodd;stroke:#000000;stroke-width:2.0px;stroke-linecap:butt;stroke-linejoin:miter;stroke-opacity:1\"/>\n",
       "<path class=\"bond-6 atom-6 atom-7\" d=\"M 175.8,174.6 L 142.5,182.1\" style=\"fill:none;fill-rule:evenodd;stroke:#000000;stroke-width:2.0px;stroke-linecap:butt;stroke-linejoin:miter;stroke-opacity:1\"/>\n",
       "<path class=\"bond-7 atom-7 atom-2\" d=\"M 140.4,188.9 L 112.4,158.6\" style=\"fill:none;fill-rule:evenodd;stroke:#000000;stroke-width:2.0px;stroke-linecap:butt;stroke-linejoin:miter;stroke-opacity:1\"/>\n",
       "<path d=\"M 70.7,166.2 L 72.1,167.7 L 74.1,167.2\" style=\"fill:none;stroke:#000000;stroke-width:2.0px;stroke-linecap:butt;stroke-linejoin:miter;stroke-opacity:1;\"/>\n",
       "<path d=\"M 124.0,121.1 L 124.6,119.2 L 126.7,118.7\" style=\"fill:none;stroke:#000000;stroke-width:2.0px;stroke-linecap:butt;stroke-linejoin:miter;stroke-opacity:1;\"/>\n",
       "<path d=\"M 162.9,110.5 L 164.9,110.1 L 166.3,111.6\" style=\"fill:none;stroke:#000000;stroke-width:2.0px;stroke-linecap:butt;stroke-linejoin:miter;stroke-opacity:1;\"/>\n",
       "<path d=\"M 191.5,138.9 L 192.9,140.4 L 192.3,142.4\" style=\"fill:none;stroke:#000000;stroke-width:2.0px;stroke-linecap:butt;stroke-linejoin:miter;stroke-opacity:1;\"/>\n",
       "<path d=\"M 181.3,177.9 L 180.7,179.8 L 178.6,180.3\" style=\"fill:none;stroke:#000000;stroke-width:2.0px;stroke-linecap:butt;stroke-linejoin:miter;stroke-opacity:1;\"/>\n",
       "<path d=\"M 142.4,188.5 L 140.4,188.9 L 139.0,187.4\" style=\"fill:none;stroke:#000000;stroke-width:2.0px;stroke-linecap:butt;stroke-linejoin:miter;stroke-opacity:1;\"/>\n",
       "<path d=\"M 216.0,140.0 L 216.0,160.0\" style=\"fill:none;fill-rule:evenodd;stroke:#000000;stroke-width:2.0px;stroke-linecap:butt;stroke-linejoin:miter;stroke-opacity:1\"/>\n",
       "<path d=\"M 206.0,150.0 L 226.0,150.0\" style=\"fill:none;fill-rule:evenodd;stroke:#000000;stroke-width:2.0px;stroke-linecap:butt;stroke-linejoin:miter;stroke-opacity:1\"/>\n",
       "<path class=\"bond-8 atom-8 atom-9\" d=\"M 360.7,149.5 L 341.0,149.5\" style=\"fill:none;fill-rule:evenodd;stroke:#A01EEF;stroke-width:2.0px;stroke-linecap:butt;stroke-linejoin:miter;stroke-opacity:1\"/>\n",
       "<path class=\"bond-8 atom-8 atom-9\" d=\"M 341.0,149.5 L 321.4,149.5\" style=\"fill:none;fill-rule:evenodd;stroke:#000000;stroke-width:2.0px;stroke-linecap:butt;stroke-linejoin:miter;stroke-opacity:1\"/>\n",
       "<path class=\"bond-9 atom-9 atom-10\" d=\"M 321.4,149.5 L 300.7,185.3\" style=\"fill:none;fill-rule:evenodd;stroke:#000000;stroke-width:2.0px;stroke-linecap:butt;stroke-linejoin:miter;stroke-opacity:1\"/>\n",
       "<path class=\"bond-9 atom-9 atom-10\" d=\"M 314.2,149.5 L 297.1,179.1\" style=\"fill:none;fill-rule:evenodd;stroke:#000000;stroke-width:2.0px;stroke-linecap:butt;stroke-linejoin:miter;stroke-opacity:1\"/>\n",
       "<path class=\"bond-10 atom-10 atom-11\" d=\"M 300.7,185.3 L 259.4,185.3\" style=\"fill:none;fill-rule:evenodd;stroke:#000000;stroke-width:2.0px;stroke-linecap:butt;stroke-linejoin:miter;stroke-opacity:1\"/>\n",
       "<path class=\"bond-11 atom-11 atom-12\" d=\"M 259.4,185.3 L 238.8,149.5\" style=\"fill:none;fill-rule:evenodd;stroke:#000000;stroke-width:2.0px;stroke-linecap:butt;stroke-linejoin:miter;stroke-opacity:1\"/>\n",
       "<path class=\"bond-11 atom-11 atom-12\" d=\"M 263.0,179.1 L 245.9,149.5\" style=\"fill:none;fill-rule:evenodd;stroke:#000000;stroke-width:2.0px;stroke-linecap:butt;stroke-linejoin:miter;stroke-opacity:1\"/>\n",
       "<path class=\"bond-12 atom-12 atom-13\" d=\"M 238.8,149.5 L 259.4,113.7\" style=\"fill:none;fill-rule:evenodd;stroke:#000000;stroke-width:2.0px;stroke-linecap:butt;stroke-linejoin:miter;stroke-opacity:1\"/>\n",
       "<path class=\"bond-13 atom-13 atom-14\" d=\"M 259.4,113.7 L 300.7,113.7\" style=\"fill:none;fill-rule:evenodd;stroke:#000000;stroke-width:2.0px;stroke-linecap:butt;stroke-linejoin:miter;stroke-opacity:1\"/>\n",
       "<path class=\"bond-13 atom-13 atom-14\" d=\"M 263.0,119.9 L 297.1,119.9\" style=\"fill:none;fill-rule:evenodd;stroke:#000000;stroke-width:2.0px;stroke-linecap:butt;stroke-linejoin:miter;stroke-opacity:1\"/>\n",
       "<path class=\"bond-14 atom-14 atom-9\" d=\"M 300.7,113.7 L 321.4,149.5\" style=\"fill:none;fill-rule:evenodd;stroke:#000000;stroke-width:2.0px;stroke-linecap:butt;stroke-linejoin:miter;stroke-opacity:1\"/>\n",
       "<path class=\"atom-0\" d=\"M 362.1 145.2 L 363.2 145.2 L 363.2 153.8 L 362.1 153.8 L 362.1 145.2 \" fill=\"#A01EEF\"/>\n",
       "<path class=\"bond-15 atom-15 atom-16\" d=\"M 600.9,134.4 L 628.1,165.6\" style=\"fill:none;fill-rule:evenodd;stroke:#000000;stroke-width:2.0px;stroke-linecap:butt;stroke-linejoin:miter;stroke-opacity:1\"/>\n",
       "<path class=\"bond-15 atom-15 atom-16\" d=\"M 598.6,141.2 L 623.4,169.6\" style=\"fill:none;fill-rule:evenodd;stroke:#000000;stroke-width:2.0px;stroke-linecap:butt;stroke-linejoin:miter;stroke-opacity:1\"/>\n",
       "<path class=\"bond-16 atom-16 atom-17\" d=\"M 628.1,165.6 L 668.6,157.6\" style=\"fill:none;fill-rule:evenodd;stroke:#000000;stroke-width:2.0px;stroke-linecap:butt;stroke-linejoin:miter;stroke-opacity:1\"/>\n",
       "<path class=\"bond-17 atom-17 atom-18\" d=\"M 668.6,157.6 L 695.8,188.7\" style=\"fill:none;fill-rule:evenodd;stroke:#000000;stroke-width:2.0px;stroke-linecap:butt;stroke-linejoin:miter;stroke-opacity:1\"/>\n",
       "<path class=\"bond-17 atom-17 atom-18\" d=\"M 675.6,156.2 L 698.1,181.9\" style=\"fill:none;fill-rule:evenodd;stroke:#000000;stroke-width:2.0px;stroke-linecap:butt;stroke-linejoin:miter;stroke-opacity:1\"/>\n",
       "<path class=\"bond-18 atom-18 atom-19\" d=\"M 695.8,188.7 L 736.3,180.7\" style=\"fill:none;fill-rule:evenodd;stroke:#000000;stroke-width:2.0px;stroke-linecap:butt;stroke-linejoin:miter;stroke-opacity:1\"/>\n",
       "<path class=\"bond-19 atom-19 atom-20\" d=\"M 736.3,180.7 L 749.6,141.7\" style=\"fill:none;fill-rule:evenodd;stroke:#000000;stroke-width:2.0px;stroke-linecap:butt;stroke-linejoin:miter;stroke-opacity:1\"/>\n",
       "<path class=\"bond-19 atom-19 atom-20\" d=\"M 731.6,175.3 L 742.6,143.0\" style=\"fill:none;fill-rule:evenodd;stroke:#000000;stroke-width:2.0px;stroke-linecap:butt;stroke-linejoin:miter;stroke-opacity:1\"/>\n",
       "<path class=\"bond-20 atom-20 atom-21\" d=\"M 749.6,141.7 L 722.5,110.6\" style=\"fill:none;fill-rule:evenodd;stroke:#000000;stroke-width:2.0px;stroke-linecap:butt;stroke-linejoin:miter;stroke-opacity:1\"/>\n",
       "<path class=\"bond-21 atom-21 atom-22\" d=\"M 722.5,110.6 L 682.0,118.5\" style=\"fill:none;fill-rule:evenodd;stroke:#000000;stroke-width:2.0px;stroke-linecap:butt;stroke-linejoin:miter;stroke-opacity:1\"/>\n",
       "<path class=\"bond-21 atom-21 atom-22\" d=\"M 720.2,117.3 L 686.7,123.9\" style=\"fill:none;fill-rule:evenodd;stroke:#000000;stroke-width:2.0px;stroke-linecap:butt;stroke-linejoin:miter;stroke-opacity:1\"/>\n",
       "<path class=\"bond-22 atom-15 atom-23\" d=\"M 600.9,134.4 L 560.4,142.4\" style=\"fill:none;fill-rule:evenodd;stroke:#000000;stroke-width:2.0px;stroke-linecap:butt;stroke-linejoin:miter;stroke-opacity:1\"/>\n",
       "<path class=\"bond-23 atom-23 atom-24\" d=\"M 560.4,142.4 L 533.2,111.3\" style=\"fill:none;fill-rule:evenodd;stroke:#000000;stroke-width:2.0px;stroke-linecap:butt;stroke-linejoin:miter;stroke-opacity:1\"/>\n",
       "<path class=\"bond-23 atom-23 atom-24\" d=\"M 553.4,143.8 L 530.9,118.1\" style=\"fill:none;fill-rule:evenodd;stroke:#000000;stroke-width:2.0px;stroke-linecap:butt;stroke-linejoin:miter;stroke-opacity:1\"/>\n",
       "<path class=\"bond-24 atom-24 atom-25\" d=\"M 533.2,111.3 L 492.7,119.3\" style=\"fill:none;fill-rule:evenodd;stroke:#000000;stroke-width:2.0px;stroke-linecap:butt;stroke-linejoin:miter;stroke-opacity:1\"/>\n",
       "<path class=\"bond-25 atom-25 atom-26\" d=\"M 492.7,119.3 L 479.4,158.3\" style=\"fill:none;fill-rule:evenodd;stroke:#000000;stroke-width:2.0px;stroke-linecap:butt;stroke-linejoin:miter;stroke-opacity:1\"/>\n",
       "<path class=\"bond-25 atom-25 atom-26\" d=\"M 497.4,124.7 L 486.4,157.0\" style=\"fill:none;fill-rule:evenodd;stroke:#000000;stroke-width:2.0px;stroke-linecap:butt;stroke-linejoin:miter;stroke-opacity:1\"/>\n",
       "<path class=\"bond-26 atom-26 atom-27\" d=\"M 479.4,158.3 L 506.5,189.4\" style=\"fill:none;fill-rule:evenodd;stroke:#000000;stroke-width:2.0px;stroke-linecap:butt;stroke-linejoin:miter;stroke-opacity:1\"/>\n",
       "<path class=\"bond-27 atom-27 atom-28\" d=\"M 506.5,189.4 L 547.0,181.5\" style=\"fill:none;fill-rule:evenodd;stroke:#000000;stroke-width:2.0px;stroke-linecap:butt;stroke-linejoin:miter;stroke-opacity:1\"/>\n",
       "<path class=\"bond-27 atom-27 atom-28\" d=\"M 508.8,182.7 L 542.3,176.1\" style=\"fill:none;fill-rule:evenodd;stroke:#000000;stroke-width:2.0px;stroke-linecap:butt;stroke-linejoin:miter;stroke-opacity:1\"/>\n",
       "<path class=\"bond-28 atom-22 atom-17\" d=\"M 682.0,118.5 L 668.6,157.6\" style=\"fill:none;fill-rule:evenodd;stroke:#000000;stroke-width:2.0px;stroke-linecap:butt;stroke-linejoin:miter;stroke-opacity:1\"/>\n",
       "<path class=\"bond-29 atom-28 atom-23\" d=\"M 547.0,181.5 L 560.4,142.4\" style=\"fill:none;fill-rule:evenodd;stroke:#000000;stroke-width:2.0px;stroke-linecap:butt;stroke-linejoin:miter;stroke-opacity:1\"/>\n",
       "<path d=\"M 385.0,150.0 L 449.0,150.0\" style=\"fill:none;fill-rule:evenodd;stroke:#000000;stroke-width:2.0px;stroke-linecap:butt;stroke-linejoin:miter;stroke-opacity:1\"/>\n",
       "<path d=\"M 449.0,150.0 L 444.0,152.9\" style=\"fill:none;fill-rule:evenodd;stroke:#000000;stroke-width:2.0px;stroke-linecap:butt;stroke-linejoin:miter;stroke-opacity:1\"/>\n",
       "<path d=\"M 449.0,150.0 L 444.0,147.1\" style=\"fill:none;fill-rule:evenodd;stroke:#000000;stroke-width:2.0px;stroke-linecap:butt;stroke-linejoin:miter;stroke-opacity:1\"/>\n",
       "</svg>"
      ],
      "text/plain": [
       "<IPython.core.display.SVG object>"
      ]
     },
     "metadata": {},
     "output_type": "display_data"
    }
   ],
   "source": [
    "display(SVG(draw_chemical_reaction(r)))"
   ]
  },
  {
   "cell_type": "code",
   "execution_count": 6,
   "id": "0d3b4d7f",
   "metadata": {},
   "outputs": [],
   "source": [
    "rxn_mapper = RXNMapper()"
   ]
  },
  {
   "cell_type": "code",
   "execution_count": 7,
   "id": "84215a3a",
   "metadata": {},
   "outputs": [],
   "source": [
    "rxn = Reaction(r, rxn_mapper=rxn_mapper)"
   ]
  },
  {
   "cell_type": "code",
   "execution_count": 8,
   "id": "c11bbee2",
   "metadata": {},
   "outputs": [
    {
     "data": {
      "text/plain": [
       "{'REACTION': 'C=Cc1ccccc1.Ic1ccccc1>>C(=C/c1ccccc1)\\\\c1ccccc1',\n",
       " 'MAPPED_REACTION': '[CH2:1]=[CH:2][c:3]1[cH:4][cH:5][cH:6][cH:7][cH:8]1.I[c:9]1[cH:10][cH:11][cH:12][cH:13][cH:14]1>>[CH:1](=[CH:2]/[c:3]1[cH:4][cH:5][cH:6][cH:7][cH:8]1)\\\\[c:9]1[cH:10][cH:11][cH:12][cH:13][cH:14]1',\n",
       " 'N_REACTANTS': 2,\n",
       " 'N_PRODUCTS': 1,\n",
       " 'FG_REACTANTS': ('Aromatic halide', 'Vinyl'),\n",
       " 'FG_PRODUCTS': (),\n",
       " 'PARTICIPATING_RINGS_REACTANTS': ('c1ccccc1',),\n",
       " 'PARTICIPATING_RINGS_PRODUCTS': ('c1ccccc1',),\n",
       " 'ALL_RINGS_PRODUCTS': ('c1ccccc1', 'c1ccccc1'),\n",
       " 'BY-PRODUCTS': ('HI',),\n",
       " 'CLASS': 'C-C Coupling',\n",
       " 'TAG': '55becfded1a3842d5a03bbf3e1610411c659aff0806930400c4db2ef61f9c87f',\n",
       " 'SOLVENT': ('',),\n",
       " 'REAGENT': ('',),\n",
       " 'CATALYST': ('',),\n",
       " 'REF': '',\n",
       " 'NAME': 'Heck terminal vinyl',\n",
       " 'SCAFFOLD': 'C(=C/c1ccccc1)\\\\c1ccccc1'}"
      ]
     },
     "execution_count": 8,
     "metadata": {},
     "output_type": "execute_result"
    }
   ],
   "source": [
    "rxn.get_reaction_info()"
   ]
  },
  {
   "cell_type": "code",
   "execution_count": 9,
   "id": "5d11c97d",
   "metadata": {},
   "outputs": [
    {
     "name": "stderr",
     "output_type": "stream",
     "text": [
      "Loading fingerprints...: 100%|██████████████████████████████████████████████████| 2047/2047 [00:00<00:00, 27763.91it/s]\n",
      "Calculating Tanimoto similarity: 100%|██████████████████████████████████████████| 2047/2047 [00:00<00:00, 53680.34it/s]"
     ]
    },
    {
     "name": "stdout",
     "output_type": "stream",
     "text": [
      "Reaction found with similarity of 1.000. This will be our best match.\n"
     ]
    },
    {
     "name": "stderr",
     "output_type": "stream",
     "text": [
      "\n"
     ]
    },
    {
     "data": {
      "text/plain": [
       "{'Solvent': '',\n",
       " 'Catalyst': 'C(C)(=O)[O-].[Pd+2].C(C)(=O)[O-]',\n",
       " 'Reagent': '[Pd+2].CCN(CC)CC.CC(=O)[O-]'}"
      ]
     },
     "execution_count": 9,
     "metadata": {},
     "output_type": "execute_result"
    }
   ],
   "source": [
    "rxn.suggest_conditions(df_analyzed)"
   ]
  },
  {
   "cell_type": "code",
   "execution_count": 10,
   "id": "1f461254",
   "metadata": {},
   "outputs": [
    {
     "name": "stderr",
     "output_type": "stream",
     "text": [
      "Loading fingerprints...: 100%|████████████████████████████████████████████████████| 845/845 [00:00<00:00, 25372.53it/s]\n",
      "Calculating Tanimoto similarity: 100%|████████████████████████████████████████████| 845/845 [00:00<00:00, 60207.71it/s]"
     ]
    },
    {
     "name": "stdout",
     "output_type": "stream",
     "text": [
      "Reaction found with similarity of 1.000. This will be our best match.\n"
     ]
    },
    {
     "name": "stderr",
     "output_type": "stream",
     "text": [
      "\n"
     ]
    },
    {
     "data": {
      "text/html": [
       "<div>\n",
       "<style scoped>\n",
       "    .dataframe tbody tr th:only-of-type {\n",
       "        vertical-align: middle;\n",
       "    }\n",
       "\n",
       "    .dataframe tbody tr th {\n",
       "        vertical-align: top;\n",
       "    }\n",
       "\n",
       "    .dataframe thead th {\n",
       "        text-align: right;\n",
       "    }\n",
       "</style>\n",
       "<table border=\"1\" class=\"dataframe\">\n",
       "  <thead>\n",
       "    <tr style=\"text-align: right;\">\n",
       "      <th></th>\n",
       "      <th>REACTION</th>\n",
       "      <th>MAPPED_REACTION</th>\n",
       "      <th>SOLVENT</th>\n",
       "      <th>REAGENT</th>\n",
       "      <th>CATALYST</th>\n",
       "      <th>N_REACTANTS</th>\n",
       "      <th>N_PRODUCTS</th>\n",
       "      <th>FG_REACTANTS</th>\n",
       "      <th>FG_PRODUCTS</th>\n",
       "      <th>PR_RINGS</th>\n",
       "      <th>PP_RINGS</th>\n",
       "      <th>PRODUCT_RINGS</th>\n",
       "      <th>BYPRODUCTS</th>\n",
       "      <th>CLASS</th>\n",
       "      <th>NAME</th>\n",
       "      <th>REF</th>\n",
       "      <th>SCAFFOLD</th>\n",
       "      <th>PRODUCT</th>\n",
       "      <th>SIMILARITY</th>\n",
       "    </tr>\n",
       "    <tr>\n",
       "      <th>index</th>\n",
       "      <th></th>\n",
       "      <th></th>\n",
       "      <th></th>\n",
       "      <th></th>\n",
       "      <th></th>\n",
       "      <th></th>\n",
       "      <th></th>\n",
       "      <th></th>\n",
       "      <th></th>\n",
       "      <th></th>\n",
       "      <th></th>\n",
       "      <th></th>\n",
       "      <th></th>\n",
       "      <th></th>\n",
       "      <th></th>\n",
       "      <th></th>\n",
       "      <th></th>\n",
       "      <th></th>\n",
       "      <th></th>\n",
       "    </tr>\n",
       "  </thead>\n",
       "  <tbody>\n",
       "    <tr>\n",
       "      <th>480113</th>\n",
       "      <td>C=Cc1ccccc1.Ic1ccccc1&gt;&gt;C(=C/c1ccccc1)\\c1ccccc1</td>\n",
       "      <td>[CH2:1]=[CH:2][c:3]1[cH:4][cH:5][cH:6][cH:7][c...</td>\n",
       "      <td>O</td>\n",
       "      <td>[Pd+2].CN(C)C=O.CCCCN(CCCC)CCCC.CC(=O)[O-]</td>\n",
       "      <td>C(C)(=O)[O-].[Pd+2].C(C)(=O)[O-]</td>\n",
       "      <td>2</td>\n",
       "      <td>1</td>\n",
       "      <td>Aromatic halide.Vinyl</td>\n",
       "      <td></td>\n",
       "      <td>c1ccccc1</td>\n",
       "      <td>c1ccccc1</td>\n",
       "      <td>c1ccccc1.c1ccccc1</td>\n",
       "      <td>HI</td>\n",
       "      <td>C-C Coupling</td>\n",
       "      <td>Heck terminal vinyl</td>\n",
       "      <td>US06136157</td>\n",
       "      <td>C(=C/c1ccccc1)\\c1ccccc1</td>\n",
       "      <td>PJANXHGTPQOBST-VAWYXSNFSA-N</td>\n",
       "      <td>1.000000</td>\n",
       "    </tr>\n",
       "    <tr>\n",
       "      <th>435563</th>\n",
       "      <td>C=Cc1ccccc1.Ic1ccccc1&gt;&gt;C(=Cc1ccccc1)c1ccccc1</td>\n",
       "      <td>[CH2:1]=[CH:2][c:3]1[cH:4][cH:5][cH:6][cH:7][c...</td>\n",
       "      <td>CN(C)C=O</td>\n",
       "      <td>[Pd].CCCC[N+](CCCC)(CCCC)CCCC.CC(=O)[O-]</td>\n",
       "      <td>C(C)(=O)[O-].C(CCC)[N+](CCCC)(CCCC)CCCC.[Pd]</td>\n",
       "      <td>2</td>\n",
       "      <td>1</td>\n",
       "      <td>Aromatic halide.Vinyl</td>\n",
       "      <td></td>\n",
       "      <td>c1ccccc1</td>\n",
       "      <td>c1ccccc1</td>\n",
       "      <td>c1ccccc1.c1ccccc1</td>\n",
       "      <td>HI</td>\n",
       "      <td>C-C Coupling</td>\n",
       "      <td>Heck terminal vinyl</td>\n",
       "      <td>US05925463</td>\n",
       "      <td>C(=Cc1ccccc1)c1ccccc1</td>\n",
       "      <td>PJANXHGTPQOBST-UHFFFAOYSA-N</td>\n",
       "      <td>1.000000</td>\n",
       "    </tr>\n",
       "    <tr>\n",
       "      <th>1210169</th>\n",
       "      <td>C=Cc1ccccc1.Ic1ccccc1&gt;&gt;C(=Cc1ccccc1)c1ccccc1</td>\n",
       "      <td>[CH2:1]=[CH:2][c:3]1[cH:4][cH:5][cH:6][cH:7][c...</td>\n",
       "      <td></td>\n",
       "      <td>CCN(CC)CC</td>\n",
       "      <td></td>\n",
       "      <td>2</td>\n",
       "      <td>1</td>\n",
       "      <td>Aromatic halide.Vinyl</td>\n",
       "      <td></td>\n",
       "      <td>c1ccccc1</td>\n",
       "      <td>c1ccccc1</td>\n",
       "      <td>c1ccccc1.c1ccccc1</td>\n",
       "      <td>HI</td>\n",
       "      <td>C-C Coupling</td>\n",
       "      <td>Heck terminal vinyl</td>\n",
       "      <td>US08309736B2</td>\n",
       "      <td>C(=Cc1ccccc1)c1ccccc1</td>\n",
       "      <td>PJANXHGTPQOBST-UHFFFAOYSA-N</td>\n",
       "      <td>1.000000</td>\n",
       "    </tr>\n",
       "    <tr>\n",
       "      <th>361680</th>\n",
       "      <td>C=Cc1ccccc1.Ic1ccccc1&gt;&gt;C(=Cc1ccccc1)c1ccccc1</td>\n",
       "      <td>[CH2:1]=[CH:2][c:3]1[cH:4][cH:5][cH:6][cH:7][c...</td>\n",
       "      <td>CN(C)C=O</td>\n",
       "      <td>[Pd].CCCC[N+](CCCC)(CCCC)CCCC.CC(=O)[O-]</td>\n",
       "      <td>C(C)(=O)[O-].C(CCC)[N+](CCCC)(CCCC)CCCC.[Pd]</td>\n",
       "      <td>2</td>\n",
       "      <td>1</td>\n",
       "      <td>Aromatic halide.Vinyl</td>\n",
       "      <td></td>\n",
       "      <td>c1ccccc1</td>\n",
       "      <td>c1ccccc1</td>\n",
       "      <td>c1ccccc1.c1ccccc1</td>\n",
       "      <td>HI</td>\n",
       "      <td>C-C Coupling</td>\n",
       "      <td>Heck terminal vinyl</td>\n",
       "      <td>US05620584</td>\n",
       "      <td>C(=Cc1ccccc1)c1ccccc1</td>\n",
       "      <td>PJANXHGTPQOBST-UHFFFAOYSA-N</td>\n",
       "      <td>1.000000</td>\n",
       "    </tr>\n",
       "    <tr>\n",
       "      <th>1704022</th>\n",
       "      <td>C=Cc1ccccc1.Ic1ccccc1&gt;&gt;C(=C/c1ccccc1)\\c1ccccc1</td>\n",
       "      <td>[CH2:1]=[CH:2][c:3]1[cH:4][cH:5][cH:6][cH:7][c...</td>\n",
       "      <td></td>\n",
       "      <td></td>\n",
       "      <td></td>\n",
       "      <td>2</td>\n",
       "      <td>1</td>\n",
       "      <td>Aromatic halide.Vinyl</td>\n",
       "      <td></td>\n",
       "      <td>c1ccccc1</td>\n",
       "      <td>c1ccccc1</td>\n",
       "      <td>c1ccccc1.c1ccccc1</td>\n",
       "      <td>HI</td>\n",
       "      <td>C-C Coupling</td>\n",
       "      <td>Heck terminal vinyl</td>\n",
       "      <td>US09233366B2</td>\n",
       "      <td>C(=C/c1ccccc1)\\c1ccccc1</td>\n",
       "      <td>PJANXHGTPQOBST-VAWYXSNFSA-N</td>\n",
       "      <td>1.000000</td>\n",
       "    </tr>\n",
       "    <tr>\n",
       "      <th>...</th>\n",
       "      <td>...</td>\n",
       "      <td>...</td>\n",
       "      <td>...</td>\n",
       "      <td>...</td>\n",
       "      <td>...</td>\n",
       "      <td>...</td>\n",
       "      <td>...</td>\n",
       "      <td>...</td>\n",
       "      <td>...</td>\n",
       "      <td>...</td>\n",
       "      <td>...</td>\n",
       "      <td>...</td>\n",
       "      <td>...</td>\n",
       "      <td>...</td>\n",
       "      <td>...</td>\n",
       "      <td>...</td>\n",
       "      <td>...</td>\n",
       "      <td>...</td>\n",
       "      <td>...</td>\n",
       "    </tr>\n",
       "    <tr>\n",
       "      <th>1264844</th>\n",
       "      <td>C=CC(C)=O.Clc1cc(Cl)c(I)c(Cl)c1&gt;&gt;CC(=O)/C=C/c1...</td>\n",
       "      <td>[CH3:1][C:2](=[O:3])[CH:4]=[CH2:5].I[c:6]1[c:7...</td>\n",
       "      <td>CN(C)C=O</td>\n",
       "      <td>[Na+].CC(=O)[O-].[Cl-].CCCC[N+](CCCC)(CCCC)CCC...</td>\n",
       "      <td>[Cl-].C(CCC)[N+](CCCC)(CCCC)CCCC.CC(=O)[O-].CC...</td>\n",
       "      <td>2</td>\n",
       "      <td>1</td>\n",
       "      <td>Aromatic halide.Vinyl</td>\n",
       "      <td></td>\n",
       "      <td>c1ccccc1</td>\n",
       "      <td>c1ccccc1</td>\n",
       "      <td>c1ccccc1</td>\n",
       "      <td>HI</td>\n",
       "      <td>C-C Coupling</td>\n",
       "      <td>OtherReaction</td>\n",
       "      <td>US08357635B2</td>\n",
       "      <td>c1ccccc1</td>\n",
       "      <td>NCFKNCDEZZOLAI-NSCUHMNNSA-N</td>\n",
       "      <td>0.312500</td>\n",
       "    </tr>\n",
       "    <tr>\n",
       "      <th>632163</th>\n",
       "      <td>C=Cc1cccnc1.COC(=O)c1ccc(I)cc1-c1ccccc1&gt;&gt;COC(=...</td>\n",
       "      <td>[CH2:9]=[CH:10][c:11]1[cH:12][cH:13][cH:14][n:...</td>\n",
       "      <td>CN1CCCC1=O</td>\n",
       "      <td>CCN(CC)CC.ClCCl.c1ccc(P(c2ccccc2)[c-]2cccc2)cc...</td>\n",
       "      <td>C1=CC=C(C=C1)P([C-]2C=CC=C2)C3=CC=CC=C3.C1=CC=...</td>\n",
       "      <td>2</td>\n",
       "      <td>1</td>\n",
       "      <td>Aromatic halide.Vinyl</td>\n",
       "      <td></td>\n",
       "      <td>c1ccccc1</td>\n",
       "      <td>c1ccccc1</td>\n",
       "      <td>c1ccccc1.c1ccncc1.c1ccccc1</td>\n",
       "      <td>HI</td>\n",
       "      <td>C-C Coupling</td>\n",
       "      <td>Heck terminal vinyl</td>\n",
       "      <td>US06693123B2</td>\n",
       "      <td>C(=Cc1cccc(-c2ccccc2)c1)c1cccnc1</td>\n",
       "      <td>ORHYEBDWBSSSES-UHFFFAOYSA-N</td>\n",
       "      <td>0.306122</td>\n",
       "    </tr>\n",
       "    <tr>\n",
       "      <th>1170826</th>\n",
       "      <td>C=Cc1ccc(OC)cc1.O=Cc1cc(F)ccc1Br&gt;&gt;COc1ccc(/C=C...</td>\n",
       "      <td>[CH3:1][O:2][c:3]1[cH:4][cH:5][c:6]([CH:7]=[CH...</td>\n",
       "      <td>CN(C)C=O</td>\n",
       "      <td>[Pd+2].Cc1ccccc1P(c1ccccc1C)c1ccccc1C.CCN(CC)C...</td>\n",
       "      <td>C(C)(=O)[O-].[Pd+2].C(C)(=O)[O-]</td>\n",
       "      <td>2</td>\n",
       "      <td>1</td>\n",
       "      <td>Aromatic halide.Vinyl</td>\n",
       "      <td></td>\n",
       "      <td>c1ccccc1</td>\n",
       "      <td>c1ccccc1</td>\n",
       "      <td>c1ccccc1.c1ccccc1</td>\n",
       "      <td>HBr</td>\n",
       "      <td>C-C Coupling</td>\n",
       "      <td>Heck terminal vinyl</td>\n",
       "      <td>US08183271B2</td>\n",
       "      <td>C(=C/c1ccccc1)\\c1ccccc1</td>\n",
       "      <td>UJOLWBAGGTWWQB-GORDUTHDSA-N</td>\n",
       "      <td>0.304348</td>\n",
       "    </tr>\n",
       "    <tr>\n",
       "      <th>898816</th>\n",
       "      <td>C=CC(=O)OCc1ccccc1.CCOC(=O)c1ccccc1Br&gt;&gt;CCOC(=O...</td>\n",
       "      <td>[CH2:12]=[CH:13][C:14](=[O:15])[O:16][CH2:17][...</td>\n",
       "      <td>CN(C)C=O.CCOC(C)=O</td>\n",
       "      <td>CCN(CC)CC.ClCCl.c1ccc(P(c2ccccc2)[c-]2cccc2)cc...</td>\n",
       "      <td>C1=CC=C(C=C1)P([C-]2C=CC=C2)C3=CC=CC=C3.C1=CC=...</td>\n",
       "      <td>2</td>\n",
       "      <td>1</td>\n",
       "      <td>Aromatic halide.Vinyl</td>\n",
       "      <td></td>\n",
       "      <td>c1ccccc1</td>\n",
       "      <td>c1ccccc1</td>\n",
       "      <td>c1ccccc1.c1ccccc1</td>\n",
       "      <td>HBr</td>\n",
       "      <td>C-C Coupling</td>\n",
       "      <td>Heck terminal vinyl</td>\n",
       "      <td>US07572805B2</td>\n",
       "      <td>O=C(/C=C/c1ccccc1)OCc1ccccc1</td>\n",
       "      <td>CJRZUUAKMDCBGG-OUKQBFOZSA-N</td>\n",
       "      <td>0.304348</td>\n",
       "    </tr>\n",
       "    <tr>\n",
       "      <th>1078375</th>\n",
       "      <td>C=Cc1ccc(OC)cc1.O=Cc1cc(F)ccc1Br&gt;&gt;COc1ccc(/C=C...</td>\n",
       "      <td>[CH3:1][O:2][c:3]1[cH:4][cH:5][c:6]([CH:7]=[CH...</td>\n",
       "      <td>CN(C)C=O</td>\n",
       "      <td>[Pd+2].Cc1ccccc1P(c1ccccc1C)c1ccccc1C.CCN(CC)C...</td>\n",
       "      <td>C(C)(=O)[O-].[Pd+2].C(C)(=O)[O-]</td>\n",
       "      <td>2</td>\n",
       "      <td>1</td>\n",
       "      <td>Aromatic halide.Vinyl</td>\n",
       "      <td></td>\n",
       "      <td>c1ccccc1</td>\n",
       "      <td>c1ccccc1</td>\n",
       "      <td>c1ccccc1.c1ccccc1</td>\n",
       "      <td>HBr</td>\n",
       "      <td>C-C Coupling</td>\n",
       "      <td>Heck terminal vinyl</td>\n",
       "      <td>US07998988B2</td>\n",
       "      <td>C(=C/c1ccccc1)\\c1ccccc1</td>\n",
       "      <td>UJOLWBAGGTWWQB-GORDUTHDSA-N</td>\n",
       "      <td>0.304348</td>\n",
       "    </tr>\n",
       "  </tbody>\n",
       "</table>\n",
       "<p>61 rows × 19 columns</p>\n",
       "</div>"
      ],
      "text/plain": [
       "                                                  REACTION  \\\n",
       "index                                                        \n",
       "480113      C=Cc1ccccc1.Ic1ccccc1>>C(=C/c1ccccc1)\\c1ccccc1   \n",
       "435563        C=Cc1ccccc1.Ic1ccccc1>>C(=Cc1ccccc1)c1ccccc1   \n",
       "1210169       C=Cc1ccccc1.Ic1ccccc1>>C(=Cc1ccccc1)c1ccccc1   \n",
       "361680        C=Cc1ccccc1.Ic1ccccc1>>C(=Cc1ccccc1)c1ccccc1   \n",
       "1704022     C=Cc1ccccc1.Ic1ccccc1>>C(=C/c1ccccc1)\\c1ccccc1   \n",
       "...                                                    ...   \n",
       "1264844  C=CC(C)=O.Clc1cc(Cl)c(I)c(Cl)c1>>CC(=O)/C=C/c1...   \n",
       "632163   C=Cc1cccnc1.COC(=O)c1ccc(I)cc1-c1ccccc1>>COC(=...   \n",
       "1170826  C=Cc1ccc(OC)cc1.O=Cc1cc(F)ccc1Br>>COc1ccc(/C=C...   \n",
       "898816   C=CC(=O)OCc1ccccc1.CCOC(=O)c1ccccc1Br>>CCOC(=O...   \n",
       "1078375  C=Cc1ccc(OC)cc1.O=Cc1cc(F)ccc1Br>>COc1ccc(/C=C...   \n",
       "\n",
       "                                           MAPPED_REACTION  \\\n",
       "index                                                        \n",
       "480113   [CH2:1]=[CH:2][c:3]1[cH:4][cH:5][cH:6][cH:7][c...   \n",
       "435563   [CH2:1]=[CH:2][c:3]1[cH:4][cH:5][cH:6][cH:7][c...   \n",
       "1210169  [CH2:1]=[CH:2][c:3]1[cH:4][cH:5][cH:6][cH:7][c...   \n",
       "361680   [CH2:1]=[CH:2][c:3]1[cH:4][cH:5][cH:6][cH:7][c...   \n",
       "1704022  [CH2:1]=[CH:2][c:3]1[cH:4][cH:5][cH:6][cH:7][c...   \n",
       "...                                                    ...   \n",
       "1264844  [CH3:1][C:2](=[O:3])[CH:4]=[CH2:5].I[c:6]1[c:7...   \n",
       "632163   [CH2:9]=[CH:10][c:11]1[cH:12][cH:13][cH:14][n:...   \n",
       "1170826  [CH3:1][O:2][c:3]1[cH:4][cH:5][c:6]([CH:7]=[CH...   \n",
       "898816   [CH2:12]=[CH:13][C:14](=[O:15])[O:16][CH2:17][...   \n",
       "1078375  [CH3:1][O:2][c:3]1[cH:4][cH:5][c:6]([CH:7]=[CH...   \n",
       "\n",
       "                    SOLVENT  \\\n",
       "index                         \n",
       "480113                    O   \n",
       "435563             CN(C)C=O   \n",
       "1210169                       \n",
       "361680             CN(C)C=O   \n",
       "1704022                       \n",
       "...                     ...   \n",
       "1264844            CN(C)C=O   \n",
       "632163           CN1CCCC1=O   \n",
       "1170826            CN(C)C=O   \n",
       "898816   CN(C)C=O.CCOC(C)=O   \n",
       "1078375            CN(C)C=O   \n",
       "\n",
       "                                                   REAGENT  \\\n",
       "index                                                        \n",
       "480113          [Pd+2].CN(C)C=O.CCCCN(CCCC)CCCC.CC(=O)[O-]   \n",
       "435563            [Pd].CCCC[N+](CCCC)(CCCC)CCCC.CC(=O)[O-]   \n",
       "1210169                                          CCN(CC)CC   \n",
       "361680            [Pd].CCCC[N+](CCCC)(CCCC)CCCC.CC(=O)[O-]   \n",
       "1704022                                                      \n",
       "...                                                    ...   \n",
       "1264844  [Na+].CC(=O)[O-].[Cl-].CCCC[N+](CCCC)(CCCC)CCC...   \n",
       "632163   CCN(CC)CC.ClCCl.c1ccc(P(c2ccccc2)[c-]2cccc2)cc...   \n",
       "1170826  [Pd+2].Cc1ccccc1P(c1ccccc1C)c1ccccc1C.CCN(CC)C...   \n",
       "898816   CCN(CC)CC.ClCCl.c1ccc(P(c2ccccc2)[c-]2cccc2)cc...   \n",
       "1078375  [Pd+2].Cc1ccccc1P(c1ccccc1C)c1ccccc1C.CCN(CC)C...   \n",
       "\n",
       "                                                  CATALYST  N_REACTANTS  \\\n",
       "index                                                                     \n",
       "480113                    C(C)(=O)[O-].[Pd+2].C(C)(=O)[O-]            2   \n",
       "435563        C(C)(=O)[O-].C(CCC)[N+](CCCC)(CCCC)CCCC.[Pd]            2   \n",
       "1210169                                                               2   \n",
       "361680        C(C)(=O)[O-].C(CCC)[N+](CCCC)(CCCC)CCCC.[Pd]            2   \n",
       "1704022                                                               2   \n",
       "...                                                    ...          ...   \n",
       "1264844  [Cl-].C(CCC)[N+](CCCC)(CCCC)CCCC.CC(=O)[O-].CC...            2   \n",
       "632163   C1=CC=C(C=C1)P([C-]2C=CC=C2)C3=CC=CC=C3.C1=CC=...            2   \n",
       "1170826                   C(C)(=O)[O-].[Pd+2].C(C)(=O)[O-]            2   \n",
       "898816   C1=CC=C(C=C1)P([C-]2C=CC=C2)C3=CC=CC=C3.C1=CC=...            2   \n",
       "1078375                   C(C)(=O)[O-].[Pd+2].C(C)(=O)[O-]            2   \n",
       "\n",
       "         N_PRODUCTS           FG_REACTANTS FG_PRODUCTS  PR_RINGS  PP_RINGS  \\\n",
       "index                                                                        \n",
       "480113            1  Aromatic halide.Vinyl              c1ccccc1  c1ccccc1   \n",
       "435563            1  Aromatic halide.Vinyl              c1ccccc1  c1ccccc1   \n",
       "1210169           1  Aromatic halide.Vinyl              c1ccccc1  c1ccccc1   \n",
       "361680            1  Aromatic halide.Vinyl              c1ccccc1  c1ccccc1   \n",
       "1704022           1  Aromatic halide.Vinyl              c1ccccc1  c1ccccc1   \n",
       "...             ...                    ...         ...       ...       ...   \n",
       "1264844           1  Aromatic halide.Vinyl              c1ccccc1  c1ccccc1   \n",
       "632163            1  Aromatic halide.Vinyl              c1ccccc1  c1ccccc1   \n",
       "1170826           1  Aromatic halide.Vinyl              c1ccccc1  c1ccccc1   \n",
       "898816            1  Aromatic halide.Vinyl              c1ccccc1  c1ccccc1   \n",
       "1078375           1  Aromatic halide.Vinyl              c1ccccc1  c1ccccc1   \n",
       "\n",
       "                      PRODUCT_RINGS BYPRODUCTS         CLASS  \\\n",
       "index                                                          \n",
       "480113            c1ccccc1.c1ccccc1         HI  C-C Coupling   \n",
       "435563            c1ccccc1.c1ccccc1         HI  C-C Coupling   \n",
       "1210169           c1ccccc1.c1ccccc1         HI  C-C Coupling   \n",
       "361680            c1ccccc1.c1ccccc1         HI  C-C Coupling   \n",
       "1704022           c1ccccc1.c1ccccc1         HI  C-C Coupling   \n",
       "...                             ...        ...           ...   \n",
       "1264844                    c1ccccc1         HI  C-C Coupling   \n",
       "632163   c1ccccc1.c1ccncc1.c1ccccc1         HI  C-C Coupling   \n",
       "1170826           c1ccccc1.c1ccccc1        HBr  C-C Coupling   \n",
       "898816            c1ccccc1.c1ccccc1        HBr  C-C Coupling   \n",
       "1078375           c1ccccc1.c1ccccc1        HBr  C-C Coupling   \n",
       "\n",
       "                        NAME           REF                          SCAFFOLD  \\\n",
       "index                                                                          \n",
       "480113   Heck terminal vinyl    US06136157           C(=C/c1ccccc1)\\c1ccccc1   \n",
       "435563   Heck terminal vinyl    US05925463             C(=Cc1ccccc1)c1ccccc1   \n",
       "1210169  Heck terminal vinyl  US08309736B2             C(=Cc1ccccc1)c1ccccc1   \n",
       "361680   Heck terminal vinyl    US05620584             C(=Cc1ccccc1)c1ccccc1   \n",
       "1704022  Heck terminal vinyl  US09233366B2           C(=C/c1ccccc1)\\c1ccccc1   \n",
       "...                      ...           ...                               ...   \n",
       "1264844        OtherReaction  US08357635B2                          c1ccccc1   \n",
       "632163   Heck terminal vinyl  US06693123B2  C(=Cc1cccc(-c2ccccc2)c1)c1cccnc1   \n",
       "1170826  Heck terminal vinyl  US08183271B2           C(=C/c1ccccc1)\\c1ccccc1   \n",
       "898816   Heck terminal vinyl  US07572805B2      O=C(/C=C/c1ccccc1)OCc1ccccc1   \n",
       "1078375  Heck terminal vinyl  US07998988B2           C(=C/c1ccccc1)\\c1ccccc1   \n",
       "\n",
       "                             PRODUCT  SIMILARITY  \n",
       "index                                             \n",
       "480113   PJANXHGTPQOBST-VAWYXSNFSA-N    1.000000  \n",
       "435563   PJANXHGTPQOBST-UHFFFAOYSA-N    1.000000  \n",
       "1210169  PJANXHGTPQOBST-UHFFFAOYSA-N    1.000000  \n",
       "361680   PJANXHGTPQOBST-UHFFFAOYSA-N    1.000000  \n",
       "1704022  PJANXHGTPQOBST-VAWYXSNFSA-N    1.000000  \n",
       "...                              ...         ...  \n",
       "1264844  NCFKNCDEZZOLAI-NSCUHMNNSA-N    0.312500  \n",
       "632163   ORHYEBDWBSSSES-UHFFFAOYSA-N    0.306122  \n",
       "1170826  UJOLWBAGGTWWQB-GORDUTHDSA-N    0.304348  \n",
       "898816   CJRZUUAKMDCBGG-OUKQBFOZSA-N    0.304348  \n",
       "1078375  UJOLWBAGGTWWQB-GORDUTHDSA-N    0.304348  \n",
       "\n",
       "[61 rows x 19 columns]"
      ]
     },
     "execution_count": 10,
     "metadata": {},
     "output_type": "execute_result"
    }
   ],
   "source": [
    "rxn.find_neighbors(df_analyzed)"
   ]
  },
  {
   "cell_type": "code",
   "execution_count": 75,
   "id": "927e04b2",
   "metadata": {},
   "outputs": [],
   "source": [
    "fp1=get_fp(r, fp=\"MACCS\", concatenate=True)"
   ]
  },
  {
   "cell_type": "code",
   "execution_count": 76,
   "id": "9091159d",
   "metadata": {},
   "outputs": [],
   "source": [
    "r2 = df_analyzed[\"REACTION\"][480113]\n",
    "fp2 = get_fp(r2)"
   ]
  },
  {
   "cell_type": "code",
   "execution_count": 77,
   "id": "9af6696d",
   "metadata": {},
   "outputs": [
    {
     "data": {
      "text/plain": [
       "1.0"
      ]
     },
     "execution_count": 77,
     "metadata": {},
     "output_type": "execute_result"
    }
   ],
   "source": [
    "get_similarity(fp1, fp2)"
   ]
  },
  {
   "cell_type": "code",
   "execution_count": 18,
   "id": "0bd17e70",
   "metadata": {},
   "outputs": [
    {
     "data": {
      "text/plain": [
       "array([0, 0, 0, 0, 0, 0, 0, 0, 0, 0, 0, 0, 0, 0, 0, 0, 0, 0, 0, 0, 0, 0,\n",
       "       0, 0, 0, 0, 0, 1, 0, 0, 0, 0, 0, 0, 1, 0, 0, 0, 0, 0, 0, 0, 0, 0,\n",
       "       0, 0, 0, 0, 0, 0, 0, 0, 0, 0, 0, 0, 0, 0, 0, 0, 0, 0, 0, 0, 0, 0,\n",
       "       0, 0, 0, 0, 0, 0, 0, 0, 0, 0, 0, 0, 0, 0, 0, 0, 0, 0, 0, 0, 0, 1,\n",
       "       0, 0, 0, 0, 0, 0, 0, 0, 0, 0, 0, 1, 0, 0, 0, 0, 0, 0, 0, 1, 0, 0,\n",
       "       0, 0, 0, 0, 0, 0, 0, 0, 0, 0, 0, 0, 0, 0, 0, 0, 0, 0, 0, 0, 0, 0,\n",
       "       0, 0, 1, 0, 0, 0, 0, 0, 0, 0, 0, 0, 0, 0, 0, 0, 0, 0, 0, 0, 0, 0,\n",
       "       0, 0, 0, 0, 0, 0, 0, 0, 2, 2, 0, 2, 0, 0, 0, 0, 0, 0, 0, 0, 0, 0,\n",
       "       0, 0, 0, 0, 0, 0, 0, 0, 0, 0, 0, 0, 0, 0, 0, 0, 0, 0, 0, 0, 0, 0,\n",
       "       0, 0, 0, 0, 0, 0, 0, 0, 0, 0, 0, 0, 0, 0, 0, 0, 0, 0, 0, 0, 0, 0,\n",
       "       0, 0, 0, 0, 0, 0, 0, 0, 0, 0, 0, 0, 0, 0, 0, 0, 0, 0, 0, 0, 0, 0,\n",
       "       0, 0, 0, 0, 0, 0, 0, 0, 0, 0, 0, 0, 0, 0, 0, 0, 0, 0, 0, 0, 0, 0,\n",
       "       0, 0, 1, 0, 0, 0, 0, 0, 0, 0, 0, 0, 0, 0, 0, 0, 0, 0, 0, 0, 0, 0,\n",
       "       0, 0, 0, 0, 0, 0, 1, 0, 0, 0, 0, 0, 0, 0, 0, 0, 0, 0, 0, 0, 0, 0,\n",
       "       0, 0, 0, 0, 1, 0, 0, 0, 0, 0, 0, 0, 0, 0, 0, 0, 0, 0, 0, 0, 0, 1,\n",
       "       1, 0, 1, 0])"
      ]
     },
     "execution_count": 18,
     "metadata": {},
     "output_type": "execute_result"
    }
   ],
   "source": [
    "fp1"
   ]
  },
  {
   "cell_type": "code",
   "execution_count": 22,
   "id": "3d33cfa9",
   "metadata": {},
   "outputs": [
    {
     "data": {
      "text/plain": [
       "array([0, 0, 0, 0, 0, 0, 0, 0, 0, 0, 0, 0, 0, 0, 0, 0, 0, 0, 0, 0, 0, 0,\n",
       "       0, 0, 0, 0, 0, 1, 0, 0, 0, 0, 0, 0, 1, 0, 0, 0, 0, 0, 0, 0, 0, 0,\n",
       "       0, 0, 0, 0, 0, 0, 0, 0, 0, 0, 0, 0, 0, 0, 0, 0, 0, 0, 0, 0, 0, 0,\n",
       "       0, 0, 0, 0, 0, 0, 0, 0, 0, 0, 0, 0, 0, 0, 0, 0, 0, 0, 0, 0, 0, 1,\n",
       "       0, 0, 0, 0, 0, 0, 0, 0, 0, 0, 0, 0, 0, 0, 0, 0, 0, 0, 0, 1, 0, 0,\n",
       "       0, 0, 0, 0, 0, 0, 0, 0, 0, 0, 0, 0, 0, 0, 0, 1, 0, 0, 0, 0, 0, 0,\n",
       "       0, 0, 1, 0, 0, 0, 0, 0, 0, 0, 0, 0, 0, 1, 0, 0, 0, 0, 0, 0, 0, 0,\n",
       "       0, 0, 0, 0, 0, 0, 0, 0, 0, 0, 0, 0, 0])"
      ]
     },
     "execution_count": 22,
     "metadata": {},
     "output_type": "execute_result"
    }
   ],
   "source": [
    "fp3"
   ]
  },
  {
   "cell_type": "code",
   "execution_count": 87,
   "id": "61623cc4",
   "metadata": {},
   "outputs": [
    {
     "data": {
      "text/plain": [
       "array([0, 0, 0, 0, 0, 0, 0, 0, 0, 0, 0, 0, 0, 0, 0, 0, 0, 0, 0, 0, 0, 0,\n",
       "       0, 0, 0, 0, 0, 1, 0, 0, 0, 0, 0, 0, 1, 0, 0, 0, 0, 0, 0, 0, 0, 0,\n",
       "       0, 0, 0, 0, 0, 0, 0, 0, 0, 0, 0, 0, 0, 0, 0, 0, 0, 0, 0, 0, 0, 0,\n",
       "       0, 0, 0, 0, 0, 0, 0, 0, 0, 0, 0, 0, 0, 0, 0, 0, 0, 0, 0, 0, 0, 1,\n",
       "       0, 0, 0, 0, 0, 0, 0, 0, 0, 0, 0, 1, 0, 0, 0, 0, 0, 0, 0, 1, 0, 0,\n",
       "       0, 0, 0, 0, 0, 0, 0, 0, 0, 0, 0, 0, 0, 0, 0, 0, 0, 0, 0, 0, 0, 0,\n",
       "       0, 0, 1, 0, 0, 0, 0, 0, 0, 0, 0, 0, 0, 0, 0, 0, 0, 0, 0, 0, 0, 0,\n",
       "       0, 0, 0, 0, 0, 0, 0, 0, 0, 0, 0, 0, 0, 0, 0, 0, 0, 0, 0, 0, 0, 0,\n",
       "       0, 0, 0, 0, 0, 0, 0, 0, 0, 0, 0, 0, 0, 0, 0, 0, 0, 0, 0, 0, 0, 0,\n",
       "       0, 0, 0, 0, 0, 0, 0, 0, 0, 0, 0, 0, 0, 0, 0, 0, 0, 0, 0, 0, 0, 0,\n",
       "       0, 0, 0, 0, 0, 0, 0, 0, 0, 0, 0, 0, 0, 0, 0, 0, 0, 0, 0, 0, 0, 0,\n",
       "       0, 0, 0, 0, 0, 0, 0, 0, 0, 0, 0, 0, 0, 0, 0, 0, 0, 0, 0, 0, 0, 0,\n",
       "       0, 0, 1, 0, 0, 0, 0, 0, 0, 0, 0, 0, 0, 0, 0, 0, 0, 0, 0, 0, 0, 0,\n",
       "       0, 0, 0, 0, 0, 0, 1, 0, 0, 0, 0, 0, 0, 0, 0, 0, 0, 0, 0, 0, 0, 0,\n",
       "       0, 0, 0, 0, 1, 0, 0, 0, 0, 0, 0, 0, 0, 0, 0, 0, 0, 0, 0, 0, 0, 1,\n",
       "       1, 0, 1, 0])"
      ]
     },
     "execution_count": 87,
     "metadata": {},
     "output_type": "execute_result"
    }
   ],
   "source": [
    "np.array(DataStructs.CreateFromBitString(\"\".join(fp1.astype(np.str_))))"
   ]
  },
  {
   "cell_type": "code",
   "execution_count": 90,
   "id": "3a2a79ce",
   "metadata": {},
   "outputs": [
    {
     "data": {
      "text/plain": [
       "array([0, 0, 0, 0, 0, 0, 0, 0, 0, 0, 0, 0, 0, 0, 0, 0, 0, 0, 0, 0, 0, 0,\n",
       "       0, 0, 0, 0, 0, 1, 0, 0, 0, 0, 0, 0, 1, 0, 0, 0, 0, 0, 0, 0, 0, 0,\n",
       "       0, 0, 0, 0, 0, 0, 0, 0, 0, 0, 0, 0, 0, 0, 0, 0, 0, 0, 0, 0, 0, 0,\n",
       "       0, 0, 0, 0, 0, 0, 0, 0, 0, 0, 0, 0, 0, 0, 0, 0, 0, 0, 0, 0, 0, 1,\n",
       "       0, 0, 0, 0, 0, 0, 0, 0, 0, 0, 0, 1, 0, 0, 0, 0, 0, 0, 0, 1, 0, 0,\n",
       "       0, 0, 0, 0, 0, 0, 0, 0, 0, 0, 0, 0, 0, 0, 0, 0, 0, 0, 0, 0, 0, 0,\n",
       "       0, 0, 1, 0, 0, 0, 0, 0, 0, 0, 0, 0, 0, 0, 0, 0, 0, 0, 0, 0, 0, 0,\n",
       "       0, 0, 0, 0, 0, 0, 0, 0, 2, 2, 0, 2, 0, 0, 0, 0, 0, 0, 0, 0, 0, 0,\n",
       "       0, 0, 0, 0, 0, 0, 0, 0, 0, 0, 0, 0, 0, 0, 0, 0, 0, 0, 0, 0, 0, 0,\n",
       "       0, 0, 0, 0, 0, 0, 0, 0, 0, 0, 0, 0, 0, 0, 0, 0, 0, 0, 0, 0, 0, 0,\n",
       "       0, 0, 0, 0, 0, 0, 0, 0, 0, 0, 0, 0, 0, 0, 0, 0, 0, 0, 0, 0, 0, 0,\n",
       "       0, 0, 0, 0, 0, 0, 0, 0, 0, 0, 0, 0, 0, 0, 0, 0, 0, 0, 0, 0, 0, 0,\n",
       "       0, 0, 1, 0, 0, 0, 0, 0, 0, 0, 0, 0, 0, 0, 0, 0, 0, 0, 0, 0, 0, 0,\n",
       "       0, 0, 0, 0, 0, 0, 1, 0, 0, 0, 0, 0, 0, 0, 0, 0, 0, 0, 0, 0, 0, 0,\n",
       "       0, 0, 0, 0, 1, 0, 0, 0, 0, 0, 0, 0, 0, 0, 0, 0, 0, 0, 0, 0, 0, 1,\n",
       "       1, 0, 1, 0], dtype=int64)"
      ]
     },
     "execution_count": 90,
     "metadata": {},
     "output_type": "execute_result"
    }
   ],
   "source": [
    "np.fromiter(df_analyzed[\"rxn_str_patt_fp\"][480113], dtype=np.int64)"
   ]
  },
  {
   "cell_type": "code",
   "execution_count": 55,
   "id": "086a685d",
   "metadata": {},
   "outputs": [],
   "source": [
    "fp3=np.array(DataStructs.CreateFromBitString(df_analyzed[\"rxn_str_patt_fp\"][480113]))"
   ]
  },
  {
   "cell_type": "code",
   "execution_count": 57,
   "id": "9e1d4e0a",
   "metadata": {},
   "outputs": [],
   "source": [
    "fp4=np.array(DataStructs.CreateFromBitString(\"\".join(get_fp(df_analyzed[\"REACTION\"][480113], fp=\"MACCS\", concatenate=True).astype(np.str_))))"
   ]
  },
  {
   "cell_type": "code",
   "execution_count": 56,
   "id": "c5bb0c7a",
   "metadata": {},
   "outputs": [
    {
     "data": {
      "text/plain": [
       "0.8"
      ]
     },
     "execution_count": 56,
     "metadata": {},
     "output_type": "execute_result"
    }
   ],
   "source": [
    "get_similarity(fp1, fp3)"
   ]
  },
  {
   "cell_type": "code",
   "execution_count": 58,
   "id": "981b6f13",
   "metadata": {},
   "outputs": [
    {
     "data": {
      "text/plain": [
       "0.8"
      ]
     },
     "execution_count": 58,
     "metadata": {},
     "output_type": "execute_result"
    }
   ],
   "source": [
    "get_similarity(fp1, fp4)"
   ]
  },
  {
   "cell_type": "code",
   "execution_count": 78,
   "id": "39f9a498",
   "metadata": {},
   "outputs": [],
   "source": [
    "fp5=np.array(DataStructs.CreateFromBitString(\"\".join(get_fp(Reaction(df_analyzed[\"REACTION\"][480113]).reaction, fp=\"MACCS\", concatenate=True).astype(np.str_))))"
   ]
  },
  {
   "cell_type": "code",
   "execution_count": 79,
   "id": "2b07eb41",
   "metadata": {},
   "outputs": [
    {
     "data": {
      "text/plain": [
       "0.8"
      ]
     },
     "execution_count": 79,
     "metadata": {},
     "output_type": "execute_result"
    }
   ],
   "source": [
    "get_similarity(fp1, fp5)"
   ]
  },
  {
   "cell_type": "code",
   "execution_count": 84,
   "id": "aa227fd1",
   "metadata": {},
   "outputs": [
    {
     "data": {
      "text/plain": [
       "array([0, 0, 0, 0, 0, 0, 0, 0, 0, 0, 0, 0, 0, 0, 0, 0, 0, 0, 0, 0, 0, 0,\n",
       "       0, 0, 0, 0, 0, 1, 0, 0, 0, 0, 0, 0, 1, 0, 0, 0, 0, 0, 0, 0, 0, 0,\n",
       "       0, 0, 0, 0, 0, 0, 0, 0, 0, 0, 0, 0, 0, 0, 0, 0, 0, 0, 0, 0, 0, 0,\n",
       "       0, 0, 0, 0, 0, 0, 0, 0, 0, 0, 0, 0, 0, 0, 0, 0, 0, 0, 0, 0, 0, 1,\n",
       "       0, 0, 0, 0, 0, 0, 0, 0, 0, 0, 0, 1, 0, 0, 0, 0, 0, 0, 0, 1, 0, 0,\n",
       "       0, 0, 0, 0, 0, 0, 0, 0, 0, 0, 0, 0, 0, 0, 0, 0, 0, 0, 0, 0, 0, 0,\n",
       "       0, 0, 1, 0, 0, 0, 0, 0, 0, 0, 0, 0, 0, 0, 0, 0, 0, 0, 0, 0, 0, 0,\n",
       "       0, 0, 0, 0, 0, 0, 0, 0, 2, 2, 0, 2, 0, 0, 0, 0, 0, 0, 0, 0, 0, 0,\n",
       "       0, 0, 0, 0, 0, 0, 0, 0, 0, 0, 0, 0, 0, 0, 0, 0, 0, 0, 0, 0, 0, 0,\n",
       "       0, 0, 0, 0, 0, 0, 0, 0, 0, 0, 0, 0, 0, 0, 0, 0, 0, 0, 0, 0, 0, 0,\n",
       "       0, 0, 0, 0, 0, 0, 0, 0, 0, 0, 0, 0, 0, 0, 0, 0, 0, 0, 0, 0, 0, 0,\n",
       "       0, 0, 0, 0, 0, 0, 0, 0, 0, 0, 0, 0, 0, 0, 0, 0, 0, 0, 0, 0, 0, 0,\n",
       "       0, 0, 1, 0, 0, 0, 0, 0, 0, 0, 0, 0, 0, 0, 0, 0, 0, 0, 0, 0, 0, 0,\n",
       "       0, 0, 0, 0, 0, 0, 1, 0, 0, 0, 0, 0, 0, 0, 0, 0, 0, 0, 0, 0, 0, 0,\n",
       "       0, 0, 0, 0, 1, 0, 0, 0, 0, 0, 0, 0, 0, 0, 0, 0, 0, 0, 0, 0, 0, 1,\n",
       "       1, 0, 1, 0])"
      ]
     },
     "execution_count": 84,
     "metadata": {},
     "output_type": "execute_result"
    }
   ],
   "source": [
    "get_fp(r)"
   ]
  },
  {
   "cell_type": "code",
   "execution_count": 83,
   "id": "36ca4a4a",
   "metadata": {},
   "outputs": [
    {
     "data": {
      "text/plain": [
       "array([0, 0, 0, 0, 0, 0, 0, 0, 0, 0, 0, 0, 0, 0, 0, 0, 0, 0, 0, 0, 0, 0,\n",
       "       0, 0, 0, 0, 0, 1, 0, 0, 0, 0, 0, 0, 1, 0, 0, 0, 0, 0, 0, 0, 0, 0,\n",
       "       0, 0, 0, 0, 0, 0, 0, 0, 0, 0, 0, 0, 0, 0, 0, 0, 0, 0, 0, 0, 0, 0,\n",
       "       0, 0, 0, 0, 0, 0, 0, 0, 0, 0, 0, 0, 0, 0, 0, 0, 0, 0, 0, 0, 0, 1,\n",
       "       0, 0, 0, 0, 0, 0, 0, 0, 0, 0, 0, 1, 0, 0, 0, 0, 0, 0, 0, 1, 0, 0,\n",
       "       0, 0, 0, 0, 0, 0, 0, 0, 0, 0, 0, 0, 0, 0, 0, 0, 0, 0, 0, 0, 0, 0,\n",
       "       0, 0, 1, 0, 0, 0, 0, 0, 0, 0, 0, 0, 0, 0, 0, 0, 0, 0, 0, 0, 0, 0,\n",
       "       0, 0, 0, 0, 0, 0, 0, 0, 2, 2, 0, 2, 0, 0, 0, 0, 0, 0, 0, 0, 0, 0,\n",
       "       0, 0, 0, 0, 0, 0, 0, 0, 0, 0, 0, 0, 0, 0, 0, 0, 0, 0, 0, 0, 0, 0,\n",
       "       0, 0, 0, 0, 0, 0, 0, 0, 0, 0, 0, 0, 0, 0, 0, 0, 0, 0, 0, 0, 0, 0,\n",
       "       0, 0, 0, 0, 0, 0, 0, 0, 0, 0, 0, 0, 0, 0, 0, 0, 0, 0, 0, 0, 0, 0,\n",
       "       0, 0, 0, 0, 0, 0, 0, 0, 0, 0, 0, 0, 0, 0, 0, 0, 0, 0, 0, 0, 0, 0,\n",
       "       0, 0, 1, 0, 0, 0, 0, 0, 0, 0, 0, 0, 0, 0, 0, 0, 0, 0, 0, 0, 0, 0,\n",
       "       0, 0, 0, 0, 0, 0, 1, 0, 0, 0, 0, 0, 0, 0, 0, 0, 0, 0, 0, 0, 0, 0,\n",
       "       0, 0, 0, 0, 1, 0, 0, 0, 0, 0, 0, 0, 0, 0, 0, 0, 0, 0, 0, 0, 0, 1,\n",
       "       1, 0, 1, 0])"
      ]
     },
     "execution_count": 83,
     "metadata": {},
     "output_type": "execute_result"
    }
   ],
   "source": [
    "get_fp(Reaction(r).reaction)"
   ]
  },
  {
   "cell_type": "code",
   "execution_count": 80,
   "id": "b71577d0",
   "metadata": {},
   "outputs": [
    {
     "data": {
      "text/plain": [
       "array([ 0,  0,  0,  0,  0,  0,  0,  0,  0,  0,  0,  0,  0,  0,  0,  0,  0,\n",
       "        0,  0,  0,  0,  0,  0,  0,  0,  0,  0,  0,  0,  0,  0,  0,  0,  0,\n",
       "        0,  0,  0,  0,  0,  0,  0,  0,  0,  0,  0,  0,  0,  0,  0,  0,  0,\n",
       "        0,  0,  0,  0,  0,  0,  0,  0,  0,  0,  0,  0,  0,  0,  0,  0,  0,\n",
       "        0,  0,  0,  0,  0,  0,  0,  0,  0,  0,  0,  0,  0,  0,  0,  0,  0,\n",
       "        0,  0,  0,  0,  0,  0,  0,  0,  0,  0,  0,  0,  0,  0,  0,  0,  0,\n",
       "        0,  0,  0,  0,  0,  0,  0,  0,  0,  0,  0,  0,  0,  0,  0,  0,  0,\n",
       "        0,  0,  0,  0,  0,  0,  0,  0,  0,  0,  0,  0,  0,  0,  0,  0,  0,\n",
       "        0,  0,  0,  0,  0,  0,  0,  0,  0,  0,  0,  0,  0,  0,  0,  0,  0,\n",
       "        0,  0,  0,  0,  0,  0,  0,  0,  0, -2, -2,  0, -2,  0,  0,  0,  0,\n",
       "        0,  0,  0,  0,  0,  0,  0,  0,  0,  0,  0,  0,  0,  0,  0,  0,  0,\n",
       "        0,  0,  0,  0,  0,  0,  0,  0,  0,  0,  0,  0,  0,  0,  0,  0,  0,\n",
       "        0,  0,  0,  0,  0,  0,  0,  0,  0,  0,  0,  0,  0,  0,  0,  0,  0,\n",
       "        0,  0,  0,  0,  0,  0,  0,  0,  0,  0,  0,  0,  0,  0,  0,  0,  0,\n",
       "        0,  0,  0,  0,  0,  0,  0,  0,  0,  0,  0,  0,  0,  0,  0,  0,  0,\n",
       "        0,  0,  0,  0,  0,  0,  0,  0,  0,  0,  0,  0,  0,  0,  0,  0,  0,\n",
       "        0,  0,  0,  0,  0,  0,  0,  0,  0,  0,  0,  0,  0,  0,  0,  0,  0,\n",
       "        0,  0,  0,  0,  0,  0,  0,  0,  0,  0,  0,  0,  0,  0,  0,  0,  0,\n",
       "        0,  0,  0,  0,  0,  0,  0,  0,  0,  0,  0,  0,  0,  0,  0,  0,  0,\n",
       "        0,  0,  0,  0,  0,  0,  0,  0,  0,  0,  0])"
      ]
     },
     "execution_count": 80,
     "metadata": {},
     "output_type": "execute_result"
    }
   ],
   "source": [
    "fp5 - fp1"
   ]
  },
  {
   "cell_type": "code",
   "execution_count": 66,
   "id": "a8a3b863",
   "metadata": {},
   "outputs": [
    {
     "data": {
      "image/svg+xml": [
       "<svg xmlns=\"http://www.w3.org/2000/svg\" xmlns:rdkit=\"http://www.rdkit.org/xml\" xmlns:xlink=\"http://www.w3.org/1999/xlink\" version=\"1.1\" baseProfile=\"full\" xml:space=\"preserve\" width=\"800px\" height=\"300px\" viewBox=\"0 0 800 300\">\n",
       "<!-- END OF HEADER -->\n",
       "<rect style=\"opacity:1.0;fill:#FFFFFF;stroke:none\" width=\"800.0\" height=\"300.0\" x=\"0.0\" y=\"0.0\"> </rect>\n",
       "<path class=\"bond-0 atom-0 atom-1\" d=\"M 44.1,137.3 L 72.1,167.7\" style=\"fill:none;fill-rule:evenodd;stroke:#000000;stroke-width:2.0px;stroke-linecap:butt;stroke-linejoin:miter;stroke-opacity:1\"/>\n",
       "<path class=\"bond-0 atom-0 atom-1\" d=\"M 48.6,133.1 L 74.2,160.8\" style=\"fill:none;fill-rule:evenodd;stroke:#000000;stroke-width:2.0px;stroke-linecap:butt;stroke-linejoin:miter;stroke-opacity:1\"/>\n",
       "<path class=\"bond-1 atom-1 atom-2\" d=\"M 72.1,167.7 L 112.4,158.6\" style=\"fill:none;fill-rule:evenodd;stroke:#000000;stroke-width:2.0px;stroke-linecap:butt;stroke-linejoin:miter;stroke-opacity:1\"/>\n",
       "<path class=\"bond-2 atom-2 atom-3\" d=\"M 112.4,158.6 L 124.6,119.2\" style=\"fill:none;fill-rule:evenodd;stroke:#000000;stroke-width:2.0px;stroke-linecap:butt;stroke-linejoin:miter;stroke-opacity:1\"/>\n",
       "<path class=\"bond-2 atom-2 atom-3\" d=\"M 119.3,157.0 L 129.5,124.4\" style=\"fill:none;fill-rule:evenodd;stroke:#000000;stroke-width:2.0px;stroke-linecap:butt;stroke-linejoin:miter;stroke-opacity:1\"/>\n",
       "<path class=\"bond-3 atom-3 atom-4\" d=\"M 124.6,119.2 L 164.9,110.1\" style=\"fill:none;fill-rule:evenodd;stroke:#000000;stroke-width:2.0px;stroke-linecap:butt;stroke-linejoin:miter;stroke-opacity:1\"/>\n",
       "<path class=\"bond-4 atom-4 atom-5\" d=\"M 164.9,110.1 L 192.9,140.4\" style=\"fill:none;fill-rule:evenodd;stroke:#000000;stroke-width:2.0px;stroke-linecap:butt;stroke-linejoin:miter;stroke-opacity:1\"/>\n",
       "<path class=\"bond-4 atom-4 atom-5\" d=\"M 162.8,116.9 L 186.0,142.0\" style=\"fill:none;fill-rule:evenodd;stroke:#000000;stroke-width:2.0px;stroke-linecap:butt;stroke-linejoin:miter;stroke-opacity:1\"/>\n",
       "<path class=\"bond-5 atom-5 atom-6\" d=\"M 192.9,140.4 L 180.7,179.8\" style=\"fill:none;fill-rule:evenodd;stroke:#000000;stroke-width:2.0px;stroke-linecap:butt;stroke-linejoin:miter;stroke-opacity:1\"/>\n",
       "<path class=\"bond-6 atom-6 atom-7\" d=\"M 180.7,179.8 L 140.4,188.9\" style=\"fill:none;fill-rule:evenodd;stroke:#000000;stroke-width:2.0px;stroke-linecap:butt;stroke-linejoin:miter;stroke-opacity:1\"/>\n",
       "<path class=\"bond-6 atom-6 atom-7\" d=\"M 175.8,174.6 L 142.5,182.1\" style=\"fill:none;fill-rule:evenodd;stroke:#000000;stroke-width:2.0px;stroke-linecap:butt;stroke-linejoin:miter;stroke-opacity:1\"/>\n",
       "<path class=\"bond-7 atom-7 atom-2\" d=\"M 140.4,188.9 L 112.4,158.6\" style=\"fill:none;fill-rule:evenodd;stroke:#000000;stroke-width:2.0px;stroke-linecap:butt;stroke-linejoin:miter;stroke-opacity:1\"/>\n",
       "<path d=\"M 70.7,166.2 L 72.1,167.7 L 74.1,167.2\" style=\"fill:none;stroke:#000000;stroke-width:2.0px;stroke-linecap:butt;stroke-linejoin:miter;stroke-opacity:1;\"/>\n",
       "<path d=\"M 124.0,121.1 L 124.6,119.2 L 126.7,118.7\" style=\"fill:none;stroke:#000000;stroke-width:2.0px;stroke-linecap:butt;stroke-linejoin:miter;stroke-opacity:1;\"/>\n",
       "<path d=\"M 162.9,110.5 L 164.9,110.1 L 166.3,111.6\" style=\"fill:none;stroke:#000000;stroke-width:2.0px;stroke-linecap:butt;stroke-linejoin:miter;stroke-opacity:1;\"/>\n",
       "<path d=\"M 191.5,138.9 L 192.9,140.4 L 192.3,142.4\" style=\"fill:none;stroke:#000000;stroke-width:2.0px;stroke-linecap:butt;stroke-linejoin:miter;stroke-opacity:1;\"/>\n",
       "<path d=\"M 181.3,177.9 L 180.7,179.8 L 178.6,180.3\" style=\"fill:none;stroke:#000000;stroke-width:2.0px;stroke-linecap:butt;stroke-linejoin:miter;stroke-opacity:1;\"/>\n",
       "<path d=\"M 142.4,188.5 L 140.4,188.9 L 139.0,187.4\" style=\"fill:none;stroke:#000000;stroke-width:2.0px;stroke-linecap:butt;stroke-linejoin:miter;stroke-opacity:1;\"/>\n",
       "<path d=\"M 216.0,140.0 L 216.0,160.0\" style=\"fill:none;fill-rule:evenodd;stroke:#000000;stroke-width:2.0px;stroke-linecap:butt;stroke-linejoin:miter;stroke-opacity:1\"/>\n",
       "<path d=\"M 206.0,150.0 L 226.0,150.0\" style=\"fill:none;fill-rule:evenodd;stroke:#000000;stroke-width:2.0px;stroke-linecap:butt;stroke-linejoin:miter;stroke-opacity:1\"/>\n",
       "<path class=\"bond-8 atom-8 atom-9\" d=\"M 360.7,149.5 L 341.0,149.5\" style=\"fill:none;fill-rule:evenodd;stroke:#A01EEF;stroke-width:2.0px;stroke-linecap:butt;stroke-linejoin:miter;stroke-opacity:1\"/>\n",
       "<path class=\"bond-8 atom-8 atom-9\" d=\"M 341.0,149.5 L 321.4,149.5\" style=\"fill:none;fill-rule:evenodd;stroke:#000000;stroke-width:2.0px;stroke-linecap:butt;stroke-linejoin:miter;stroke-opacity:1\"/>\n",
       "<path class=\"bond-9 atom-9 atom-10\" d=\"M 321.4,149.5 L 300.7,185.3\" style=\"fill:none;fill-rule:evenodd;stroke:#000000;stroke-width:2.0px;stroke-linecap:butt;stroke-linejoin:miter;stroke-opacity:1\"/>\n",
       "<path class=\"bond-9 atom-9 atom-10\" d=\"M 314.2,149.5 L 297.1,179.1\" style=\"fill:none;fill-rule:evenodd;stroke:#000000;stroke-width:2.0px;stroke-linecap:butt;stroke-linejoin:miter;stroke-opacity:1\"/>\n",
       "<path class=\"bond-10 atom-10 atom-11\" d=\"M 300.7,185.3 L 259.4,185.3\" style=\"fill:none;fill-rule:evenodd;stroke:#000000;stroke-width:2.0px;stroke-linecap:butt;stroke-linejoin:miter;stroke-opacity:1\"/>\n",
       "<path class=\"bond-11 atom-11 atom-12\" d=\"M 259.4,185.3 L 238.8,149.5\" style=\"fill:none;fill-rule:evenodd;stroke:#000000;stroke-width:2.0px;stroke-linecap:butt;stroke-linejoin:miter;stroke-opacity:1\"/>\n",
       "<path class=\"bond-11 atom-11 atom-12\" d=\"M 263.0,179.1 L 245.9,149.5\" style=\"fill:none;fill-rule:evenodd;stroke:#000000;stroke-width:2.0px;stroke-linecap:butt;stroke-linejoin:miter;stroke-opacity:1\"/>\n",
       "<path class=\"bond-12 atom-12 atom-13\" d=\"M 238.8,149.5 L 259.4,113.7\" style=\"fill:none;fill-rule:evenodd;stroke:#000000;stroke-width:2.0px;stroke-linecap:butt;stroke-linejoin:miter;stroke-opacity:1\"/>\n",
       "<path class=\"bond-13 atom-13 atom-14\" d=\"M 259.4,113.7 L 300.7,113.7\" style=\"fill:none;fill-rule:evenodd;stroke:#000000;stroke-width:2.0px;stroke-linecap:butt;stroke-linejoin:miter;stroke-opacity:1\"/>\n",
       "<path class=\"bond-13 atom-13 atom-14\" d=\"M 263.0,119.9 L 297.1,119.9\" style=\"fill:none;fill-rule:evenodd;stroke:#000000;stroke-width:2.0px;stroke-linecap:butt;stroke-linejoin:miter;stroke-opacity:1\"/>\n",
       "<path class=\"bond-14 atom-14 atom-9\" d=\"M 300.7,113.7 L 321.4,149.5\" style=\"fill:none;fill-rule:evenodd;stroke:#000000;stroke-width:2.0px;stroke-linecap:butt;stroke-linejoin:miter;stroke-opacity:1\"/>\n",
       "<path class=\"atom-0\" d=\"M 362.1 145.2 L 363.2 145.2 L 363.2 153.8 L 362.1 153.8 L 362.1 145.2 \" fill=\"#A01EEF\"/>\n",
       "<path class=\"bond-15 atom-15 atom-16\" d=\"M 600.9,134.4 L 628.1,165.6\" style=\"fill:none;fill-rule:evenodd;stroke:#000000;stroke-width:2.0px;stroke-linecap:butt;stroke-linejoin:miter;stroke-opacity:1\"/>\n",
       "<path class=\"bond-15 atom-15 atom-16\" d=\"M 598.6,141.2 L 623.4,169.6\" style=\"fill:none;fill-rule:evenodd;stroke:#000000;stroke-width:2.0px;stroke-linecap:butt;stroke-linejoin:miter;stroke-opacity:1\"/>\n",
       "<path class=\"bond-16 atom-16 atom-17\" d=\"M 628.1,165.6 L 668.6,157.6\" style=\"fill:none;fill-rule:evenodd;stroke:#000000;stroke-width:2.0px;stroke-linecap:butt;stroke-linejoin:miter;stroke-opacity:1\"/>\n",
       "<path class=\"bond-17 atom-17 atom-18\" d=\"M 668.6,157.6 L 695.8,188.7\" style=\"fill:none;fill-rule:evenodd;stroke:#000000;stroke-width:2.0px;stroke-linecap:butt;stroke-linejoin:miter;stroke-opacity:1\"/>\n",
       "<path class=\"bond-17 atom-17 atom-18\" d=\"M 675.6,156.2 L 698.1,181.9\" style=\"fill:none;fill-rule:evenodd;stroke:#000000;stroke-width:2.0px;stroke-linecap:butt;stroke-linejoin:miter;stroke-opacity:1\"/>\n",
       "<path class=\"bond-18 atom-18 atom-19\" d=\"M 695.8,188.7 L 736.3,180.7\" style=\"fill:none;fill-rule:evenodd;stroke:#000000;stroke-width:2.0px;stroke-linecap:butt;stroke-linejoin:miter;stroke-opacity:1\"/>\n",
       "<path class=\"bond-19 atom-19 atom-20\" d=\"M 736.3,180.7 L 749.6,141.7\" style=\"fill:none;fill-rule:evenodd;stroke:#000000;stroke-width:2.0px;stroke-linecap:butt;stroke-linejoin:miter;stroke-opacity:1\"/>\n",
       "<path class=\"bond-19 atom-19 atom-20\" d=\"M 731.6,175.3 L 742.6,143.0\" style=\"fill:none;fill-rule:evenodd;stroke:#000000;stroke-width:2.0px;stroke-linecap:butt;stroke-linejoin:miter;stroke-opacity:1\"/>\n",
       "<path class=\"bond-20 atom-20 atom-21\" d=\"M 749.6,141.7 L 722.5,110.6\" style=\"fill:none;fill-rule:evenodd;stroke:#000000;stroke-width:2.0px;stroke-linecap:butt;stroke-linejoin:miter;stroke-opacity:1\"/>\n",
       "<path class=\"bond-21 atom-21 atom-22\" d=\"M 722.5,110.6 L 682.0,118.5\" style=\"fill:none;fill-rule:evenodd;stroke:#000000;stroke-width:2.0px;stroke-linecap:butt;stroke-linejoin:miter;stroke-opacity:1\"/>\n",
       "<path class=\"bond-21 atom-21 atom-22\" d=\"M 720.2,117.3 L 686.7,123.9\" style=\"fill:none;fill-rule:evenodd;stroke:#000000;stroke-width:2.0px;stroke-linecap:butt;stroke-linejoin:miter;stroke-opacity:1\"/>\n",
       "<path class=\"bond-22 atom-15 atom-23\" d=\"M 600.9,134.4 L 560.4,142.4\" style=\"fill:none;fill-rule:evenodd;stroke:#000000;stroke-width:2.0px;stroke-linecap:butt;stroke-linejoin:miter;stroke-opacity:1\"/>\n",
       "<path class=\"bond-23 atom-23 atom-24\" d=\"M 560.4,142.4 L 533.2,111.3\" style=\"fill:none;fill-rule:evenodd;stroke:#000000;stroke-width:2.0px;stroke-linecap:butt;stroke-linejoin:miter;stroke-opacity:1\"/>\n",
       "<path class=\"bond-23 atom-23 atom-24\" d=\"M 553.4,143.8 L 530.9,118.1\" style=\"fill:none;fill-rule:evenodd;stroke:#000000;stroke-width:2.0px;stroke-linecap:butt;stroke-linejoin:miter;stroke-opacity:1\"/>\n",
       "<path class=\"bond-24 atom-24 atom-25\" d=\"M 533.2,111.3 L 492.7,119.3\" style=\"fill:none;fill-rule:evenodd;stroke:#000000;stroke-width:2.0px;stroke-linecap:butt;stroke-linejoin:miter;stroke-opacity:1\"/>\n",
       "<path class=\"bond-25 atom-25 atom-26\" d=\"M 492.7,119.3 L 479.4,158.3\" style=\"fill:none;fill-rule:evenodd;stroke:#000000;stroke-width:2.0px;stroke-linecap:butt;stroke-linejoin:miter;stroke-opacity:1\"/>\n",
       "<path class=\"bond-25 atom-25 atom-26\" d=\"M 497.4,124.7 L 486.4,157.0\" style=\"fill:none;fill-rule:evenodd;stroke:#000000;stroke-width:2.0px;stroke-linecap:butt;stroke-linejoin:miter;stroke-opacity:1\"/>\n",
       "<path class=\"bond-26 atom-26 atom-27\" d=\"M 479.4,158.3 L 506.5,189.4\" style=\"fill:none;fill-rule:evenodd;stroke:#000000;stroke-width:2.0px;stroke-linecap:butt;stroke-linejoin:miter;stroke-opacity:1\"/>\n",
       "<path class=\"bond-27 atom-27 atom-28\" d=\"M 506.5,189.4 L 547.0,181.5\" style=\"fill:none;fill-rule:evenodd;stroke:#000000;stroke-width:2.0px;stroke-linecap:butt;stroke-linejoin:miter;stroke-opacity:1\"/>\n",
       "<path class=\"bond-27 atom-27 atom-28\" d=\"M 508.8,182.7 L 542.3,176.1\" style=\"fill:none;fill-rule:evenodd;stroke:#000000;stroke-width:2.0px;stroke-linecap:butt;stroke-linejoin:miter;stroke-opacity:1\"/>\n",
       "<path class=\"bond-28 atom-22 atom-17\" d=\"M 682.0,118.5 L 668.6,157.6\" style=\"fill:none;fill-rule:evenodd;stroke:#000000;stroke-width:2.0px;stroke-linecap:butt;stroke-linejoin:miter;stroke-opacity:1\"/>\n",
       "<path class=\"bond-29 atom-28 atom-23\" d=\"M 547.0,181.5 L 560.4,142.4\" style=\"fill:none;fill-rule:evenodd;stroke:#000000;stroke-width:2.0px;stroke-linecap:butt;stroke-linejoin:miter;stroke-opacity:1\"/>\n",
       "<path d=\"M 385.0,150.0 L 449.0,150.0\" style=\"fill:none;fill-rule:evenodd;stroke:#000000;stroke-width:2.0px;stroke-linecap:butt;stroke-linejoin:miter;stroke-opacity:1\"/>\n",
       "<path d=\"M 449.0,150.0 L 444.0,152.9\" style=\"fill:none;fill-rule:evenodd;stroke:#000000;stroke-width:2.0px;stroke-linecap:butt;stroke-linejoin:miter;stroke-opacity:1\"/>\n",
       "<path d=\"M 449.0,150.0 L 444.0,147.1\" style=\"fill:none;fill-rule:evenodd;stroke:#000000;stroke-width:2.0px;stroke-linecap:butt;stroke-linejoin:miter;stroke-opacity:1\"/>\n",
       "</svg>"
      ],
      "text/plain": [
       "<IPython.core.display.SVG object>"
      ]
     },
     "metadata": {},
     "output_type": "display_data"
    }
   ],
   "source": [
    "display(SVG(draw_chemical_reaction(r)))"
   ]
  },
  {
   "cell_type": "code",
   "execution_count": 68,
   "id": "54d0aa69",
   "metadata": {},
   "outputs": [
    {
     "name": "stdout",
     "output_type": "stream",
     "text": [
      "C=Cc1ccccc1.Ic1ccccc1>>C(=C/c1ccccc1)\\c1ccccc1\n",
      "C=Cc1ccccc1.Ic1ccccc1>>C(=C/c1ccccc1)\\c1ccccc1\n"
     ]
    }
   ],
   "source": [
    "print(r)\n",
    "print(df_analyzed[\"REACTION\"][480113])"
   ]
  },
  {
   "cell_type": "code",
   "execution_count": 69,
   "id": "a5b9e24f",
   "metadata": {},
   "outputs": [
    {
     "data": {
      "text/plain": [
       "array([0, 0, 0, 0, 0, 0, 0, 0, 0, 0, 0, 0, 0, 0, 0, 0, 0, 0, 0, 0, 0, 0,\n",
       "       0, 0, 0, 0, 0, 1, 0, 0, 0, 0, 0, 0, 1, 0, 0, 0, 0, 0, 0, 0, 0, 0,\n",
       "       0, 0, 0, 0, 0, 0, 0, 0, 0, 0, 0, 0, 0, 0, 0, 0, 0, 0, 0, 0, 0, 0,\n",
       "       0, 0, 0, 0, 0, 0, 0, 0, 0, 0, 0, 0, 0, 0, 0, 0, 0, 0, 0, 0, 0, 1,\n",
       "       0, 0, 0, 0, 0, 0, 0, 0, 0, 0, 0, 1, 0, 0, 0, 0, 0, 0, 0, 1, 0, 0,\n",
       "       0, 0, 0, 0, 0, 0, 0, 0, 0, 0, 0, 0, 0, 0, 0, 0, 0, 0, 0, 0, 0, 0,\n",
       "       0, 0, 1, 0, 0, 0, 0, 0, 0, 0, 0, 0, 0, 0, 0, 0, 0, 0, 0, 0, 0, 0,\n",
       "       0, 0, 0, 0, 0, 0, 0, 0, 2, 2, 0, 2, 0, 0, 0, 0, 0, 0, 0, 0, 0, 0,\n",
       "       0, 0, 0, 0, 0, 0, 0, 0, 0, 0, 0, 0, 0, 0, 0, 0, 0, 0, 0, 0, 0, 0,\n",
       "       0, 0, 0, 0, 0, 0, 0, 0, 0, 0, 0, 0, 0, 0, 0, 0, 0, 0, 0, 0, 0, 0,\n",
       "       0, 0, 0, 0, 0, 0, 0, 0, 0, 0, 0, 0, 0, 0, 0, 0, 0, 0, 0, 0, 0, 0,\n",
       "       0, 0, 0, 0, 0, 0, 0, 0, 0, 0, 0, 0, 0, 0, 0, 0, 0, 0, 0, 0, 0, 0,\n",
       "       0, 0, 1, 0, 0, 0, 0, 0, 0, 0, 0, 0, 0, 0, 0, 0, 0, 0, 0, 0, 0, 0,\n",
       "       0, 0, 0, 0, 0, 0, 1, 0, 0, 0, 0, 0, 0, 0, 0, 0, 0, 0, 0, 0, 0, 0,\n",
       "       0, 0, 0, 0, 1, 0, 0, 0, 0, 0, 0, 0, 0, 0, 0, 0, 0, 0, 0, 0, 0, 1,\n",
       "       1, 0, 1, 0])"
      ]
     },
     "execution_count": 69,
     "metadata": {},
     "output_type": "execute_result"
    }
   ],
   "source": [
    "get_fp(r)"
   ]
  },
  {
   "cell_type": "code",
   "execution_count": 67,
   "id": "393dd448",
   "metadata": {},
   "outputs": [
    {
     "data": {
      "image/svg+xml": [
       "<svg xmlns=\"http://www.w3.org/2000/svg\" xmlns:rdkit=\"http://www.rdkit.org/xml\" xmlns:xlink=\"http://www.w3.org/1999/xlink\" version=\"1.1\" baseProfile=\"full\" xml:space=\"preserve\" width=\"800px\" height=\"300px\" viewBox=\"0 0 800 300\">\n",
       "<!-- END OF HEADER -->\n",
       "<rect style=\"opacity:1.0;fill:#FFFFFF;stroke:none\" width=\"800.0\" height=\"300.0\" x=\"0.0\" y=\"0.0\"> </rect>\n",
       "<path class=\"bond-0 atom-0 atom-1\" d=\"M 44.1,137.3 L 72.1,167.7\" style=\"fill:none;fill-rule:evenodd;stroke:#000000;stroke-width:2.0px;stroke-linecap:butt;stroke-linejoin:miter;stroke-opacity:1\"/>\n",
       "<path class=\"bond-0 atom-0 atom-1\" d=\"M 48.6,133.1 L 74.2,160.8\" style=\"fill:none;fill-rule:evenodd;stroke:#000000;stroke-width:2.0px;stroke-linecap:butt;stroke-linejoin:miter;stroke-opacity:1\"/>\n",
       "<path class=\"bond-1 atom-1 atom-2\" d=\"M 72.1,167.7 L 112.4,158.6\" style=\"fill:none;fill-rule:evenodd;stroke:#000000;stroke-width:2.0px;stroke-linecap:butt;stroke-linejoin:miter;stroke-opacity:1\"/>\n",
       "<path class=\"bond-2 atom-2 atom-3\" d=\"M 112.4,158.6 L 124.6,119.2\" style=\"fill:none;fill-rule:evenodd;stroke:#000000;stroke-width:2.0px;stroke-linecap:butt;stroke-linejoin:miter;stroke-opacity:1\"/>\n",
       "<path class=\"bond-2 atom-2 atom-3\" d=\"M 119.3,157.0 L 129.5,124.4\" style=\"fill:none;fill-rule:evenodd;stroke:#000000;stroke-width:2.0px;stroke-linecap:butt;stroke-linejoin:miter;stroke-opacity:1\"/>\n",
       "<path class=\"bond-3 atom-3 atom-4\" d=\"M 124.6,119.2 L 164.9,110.1\" style=\"fill:none;fill-rule:evenodd;stroke:#000000;stroke-width:2.0px;stroke-linecap:butt;stroke-linejoin:miter;stroke-opacity:1\"/>\n",
       "<path class=\"bond-4 atom-4 atom-5\" d=\"M 164.9,110.1 L 192.9,140.4\" style=\"fill:none;fill-rule:evenodd;stroke:#000000;stroke-width:2.0px;stroke-linecap:butt;stroke-linejoin:miter;stroke-opacity:1\"/>\n",
       "<path class=\"bond-4 atom-4 atom-5\" d=\"M 162.8,116.9 L 186.0,142.0\" style=\"fill:none;fill-rule:evenodd;stroke:#000000;stroke-width:2.0px;stroke-linecap:butt;stroke-linejoin:miter;stroke-opacity:1\"/>\n",
       "<path class=\"bond-5 atom-5 atom-6\" d=\"M 192.9,140.4 L 180.7,179.8\" style=\"fill:none;fill-rule:evenodd;stroke:#000000;stroke-width:2.0px;stroke-linecap:butt;stroke-linejoin:miter;stroke-opacity:1\"/>\n",
       "<path class=\"bond-6 atom-6 atom-7\" d=\"M 180.7,179.8 L 140.4,188.9\" style=\"fill:none;fill-rule:evenodd;stroke:#000000;stroke-width:2.0px;stroke-linecap:butt;stroke-linejoin:miter;stroke-opacity:1\"/>\n",
       "<path class=\"bond-6 atom-6 atom-7\" d=\"M 175.8,174.6 L 142.5,182.1\" style=\"fill:none;fill-rule:evenodd;stroke:#000000;stroke-width:2.0px;stroke-linecap:butt;stroke-linejoin:miter;stroke-opacity:1\"/>\n",
       "<path class=\"bond-7 atom-7 atom-2\" d=\"M 140.4,188.9 L 112.4,158.6\" style=\"fill:none;fill-rule:evenodd;stroke:#000000;stroke-width:2.0px;stroke-linecap:butt;stroke-linejoin:miter;stroke-opacity:1\"/>\n",
       "<path d=\"M 70.7,166.2 L 72.1,167.7 L 74.1,167.2\" style=\"fill:none;stroke:#000000;stroke-width:2.0px;stroke-linecap:butt;stroke-linejoin:miter;stroke-opacity:1;\"/>\n",
       "<path d=\"M 124.0,121.1 L 124.6,119.2 L 126.7,118.7\" style=\"fill:none;stroke:#000000;stroke-width:2.0px;stroke-linecap:butt;stroke-linejoin:miter;stroke-opacity:1;\"/>\n",
       "<path d=\"M 162.9,110.5 L 164.9,110.1 L 166.3,111.6\" style=\"fill:none;stroke:#000000;stroke-width:2.0px;stroke-linecap:butt;stroke-linejoin:miter;stroke-opacity:1;\"/>\n",
       "<path d=\"M 191.5,138.9 L 192.9,140.4 L 192.3,142.4\" style=\"fill:none;stroke:#000000;stroke-width:2.0px;stroke-linecap:butt;stroke-linejoin:miter;stroke-opacity:1;\"/>\n",
       "<path d=\"M 181.3,177.9 L 180.7,179.8 L 178.6,180.3\" style=\"fill:none;stroke:#000000;stroke-width:2.0px;stroke-linecap:butt;stroke-linejoin:miter;stroke-opacity:1;\"/>\n",
       "<path d=\"M 142.4,188.5 L 140.4,188.9 L 139.0,187.4\" style=\"fill:none;stroke:#000000;stroke-width:2.0px;stroke-linecap:butt;stroke-linejoin:miter;stroke-opacity:1;\"/>\n",
       "<path d=\"M 216.0,140.0 L 216.0,160.0\" style=\"fill:none;fill-rule:evenodd;stroke:#000000;stroke-width:2.0px;stroke-linecap:butt;stroke-linejoin:miter;stroke-opacity:1\"/>\n",
       "<path d=\"M 206.0,150.0 L 226.0,150.0\" style=\"fill:none;fill-rule:evenodd;stroke:#000000;stroke-width:2.0px;stroke-linecap:butt;stroke-linejoin:miter;stroke-opacity:1\"/>\n",
       "<path class=\"bond-8 atom-8 atom-9\" d=\"M 360.7,149.5 L 341.0,149.5\" style=\"fill:none;fill-rule:evenodd;stroke:#A01EEF;stroke-width:2.0px;stroke-linecap:butt;stroke-linejoin:miter;stroke-opacity:1\"/>\n",
       "<path class=\"bond-8 atom-8 atom-9\" d=\"M 341.0,149.5 L 321.4,149.5\" style=\"fill:none;fill-rule:evenodd;stroke:#000000;stroke-width:2.0px;stroke-linecap:butt;stroke-linejoin:miter;stroke-opacity:1\"/>\n",
       "<path class=\"bond-9 atom-9 atom-10\" d=\"M 321.4,149.5 L 300.7,185.3\" style=\"fill:none;fill-rule:evenodd;stroke:#000000;stroke-width:2.0px;stroke-linecap:butt;stroke-linejoin:miter;stroke-opacity:1\"/>\n",
       "<path class=\"bond-9 atom-9 atom-10\" d=\"M 314.2,149.5 L 297.1,179.1\" style=\"fill:none;fill-rule:evenodd;stroke:#000000;stroke-width:2.0px;stroke-linecap:butt;stroke-linejoin:miter;stroke-opacity:1\"/>\n",
       "<path class=\"bond-10 atom-10 atom-11\" d=\"M 300.7,185.3 L 259.4,185.3\" style=\"fill:none;fill-rule:evenodd;stroke:#000000;stroke-width:2.0px;stroke-linecap:butt;stroke-linejoin:miter;stroke-opacity:1\"/>\n",
       "<path class=\"bond-11 atom-11 atom-12\" d=\"M 259.4,185.3 L 238.8,149.5\" style=\"fill:none;fill-rule:evenodd;stroke:#000000;stroke-width:2.0px;stroke-linecap:butt;stroke-linejoin:miter;stroke-opacity:1\"/>\n",
       "<path class=\"bond-11 atom-11 atom-12\" d=\"M 263.0,179.1 L 245.9,149.5\" style=\"fill:none;fill-rule:evenodd;stroke:#000000;stroke-width:2.0px;stroke-linecap:butt;stroke-linejoin:miter;stroke-opacity:1\"/>\n",
       "<path class=\"bond-12 atom-12 atom-13\" d=\"M 238.8,149.5 L 259.4,113.7\" style=\"fill:none;fill-rule:evenodd;stroke:#000000;stroke-width:2.0px;stroke-linecap:butt;stroke-linejoin:miter;stroke-opacity:1\"/>\n",
       "<path class=\"bond-13 atom-13 atom-14\" d=\"M 259.4,113.7 L 300.7,113.7\" style=\"fill:none;fill-rule:evenodd;stroke:#000000;stroke-width:2.0px;stroke-linecap:butt;stroke-linejoin:miter;stroke-opacity:1\"/>\n",
       "<path class=\"bond-13 atom-13 atom-14\" d=\"M 263.0,119.9 L 297.1,119.9\" style=\"fill:none;fill-rule:evenodd;stroke:#000000;stroke-width:2.0px;stroke-linecap:butt;stroke-linejoin:miter;stroke-opacity:1\"/>\n",
       "<path class=\"bond-14 atom-14 atom-9\" d=\"M 300.7,113.7 L 321.4,149.5\" style=\"fill:none;fill-rule:evenodd;stroke:#000000;stroke-width:2.0px;stroke-linecap:butt;stroke-linejoin:miter;stroke-opacity:1\"/>\n",
       "<path class=\"atom-0\" d=\"M 362.1 145.2 L 363.2 145.2 L 363.2 153.8 L 362.1 153.8 L 362.1 145.2 \" fill=\"#A01EEF\"/>\n",
       "<path class=\"bond-15 atom-15 atom-16\" d=\"M 600.9,134.4 L 628.1,165.6\" style=\"fill:none;fill-rule:evenodd;stroke:#000000;stroke-width:2.0px;stroke-linecap:butt;stroke-linejoin:miter;stroke-opacity:1\"/>\n",
       "<path class=\"bond-15 atom-15 atom-16\" d=\"M 598.6,141.2 L 623.4,169.6\" style=\"fill:none;fill-rule:evenodd;stroke:#000000;stroke-width:2.0px;stroke-linecap:butt;stroke-linejoin:miter;stroke-opacity:1\"/>\n",
       "<path class=\"bond-16 atom-16 atom-17\" d=\"M 628.1,165.6 L 668.6,157.6\" style=\"fill:none;fill-rule:evenodd;stroke:#000000;stroke-width:2.0px;stroke-linecap:butt;stroke-linejoin:miter;stroke-opacity:1\"/>\n",
       "<path class=\"bond-17 atom-17 atom-18\" d=\"M 668.6,157.6 L 695.8,188.7\" style=\"fill:none;fill-rule:evenodd;stroke:#000000;stroke-width:2.0px;stroke-linecap:butt;stroke-linejoin:miter;stroke-opacity:1\"/>\n",
       "<path class=\"bond-17 atom-17 atom-18\" d=\"M 675.6,156.2 L 698.1,181.9\" style=\"fill:none;fill-rule:evenodd;stroke:#000000;stroke-width:2.0px;stroke-linecap:butt;stroke-linejoin:miter;stroke-opacity:1\"/>\n",
       "<path class=\"bond-18 atom-18 atom-19\" d=\"M 695.8,188.7 L 736.3,180.7\" style=\"fill:none;fill-rule:evenodd;stroke:#000000;stroke-width:2.0px;stroke-linecap:butt;stroke-linejoin:miter;stroke-opacity:1\"/>\n",
       "<path class=\"bond-19 atom-19 atom-20\" d=\"M 736.3,180.7 L 749.6,141.7\" style=\"fill:none;fill-rule:evenodd;stroke:#000000;stroke-width:2.0px;stroke-linecap:butt;stroke-linejoin:miter;stroke-opacity:1\"/>\n",
       "<path class=\"bond-19 atom-19 atom-20\" d=\"M 731.6,175.3 L 742.6,143.0\" style=\"fill:none;fill-rule:evenodd;stroke:#000000;stroke-width:2.0px;stroke-linecap:butt;stroke-linejoin:miter;stroke-opacity:1\"/>\n",
       "<path class=\"bond-20 atom-20 atom-21\" d=\"M 749.6,141.7 L 722.5,110.6\" style=\"fill:none;fill-rule:evenodd;stroke:#000000;stroke-width:2.0px;stroke-linecap:butt;stroke-linejoin:miter;stroke-opacity:1\"/>\n",
       "<path class=\"bond-21 atom-21 atom-22\" d=\"M 722.5,110.6 L 682.0,118.5\" style=\"fill:none;fill-rule:evenodd;stroke:#000000;stroke-width:2.0px;stroke-linecap:butt;stroke-linejoin:miter;stroke-opacity:1\"/>\n",
       "<path class=\"bond-21 atom-21 atom-22\" d=\"M 720.2,117.3 L 686.7,123.9\" style=\"fill:none;fill-rule:evenodd;stroke:#000000;stroke-width:2.0px;stroke-linecap:butt;stroke-linejoin:miter;stroke-opacity:1\"/>\n",
       "<path class=\"bond-22 atom-15 atom-23\" d=\"M 600.9,134.4 L 560.4,142.4\" style=\"fill:none;fill-rule:evenodd;stroke:#000000;stroke-width:2.0px;stroke-linecap:butt;stroke-linejoin:miter;stroke-opacity:1\"/>\n",
       "<path class=\"bond-23 atom-23 atom-24\" d=\"M 560.4,142.4 L 533.2,111.3\" style=\"fill:none;fill-rule:evenodd;stroke:#000000;stroke-width:2.0px;stroke-linecap:butt;stroke-linejoin:miter;stroke-opacity:1\"/>\n",
       "<path class=\"bond-23 atom-23 atom-24\" d=\"M 553.4,143.8 L 530.9,118.1\" style=\"fill:none;fill-rule:evenodd;stroke:#000000;stroke-width:2.0px;stroke-linecap:butt;stroke-linejoin:miter;stroke-opacity:1\"/>\n",
       "<path class=\"bond-24 atom-24 atom-25\" d=\"M 533.2,111.3 L 492.7,119.3\" style=\"fill:none;fill-rule:evenodd;stroke:#000000;stroke-width:2.0px;stroke-linecap:butt;stroke-linejoin:miter;stroke-opacity:1\"/>\n",
       "<path class=\"bond-25 atom-25 atom-26\" d=\"M 492.7,119.3 L 479.4,158.3\" style=\"fill:none;fill-rule:evenodd;stroke:#000000;stroke-width:2.0px;stroke-linecap:butt;stroke-linejoin:miter;stroke-opacity:1\"/>\n",
       "<path class=\"bond-25 atom-25 atom-26\" d=\"M 497.4,124.7 L 486.4,157.0\" style=\"fill:none;fill-rule:evenodd;stroke:#000000;stroke-width:2.0px;stroke-linecap:butt;stroke-linejoin:miter;stroke-opacity:1\"/>\n",
       "<path class=\"bond-26 atom-26 atom-27\" d=\"M 479.4,158.3 L 506.5,189.4\" style=\"fill:none;fill-rule:evenodd;stroke:#000000;stroke-width:2.0px;stroke-linecap:butt;stroke-linejoin:miter;stroke-opacity:1\"/>\n",
       "<path class=\"bond-27 atom-27 atom-28\" d=\"M 506.5,189.4 L 547.0,181.5\" style=\"fill:none;fill-rule:evenodd;stroke:#000000;stroke-width:2.0px;stroke-linecap:butt;stroke-linejoin:miter;stroke-opacity:1\"/>\n",
       "<path class=\"bond-27 atom-27 atom-28\" d=\"M 508.8,182.7 L 542.3,176.1\" style=\"fill:none;fill-rule:evenodd;stroke:#000000;stroke-width:2.0px;stroke-linecap:butt;stroke-linejoin:miter;stroke-opacity:1\"/>\n",
       "<path class=\"bond-28 atom-22 atom-17\" d=\"M 682.0,118.5 L 668.6,157.6\" style=\"fill:none;fill-rule:evenodd;stroke:#000000;stroke-width:2.0px;stroke-linecap:butt;stroke-linejoin:miter;stroke-opacity:1\"/>\n",
       "<path class=\"bond-29 atom-28 atom-23\" d=\"M 547.0,181.5 L 560.4,142.4\" style=\"fill:none;fill-rule:evenodd;stroke:#000000;stroke-width:2.0px;stroke-linecap:butt;stroke-linejoin:miter;stroke-opacity:1\"/>\n",
       "<path d=\"M 385.0,150.0 L 449.0,150.0\" style=\"fill:none;fill-rule:evenodd;stroke:#000000;stroke-width:2.0px;stroke-linecap:butt;stroke-linejoin:miter;stroke-opacity:1\"/>\n",
       "<path d=\"M 449.0,150.0 L 444.0,152.9\" style=\"fill:none;fill-rule:evenodd;stroke:#000000;stroke-width:2.0px;stroke-linecap:butt;stroke-linejoin:miter;stroke-opacity:1\"/>\n",
       "<path d=\"M 449.0,150.0 L 444.0,147.1\" style=\"fill:none;fill-rule:evenodd;stroke:#000000;stroke-width:2.0px;stroke-linecap:butt;stroke-linejoin:miter;stroke-opacity:1\"/>\n",
       "</svg>"
      ],
      "text/plain": [
       "<IPython.core.display.SVG object>"
      ]
     },
     "metadata": {},
     "output_type": "display_data"
    }
   ],
   "source": [
    "display(SVG(draw_chemical_reaction(df_analyzed[\"REACTION\"][480113])))"
   ]
  },
  {
   "cell_type": "code",
   "execution_count": null,
   "id": "8c9c746b",
   "metadata": {},
   "outputs": [],
   "source": [
    "rxn.find_neighbors(df_analyzed, fp=\"Morgan\")"
   ]
  },
  {
   "cell_type": "code",
   "execution_count": null,
   "id": "a1e6373b",
   "metadata": {},
   "outputs": [],
   "source": [
    "rxn.suggested_solvent"
   ]
  },
  {
   "cell_type": "code",
   "execution_count": 8,
   "id": "7fbf7b29",
   "metadata": {},
   "outputs": [
    {
     "data": {
      "text/html": [
       "<div>\n",
       "<style scoped>\n",
       "    .dataframe tbody tr th:only-of-type {\n",
       "        vertical-align: middle;\n",
       "    }\n",
       "\n",
       "    .dataframe tbody tr th {\n",
       "        vertical-align: top;\n",
       "    }\n",
       "\n",
       "    .dataframe thead th {\n",
       "        text-align: right;\n",
       "    }\n",
       "</style>\n",
       "<table border=\"1\" class=\"dataframe\">\n",
       "  <thead>\n",
       "    <tr style=\"text-align: right;\">\n",
       "      <th></th>\n",
       "      <th>REACTION</th>\n",
       "      <th>MAPPED_REACTION</th>\n",
       "      <th>SOLVENT</th>\n",
       "      <th>REAGENT</th>\n",
       "      <th>CATALYST</th>\n",
       "      <th>N_REACTANTS</th>\n",
       "      <th>N_PRODUCTS</th>\n",
       "      <th>FG_REACTANTS</th>\n",
       "      <th>FG_PRODUCTS</th>\n",
       "      <th>PR_RINGS</th>\n",
       "      <th>...</th>\n",
       "      <th>NAME</th>\n",
       "      <th>REF</th>\n",
       "      <th>TAG</th>\n",
       "      <th>SCAFFOLD</th>\n",
       "      <th>rxn_str_patt_fp</th>\n",
       "      <th>rxn_dif_patt_fp</th>\n",
       "      <th>rxn_str_morgan_fp</th>\n",
       "      <th>rxn_dif_morgan_fp</th>\n",
       "      <th>TAG2</th>\n",
       "      <th>PRODUCT</th>\n",
       "    </tr>\n",
       "    <tr>\n",
       "      <th>index</th>\n",
       "      <th></th>\n",
       "      <th></th>\n",
       "      <th></th>\n",
       "      <th></th>\n",
       "      <th></th>\n",
       "      <th></th>\n",
       "      <th></th>\n",
       "      <th></th>\n",
       "      <th></th>\n",
       "      <th></th>\n",
       "      <th></th>\n",
       "      <th></th>\n",
       "      <th></th>\n",
       "      <th></th>\n",
       "      <th></th>\n",
       "      <th></th>\n",
       "      <th></th>\n",
       "      <th></th>\n",
       "      <th></th>\n",
       "      <th></th>\n",
       "      <th></th>\n",
       "    </tr>\n",
       "  </thead>\n",
       "  <tbody>\n",
       "    <tr>\n",
       "      <th>0</th>\n",
       "      <td>CCS(=O)(=O)Cl.OCCBr&gt;&gt;CCS(=O)(=O)OCCBr</td>\n",
       "      <td>Cl[S:3]([CH2:2][CH3:1])(=[O:4])=[O:5].[OH:6][C...</td>\n",
       "      <td>CCN(CC)CC</td>\n",
       "      <td>CCOCC</td>\n",
       "      <td></td>\n",
       "      <td>2</td>\n",
       "      <td>1</td>\n",
       "      <td>Primary alcohol.Sulfonyl halide</td>\n",
       "      <td>Sulfonate</td>\n",
       "      <td></td>\n",
       "      <td>...</td>\n",
       "      <td>Formation of Sulfonic Esters</td>\n",
       "      <td>US03930836</td>\n",
       "      <td>76a2f1ce13fb019af608455a0d79fe83b29c455d623b27...</td>\n",
       "      <td></td>\n",
       "      <td>0000000000000000000000000000000100000000000000...</td>\n",
       "      <td>0000000000000000000000000000000100000001100000...</td>\n",
       "      <td>0000000000000000000000000000000001000000000000...</td>\n",
       "      <td>0000000000000100000000000000010002000000000000...</td>\n",
       "      <td>e7708aa65b3d8696add9aec26cae169160bb027d6d2772...</td>\n",
       "      <td>VWKCDMZFOOUXSF-UHFFFAOYSA-N</td>\n",
       "    </tr>\n",
       "  </tbody>\n",
       "</table>\n",
       "<p>1 rows × 24 columns</p>\n",
       "</div>"
      ],
      "text/plain": [
       "                                    REACTION  \\\n",
       "index                                          \n",
       "0      CCS(=O)(=O)Cl.OCCBr>>CCS(=O)(=O)OCCBr   \n",
       "\n",
       "                                         MAPPED_REACTION    SOLVENT REAGENT  \\\n",
       "index                                                                         \n",
       "0      Cl[S:3]([CH2:2][CH3:1])(=[O:4])=[O:5].[OH:6][C...  CCN(CC)CC   CCOCC   \n",
       "\n",
       "      CATALYST  N_REACTANTS  N_PRODUCTS                     FG_REACTANTS  \\\n",
       "index                                                                      \n",
       "0                         2           1  Primary alcohol.Sulfonyl halide   \n",
       "\n",
       "      FG_PRODUCTS PR_RINGS  ...                          NAME         REF  \\\n",
       "index                       ...                                             \n",
       "0       Sulfonate           ...  Formation of Sulfonic Esters  US03930836   \n",
       "\n",
       "                                                     TAG SCAFFOLD  \\\n",
       "index                                                               \n",
       "0      76a2f1ce13fb019af608455a0d79fe83b29c455d623b27...            \n",
       "\n",
       "                                         rxn_str_patt_fp  \\\n",
       "index                                                      \n",
       "0      0000000000000000000000000000000100000000000000...   \n",
       "\n",
       "                                         rxn_dif_patt_fp  \\\n",
       "index                                                      \n",
       "0      0000000000000000000000000000000100000001100000...   \n",
       "\n",
       "                                       rxn_str_morgan_fp  \\\n",
       "index                                                      \n",
       "0      0000000000000000000000000000000001000000000000...   \n",
       "\n",
       "                                       rxn_dif_morgan_fp  \\\n",
       "index                                                      \n",
       "0      0000000000000100000000000000010002000000000000...   \n",
       "\n",
       "                                                    TAG2  \\\n",
       "index                                                      \n",
       "0      e7708aa65b3d8696add9aec26cae169160bb027d6d2772...   \n",
       "\n",
       "                           PRODUCT  \n",
       "index                               \n",
       "0      VWKCDMZFOOUXSF-UHFFFAOYSA-N  \n",
       "\n",
       "[1 rows x 24 columns]"
      ]
     },
     "execution_count": 8,
     "metadata": {},
     "output_type": "execute_result"
    }
   ],
   "source": [
    "df_analyzed.head(1)"
   ]
  },
  {
   "cell_type": "code",
   "execution_count": 29,
   "id": "5c6e94f3",
   "metadata": {},
   "outputs": [
    {
     "data": {
      "text/plain": [
       "array([0, 0, 0, 0, 0, 0, 0, 0, 0, 0, 0, 0, 0, 0, 0, 0, 0, 0, 0, 0, 0, 0,\n",
       "       0, 0, 0, 0, 0, 1, 0, 0, 0, 0, 0, 0, 1, 0, 0, 0, 0, 0, 0, 0, 0, 0,\n",
       "       0, 0, 0, 0, 0, 0, 0, 0, 0, 0, 0, 0, 0, 0, 0, 0, 0, 0, 0, 0, 0, 0,\n",
       "       0, 0, 0, 0, 0, 0, 0, 0, 0, 0, 0, 0, 0, 0, 0, 0, 0, 0, 0, 0, 0, 1,\n",
       "       0, 0, 0, 0, 0, 0, 0, 0, 0, 0, 0, 1, 0, 0, 0, 0, 0, 0, 0, 1, 0, 0,\n",
       "       0, 0, 0, 0, 0, 0, 0, 0, 0, 0, 0, 0, 0, 0, 0, 0, 0, 0, 0, 0, 0, 0,\n",
       "       0, 0, 1, 0, 0, 0, 0, 0, 0, 0, 0, 0, 0, 0, 0, 0, 0, 0, 0, 0, 0, 0,\n",
       "       0, 0, 0, 0, 0, 0, 0, 0, 0, 0, 0, 0, 0, 0, 0, 0, 0, 0, 0, 0, 0, 0,\n",
       "       0, 0, 0, 0, 0, 0, 0, 0, 0, 0, 0, 0, 0, 0, 0, 0, 0, 0, 0, 0, 0, 0,\n",
       "       0, 0, 0, 0, 0, 0, 0, 0, 0, 0, 0, 0, 0, 0, 0, 0, 0, 0, 0, 0, 0, 0,\n",
       "       0, 0, 0, 0, 0, 0, 0, 0, 0, 0, 0, 0, 0, 0, 0, 0, 0, 0, 0, 0, 0, 0,\n",
       "       0, 0, 0, 0, 0, 0, 0, 0, 0, 0, 0, 0, 0, 0, 0, 0, 0, 0, 0, 0, 0, 0,\n",
       "       0, 0, 1, 0, 0, 0, 0, 0, 0, 0, 0, 0, 0, 0, 0, 0, 0, 0, 0, 0, 0, 0,\n",
       "       0, 0, 0, 0, 0, 0, 1, 0, 0, 0, 0, 0, 0, 0, 0, 0, 0, 0, 0, 0, 0, 0,\n",
       "       0, 0, 0, 0, 1, 0, 0, 0, 0, 0, 0, 0, 0, 0, 0, 0, 0, 0, 0, 0, 0, 1,\n",
       "       1, 0, 1, 0])"
      ]
     },
     "execution_count": 29,
     "metadata": {},
     "output_type": "execute_result"
    }
   ],
   "source": [
    "np.array(DataStructs.CreateFromBitString(\"\".join(fp2.astype(np.str_))))"
   ]
  },
  {
   "cell_type": "code",
   "execution_count": 9,
   "id": "fdef4aa0",
   "metadata": {},
   "outputs": [],
   "source": [
    "from tqdm import tqdm"
   ]
  },
  {
   "cell_type": "code",
   "execution_count": null,
   "id": "c2d07001",
   "metadata": {},
   "outputs": [],
   "source": [
    "DataStructs."
   ]
  },
  {
   "cell_type": "code",
   "execution_count": 31,
   "id": "d74a355c",
   "metadata": {},
   "outputs": [],
   "source": [
    "rxn_mapper = RXNMapper()\n",
    "fg = pd.read_json('data/functional_groups.data', orient='records', lines=True)\n",
    "smirks = pd.read_json('data/smirks.data', orient='records', lines=True)"
   ]
  },
  {
   "cell_type": "code",
   "execution_count": 37,
   "id": "415cce07",
   "metadata": {},
   "outputs": [
    {
     "name": "stderr",
     "output_type": "stream",
     "text": [
      "100%|█████████████████████████████████████████████████████████████████████| 1779551/1779551 [17:04:59<00:00, 28.94it/s]\n"
     ]
    }
   ],
   "source": [
    "bad_ids = []\n",
    "for i in tqdm(df_analyzed.index):\n",
    "    r1 = df_analyzed[\"REACTION\"][i]\n",
    "    fp1 = \"\".join(get_fp(r1, fp=\"MACCS\", concatenate=True).astype(np.str_))\n",
    "    df_analyzed.loc[i, \"rxn_str_patt_fp\"] = fp1"
   ]
  },
  {
   "cell_type": "code",
   "execution_count": 38,
   "id": "d2584bce",
   "metadata": {},
   "outputs": [],
   "source": [
    "df_analyzed.to_parquet(\"data/uspto.gzip\")"
   ]
  },
  {
   "cell_type": "code",
   "execution_count": 34,
   "id": "bb354bd4",
   "metadata": {},
   "outputs": [
    {
     "data": {
      "text/plain": [
       "'Cl>>Cl'"
      ]
     },
     "execution_count": 34,
     "metadata": {},
     "output_type": "execute_result"
    }
   ],
   "source": [
    "df_analyzed[\"REACTION\"][8]"
   ]
  },
  {
   "cell_type": "code",
   "execution_count": 39,
   "id": "b70bfe7d",
   "metadata": {},
   "outputs": [
    {
     "data": {
      "text/html": [
       "<div>\n",
       "<style scoped>\n",
       "    .dataframe tbody tr th:only-of-type {\n",
       "        vertical-align: middle;\n",
       "    }\n",
       "\n",
       "    .dataframe tbody tr th {\n",
       "        vertical-align: top;\n",
       "    }\n",
       "\n",
       "    .dataframe thead th {\n",
       "        text-align: right;\n",
       "    }\n",
       "</style>\n",
       "<table border=\"1\" class=\"dataframe\">\n",
       "  <thead>\n",
       "    <tr style=\"text-align: right;\">\n",
       "      <th></th>\n",
       "      <th>REACTION</th>\n",
       "      <th>MAPPED_REACTION</th>\n",
       "      <th>SOLVENT</th>\n",
       "      <th>REAGENT</th>\n",
       "      <th>CATALYST</th>\n",
       "      <th>N_REACTANTS</th>\n",
       "      <th>N_PRODUCTS</th>\n",
       "      <th>FG_REACTANTS</th>\n",
       "      <th>FG_PRODUCTS</th>\n",
       "      <th>PR_RINGS</th>\n",
       "      <th>...</th>\n",
       "      <th>NAME</th>\n",
       "      <th>REF</th>\n",
       "      <th>TAG</th>\n",
       "      <th>SCAFFOLD</th>\n",
       "      <th>rxn_str_patt_fp</th>\n",
       "      <th>rxn_dif_patt_fp</th>\n",
       "      <th>rxn_str_morgan_fp</th>\n",
       "      <th>rxn_dif_morgan_fp</th>\n",
       "      <th>TAG2</th>\n",
       "      <th>PRODUCT</th>\n",
       "    </tr>\n",
       "    <tr>\n",
       "      <th>index</th>\n",
       "      <th></th>\n",
       "      <th></th>\n",
       "      <th></th>\n",
       "      <th></th>\n",
       "      <th></th>\n",
       "      <th></th>\n",
       "      <th></th>\n",
       "      <th></th>\n",
       "      <th></th>\n",
       "      <th></th>\n",
       "      <th></th>\n",
       "      <th></th>\n",
       "      <th></th>\n",
       "      <th></th>\n",
       "      <th></th>\n",
       "      <th></th>\n",
       "      <th></th>\n",
       "      <th></th>\n",
       "      <th></th>\n",
       "      <th></th>\n",
       "      <th></th>\n",
       "    </tr>\n",
       "  </thead>\n",
       "  <tbody>\n",
       "    <tr>\n",
       "      <th>0</th>\n",
       "      <td>CCS(=O)(=O)Cl.OCCBr&gt;&gt;CCS(=O)(=O)OCCBr</td>\n",
       "      <td>Cl[S:3]([CH2:2][CH3:1])(=[O:4])=[O:5].[OH:6][C...</td>\n",
       "      <td>CCN(CC)CC</td>\n",
       "      <td>CCOCC</td>\n",
       "      <td></td>\n",
       "      <td>2</td>\n",
       "      <td>1</td>\n",
       "      <td>Primary alcohol.Sulfonyl halide</td>\n",
       "      <td>Sulfonate</td>\n",
       "      <td></td>\n",
       "      <td>...</td>\n",
       "      <td>Formation of Sulfonic Esters</td>\n",
       "      <td>US03930836</td>\n",
       "      <td>76a2f1ce13fb019af608455a0d79fe83b29c455d623b27...</td>\n",
       "      <td></td>\n",
       "      <td>0000000000000000000000000000000100000000000000...</td>\n",
       "      <td>0000000000000000000000000000000100000001100000...</td>\n",
       "      <td>0000000000000000000000000000000001000000000000...</td>\n",
       "      <td>0000000000000100000000000000010002000000000000...</td>\n",
       "      <td>e7708aa65b3d8696add9aec26cae169160bb027d6d2772...</td>\n",
       "      <td>VWKCDMZFOOUXSF-UHFFFAOYSA-N</td>\n",
       "    </tr>\n",
       "    <tr>\n",
       "      <th>1</th>\n",
       "      <td>CS(=O)(=O)Cl.OCCCBr&gt;&gt;CS(=O)(=O)OCCCBr</td>\n",
       "      <td>Cl[S:2]([CH3:1])(=[O:3])=[O:4].[OH:5][CH2:6][C...</td>\n",
       "      <td>CCN(CC)CC</td>\n",
       "      <td>CCOCC</td>\n",
       "      <td></td>\n",
       "      <td>2</td>\n",
       "      <td>1</td>\n",
       "      <td>Primary alcohol.Sulfonyl halide</td>\n",
       "      <td>Mesylate</td>\n",
       "      <td></td>\n",
       "      <td>...</td>\n",
       "      <td>Formation of Sulfonic Esters</td>\n",
       "      <td>US03930836</td>\n",
       "      <td>2fa969eb2c954bb96793348a1b2335ec63fbd290dadec6...</td>\n",
       "      <td></td>\n",
       "      <td>0000000000000000000000000000000100000000000000...</td>\n",
       "      <td>0000000000000000000000000000000100000001100000...</td>\n",
       "      <td>0000100000000000000000000000000001000000000000...</td>\n",
       "      <td>0000100000000100000000000000000002000000000000...</td>\n",
       "      <td>cb77b899e4adf980b1def97230ef2861660fd7f9602260...</td>\n",
       "      <td>RZBUBNOTSHCHRT-UHFFFAOYSA-N</td>\n",
       "    </tr>\n",
       "    <tr>\n",
       "      <th>2</th>\n",
       "      <td>CC(C)CS(=O)(=O)Cl.OCCCl&gt;&gt;CC(C)CS(=O)(=O)OCCCl</td>\n",
       "      <td>Cl[S:5]([CH2:4][CH:2]([CH3:1])[CH3:3])(=[O:6])...</td>\n",
       "      <td>CCN(CC)CC</td>\n",
       "      <td>CCOCC</td>\n",
       "      <td></td>\n",
       "      <td>2</td>\n",
       "      <td>1</td>\n",
       "      <td>Primary alcohol.Sulfonyl halide</td>\n",
       "      <td>Sulfonate</td>\n",
       "      <td></td>\n",
       "      <td>...</td>\n",
       "      <td>Formation of Sulfonic Esters</td>\n",
       "      <td>US03930836</td>\n",
       "      <td>76a2f1ce13fb019af608455a0d79fe83b29c455d623b27...</td>\n",
       "      <td></td>\n",
       "      <td>0000000000000000000000000000000100000000000000...</td>\n",
       "      <td>0000000000000000000000000000000100000001100000...</td>\n",
       "      <td>0100000000000000000000000000000001000000000000...</td>\n",
       "      <td>0200000000000100000000000000000002000000000000...</td>\n",
       "      <td>e7708aa65b3d8696add9aec26cae169160bb027d6d2772...</td>\n",
       "      <td>TZEHOSBZAOXGPY-UHFFFAOYSA-N</td>\n",
       "    </tr>\n",
       "    <tr>\n",
       "      <th>3</th>\n",
       "      <td>CCS(=O)(=O)Cl.OCCBr&gt;&gt;CCS(=O)(=O)OCCBr</td>\n",
       "      <td>Cl[S:3]([CH2:2][CH3:1])(=[O:4])=[O:5].[OH:6][C...</td>\n",
       "      <td>CCN(CC)CC</td>\n",
       "      <td>CCOCC</td>\n",
       "      <td></td>\n",
       "      <td>2</td>\n",
       "      <td>1</td>\n",
       "      <td>Primary alcohol.Sulfonyl halide</td>\n",
       "      <td>Sulfonate</td>\n",
       "      <td></td>\n",
       "      <td>...</td>\n",
       "      <td>Formation of Sulfonic Esters</td>\n",
       "      <td>US03930839</td>\n",
       "      <td>76a2f1ce13fb019af608455a0d79fe83b29c455d623b27...</td>\n",
       "      <td></td>\n",
       "      <td>0000000000000000000000000000000100000000000000...</td>\n",
       "      <td>0000000000000000000000000000000100000001100000...</td>\n",
       "      <td>0000000000000000000000000000000001000000000000...</td>\n",
       "      <td>0000000000000100000000000000010002000000000000...</td>\n",
       "      <td>e7708aa65b3d8696add9aec26cae169160bb027d6d2772...</td>\n",
       "      <td>VWKCDMZFOOUXSF-UHFFFAOYSA-N</td>\n",
       "    </tr>\n",
       "    <tr>\n",
       "      <th>4</th>\n",
       "      <td>CS(=O)(=O)Cl.OCCCBr&gt;&gt;CS(=O)(=O)OCCCBr</td>\n",
       "      <td>Cl[S:2]([CH3:1])(=[O:3])=[O:4].[OH:5][CH2:6][C...</td>\n",
       "      <td>CCN(CC)CC</td>\n",
       "      <td>CCOCC</td>\n",
       "      <td></td>\n",
       "      <td>2</td>\n",
       "      <td>1</td>\n",
       "      <td>Primary alcohol.Sulfonyl halide</td>\n",
       "      <td>Mesylate</td>\n",
       "      <td></td>\n",
       "      <td>...</td>\n",
       "      <td>Formation of Sulfonic Esters</td>\n",
       "      <td>US03930839</td>\n",
       "      <td>2fa969eb2c954bb96793348a1b2335ec63fbd290dadec6...</td>\n",
       "      <td></td>\n",
       "      <td>0000000000000000000000000000000100000000000000...</td>\n",
       "      <td>0000000000000000000000000000000100000001100000...</td>\n",
       "      <td>0000100000000000000000000000000001000000000000...</td>\n",
       "      <td>0000100000000100000000000000000002000000000000...</td>\n",
       "      <td>cb77b899e4adf980b1def97230ef2861660fd7f9602260...</td>\n",
       "      <td>RZBUBNOTSHCHRT-UHFFFAOYSA-N</td>\n",
       "    </tr>\n",
       "  </tbody>\n",
       "</table>\n",
       "<p>5 rows × 24 columns</p>\n",
       "</div>"
      ],
      "text/plain": [
       "                                            REACTION  \\\n",
       "index                                                  \n",
       "0              CCS(=O)(=O)Cl.OCCBr>>CCS(=O)(=O)OCCBr   \n",
       "1              CS(=O)(=O)Cl.OCCCBr>>CS(=O)(=O)OCCCBr   \n",
       "2      CC(C)CS(=O)(=O)Cl.OCCCl>>CC(C)CS(=O)(=O)OCCCl   \n",
       "3              CCS(=O)(=O)Cl.OCCBr>>CCS(=O)(=O)OCCBr   \n",
       "4              CS(=O)(=O)Cl.OCCCBr>>CS(=O)(=O)OCCCBr   \n",
       "\n",
       "                                         MAPPED_REACTION    SOLVENT REAGENT  \\\n",
       "index                                                                         \n",
       "0      Cl[S:3]([CH2:2][CH3:1])(=[O:4])=[O:5].[OH:6][C...  CCN(CC)CC   CCOCC   \n",
       "1      Cl[S:2]([CH3:1])(=[O:3])=[O:4].[OH:5][CH2:6][C...  CCN(CC)CC   CCOCC   \n",
       "2      Cl[S:5]([CH2:4][CH:2]([CH3:1])[CH3:3])(=[O:6])...  CCN(CC)CC   CCOCC   \n",
       "3      Cl[S:3]([CH2:2][CH3:1])(=[O:4])=[O:5].[OH:6][C...  CCN(CC)CC   CCOCC   \n",
       "4      Cl[S:2]([CH3:1])(=[O:3])=[O:4].[OH:5][CH2:6][C...  CCN(CC)CC   CCOCC   \n",
       "\n",
       "      CATALYST  N_REACTANTS  N_PRODUCTS                     FG_REACTANTS  \\\n",
       "index                                                                      \n",
       "0                         2           1  Primary alcohol.Sulfonyl halide   \n",
       "1                         2           1  Primary alcohol.Sulfonyl halide   \n",
       "2                         2           1  Primary alcohol.Sulfonyl halide   \n",
       "3                         2           1  Primary alcohol.Sulfonyl halide   \n",
       "4                         2           1  Primary alcohol.Sulfonyl halide   \n",
       "\n",
       "      FG_PRODUCTS PR_RINGS  ...                          NAME         REF  \\\n",
       "index                       ...                                             \n",
       "0       Sulfonate           ...  Formation of Sulfonic Esters  US03930836   \n",
       "1        Mesylate           ...  Formation of Sulfonic Esters  US03930836   \n",
       "2       Sulfonate           ...  Formation of Sulfonic Esters  US03930836   \n",
       "3       Sulfonate           ...  Formation of Sulfonic Esters  US03930839   \n",
       "4        Mesylate           ...  Formation of Sulfonic Esters  US03930839   \n",
       "\n",
       "                                                     TAG SCAFFOLD  \\\n",
       "index                                                               \n",
       "0      76a2f1ce13fb019af608455a0d79fe83b29c455d623b27...            \n",
       "1      2fa969eb2c954bb96793348a1b2335ec63fbd290dadec6...            \n",
       "2      76a2f1ce13fb019af608455a0d79fe83b29c455d623b27...            \n",
       "3      76a2f1ce13fb019af608455a0d79fe83b29c455d623b27...            \n",
       "4      2fa969eb2c954bb96793348a1b2335ec63fbd290dadec6...            \n",
       "\n",
       "                                         rxn_str_patt_fp  \\\n",
       "index                                                      \n",
       "0      0000000000000000000000000000000100000000000000...   \n",
       "1      0000000000000000000000000000000100000000000000...   \n",
       "2      0000000000000000000000000000000100000000000000...   \n",
       "3      0000000000000000000000000000000100000000000000...   \n",
       "4      0000000000000000000000000000000100000000000000...   \n",
       "\n",
       "                                         rxn_dif_patt_fp  \\\n",
       "index                                                      \n",
       "0      0000000000000000000000000000000100000001100000...   \n",
       "1      0000000000000000000000000000000100000001100000...   \n",
       "2      0000000000000000000000000000000100000001100000...   \n",
       "3      0000000000000000000000000000000100000001100000...   \n",
       "4      0000000000000000000000000000000100000001100000...   \n",
       "\n",
       "                                       rxn_str_morgan_fp  \\\n",
       "index                                                      \n",
       "0      0000000000000000000000000000000001000000000000...   \n",
       "1      0000100000000000000000000000000001000000000000...   \n",
       "2      0100000000000000000000000000000001000000000000...   \n",
       "3      0000000000000000000000000000000001000000000000...   \n",
       "4      0000100000000000000000000000000001000000000000...   \n",
       "\n",
       "                                       rxn_dif_morgan_fp  \\\n",
       "index                                                      \n",
       "0      0000000000000100000000000000010002000000000000...   \n",
       "1      0000100000000100000000000000000002000000000000...   \n",
       "2      0200000000000100000000000000000002000000000000...   \n",
       "3      0000000000000100000000000000010002000000000000...   \n",
       "4      0000100000000100000000000000000002000000000000...   \n",
       "\n",
       "                                                    TAG2  \\\n",
       "index                                                      \n",
       "0      e7708aa65b3d8696add9aec26cae169160bb027d6d2772...   \n",
       "1      cb77b899e4adf980b1def97230ef2861660fd7f9602260...   \n",
       "2      e7708aa65b3d8696add9aec26cae169160bb027d6d2772...   \n",
       "3      e7708aa65b3d8696add9aec26cae169160bb027d6d2772...   \n",
       "4      cb77b899e4adf980b1def97230ef2861660fd7f9602260...   \n",
       "\n",
       "                           PRODUCT  \n",
       "index                               \n",
       "0      VWKCDMZFOOUXSF-UHFFFAOYSA-N  \n",
       "1      RZBUBNOTSHCHRT-UHFFFAOYSA-N  \n",
       "2      TZEHOSBZAOXGPY-UHFFFAOYSA-N  \n",
       "3      VWKCDMZFOOUXSF-UHFFFAOYSA-N  \n",
       "4      RZBUBNOTSHCHRT-UHFFFAOYSA-N  \n",
       "\n",
       "[5 rows x 24 columns]"
      ]
     },
     "execution_count": 39,
     "metadata": {},
     "output_type": "execute_result"
    }
   ],
   "source": [
    "df_analyzed.head()"
   ]
  },
  {
   "cell_type": "code",
   "execution_count": null,
   "id": "d46cc993",
   "metadata": {},
   "outputs": [],
   "source": []
  }
 ],
 "metadata": {
  "kernelspec": {
   "display_name": "rxninsights",
   "language": "python",
   "name": "rxninsights"
  },
  "language_info": {
   "codemirror_mode": {
    "name": "ipython",
    "version": 3
   },
   "file_extension": ".py",
   "mimetype": "text/x-python",
   "name": "python",
   "nbconvert_exporter": "python",
   "pygments_lexer": "ipython3",
   "version": "3.10.11"
  }
 },
 "nbformat": 4,
 "nbformat_minor": 5
}
