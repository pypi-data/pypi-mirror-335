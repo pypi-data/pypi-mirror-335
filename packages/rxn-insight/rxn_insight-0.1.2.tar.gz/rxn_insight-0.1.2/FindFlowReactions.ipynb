{
 "cells": [
  {
   "cell_type": "markdown",
   "id": "e0adb9b4",
   "metadata": {},
   "source": [
    "# 1. Import RxnInsights"
   ]
  },
  {
   "cell_type": "code",
   "execution_count": 1,
   "id": "4cedc8f2",
   "metadata": {},
   "outputs": [],
   "source": [
    "from rxn_insight.reaction import *"
   ]
  },
  {
   "cell_type": "markdown",
   "id": "a364b95a",
   "metadata": {},
   "source": [
    "# 2. Load sample dataset"
   ]
  },
  {
   "cell_type": "code",
   "execution_count": 2,
   "id": "25f86f4b",
   "metadata": {},
   "outputs": [
    {
     "data": {
      "text/html": [
       "<div>\n",
       "<style scoped>\n",
       "    .dataframe tbody tr th:only-of-type {\n",
       "        vertical-align: middle;\n",
       "    }\n",
       "\n",
       "    .dataframe tbody tr th {\n",
       "        vertical-align: top;\n",
       "    }\n",
       "\n",
       "    .dataframe thead th {\n",
       "        text-align: right;\n",
       "    }\n",
       "</style>\n",
       "<table border=\"1\" class=\"dataframe\">\n",
       "  <thead>\n",
       "    <tr style=\"text-align: right;\">\n",
       "      <th></th>\n",
       "      <th>REACTION</th>\n",
       "      <th>MAPPED_REACTION</th>\n",
       "      <th>SOLVENT</th>\n",
       "      <th>REAGENT</th>\n",
       "      <th>CATALYST</th>\n",
       "      <th>N_REACTANTS</th>\n",
       "      <th>N_PRODUCTS</th>\n",
       "      <th>FG_REACTANTS</th>\n",
       "      <th>FG_PRODUCTS</th>\n",
       "      <th>PR_RINGS</th>\n",
       "      <th>...</th>\n",
       "      <th>NAME</th>\n",
       "      <th>REF</th>\n",
       "      <th>TAG</th>\n",
       "      <th>WOS ID</th>\n",
       "      <th>DOI</th>\n",
       "      <th>AUTHORS</th>\n",
       "      <th>TITLE</th>\n",
       "      <th>JOURNAL</th>\n",
       "      <th>YEAR</th>\n",
       "      <th>TAG2</th>\n",
       "    </tr>\n",
       "    <tr>\n",
       "      <th>INDEX</th>\n",
       "      <th></th>\n",
       "      <th></th>\n",
       "      <th></th>\n",
       "      <th></th>\n",
       "      <th></th>\n",
       "      <th></th>\n",
       "      <th></th>\n",
       "      <th></th>\n",
       "      <th></th>\n",
       "      <th></th>\n",
       "      <th></th>\n",
       "      <th></th>\n",
       "      <th></th>\n",
       "      <th></th>\n",
       "      <th></th>\n",
       "      <th></th>\n",
       "      <th></th>\n",
       "      <th></th>\n",
       "      <th></th>\n",
       "      <th></th>\n",
       "      <th></th>\n",
       "    </tr>\n",
       "  </thead>\n",
       "  <tbody>\n",
       "    <tr>\n",
       "      <th>0</th>\n",
       "      <td>Cc1ccc(OS(=O)(=O)C(F)(F)F)cc1.O=C(O)c1ccccc1[N...</td>\n",
       "      <td>O=S(=O)(O[c:5]1[cH:4][cH:3][c:2]([CH3:1])[cH:1...</td>\n",
       "      <td>CN1CCCC1=O</td>\n",
       "      <td>CC(C)(C)O.[K]</td>\n",
       "      <td>CC(=O)O.[Pd].3375-31-3.33989-10-5.33989-10-5</td>\n",
       "      <td>2</td>\n",
       "      <td>1</td>\n",
       "      <td>Triflate.Carboxylic acid</td>\n",
       "      <td>None</td>\n",
       "      <td>c1ccccc1.c1ccccc1</td>\n",
       "      <td>...</td>\n",
       "      <td>OtherReaction</td>\n",
       "      <td>Chemical Communications (Cambridge, United Kin...</td>\n",
       "      <td>4de5fbb3a641c792751b978154deb99cc14bee280e243c...</td>\n",
       "      <td>WOS:000288085600090</td>\n",
       "      <td>10.1039/c0cc05708h</td>\n",
       "      <td>Lange, PP; Goossen, LJ; Podmore, P; Underwood,...</td>\n",
       "      <td>Decarboxylative biaryl synthesis in a continuo...</td>\n",
       "      <td>CHEMICAL COMMUNICATIONS</td>\n",
       "      <td>2011</td>\n",
       "      <td>d8b4eba39e6dcaf21d41e041faa97ad113cb9ce3deb073...</td>\n",
       "    </tr>\n",
       "  </tbody>\n",
       "</table>\n",
       "<p>1 rows × 24 columns</p>\n",
       "</div>"
      ],
      "text/plain": [
       "                                                REACTION  \\\n",
       "INDEX                                                      \n",
       "0      Cc1ccc(OS(=O)(=O)C(F)(F)F)cc1.O=C(O)c1ccccc1[N...   \n",
       "\n",
       "                                         MAPPED_REACTION     SOLVENT  \\\n",
       "INDEX                                                                  \n",
       "0      O=S(=O)(O[c:5]1[cH:4][cH:3][c:2]([CH3:1])[cH:1...  CN1CCCC1=O   \n",
       "\n",
       "             REAGENT                                      CATALYST  \\\n",
       "INDEX                                                                \n",
       "0      CC(C)(C)O.[K]  CC(=O)O.[Pd].3375-31-3.33989-10-5.33989-10-5   \n",
       "\n",
       "       N_REACTANTS  N_PRODUCTS              FG_REACTANTS FG_PRODUCTS  \\\n",
       "INDEX                                                                  \n",
       "0                2           1  Triflate.Carboxylic acid        None   \n",
       "\n",
       "                PR_RINGS  ...           NAME  \\\n",
       "INDEX                     ...                  \n",
       "0      c1ccccc1.c1ccccc1  ...  OtherReaction   \n",
       "\n",
       "                                                     REF  \\\n",
       "INDEX                                                      \n",
       "0      Chemical Communications (Cambridge, United Kin...   \n",
       "\n",
       "                                                     TAG               WOS ID  \\\n",
       "INDEX                                                                           \n",
       "0      4de5fbb3a641c792751b978154deb99cc14bee280e243c...  WOS:000288085600090   \n",
       "\n",
       "                      DOI                                            AUTHORS  \\\n",
       "INDEX                                                                          \n",
       "0      10.1039/c0cc05708h  Lange, PP; Goossen, LJ; Podmore, P; Underwood,...   \n",
       "\n",
       "                                                   TITLE  \\\n",
       "INDEX                                                      \n",
       "0      Decarboxylative biaryl synthesis in a continuo...   \n",
       "\n",
       "                       JOURNAL  YEAR  \\\n",
       "INDEX                                  \n",
       "0      CHEMICAL COMMUNICATIONS  2011   \n",
       "\n",
       "                                                    TAG2  \n",
       "INDEX                                                     \n",
       "0      d8b4eba39e6dcaf21d41e041faa97ad113cb9ce3deb073...  \n",
       "\n",
       "[1 rows x 24 columns]"
      ]
     },
     "execution_count": 2,
     "metadata": {},
     "output_type": "execute_result"
    }
   ],
   "source": [
    "df = pd.read_parquet(\"data/flow_database.gzip\")\n",
    "df.head(1)"
   ]
  },
  {
   "cell_type": "code",
   "execution_count": 3,
   "id": "01c3e693",
   "metadata": {},
   "outputs": [],
   "source": [
    "r = \"N#Cc1ccccc1c2ccccc2>>c3ccc(c1ccccc1c2nnn[nH]2)cc3\""
   ]
  },
  {
   "cell_type": "code",
   "execution_count": 4,
   "id": "1dd7c6e3",
   "metadata": {},
   "outputs": [
    {
     "data": {
      "image/svg+xml": [
       "<svg xmlns=\"http://www.w3.org/2000/svg\" xmlns:rdkit=\"http://www.rdkit.org/xml\" xmlns:xlink=\"http://www.w3.org/1999/xlink\" version=\"1.1\" baseProfile=\"full\" xml:space=\"preserve\" width=\"800px\" height=\"300px\" viewBox=\"0 0 800 300\">\n",
       "<!-- END OF HEADER -->\n",
       "<rect style=\"opacity:1.0;fill:#FFFFFF;stroke:none\" width=\"800.0\" height=\"300.0\" x=\"0.0\" y=\"0.0\"> </rect>\n",
       "<path class=\"bond-0 atom-0 atom-1\" d=\"M 164.4,238.9 L 153.4,218.2\" style=\"fill:none;fill-rule:evenodd;stroke:#0000FF;stroke-width:2.0px;stroke-linecap:butt;stroke-linejoin:miter;stroke-opacity:1\"/>\n",
       "<path class=\"bond-0 atom-0 atom-1\" d=\"M 153.4,218.2 L 142.5,197.5\" style=\"fill:none;fill-rule:evenodd;stroke:#000000;stroke-width:2.0px;stroke-linecap:butt;stroke-linejoin:miter;stroke-opacity:1\"/>\n",
       "<path class=\"bond-0 atom-0 atom-1\" d=\"M 156.6,243.0 L 145.7,222.3\" style=\"fill:none;fill-rule:evenodd;stroke:#0000FF;stroke-width:2.0px;stroke-linecap:butt;stroke-linejoin:miter;stroke-opacity:1\"/>\n",
       "<path class=\"bond-0 atom-0 atom-1\" d=\"M 145.7,222.3 L 134.8,201.6\" style=\"fill:none;fill-rule:evenodd;stroke:#000000;stroke-width:2.0px;stroke-linecap:butt;stroke-linejoin:miter;stroke-opacity:1\"/>\n",
       "<path class=\"bond-0 atom-0 atom-1\" d=\"M 172.1,234.9 L 161.2,214.1\" style=\"fill:none;fill-rule:evenodd;stroke:#0000FF;stroke-width:2.0px;stroke-linecap:butt;stroke-linejoin:miter;stroke-opacity:1\"/>\n",
       "<path class=\"bond-0 atom-0 atom-1\" d=\"M 161.2,214.1 L 150.3,193.4\" style=\"fill:none;fill-rule:evenodd;stroke:#000000;stroke-width:2.0px;stroke-linecap:butt;stroke-linejoin:miter;stroke-opacity:1\"/>\n",
       "<path class=\"bond-1 atom-1 atom-2\" d=\"M 142.5,197.5 L 115.2,145.9\" style=\"fill:none;fill-rule:evenodd;stroke:#000000;stroke-width:2.0px;stroke-linecap:butt;stroke-linejoin:miter;stroke-opacity:1\"/>\n",
       "<path class=\"bond-2 atom-2 atom-3\" d=\"M 115.2,145.9 L 56.9,143.7\" style=\"fill:none;fill-rule:evenodd;stroke:#000000;stroke-width:2.0px;stroke-linecap:butt;stroke-linejoin:miter;stroke-opacity:1\"/>\n",
       "<path class=\"bond-2 atom-2 atom-3\" d=\"M 110.5,136.9 L 62.3,135.1\" style=\"fill:none;fill-rule:evenodd;stroke:#000000;stroke-width:2.0px;stroke-linecap:butt;stroke-linejoin:miter;stroke-opacity:1\"/>\n",
       "<path class=\"bond-3 atom-3 atom-4\" d=\"M 56.9,143.7 L 29.6,92.0\" style=\"fill:none;fill-rule:evenodd;stroke:#000000;stroke-width:2.0px;stroke-linecap:butt;stroke-linejoin:miter;stroke-opacity:1\"/>\n",
       "<path class=\"bond-4 atom-4 atom-5\" d=\"M 29.6,92.0 L 60.7,42.6\" style=\"fill:none;fill-rule:evenodd;stroke:#000000;stroke-width:2.0px;stroke-linecap:butt;stroke-linejoin:miter;stroke-opacity:1\"/>\n",
       "<path class=\"bond-4 atom-4 atom-5\" d=\"M 39.7,92.4 L 65.4,51.5\" style=\"fill:none;fill-rule:evenodd;stroke:#000000;stroke-width:2.0px;stroke-linecap:butt;stroke-linejoin:miter;stroke-opacity:1\"/>\n",
       "<path class=\"bond-5 atom-5 atom-6\" d=\"M 60.7,42.6 L 119.0,44.8\" style=\"fill:none;fill-rule:evenodd;stroke:#000000;stroke-width:2.0px;stroke-linecap:butt;stroke-linejoin:miter;stroke-opacity:1\"/>\n",
       "<path class=\"bond-6 atom-6 atom-7\" d=\"M 119.0,44.8 L 146.3,96.4\" style=\"fill:none;fill-rule:evenodd;stroke:#000000;stroke-width:2.0px;stroke-linecap:butt;stroke-linejoin:miter;stroke-opacity:1\"/>\n",
       "<path class=\"bond-6 atom-6 atom-7\" d=\"M 113.7,53.4 L 136.2,96.0\" style=\"fill:none;fill-rule:evenodd;stroke:#000000;stroke-width:2.0px;stroke-linecap:butt;stroke-linejoin:miter;stroke-opacity:1\"/>\n",
       "<path class=\"bond-7 atom-7 atom-8\" d=\"M 146.3,96.4 L 204.7,98.6\" style=\"fill:none;fill-rule:evenodd;stroke:#000000;stroke-width:2.0px;stroke-linecap:butt;stroke-linejoin:miter;stroke-opacity:1\"/>\n",
       "<path class=\"bond-8 atom-8 atom-9\" d=\"M 204.7,98.6 L 232.0,150.3\" style=\"fill:none;fill-rule:evenodd;stroke:#000000;stroke-width:2.0px;stroke-linecap:butt;stroke-linejoin:miter;stroke-opacity:1\"/>\n",
       "<path class=\"bond-8 atom-8 atom-9\" d=\"M 214.8,99.0 L 237.3,141.7\" style=\"fill:none;fill-rule:evenodd;stroke:#000000;stroke-width:2.0px;stroke-linecap:butt;stroke-linejoin:miter;stroke-opacity:1\"/>\n",
       "<path class=\"bond-9 atom-9 atom-10\" d=\"M 232.0,150.3 L 290.3,152.5\" style=\"fill:none;fill-rule:evenodd;stroke:#000000;stroke-width:2.0px;stroke-linecap:butt;stroke-linejoin:miter;stroke-opacity:1\"/>\n",
       "<path class=\"bond-10 atom-10 atom-11\" d=\"M 290.3,152.5 L 321.4,103.0\" style=\"fill:none;fill-rule:evenodd;stroke:#000000;stroke-width:2.0px;stroke-linecap:butt;stroke-linejoin:miter;stroke-opacity:1\"/>\n",
       "<path class=\"bond-10 atom-10 atom-11\" d=\"M 285.6,143.5 L 311.3,102.7\" style=\"fill:none;fill-rule:evenodd;stroke:#000000;stroke-width:2.0px;stroke-linecap:butt;stroke-linejoin:miter;stroke-opacity:1\"/>\n",
       "<path class=\"bond-11 atom-11 atom-12\" d=\"M 321.4,103.0 L 294.1,51.4\" style=\"fill:none;fill-rule:evenodd;stroke:#000000;stroke-width:2.0px;stroke-linecap:butt;stroke-linejoin:miter;stroke-opacity:1\"/>\n",
       "<path class=\"bond-12 atom-12 atom-13\" d=\"M 294.1,51.4 L 235.8,49.2\" style=\"fill:none;fill-rule:evenodd;stroke:#000000;stroke-width:2.0px;stroke-linecap:butt;stroke-linejoin:miter;stroke-opacity:1\"/>\n",
       "<path class=\"bond-12 atom-12 atom-13\" d=\"M 288.7,60.0 L 240.5,58.1\" style=\"fill:none;fill-rule:evenodd;stroke:#000000;stroke-width:2.0px;stroke-linecap:butt;stroke-linejoin:miter;stroke-opacity:1\"/>\n",
       "<path class=\"bond-13 atom-7 atom-2\" d=\"M 146.3,96.4 L 115.2,145.9\" style=\"fill:none;fill-rule:evenodd;stroke:#000000;stroke-width:2.0px;stroke-linecap:butt;stroke-linejoin:miter;stroke-opacity:1\"/>\n",
       "<path class=\"bond-14 atom-13 atom-8\" d=\"M 235.8,49.2 L 204.7,98.6\" style=\"fill:none;fill-rule:evenodd;stroke:#000000;stroke-width:2.0px;stroke-linecap:butt;stroke-linejoin:miter;stroke-opacity:1\"/>\n",
       "<path d=\"M 143.1,198.5 L 142.5,197.5 L 141.1,194.9\" style=\"fill:none;stroke:#000000;stroke-width:2.0px;stroke-linecap:butt;stroke-linejoin:miter;stroke-opacity:1;\"/>\n",
       "<path d=\"M 59.8,143.8 L 56.9,143.7 L 55.5,141.1\" style=\"fill:none;stroke:#000000;stroke-width:2.0px;stroke-linecap:butt;stroke-linejoin:miter;stroke-opacity:1;\"/>\n",
       "<path d=\"M 31.0,94.6 L 29.6,92.0 L 31.2,89.6\" style=\"fill:none;stroke:#000000;stroke-width:2.0px;stroke-linecap:butt;stroke-linejoin:miter;stroke-opacity:1;\"/>\n",
       "<path d=\"M 59.1,45.1 L 60.7,42.6 L 63.6,42.7\" style=\"fill:none;stroke:#000000;stroke-width:2.0px;stroke-linecap:butt;stroke-linejoin:miter;stroke-opacity:1;\"/>\n",
       "<path d=\"M 116.1,44.7 L 119.0,44.8 L 120.4,47.4\" style=\"fill:none;stroke:#000000;stroke-width:2.0px;stroke-linecap:butt;stroke-linejoin:miter;stroke-opacity:1;\"/>\n",
       "<path d=\"M 230.6,147.7 L 232.0,150.3 L 234.9,150.4\" style=\"fill:none;stroke:#000000;stroke-width:2.0px;stroke-linecap:butt;stroke-linejoin:miter;stroke-opacity:1;\"/>\n",
       "<path d=\"M 287.4,152.4 L 290.3,152.5 L 291.9,150.0\" style=\"fill:none;stroke:#000000;stroke-width:2.0px;stroke-linecap:butt;stroke-linejoin:miter;stroke-opacity:1;\"/>\n",
       "<path d=\"M 319.8,105.5 L 321.4,103.0 L 320.0,100.5\" style=\"fill:none;stroke:#000000;stroke-width:2.0px;stroke-linecap:butt;stroke-linejoin:miter;stroke-opacity:1;\"/>\n",
       "<path d=\"M 295.5,54.0 L 294.1,51.4 L 291.2,51.3\" style=\"fill:none;stroke:#000000;stroke-width:2.0px;stroke-linecap:butt;stroke-linejoin:miter;stroke-opacity:1;\"/>\n",
       "<path d=\"M 238.7,49.3 L 235.8,49.2 L 234.2,51.7\" style=\"fill:none;stroke:#000000;stroke-width:2.0px;stroke-linecap:butt;stroke-linejoin:miter;stroke-opacity:1;\"/>\n",
       "<path class=\"atom-0\" d=\"M 166.1 240.9 L 171.5 249.6 Q 172.1 250.5, 172.9 252.1 Q 173.8 253.6, 173.9 253.7 L 173.9 240.9 L 176.0 240.9 L 176.0 257.4 L 173.8 257.4 L 168.0 247.8 Q 167.3 246.7, 166.6 245.4 Q 165.9 244.1, 165.7 243.7 L 165.7 257.4 L 163.5 257.4 L 163.5 240.9 L 166.1 240.9 \" fill=\"#0000FF\"/>\n",
       "<path class=\"bond-15 atom-14 atom-15\" d=\"M 770.5,99.1 L 735.7,145.9\" style=\"fill:none;fill-rule:evenodd;stroke:#000000;stroke-width:2.0px;stroke-linecap:butt;stroke-linejoin:miter;stroke-opacity:1\"/>\n",
       "<path class=\"bond-15 atom-14 atom-15\" d=\"M 760.5,97.9 L 731.7,136.6\" style=\"fill:none;fill-rule:evenodd;stroke:#000000;stroke-width:2.0px;stroke-linecap:butt;stroke-linejoin:miter;stroke-opacity:1\"/>\n",
       "<path class=\"bond-16 atom-15 atom-16\" d=\"M 735.7,145.9 L 677.7,139.1\" style=\"fill:none;fill-rule:evenodd;stroke:#000000;stroke-width:2.0px;stroke-linecap:butt;stroke-linejoin:miter;stroke-opacity:1\"/>\n",
       "<path class=\"bond-17 atom-16 atom-17\" d=\"M 677.7,139.1 L 654.5,85.5\" style=\"fill:none;fill-rule:evenodd;stroke:#000000;stroke-width:2.0px;stroke-linecap:butt;stroke-linejoin:miter;stroke-opacity:1\"/>\n",
       "<path class=\"bond-17 atom-16 atom-17\" d=\"M 683.7,131.0 L 664.6,86.7\" style=\"fill:none;fill-rule:evenodd;stroke:#000000;stroke-width:2.0px;stroke-linecap:butt;stroke-linejoin:miter;stroke-opacity:1\"/>\n",
       "<path class=\"bond-18 atom-17 atom-18\" d=\"M 654.5,85.5 L 596.5,78.8\" style=\"fill:none;fill-rule:evenodd;stroke:#000000;stroke-width:2.0px;stroke-linecap:butt;stroke-linejoin:miter;stroke-opacity:1\"/>\n",
       "<path class=\"bond-19 atom-18 atom-19\" d=\"M 596.5,78.8 L 573.3,25.2\" style=\"fill:none;fill-rule:evenodd;stroke:#000000;stroke-width:2.0px;stroke-linecap:butt;stroke-linejoin:miter;stroke-opacity:1\"/>\n",
       "<path class=\"bond-19 atom-18 atom-19\" d=\"M 586.4,77.6 L 567.3,33.3\" style=\"fill:none;fill-rule:evenodd;stroke:#000000;stroke-width:2.0px;stroke-linecap:butt;stroke-linejoin:miter;stroke-opacity:1\"/>\n",
       "<path class=\"bond-20 atom-19 atom-20\" d=\"M 573.3,25.2 L 515.3,18.4\" style=\"fill:none;fill-rule:evenodd;stroke:#000000;stroke-width:2.0px;stroke-linecap:butt;stroke-linejoin:miter;stroke-opacity:1\"/>\n",
       "<path class=\"bond-21 atom-20 atom-21\" d=\"M 515.3,18.4 L 480.5,65.3\" style=\"fill:none;fill-rule:evenodd;stroke:#000000;stroke-width:2.0px;stroke-linecap:butt;stroke-linejoin:miter;stroke-opacity:1\"/>\n",
       "<path class=\"bond-21 atom-20 atom-21\" d=\"M 519.3,27.7 L 490.5,66.4\" style=\"fill:none;fill-rule:evenodd;stroke:#000000;stroke-width:2.0px;stroke-linecap:butt;stroke-linejoin:miter;stroke-opacity:1\"/>\n",
       "<path class=\"bond-22 atom-21 atom-22\" d=\"M 480.5,65.3 L 503.6,118.9\" style=\"fill:none;fill-rule:evenodd;stroke:#000000;stroke-width:2.0px;stroke-linecap:butt;stroke-linejoin:miter;stroke-opacity:1\"/>\n",
       "<path class=\"bond-23 atom-22 atom-23\" d=\"M 503.6,118.9 L 561.6,125.6\" style=\"fill:none;fill-rule:evenodd;stroke:#000000;stroke-width:2.0px;stroke-linecap:butt;stroke-linejoin:miter;stroke-opacity:1\"/>\n",
       "<path class=\"bond-23 atom-22 atom-23\" d=\"M 509.7,110.8 L 557.6,116.3\" style=\"fill:none;fill-rule:evenodd;stroke:#000000;stroke-width:2.0px;stroke-linecap:butt;stroke-linejoin:miter;stroke-opacity:1\"/>\n",
       "<path class=\"bond-24 atom-23 atom-24\" d=\"M 561.6,125.6 L 584.8,179.2\" style=\"fill:none;fill-rule:evenodd;stroke:#000000;stroke-width:2.0px;stroke-linecap:butt;stroke-linejoin:miter;stroke-opacity:1\"/>\n",
       "<path class=\"bond-25 atom-24 atom-25\" d=\"M 584.8,179.2 L 609.2,184.7\" style=\"fill:none;fill-rule:evenodd;stroke:#000000;stroke-width:2.0px;stroke-linecap:butt;stroke-linejoin:miter;stroke-opacity:1\"/>\n",
       "<path class=\"bond-25 atom-24 atom-25\" d=\"M 609.2,184.7 L 633.6,190.2\" style=\"fill:none;fill-rule:evenodd;stroke:#0000FF;stroke-width:2.0px;stroke-linecap:butt;stroke-linejoin:miter;stroke-opacity:1\"/>\n",
       "<path class=\"bond-25 atom-24 atom-25\" d=\"M 589.1,189.2 L 610.4,194.0\" style=\"fill:none;fill-rule:evenodd;stroke:#000000;stroke-width:2.0px;stroke-linecap:butt;stroke-linejoin:miter;stroke-opacity:1\"/>\n",
       "<path class=\"bond-25 atom-24 atom-25\" d=\"M 610.4,194.0 L 631.7,198.7\" style=\"fill:none;fill-rule:evenodd;stroke:#0000FF;stroke-width:2.0px;stroke-linecap:butt;stroke-linejoin:miter;stroke-opacity:1\"/>\n",
       "<path class=\"bond-26 atom-25 atom-26\" d=\"M 642.7,202.2 L 646.3,240.0\" style=\"fill:none;fill-rule:evenodd;stroke:#0000FF;stroke-width:2.0px;stroke-linecap:butt;stroke-linejoin:miter;stroke-opacity:1\"/>\n",
       "<path class=\"bond-27 atom-26 atom-27\" d=\"M 639.0,253.7 L 601.8,269.8\" style=\"fill:none;fill-rule:evenodd;stroke:#0000FF;stroke-width:2.0px;stroke-linecap:butt;stroke-linejoin:miter;stroke-opacity:1\"/>\n",
       "<path class=\"bond-27 atom-26 atom-27\" d=\"M 635.6,245.7 L 598.3,261.7\" style=\"fill:none;fill-rule:evenodd;stroke:#0000FF;stroke-width:2.0px;stroke-linecap:butt;stroke-linejoin:miter;stroke-opacity:1\"/>\n",
       "<path class=\"bond-28 atom-27 atom-28\" d=\"M 585.4,264.0 L 563.2,238.8\" style=\"fill:none;fill-rule:evenodd;stroke:#0000FF;stroke-width:2.0px;stroke-linecap:butt;stroke-linejoin:miter;stroke-opacity:1\"/>\n",
       "<path class=\"bond-29 atom-17 atom-29\" d=\"M 654.5,85.5 L 689.4,38.7\" style=\"fill:none;fill-rule:evenodd;stroke:#000000;stroke-width:2.0px;stroke-linecap:butt;stroke-linejoin:miter;stroke-opacity:1\"/>\n",
       "<path class=\"bond-30 atom-29 atom-30\" d=\"M 689.4,38.7 L 747.4,45.4\" style=\"fill:none;fill-rule:evenodd;stroke:#000000;stroke-width:2.0px;stroke-linecap:butt;stroke-linejoin:miter;stroke-opacity:1\"/>\n",
       "<path class=\"bond-30 atom-29 atom-30\" d=\"M 693.4,48.0 L 741.3,53.6\" style=\"fill:none;fill-rule:evenodd;stroke:#000000;stroke-width:2.0px;stroke-linecap:butt;stroke-linejoin:miter;stroke-opacity:1\"/>\n",
       "<path class=\"bond-31 atom-23 atom-18\" d=\"M 561.6,125.6 L 596.5,78.8\" style=\"fill:none;fill-rule:evenodd;stroke:#000000;stroke-width:2.0px;stroke-linecap:butt;stroke-linejoin:miter;stroke-opacity:1\"/>\n",
       "<path class=\"bond-32 atom-28 atom-24\" d=\"M 561.1,219.3 L 572.9,199.3\" style=\"fill:none;fill-rule:evenodd;stroke:#0000FF;stroke-width:2.0px;stroke-linecap:butt;stroke-linejoin:miter;stroke-opacity:1\"/>\n",
       "<path class=\"bond-32 atom-28 atom-24\" d=\"M 572.9,199.3 L 584.8,179.2\" style=\"fill:none;fill-rule:evenodd;stroke:#000000;stroke-width:2.0px;stroke-linecap:butt;stroke-linejoin:miter;stroke-opacity:1\"/>\n",
       "<path class=\"bond-33 atom-30 atom-14\" d=\"M 747.4,45.4 L 770.5,99.1\" style=\"fill:none;fill-rule:evenodd;stroke:#000000;stroke-width:2.0px;stroke-linecap:butt;stroke-linejoin:miter;stroke-opacity:1\"/>\n",
       "<path d=\"M 768.8,101.4 L 770.5,99.1 L 769.4,96.4\" style=\"fill:none;stroke:#000000;stroke-width:2.0px;stroke-linecap:butt;stroke-linejoin:miter;stroke-opacity:1;\"/>\n",
       "<path d=\"M 737.4,143.6 L 735.7,145.9 L 732.8,145.6\" style=\"fill:none;stroke:#000000;stroke-width:2.0px;stroke-linecap:butt;stroke-linejoin:miter;stroke-opacity:1;\"/>\n",
       "<path d=\"M 680.6,139.5 L 677.7,139.1 L 676.5,136.5\" style=\"fill:none;stroke:#000000;stroke-width:2.0px;stroke-linecap:butt;stroke-linejoin:miter;stroke-opacity:1;\"/>\n",
       "<path class=\"atom-11\" d=\"M 638.1 183.8 L 643.5 192.5 Q 644.1 193.4, 644.9 195.0 Q 645.8 196.5, 645.9 196.6 L 645.9 183.8 L 648.0 183.8 L 648.0 200.3 L 645.8 200.3 L 640.0 190.7 Q 639.3 189.6, 638.6 188.3 Q 637.9 187.0, 637.7 186.6 L 637.7 200.3 L 635.5 200.3 L 635.5 183.8 L 638.1 183.8 \" fill=\"#0000FF\"/>\n",
       "<path class=\"atom-12\" d=\"M 643.6 241.9 L 649.0 250.7 Q 649.5 251.5, 650.4 253.1 Q 651.3 254.7, 651.3 254.8 L 651.3 241.9 L 653.5 241.9 L 653.5 258.4 L 651.2 258.4 L 645.4 248.9 Q 644.7 247.7, 644.0 246.5 Q 643.3 245.2, 643.1 244.8 L 643.1 258.4 L 641.0 258.4 L 641.0 241.9 L 643.6 241.9 \" fill=\"#0000FF\"/>\n",
       "<path class=\"atom-13\" d=\"M 590.0 265.1 L 595.4 273.8 Q 595.9 274.7, 596.8 276.2 Q 597.6 277.8, 597.7 277.9 L 597.7 265.1 L 599.9 265.1 L 599.9 281.6 L 597.6 281.6 L 591.8 272.0 Q 591.1 270.9, 590.4 269.6 Q 589.7 268.3, 589.5 267.9 L 589.5 281.6 L 587.3 281.6 L 587.3 265.1 L 590.0 265.1 \" fill=\"#0000FF\"/>\n",
       "<path class=\"atom-14\" d=\"M 532.6 221.2 L 534.8 221.2 L 534.8 228.3 L 543.3 228.3 L 543.3 221.2 L 545.5 221.2 L 545.5 237.8 L 543.3 237.8 L 543.3 230.1 L 534.8 230.1 L 534.8 237.8 L 532.6 237.8 L 532.6 221.2 \" fill=\"#0000FF\"/>\n",
       "<path class=\"atom-14\" d=\"M 551.4 221.2 L 556.8 230.0 Q 557.3 230.8, 558.2 232.4 Q 559.1 234.0, 559.1 234.1 L 559.1 221.2 L 561.3 221.2 L 561.3 237.8 L 559.0 237.8 L 553.2 228.2 Q 552.5 227.1, 551.8 225.8 Q 551.1 224.5, 550.9 224.1 L 550.9 237.8 L 548.8 237.8 L 548.8 221.2 L 551.4 221.2 \" fill=\"#0000FF\"/>\n",
       "<path d=\"M 358.0,150.0 L 444.0,150.0\" style=\"fill:none;fill-rule:evenodd;stroke:#000000;stroke-width:2.0px;stroke-linecap:butt;stroke-linejoin:miter;stroke-opacity:1\"/>\n",
       "<path d=\"M 444.0,150.0 L 439.0,152.9\" style=\"fill:none;fill-rule:evenodd;stroke:#000000;stroke-width:2.0px;stroke-linecap:butt;stroke-linejoin:miter;stroke-opacity:1\"/>\n",
       "<path d=\"M 444.0,150.0 L 439.0,147.1\" style=\"fill:none;fill-rule:evenodd;stroke:#000000;stroke-width:2.0px;stroke-linecap:butt;stroke-linejoin:miter;stroke-opacity:1\"/>\n",
       "</svg>"
      ],
      "text/plain": [
       "<IPython.core.display.SVG object>"
      ]
     },
     "metadata": {},
     "output_type": "display_data"
    }
   ],
   "source": [
    "display(SVG(draw_chemical_reaction(r)))"
   ]
  },
  {
   "cell_type": "code",
   "execution_count": 5,
   "id": "84215a3a",
   "metadata": {},
   "outputs": [],
   "source": [
    "rxn = Reaction(r)"
   ]
  },
  {
   "cell_type": "code",
   "execution_count": 6,
   "id": "c11bbee2",
   "metadata": {},
   "outputs": [
    {
     "data": {
      "text/plain": [
       "{'REACTION': 'N#Cc1ccccc1-c1ccccc1>>c1ccc(-c2ccccc2-c2nnn[nH]2)cc1',\n",
       " 'MAPPED_REACTION': '[cH:1]1[cH:2][cH:3][c:4](-[c:5]2[cH:6][cH:7][cH:8][cH:9][c:10]2[C:11]#[N:12])[cH:16][cH:17]1>>[cH:1]1[cH:2][cH:3][c:4](-[c:5]2[cH:6][cH:7][cH:8][cH:9][c:10]2-[c:11]2[n:12][n:13][n:14][nH:15]2)[cH:16][cH:17]1',\n",
       " 'N_REACTANTS': 1,\n",
       " 'N_PRODUCTS': 1,\n",
       " 'FG_REACTANTS': ('Nitrile',),\n",
       " 'FG_PRODUCTS': (),\n",
       " 'PARTICIPATING_RINGS_REACTANTS': (),\n",
       " 'PARTICIPATING_RINGS_PRODUCTS': ('c1nnn[nH]1',),\n",
       " 'ALL_RINGS_PRODUCTS': ('c1ccccc1', 'c1ccccc1', 'c1nnn[nH]1'),\n",
       " 'BY-PRODUCTS': ('Other',),\n",
       " 'CLASS': 'Aromatic Heterocycle Formation',\n",
       " 'TAG': '237b84aaa459abf427f233dc6a07a1d9de824f980714e458423189bb68f60f12',\n",
       " 'SOLVENT': ('',),\n",
       " 'REAGENT': ('',),\n",
       " 'CATALYST': ('',),\n",
       " 'REF': '',\n",
       " 'NAME': 'Azide-nitrile click cycloaddition to tetrazole',\n",
       " 'SCAFFOLD': 'c1ccc(-c2ccccc2-c2nnn[nH]2)cc1'}"
      ]
     },
     "execution_count": 6,
     "metadata": {},
     "output_type": "execute_result"
    }
   ],
   "source": [
    "rxn.get_reaction_info()"
   ]
  },
  {
   "cell_type": "code",
   "execution_count": 7,
   "id": "e829304c",
   "metadata": {},
   "outputs": [
    {
     "data": {
      "image/svg+xml": [
       "<svg xmlns=\"http://www.w3.org/2000/svg\" xmlns:rdkit=\"http://www.rdkit.org/xml\" xmlns:xlink=\"http://www.w3.org/1999/xlink\" version=\"1.1\" baseProfile=\"full\" xml:space=\"preserve\" width=\"800px\" height=\"300px\" viewBox=\"0 0 800 300\">\n",
       "<!-- END OF HEADER -->\n",
       "<rect style=\"opacity:1.0;fill:#FFFFFF;stroke:none\" width=\"800.0\" height=\"300.0\" x=\"0.0\" y=\"0.0\"> </rect>\n",
       "<path class=\"bond-0 atom-0 atom-1\" d=\"M 164.4,238.9 L 153.4,218.2\" style=\"fill:none;fill-rule:evenodd;stroke:#0000FF;stroke-width:2.0px;stroke-linecap:butt;stroke-linejoin:miter;stroke-opacity:1\"/>\n",
       "<path class=\"bond-0 atom-0 atom-1\" d=\"M 153.4,218.2 L 142.5,197.5\" style=\"fill:none;fill-rule:evenodd;stroke:#000000;stroke-width:2.0px;stroke-linecap:butt;stroke-linejoin:miter;stroke-opacity:1\"/>\n",
       "<path class=\"bond-0 atom-0 atom-1\" d=\"M 156.6,243.0 L 145.7,222.3\" style=\"fill:none;fill-rule:evenodd;stroke:#0000FF;stroke-width:2.0px;stroke-linecap:butt;stroke-linejoin:miter;stroke-opacity:1\"/>\n",
       "<path class=\"bond-0 atom-0 atom-1\" d=\"M 145.7,222.3 L 134.8,201.6\" style=\"fill:none;fill-rule:evenodd;stroke:#000000;stroke-width:2.0px;stroke-linecap:butt;stroke-linejoin:miter;stroke-opacity:1\"/>\n",
       "<path class=\"bond-0 atom-0 atom-1\" d=\"M 172.1,234.9 L 161.2,214.1\" style=\"fill:none;fill-rule:evenodd;stroke:#0000FF;stroke-width:2.0px;stroke-linecap:butt;stroke-linejoin:miter;stroke-opacity:1\"/>\n",
       "<path class=\"bond-0 atom-0 atom-1\" d=\"M 161.2,214.1 L 150.3,193.4\" style=\"fill:none;fill-rule:evenodd;stroke:#000000;stroke-width:2.0px;stroke-linecap:butt;stroke-linejoin:miter;stroke-opacity:1\"/>\n",
       "<path class=\"bond-1 atom-1 atom-2\" d=\"M 142.5,197.5 L 115.2,145.9\" style=\"fill:none;fill-rule:evenodd;stroke:#000000;stroke-width:2.0px;stroke-linecap:butt;stroke-linejoin:miter;stroke-opacity:1\"/>\n",
       "<path class=\"bond-2 atom-2 atom-3\" d=\"M 115.2,145.9 L 56.9,143.7\" style=\"fill:none;fill-rule:evenodd;stroke:#000000;stroke-width:2.0px;stroke-linecap:butt;stroke-linejoin:miter;stroke-opacity:1\"/>\n",
       "<path class=\"bond-2 atom-2 atom-3\" d=\"M 110.5,136.9 L 62.3,135.1\" style=\"fill:none;fill-rule:evenodd;stroke:#000000;stroke-width:2.0px;stroke-linecap:butt;stroke-linejoin:miter;stroke-opacity:1\"/>\n",
       "<path class=\"bond-3 atom-3 atom-4\" d=\"M 56.9,143.7 L 29.6,92.0\" style=\"fill:none;fill-rule:evenodd;stroke:#000000;stroke-width:2.0px;stroke-linecap:butt;stroke-linejoin:miter;stroke-opacity:1\"/>\n",
       "<path class=\"bond-4 atom-4 atom-5\" d=\"M 29.6,92.0 L 60.7,42.6\" style=\"fill:none;fill-rule:evenodd;stroke:#000000;stroke-width:2.0px;stroke-linecap:butt;stroke-linejoin:miter;stroke-opacity:1\"/>\n",
       "<path class=\"bond-4 atom-4 atom-5\" d=\"M 39.7,92.4 L 65.4,51.5\" style=\"fill:none;fill-rule:evenodd;stroke:#000000;stroke-width:2.0px;stroke-linecap:butt;stroke-linejoin:miter;stroke-opacity:1\"/>\n",
       "<path class=\"bond-5 atom-5 atom-6\" d=\"M 60.7,42.6 L 119.0,44.8\" style=\"fill:none;fill-rule:evenodd;stroke:#000000;stroke-width:2.0px;stroke-linecap:butt;stroke-linejoin:miter;stroke-opacity:1\"/>\n",
       "<path class=\"bond-6 atom-6 atom-7\" d=\"M 119.0,44.8 L 146.3,96.4\" style=\"fill:none;fill-rule:evenodd;stroke:#000000;stroke-width:2.0px;stroke-linecap:butt;stroke-linejoin:miter;stroke-opacity:1\"/>\n",
       "<path class=\"bond-6 atom-6 atom-7\" d=\"M 113.7,53.4 L 136.2,96.0\" style=\"fill:none;fill-rule:evenodd;stroke:#000000;stroke-width:2.0px;stroke-linecap:butt;stroke-linejoin:miter;stroke-opacity:1\"/>\n",
       "<path class=\"bond-7 atom-7 atom-8\" d=\"M 146.3,96.4 L 204.7,98.6\" style=\"fill:none;fill-rule:evenodd;stroke:#000000;stroke-width:2.0px;stroke-linecap:butt;stroke-linejoin:miter;stroke-opacity:1\"/>\n",
       "<path class=\"bond-8 atom-8 atom-9\" d=\"M 204.7,98.6 L 232.0,150.3\" style=\"fill:none;fill-rule:evenodd;stroke:#000000;stroke-width:2.0px;stroke-linecap:butt;stroke-linejoin:miter;stroke-opacity:1\"/>\n",
       "<path class=\"bond-8 atom-8 atom-9\" d=\"M 214.8,99.0 L 237.3,141.7\" style=\"fill:none;fill-rule:evenodd;stroke:#000000;stroke-width:2.0px;stroke-linecap:butt;stroke-linejoin:miter;stroke-opacity:1\"/>\n",
       "<path class=\"bond-9 atom-9 atom-10\" d=\"M 232.0,150.3 L 290.3,152.5\" style=\"fill:none;fill-rule:evenodd;stroke:#000000;stroke-width:2.0px;stroke-linecap:butt;stroke-linejoin:miter;stroke-opacity:1\"/>\n",
       "<path class=\"bond-10 atom-10 atom-11\" d=\"M 290.3,152.5 L 321.4,103.0\" style=\"fill:none;fill-rule:evenodd;stroke:#000000;stroke-width:2.0px;stroke-linecap:butt;stroke-linejoin:miter;stroke-opacity:1\"/>\n",
       "<path class=\"bond-10 atom-10 atom-11\" d=\"M 285.6,143.5 L 311.3,102.7\" style=\"fill:none;fill-rule:evenodd;stroke:#000000;stroke-width:2.0px;stroke-linecap:butt;stroke-linejoin:miter;stroke-opacity:1\"/>\n",
       "<path class=\"bond-11 atom-11 atom-12\" d=\"M 321.4,103.0 L 294.1,51.4\" style=\"fill:none;fill-rule:evenodd;stroke:#000000;stroke-width:2.0px;stroke-linecap:butt;stroke-linejoin:miter;stroke-opacity:1\"/>\n",
       "<path class=\"bond-12 atom-12 atom-13\" d=\"M 294.1,51.4 L 235.8,49.2\" style=\"fill:none;fill-rule:evenodd;stroke:#000000;stroke-width:2.0px;stroke-linecap:butt;stroke-linejoin:miter;stroke-opacity:1\"/>\n",
       "<path class=\"bond-12 atom-12 atom-13\" d=\"M 288.7,60.0 L 240.5,58.1\" style=\"fill:none;fill-rule:evenodd;stroke:#000000;stroke-width:2.0px;stroke-linecap:butt;stroke-linejoin:miter;stroke-opacity:1\"/>\n",
       "<path class=\"bond-13 atom-7 atom-2\" d=\"M 146.3,96.4 L 115.2,145.9\" style=\"fill:none;fill-rule:evenodd;stroke:#000000;stroke-width:2.0px;stroke-linecap:butt;stroke-linejoin:miter;stroke-opacity:1\"/>\n",
       "<path class=\"bond-14 atom-13 atom-8\" d=\"M 235.8,49.2 L 204.7,98.6\" style=\"fill:none;fill-rule:evenodd;stroke:#000000;stroke-width:2.0px;stroke-linecap:butt;stroke-linejoin:miter;stroke-opacity:1\"/>\n",
       "<path d=\"M 143.1,198.5 L 142.5,197.5 L 141.1,194.9\" style=\"fill:none;stroke:#000000;stroke-width:2.0px;stroke-linecap:butt;stroke-linejoin:miter;stroke-opacity:1;\"/>\n",
       "<path d=\"M 59.8,143.8 L 56.9,143.7 L 55.5,141.1\" style=\"fill:none;stroke:#000000;stroke-width:2.0px;stroke-linecap:butt;stroke-linejoin:miter;stroke-opacity:1;\"/>\n",
       "<path d=\"M 31.0,94.6 L 29.6,92.0 L 31.2,89.6\" style=\"fill:none;stroke:#000000;stroke-width:2.0px;stroke-linecap:butt;stroke-linejoin:miter;stroke-opacity:1;\"/>\n",
       "<path d=\"M 59.1,45.1 L 60.7,42.6 L 63.6,42.7\" style=\"fill:none;stroke:#000000;stroke-width:2.0px;stroke-linecap:butt;stroke-linejoin:miter;stroke-opacity:1;\"/>\n",
       "<path d=\"M 116.1,44.7 L 119.0,44.8 L 120.4,47.4\" style=\"fill:none;stroke:#000000;stroke-width:2.0px;stroke-linecap:butt;stroke-linejoin:miter;stroke-opacity:1;\"/>\n",
       "<path d=\"M 230.6,147.7 L 232.0,150.3 L 234.9,150.4\" style=\"fill:none;stroke:#000000;stroke-width:2.0px;stroke-linecap:butt;stroke-linejoin:miter;stroke-opacity:1;\"/>\n",
       "<path d=\"M 287.4,152.4 L 290.3,152.5 L 291.9,150.0\" style=\"fill:none;stroke:#000000;stroke-width:2.0px;stroke-linecap:butt;stroke-linejoin:miter;stroke-opacity:1;\"/>\n",
       "<path d=\"M 319.8,105.5 L 321.4,103.0 L 320.0,100.5\" style=\"fill:none;stroke:#000000;stroke-width:2.0px;stroke-linecap:butt;stroke-linejoin:miter;stroke-opacity:1;\"/>\n",
       "<path d=\"M 295.5,54.0 L 294.1,51.4 L 291.2,51.3\" style=\"fill:none;stroke:#000000;stroke-width:2.0px;stroke-linecap:butt;stroke-linejoin:miter;stroke-opacity:1;\"/>\n",
       "<path d=\"M 238.7,49.3 L 235.8,49.2 L 234.2,51.7\" style=\"fill:none;stroke:#000000;stroke-width:2.0px;stroke-linecap:butt;stroke-linejoin:miter;stroke-opacity:1;\"/>\n",
       "<path class=\"atom-0\" d=\"M 166.1 240.9 L 171.5 249.6 Q 172.1 250.5, 172.9 252.1 Q 173.8 253.6, 173.9 253.7 L 173.9 240.9 L 176.0 240.9 L 176.0 257.4 L 173.8 257.4 L 168.0 247.8 Q 167.3 246.7, 166.6 245.4 Q 165.9 244.1, 165.7 243.7 L 165.7 257.4 L 163.5 257.4 L 163.5 240.9 L 166.1 240.9 \" fill=\"#0000FF\"/>\n",
       "<path class=\"bond-15 atom-14 atom-15\" d=\"M 770.5,99.1 L 735.7,145.9\" style=\"fill:none;fill-rule:evenodd;stroke:#000000;stroke-width:2.0px;stroke-linecap:butt;stroke-linejoin:miter;stroke-opacity:1\"/>\n",
       "<path class=\"bond-15 atom-14 atom-15\" d=\"M 760.5,97.9 L 731.7,136.6\" style=\"fill:none;fill-rule:evenodd;stroke:#000000;stroke-width:2.0px;stroke-linecap:butt;stroke-linejoin:miter;stroke-opacity:1\"/>\n",
       "<path class=\"bond-16 atom-15 atom-16\" d=\"M 735.7,145.9 L 677.7,139.1\" style=\"fill:none;fill-rule:evenodd;stroke:#000000;stroke-width:2.0px;stroke-linecap:butt;stroke-linejoin:miter;stroke-opacity:1\"/>\n",
       "<path class=\"bond-17 atom-16 atom-17\" d=\"M 677.7,139.1 L 654.5,85.5\" style=\"fill:none;fill-rule:evenodd;stroke:#000000;stroke-width:2.0px;stroke-linecap:butt;stroke-linejoin:miter;stroke-opacity:1\"/>\n",
       "<path class=\"bond-17 atom-16 atom-17\" d=\"M 683.7,131.0 L 664.6,86.7\" style=\"fill:none;fill-rule:evenodd;stroke:#000000;stroke-width:2.0px;stroke-linecap:butt;stroke-linejoin:miter;stroke-opacity:1\"/>\n",
       "<path class=\"bond-18 atom-17 atom-18\" d=\"M 654.5,85.5 L 596.5,78.8\" style=\"fill:none;fill-rule:evenodd;stroke:#000000;stroke-width:2.0px;stroke-linecap:butt;stroke-linejoin:miter;stroke-opacity:1\"/>\n",
       "<path class=\"bond-19 atom-18 atom-19\" d=\"M 596.5,78.8 L 573.3,25.2\" style=\"fill:none;fill-rule:evenodd;stroke:#000000;stroke-width:2.0px;stroke-linecap:butt;stroke-linejoin:miter;stroke-opacity:1\"/>\n",
       "<path class=\"bond-19 atom-18 atom-19\" d=\"M 586.4,77.6 L 567.3,33.3\" style=\"fill:none;fill-rule:evenodd;stroke:#000000;stroke-width:2.0px;stroke-linecap:butt;stroke-linejoin:miter;stroke-opacity:1\"/>\n",
       "<path class=\"bond-20 atom-19 atom-20\" d=\"M 573.3,25.2 L 515.3,18.4\" style=\"fill:none;fill-rule:evenodd;stroke:#000000;stroke-width:2.0px;stroke-linecap:butt;stroke-linejoin:miter;stroke-opacity:1\"/>\n",
       "<path class=\"bond-21 atom-20 atom-21\" d=\"M 515.3,18.4 L 480.5,65.3\" style=\"fill:none;fill-rule:evenodd;stroke:#000000;stroke-width:2.0px;stroke-linecap:butt;stroke-linejoin:miter;stroke-opacity:1\"/>\n",
       "<path class=\"bond-21 atom-20 atom-21\" d=\"M 519.3,27.7 L 490.5,66.4\" style=\"fill:none;fill-rule:evenodd;stroke:#000000;stroke-width:2.0px;stroke-linecap:butt;stroke-linejoin:miter;stroke-opacity:1\"/>\n",
       "<path class=\"bond-22 atom-21 atom-22\" d=\"M 480.5,65.3 L 503.6,118.9\" style=\"fill:none;fill-rule:evenodd;stroke:#000000;stroke-width:2.0px;stroke-linecap:butt;stroke-linejoin:miter;stroke-opacity:1\"/>\n",
       "<path class=\"bond-23 atom-22 atom-23\" d=\"M 503.6,118.9 L 561.6,125.6\" style=\"fill:none;fill-rule:evenodd;stroke:#000000;stroke-width:2.0px;stroke-linecap:butt;stroke-linejoin:miter;stroke-opacity:1\"/>\n",
       "<path class=\"bond-23 atom-22 atom-23\" d=\"M 509.7,110.8 L 557.6,116.3\" style=\"fill:none;fill-rule:evenodd;stroke:#000000;stroke-width:2.0px;stroke-linecap:butt;stroke-linejoin:miter;stroke-opacity:1\"/>\n",
       "<path class=\"bond-24 atom-23 atom-24\" d=\"M 561.6,125.6 L 584.8,179.2\" style=\"fill:none;fill-rule:evenodd;stroke:#000000;stroke-width:2.0px;stroke-linecap:butt;stroke-linejoin:miter;stroke-opacity:1\"/>\n",
       "<path class=\"bond-25 atom-24 atom-25\" d=\"M 584.8,179.2 L 609.2,184.7\" style=\"fill:none;fill-rule:evenodd;stroke:#000000;stroke-width:2.0px;stroke-linecap:butt;stroke-linejoin:miter;stroke-opacity:1\"/>\n",
       "<path class=\"bond-25 atom-24 atom-25\" d=\"M 609.2,184.7 L 633.6,190.2\" style=\"fill:none;fill-rule:evenodd;stroke:#0000FF;stroke-width:2.0px;stroke-linecap:butt;stroke-linejoin:miter;stroke-opacity:1\"/>\n",
       "<path class=\"bond-25 atom-24 atom-25\" d=\"M 589.1,189.2 L 610.4,194.0\" style=\"fill:none;fill-rule:evenodd;stroke:#000000;stroke-width:2.0px;stroke-linecap:butt;stroke-linejoin:miter;stroke-opacity:1\"/>\n",
       "<path class=\"bond-25 atom-24 atom-25\" d=\"M 610.4,194.0 L 631.7,198.7\" style=\"fill:none;fill-rule:evenodd;stroke:#0000FF;stroke-width:2.0px;stroke-linecap:butt;stroke-linejoin:miter;stroke-opacity:1\"/>\n",
       "<path class=\"bond-26 atom-25 atom-26\" d=\"M 642.7,202.2 L 646.3,240.0\" style=\"fill:none;fill-rule:evenodd;stroke:#0000FF;stroke-width:2.0px;stroke-linecap:butt;stroke-linejoin:miter;stroke-opacity:1\"/>\n",
       "<path class=\"bond-27 atom-26 atom-27\" d=\"M 639.0,253.7 L 601.8,269.8\" style=\"fill:none;fill-rule:evenodd;stroke:#0000FF;stroke-width:2.0px;stroke-linecap:butt;stroke-linejoin:miter;stroke-opacity:1\"/>\n",
       "<path class=\"bond-27 atom-26 atom-27\" d=\"M 635.6,245.7 L 598.3,261.7\" style=\"fill:none;fill-rule:evenodd;stroke:#0000FF;stroke-width:2.0px;stroke-linecap:butt;stroke-linejoin:miter;stroke-opacity:1\"/>\n",
       "<path class=\"bond-28 atom-27 atom-28\" d=\"M 585.4,264.0 L 563.2,238.8\" style=\"fill:none;fill-rule:evenodd;stroke:#0000FF;stroke-width:2.0px;stroke-linecap:butt;stroke-linejoin:miter;stroke-opacity:1\"/>\n",
       "<path class=\"bond-29 atom-17 atom-29\" d=\"M 654.5,85.5 L 689.4,38.7\" style=\"fill:none;fill-rule:evenodd;stroke:#000000;stroke-width:2.0px;stroke-linecap:butt;stroke-linejoin:miter;stroke-opacity:1\"/>\n",
       "<path class=\"bond-30 atom-29 atom-30\" d=\"M 689.4,38.7 L 747.4,45.4\" style=\"fill:none;fill-rule:evenodd;stroke:#000000;stroke-width:2.0px;stroke-linecap:butt;stroke-linejoin:miter;stroke-opacity:1\"/>\n",
       "<path class=\"bond-30 atom-29 atom-30\" d=\"M 693.4,48.0 L 741.3,53.6\" style=\"fill:none;fill-rule:evenodd;stroke:#000000;stroke-width:2.0px;stroke-linecap:butt;stroke-linejoin:miter;stroke-opacity:1\"/>\n",
       "<path class=\"bond-31 atom-23 atom-18\" d=\"M 561.6,125.6 L 596.5,78.8\" style=\"fill:none;fill-rule:evenodd;stroke:#000000;stroke-width:2.0px;stroke-linecap:butt;stroke-linejoin:miter;stroke-opacity:1\"/>\n",
       "<path class=\"bond-32 atom-28 atom-24\" d=\"M 561.1,219.3 L 572.9,199.3\" style=\"fill:none;fill-rule:evenodd;stroke:#0000FF;stroke-width:2.0px;stroke-linecap:butt;stroke-linejoin:miter;stroke-opacity:1\"/>\n",
       "<path class=\"bond-32 atom-28 atom-24\" d=\"M 572.9,199.3 L 584.8,179.2\" style=\"fill:none;fill-rule:evenodd;stroke:#000000;stroke-width:2.0px;stroke-linecap:butt;stroke-linejoin:miter;stroke-opacity:1\"/>\n",
       "<path class=\"bond-33 atom-30 atom-14\" d=\"M 747.4,45.4 L 770.5,99.1\" style=\"fill:none;fill-rule:evenodd;stroke:#000000;stroke-width:2.0px;stroke-linecap:butt;stroke-linejoin:miter;stroke-opacity:1\"/>\n",
       "<path d=\"M 768.8,101.4 L 770.5,99.1 L 769.4,96.4\" style=\"fill:none;stroke:#000000;stroke-width:2.0px;stroke-linecap:butt;stroke-linejoin:miter;stroke-opacity:1;\"/>\n",
       "<path d=\"M 737.4,143.6 L 735.7,145.9 L 732.8,145.6\" style=\"fill:none;stroke:#000000;stroke-width:2.0px;stroke-linecap:butt;stroke-linejoin:miter;stroke-opacity:1;\"/>\n",
       "<path d=\"M 680.6,139.5 L 677.7,139.1 L 676.5,136.5\" style=\"fill:none;stroke:#000000;stroke-width:2.0px;stroke-linecap:butt;stroke-linejoin:miter;stroke-opacity:1;\"/>\n",
       "<path class=\"atom-11\" d=\"M 638.1 183.8 L 643.5 192.5 Q 644.1 193.4, 644.9 195.0 Q 645.8 196.5, 645.9 196.6 L 645.9 183.8 L 648.0 183.8 L 648.0 200.3 L 645.8 200.3 L 640.0 190.7 Q 639.3 189.6, 638.6 188.3 Q 637.9 187.0, 637.7 186.6 L 637.7 200.3 L 635.5 200.3 L 635.5 183.8 L 638.1 183.8 \" fill=\"#0000FF\"/>\n",
       "<path class=\"atom-12\" d=\"M 643.6 241.9 L 649.0 250.7 Q 649.5 251.5, 650.4 253.1 Q 651.3 254.7, 651.3 254.8 L 651.3 241.9 L 653.5 241.9 L 653.5 258.4 L 651.2 258.4 L 645.4 248.9 Q 644.7 247.7, 644.0 246.5 Q 643.3 245.2, 643.1 244.8 L 643.1 258.4 L 641.0 258.4 L 641.0 241.9 L 643.6 241.9 \" fill=\"#0000FF\"/>\n",
       "<path class=\"atom-13\" d=\"M 590.0 265.1 L 595.4 273.8 Q 595.9 274.7, 596.8 276.2 Q 597.6 277.8, 597.7 277.9 L 597.7 265.1 L 599.9 265.1 L 599.9 281.6 L 597.6 281.6 L 591.8 272.0 Q 591.1 270.9, 590.4 269.6 Q 589.7 268.3, 589.5 267.9 L 589.5 281.6 L 587.3 281.6 L 587.3 265.1 L 590.0 265.1 \" fill=\"#0000FF\"/>\n",
       "<path class=\"atom-14\" d=\"M 532.6 221.2 L 534.8 221.2 L 534.8 228.3 L 543.3 228.3 L 543.3 221.2 L 545.5 221.2 L 545.5 237.8 L 543.3 237.8 L 543.3 230.1 L 534.8 230.1 L 534.8 237.8 L 532.6 237.8 L 532.6 221.2 \" fill=\"#0000FF\"/>\n",
       "<path class=\"atom-14\" d=\"M 551.4 221.2 L 556.8 230.0 Q 557.3 230.8, 558.2 232.4 Q 559.1 234.0, 559.1 234.1 L 559.1 221.2 L 561.3 221.2 L 561.3 237.8 L 559.0 237.8 L 553.2 228.2 Q 552.5 227.1, 551.8 225.8 Q 551.1 224.5, 550.9 224.1 L 550.9 237.8 L 548.8 237.8 L 548.8 221.2 L 551.4 221.2 \" fill=\"#0000FF\"/>\n",
       "<path d=\"M 358.0,150.0 L 444.0,150.0\" style=\"fill:none;fill-rule:evenodd;stroke:#000000;stroke-width:2.0px;stroke-linecap:butt;stroke-linejoin:miter;stroke-opacity:1\"/>\n",
       "<path d=\"M 444.0,150.0 L 439.0,152.9\" style=\"fill:none;fill-rule:evenodd;stroke:#000000;stroke-width:2.0px;stroke-linecap:butt;stroke-linejoin:miter;stroke-opacity:1\"/>\n",
       "<path d=\"M 444.0,150.0 L 439.0,147.1\" style=\"fill:none;fill-rule:evenodd;stroke:#000000;stroke-width:2.0px;stroke-linecap:butt;stroke-linejoin:miter;stroke-opacity:1\"/>\n",
       "</svg>"
      ],
      "text/plain": [
       "<IPython.core.display.SVG object>"
      ]
     },
     "metadata": {},
     "output_type": "display_data"
    }
   ],
   "source": [
    "display(SVG(draw_chemical_reaction(r)))"
   ]
  },
  {
   "cell_type": "code",
   "execution_count": 8,
   "id": "29b6bba7",
   "metadata": {},
   "outputs": [],
   "source": [
    "mp=rxn.classifier.mol_product"
   ]
  },
  {
   "cell_type": "code",
   "execution_count": 9,
   "id": "4ede1e8b",
   "metadata": {},
   "outputs": [],
   "source": [
    "mp=Chem.MolFromSmiles(rxn.classifier.products)"
   ]
  },
  {
   "cell_type": "code",
   "execution_count": 10,
   "id": "8d30202c",
   "metadata": {},
   "outputs": [
    {
     "data": {
      "text/plain": [
       "'[cH:1]1[cH:2][cH:3][c:4](-[c:5]2[cH:6][cH:7][cH:8][cH:9][c:10]2-[c:11]2[n:12][n:13][n:14][nH:15]2)[cH:16][cH:17]1'"
      ]
     },
     "execution_count": 10,
     "metadata": {},
     "output_type": "execute_result"
    }
   ],
   "source": [
    "rxn.classifier.products"
   ]
  },
  {
   "cell_type": "code",
   "execution_count": 11,
   "id": "03de6ae0",
   "metadata": {},
   "outputs": [
    {
     "data": {
      "image/png": "[encoded data removed]",
      "text/plain": [
       "<rdkit.Chem.rdchem.Mol at 0x1a5baae4f20>"
      ]
     },
     "execution_count": 11,
     "metadata": {},
     "output_type": "execute_result"
    }
   ],
   "source": [
    "rxn.classifier.product_mols[0]"
   ]
  },
  {
   "cell_type": "code",
   "execution_count": 12,
   "id": "e0ec3f0a",
   "metadata": {},
   "outputs": [
    {
     "data": {
      "text/plain": [
       "{1: 0,\n",
       " 2: 1,\n",
       " 3: 2,\n",
       " 4: 3,\n",
       " 5: 4,\n",
       " 6: 5,\n",
       " 7: 6,\n",
       " 8: 7,\n",
       " 9: 8,\n",
       " 10: 9,\n",
       " 11: 10,\n",
       " 12: 11,\n",
       " 13: 12,\n",
       " 14: 13,\n",
       " 15: 14,\n",
       " 16: 15,\n",
       " 17: 16}"
      ]
     },
     "execution_count": 12,
     "metadata": {},
     "output_type": "execute_result"
    }
   ],
   "source": [
    "rxn.classifier.product_map_dict"
   ]
  },
  {
   "cell_type": "code",
   "execution_count": 13,
   "id": "4a77bbb4",
   "metadata": {},
   "outputs": [
    {
     "data": {
      "image/png": "[encoded data removed]",
      "text/plain": [
       "<rdkit.Chem.rdchem.Mol at 0x1a5baae4200>"
      ]
     },
     "execution_count": 13,
     "metadata": {},
     "output_type": "execute_result"
    }
   ],
   "source": [
    "rxn.classifier.mol_product"
   ]
  },
  {
   "cell_type": "code",
   "execution_count": 14,
   "id": "3e53c2aa",
   "metadata": {},
   "outputs": [
    {
     "name": "stdout",
     "output_type": "stream",
     "text": [
      "1\n",
      "2\n",
      "3\n",
      "4\n",
      "5\n",
      "6\n",
      "7\n",
      "8\n",
      "9\n",
      "10\n",
      "11\n",
      "12\n",
      "13\n",
      "14\n",
      "15\n",
      "16\n",
      "17\n"
     ]
    }
   ],
   "source": [
    "for atom in mp.GetAtoms():\n",
    "    print(atom.GetAtomMapNum())"
   ]
  },
  {
   "cell_type": "markdown",
   "id": "8717e526",
   "metadata": {},
   "source": [
    "df[\"TAG2\"] = \"\"\n",
    "rxn_mapper = RXNMapper()\n",
    "for i in tqdm(df.index):\n",
    "    r = df[\"MAPPED_REACTION\"][i]\n",
    "    rxn = Reaction(reaction=r, keep_mapping=True, rxn_mapper=rxn_mapper)\n",
    "    ri = rxn.get_reaction_info()\n",
    "    df.loc[i, \"TAG2\"] = rxn.give_broad_tag()"
   ]
  },
  {
   "cell_type": "markdown",
   "id": "2ed42f45",
   "metadata": {},
   "source": [
    "df.to_parquet(\"data/flow_database.gzip\")"
   ]
  },
  {
   "cell_type": "markdown",
   "id": "b4245aca",
   "metadata": {},
   "source": [
    "df.to_excel(\"data/flow_database.xlsx\")"
   ]
  },
  {
   "cell_type": "code",
   "execution_count": 8,
   "id": "787bb8e6",
   "metadata": {},
   "outputs": [
    {
     "name": "stderr",
     "output_type": "stream",
     "text": [
      "Creating fingerprints...: 100%|█████████████████████████████████████████████████████| 109/109 [00:00<00:00, 497.72it/s]\n",
      "Calculating Tanimoto similarity: 100%|████████████████████████████████████████████| 109/109 [00:00<00:00, 54484.46it/s]"
     ]
    },
    {
     "name": "stdout",
     "output_type": "stream",
     "text": [
      "Reaction found with similarity of 1.000. This will be our best match.\n"
     ]
    },
    {
     "name": "stderr",
     "output_type": "stream",
     "text": [
      "\n"
     ]
    },
    {
     "data": {
      "text/plain": [
       "{'Solvent': 'CN1CCCC1=O.O',\n",
       " 'Catalyst': '',\n",
       " 'Reagent': 'CC(=O)O.[N-]=[N+]=N[Na].O=C(O)O.[Na].O=NO.[Na].Cl'}"
      ]
     },
     "execution_count": 8,
     "metadata": {},
     "output_type": "execute_result"
    }
   ],
   "source": [
    "rxn.suggest_conditions(df)"
   ]
  },
  {
   "cell_type": "markdown",
   "id": "e6a91d4b",
   "metadata": {},
   "source": [
    "## 6.1 Show ranking of reagents"
   ]
  },
  {
   "cell_type": "code",
   "execution_count": 15,
   "id": "430e3adc",
   "metadata": {},
   "outputs": [
    {
     "data": {
      "text/plain": [
       "<rxn_insight.reaction.Reaction at 0x1f91ed413f0>"
      ]
     },
     "execution_count": 15,
     "metadata": {},
     "output_type": "execute_result"
    }
   ],
   "source": [
    "Reaction(\"CC(=O)OC(C)=O.O=C(O)c1ccccc1O>>CC(=O)Oc1ccccc1C(=O)O\")"
   ]
  },
  {
   "cell_type": "code",
   "execution_count": 12,
   "id": "805ec187",
   "metadata": {},
   "outputs": [],
   "source": [
    "import rdkit"
   ]
  },
  {
   "cell_type": "code",
   "execution_count": 14,
   "id": "8564aa84",
   "metadata": {},
   "outputs": [
    {
     "name": "stdout",
     "output_type": "stream",
     "text": [
      "2022.09.4\n"
     ]
    }
   ],
   "source": [
    "print(rdkit.__version__)"
   ]
  },
  {
   "cell_type": "code",
   "execution_count": 9,
   "id": "f8a14988",
   "metadata": {},
   "outputs": [
    {
     "data": {
      "text/html": [
       "<div>\n",
       "<style scoped>\n",
       "    .dataframe tbody tr th:only-of-type {\n",
       "        vertical-align: middle;\n",
       "    }\n",
       "\n",
       "    .dataframe tbody tr th {\n",
       "        vertical-align: top;\n",
       "    }\n",
       "\n",
       "    .dataframe thead th {\n",
       "        text-align: right;\n",
       "    }\n",
       "</style>\n",
       "<table border=\"1\" class=\"dataframe\">\n",
       "  <thead>\n",
       "    <tr style=\"text-align: right;\">\n",
       "      <th></th>\n",
       "      <th>NAME</th>\n",
       "      <th>COUNT</th>\n",
       "    </tr>\n",
       "  </thead>\n",
       "  <tbody>\n",
       "    <tr>\n",
       "      <th>6</th>\n",
       "      <td>CN1CCCC1=O.O</td>\n",
       "      <td>46</td>\n",
       "    </tr>\n",
       "    <tr>\n",
       "      <th>1</th>\n",
       "      <td>CC(C)=O.CCOC(C)=O.O</td>\n",
       "      <td>17</td>\n",
       "    </tr>\n",
       "    <tr>\n",
       "      <th>2</th>\n",
       "      <td>CC(=O)O.CN1CCCC1=O.O</td>\n",
       "      <td>16</td>\n",
       "    </tr>\n",
       "    <tr>\n",
       "      <th>4</th>\n",
       "      <td>Cc1ccccc1</td>\n",
       "      <td>9</td>\n",
       "    </tr>\n",
       "    <tr>\n",
       "      <th>0</th>\n",
       "      <td>C1COCCO1</td>\n",
       "      <td>3</td>\n",
       "    </tr>\n",
       "    <tr>\n",
       "      <th>3</th>\n",
       "      <td>CN(C)C=O</td>\n",
       "      <td>1</td>\n",
       "    </tr>\n",
       "    <tr>\n",
       "      <th>5</th>\n",
       "      <td>CO.O</td>\n",
       "      <td>1</td>\n",
       "    </tr>\n",
       "  </tbody>\n",
       "</table>\n",
       "</div>"
      ],
      "text/plain": [
       "                   NAME  COUNT\n",
       "6          CN1CCCC1=O.O     46\n",
       "1   CC(C)=O.CCOC(C)=O.O     17\n",
       "2  CC(=O)O.CN1CCCC1=O.O     16\n",
       "4             Cc1ccccc1      9\n",
       "0              C1COCCO1      3\n",
       "3              CN(C)C=O      1\n",
       "5                  CO.O      1"
      ]
     },
     "execution_count": 9,
     "metadata": {},
     "output_type": "execute_result"
    }
   ],
   "source": [
    "rxn.suggested_solvent"
   ]
  },
  {
   "cell_type": "code",
   "execution_count": 10,
   "id": "b6a5bc70",
   "metadata": {},
   "outputs": [
    {
     "data": {
      "text/html": [
       "<div>\n",
       "<style scoped>\n",
       "    .dataframe tbody tr th:only-of-type {\n",
       "        vertical-align: middle;\n",
       "    }\n",
       "\n",
       "    .dataframe tbody tr th {\n",
       "        vertical-align: top;\n",
       "    }\n",
       "\n",
       "    .dataframe thead th {\n",
       "        text-align: right;\n",
       "    }\n",
       "</style>\n",
       "<table border=\"1\" class=\"dataframe\">\n",
       "  <thead>\n",
       "    <tr style=\"text-align: right;\">\n",
       "      <th></th>\n",
       "      <th>NAME</th>\n",
       "      <th>COUNT</th>\n",
       "    </tr>\n",
       "  </thead>\n",
       "  <tbody>\n",
       "    <tr>\n",
       "      <th>0</th>\n",
       "      <td></td>\n",
       "      <td>61</td>\n",
       "    </tr>\n",
       "    <tr>\n",
       "      <th>3</th>\n",
       "      <td>CCCC[Sn](CCCC)(CCCC)N=[N+]=[N-].17846-68-3.pol...</td>\n",
       "      <td>17</td>\n",
       "    </tr>\n",
       "    <tr>\n",
       "      <th>1</th>\n",
       "      <td>[Br-].[Br-].[Zn+2].7699-45-8</td>\n",
       "      <td>12</td>\n",
       "    </tr>\n",
       "    <tr>\n",
       "      <th>2</th>\n",
       "      <td>818-08-6.818-08-6</td>\n",
       "      <td>3</td>\n",
       "    </tr>\n",
       "  </tbody>\n",
       "</table>\n",
       "</div>"
      ],
      "text/plain": [
       "                                                NAME  COUNT\n",
       "0                                                        61\n",
       "3  CCCC[Sn](CCCC)(CCCC)N=[N+]=[N-].17846-68-3.pol...     17\n",
       "1                       [Br-].[Br-].[Zn+2].7699-45-8     12\n",
       "2                                  818-08-6.818-08-6      3"
      ]
     },
     "execution_count": 10,
     "metadata": {},
     "output_type": "execute_result"
    }
   ],
   "source": [
    "rxn.suggested_catalyst"
   ]
  },
  {
   "cell_type": "code",
   "execution_count": 11,
   "id": "ac7a6c42",
   "metadata": {},
   "outputs": [
    {
     "data": {
      "text/html": [
       "<div>\n",
       "<style scoped>\n",
       "    .dataframe tbody tr th:only-of-type {\n",
       "        vertical-align: middle;\n",
       "    }\n",
       "\n",
       "    .dataframe tbody tr th {\n",
       "        vertical-align: top;\n",
       "    }\n",
       "\n",
       "    .dataframe thead th {\n",
       "        text-align: right;\n",
       "    }\n",
       "</style>\n",
       "<table border=\"1\" class=\"dataframe\">\n",
       "  <thead>\n",
       "    <tr style=\"text-align: right;\">\n",
       "      <th></th>\n",
       "      <th>NAME</th>\n",
       "      <th>COUNT</th>\n",
       "    </tr>\n",
       "  </thead>\n",
       "  <tbody>\n",
       "    <tr>\n",
       "      <th>2</th>\n",
       "      <td>CC(=O)O.[N-]=[N+]=N[Na].O=C(O)O.[Na].O=NO.[Na].Cl</td>\n",
       "      <td>18</td>\n",
       "    </tr>\n",
       "    <tr>\n",
       "      <th>1</th>\n",
       "      <td>CC(=O)O.[N-]=[N+]=N[Na]</td>\n",
       "      <td>17</td>\n",
       "    </tr>\n",
       "    <tr>\n",
       "      <th>6</th>\n",
       "      <td>C[Si](C)(C)N=[N+]=[N-].O[Na].Cl</td>\n",
       "      <td>17</td>\n",
       "    </tr>\n",
       "    <tr>\n",
       "      <th>3</th>\n",
       "      <td>[N-]=[N+]=N[Na].O=NO.[Na].O=S(=O)(O)O</td>\n",
       "      <td>15</td>\n",
       "    </tr>\n",
       "    <tr>\n",
       "      <th>0</th>\n",
       "      <td>CC(=O)O.[N-]=[N+]=N[Na].O=NO.[Na].Cl</td>\n",
       "      <td>12</td>\n",
       "    </tr>\n",
       "    <tr>\n",
       "      <th>5</th>\n",
       "      <td>554-68-7.[N-]=[N+]=N[Na]</td>\n",
       "      <td>10</td>\n",
       "    </tr>\n",
       "    <tr>\n",
       "      <th>7</th>\n",
       "      <td>C[Si](C)(C)N=[N+]=[N-]</td>\n",
       "      <td>3</td>\n",
       "    </tr>\n",
       "    <tr>\n",
       "      <th>4</th>\n",
       "      <td>149-44-0</td>\n",
       "      <td>1</td>\n",
       "    </tr>\n",
       "  </tbody>\n",
       "</table>\n",
       "</div>"
      ],
      "text/plain": [
       "                                                NAME  COUNT\n",
       "2  CC(=O)O.[N-]=[N+]=N[Na].O=C(O)O.[Na].O=NO.[Na].Cl     18\n",
       "1                            CC(=O)O.[N-]=[N+]=N[Na]     17\n",
       "6                    C[Si](C)(C)N=[N+]=[N-].O[Na].Cl     17\n",
       "3              [N-]=[N+]=N[Na].O=NO.[Na].O=S(=O)(O)O     15\n",
       "0               CC(=O)O.[N-]=[N+]=N[Na].O=NO.[Na].Cl     12\n",
       "5                           554-68-7.[N-]=[N+]=N[Na]     10\n",
       "7                             C[Si](C)(C)N=[N+]=[N-]      3\n",
       "4                                           149-44-0      1"
      ]
     },
     "execution_count": 11,
     "metadata": {},
     "output_type": "execute_result"
    }
   ],
   "source": [
    "rxn.suggested_reagent"
   ]
  },
  {
   "cell_type": "code",
   "execution_count": null,
   "id": "7dc9d19e",
   "metadata": {},
   "outputs": [],
   "source": []
  }
 ],
 "metadata": {
  "kernelspec": {
   "display_name": "rxninsights",
   "language": "python",
   "name": "rxninsights"
  },
  "language_info": {
   "codemirror_mode": {
    "name": "ipython",
    "version": 3
   },
   "file_extension": ".py",
   "mimetype": "text/x-python",
   "name": "python",
   "nbconvert_exporter": "python",
   "pygments_lexer": "ipython3",
   "version": "3.10.11"
  }
 },
 "nbformat": 4,
 "nbformat_minor": 5
}
