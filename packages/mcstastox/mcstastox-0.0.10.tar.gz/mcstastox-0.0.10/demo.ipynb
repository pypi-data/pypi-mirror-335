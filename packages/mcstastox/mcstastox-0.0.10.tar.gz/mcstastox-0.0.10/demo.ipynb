{
 "cells": [
  {
   "cell_type": "markdown",
   "id": "2da059d1-16e1-4ddc-821c-5dd92ed5e397",
   "metadata": {},
   "source": [
    "# McStasRead demo"
   ]
  },
  {
   "cell_type": "code",
   "execution_count": null,
   "id": "7710cdf5-40a8-44d4-8cd9-efcc7dc02121",
   "metadata": {},
   "outputs": [],
   "source": [
    "from read_example import make_instrument, plot"
   ]
  },
  {
   "cell_type": "code",
   "execution_count": null,
   "id": "c53e889d-c66c-4594-a8c9-c145b8c6aae1",
   "metadata": {},
   "outputs": [],
   "source": [
    "instr = make_instrument()\n",
    "instr.show_parameters()"
   ]
  },
  {
   "cell_type": "code",
   "execution_count": null,
   "id": "4a7114b2-79d6-4e21-8e8a-f08ea4eb3f1b",
   "metadata": {},
   "outputs": [],
   "source": [
    "instr.set_parameters(wavelength=1.8, delta_wavelength=1.3)\n",
    "instr.settings(ncount=1E6)"
   ]
  },
  {
   "cell_type": "code",
   "execution_count": null,
   "id": "122cc003-f95d-407e-94a3-b0bb2ef8a20b",
   "metadata": {},
   "outputs": [],
   "source": [
    "instr.show_diagram()"
   ]
  },
  {
   "cell_type": "markdown",
   "id": "a37b4bd8-0409-47b7-8fe2-9f843721b3b6",
   "metadata": {},
   "source": [
    "### Run simulation"
   ]
  },
  {
   "cell_type": "code",
   "execution_count": null,
   "id": "4b643a7a-da2f-4b92-856e-4fbfd4f36601",
   "metadata": {
    "scrolled": true
   },
   "outputs": [],
   "source": [
    "data = instr.backengine()"
   ]
  },
  {
   "cell_type": "code",
   "execution_count": null,
   "id": "01d10a36-69bf-4cbb-b635-364ab8e0d6c1",
   "metadata": {},
   "outputs": [],
   "source": [
    "data"
   ]
  },
  {
   "cell_type": "markdown",
   "id": "274cfb12-77e9-4cb8-bded-0f5bc259edf1",
   "metadata": {},
   "source": [
    "### Histogram data to display"
   ]
  },
  {
   "cell_type": "code",
   "execution_count": null,
   "id": "0cff0618-2638-4fdd-8922-6d617b7495cb",
   "metadata": {},
   "outputs": [],
   "source": [
    "hist_data = [mon.make_2d(mon.variables[1], \"y\") for mon in data]"
   ]
  },
  {
   "cell_type": "code",
   "execution_count": null,
   "id": "d6d7b117-7d9e-4277-bd1a-3b8f32b004b8",
   "metadata": {},
   "outputs": [],
   "source": [
    "import mcstasscript as ms\n",
    "ms.make_sub_plot(hist_data)"
   ]
  },
  {
   "cell_type": "code",
   "execution_count": null,
   "id": "70b45118-cfb3-4644-858a-e5aac800f67d",
   "metadata": {},
   "outputs": [],
   "source": [
    "file_path = data[0].original_data_location\n",
    "print(file_path)"
   ]
  },
  {
   "cell_type": "code",
   "execution_count": null,
   "id": "31129bc9-26bf-4510-8d3c-0ed66de45457",
   "metadata": {},
   "outputs": [],
   "source": [
    "%matplotlib widget"
   ]
  },
  {
   "cell_type": "markdown",
   "id": "10aa84f0-9bef-41df-9343-7898142bbf74",
   "metadata": {},
   "source": [
    "### Show list of components found in NeXus file"
   ]
  },
  {
   "cell_type": "code",
   "execution_count": null,
   "id": "f95ed3ed-7598-4bfd-aff9-c747a6a8dd79",
   "metadata": {},
   "outputs": [],
   "source": [
    "import mcstastox\n",
    "\n",
    "with mcstastox.Read(file_path) as loaded_data:\n",
    "    loaded_data.show_components()"
   ]
  },
  {
   "cell_type": "markdown",
   "id": "0098046b-d094-4840-99de-bfe3cb25bf10",
   "metadata": {},
   "source": [
    "#### Show list of these with available data"
   ]
  },
  {
   "cell_type": "code",
   "execution_count": null,
   "id": "064600b4-a58e-468f-9bf0-c865dd0c46b8",
   "metadata": {},
   "outputs": [],
   "source": [
    "with mcstastox.Read(file_path) as loaded_data:\n",
    "    loaded_data.show_components_with_data()"
   ]
  },
  {
   "cell_type": "code",
   "execution_count": null,
   "id": "ab3b379f-fd33-4dc2-b768-6ce5fc2ef8f2",
   "metadata": {},
   "outputs": [],
   "source": [
    "with mcstastox.Read(file_path) as loaded_data:\n",
    "    variables = loaded_data.get_component_variables(\"Square_1\")\n",
    "    print(variables)"
   ]
  },
  {
   "cell_type": "markdown",
   "id": "1ed11cd5-c5dd-45d5-a7d7-988969d984c9",
   "metadata": {},
   "source": [
    "#### Show list of these with geometry information"
   ]
  },
  {
   "cell_type": "code",
   "execution_count": null,
   "id": "fb4141bc-5bd9-4e45-8c74-c41887fd767d",
   "metadata": {},
   "outputs": [],
   "source": [
    "with mcstastox.Read(file_path) as loaded_data:\n",
    "    loaded_data.show_components_with_geometry()"
   ]
  },
  {
   "cell_type": "markdown",
   "id": "5958794e-1c5b-4fcc-85b2-4391c7ef5507",
   "metadata": {},
   "source": [
    "#### Show monitors with pixel ID's"
   ]
  },
  {
   "cell_type": "code",
   "execution_count": null,
   "id": "91fa7d77-357e-4c4e-9dd7-53796b736228",
   "metadata": {},
   "outputs": [],
   "source": [
    "with mcstastox.Read(file_path) as loaded_data:\n",
    "    loaded_data.show_components_with_ids()"
   ]
  },
  {
   "cell_type": "code",
   "execution_count": null,
   "id": "10c94683-508c-4a7d-9512-47cc01ee9a67",
   "metadata": {},
   "outputs": [],
   "source": [
    "with mcstastox.Read(file_path) as loaded_data:\n",
    "    print(loaded_data.get_components_with_ids())"
   ]
  },
  {
   "cell_type": "markdown",
   "id": "cb39c780-a5b3-47b9-96c1-1f253332e14f",
   "metadata": {},
   "source": [
    "### Get local pixel coordinates for a given component"
   ]
  },
  {
   "cell_type": "code",
   "execution_count": null,
   "id": "1751055e-4db9-4014-b0e1-037a08f87f03",
   "metadata": {},
   "outputs": [],
   "source": [
    "with mcstastox.Read(file_path) as loaded_data:\n",
    "    coordinates = loaded_data.get_component_local(\"Square_1\")\n",
    "\n",
    "plot(coordinates)"
   ]
  },
  {
   "cell_type": "markdown",
   "id": "82fbe519-9ff3-4bd0-8a73-484a23593387",
   "metadata": {},
   "source": [
    "### Get global coordinates for a given component"
   ]
  },
  {
   "cell_type": "code",
   "execution_count": null,
   "id": "ed182b0b-d280-4653-bad4-cd926b2ac6a6",
   "metadata": {},
   "outputs": [],
   "source": [
    "with mcstastox.Read(file_path) as loaded_data:\n",
    "    coordinates = loaded_data.get_component_global(\"Square_1\")\n",
    "\n",
    "plot(coordinates)"
   ]
  },
  {
   "cell_type": "markdown",
   "id": "998a372c-19b1-4d89-92a3-8c892bc7d1c1",
   "metadata": {
    "jp-MarkdownHeadingCollapsed": true
   },
   "source": [
    "### Get sample position as well"
   ]
  },
  {
   "cell_type": "code",
   "execution_count": null,
   "id": "c689310b-776c-49d5-a7a5-e61944eabb86",
   "metadata": {},
   "outputs": [],
   "source": [
    "with mcstastox.Read(file_path) as loaded_data:\n",
    "    coordinates = loaded_data.get_component_global(\"Square_2\")\n",
    "    sample_pos = loaded_data.get_global_component_coordinates(\"sample_position\")\n",
    "\n",
    "plot(coordinates, points=[sample_pos])"
   ]
  },
  {
   "cell_type": "markdown",
   "id": "85f1cc3b-6bcd-41d9-91d0-11c05dab44f3",
   "metadata": {},
   "source": [
    "### Get pixel coordinates for list of monitors"
   ]
  },
  {
   "cell_type": "code",
   "execution_count": null,
   "id": "7c7d070e-0598-42a2-81f6-17f771746e74",
   "metadata": {},
   "outputs": [],
   "source": [
    "with mcstastox.Read(file_path) as loaded_data:\n",
    "    coordinates = loaded_data.get_id_to_global_coordinates(component_name=[\"Square_2\", \"Banana_1\", \"Banana_2\"])\n",
    "    sample_pos = loaded_data.get_global_component_coordinates(\"sample_position\")\n",
    "\n",
    "plot(coordinates, points=[sample_pos])"
   ]
  },
  {
   "cell_type": "markdown",
   "id": "faa9eb08-159c-408d-9521-da393f344174",
   "metadata": {},
   "source": [
    "### Include source and get all pixel coordinates"
   ]
  },
  {
   "cell_type": "code",
   "execution_count": null,
   "id": "7d5dc2f5-8701-4cda-bca5-a3eaf11e034e",
   "metadata": {},
   "outputs": [],
   "source": [
    "with mcstastox.Read(file_path) as loaded_data:\n",
    "    coordinates = loaded_data.get_id_to_global_coordinates()\n",
    "    sample_pos = loaded_data.get_global_component_coordinates(\"sample_position\")\n",
    "    source_pos = loaded_data.get_global_component_coordinates(\"source\")\n",
    "\n",
    "plot(coordinates, points=[sample_pos, source_pos])"
   ]
  },
  {
   "cell_type": "markdown",
   "id": "93b018db-1fa7-48d5-900b-8b9d0df9aa25",
   "metadata": {},
   "source": [
    "### Export to (simple) Scipp object"
   ]
  },
  {
   "cell_type": "code",
   "execution_count": null,
   "id": "e34c3f7c-a49d-4a92-a73e-740827c3ed9e",
   "metadata": {},
   "outputs": [],
   "source": [
    "with mcstastox.Read(file_path) as loaded_data:\n",
    "    scipp_object = loaded_data.export_scipp_simple(source_name=\"source\",\n",
    "                                                   sample_name=\"sample_position\", \n",
    "                                                   component_name=\"Banana_2\")"
   ]
  },
  {
   "cell_type": "code",
   "execution_count": null,
   "id": "98d5c905-8953-4faa-8562-dd7131915b91",
   "metadata": {},
   "outputs": [],
   "source": [
    "scipp_object"
   ]
  },
  {
   "cell_type": "markdown",
   "id": "b7da0993-28fd-48bf-81c4-3ab23d1fd41b",
   "metadata": {},
   "source": [
    "### Plot event positions"
   ]
  },
  {
   "cell_type": "code",
   "execution_count": null,
   "id": "af6c9665-abd4-4c7c-8877-11851f1f53ce",
   "metadata": {},
   "outputs": [],
   "source": [
    "import plopp as pp\n",
    "\n",
    "pp.scatter3d(scipp_object[0::3], pos='position', size=0.02, cbar=True, norm=\"linear\")"
   ]
  },
  {
   "cell_type": "markdown",
   "id": "8fb00e0a-43d1-4021-a38a-b1bc1f5c3f82",
   "metadata": {},
   "source": [
    "### Perform coordinate transforms"
   ]
  },
  {
   "cell_type": "code",
   "execution_count": null,
   "id": "50e02edf-88eb-452b-aba8-15532213a787",
   "metadata": {},
   "outputs": [],
   "source": [
    "from scippneutron.conversion.graph.beamline import beamline\n",
    "from scippneutron.conversion.graph.tof import elastic\n",
    "\n",
    "# McStas provides absolute time, not time of flight\n",
    "scipp_object.coords[\"tof\"] = scipp_object.coords[\"t\"]\n",
    "\n",
    "graph = {**beamline(scatter=True), **elastic(\"tof\")}"
   ]
  },
  {
   "cell_type": "code",
   "execution_count": null,
   "id": "f159f9a5-f67f-442c-b28a-b56da3526e70",
   "metadata": {},
   "outputs": [],
   "source": [
    "scipp_object = scipp_object.transform_coords(\"dspacing\", graph=graph)"
   ]
  },
  {
   "cell_type": "code",
   "execution_count": null,
   "id": "fa51ec48-d47e-4f64-9dc5-ca30416aeb5b",
   "metadata": {},
   "outputs": [],
   "source": [
    "scipp_object.hist(dspacing=150).plot(norm=\"log\")"
   ]
  },
  {
   "cell_type": "code",
   "execution_count": null,
   "id": "4c773bdf-9641-4800-b946-eca8a9973d89",
   "metadata": {},
   "outputs": [],
   "source": [
    "with mcstastox.Read(file_path) as loaded_data:\n",
    "    all_data = loaded_data.export_scipp_simple(source_name=\"source\", sample_name=\"sample_position\")\n",
    "\n",
    "pp.scatter3d(all_data[0::3], pos='position', size=0.02, cbar=True, norm=\"log\")"
   ]
  },
  {
   "cell_type": "markdown",
   "id": "d5dae0a7-52fb-40f8-be63-5881d1ac5021",
   "metadata": {},
   "source": []
  },
  {
   "cell_type": "code",
   "execution_count": null,
   "id": "580f074d-f7d5-4425-a804-c9489b5afd81",
   "metadata": {},
   "outputs": [],
   "source": [
    "all_data.coords[\"tof\"] = all_data.coords[\"t\"]\n",
    "all_data = all_data.transform_coords(\"dspacing\", graph=graph)\n",
    "\n",
    "pp.plot({\"Only banana 2\": scipp_object.hist(dspacing=100),\n",
    "         \"All data\": all_data.hist(dspacing=200)}, norm=\"log\")"
   ]
  },
  {
   "cell_type": "markdown",
   "id": "47ce4e22-bd9e-4eca-807f-eb28ee18a7c9",
   "metadata": {},
   "source": [
    "### Also access to data directly"
   ]
  },
  {
   "cell_type": "code",
   "execution_count": null,
   "id": "58385977-34f7-4359-9d5a-71289aa27d59",
   "metadata": {},
   "outputs": [],
   "source": [
    "with mcstastox.Read(file_path) as loaded_data:\n",
    "    raw_event_data = loaded_data.get_event_data(variables=[\"id\", \"t\"], component_name=\"Square_2\")\n",
    "    pos, rot = loaded_data.get_component_placement(component_name=\"Square_2\")\n",
    "\n",
    "print(\"Raw event data\")\n",
    "print(raw_event_data[\"id\"])\n",
    "print(raw_event_data[\"t\"])\n",
    "\n",
    "print(\"Component placement\")\n",
    "print(pos)\n",
    "print(rot)"
   ]
  },
  {
   "cell_type": "code",
   "execution_count": null,
   "id": "9973f312-1d6f-4f7b-af9b-67665aee08a7",
   "metadata": {},
   "outputs": [],
   "source": [
    "with mcstastox.Read(file_path) as loaded_data:\n",
    "    raw_event_data = loaded_data.get_event_data(variables=[\"id\", \"t\", \"L\"], component_name=\"Square_1\")"
   ]
  },
  {
   "cell_type": "markdown",
   "id": "96f6ecd6-5b8e-4504-80af-1b6f23932566",
   "metadata": {},
   "source": [
    "### Add additional data to a scipp object"
   ]
  },
  {
   "cell_type": "code",
   "execution_count": null,
   "id": "045fc88c-eee4-4f2f-b3ea-c5f2e1b37e0a",
   "metadata": {},
   "outputs": [],
   "source": [
    "import scipp as sc\n",
    "\n",
    "with mcstastox.Read(file_path) as loaded_data:\n",
    "    sq1 = loaded_data.export_scipp_simple(source_name=\"source\", sample_name=\"sample_position\", component_name=\"Square_1\")\n",
    "\n",
    "sq1.coords[\"sim_wavelength\"] = sc.array(dims=[\"events\"], values=raw_event_data[\"L\"], unit=\"Å\")\n",
    "\n",
    "sq1.coords[\"tof\"] = sq1.coords[\"t\"]\n",
    "sq1 = sq1.transform_coords(\"wavelength\", graph=graph)\n",
    "sq1.coords[\"wavelength_ratio\"] = (sq1.coords[\"sim_wavelength\"] - sq1.coords[\"wavelength\"])/sq1.coords[\"sim_wavelength\"]"
   ]
  },
  {
   "cell_type": "code",
   "execution_count": null,
   "id": "6bc860c5-f0d8-4eb2-a0f2-1ee5a4d121a7",
   "metadata": {},
   "outputs": [],
   "source": [
    "sq1"
   ]
  },
  {
   "cell_type": "code",
   "execution_count": null,
   "id": "5aaf746e-4d6e-4c0c-87a9-407a106bee24",
   "metadata": {},
   "outputs": [],
   "source": [
    "sq1.hist(wavelength=100).plot() /  sq1.hist(sim_wavelength=100).plot() / sq1.hist(wavelength_ratio=100).plot()"
   ]
  },
  {
   "cell_type": "code",
   "execution_count": null,
   "id": "84ced1c1-3e39-4a89-994f-b9ab40890882",
   "metadata": {},
   "outputs": [],
   "source": [
    "sq1.hist(wavelength=100).plot() /  sq1.hist(sim_wavelength=100).plot() / sq1.hist(wavelength_ratio=100).plot()"
   ]
  },
  {
   "cell_type": "code",
   "execution_count": null,
   "id": "c05ffa4e-2c8f-4671-9fed-a1034853ecbf",
   "metadata": {},
   "outputs": [],
   "source": []
  },
  {
   "cell_type": "code",
   "execution_count": null,
   "id": "a3b9642a-7e20-45da-911e-93b21e159be1",
   "metadata": {},
   "outputs": [],
   "source": []
  },
  {
   "cell_type": "code",
   "execution_count": null,
   "id": "be261c43-d975-4d04-9b75-5addaf6b7bd2",
   "metadata": {},
   "outputs": [],
   "source": []
  }
 ],
 "metadata": {
  "kernelspec": {
   "display_name": "Python 3 (ipykernel)",
   "language": "python",
   "name": "python3"
  },
  "language_info": {
   "codemirror_mode": {
    "name": "ipython",
    "version": 3
   },
   "file_extension": ".py",
   "mimetype": "text/x-python",
   "name": "python",
   "nbconvert_exporter": "python",
   "pygments_lexer": "ipython3",
   "version": "3.12.8"
  }
 },
 "nbformat": 4,
 "nbformat_minor": 5
}
