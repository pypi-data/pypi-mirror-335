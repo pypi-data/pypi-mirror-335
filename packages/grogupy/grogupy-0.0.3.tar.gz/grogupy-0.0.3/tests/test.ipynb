{
 "cells": [
  {
   "cell_type": "markdown",
   "metadata": {},
   "source": [
    "# Unit test and general code health!!!"
   ]
  },
  {
   "cell_type": "code",
   "execution_count": 1,
   "metadata": {},
   "outputs": [
    {
     "name": "stderr",
     "output_type": "stream",
     "text": [
      "[Daniels-MacBook-Air.local:76503] shmem: mmap: an error occurred while determining whether or not /var/folders/yh/dx7xl94n3g52ts3td8qcxjcc0000gn/T//ompi.Daniels-MacBook-Air.501/jf.0/1658388480/sm_segment.Daniels-MacBook-Air.501.62d90000.0 could be created.\n",
      "/Users/danielpozsar/Documents/oktatás/elte/phd/grogu/.venv/lib/python3.9/site-packages/grogupy/_tqdm.py:25: TqdmWarning: IProgress not found. Please update jupyter and ipywidgets. See https://ipywidgets.readthedocs.io/en/stable/user_install.html\n",
      "  from tqdm.autonotebook import tqdm\n"
     ]
    }
   ],
   "source": [
    "import numpy as np\n",
    "\n",
    "import importlib.util\n",
    "import sys\n",
    "\n",
    "import grogupy\n",
    "import grogupy.viz\n",
    "\n",
    "import sisl\n",
    "\n",
    "import matplotlib.pyplot as plt\n",
    "import sisl.viz\n",
    "\n",
    "# insulator eset 100\n",
    "# insulator esetp 600\n",
    "\n",
    "# metallic eset 1000\n",
    "# metallic esetp 10000\n",
    "\n",
    "# 100 kpoint for diatomic systems"
   ]
  },
  {
   "cell_type": "code",
   "execution_count": 2,
   "metadata": {},
   "outputs": [],
   "source": [
    "# infile = \"/Users/danielpozsar/Downloads/Cr3_LaszloS_Eshift0.001_relax/Cr3.fdf\"\n",
    "# infile = \"/Users/danielpozsar/Downloads/nojij/Fe3GeTe2/monolayer/soc/lat3_791/Fe3GeTe2.fdf\"\n",
    "infile = \"/Users/danielpozsar/Downloads/Cr3_new/Cr3.fdf\"\n",
    "# infile = \"/Users/danielpozsar/Downloads/Cr/Cr3.fdf\"\n",
    "# infile = \"/Users/danielpozsar/Downloads/laci_test_nogold_2.88/Cr3.fdf\"\n",
    "# infile = \"/Users/danielpozsar/Downloads/CrBr3/CrBr3.fdf\""
   ]
  },
  {
   "cell_type": "code",
   "execution_count": 3,
   "metadata": {},
   "outputs": [
    {
     "data": {
      "application/vnd.plotly.v1+json": {
       "config": {
        "plotlyServerURL": "https://plot.ly"
       },
       "data": [
        {
         "marker": {
          "color": {
           "bdata": "AAAAAAAA8D8=",
           "dtype": "f8"
          },
          "colorbar": {
           "title": {
            "text": "Weights of kpoints"
           },
           "x": 0.75
          },
          "colorscale": [
           [
            0,
            "#440154"
           ],
           [
            0.1111111111111111,
            "#482878"
           ],
           [
            0.2222222222222222,
            "#3e4989"
           ],
           [
            0.3333333333333333,
            "#31688e"
           ],
           [
            0.4444444444444444,
            "#26828e"
           ],
           [
            0.5555555555555556,
            "#1f9e89"
           ],
           [
            0.6666666666666666,
            "#35b779"
           ],
           [
            0.7777777777777778,
            "#6ece58"
           ],
           [
            0.8888888888888888,
            "#b5de2b"
           ],
           [
            1,
            "#fde725"
           ]
          ],
          "opacity": 1,
          "size": 5
         },
         "mode": "markers",
         "name": "Kpoints",
         "type": "scatter3d",
         "x": {
          "bdata": "AAAAAAAAAAA=",
          "dtype": "f8"
         },
         "y": {
          "bdata": "AAAAAAAAAAA=",
          "dtype": "f8"
         },
         "z": {
          "bdata": "AAAAAAAAAAA=",
          "dtype": "f8"
         }
        }
       ],
       "layout": {
        "autosize": false,
        "height": 700,
        "scene": {
         "aspectmode": "data",
         "xaxis": {
          "gridwidth": 1,
          "showgrid": true,
          "title": {
           "text": "X Axis"
          }
         },
         "yaxis": {
          "gridwidth": 1,
          "showgrid": true,
          "title": {
           "text": "Y Axis"
          }
         },
         "zaxis": {
          "gridwidth": 1,
          "showgrid": true,
          "title": {
           "text": "Z Axis"
          }
         }
        },
        "template": {
         "layout": {
          "hovermode": "closest",
          "paper_bgcolor": "white",
          "plot_bgcolor": "white",
          "scene": {
           "xaxis": {
            "color": "black",
            "gridcolor": "#ccc",
            "gridwidth": 1,
            "linewidth": 1,
            "mirror": true,
            "showgrid": false,
            "showline": true,
            "ticklen": 5,
            "ticks": "outside",
            "ticksuffix": " ",
            "visible": true,
            "zeroline": false,
            "zerolinecolor": "#ccc",
            "zerolinewidth": 1
           },
           "yaxis": {
            "color": "black",
            "gridcolor": "#ccc",
            "gridwidth": 1,
            "linewidth": 1,
            "mirror": true,
            "showgrid": false,
            "showline": true,
            "ticklen": 5,
            "ticks": "outside",
            "ticksuffix": " ",
            "visible": true,
            "zeroline": false,
            "zerolinecolor": "#ccc",
            "zerolinewidth": 1
           },
           "zaxis": {
            "color": "black",
            "gridcolor": "#ccc",
            "gridwidth": 1,
            "linewidth": 1,
            "mirror": true,
            "showgrid": false,
            "showline": true,
            "ticklen": 5,
            "ticks": "outside",
            "ticksuffix": " ",
            "visible": true,
            "zeroline": false,
            "zerolinecolor": "#ccc",
            "zerolinewidth": 1
           }
          },
          "xaxis": {
           "color": "black",
           "gridcolor": "#ccc",
           "gridwidth": 1,
           "linewidth": 1,
           "mirror": true,
           "showgrid": false,
           "showline": true,
           "ticklen": 5,
           "ticks": "outside",
           "ticksuffix": " ",
           "visible": true,
           "zeroline": false,
           "zerolinecolor": "#ccc",
           "zerolinewidth": 1
          },
          "yaxis": {
           "color": "black",
           "gridcolor": "#ccc",
           "gridwidth": 1,
           "linewidth": 1,
           "mirror": true,
           "showgrid": false,
           "showline": true,
           "ticklen": 5,
           "ticks": "outside",
           "ticksuffix": " ",
           "visible": true,
           "zeroline": false,
           "zerolinecolor": "#ccc",
           "zerolinewidth": 1
          }
         }
        },
        "width": 1200
       }
      }
     },
     "metadata": {},
     "output_type": "display_data"
    },
    {
     "data": {
      "text/plain": [
       "<grogupy.Kspace kset=[1 1 1], NK=1>"
      ]
     },
     "execution_count": 3,
     "metadata": {},
     "output_type": "execute_result"
    }
   ],
   "source": [
    "simulation_kspace = grogupy.Kspace([1, 1, 1])\n",
    "simulation_kspace.plot().show()\n",
    "simulation_kspace"
   ]
  },
  {
   "cell_type": "code",
   "execution_count": 4,
   "metadata": {},
   "outputs": [
    {
     "data": {
      "application/vnd.plotly.v1+json": {
       "config": {
        "plotlyServerURL": "https://plot.ly"
       },
       "data": [
        {
         "mode": "markers",
         "type": "scatter",
         "x": {
          "bdata": "5A44rCAmIMAiUodviCUgwCG8Qv13IiDAGy6Q/68ZIMBnKBCF4AYgwOUpq/Mhyh/A+x5m9ENeH8D3/JNyvsAewOIzokIl6h3AdsIFbgzWHMDU+6iew4MbwMiCa36q9hnAev/bKg42GMA4pl9Fk0wWwM8MX35DRxTA9Vqn/WM0EsDkw9hxQCIQwOn+LgEoPAzACg06wl5mCMAJZrqw2tQEwF6QyY/wkwHATExiM15V/b/0A2gOzzb4v+Jot+b3yPO/QHP8rZoC8L9AQOeApqzpv4C4tkGOaOS/BHueMB0X4L8ojmNjMy3Zv2gclMXhjdO/QOhHi+Yqzr8Q2JEACx/Hv7BJMoMdncG/IGWwMxmvur8gcrwA4Bq0vwAgyxc0Ja6/wHbwDbR+pr8A/p+YrbagvwASSJyfvJi/AJ2Sef88kr8AKBTqls2KvwDaV5pwooO/AJQk7tevfL8A8OuCned0vwCoM8XJZm6/AHgEwaIQZr8AEJUMfvpfvwDwxrqsJFe/AABOhH67UL8AgM4CcS1IvwCgLD/DdUG/AMB57Kw2Ob8AACwd9TQyvwCAV0a+TSq/AAAo1AcDI78AAMkiYoEbvwAAElPb6hO/AAAkL5zhDL8AAIJKN/gEvwAAuOi/f/6+AADE0Nk39r4AAMi7RTfwvgAA8N2Jt+e+AACYOhxh4b4AAHDjFIbZvgAAUG8ryNK+AAAg/BCzy74AAABSl3fEvgAAgK8oTr6+AACAnCB6tr4AAMDcy7KwvgAAAOSp2Ki+AACAiayBor4AAADdlpebvgAAAL4slJS+AAAAJn2yjr4AAABKb+KGvgAAAJbICoG+AAAA4K9Web4AAADYM8pyvgAAAFDPxWu+AAAA0C5vZL4AAAAwveZdvgAAALBkuVW+AAAAYFtLT74AAABgY01GvgAAAIDtYD++AAAAwFC6Nb4AAACAXYMtvgAAAIBokiO+AAAAAKYzGb4AAAAAOkQPvgAAAADOfgK+AAAAAEyQ9L0AAAAA+AblvQAAAAAgHdO9AAAAAAAlvb0AAAAAgKagvQAAAAAA0HW9AAAAAAAAKb0=",
          "dtype": "f8"
         },
         "y": {
          "bdata": "vxILjZs8kz/YCtG8dUC5P1w6xY/f084/LAMxAItU3D/GB4U/PmPmP1C8cQruFPA/1njPnUCa9T9p4bcEvZL7P7ndqnBD4wBAur5kpZr7A0C8qNNVyfEGQI+iw+ccpglAr/Fo0Tb8C0BUauyaOt0NQIdkr45sOQ9Ad7t6NYUEEEDazFPuJSYQQGHVzqpOBRBAsJWqlURRD0AxqdbrrTEOQGaWruCivwxADJ1jPqEPC0DKnXLheDUJQFCFj0hEQwdAzFg/Yb9IBUDvjUTZ81IDQL5YG/4qbAFA33Q03iQ4/z/484P3AtD7P6S/KVafpvg/Z04n7GC/9T+q94HAFxvzP5gZd5WduPA/iEPglMEq7T88yJ3Hr1vpP9KeNQa9++U/aBx48fsB4z/rMY52SGXgP348QdcwOdw/fN/v4Wg+2D9ayIwivMnUP/CFnsLOy9E/QpI6jv5szj9GYF0g3/nJP5X0PisEJ8Y/eSwf0Z3fwj8NQiBpJhHAP2Wr/FF1Vrs/Gw7VLdw+tz9Jvy4oPMKzP/pqBluKyrA/kBOAhj+JrD9usROdzj+oP0d63dsinKQ/ixWCeZuFoT9l5ZXXK86dP5lvAMv0XJk/t3k8CamYlT/FnOIh72aSP5TspRC2Yo8/QqHR+b/Jij8+PtAFqeKGPwIBiS4NkoM/Tyud1LzAgD9mndLVN7Z8P9rP8owvoXg/3tNuf2EmdT/sUXspKi5yPwJjlv4qSW8/AmOP0Zjxaj9NM6jbMDlnP50DGsz0B2Q/PkZ5zaJJYT9QlwQePtpdP5Nx6afpx1k/waKc7NZDVj+8gfaZWDlTP6JIua/tllA/uiZY3YObTD+70bkrhaJIP+sD23GILUU/LlcB8m0qQj/W3GZYmxM/P/M8sqsYfTo/NxeezQJ7Nj+IvV4CV/oyPy2rHqXD1S8/hQ/Jh6h9Kj/KPbNF1NQlPx/3Slg9xyE/bQpmWLWHHD+Jyttlc3gWPzctlKZLSBE/5Q2mf3rFCT8lCIu2am0CP5W+0x+q2Pg+844wIVeu7j53ZDPD1GXgPiipITf9i8o+5dDtoQYYpD4=",
          "dtype": "f8"
         }
        }
       ],
       "layout": {
        "autosize": false,
        "height": 700,
        "template": {
         "layout": {
          "hovermode": "closest",
          "paper_bgcolor": "white",
          "plot_bgcolor": "white",
          "scene": {
           "xaxis": {
            "color": "black",
            "gridcolor": "#ccc",
            "gridwidth": 1,
            "linewidth": 1,
            "mirror": true,
            "showgrid": false,
            "showline": true,
            "ticklen": 5,
            "ticks": "outside",
            "ticksuffix": " ",
            "visible": true,
            "zeroline": false,
            "zerolinecolor": "#ccc",
            "zerolinewidth": 1
           },
           "yaxis": {
            "color": "black",
            "gridcolor": "#ccc",
            "gridwidth": 1,
            "linewidth": 1,
            "mirror": true,
            "showgrid": false,
            "showline": true,
            "ticklen": 5,
            "ticks": "outside",
            "ticksuffix": " ",
            "visible": true,
            "zeroline": false,
            "zerolinecolor": "#ccc",
            "zerolinewidth": 1
           },
           "zaxis": {
            "color": "black",
            "gridcolor": "#ccc",
            "gridwidth": 1,
            "linewidth": 1,
            "mirror": true,
            "showgrid": false,
            "showline": true,
            "ticklen": 5,
            "ticks": "outside",
            "ticksuffix": " ",
            "visible": true,
            "zeroline": false,
            "zerolinecolor": "#ccc",
            "zerolinewidth": 1
           }
          },
          "xaxis": {
           "color": "black",
           "gridcolor": "#ccc",
           "gridwidth": 1,
           "linewidth": 1,
           "mirror": true,
           "showgrid": false,
           "showline": true,
           "ticklen": 5,
           "ticks": "outside",
           "ticksuffix": " ",
           "visible": true,
           "zeroline": false,
           "zerolinecolor": "#ccc",
           "zerolinewidth": 1
          },
          "yaxis": {
           "color": "black",
           "gridcolor": "#ccc",
           "gridwidth": 1,
           "linewidth": 1,
           "mirror": true,
           "showgrid": false,
           "showline": true,
           "ticklen": 5,
           "ticks": "outside",
           "ticksuffix": " ",
           "visible": true,
           "zeroline": false,
           "zerolinecolor": "#ccc",
           "zerolinewidth": 1
          }
         }
        },
        "title": {
         "text": "Energy contour integral"
        },
        "width": 1200,
        "xaxis": {
         "gridwidth": 1,
         "showgrid": true,
         "title": {
          "text": "Real axis [eV]"
         }
        },
        "yaxis": {
         "gridwidth": 1,
         "scaleanchor": "x",
         "scaleratio": 1,
         "showgrid": true,
         "title": {
          "text": "Imaginary axis [eV]"
         }
        }
       }
      }
     },
     "metadata": {},
     "output_type": "display_data"
    },
    {
     "data": {
      "text/plain": [
       "<grogupy.Contour emin=-8.074511730000001, emax=0, eset=100, esetp=10000>"
      ]
     },
     "execution_count": 4,
     "metadata": {},
     "output_type": "execute_result"
    }
   ],
   "source": [
    "simulation_contour = grogupy.Contour(\n",
    "    eset=100,\n",
    "    esetp=10000,\n",
    "    emin=None,\n",
    "    emax=0,\n",
    "    emin_shift=-5,\n",
    "    emax_shift=0,\n",
    "    eigfile=infile,\n",
    ")\n",
    "simulation_contour.plot().show()\n",
    "simulation_contour"
   ]
  },
  {
   "cell_type": "code",
   "execution_count": 5,
   "metadata": {},
   "outputs": [
    {
     "name": "stderr",
     "output_type": "stream",
     "text": [
      "Spin box Hamiltonian: 100%|██████████| 1/1 [00:00<00:00, 253.36it/s]\n",
      "Spin box Overlap matrix: 100%|██████████| 1/1 [00:00<00:00, 1715.46it/s]\n",
      "Symmetrize Hamiltonian: 100%|██████████| 1/1 [00:00<00:00, 667.46it/s]\n",
      "Transpose Hamiltonian: 100%|██████████| 1/1 [00:00<00:00, 1187.85it/s]\n",
      "Calculate V_XCF: 100%|██████████| 1/1 [00:00<00:00, 6452.78it/s]\n",
      "Calculate H_XC: 100%|██████████| 3/3 [00:00<00:00, 3588.97it/s]\n"
     ]
    }
   ],
   "source": [
    "simulation_hamiltonian = grogupy.Hamiltonian(\n",
    "    infile,\n",
    "    [0, 0, 1],\n",
    ")"
   ]
  },
  {
   "cell_type": "code",
   "execution_count": 6,
   "metadata": {},
   "outputs": [
    {
     "name": "stderr",
     "output_type": "stream",
     "text": [
      "/Users/danielpozsar/Documents/oktatás/elte/phd/grogu/.venv/lib/python3.9/site-packages/grogupy/physics/builder.py:257: UserWarning:\n",
      "\n",
      "Matlabmode is used, the exchange field reference directions were set to x,y,z!\n",
      "\n"
     ]
    },
    {
     "data": {
      "text/plain": [
       "[{'o': array([1, 0, 0]),\n",
       "  'vw': [array([0, 1, 0]),\n",
       "   array([0, 0, 1]),\n",
       "   array([0.        , 0.70710678, 0.70710678])]},\n",
       " {'o': array([0, 1, 0]),\n",
       "  'vw': [array([1, 0, 0]),\n",
       "   array([0, 0, 1]),\n",
       "   array([0.70710678, 0.        , 0.70710678])]},\n",
       " {'o': array([0, 0, 1]),\n",
       "  'vw': [array([1, 0, 0]),\n",
       "   array([0, 1, 0]),\n",
       "   array([0.70710678, 0.70710678, 0.        ])]}]"
      ]
     },
     "execution_count": 6,
     "metadata": {},
     "output_type": "execute_result"
    }
   ],
   "source": [
    "xyz = np.array([[1, 0, 0], [0, 1, 0], [0, 0, 1]])\n",
    "\n",
    "simulation = grogupy.Builder(xyz, matlabmode=True)\n",
    "\n",
    "simulation.add_kspace(simulation_kspace)\n",
    "simulation.add_contour(simulation_contour)\n",
    "simulation.add_hamiltonian(simulation_hamiltonian)\n",
    "simulation.ref_xcf_orientations"
   ]
  },
  {
   "cell_type": "code",
   "execution_count": 7,
   "metadata": {},
   "outputs": [
    {
     "name": "stderr",
     "output_type": "stream",
     "text": [
      "Add magnetic entities:: 100%|██████████| 3/3 [00:00<00:00, 841.05it/s]\n"
     ]
    },
    {
     "data": {
      "text/plain": [
       "[<grogupy.MagneticEntity tag=0Cr(l:2), SBS=20>,\n",
       " <grogupy.MagneticEntity tag=1Cr(l:2), SBS=20>,\n",
       " <grogupy.MagneticEntity tag=2Cr(l:2), SBS=20>]"
      ]
     },
     "execution_count": 7,
     "metadata": {},
     "output_type": "execute_result"
    }
   ],
   "source": [
    "magnetic_entities = [\n",
    "    dict(atom=0, l=2),\n",
    "    dict(atom=1, l=2),\n",
    "    dict(atom=2, l=2),\n",
    "]\n",
    "simulation.add_magnetic_entities(magnetic_entities)\n",
    "simulation.magnetic_entities"
   ]
  },
  {
   "cell_type": "code",
   "execution_count": 8,
   "metadata": {},
   "outputs": [
    {
     "name": "stderr",
     "output_type": "stream",
     "text": [
      "Add pairs:: 100%|██████████| 3/3 [00:00<00:00, 17331.83it/s]\n"
     ]
    },
    {
     "data": {
      "text/plain": [
       "[<grogupy.Pair tag1=0Cr(l:2), tag2=1Cr(l:2), Ruc=[0 0 0]>,\n",
       " <grogupy.Pair tag1=1Cr(l:2), tag2=2Cr(l:2), Ruc=[0 0 0]>,\n",
       " <grogupy.Pair tag1=2Cr(l:2), tag2=0Cr(l:2), Ruc=[0 0 0]>]"
      ]
     },
     "execution_count": 8,
     "metadata": {},
     "output_type": "execute_result"
    }
   ],
   "source": [
    "pairs = [\n",
    "    dict(ai=0, aj=1, Ruc=np.array([0, 0, 0])),\n",
    "    dict(ai=1, aj=2, Ruc=np.array([0, 0, 0])),\n",
    "    dict(ai=2, aj=0, Ruc=np.array([0, 0, 0])),\n",
    "]\n",
    "simulation.add_pairs(pairs)\n",
    "simulation.pairs"
   ]
  },
  {
   "cell_type": "code",
   "execution_count": 9,
   "metadata": {},
   "outputs": [
    {
     "name": "stderr",
     "output_type": "stream",
     "text": [
      "Rotating Exchange field: 100%|██████████| 3/3 [00:00<00:00, 4410.41it/s]\n",
      "Rotating Exchange field: 100%|██████████| 3/3 [00:00<00:00, 6560.43it/s]\n",
      "Rotating Exchange field: 100%|██████████| 3/3 [00:00<00:00, 4411.96it/s]\n",
      "Parallel over k:: 100%|██████████| 1/1 [00:00<00:00,  9.82it/s]\n"
     ]
    }
   ],
   "source": [
    "simulation.solve()"
   ]
  },
  {
   "cell_type": "code",
   "execution_count": 10,
   "metadata": {},
   "outputs": [
    {
     "name": "stdout",
     "output_type": "stream",
     "text": [
      "# ================================================================================\n",
      "# grogupy version: 0.0.2\n",
      "# Input file: /Users/danielpozsar/Downloads/Cr3_new/Cr3.fdf\n",
      "# ================================================================================\n",
      "# SLURM job ID: Could not be determined.\n",
      "# Architecture: CPU\n",
      "# Number of nodes in the parallel cluster: 1\n",
      "# Parallelization is over: K\n",
      "# Solver used for Greens function calculation: Sequential\n",
      "# Solver used for Exchange tensor: grogupy\n",
      "# Solver used for Anisotropy tensor: grogupy\n",
      "# ================================================================================\n",
      "# Cell [Ang]:\n",
      "# 1.442498074906033700e+01 -2.498479955557547072e+01 0.000000000000000000e+00\n",
      "# 1.442498074906033700e+01 2.498479955557547072e+01 0.000000000000000000e+00\n",
      "# 0.000000000000000000e+00 0.000000000000000000e+00 2.884996149812067401e+01\n",
      "# ================================================================================\n",
      "# DFT axis: [0 0 1]\n",
      "# Quantization axis and perpendicular rotation directions:\n",
      "# [1 0 0] --> [array([0, 1, 0]), array([0, 0, 1]), array([0.        , 0.70710678, 0.70710678])]\n",
      "# [0 1 0] --> [array([1, 0, 0]), array([0, 0, 1]), array([0.70710678, 0.        , 0.70710678])]\n",
      "# [0 0 1] --> [array([1, 0, 0]), array([0, 1, 0]), array([0.70710678, 0.70710678, 0.        ])]\n",
      "# ================================================================================\n",
      "# Parameters for the Brillouin zone sampling:\n",
      "# Number of k points: 1\n",
      "# K points in each directions: [1 1 1]\n",
      "# Parameters for the contour integral:\n",
      "# Eset: 100\n",
      "# Esetp: 10000\n",
      "# Ebot: -8.074511730000001        WARNING: This was automatically determined!\n",
      "# Etop: 0\n",
      "# ================================================================================\n",
      "# \n",
      "================================================================================\n",
      "cell Angstrom\n",
      "1.442498074906033700e+01 -2.498479955557547072e+01 0.000000000000000000e+00\n",
      "1.442498074906033700e+01 2.498479955557547072e+01 0.000000000000000000e+00\n",
      "0.000000000000000000e+00 0.000000000000000000e+00 2.884996149812067401e+01\n",
      "================================================================================\n",
      "atoms Angstrom\n",
      "name\tx\ty\tz\tSx\tSy\tSz\t# Q\n",
      "0Cr(l:2) 0.0 -1.4424980749060339 0.0 -1.0593177585904456e-12 -1.4289746865664986e-12 4.80140906311199 # 4.846025669836496\n",
      "1Cr(l:2) 0.0 1.4424980749060339 0.0 -4.2737690489659345e-13 1.110306901593093e-12 4.801409066542503 # 4.846025674387297\n",
      "2Cr(l:2) 2.4984799555575465 0.0 0.0 1.4660542122873607e-12 3.0688125752623504e-13 4.8014090793778905 # 4.846025604753774\n",
      "================================================================================\n",
      "notation\n",
      "double-counting True\n",
      "spin-normalized True\n",
      "exchange-factor 0.5\n",
      "on-site-factor 1\n",
      "================================================================================\n",
      "exchange meV\n",
      "--------------------------------------------------------------------------------\n",
      "0Cr(l:2) 1Cr(l:2) 0 0 0 # distance [Ang]: 2.8849961498120678\n",
      "isotropic 148.44855662923723\n",
      "DMI 0.0005591999349646736 0.00013167760385981062 -14.267560379343774 # Dx Dy Dz\n",
      "symmetric-anisotropy 0.7325281367505171 -1.4654309229185287 -14.267560384234931 -0.0001316777648982049 0.0005591999642488375 # Sxx Syy Sxy Sxz Syz\n",
      "--------------------------------------------------------------------------------\n",
      "1Cr(l:2) 2Cr(l:2) 0 0 0 # distance [Ang]: 2.8849961498120673\n",
      "isotropic 148.468814464423\n",
      "DMI 0.0002385426738797346 0.0004523026948887966 -14.267391824334862 # Dx Dy Dz\n",
      "symmetric-anisotropy 0.8478008711386735 -1.551948432230489 -14.305502837808467 0.0009950550377805132 0.0016857321082848341 # Sxx Syy Sxy Sxz Syz\n",
      "--------------------------------------------------------------------------------\n",
      "2Cr(l:2) 0Cr(l:2) 0 0 0 # distance [Ang]: 2.8849961498120673\n",
      "isotropic 148.46881147213202\n",
      "DMI 0.00023854269201669032 0.0004523024287980843 -14.267393257914554 # Dx Dy Dz\n",
      "symmetric-anisotropy 0.8478039572322871 -1.5519546037142506 -14.229282276888549 -0.001899659835172956 -0.0012086466113114716 # Sxx Syy Sxy Sxz Syz\n",
      "--------------------------------------------------------------------------------\n",
      "================================================================================\n",
      "on-site meV\n",
      "--------------------------------------------------------------------------------\n",
      "0Cr(l:2)\n",
      "-0.11606723966711696 -0.15156010043457235 0.0 0.04295975204476887 0.0014454952844134006 0.0014443747098913384 # Kxx Kyy Kzz Kxy Kxz Kyz\n",
      "--------------------------------------------------------------------------------\n",
      "1Cr(l:2)\n",
      "-0.11606723949261766 -0.15156009693662043 0.0 -0.04295972255452529 -0.0014454947822040154 -0.0014443748662940068 # Kxx Kyy Kzz Kxy Kxz Kyz\n",
      "--------------------------------------------------------------------------------\n",
      "2Cr(l:2)\n",
      "-0.16926432614775 -0.09827964523331789 0.0 2.3635565726820573e-08 -7.807365864920257e-10 -2.0675128276081975e-10 # Kxx Kyy Kzz Kxy Kxz Kyz\n",
      "--------------------------------------------------------------------------------\n",
      "================================================================================\n",
      "\n"
     ]
    }
   ],
   "source": [
    "print(simulation.to_magnopy())"
   ]
  },
  {
   "cell_type": "code",
   "execution_count": 11,
   "metadata": {},
   "outputs": [
    {
     "name": "stderr",
     "output_type": "stream",
     "text": [
      "/Users/danielpozsar/Documents/oktatás/elte/phd/grogu/.venv/lib/python3.9/site-packages/grogupy/physics/magnetism.py:534: UserWarning:\n",
      "\n",
      "This is experimenal!\n",
      "\n",
      "/Users/danielpozsar/Documents/oktatás/elte/phd/grogu/.venv/lib/python3.9/site-packages/grogupy/physics/magnetism.py:676: UserWarning:\n",
      "\n",
      "This is experimenal!\n",
      "\n"
     ]
    }
   ],
   "source": [
    "K_fit = []\n",
    "K_calc = []\n",
    "K_cons = []\n",
    "for mag_ent in simulation.magnetic_entities:\n",
    "    mag_ent.fit_anisotropy_tensor(simulation.ref_xcf_orientations)\n",
    "    K_fit.append(mag_ent.K_meV)\n",
    "    mag_ent.calculate_anisotropy()\n",
    "    K_calc.append(mag_ent.K_meV)\n",
    "    K_cons.append(mag_ent.K_consistency_meV)\n",
    "\n",
    "K_fit = np.array(K_fit)\n",
    "K_calc = np.array(K_calc)\n",
    "\n",
    "\n",
    "J_fit = []\n",
    "D_fit = []\n",
    "S_fit = []\n",
    "J_calc = []\n",
    "D_calc = []\n",
    "S_calc = []\n",
    "for pair in simulation.pairs:\n",
    "    pair.fit_exchange_tensor(simulation.ref_xcf_orientations)\n",
    "    J_fit.append(pair.J_meV)\n",
    "    D_fit.append(pair.D_meV)\n",
    "    S_fit.append(pair.J_S_meV)\n",
    "    pair.calculate_exchange_tensor()\n",
    "    J_calc.append(pair.J_meV)\n",
    "    D_calc.append(pair.D_meV)\n",
    "    S_calc.append(pair.J_S_meV)\n",
    "\n",
    "J_fit = np.array(J_fit)\n",
    "J_calc = np.array(J_calc)\n",
    "D_fit = np.array(D_fit)\n",
    "D_calc = np.array(D_calc)\n",
    "S_fit = np.array(S_fit)\n",
    "S_calc = np.array(S_calc)"
   ]
  },
  {
   "cell_type": "code",
   "execution_count": 12,
   "metadata": {},
   "outputs": [
    {
     "name": "stderr",
     "output_type": "stream",
     "text": [
      "Add magnetic entities:: 100%|██████████| 3/3 [00:00<00:00, 1768.75it/s]\n",
      "Add pairs:: 100%|██████████| 3/3 [00:00<00:00, 25015.73it/s]\n",
      "Rotating Exchange field: 100%|██████████| 3/3 [00:00<00:00, 3476.90it/s]\n",
      "Rotating Exchange field: 100%|██████████| 3/3 [00:00<00:00, 3708.49it/s]\n",
      "Rotating Exchange field: 100%|██████████| 3/3 [00:00<00:00, 3658.89it/s]\n",
      "Parallel over k:: 100%|██████████| 1/1 [00:00<00:00,  9.45it/s]\n"
     ]
    }
   ],
   "source": [
    "xyz = np.array([[1, 0, 0], [0, 1, 0], [0, 0, 1]])\n",
    "\n",
    "simulation_2 = grogupy.Builder(xyz, matlabmode=False)\n",
    "\n",
    "simulation_2.add_kspace(simulation_kspace)\n",
    "simulation_2.add_contour(simulation_contour)\n",
    "simulation_2.add_hamiltonian(simulation_hamiltonian)\n",
    "simulation_2.add_magnetic_entities(magnetic_entities)\n",
    "simulation_2.add_pairs(pairs)\n",
    "simulation_2.pairs\n",
    "simulation_2.solve()\n",
    "\n",
    "J_fit_2 = []\n",
    "D_fit_2 = []\n",
    "S_fit_2 = []\n",
    "for pair in simulation_2.pairs:\n",
    "    pair.fit_exchange_tensor(simulation_2.ref_xcf_orientations)\n",
    "    J_fit_2.append(pair.J_meV)\n",
    "    D_fit_2.append(pair.D_meV)\n",
    "    S_fit_2.append(pair.J_S_meV)\n",
    "\n",
    "J_fit_2 = np.array(J_fit_2)\n",
    "D_fit_2 = np.array(D_fit_2)\n",
    "S_fit_2 = np.array(S_fit_2)\n",
    "\n",
    "K_fit_2 = []\n",
    "for mag_ent in simulation_2.magnetic_entities:\n",
    "    mag_ent.fit_anisotropy_tensor(simulation_2.ref_xcf_orientations)\n",
    "    K_fit_2.append(mag_ent.K_meV)\n",
    "K_fit_2 = np.array(K_fit_2)"
   ]
  },
  {
   "cell_type": "code",
   "execution_count": 13,
   "metadata": {},
   "outputs": [
    {
     "name": "stderr",
     "output_type": "stream",
     "text": [
      "Add magnetic entities:: 100%|██████████| 3/3 [00:00<00:00, 1579.78it/s]\n",
      "Add pairs:: 100%|██████████| 3/3 [00:00<00:00, 29059.84it/s]\n",
      "Rotating Exchange field: 100%|██████████| 3/3 [00:00<00:00, 3712.87it/s]\n",
      "Rotating Exchange field: 100%|██████████| 3/3 [00:00<00:00, 7173.84it/s]\n",
      "Rotating Exchange field: 100%|██████████| 3/3 [00:00<00:00, 7626.01it/s]\n",
      "Parallel over k:: 100%|██████████| 1/1 [00:00<00:00,  9.49it/s]\n"
     ]
    }
   ],
   "source": [
    "xyz = np.array(\n",
    "    [\n",
    "        [np.cos(np.pi / 3), np.sin(np.pi / 3), 0],\n",
    "        [np.cos(2 * np.pi / 3), np.sin(2 * np.pi / 3), 0],\n",
    "        [1, 0, 0],\n",
    "        # [0, 1, 0],\n",
    "        # [0, 0, 1],\n",
    "    ]\n",
    ")\n",
    "\n",
    "simulation_3 = grogupy.Builder(xyz)\n",
    "\n",
    "simulation_3.add_kspace(simulation_kspace)\n",
    "simulation_3.add_contour(simulation_contour)\n",
    "simulation_3.add_hamiltonian(simulation_hamiltonian)\n",
    "simulation_3.add_magnetic_entities(magnetic_entities)\n",
    "simulation_3.add_pairs(pairs)\n",
    "simulation_3.solve()\n",
    "\n",
    "J_fit_3 = []\n",
    "D_fit_3 = []\n",
    "S_fit_3 = []\n",
    "for pair in simulation_3.pairs:\n",
    "    pair.fit_exchange_tensor(simulation_3.ref_xcf_orientations)\n",
    "    J_fit_3.append(pair.J_meV)\n",
    "    D_fit_3.append(pair.D_meV)\n",
    "    S_fit_3.append(pair.J_S_meV)\n",
    "\n",
    "J_fit_3 = np.array(J_fit_3)\n",
    "D_fit_3 = np.array(D_fit_3)\n",
    "S_fit_3 = np.array(S_fit_3)\n",
    "\n",
    "K_fit_3 = []\n",
    "for mag_ent in simulation_3.magnetic_entities:\n",
    "    mag_ent.fit_anisotropy_tensor(simulation_3.ref_xcf_orientations)\n",
    "    K_fit_3.append(mag_ent.K_meV)\n",
    "K_fit_3 = np.array(K_fit_3)"
   ]
  },
  {
   "cell_type": "code",
   "execution_count": 14,
   "metadata": {},
   "outputs": [],
   "source": [
    "rounding = 3\n",
    "K_cons = np.around(K_cons, rounding)\n",
    "\n",
    "J_calc = np.around(J_calc, rounding)\n",
    "D_calc = np.around(D_calc, rounding)\n",
    "S_calc = np.around(S_calc, rounding)\n",
    "K_calc = np.around(K_calc, rounding)\n",
    "\n",
    "\n",
    "J_fit = np.around(J_fit, rounding)\n",
    "D_fit = np.around(D_fit, rounding)\n",
    "S_fit = np.around(S_fit, rounding)\n",
    "K_fit = np.around(K_fit, rounding)\n",
    "\n",
    "J_fit_2 = np.around(J_fit_2, rounding)\n",
    "D_fit_2 = np.around(D_fit_2, rounding)\n",
    "S_fit_2 = np.around(S_fit_2, rounding)\n",
    "K_fit_2 = np.around(K_fit_2, rounding)\n",
    "\n",
    "J_fit_3 = np.around(J_fit_3, rounding)\n",
    "D_fit_3 = np.around(D_fit_3, rounding)\n",
    "S_fit_3 = np.around(S_fit_3, rounding)\n",
    "K_fit_3 = np.around(K_fit_3, rounding)"
   ]
  },
  {
   "cell_type": "code",
   "execution_count": 15,
   "metadata": {},
   "outputs": [
    {
     "name": "stdout",
     "output_type": "stream",
     "text": [
      "K_cons should be zero\n"
     ]
    },
    {
     "data": {
      "text/plain": [
       "array([0.085, 0.085, 0.17 ])"
      ]
     },
     "execution_count": 15,
     "metadata": {},
     "output_type": "execute_result"
    }
   ],
   "source": [
    "print(\"K_cons should be zero\")\n",
    "K_cons"
   ]
  },
  {
   "cell_type": "code",
   "execution_count": 16,
   "metadata": {},
   "outputs": [
    {
     "name": "stdout",
     "output_type": "stream",
     "text": [
      "J_fit, J_calc\n",
      "False\n",
      "K_fit, K_calc\n",
      "False\n",
      "\n",
      "J_fit, J_fit2\n",
      "True\n",
      "K_fit, K_fit2\n",
      "True\n",
      "\n",
      "J_fit, J_fit3\n",
      "False\n",
      "K_fit, K_fit3\n",
      "False\n"
     ]
    }
   ],
   "source": [
    "print(\"J_fit, J_calc\")\n",
    "print((J_fit == J_calc).all())\n",
    "print(\"K_fit, K_calc\")\n",
    "print((K_fit == K_calc).all())\n",
    "print()\n",
    "print(\"J_fit, J_fit2\")\n",
    "print((J_fit == J_fit_2).all())\n",
    "print(\"K_fit, K_fit2\")\n",
    "print((K_fit == K_fit_2).all())\n",
    "print()\n",
    "print(\"J_fit, J_fit3\")\n",
    "print((J_fit == J_fit_3).all())\n",
    "print(\"K_fit, K_fit3\")\n",
    "print((K_fit == K_fit_3).all())"
   ]
  },
  {
   "cell_type": "code",
   "execution_count": 17,
   "metadata": {},
   "outputs": [
    {
     "name": "stdout",
     "output_type": "stream",
     "text": [
      "Off diagonal part is equal\n",
      "D_fit, D_calc\n",
      "True\n",
      "\n",
      "S_fit, S_calc\n",
      "True\n",
      "\n",
      "Jfit, Jcalc\n",
      "[148.038 148.139 148.139]\n",
      "[149.181 149.317 149.317]\n",
      "\n",
      "[148.173 148.071 148.071]\n",
      "[146.983 146.917 146.917]\n",
      "\n",
      "[149.176 149.176 149.176]\n",
      "[149.181 149.173 149.173]\n"
     ]
    }
   ],
   "source": [
    "print(\"Off diagonal part is equal\")\n",
    "print(\"D_fit, D_calc\")\n",
    "print((D_fit == D_calc).all())\n",
    "print()\n",
    "print(\"S_fit, S_calc\")\n",
    "print((S_fit == S_calc).all())\n",
    "print()\n",
    "print(\"Jfit, Jcalc\")\n",
    "print(J_fit[:, 0, 0])\n",
    "print(J_calc[:, 0, 0])\n",
    "print()\n",
    "print(J_fit[:, 1, 1])\n",
    "print(J_calc[:, 1, 1])\n",
    "print()\n",
    "print(J_fit[:, 2, 2])\n",
    "print(J_calc[:, 2, 2])"
   ]
  },
  {
   "cell_type": "code",
   "execution_count": 18,
   "metadata": {},
   "outputs": [
    {
     "name": "stdout",
     "output_type": "stream",
     "text": [
      "K_fit, K_calc\n",
      "[-0.144 -0.144 -0.113]\n",
      "[-0.116 -0.116 -0.169]\n",
      "\n",
      "[-0.123 -0.123 -0.155]\n",
      "[-0.152 -0.152 -0.098]\n",
      "\n",
      "[ 0.042 -0.042  0.   ]\n",
      "[ 0.043 -0.043  0.   ]\n",
      "\n",
      "[ 0.002 -0.002 -0.   ]\n",
      "[ 0.001 -0.001 -0.   ]\n",
      "\n",
      "[ 0.002 -0.002 -0.   ]\n",
      "[ 0.001 -0.001 -0.   ]\n"
     ]
    }
   ],
   "source": [
    "print(\"K_fit, K_calc\")\n",
    "print(K_fit[:, 0, 0])\n",
    "print(K_calc[:, 0, 0])\n",
    "print()\n",
    "print(K_fit[:, 1, 1])\n",
    "print(K_calc[:, 1, 1])\n",
    "print()\n",
    "print(K_fit[:, 0, 1])\n",
    "print(K_calc[:, 0, 1])\n",
    "print()\n",
    "print(K_fit[:, 0, 2])\n",
    "print(K_calc[:, 0, 2])\n",
    "print()\n",
    "print(K_fit[:, 1, 2])\n",
    "print(K_calc[:, 1, 2])"
   ]
  },
  {
   "cell_type": "code",
   "execution_count": 19,
   "metadata": {},
   "outputs": [
    {
     "name": "stdout",
     "output_type": "stream",
     "text": [
      "Off diagonal part is equal\n",
      "D_fit, D_fit_3\n",
      "False\n",
      "\n",
      "S_fit, S_fit_3\n",
      "False\n",
      "\n",
      "J_fit, J_fit_3\n",
      "[148.038 148.139 148.139]\n",
      "[-234.427 -234.633 -234.635]\n",
      "\n",
      "[148.173 148.071 148.071]\n",
      "[277.232 277.209 277.21 ]\n",
      "\n",
      "[149.176 149.176 149.176]\n",
      "[149.176 149.176 149.176]\n"
     ]
    }
   ],
   "source": [
    "print(\"Off diagonal part is equal\")\n",
    "print(\"D_fit, D_fit_3\")\n",
    "print((D_fit == D_fit_3).all())\n",
    "print()\n",
    "print(\"S_fit, S_fit_3\")\n",
    "print((S_fit == S_fit_3).all())\n",
    "print()\n",
    "print(\"J_fit, J_fit_3\")\n",
    "print(J_fit[:, 0, 0])\n",
    "print(J_fit_3[:, 0, 0])\n",
    "print()\n",
    "print(J_fit[:, 1, 1])\n",
    "print(J_fit_3[:, 1, 1])\n",
    "print()\n",
    "print(J_fit[:, 2, 2])\n",
    "print(J_fit_3[:, 2, 2])"
   ]
  },
  {
   "cell_type": "code",
   "execution_count": 20,
   "metadata": {},
   "outputs": [
    {
     "name": "stdout",
     "output_type": "stream",
     "text": [
      "K_fit, K_fit_3\n",
      "[-0.144 -0.144 -0.113]\n",
      "[0.187 0.184 0.188]\n",
      "\n",
      "[-0.123 -0.123 -0.155]\n",
      "[-0.152 -0.152 -0.098]\n",
      "\n",
      "[ 0.042 -0.042  0.   ]\n",
      "[-0.021  0.021  0.   ]\n",
      "\n",
      "[ 0.002 -0.002 -0.   ]\n",
      "[ 0.01 -0.01 -0.  ]\n",
      "\n",
      "[ 0.002 -0.002 -0.   ]\n",
      "[0.044 0.042 0.053]\n"
     ]
    }
   ],
   "source": [
    "print(\"K_fit, K_fit_3\")\n",
    "print(K_fit[:, 0, 0])\n",
    "print(K_fit_3[:, 0, 0])\n",
    "print()\n",
    "print(K_fit[:, 1, 1])\n",
    "print(K_fit_3[:, 1, 1])\n",
    "print()\n",
    "print(K_fit[:, 0, 1])\n",
    "print(K_fit_3[:, 0, 1])\n",
    "print()\n",
    "print(K_fit[:, 0, 2])\n",
    "print(K_fit_3[:, 0, 2])\n",
    "print()\n",
    "print(K_fit[:, 1, 2])\n",
    "print(K_fit_3[:, 1, 2])"
   ]
  },
  {
   "cell_type": "code",
   "execution_count": 21,
   "metadata": {},
   "outputs": [
    {
     "data": {
      "application/vnd.plotly.v1+json": {
       "config": {
        "plotlyServerURL": "https://plot.ly"
       },
       "data": [
        {
         "legendgroup": "vector_0",
         "line": {
          "color": "red",
          "width": 5
         },
         "mode": "lines",
         "name": "0Cr(l:2)-->1Cr(l:2), ruc:[0 0 0]",
         "showlegend": true,
         "type": "scatter3d",
         "x": [
          0,
          0.00005591999349646736
         ],
         "y": [
          0,
          0.000013167760385981062
         ],
         "z": [
          0,
          -1.4267560379343776
         ]
        },
        {
         "colorscale": [
          [
           0,
           "red"
          ],
          [
           1,
           "red"
          ]
         ],
         "legendgroup": "vector_0",
         "showlegend": false,
         "showscale": false,
         "sizemode": "absolute",
         "sizeref": 0.14267560390909997,
         "type": "cone",
         "u": [
          0.000011183998699293472
         ],
         "v": [
          0.0000026335520771962124
         ],
         "w": [
          -0.2853512075868755
         ],
         "x": [
          0.00005591999349646736
         ],
         "y": [
          0.000013167760385981062
         ],
         "z": [
          -1.4267560379343776
         ]
        },
        {
         "legendgroup": "vector_1",
         "line": {
          "color": "green",
          "width": 5
         },
         "mode": "lines",
         "name": "1Cr(l:2)-->2Cr(l:2), ruc:[0 0 0]",
         "showlegend": true,
         "type": "scatter3d",
         "x": [
          1.2492399777787733,
          1.2492638320461613
         ],
         "y": [
          0.7212490374530169,
          0.7212942677225058
         ],
         "z": [
          0,
          -1.426739182433486
         ]
        },
        {
         "colorscale": [
          [
           0,
           "green"
          ],
          [
           1,
           "green"
          ]
         ],
         "legendgroup": "vector_1",
         "showlegend": false,
         "showscale": false,
         "sizemode": "absolute",
         "sizeref": 0.14267560390909997,
         "type": "cone",
         "u": [
          0.000004770853477594692
         ],
         "v": [
          0.000009046053897775933
         ],
         "w": [
          -0.2853478364866972
         ],
         "x": [
          1.2492638320461613
         ],
         "y": [
          0.7212942677225058
         ],
         "z": [
          -1.426739182433486
         ]
        },
        {
         "legendgroup": "vector_2",
         "line": {
          "color": "blue",
          "width": 5
         },
         "mode": "lines",
         "name": "2Cr(l:2)-->0Cr(l:2), ruc:[0 0 0]",
         "showlegend": true,
         "type": "scatter3d",
         "x": [
          1.2492399777787733,
          1.249263832047975
         ],
         "y": [
          -0.7212490374530169,
          -0.7212038072101371
         ],
         "z": [
          0,
          -1.4267393257914556
         ]
        },
        {
         "colorscale": [
          [
           0,
           "blue"
          ],
          [
           1,
           "blue"
          ]
         ],
         "legendgroup": "vector_2",
         "showlegend": false,
         "showscale": false,
         "sizemode": "absolute",
         "sizeref": 0.14267560390909997,
         "type": "cone",
         "u": [
          0.000004770853840333807
         ],
         "v": [
          0.000009046048575961686
         ],
         "w": [
          -0.28534786515829114
         ],
         "x": [
          1.249263832047975
         ],
         "y": [
          -0.7212038072101371
         ],
         "z": [
          -1.4267393257914556
         ]
        },
        {
         "marker": {
          "color": "red",
          "opacity": 0.8,
          "size": 10
         },
         "mode": "markers",
         "name": "Center:0Cr(l:2)",
         "type": "scatter3d",
         "x": [
          0
         ],
         "y": [
          -1.4424980749060339
         ],
         "z": [
          0
         ]
        },
        {
         "legendgroup": "pair 0Cr(l:2)-[[0.0 1.4424980749060339 0.0]]",
         "marker": {
          "color": "red",
          "opacity": 0.5,
          "size": 5
         },
         "mode": "markers",
         "name": "1Cr(l:2), ruc:[0 0 0]",
         "type": "scatter3d",
         "x": [
          0
         ],
         "y": [
          1.4424980749060339
         ],
         "z": [
          0
         ]
        },
        {
         "legendgroup": "pair 0Cr(l:2)-[[0.0 1.4424980749060339 0.0]]",
         "line": {
          "color": "red"
         },
         "mode": "lines",
         "showlegend": false,
         "type": "scatter3d",
         "x": [
          0,
          0
         ],
         "y": [
          -1.4424980749060339,
          1.4424980749060339
         ],
         "z": [
          0,
          0
         ]
        },
        {
         "marker": {
          "color": "green",
          "opacity": 0.8,
          "size": 10
         },
         "mode": "markers",
         "name": "Center:1Cr(l:2)",
         "type": "scatter3d",
         "x": [
          0
         ],
         "y": [
          1.4424980749060339
         ],
         "z": [
          0
         ]
        },
        {
         "legendgroup": "pair 1Cr(l:2)-[[2.4984799555575465 0.0 0.0]]",
         "marker": {
          "color": "green",
          "opacity": 0.5,
          "size": 5
         },
         "mode": "markers",
         "name": "2Cr(l:2), ruc:[0 0 0]",
         "type": "scatter3d",
         "x": [
          2.4984799555575465
         ],
         "y": [
          0
         ],
         "z": [
          0
         ]
        },
        {
         "legendgroup": "pair 1Cr(l:2)-[[2.4984799555575465 0.0 0.0]]",
         "line": {
          "color": "green"
         },
         "mode": "lines",
         "showlegend": false,
         "type": "scatter3d",
         "x": [
          0,
          2.4984799555575465
         ],
         "y": [
          1.4424980749060339,
          0
         ],
         "z": [
          0,
          0
         ]
        },
        {
         "marker": {
          "color": "blue",
          "opacity": 0.8,
          "size": 10
         },
         "mode": "markers",
         "name": "Center:2Cr(l:2)",
         "type": "scatter3d",
         "x": [
          2.4984799555575465
         ],
         "y": [
          0
         ],
         "z": [
          0
         ]
        },
        {
         "legendgroup": "pair 2Cr(l:2)-[[0.0 -1.4424980749060339 0.0]]",
         "marker": {
          "color": "blue",
          "opacity": 0.5,
          "size": 5
         },
         "mode": "markers",
         "name": "0Cr(l:2), ruc:[0 0 0]",
         "type": "scatter3d",
         "x": [
          0
         ],
         "y": [
          -1.4424980749060339
         ],
         "z": [
          0
         ]
        },
        {
         "legendgroup": "pair 2Cr(l:2)-[[0.0 -1.4424980749060339 0.0]]",
         "line": {
          "color": "blue"
         },
         "mode": "lines",
         "showlegend": false,
         "type": "scatter3d",
         "x": [
          2.4984799555575465,
          0
         ],
         "y": [
          0,
          -1.4424980749060339
         ],
         "z": [
          0,
          0
         ]
        }
       ],
       "layout": {
        "autosize": false,
        "height": 700,
        "scene": {
         "aspectmode": "data",
         "xaxis": {
          "gridwidth": 1,
          "showgrid": true,
          "title": {
           "text": "X Axis"
          }
         },
         "yaxis": {
          "gridwidth": 1,
          "showgrid": true,
          "title": {
           "text": "Y Axis"
          }
         },
         "zaxis": {
          "gridwidth": 1,
          "showgrid": true,
          "title": {
           "text": "Z Axis"
          }
         }
        },
        "template": {
         "layout": {
          "hovermode": "closest",
          "paper_bgcolor": "white",
          "plot_bgcolor": "white",
          "scene": {
           "xaxis": {
            "color": "black",
            "gridcolor": "#ccc",
            "gridwidth": 1,
            "linewidth": 1,
            "mirror": true,
            "showgrid": false,
            "showline": true,
            "ticklen": 5,
            "ticks": "outside",
            "ticksuffix": " ",
            "visible": true,
            "zeroline": false,
            "zerolinecolor": "#ccc",
            "zerolinewidth": 1
           },
           "yaxis": {
            "color": "black",
            "gridcolor": "#ccc",
            "gridwidth": 1,
            "linewidth": 1,
            "mirror": true,
            "showgrid": false,
            "showline": true,
            "ticklen": 5,
            "ticks": "outside",
            "ticksuffix": " ",
            "visible": true,
            "zeroline": false,
            "zerolinecolor": "#ccc",
            "zerolinewidth": 1
           },
           "zaxis": {
            "color": "black",
            "gridcolor": "#ccc",
            "gridwidth": 1,
            "linewidth": 1,
            "mirror": true,
            "showgrid": false,
            "showline": true,
            "ticklen": 5,
            "ticks": "outside",
            "ticksuffix": " ",
            "visible": true,
            "zeroline": false,
            "zerolinecolor": "#ccc",
            "zerolinewidth": 1
           }
          },
          "xaxis": {
           "color": "black",
           "gridcolor": "#ccc",
           "gridwidth": 1,
           "linewidth": 1,
           "mirror": true,
           "showgrid": false,
           "showline": true,
           "ticklen": 5,
           "ticks": "outside",
           "ticksuffix": " ",
           "visible": true,
           "zeroline": false,
           "zerolinecolor": "#ccc",
           "zerolinewidth": 1
          },
          "yaxis": {
           "color": "black",
           "gridcolor": "#ccc",
           "gridwidth": 1,
           "linewidth": 1,
           "mirror": true,
           "showgrid": false,
           "showline": true,
           "ticklen": 5,
           "ticks": "outside",
           "ticksuffix": " ",
           "visible": true,
           "zeroline": false,
           "zerolinecolor": "#ccc",
           "zerolinewidth": 1
          }
         }
        },
        "width": 1200
       }
      }
     },
     "metadata": {},
     "output_type": "display_data"
    }
   ],
   "source": [
    "simulation.plot_DM(rescale=0.1).add_traces(simulation.plot_pairs(connect=True).data)"
   ]
  },
  {
   "cell_type": "markdown",
   "metadata": {},
   "source": [
    "# Greens function from projection"
   ]
  },
  {
   "cell_type": "code",
   "execution_count": 22,
   "metadata": {},
   "outputs": [],
   "source": [
    "from scipy.linalg import eigh\n",
    "\n",
    "eset = simulation.contour.eset\n",
    "samples = simulation.contour.samples\n",
    "eta = 1e-7\n",
    "\n",
    "H = simulation.hamiltonian.H\n",
    "H = H.reshape((90, 90))\n",
    "S = simulation.hamiltonian.S\n",
    "S = S.reshape((90, 90))"
   ]
  },
  {
   "cell_type": "code",
   "execution_count": 23,
   "metadata": {},
   "outputs": [],
   "source": [
    "eigvals, eigvec = eigh(H, S)\n",
    "\n",
    "G = np.zeros((eset, *H.shape), dtype=np.complex128)\n",
    "\n",
    "\n",
    "for i, e in enumerate(samples):\n",
    "    G_E = np.zeros_like(H, dtype=np.complex128)\n",
    "\n",
    "    for n in range(len(eigvals)):\n",
    "        proj = np.outer(eigvec[:, n], eigvec[:, n].conj())\n",
    "\n",
    "        G_E += proj / (e - eigvals[n] + 1j * eta)\n",
    "\n",
    "    G[i] = G_E"
   ]
  },
  {
   "cell_type": "code",
   "execution_count": 24,
   "metadata": {},
   "outputs": [
    {
     "data": {
      "text/plain": [
       "(100, 90, 90)"
      ]
     },
     "execution_count": 24,
     "metadata": {},
     "output_type": "execute_result"
    }
   ],
   "source": [
    "G.shape"
   ]
  },
  {
   "cell_type": "code",
   "execution_count": 25,
   "metadata": {},
   "outputs": [
    {
     "data": {
      "text/plain": [
       "array([[ 2.22044605e-16, -1.00000000e+00,  0.00000000e+00],\n",
       "       [ 1.00000000e+00,  2.22044605e-16,  0.00000000e+00],\n",
       "       [ 0.00000000e+00,  0.00000000e+00,  1.00000000e+00]])"
      ]
     },
     "execution_count": 25,
     "metadata": {},
     "output_type": "execute_result"
    }
   ],
   "source": [
    "from scipy.spatial.transform import Rotation as R\n",
    "import numpy as np\n",
    "\n",
    "r = R.from_rotvec(np.pi / 2 * np.array([0, 0, 1]))\n",
    "r.as_matrix()"
   ]
  },
  {
   "cell_type": "code",
   "execution_count": null,
   "metadata": {},
   "outputs": [],
   "source": []
  }
 ],
 "metadata": {
  "kernelspec": {
   "display_name": ".venv",
   "language": "python",
   "name": "python3"
  },
  "language_info": {
   "codemirror_mode": {
    "name": "ipython",
    "version": 3
   },
   "file_extension": ".py",
   "mimetype": "text/x-python",
   "name": "python",
   "nbconvert_exporter": "python",
   "pygments_lexer": "ipython3",
   "version": "3.9.6"
  }
 },
 "nbformat": 4,
 "nbformat_minor": 2
}
