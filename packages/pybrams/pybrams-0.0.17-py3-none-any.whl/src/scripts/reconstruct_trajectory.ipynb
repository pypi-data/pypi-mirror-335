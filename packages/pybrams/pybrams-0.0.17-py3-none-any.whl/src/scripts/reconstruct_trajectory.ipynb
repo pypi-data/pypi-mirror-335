{
 "cells": [
  {
   "cell_type": "code",
   "execution_count": null,
   "metadata": {},
   "outputs": [],
   "source": [
    "%matplotlib widget\n",
    "import argparse\n",
    "import pybrams\n",
    "import logging\n",
    "import dill"
   ]
  },
  {
   "cell_type": "code",
   "execution_count": null,
   "metadata": {},
   "outputs": [],
   "source": [
    "def main(args: argparse.Namespace) -> int:\n",
    "\n",
    "    pybrams.enable_logging(level=logging.INFO)\n",
    "\n",
    "    if args.enable_cache:\n",
    "\n",
    "        pybrams.enable_cache()\n",
    "    \n",
    "    if args.clear_cache:\n",
    "\n",
    "        pybrams.clear_cache()\n",
    "\n",
    "    if args.airplane_subtraction:\n",
    "\n",
    "        pybrams.processing.signal.enable_airplane_subtraction()\n",
    "  \n",
    "    if args.command == \"cams\":\n",
    "\n",
    "        cams = pybrams.optical.cams.CAMS(args)\n",
    "        cams.load()\n",
    "        solvers = cams.solve()\n",
    "        \n",
    "        return solvers\n",
    "        \n",
    "    elif args.command == \"brams\":\n",
    "        \n",
    "        solver_data = pybrams.trajectory.extract_solver_data(args)\n",
    "\n",
    "        solver = pybrams.trajectory.Solver(solver_data, args)\n",
    "        solver.solve()\n",
    "\n",
    "        return solver\n",
    "    \n",
    "    return 0"
   ]
  },
  {
   "cell_type": "code",
   "execution_count": null,
   "metadata": {},
   "outputs": [],
   "source": [
    "\n",
    "trajectory_to_study = {\"2025-01-31\":[\"57\", \"166\"], \"2022-04-27\":[\"39\",\"49\"], \"2022-03-22\":[\"92\"], \"2020-07-29\":[\"79\", \"105\", \"188\", \"477\", \"532\"]}\n",
    "\n",
    "for date_to_study, trajectory_numbers in trajectory_to_study.items():\n",
    "\n",
    "    for trajectory_number in trajectory_numbers:\n",
    "\n",
    "        class Args():\n",
    "\n",
    "            enable_cache = True\n",
    "            clear_cache = False\n",
    "            metadata_only = False\n",
    "            save_json = True\n",
    "            recompute_meteors = False\n",
    "            airplane_subtraction = False\n",
    "            velocity_model = \"constant\" \n",
    "            weights_pre_t0_objective = [0.030,0.059,0.111,0.200,0.333,0.500,0.667,0.800,0.889,0.941,0.970]\n",
    "            plot = False\n",
    "\n",
    "            command = \"cams\"\n",
    "            date = date_to_study\n",
    "            number = trajectory_number\n",
    "            system = None\n",
    "\n",
    "        args = Args()\n",
    "\n",
    "        solvers = main(args)\n",
    "\n",
    "        with open(f'Trajectory_{date_to_study}_{trajectory_number}.dill', 'wb') as fichier_dill:\n",
    "            dill.dump([solver.to_dict() for solver in solvers], fichier_dill)\n",
    "        \n",
    "    "
   ]
  }
 ],
 "metadata": {
  "kernelspec": {
   "display_name": "new_venv",
   "language": "python",
   "name": "python3"
  },
  "language_info": {
   "codemirror_mode": {
    "name": "ipython",
    "version": 3
   },
   "file_extension": ".py",
   "mimetype": "text/x-python",
   "name": "python",
   "nbconvert_exporter": "python",
   "pygments_lexer": "ipython3",
   "version": "3.11.3"
  }
 },
 "nbformat": 4,
 "nbformat_minor": 4
}
