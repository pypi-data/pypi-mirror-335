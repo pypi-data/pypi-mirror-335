{
 "cells": [
  {
   "cell_type": "code",
   "execution_count": 2,
   "id": "638d6388",
   "metadata": {},
   "outputs": [
    {
     "data": {
      "text/html": [
       "<div>\n",
       "<style scoped>\n",
       "    .dataframe tbody tr th:only-of-type {\n",
       "        vertical-align: middle;\n",
       "    }\n",
       "\n",
       "    .dataframe tbody tr th {\n",
       "        vertical-align: top;\n",
       "    }\n",
       "\n",
       "    .dataframe thead th {\n",
       "        text-align: right;\n",
       "    }\n",
       "</style>\n",
       "<table border=\"1\" class=\"dataframe\">\n",
       "  <thead>\n",
       "    <tr style=\"text-align: right;\">\n",
       "      <th></th>\n",
       "      <th>distance_from_home</th>\n",
       "      <th>distance_from_last_transaction</th>\n",
       "      <th>ratio_to_median_purchase_price</th>\n",
       "      <th>repeat_retailer</th>\n",
       "      <th>used_chip</th>\n",
       "      <th>used_pin_number</th>\n",
       "      <th>online_order</th>\n",
       "      <th>fraud</th>\n",
       "    </tr>\n",
       "  </thead>\n",
       "  <tbody>\n",
       "    <tr>\n",
       "      <th>0</th>\n",
       "      <td>2.131956</td>\n",
       "      <td>56.372401</td>\n",
       "      <td>6.358667</td>\n",
       "      <td>1</td>\n",
       "      <td>0</td>\n",
       "      <td>0</td>\n",
       "      <td>1</td>\n",
       "      <td>1</td>\n",
       "    </tr>\n",
       "    <tr>\n",
       "      <th>1</th>\n",
       "      <td>3.803057</td>\n",
       "      <td>67.241081</td>\n",
       "      <td>1.872950</td>\n",
       "      <td>1</td>\n",
       "      <td>0</td>\n",
       "      <td>0</td>\n",
       "      <td>1</td>\n",
       "      <td>1</td>\n",
       "    </tr>\n",
       "    <tr>\n",
       "      <th>2</th>\n",
       "      <td>15.694986</td>\n",
       "      <td>175.989182</td>\n",
       "      <td>0.855623</td>\n",
       "      <td>1</td>\n",
       "      <td>0</td>\n",
       "      <td>0</td>\n",
       "      <td>1</td>\n",
       "      <td>1</td>\n",
       "    </tr>\n",
       "    <tr>\n",
       "      <th>3</th>\n",
       "      <td>26.711462</td>\n",
       "      <td>1.552008</td>\n",
       "      <td>4.603601</td>\n",
       "      <td>1</td>\n",
       "      <td>1</td>\n",
       "      <td>0</td>\n",
       "      <td>1</td>\n",
       "      <td>1</td>\n",
       "    </tr>\n",
       "    <tr>\n",
       "      <th>4</th>\n",
       "      <td>10.664474</td>\n",
       "      <td>1.565769</td>\n",
       "      <td>4.886521</td>\n",
       "      <td>1</td>\n",
       "      <td>0</td>\n",
       "      <td>0</td>\n",
       "      <td>1</td>\n",
       "      <td>1</td>\n",
       "    </tr>\n",
       "    <tr>\n",
       "      <th>...</th>\n",
       "      <td>...</td>\n",
       "      <td>...</td>\n",
       "      <td>...</td>\n",
       "      <td>...</td>\n",
       "      <td>...</td>\n",
       "      <td>...</td>\n",
       "      <td>...</td>\n",
       "      <td>...</td>\n",
       "    </tr>\n",
       "    <tr>\n",
       "      <th>19995</th>\n",
       "      <td>2.895796</td>\n",
       "      <td>0.625744</td>\n",
       "      <td>2.734760</td>\n",
       "      <td>1</td>\n",
       "      <td>1</td>\n",
       "      <td>0</td>\n",
       "      <td>1</td>\n",
       "      <td>0</td>\n",
       "    </tr>\n",
       "    <tr>\n",
       "      <th>19996</th>\n",
       "      <td>7.386646</td>\n",
       "      <td>225.860550</td>\n",
       "      <td>2.019975</td>\n",
       "      <td>1</td>\n",
       "      <td>0</td>\n",
       "      <td>1</td>\n",
       "      <td>1</td>\n",
       "      <td>0</td>\n",
       "    </tr>\n",
       "    <tr>\n",
       "      <th>19997</th>\n",
       "      <td>2.977114</td>\n",
       "      <td>1.097265</td>\n",
       "      <td>0.429777</td>\n",
       "      <td>1</td>\n",
       "      <td>1</td>\n",
       "      <td>0</td>\n",
       "      <td>0</td>\n",
       "      <td>0</td>\n",
       "    </tr>\n",
       "    <tr>\n",
       "      <th>19998</th>\n",
       "      <td>13.794286</td>\n",
       "      <td>0.309331</td>\n",
       "      <td>1.838496</td>\n",
       "      <td>1</td>\n",
       "      <td>0</td>\n",
       "      <td>0</td>\n",
       "      <td>1</td>\n",
       "      <td>0</td>\n",
       "    </tr>\n",
       "    <tr>\n",
       "      <th>19999</th>\n",
       "      <td>19.184283</td>\n",
       "      <td>12.842471</td>\n",
       "      <td>0.542050</td>\n",
       "      <td>1</td>\n",
       "      <td>0</td>\n",
       "      <td>0</td>\n",
       "      <td>1</td>\n",
       "      <td>0</td>\n",
       "    </tr>\n",
       "  </tbody>\n",
       "</table>\n",
       "<p>20000 rows × 8 columns</p>\n",
       "</div>"
      ],
      "text/plain": [
       "       distance_from_home  distance_from_last_transaction  ...  online_order  fraud\n",
       "0                2.131956                       56.372401  ...             1      1\n",
       "1                3.803057                       67.241081  ...             1      1\n",
       "2               15.694986                      175.989182  ...             1      1\n",
       "3               26.711462                        1.552008  ...             1      1\n",
       "4               10.664474                        1.565769  ...             1      1\n",
       "...                   ...                             ...  ...           ...    ...\n",
       "19995            2.895796                        0.625744  ...             1      0\n",
       "19996            7.386646                      225.860550  ...             1      0\n",
       "19997            2.977114                        1.097265  ...             0      0\n",
       "19998           13.794286                        0.309331  ...             1      0\n",
       "19999           19.184283                       12.842471  ...             1      0\n",
       "\n",
       "[20000 rows x 8 columns]"
      ]
     },
     "execution_count": 2,
     "metadata": {},
     "output_type": "execute_result"
    }
   ],
   "source": [
    "# 读取train数据和test数据\n",
    "import pandas as pd\n",
    "import numpy as np\n",
    "train_data = pd.read_csv(\"train.csv\")\n",
    "test_data = pd.read_csv(\"test.csv\")\n",
    "train_data"
   ]
  },
  {
   "cell_type": "code",
   "execution_count": 9,
   "id": "50fd1b37",
   "metadata": {},
   "outputs": [
    {
     "data": {
      "text/plain": [
       "array([[  2.13195567,  56.37240054,   6.35866732, ...,   0.        ,\n",
       "          0.        ,   1.        ],\n",
       "       [  3.80305735,  67.24108053,   1.87294961, ...,   0.        ,\n",
       "          0.        ,   1.        ],\n",
       "       [ 15.69498554, 175.9891815 ,   0.85562283, ...,   0.        ,\n",
       "          0.        ,   1.        ],\n",
       "       ...,\n",
       "       [  2.97711433,   1.09726524,   0.42977677, ...,   1.        ,\n",
       "          0.        ,   0.        ],\n",
       "       [ 13.79428574,   0.30933093,   1.83849642, ...,   0.        ,\n",
       "          0.        ,   1.        ],\n",
       "       [ 19.1842828 ,  12.84247075,   0.54205032, ...,   0.        ,\n",
       "          0.        ,   1.        ]])"
      ]
     },
     "execution_count": 9,
     "metadata": {},
     "output_type": "execute_result"
    }
   ],
   "source": [
    "# 将训练数据的标签和内容分开\n",
    "x_train_data = train_data.iloc[:,:-1].values\n",
    "y_train_data = train_data.iloc[:,-1].values\n",
    "x_test_data = test_data.values\n",
    "# x_train_data\n",
    "x_train_data"
   ]
  },
  {
   "cell_type": "code",
   "execution_count": 10,
   "id": "34f3638f",
   "metadata": {},
   "outputs": [
    {
     "data": {
      "text/plain": [
       "array([[6.94197902e-04, 2.60920748e-02, 2.38013134e-02, ...,\n",
       "        0.00000000e+00, 0.00000000e+00, 1.00000000e+00],\n",
       "       [1.24935819e-03, 3.11227079e-02, 6.98060701e-03, ...,\n",
       "        0.00000000e+00, 0.00000000e+00, 1.00000000e+00],\n",
       "       [5.20000123e-03, 8.14574126e-02, 3.16579826e-03, ...,\n",
       "        0.00000000e+00, 0.00000000e+00, 1.00000000e+00],\n",
       "       ...,\n",
       "       [9.74969881e-04, 5.07650032e-04, 1.56894531e-03, ...,\n",
       "        1.00000000e+00, 0.00000000e+00, 0.00000000e+00],\n",
       "       [4.56856566e-03, 1.42949953e-04, 6.85141320e-03, ...,\n",
       "        0.00000000e+00, 0.00000000e+00, 1.00000000e+00],\n",
       "       [6.35918818e-03, 5.94398819e-03, 1.98995274e-03, ...,\n",
       "        0.00000000e+00, 0.00000000e+00, 1.00000000e+00]])"
      ]
     },
     "execution_count": 10,
     "metadata": {},
     "output_type": "execute_result"
    }
   ],
   "source": [
    "# 数据归一化\n",
    "from sklearn.preprocessing import MinMaxScaler\n",
    "scaler = MinMaxScaler(feature_range=(0,1))\n",
    "x_train_data_scaler = scaler.fit_transform(x_train_data)\n",
    "x_test_data_scaler = scaler.transform(x_test_data)\n",
    "x_train_data_scaler"
   ]
  },
  {
   "cell_type": "code",
   "execution_count": 12,
   "id": "a846f9fc",
   "metadata": {},
   "outputs": [
    {
     "data": {
      "text/plain": [
       "16000"
      ]
     },
     "execution_count": 12,
     "metadata": {},
     "output_type": "execute_result"
    }
   ],
   "source": [
    "# 将训练数据划分为训练集和验证集\n",
    "from sklearn.model_selection import train_test_split\n",
    "x_train,x_valid, y_train, y_valid = train_test_split(x_train_data_scaler, y_train_data, test_size=0.2, random_state=2023)\n",
    "len(x_train)"
   ]
  },
  {
   "cell_type": "code",
   "execution_count": 13,
   "id": "8f18f726",
   "metadata": {},
   "outputs": [],
   "source": [
    "# 创建模型\n",
    "from sklearn.linear_model import LogisticRegression\n",
    "from sklearn.svm import SVC\n",
    "from sklearn.tree import DecisionTreeClassifier\n",
    "from sklearn.ensemble import RandomForestClassifier\n",
    "from sklearn.ensemble import GradientBoostingClassifier\n",
    "\n",
    "ori_models = [LogisticRegression(random_state=10),\n",
    "              SVC(random_state=10),\n",
    "              DecisionTreeClassifier(criterion='gini',random_state=0),\n",
    "              RandomForestClassifier(random_state=10)]\n",
    "final_model = GradientBoostingClassifier(n_estimators=20)"
   ]
  },
  {
   "cell_type": "code",
   "execution_count": 25,
   "id": "d93af8de",
   "metadata": {},
   "outputs": [],
   "source": [
    "from sklearn.model_selection import KFold\n",
    "class MyStacking:\n",
    "    def __init__(self, ori_models, final_model):\n",
    "        self.ori_models = ori_models\n",
    "        self.final_model = final_model\n",
    "    \n",
    "    def train(self, x, y):\n",
    "        dataset_train = self.stacking(x, y)\n",
    "        self.final_model.fit(dataset_train, y)\n",
    "        \n",
    "    def stacking(self, x, y):\n",
    "        kf = KFold(n_splits=5, shuffle=True, random_state=2021)\n",
    "        dataset_train = np.zeros((x.shape[0], len(self.ori_models)))\n",
    "        for i, model in enumerate(self.ori_models):\n",
    "            for (train, val) in kf.split(x, y):\n",
    "                x_train = x[train]\n",
    "                x_val = x[val]\n",
    "                y_train = y[train]\n",
    "\n",
    "                y_val_pred = model.fit(x_train, y_train).predict(x_val)\n",
    "                dataset_train[val, i] = y_val_pred\n",
    "            self.ori_models[i] = model\n",
    "        return dataset_train\n",
    "    \n",
    "    def predict(self, x):\n",
    "        dataset_test = np.zeros((x.shape[0], len(self.ori_models)))\n",
    "        for i, model in enumerate(self.ori_models):\n",
    "            dataset_test[:, i] = model.predict(x)\n",
    "            print('the {} of {} finish'.format(i, model))\n",
    "        return final_model.predict(dataset_test)\n",
    "    \n",
    "    def score(self, x, y):\n",
    "        dataset_test = np.zeros((x.shape[0], len(self.ori_models)))\n",
    "        for i, model in enumerate(self.ori_models):\n",
    "            dataset_test[:, i] = model.predict(x)\n",
    "        return self.final_model.score(dataset_test, y)"
   ]
  },
  {
   "cell_type": "code",
   "execution_count": 17,
   "id": "19476bbe",
   "metadata": {},
   "outputs": [
    {
     "data": {
      "text/plain": [
       "16000"
      ]
     },
     "execution_count": 17,
     "metadata": {},
     "output_type": "execute_result"
    }
   ],
   "source": [
    "x_train.shape[0]"
   ]
  },
  {
   "cell_type": "code",
   "execution_count": 26,
   "id": "651ec5aa",
   "metadata": {},
   "outputs": [],
   "source": [
    "my_stacking = MyStacking(ori_models, final_model)"
   ]
  },
  {
   "cell_type": "code",
   "execution_count": 27,
   "id": "99c5317d",
   "metadata": {},
   "outputs": [],
   "source": [
    "my_stacking.train(x_train, y_train)"
   ]
  },
  {
   "cell_type": "code",
   "execution_count": 28,
   "id": "3df014bc",
   "metadata": {},
   "outputs": [
    {
     "name": "stdout",
     "output_type": "stream",
     "text": [
      "the 0 of LogisticRegression(random_state=20) finish\n",
      "the 1 of SVC(random_state=20) finish\n",
      "the 2 of DecisionTreeClassifier(random_state=0) finish\n",
      "the 3 of RandomForestClassifier(random_state=20) finish\n"
     ]
    },
    {
     "data": {
      "text/plain": [
       "array([0, 0, 0, ..., 0, 0, 0], dtype=int64)"
      ]
     },
     "execution_count": 28,
     "metadata": {},
     "output_type": "execute_result"
    }
   ],
   "source": [
    "y_pred = my_stacking.predict(x_test_data_scaler)\n",
    "y_pred"
   ]
  },
  {
   "cell_type": "code",
   "execution_count": 29,
   "id": "f04ca8ef",
   "metadata": {},
   "outputs": [],
   "source": [
    "out = pd.DataFrame(y_pred)\n",
    "out\n",
    "\n",
    "out.to_csv(\".pred.csv\", index=False, header=False)"
   ]
  },
  {
   "cell_type": "code",
   "execution_count": null,
   "id": "d4457ce3",
   "metadata": {},
   "outputs": [],
   "source": []
  }
 ],
 "metadata": {
  "kernelspec": {
   "display_name": "Python 3 (ipykernel)",
   "language": "python",
   "name": "python3"
  },
  "language_info": {
   "codemirror_mode": {
    "name": "ipython",
    "version": 3
   },
   "file_extension": ".py",
   "mimetype": "text/x-python",
   "name": "python",
   "nbconvert_exporter": "python",
   "pygments_lexer": "ipython3",
   "version": "3.11.4"
  }
 },
 "nbformat": 4,
 "nbformat_minor": 5
}
