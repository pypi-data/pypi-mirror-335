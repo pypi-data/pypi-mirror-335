{
 "cells": [
  {
   "cell_type": "markdown",
   "id": "2e09091c",
   "metadata": {},
   "source": [
    "数据报告 : \n",
    "    - 传统零售 : \n",
    "        - 代理商 : 压货 挣差价\n",
    "        - 层层分级别 \n",
    "    - 网络零售 :\n",
    "        - 代运营 : 了解代理品牌  了解品类市场  竞品\n",
    "        - 数据报告  PPT(活动)  (日报EXCEL  周报  月报)"
   ]
  },
  {
   "cell_type": "markdown",
   "id": "08dda628",
   "metadata": {},
   "source": [
    "电商数据 可以来自于 策略中台(淘宝 京东 抖音)\n",
    "    - 广义数据\n",
    "\n",
    "数据中台可以提供库存数据吗?\n",
    "    - 自家的 仓库系统\n",
    "    - 供应链数据\n",
    "\n",
    "crm客户管理系统\n",
    "    - 用户信息\n",
    "    \n",
    "ERP系统\n",
    "    - 交易数据\n",
    "    - 品类数据\n",
    "    - sku数据"
   ]
  }
 ],
 "metadata": {
  "kernelspec": {
   "display_name": "Python 3 (ipykernel)",
   "language": "python",
   "name": "python3"
  },
  "language_info": {
   "codemirror_mode": {
    "name": "ipython",
    "version": 3
   },
   "file_extension": ".py",
   "mimetype": "text/x-python",
   "name": "python",
   "nbconvert_exporter": "python",
   "pygments_lexer": "ipython3",
   "version": "3.11.9"
  }
 },
 "nbformat": 4,
 "nbformat_minor": 5
}
