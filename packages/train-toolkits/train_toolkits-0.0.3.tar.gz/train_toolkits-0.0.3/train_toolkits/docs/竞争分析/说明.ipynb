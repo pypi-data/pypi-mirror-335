{
 "cells": [
  {
   "cell_type": "markdown",
   "metadata": {},
   "source": [
    "<img src=\"./imgs/d_1.png\">"
   ]
  },
  {
   "cell_type": "markdown",
   "metadata": {},
   "source": [
    "# 中台\n",
    "<img src=\"./imgs/d_2.png\">"
   ]
  },
  {
   "cell_type": "markdown",
   "metadata": {},
   "source": [
    "# 市场类别\n",
    "<img src=\"./imgs/d_3.png\">"
   ]
  },
  {
   "cell_type": "markdown",
   "metadata": {},
   "source": [
    "# 产品结构-波士顿矩阵(BCG Matrix)\n",
    "<img src=\"./imgs/d_4.png\">"
   ]
  },
  {
   "cell_type": "markdown",
   "metadata": {},
   "source": [
    "# 产品生命周期\n",
    "<img src=\"./imgs/d_5.png\">"
   ]
  },
  {
   "cell_type": "markdown",
   "metadata": {},
   "source": [
    "# 处理项目需求的基本思路\n",
    "<img src=\"./imgs/d_6.png\">"
   ]
  },
  {
   "cell_type": "markdown",
   "metadata": {},
   "source": [
    "# 项目需求例子\n",
    "<img src=\"./imgs/d_7.png\">"
   ]
  },
  {
   "cell_type": "markdown",
   "metadata": {},
   "source": [
    "# 项目背景&产品架构\n",
    "<img src=\"./imgs/d_8.png\">"
   ]
  },
  {
   "cell_type": "markdown",
   "metadata": {},
   "source": [
    "<img src=\"./imgs/d_9.png\">"
   ]
  },
  {
   "cell_type": "markdown",
   "metadata": {},
   "source": [
    "# 数据说明\n",
    "<img src=\"./imgs/d_10.png\">"
   ]
  },
  {
   "cell_type": "raw",
   "metadata": {},
   "source": [
    "宏观分析:\n",
    "    市场份额够不够大\n",
    "    细分市场的额度和比例\n",
    "    垄断程度指数\n",
    "    \n",
    "针对性的细分市场:\n",
    "    市面上商品的分类\n",
    "    每种的价格区间(最受欢迎的价格区间)\n",
    "    不同店铺的份额\n",
    "    物理形态和规格分析\n",
    "    \n",
    "竞争:\n",
    "    各家公司的产品(产品结构)\n",
    "    适用对象\n",
    "    细分各家公司的结构\\流量\\舆情"
   ]
  }
 ],
 "metadata": {
  "kernelspec": {
   "display_name": "Python 3 (ipykernel)",
   "language": "python",
   "name": "python3"
  },
  "language_info": {
   "codemirror_mode": {
    "name": "ipython",
    "version": 3
   },
   "file_extension": ".py",
   "mimetype": "text/x-python",
   "name": "python",
   "nbconvert_exporter": "python",
   "pygments_lexer": "ipython3",
   "version": "3.11.9"
  },
  "toc": {
   "base_numbering": 1,
   "nav_menu": {},
   "number_sections": true,
   "sideBar": true,
   "skip_h1_title": false,
   "title_cell": "Table of Contents",
   "title_sidebar": "Contents",
   "toc_cell": false,
   "toc_position": {},
   "toc_section_display": true,
   "toc_window_display": false
  }
 },
 "nbformat": 4,
 "nbformat_minor": 4
}
