{
 "cells": [
  {
   "cell_type": "code",
   "execution_count": null,
   "id": "af95e2ce",
   "metadata": {},
   "outputs": [],
   "source": [
    "import pandas  as pd\n",
    "import glob,os\n",
    "import matplotlib.pyplot as plt\n",
    "import matplotlib.style as style\n",
    "import warnings\n",
    "from datetime import datetime\n",
    "import numpy as np\n",
    "import seaborn as sns"
   ]
  },
  {
   "cell_type": "code",
   "execution_count": null,
   "id": "5a6e96d2",
   "metadata": {},
   "outputs": [],
   "source": [
    "#配置\n",
    "warnings.filterwarnings(\"ignore\")\n",
    "pd.set_option(\"display.float_format\",\"{:.4f}\".format)\n",
    "style.use(\"ggplot\")\n",
    "plt.rcParams[\"font.sans-serif\"] = [\"SimHei\"]\n",
    "plt.rcParams[\"axes.unicode_minus\"] = False\n",
    "plt.rcParams[\"figure.figsize\"] = (20,10)\n",
    "plt.rcParams[\"figure.dpi\"] = 200"
   ]
  },
  {
   "cell_type": "code",
   "execution_count": null,
   "id": "11881ff6",
   "metadata": {},
   "outputs": [],
   "source": [
    "%pwd"
   ]
  },
  {
   "cell_type": "code",
   "execution_count": 46,
   "id": "4df6f2fb",
   "metadata": {},
   "outputs": [],
   "source": [
    "os.chdir(\"/home/jovyan/work/data/驱虫剂市场\")  "
   ]
  },
  {
   "cell_type": "code",
   "execution_count": 47,
   "id": "446663a1",
   "metadata": {},
   "outputs": [],
   "source": [
    "files = glob.glob(\"./*交易额.xlsx\")"
   ]
  },
  {
   "cell_type": "code",
   "execution_count": null,
   "id": "6bceea72",
   "metadata": {},
   "outputs": [],
   "source": [
    "dfs = []\n",
    "for f in files:\n",
    "    t = f.split(\"市场\")[0][2:]  #前缀\n",
    "    df = pd.read_excel(f)\n",
    "    \n",
    "    if df.时间.dtype == \"int64\":\n",
    "        df[\"时间\"] = pd.to_datetime(df[\"时间\"],unit=\"D\",origin=pd.Timestamp(\"1899-12-30\"))\n",
    "    \n",
    "    #时间列太多\n",
    "    df.set_index([\"时间\"],inplace=True)\n",
    "    #交易金额前面血药加上前缀\n",
    "    df.columns = [t + \"交易金额\"]\n",
    "    #把所有的数据放入到一个list中\n",
    "    dfs.append(df)"
   ]
  },
  {
   "cell_type": "code",
   "execution_count": null,
   "id": "11e5859c",
   "metadata": {},
   "outputs": [],
   "source": [
    "df = pd.concat(dfs,axis=1)"
   ]
  },
  {
   "cell_type": "markdown",
   "id": "2510cfec",
   "metadata": {},
   "source": [
    "# 观察数据\n",
    "\n",
    "- 数据类型\n",
    "- 空值\n",
    "- 趋势 : 有季节因素的影响"
   ]
  },
  {
   "cell_type": "code",
   "execution_count": null,
   "id": "09f562a8",
   "metadata": {},
   "outputs": [],
   "source": [
    "df.isnull().sum().reset_index().T"
   ]
  },
  {
   "cell_type": "code",
   "execution_count": null,
   "id": "d49fb1fb",
   "metadata": {},
   "outputs": [],
   "source": [
    "df.dtypes.reset_index().T"
   ]
  },
  {
   "cell_type": "code",
   "execution_count": null,
   "id": "584c8a61",
   "metadata": {},
   "outputs": [],
   "source": [
    "df.plot()"
   ]
  },
  {
   "cell_type": "markdown",
   "id": "b7f37fd4",
   "metadata": {},
   "source": [
    "# 1.预测数据"
   ]
  },
  {
   "cell_type": "code",
   "execution_count": null,
   "id": "c5883f6e",
   "metadata": {},
   "outputs": [],
   "source": [
    "from sklearn.linear_model import LinearRegression  #线性回归"
   ]
  },
  {
   "cell_type": "code",
   "execution_count": null,
   "id": "b5ffb4cc",
   "metadata": {},
   "outputs": [],
   "source": [
    "#第一个 需要拆解时间 \n",
    "#第二个 拆列数\n",
    "df.head(3)"
   ]
  },
  {
   "cell_type": "code",
   "execution_count": null,
   "id": "c0aba9e4",
   "metadata": {},
   "outputs": [],
   "source": [
    "def predict(df=None, year=None ,month=None):\n",
    "    df = df.reset_index() \n",
    "    df[\"年份\"] = df[\"时间\"].dt.year\n",
    "    df[\"月份\"] = df[\"时间\"].dt.month\n",
    "    \n",
    "    #预测的数据是 11月份  用往年的11月数据 预测 未来11数据\n",
    "    # X一般代表 的是 预测的维度  y结果\n",
    "    X_train = df.query(f\"月份 == {month}\")[[\"年份\",\"月份\"]] # 3\n",
    "    y_train = df.query(f\"月份 == {month}\").iloc[:,1:-2]     # 3\n",
    "    \n",
    "    #预测的时间\n",
    "    X_pred = np.array([[year,month]])\n",
    "    \n",
    "    #拼接词汇表时间格式\n",
    "    y_index = [datetime(year,month,1)]  #[\"2018-11-01\",1,2,3,4,5,6,7]\n",
    "    \n",
    "    for i in range(y_train.columns.size):\n",
    "        y_tra = y_train.iloc[:,i]  #一列\n",
    "        \n",
    "        model = LinearRegression().fit(X_train,y_tra) #预测 会记录 系数 和偏置项\n",
    "        \n",
    "        #越策的结果\n",
    "        y_pred = model.predict(X_pred)   #给时间  返回 金额值\n",
    "        \n",
    "        y_index.append(y_pred[0]) #list \n",
    "    df.drop(columns=[\"年份\",\"月份\"],inplace=True)\n",
    "    new_df = pd.DataFrame(pd.Series(y_index,index=df.columns)).T\n",
    "    \n",
    "   \n",
    "    \n",
    "    return  pd.concat([new_df,df]).set_index(\"时间\")"
   ]
  },
  {
   "cell_type": "code",
   "execution_count": null,
   "id": "5128467d",
   "metadata": {},
   "outputs": [],
   "source": [
    "#先预测 2018 11 和 12 月份数据\n",
    "df = predict(df,year=2018,month=11)\n",
    "df = predict(df,year=2018,month=12)"
   ]
  },
  {
   "cell_type": "code",
   "execution_count": null,
   "id": "67777290",
   "metadata": {},
   "outputs": [],
   "source": [
    "# 2019 - 2027年的数据\n",
    "year = range(2019,2022)\n",
    "month = range(1,13)\n",
    "\n",
    "for y in year:\n",
    "    for m in month:\n",
    "        df = predict(df,year=y,month=m)"
   ]
  },
  {
   "cell_type": "code",
   "execution_count": null,
   "id": "db319940",
   "metadata": {},
   "outputs": [],
   "source": [
    "for m in range(1,11):\n",
    "    df = predict(df,year=2015,month=m)"
   ]
  },
  {
   "cell_type": "code",
   "execution_count": null,
   "id": "c0e7c663",
   "metadata": {},
   "outputs": [],
   "source": [
    "df.plot()"
   ]
  },
  {
   "cell_type": "markdown",
   "id": "b038132a",
   "metadata": {},
   "source": [
    "# 2.市场容量\n",
    "\n",
    "- 整个灭鼠杀虫大市场"
   ]
  },
  {
   "cell_type": "code",
   "execution_count": null,
   "id": "6562100e",
   "metadata": {},
   "outputs": [],
   "source": [
    "dfgp = df.reset_index().groupby(by=[df.reset_index().时间.dt.year])[df.columns].sum()"
   ]
  },
  {
   "cell_type": "code",
   "execution_count": null,
   "id": "1ec6547b",
   "metadata": {},
   "outputs": [],
   "source": [
    "dfgp[\"总额\"] = dfgp.sum(axis=1)"
   ]
  },
  {
   "cell_type": "code",
   "execution_count": null,
   "id": "5e011562",
   "metadata": {},
   "outputs": [],
   "source": [
    "dfgp.style.format(\"￥{:,.2f}\",na_rep=\"-\")\n",
    "\n",
    "xinds = range(dfgp.index.size)\n",
    "\n",
    "plt.bar(xinds,dfgp.总额)\n",
    "\n",
    "plt.xticks(xinds,dfgp.index)\n",
    "\n",
    "#把增长率放到 注释中\n",
    "\n",
    "for a,b in list(zip(xinds,list(zip(dfgp.总额,dfgp.总额.pct_change().fillna(0) )))):\n",
    "    plt.text(a-0.35,b[0],s=f\"同比增长率:{round(b[1]*100,2)}%\\n年销售额:{round(b[0],2)}\")\n",
    "    \n",
    "plt.title(\"2015~2021灭鼠杀虫市场容量和增长率\")"
   ]
  },
  {
   "cell_type": "markdown",
   "id": "a6be3d2c",
   "metadata": {},
   "source": [
    "如果企业的增幅 低于 GDP 说明公司业绩在下降\n",
    "如果企业的增幅 持平 GDP 说明公司业绩持平\n",
    "企业的增幅速度 必须 要大于GDP 才是健康状态\n",
    "\n",
    "市场的份额逐渐扩大,增长率逐步减缓 ,说明增量市场 逐步转化 存量市场"
   ]
  },
  {
   "cell_type": "markdown",
   "id": "704e729e",
   "metadata": {},
   "source": [
    "# 3.细分市场的趋势"
   ]
  },
  {
   "cell_type": "code",
   "execution_count": null,
   "id": "d41980d0",
   "metadata": {},
   "outputs": [],
   "source": [
    "dfgp.iloc[:,:-1].plot(marker=\"o\")"
   ]
  },
  {
   "cell_type": "code",
   "execution_count": null,
   "id": "14c1a737",
   "metadata": {},
   "outputs": [],
   "source": [
    "xinds = range(dfgp.shape[0])  #行数\n",
    "colors = sns.color_palette(\"rainbow\",dfgp.shape[0])\n",
    "#局部调节\n",
    "plt.figure(figsize=(20*2,10*4))  #第一个参数是列  第二参数是行\n",
    "#多图型绘制方法\n",
    "i=1\n",
    "for c in dfgp.columns[:-1]:\n",
    "    #第一个参数是行数   第二个参数是列数  ,第三个参数是画布的编号(必须从1开,编号不能一致)\n",
    "    axes = plt.subplot(4,2,i)  #返回的是一个画布对象\n",
    "    data = dfgp.reset_index().loc[:,[\"时间\",c]]\n",
    "    \n",
    "    \n",
    "    sns.barplot(data=data,x=\"时间\",y=c,ax=axes,color=colors[i-1])\n",
    "    sns.pointplot(data=data,x=\"时间\",y=c,ax=axes)\n",
    "    \n",
    "    axes.set_title(c)\n",
    "    \n",
    "    for a,b in list(zip(xinds,list(zip(dfgp[c],dfgp[c].pct_change().fillna(0) )))):\n",
    "        plt.text(a-0.35,b[0],s=f\"同比增长率:{round(b[1]*100,2)}%\",fontsize=20)\n",
    "    \n",
    "    i+=1\n",
    "    \n",
    "plt.savefig(\"./1.png\")"
   ]
  },
  {
   "cell_type": "markdown",
   "id": "f6528315",
   "metadata": {},
   "source": [
    "# 4.细分市场的占比"
   ]
  },
  {
   "cell_type": "code",
   "execution_count": null,
   "id": "00b51a0b",
   "metadata": {},
   "outputs": [],
   "source": [
    "dfgp.iloc[:,:-1].div(dfgp.iloc[:,-1],axis=0)"
   ]
  },
  {
   "cell_type": "code",
   "execution_count": null,
   "id": "7a484b12",
   "metadata": {},
   "outputs": [],
   "source": [
    "dfgp.iloc[:,:-1].div(dfgp.iloc[:,-1],axis=0).plot(kind=\"bar\",stacked=True)"
   ]
  },
  {
   "cell_type": "markdown",
   "id": "19d13a13",
   "metadata": {},
   "source": [
    "在各年度中 , 不同产品  在整体市场 占有份额比例情况"
   ]
  },
  {
   "cell_type": "markdown",
   "id": "d6bcf9af",
   "metadata": {},
   "source": [
    "# 5.市场的竞争度"
   ]
  },
  {
   "cell_type": "code",
   "execution_count": null,
   "id": "1c5b6878",
   "metadata": {},
   "outputs": [],
   "source": [
    "top100 = pd.read_excel(\"./top100品牌数据.xlsx\").iloc[:,:-1]"
   ]
  },
  {
   "cell_type": "code",
   "execution_count": null,
   "id": "c2c92ab4",
   "metadata": {},
   "outputs": [],
   "source": [
    "#数据银行 : 交易指数 销售额  销售量  点击数  收藏量 .....\n",
    "#交易指数 指数越大,说明 当前 产品的影响力 越大\n",
    "top100[\"交易指数比\"] = top100.交易指数.div(top100.交易指数.sum())  #总额百分比"
   ]
  },
  {
   "cell_type": "code",
   "execution_count": null,
   "id": "5ce0a4f9",
   "metadata": {},
   "outputs": [],
   "source": [
    "top100[\"累计交易指数比\"] = top100[\"交易指数比\"].cumsum()"
   ]
  },
  {
   "cell_type": "code",
   "execution_count": null,
   "id": "b38a45f7",
   "metadata": {},
   "outputs": [],
   "source": [
    "\n",
    "top100.query(f\"交易指数比 >={top100.交易指数比.quantile(0.8)}\")"
   ]
  },
  {
   "cell_type": "code",
   "execution_count": null,
   "id": "1a0ad2e7",
   "metadata": {},
   "outputs": [],
   "source": [
    "plt.figure(figsize=(20,6))\n",
    "axes1 = plt.gca()\n",
    "sns.barplot(top100,x=\"品牌\",y=\"交易指数比\",ax=axes1,color=\"skyblue\")\n",
    "axes2 = axes1.twinx()\n",
    "sns.pointplot(top100,x=\"品牌\",y=\"累计交易指数比\",ax=axes2,color=\"orange\")\n",
    "# axes1.set_xticks()\n",
    "a = axes1.set_xticklabels(top100.品牌,rotation=90)\n",
    "\n",
    "axes1.vlines(19+0.5,0,0.035,ls=\"--\")\n",
    "\n",
    "#累计图像当中会出现比较明显的 拐点"
   ]
  },
  {
   "cell_type": "code",
   "execution_count": null,
   "id": "81e267d4",
   "metadata": {},
   "outputs": [],
   "source": [
    "HHI = top100.交易指数比.pow(2).sum()"
   ]
  },
  {
   "cell_type": "code",
   "execution_count": null,
   "id": "3392d2e1",
   "metadata": {},
   "outputs": [],
   "source": [
    "HHI"
   ]
  },
  {
   "cell_type": "raw",
   "id": "e37fa4a2",
   "metadata": {},
   "source": [
    "垄断不集中"
   ]
  },
  {
   "cell_type": "markdown",
   "id": "e2003cee",
   "metadata": {},
   "source": [
    "## 赫芬达尔赫希曼指数\n",
    "\n",
    "- $\\Sigma S^2$\n",
    "- S : 市场占有份额(总额百分比)\n",
    "- HHI :\n",
    "    - 小于0.01 : 高度自由竞争\n",
    "    - 小于0.15 : 垄断不集中\n",
    "    - 小于0.25 : 垄断高度集中\n",
    "    - 小于0.4 : 高度垄断\n",
    "\n",
    "假设现在有100公司 期中有一家占据89%的份额 其它的99家平分11%的份额\n",
    "假设现在有100公司 期中有一家占据50%的份额 其它的99家平分50%的份额\n",
    "假设现在有100公司 期中有一家占据30%的份额 其它的99家平分70%的份额"
   ]
  },
  {
   "cell_type": "code",
   "execution_count": null,
   "id": "32614f84",
   "metadata": {},
   "outputs": [],
   "source": [
    ".89**2 + (0.11/99)**2 * 99"
   ]
  },
  {
   "cell_type": "code",
   "execution_count": null,
   "id": "6d414244",
   "metadata": {},
   "outputs": [],
   "source": [
    ".5**2 + (0.5/99)**2 * 99"
   ]
  },
  {
   "cell_type": "code",
   "execution_count": null,
   "id": "80d679d3",
   "metadata": {},
   "outputs": [],
   "source": [
    ".3**2 + (0.7/99)**2 * 99"
   ]
  }
 ],
 "metadata": {
  "kernelspec": {
   "display_name": "Python 3 (ipykernel)",
   "language": "python",
   "name": "python3"
  },
  "language_info": {
   "codemirror_mode": {
    "name": "ipython",
    "version": 3
   },
   "file_extension": ".py",
   "mimetype": "text/x-python",
   "name": "python",
   "nbconvert_exporter": "python",
   "pygments_lexer": "ipython3",
   "version": "3.11.9"
  }
 },
 "nbformat": 4,
 "nbformat_minor": 5
}
