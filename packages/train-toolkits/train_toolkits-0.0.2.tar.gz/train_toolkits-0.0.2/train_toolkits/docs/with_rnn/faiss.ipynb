{
 "cells": [
  {
   "cell_type": "code",
   "execution_count": null,
   "metadata": {},
   "outputs": [],
   "source": [
    "from sentence_transformers import SentenceTransformer\n",
    "import faiss\n",
    "import numpy as np\n",
    "\n",
    "# 示例数据\n",
    "texts = [\n",
    "    \"The movie was fantastic and thrilling.\",\n",
    "    \"I love the cinematography and the plot.\",\n",
    "    \"The film was a bit too long for my taste.\",\n",
    "    \"Amazing storyline with great acting.\",\n",
    "    \"The plot was predictable but enjoyable.\"\n",
    "]\n",
    "labels = [\"positive\", \"positive\", \"neutral\", \"positive\", \"neutral\"]\n",
    "\n",
    "# 加载预训练的句子嵌入模型\n",
    "model = SentenceTransformer('all-MiniLM-L6-v2')\n",
    "\n",
    "# 将文本转换为嵌入向量\n",
    "embeddings = model.encode(texts)\n",
    "\n",
    "# 创建Faiss索引\n",
    "dimension = embeddings.shape[1]\n",
    "index = faiss.IndexFlatL2(dimension)\n",
    "index.add(embeddings)\n",
    "\n",
    "# 定义检索函数\n",
    "def search(query_label, k=1):\n",
    "    query_embedding = model.encode([query_label])\n",
    "    distances, indices = index.search(query_embedding, k)\n",
    "    return [(texts[i], labels[i]) for i in indices[0]]\n",
    "\n",
    "# 示例查询\n",
    "query_label = \"positive\"\n",
    "results = search(query_label, k=3)\n",
    "\n",
    "print(\"Top matches:\")\n",
    "for text, label in results:\n",
    "    print(f\"Text: {text}, Label: {label}\")"
   ]
  },
  {
   "cell_type": "code",
   "execution_count": 2,
   "metadata": {},
   "outputs": [
    {
     "ename": "ModuleNotFoundError",
     "evalue": "No module named 'gensim'",
     "output_type": "error",
     "traceback": [
      "\u001b[0;31m---------------------------------------------------------------------------\u001b[0m",
      "\u001b[0;31mModuleNotFoundError\u001b[0m                       Traceback (most recent call last)",
      "Cell \u001b[0;32mIn[2], line 1\u001b[0m\n\u001b[0;32m----> 1\u001b[0m \u001b[38;5;28;01mfrom\u001b[39;00m \u001b[38;5;21;01mgensim\u001b[39;00m\u001b[38;5;21;01m.\u001b[39;00m\u001b[38;5;21;01mmodels\u001b[39;00m \u001b[38;5;28;01mimport\u001b[39;00m Word2Vec\n\u001b[1;32m      2\u001b[0m \u001b[38;5;28;01mfrom\u001b[39;00m \u001b[38;5;21;01mgensim\u001b[39;00m\u001b[38;5;21;01m.\u001b[39;00m\u001b[38;5;21;01mutils\u001b[39;00m \u001b[38;5;28;01mimport\u001b[39;00m simple_preprocess\n\u001b[1;32m      3\u001b[0m \u001b[38;5;28;01mfrom\u001b[39;00m \u001b[38;5;21;01msklearn\u001b[39;00m\u001b[38;5;21;01m.\u001b[39;00m\u001b[38;5;21;01mmetrics\u001b[39;00m\u001b[38;5;21;01m.\u001b[39;00m\u001b[38;5;21;01mpairwise\u001b[39;00m \u001b[38;5;28;01mimport\u001b[39;00m cosine_similarity\n",
      "\u001b[0;31mModuleNotFoundError\u001b[0m: No module named 'gensim'"
     ]
    }
   ],
   "source": [
    "from gensim.models import Word2Vec\n",
    "from gensim.utils import simple_preprocess\n",
    "from sklearn.metrics.pairwise import cosine_similarity\n",
    "import numpy as np\n",
    "\n",
    "# 示例数据\n",
    "texts = [\n",
    "    \"The movie was fantastic and thrilling.\",\n",
    "    \"I love the cinematography and the plot.\",\n",
    "    \"The film was a bit too long for my taste.\",\n",
    "    \"Amazing storyline with great acting.\",\n",
    "    \"The plot was predictable but enjoyable.\"\n",
    "]\n",
    "labels = [\"positive\", \"positive\", \"neutral\", \"positive\", \"neutral\"]\n",
    "\n",
    "# 预处理文本\n",
    "processed_texts = [simple_preprocess(text) for text in texts]\n",
    "\n",
    "# 训练Word2Vec模型\n",
    "w2v_model = Word2Vec(sentences=processed_texts, vector_size=100, window=5, min_count=1, workers=4)\n",
    "\n",
    "# 将文本转换为向量\n",
    "def text_to_vector(text):\n",
    "    words = simple_preprocess(text)\n",
    "    word_vectors = [w2v_model.wv[word] for word in words if word in w2v_model.wv]\n",
    "    if not word_vectors:\n",
    "        return np.zeros(w2v_model.vector_size)\n",
    "    return np.mean(word_vectors, axis=0)\n",
    "\n",
    "# 计算所有文本的向量\n",
    "text_vectors = np.array([text_to_vector(text) for text in texts])\n",
    "\n",
    "# 定义检索函数\n",
    "def search(query_label, k=1):\n",
    "    query_vector = text_to_vector(query_label)\n",
    "    similarities = cosine_similarity([query_vector], text_vectors)[0]\n",
    "    top_k_indices = similarities.argsort()[-k:][::-1]\n",
    "    return [(texts[i], labels[i], similarities[i]) for i in top_k_indices]\n",
    "\n",
    "# 示例查询\n",
    "query_label = \"great plot and acting\"\n",
    "results = search(query_label, k=3)\n",
    "\n",
    "print(\"Top matches:\")\n",
    "for text, label, similarity in results:\n",
    "    print(f\"Text: {text}, Label: {label}, Similarity: {similarity:.4f}\")\n"
   ]
  }
 ],
 "metadata": {
  "kernelspec": {
   "display_name": "Python 3",
   "language": "python",
   "name": "python3"
  },
  "language_info": {
   "codemirror_mode": {
    "name": "ipython",
    "version": 3
   },
   "file_extension": ".py",
   "mimetype": "text/x-python",
   "name": "python",
   "nbconvert_exporter": "python",
   "pygments_lexer": "ipython3",
   "version": "3.10.12"
  }
 },
 "nbformat": 4,
 "nbformat_minor": 2
}
