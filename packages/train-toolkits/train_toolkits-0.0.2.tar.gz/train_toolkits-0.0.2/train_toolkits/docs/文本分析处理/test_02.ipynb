{
 "cells": [
  {
   "cell_type": "code",
   "execution_count": 1,
   "id": "a067b932",
   "metadata": {},
   "outputs": [],
   "source": [
    "# In this test, you will explore PoS tagging"
   ]
  },
  {
   "cell_type": "code",
   "execution_count": 2,
   "id": "8bb55db3",
   "metadata": {},
   "outputs": [],
   "source": [
    "\n",
    "# Task 1 --- Load and explore your data ---\n",
    "# 1). load train/test samples from Brown corpus files, brown-train.txt, brown-test.txt.\n",
    "# 2). load all 12 tags from brown-tag.txt and print it out\n",
    "# 3). counting how many sentences and words in both train and test datasets.\n",
    "# 4). for each tag, counting how many words in train and test. e.g, tag1: [count_tr, count_te]\n"
   ]
  },
  {
   "cell_type": "code",
   "execution_count": 3,
   "id": "25821947-77d9-46e0-bc6c-700142e3c517",
   "metadata": {},
   "outputs": [],
   "source": [
    "# Your code"
   ]
  },
  {
   "cell_type": "code",
   "execution_count": 4,
   "id": "c58ab053",
   "metadata": {},
   "outputs": [],
   "source": [
    "# Task 2 --- Method: Build a baseline method, namely, the most frequent tagger ---\n",
    "#     most frequent tagger where we label each word by using the most \n",
    "#     frequent-used tag associated with it.\n",
    "# 1). find the most frequent class label for each word in the training data.\n",
    "#     For example, {tr_word_1:tag_1,tr_word_2:tag_2,...}\n",
    "# 2). use your built method to predict tags for both train and test datasets.\n",
    "#     You should print out two values: the accuracies of train and test samples.\n",
    "#     You would expect that the accuracy on train will be > 9.0 (but never = 1.0) and higher than on test.\n",
    "\n",
    "# Notice: since there are unkown words in test samples. \n",
    "#  Following ways could handle this (choose one or create your own): \n",
    "#  1). mark all words that appear only once in the data with a \"UNK-x\" tag\n",
    "#  2). tag every out-of-vocabulary word with the majority tag among all training samples."
   ]
  },
  {
   "cell_type": "code",
   "execution_count": 5,
   "id": "dd897dfd-ac66-41a7-84bc-70f873369cf9",
   "metadata": {},
   "outputs": [],
   "source": [
    "# Your code"
   ]
  }
 ],
 "metadata": {
  "kernelspec": {
   "display_name": "Python 3 (ipykernel)",
   "language": "python",
   "name": "python3"
  },
  "language_info": {
   "codemirror_mode": {
    "name": "ipython",
    "version": 3
   },
   "file_extension": ".py",
   "mimetype": "text/x-python",
   "name": "python",
   "nbconvert_exporter": "python",
   "pygments_lexer": "ipython3",
   "version": "3.11.9"
  }
 },
 "nbformat": 4,
 "nbformat_minor": 5
}
