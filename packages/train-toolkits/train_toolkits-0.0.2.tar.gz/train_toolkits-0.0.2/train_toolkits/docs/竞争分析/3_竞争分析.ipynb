{
 "cells": [
  {
   "cell_type": "code",
   "execution_count": null,
   "id": "4d8c3057",
   "metadata": {},
   "outputs": [],
   "source": [
    "import pandas  as pd\n",
    "import glob,os\n",
    "import matplotlib.pyplot as plt\n",
    "import matplotlib.style as style\n",
    "import warnings\n",
    "from datetime import datetime\n",
    "import numpy as np\n",
    "import seaborn as sns"
   ]
  },
  {
   "cell_type": "code",
   "execution_count": null,
   "id": "1899c925",
   "metadata": {},
   "outputs": [],
   "source": [
    "#配置\n",
    "warnings.filterwarnings(\"ignore\")\n",
    "pd.set_option(\"display.float_format\",\"{:.4f}\".format)\n",
    "style.use(\"ggplot\")\n",
    "plt.rcParams[\"font.sans-serif\"] = [\"SimHei\"]\n",
    "plt.rcParams[\"axes.unicode_minus\"] = False\n",
    "plt.rcParams[\"figure.figsize\"] = (20,10)\n",
    "plt.rcParams[\"figure.dpi\"] = 200"
   ]
  },
  {
   "cell_type": "code",
   "execution_count": null,
   "id": "588d4f3a",
   "metadata": {},
   "outputs": [],
   "source": [
    "os.chdir(\"/home/jovyan/work/data/竞争数据/商品销售数据/\")\n"
   ]
  },
  {
   "cell_type": "code",
   "execution_count": null,
   "id": "56861283",
   "metadata": {},
   "outputs": [],
   "source": [
    "files = glob.glob(\"./*.xlsx\")\n",
    "dfs = []\n",
    "for f in files:\n",
    "    t = f[2:4]\n",
    "    df = pd.read_excel(f)\n",
    "    #如果t == \"拜耳\"  使用对象  30天销售额\n",
    "    if t==\"拜耳\":\n",
    "        df.rename(columns={\"销售额\":\"30天销售额\",\"使用对象\":\"适用对象\"},inplace=True)\n",
    "    dfs.append(df)"
   ]
  },
  {
   "cell_type": "code",
   "execution_count": null,
   "id": "0acafc78",
   "metadata": {},
   "outputs": [],
   "source": [
    "data = pd.concat(dfs,ignore_index=True)"
   ]
  },
  {
   "cell_type": "code",
   "execution_count": null,
   "id": "f2741f25",
   "metadata": {},
   "outputs": [],
   "source": [
    "data.drop(columns=[\"主图链接\",\"商品链接\",\"物理形态\",\"型号\",\"净含量\",\"序号\"],inplace=True)"
   ]
  },
  {
   "cell_type": "markdown",
   "id": "bdd2e65c",
   "metadata": {},
   "source": [
    "# 1.三家共同点在哪里"
   ]
  },
  {
   "cell_type": "code",
   "execution_count": null,
   "id": "f8cb59f9",
   "metadata": {},
   "outputs": [],
   "source": [
    "d = data.query(\"类目 =='灭鼠/杀虫剂'\").groupby(by=[\"店铺名称\",\"适用对象\"])[\"30天销售额\"].sum().unstack(level=0).fillna(0)"
   ]
  },
  {
   "cell_type": "code",
   "execution_count": null,
   "id": "966947b1",
   "metadata": {},
   "outputs": [],
   "source": [
    "plt.figure(figsize=(10,8))\n",
    "sns.heatmap(data=d,annot=True,fmt=\".2f\",linewidths=1,cmap=\"Blues\")"
   ]
  },
  {
   "cell_type": "markdown",
   "id": "11b4b734",
   "metadata": {},
   "source": [
    "# 2.各各品类产品交易指数对比"
   ]
  },
  {
   "cell_type": "code",
   "execution_count": null,
   "id": "ce37bf0e",
   "metadata": {},
   "outputs": [],
   "source": [
    "os.chdir(\"../商品交易数据/\")\n",
    "files = glob.glob(\"./*.xlsx\")"
   ]
  },
  {
   "cell_type": "code",
   "execution_count": null,
   "id": "a988d5e7",
   "metadata": {},
   "outputs": [],
   "source": [
    "dfs = []\n",
    "for f in files:\n",
    "    t = f[2:4]\n",
    "    df = pd.read_excel(f)\n",
    "    df[\"品牌\"] = t\n",
    "    if t == \"拜耳\":\n",
    "        df.rename(columns={\"时间\":\"日期\"},inplace=True)\n",
    "    dfs.append(df)\n",
    "    "
   ]
  },
  {
   "cell_type": "code",
   "execution_count": null,
   "id": "95fa81e1",
   "metadata": {},
   "outputs": [],
   "source": [
    "data = pd.concat(dfs,ignore_index=True)"
   ]
  },
  {
   "cell_type": "code",
   "execution_count": null,
   "id": "24954201",
   "metadata": {},
   "outputs": [],
   "source": [
    "data[\"品类\"] = np.nan"
   ]
  },
  {
   "cell_type": "code",
   "execution_count": null,
   "id": "6b66bc0a",
   "metadata": {},
   "outputs": [],
   "source": [
    "for x in d.index[2:]:\n",
    "    data.loc[data.商品.str.contains(x),\"品类\"] = x "
   ]
  },
  {
   "cell_type": "code",
   "execution_count": null,
   "id": "5377083b",
   "metadata": {},
   "outputs": [],
   "source": [
    "for x in d.index[2:]:\n",
    "    display(x,data.query(\"品类 == @x\").groupby(\"品牌\").交易指数.sum())"
   ]
  },
  {
   "cell_type": "markdown",
   "id": "4e85ef49",
   "metadata": {},
   "source": [
    "# 3.市场上商品结构\n",
    "\n",
    "- 相对市场增长率\n",
    "- 相对市场占有率"
   ]
  },
  {
   "cell_type": "code",
   "execution_count": null,
   "id": "ffe0b460",
   "metadata": {},
   "outputs": [],
   "source": [
    "#商品中有重复值\n",
    "data = pd.merge(data.query(\"品类 == '蟑螂'\"),data.groupby(\"商品\").交易指数.sum().reset_index(0).rename(columns={\"交易指数\":\"交易指数和\"}),left_on=\"商品\",right_on=\"商品\")"
   ]
  },
  {
   "cell_type": "code",
   "execution_count": null,
   "id": "5919aee3",
   "metadata": {},
   "outputs": [],
   "source": [
    "#1代表当商品只有一家在售卖\n",
    "data[\"同种类商品售卖比例\"] = data[\"交易指数\"].div(data[\"交易指数和\"])"
   ]
  },
  {
   "cell_type": "code",
   "execution_count": null,
   "id": "eb98a2b9",
   "metadata": {},
   "outputs": [],
   "source": [
    "#调和均值\n",
    "data[\"交易增长幅度调和值\"] = data[\"交易增长幅度\"].mul(data[\"同种类商品售卖比例\"])"
   ]
  },
  {
   "cell_type": "code",
   "execution_count": null,
   "id": "ee852908",
   "metadata": {},
   "outputs": [],
   "source": [
    "df = data.groupby(\"商品\")\\\n",
    ".agg({\"交易指数\":\"sum\",\"交易增长幅度调和值\":\"sum\",\"商品\":\"count\",\"品牌\":\"max\"})\\\n",
    ".rename(columns={\"交易指数\":\"相对市场占有率\",\"交易增长幅度调和值\":\"相对市场增长率\",\"商品\":\"产品数量\"})"
   ]
  },
  {
   "cell_type": "code",
   "execution_count": null,
   "id": "65417627",
   "metadata": {},
   "outputs": [],
   "source": [
    "display(df.describe(percentiles=[0.8,0.85,0.9,0.95,0.99,1]))  #描述统计\n",
    "\n",
    "# 找到变化率不太快的位置  , 让大值 = 0.85位置的数值\n",
    "\n",
    "def quantile(x,q=0.85):\n",
    "    qu = x.quantile(q)  # 找到0.85百分的值\n",
    "    return x.mask(x > qu, qu)   # mysql 当中 if(cond,True,False)  mask有循环的功效\n",
    "    \n",
    "def action(df):\n",
    "    df = df.copy() #希望原先的数据不被修改\n",
    "    df[\"相对市场占有率\"] = quantile(df[\"相对市场占有率\"])\n",
    "    df[\"相对市场增长率\"] = quantile(df[\"相对市场增长率\"])\n",
    "    return df"
   ]
  },
  {
   "cell_type": "code",
   "execution_count": null,
   "id": "f1e75150",
   "metadata": {},
   "outputs": [],
   "source": [
    "result = action(df)"
   ]
  },
  {
   "cell_type": "code",
   "execution_count": null,
   "id": "57b326e8",
   "metadata": {},
   "outputs": [],
   "source": [
    "def BCGPlot(df,is_mean=True,xq=0.5,yq=0.5): #默认使用均值进行分割\n",
    "    axes = sns.scatterplot(df,x=\"相对市场占有率\",y=\"相对市场增长率\",size=\"产品数量\",hue=\"品牌\")\n",
    "    if is_mean:\n",
    "        plt.axvline(df.相对市场占有率.mean(),c=\"k\",ls=\":\",lw=1)\n",
    "        plt.axhline(df.相对市场增长率.mean(),c=\"k\",ls=\":\",lw=1)\n",
    "    else:\n",
    "        plt.axvline(df.相对市场占有率.quantile(xq),c=\"k\",ls=\":\",lw=1)\n",
    "        plt.axhline(df.相对市场增长率.quantile(yq),c=\"k\",ls=\":\",lw=1)\n",
    "    \n",
    "    plt.text(250000,.8,\"明星类\",fontsize=20,color=\"y\")\n",
    "    plt.text(250000,-.5,\"奶牛类\",fontsize=20,color=\"r\")\n",
    "    plt.text(100000,.8,\"山猫类\",fontsize=20,color=\"b\")\n",
    "    plt.text(100000,-.5,\"瘦狗类\",fontsize=20,color=\"k\")"
   ]
  },
  {
   "cell_type": "code",
   "execution_count": null,
   "id": "1dc9de45",
   "metadata": {},
   "outputs": [],
   "source": [
    "BCGPlot(result,is_mean=True)"
   ]
  },
  {
   "cell_type": "code",
   "execution_count": null,
   "id": "840eb96f",
   "metadata": {},
   "outputs": [],
   "source": [
    "BCGPlot(result,is_mean=False)"
   ]
  },
  {
   "cell_type": "markdown",
   "id": "91ffb164",
   "metadata": {},
   "source": [
    "# 给数据打上标签"
   ]
  },
  {
   "cell_type": "code",
   "execution_count": null,
   "id": "bd042e03",
   "metadata": {},
   "outputs": [],
   "source": [
    "def target(df,is_mean=True,xq=0.5,yq=0.5):\n",
    "    相对市场占有率均值 = df[\"相对市场占有率\"].mean()\n",
    "    相对市场增长率均值 = df[\"相对市场增长率\"].mean()\n",
    "\n",
    "    df.loc[(df[\"相对市场占有率\"] >= 相对市场占有率均值) & (df[\"相对市场增长率\"] >= 相对市场增长率均值),\"产品结构\"] = \"明星类\"\n",
    "    df.loc[(df[\"相对市场占有率\"] >= 相对市场占有率均值) & (df[\"相对市场增长率\"] < 相对市场增长率均值),\"产品结构\"] = \"金牛类\"\n",
    "    df.loc[(df[\"相对市场占有率\"] < 相对市场占有率均值) & (df[\"相对市场增长率\"] >= 相对市场增长率均值),\"产品结构\"] = \"山猫类\"\n",
    "    df.loc[(df[\"相对市场占有率\"] < 相对市场占有率均值) & (df[\"相对市场增长率\"] < 相对市场增长率均值),\"产品结构\"] = \"瘦狗类\"\n",
    "    \n",
    "    df.loc[(df[\"相对市场占有率\"] >= 相对市场占有率均值) & (df[\"相对市场增长率\"] >= 相对市场增长率均值),\"序号\"] = 2\n",
    "    df.loc[(df[\"相对市场占有率\"] >= 相对市场占有率均值) & (df[\"相对市场增长率\"] < 相对市场增长率均值),\"序号\"] = 1\n",
    "    df.loc[(df[\"相对市场占有率\"] < 相对市场占有率均值) & (df[\"相对市场增长率\"] >= 相对市场增长率均值),\"序号\"] = 3\n",
    "    df.loc[(df[\"相对市场占有率\"] < 相对市场占有率均值) & (df[\"相对市场增长率\"] < 相对市场增长率均值),\"序号\"] = 4\n",
    "    \n",
    "    return df.sort_values(by=\"序号\")"
   ]
  },
  {
   "cell_type": "code",
   "execution_count": null,
   "id": "f8ea2e62",
   "metadata": {},
   "outputs": [],
   "source": [
    "result = target(result)"
   ]
  },
  {
   "cell_type": "code",
   "execution_count": null,
   "id": "0dd25486",
   "metadata": {},
   "outputs": [],
   "source": [
    "d = pd.pivot_table(data=result,index=\"产品结构\",columns=\"品牌\",values=\"产品数量\",aggfunc=\"count\").fillna(0)"
   ]
  },
  {
   "cell_type": "code",
   "execution_count": null,
   "id": "7868a179",
   "metadata": {},
   "outputs": [],
   "source": [
    "sns.heatmap(data=d.loc[result.产品结构.unique()],annot=True,cmap=\"autumn\",linewidths=1)"
   ]
  },
  {
   "cell_type": "markdown",
   "id": "776e0356",
   "metadata": {},
   "source": [
    "# 流量\n",
    "\n",
    "- ROI : 投资回报比\n",
    "- 不同的渠道, 带来的用户质量(客单价  退货率  转换程付费率)  微信视频\n",
    "- 投放广告的周期 ; 50W   7点 开投 - 9店  10点 \n",
    "- 不同的人群 \n",
    "- 不同的广告投放方式\n",
    "\n",
    "\n",
    "- 付费流量\n",
    "- \"免费\"流量\n",
    "    - 淘宝客 : 自己生成链接 , 由淘宝客 推 链接出去 , 别人点击了链接 并且 购买了,则有提成 \n",
    "    - SEO优化 : 关键字(关键字热度) "
   ]
  },
  {
   "cell_type": "code",
   "execution_count": null,
   "id": "22082f29",
   "metadata": {},
   "outputs": [],
   "source": [
    "os.chdir(\"../流量渠道数据/\")"
   ]
  },
  {
   "cell_type": "code",
   "execution_count": null,
   "id": "a4f8ea5d",
   "metadata": {},
   "outputs": [],
   "source": [
    "files = glob.glob(\"./*.xlsx\")\n",
    "dfs = []\n",
    "for f in files:\n",
    "    t = f[2:4]\n",
    "    df = pd.read_excel(f)\n",
    "    df[\"品牌\"] = t\n",
    "    if t==\"拜耳\" : \n",
    "        df.drop(columns=[\"交易指数.1\"],inplace=True)\n",
    "    dfs.append(df)"
   ]
  },
  {
   "cell_type": "code",
   "execution_count": null,
   "id": "44c89095",
   "metadata": {},
   "outputs": [],
   "source": [
    "data = pd.concat(dfs,ignore_index=True)"
   ]
  },
  {
   "cell_type": "code",
   "execution_count": null,
   "id": "fe9fc8d6",
   "metadata": {},
   "outputs": [],
   "source": [
    "df = data.groupby(by=[\"流量来源\",\"品牌\"]).交易指数.sum().unstack(level=-1).replace({0:np.nan}).dropna(how=\"all\")"
   ]
  },
  {
   "cell_type": "code",
   "execution_count": null,
   "id": "4707568f",
   "metadata": {},
   "outputs": [],
   "source": [
    "df1 = df.dropna(how=\"any\")"
   ]
  },
  {
   "cell_type": "code",
   "execution_count": null,
   "id": "e6262993",
   "metadata": {},
   "outputs": [],
   "source": [
    "#后台 数据中知道 当前的用户 从什么渠道 点击链接  进入到 淘宝 付费\n",
    "df1.plot(kind=\"bar\")"
   ]
  },
  {
   "cell_type": "markdown",
   "id": "627c0340",
   "metadata": {},
   "source": [
    "# 用户评价"
   ]
  },
  {
   "cell_type": "code",
   "execution_count": null,
   "id": "5acc4803",
   "metadata": {},
   "outputs": [],
   "source": [
    "os.chdir(\"../评论舆情数据/\")"
   ]
  },
  {
   "cell_type": "code",
   "execution_count": null,
   "id": "cd052261",
   "metadata": {},
   "outputs": [],
   "source": [
    "files = glob.glob(\"./*.xlsx\")\n",
    "dfs = []\n",
    "for f in files:\n",
    "    t = f[2:4]\n",
    "    df = pd.read_excel(f)\n",
    "    df[\"品牌\"] = t\n",
    "    \n",
    "    dfs.append(df)\n",
    "    "
   ]
  },
  {
   "cell_type": "code",
   "execution_count": null,
   "id": "0fc8677d",
   "metadata": {},
   "outputs": [],
   "source": [
    "data = pd.concat(dfs,ignore_index=True)"
   ]
  },
  {
   "cell_type": "code",
   "execution_count": null,
   "id": "9e392820",
   "metadata": {},
   "outputs": [],
   "source": [
    "data = data[[\"品牌\",\"评论\"]]"
   ]
  },
  {
   "cell_type": "markdown",
   "id": "8714159b",
   "metadata": {},
   "source": [
    "- 注意舆情中的 表情 最好能够去除 \\u00000 - \\ufffff\n",
    "- 中文分词 \n",
    "- 对有用的词汇进行计数\n",
    "- 单个字都是 没有作用"
   ]
  },
  {
   "cell_type": "markdown",
   "id": "a846b41f",
   "metadata": {},
   "source": [
    "## 剔除无用数据"
   ]
  },
  {
   "cell_type": "code",
   "execution_count": null,
   "id": "58f1dacc",
   "metadata": {},
   "outputs": [],
   "source": [
    "import re"
   ]
  },
  {
   "cell_type": "code",
   "execution_count": null,
   "id": "ad5deb54",
   "metadata": {},
   "outputs": [],
   "source": [
    "data[\"评论\"]=data.评论.map(lambda x : re.sub(r\"[^\\u000000-\\uffffff]+\",\"\",x))"
   ]
  },
  {
   "cell_type": "code",
   "execution_count": null,
   "id": "68b7fe5c",
   "metadata": {},
   "outputs": [],
   "source": [
    "data = data.loc[data.评论 != \"此用户没有填写评论\"]"
   ]
  },
  {
   "cell_type": "markdown",
   "id": "1deb8c6d",
   "metadata": {},
   "source": [
    "## 中文分词"
   ]
  },
  {
   "cell_type": "code",
   "execution_count": null,
   "id": "390108e2-6a07-48a8-a1d7-78dc3fb29c15",
   "metadata": {},
   "outputs": [],
   "source": [
    "!pip install jieba "
   ]
  },
  {
   "cell_type": "code",
   "execution_count": null,
   "id": "45f1a95f-d128-4804-9ef3-99b208a66566",
   "metadata": {},
   "outputs": [],
   "source": [
    "!pip install wordcloud"
   ]
  },
  {
   "cell_type": "code",
   "execution_count": null,
   "id": "d50deb6a",
   "metadata": {},
   "outputs": [],
   "source": [
    "import jieba  #结巴\n",
    "from wordcloud import WordCloud"
   ]
  },
  {
   "cell_type": "code",
   "execution_count": null,
   "id": "bd5c52e1",
   "metadata": {},
   "outputs": [],
   "source": [
    "jieba.__version__"
   ]
  },
  {
   "cell_type": "code",
   "execution_count": null,
   "id": "e4acfe20",
   "metadata": {},
   "outputs": [],
   "source": [
    "jieba.load_userdict(\"./userdict.txt\")"
   ]
  },
  {
   "cell_type": "code",
   "execution_count": null,
   "id": "86af1971",
   "metadata": {},
   "outputs": [],
   "source": [
    "#停用词\n",
    "stopwords = pd.read_table(\"../../百度停用词表.txt\",header=None)[0]"
   ]
  },
  {
   "cell_type": "code",
   "execution_count": null,
   "id": "f1045d67",
   "metadata": {},
   "outputs": [],
   "source": [
    "def fo(x):\n",
    "    return [w for w in jieba.lcut(x) if len(w)>1]\n",
    "\n",
    "mask = plt.imread(\"../../leaf.jpg\") \n",
    "\n",
    "def wcplot(d):\n",
    "    \n",
    "    #去除停用词  我认为这些词汇 可能没有用处\n",
    "    w = d.explode()\n",
    "    \n",
    "    w = w.loc[~w.isin(stopwords)]  #去除停用词\n",
    "    \n",
    "    c = w.value_counts()  #词计数\n",
    "    \n",
    "    #当前只是图片的配置项 返回词云画布\n",
    "    wc = WordCloud(font_path=\"../../SimHei.ttf\",mask=mask,width=1000,height=800,min_font_size=10,max_font_size=100,background_color=\"white\")\n",
    "    \n",
    "    wc.fit_words(c)\n",
    "    \n",
    "    plt.imshow(wc)\n",
    "    \n",
    "    plt.axis(\"off\")"
   ]
  },
  {
   "cell_type": "code",
   "execution_count": null,
   "id": "47db5885",
   "metadata": {},
   "outputs": [],
   "source": [
    "d = data.query(\"品牌 == '拜耳'\").评论.map(fo)\n",
    "\n",
    "wcplot(d)"
   ]
  },
  {
   "cell_type": "code",
   "execution_count": null,
   "id": "d2155ede",
   "metadata": {},
   "outputs": [],
   "source": [
    "d = data.query(\"品牌 == '科林'\").评论.map(fo)\n",
    "\n",
    "wcplot(d)"
   ]
  },
  {
   "cell_type": "code",
   "execution_count": null,
   "id": "e95a6e13",
   "metadata": {},
   "outputs": [],
   "source": [
    "d = data.query(\"品牌 == '安速'\").评论.map(fo)\n",
    "\n",
    "wcplot(d)"
   ]
  },
  {
   "cell_type": "markdown",
   "id": "2c47c646",
   "metadata": {},
   "source": [
    "# 情感分析"
   ]
  },
  {
   "cell_type": "code",
   "execution_count": null,
   "id": "17b46a45",
   "metadata": {},
   "outputs": [],
   "source": [
    "def fo(x):\n",
    "    s = pd.Series([w for w in jieba.lcut(x) if len(w)>1])\n",
    "    return \" \".join(s.loc[~s.isin(stopwords)])\n",
    "    \n",
    "\n",
    "textdata = data.评论.map(fo)"
   ]
  },
  {
   "cell_type": "code",
   "execution_count": null,
   "id": "7d524c5a",
   "metadata": {},
   "outputs": [],
   "source": [
    "textdata.iloc[6]"
   ]
  },
  {
   "cell_type": "code",
   "execution_count": null,
   "id": "f5989bce",
   "metadata": {},
   "outputs": [],
   "source": [
    "a = data.loc[data.评论.str.contains(\"垃圾|完全没有效果|小强依然活跃\")]\n",
    "a[\"评价\"] = 0"
   ]
  },
  {
   "cell_type": "code",
   "execution_count": null,
   "id": "bbbb36a0",
   "metadata": {},
   "outputs": [],
   "source": [
    "b= data.loc[data.评论.str.contains(\"必须好评|效果很好|强烈推荐\")]\n",
    "b[\"评价\"] = 1"
   ]
  },
  {
   "cell_type": "code",
   "execution_count": null,
   "id": "fe64ef57",
   "metadata": {},
   "outputs": [],
   "source": [
    "ab = pd.concat([a,b])\n",
    "ab"
   ]
  },
  {
   "cell_type": "markdown",
   "id": "64867b91",
   "metadata": {},
   "source": [
    "## 贝叶斯分析 "
   ]
  },
  {
   "cell_type": "code",
   "execution_count": null,
   "id": "2631ce95",
   "metadata": {},
   "outputs": [],
   "source": [
    "from sklearn.feature_extraction.text import TfidfVectorizer #把文字转换 成数字  #词向量"
   ]
  },
  {
   "cell_type": "code",
   "execution_count": null,
   "id": "561c6ea2",
   "metadata": {},
   "outputs": [],
   "source": [
    "tfidf = TfidfVectorizer()\n",
    "\n",
    "feature = tfidf.fit_transform(ab.评论) #179行数据  682个词汇\n",
    "\n",
    "pred_feature = tfidf.transform(textdata) #更加上面682个词汇 把 当前的数据 也定义成  词向量\n",
    "\n",
    "target = ab.评价"
   ]
  },
  {
   "cell_type": "code",
   "execution_count": null,
   "id": "15e3b25d",
   "metadata": {},
   "outputs": [],
   "source": [
    "from sklearn.naive_bayes import BernoulliNB  #二项分布  添加越策标签"
   ]
  },
  {
   "cell_type": "code",
   "execution_count": null,
   "id": "f79ac543",
   "metadata": {},
   "outputs": [],
   "source": [
    "model = BernoulliNB().fit(feature,target)"
   ]
  },
  {
   "cell_type": "code",
   "execution_count": null,
   "id": "edb66d11",
   "metadata": {},
   "outputs": [],
   "source": [
    "pred_target = model.predict(pred_feature)"
   ]
  },
  {
   "cell_type": "code",
   "execution_count": null,
   "id": "adb36fcb",
   "metadata": {},
   "outputs": [],
   "source": [
    "data[\"评价\"] = pred_target"
   ]
  },
  {
   "cell_type": "code",
   "execution_count": null,
   "id": "a0b824a3",
   "metadata": {},
   "outputs": [],
   "source": [
    "data.评价"
   ]
  },
  {
   "cell_type": "code",
   "execution_count": null,
   "id": "28a3ed30-47b9-424a-a1aa-77b457479a70",
   "metadata": {},
   "outputs": [],
   "source": []
  }
 ],
 "metadata": {
  "kernelspec": {
   "display_name": "Python 3 (ipykernel)",
   "language": "python",
   "name": "python3"
  },
  "language_info": {
   "codemirror_mode": {
    "name": "ipython",
    "version": 3
   },
   "file_extension": ".py",
   "mimetype": "text/x-python",
   "name": "python",
   "nbconvert_exporter": "python",
   "pygments_lexer": "ipython3",
   "version": "3.11.9"
  }
 },
 "nbformat": 4,
 "nbformat_minor": 5
}
