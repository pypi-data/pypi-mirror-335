{
 "cells": [
  {
   "cell_type": "markdown",
   "metadata": {},
   "source": [
    "## 导入必要的库"
   ]
  },
  {
   "cell_type": "code",
   "execution_count": null,
   "metadata": {
    "ExecuteTime": {
     "end_time": "2022-04-18T05:15:22.563739Z",
     "start_time": "2022-04-18T05:15:21.903201Z"
    }
   },
   "outputs": [],
   "source": [
    "import requests\n",
    "from bs4 import BeautifulSoup\n",
    "import csv\n",
    "import re\n",
    "\n",
    "import numpy as np\n",
    "import pandas as pd\n",
    "\n",
    "from matplotlib import pyplot as plt\n",
    "# 为了在Jupyter Notebook中显示图片的必须配置项\n",
    "%matplotlib inline\n",
    "# 用兼容字体解决中文显示为方格的问题\n",
    "plt.rcParams['font.sans-serif'] = ['SimHei']\n",
    "plt.rcParams['font.serif'] = ['SimHei']\n",
    "plt.rcParams['font.family'] = 'sans-serif'\n",
    "\n",
    "# #苹果用户 \n",
    "# plt.rcParams['font.sans-serif'] = ['Arial Unicode MS']\n",
    "\n",
    "# 解决保存图像是负号'-'显示为方块的问题\n",
    "plt.rcParams['axes.unicode_minus'] = False"
   ]
  },
  {
   "cell_type": "markdown",
   "metadata": {},
   "source": [
    "## 爬取图书图片（红楼梦）"
   ]
  },
  {
   "cell_type": "code",
   "execution_count": null,
   "metadata": {
    "ExecuteTime": {
     "end_time": "2022-04-11T01:59:01.319789Z",
     "start_time": "2022-04-11T01:58:56.280272Z"
    }
   },
   "outputs": [],
   "source": [
    "#请求头信息\n",
    "my_headers = {\"User-Agent\": \"Mozilla/5.0 (Windows NT 10.0; Win64; x64) AppleWebKit/537.36 (KHTML, like Gecko) Chrome/100.0.4896.75 Safari/537.36\",\n",
    "             }\n",
    "#红楼梦图书图片\n",
    "HLMPageURL = \"https://book.douban.com/subject/1007305/\"\n",
    "response = requests.get(HLMPageURL, headers=my_headers)\n",
    "HLMPageHTML = BeautifulSoup(response.text, \"html.parser\")\n",
    "\n",
    "#红楼梦图片的URL \n",
    "HLMPictureURL = HLMPageHTML.find_all(\"div\",id=\"mainpic\")[0].find(\"a\")[\"href\"]\n",
    "#获取图片\n",
    "HLMPictureData = requests.get(HLMPictureURL, headers=my_headers)\n",
    "\n",
    "HLMPictureFileName = \"HLM.jpg\"\n",
    "# 保存图片到文件\n",
    "with open(HLMPictureFileName, mode=\"wb\") as pictureFile:             #wb:write+binary,覆盖方式+二进制模式\n",
    "    pictureFile.write(HLMPictureData.content)\n",
    "\n",
    "print(\"图片文件保存成功！\")"
   ]
  },
  {
   "cell_type": "markdown",
   "metadata": {},
   "source": [
    "## 爬取图书评论（红楼梦）"
   ]
  },
  {
   "cell_type": "code",
   "execution_count": null,
   "metadata": {
    "ExecuteTime": {
     "end_time": "2022-04-11T01:59:10.199645Z",
     "start_time": "2022-04-11T01:59:01.320784Z"
    }
   },
   "outputs": [],
   "source": [
    "#请求头信息\n",
    "my_headers = {\"User-Agent\": \"Mozilla/5.0 (Windows NT 10.0; Win64; x64) AppleWebKit/537.36 (KHTML, like Gecko) Chrome/100.0.4896.75 Safari/537.36\",\n",
    "             \"Referer\":\"https://book.douban.com/top250?start=0\"}\n",
    "#红楼梦书评\n",
    "FirstPageURL = \"https://book.douban.com/subject/1007305/\"\n",
    "response = requests.get(FirstPageURL, headers=my_headers)\n",
    "CommentPageHTML = BeautifulSoup(response.text, \"html.parser\")\n",
    "\n",
    "#总评论数目 \n",
    "AllCommentCount = int(re.findall(\"\\d+(?:\\.\\d+)?\",CommentPageHTML.find_all(\"div\",class_=\"mod-hd\")[0].find_all(\"span\",class_=\"pl\")[0].find(\"a\").text)[0])\n",
    "#所有评论页面，但豆瓣网评只允许下载前220条，后续需要登陆才可以下载\n",
    "AllCommentPageURLList=[FirstPageURL + \"comments/?start={}&limit=20&status=P&sort=new_score\".format(PageNumber) for PageNumber in range(0,220,20)]\n",
    "\n",
    "#更新Referer\n",
    "my_headers[\"Referer\"]=\"https://book.douban.com/subject/1007305/\"\n",
    "AllCommentPageURLList[0]=\"https://book.douban.com/subject/1007305/comments/\"\n",
    "\n",
    "\n",
    "AllCommentsContent = []              #评论数组\n",
    "AllCommentsDateTime = []             #评论时间\n",
    "AllCommenters = []                   #评论人 \n",
    "filename = \"douban_HLM_Comments.csv\"     #保存评论的csv文件       \n",
    "\n",
    "#开始下载评论\n",
    "PageCount = 1          #第一页\n",
    "for EachURL in AllCommentPageURLList:\n",
    "    response = requests.get(EachURL, headers=my_headers)\n",
    "    \n",
    "    # 不成功获取就退出\n",
    "    if response.status_code !=200:\n",
    "        break;\n",
    "    \n",
    "    my_headers[\"Referer\"]=EachURL        #更新Referer，以便于提取下一页\n",
    "    CommentPageHTML = BeautifulSoup(response.text, \"html.parser\")\n",
    "\n",
    "    # 评论内容\n",
    "    AllCommentContentList = CommentPageHTML.find_all(\"div\",class_=\"comment\")         \n",
    "    AllCommentsContent.extend([EachElement.find(\"span\",class_=\"short\").text for EachElement in AllCommentContentList])\n",
    "    # 评论时间\n",
    "    AllCommentDateTimeList = CommentPageHTML.find_all(\"a\",class_=\"comment-time\")               \n",
    "    AllCommentsDateTime.extend([EachElement.text for EachElement in AllCommentDateTimeList])\n",
    "\n",
    "    # 评论人\n",
    "    AllCommentersList = CommentPageHTML.find_all(\"span\",class_=\"comment-info\")              \n",
    "    AllCommenters.extend([EachElement.find(\"a\").text for EachElement in AllCommentersList]) \n",
    "\n",
    "    # 输出状态信息\n",
    "    print(\"网页反馈状态：{};第{}页20条评论下载成功。\".format(response.status_code,PageCount))\n",
    "    PageCount += 1\n",
    "\n",
    "#保存评论到文件\n",
    "with open(filename, mode=\"wt\",encoding=\"utf-8\",newline=\"\") as bookfile:             #wt:write+text,覆盖方式+文本模式\n",
    "    bookwriter = csv.writer(bookfile)\n",
    "    bookwriter.writerow([\"评论人\", \"评论时间\", \"评论内容\",])\n",
    "    for CommentContent,CommentDateTime,Commenter in zip(AllCommentsContent,AllCommentsDateTime,AllCommenters):                                                       #图书名字\n",
    "        CommentContent = CommentContent.strip().replace(\" \",\"\").replace(\"\\n\",\"\").replace(\"\\r\",\"\")   #去掉空格\n",
    "        bookwriter.writerow([Commenter, CommentDateTime, CommentContent,])\n",
    "print(\"评论文件保存成功！\")"
   ]
  },
  {
   "cell_type": "markdown",
   "metadata": {},
   "source": [
    "## 图片词云分析"
   ]
  },
  {
   "cell_type": "code",
   "execution_count": null,
   "metadata": {
    "ExecuteTime": {
     "end_time": "2022-04-11T01:59:10.214833Z",
     "start_time": "2022-04-11T01:59:10.200767Z"
    },
    "scrolled": true
   },
   "outputs": [],
   "source": [
    "!pip install wordcloud -i https://pypi.doubanio.com/simple"
   ]
  },
  {
   "cell_type": "markdown",
   "metadata": {},
   "source": [
    "### 打开评论文件"
   ]
  },
  {
   "cell_type": "code",
   "execution_count": null,
   "metadata": {
    "ExecuteTime": {
     "end_time": "2022-04-18T05:15:27.392502Z",
     "start_time": "2022-04-18T05:15:27.343250Z"
    },
    "scrolled": true
   },
   "outputs": [],
   "source": [
    "filename = \"douban_HLM_Comments.csv\"\n",
    "Commentsdata = pd.read_csv(filename, encoding=\"utf-8\")\n",
    "Commentsdata.head()"
   ]
  },
  {
   "cell_type": "markdown",
   "metadata": {},
   "source": [
    "### 查看数据信息"
   ]
  },
  {
   "cell_type": "code",
   "execution_count": null,
   "metadata": {
    "ExecuteTime": {
     "end_time": "2022-04-11T02:38:25.039827Z",
     "start_time": "2022-04-11T02:38:25.024838Z"
    }
   },
   "outputs": [],
   "source": [
    "Commentsdata.shape"
   ]
  },
  {
   "cell_type": "code",
   "execution_count": null,
   "metadata": {
    "ExecuteTime": {
     "end_time": "2022-04-11T02:40:33.094145Z",
     "start_time": "2022-04-11T02:40:33.075021Z"
    }
   },
   "outputs": [],
   "source": [
    "Commentsdata.info()\n",
    "Commentsdata.T.info()"
   ]
  },
  {
   "cell_type": "markdown",
   "metadata": {
    "ExecuteTime": {
     "end_time": "2022-04-09T09:03:28.564348Z",
     "start_time": "2022-04-09T09:03:28.553336Z"
    }
   },
   "source": [
    "可以看出评论内容中Non-Null元素为219个，存在一个Null，找出来看看\n",
    "\n",
    "### 数据清洗"
   ]
  },
  {
   "cell_type": "code",
   "execution_count": null,
   "metadata": {
    "ExecuteTime": {
     "end_time": "2022-04-18T05:15:35.869052Z",
     "start_time": "2022-04-18T05:15:35.861052Z"
    }
   },
   "outputs": [],
   "source": [
    "Commentsdata.isnull().any()     #查找那一列有NULL\n",
    "Commentsdata.isnull().T.any()     #查找那一行有NULL\n",
    "Commentsdata.loc[Commentsdata.isnull().T.any()]"
   ]
  },
  {
   "cell_type": "code",
   "execution_count": null,
   "metadata": {
    "ExecuteTime": {
     "end_time": "2022-04-18T05:15:31.993432Z",
     "start_time": "2022-04-18T05:15:31.984433Z"
    }
   },
   "outputs": [],
   "source": [
    "Commentsdata.loc[Commentsdata.isnull().T.any(),\"评论内容\"]=\"\"       #替换掉NAN为空\n",
    "Commentsdata.loc[90:97]"
   ]
  },
  {
   "cell_type": "markdown",
   "metadata": {},
   "source": [
    "### 词云分析"
   ]
  },
  {
   "cell_type": "code",
   "execution_count": null,
   "metadata": {
    "ExecuteTime": {
     "end_time": "2022-04-18T05:15:47.217026Z",
     "start_time": "2022-04-18T05:15:47.189852Z"
    }
   },
   "outputs": [],
   "source": [
    "from wordcloud import WordCloud"
   ]
  },
  {
   "cell_type": "code",
   "execution_count": null,
   "metadata": {
    "ExecuteTime": {
     "end_time": "2022-04-18T05:15:55.714593Z",
     "start_time": "2022-04-18T05:15:49.439250Z"
    }
   },
   "outputs": [],
   "source": [
    "# 第一种：从文件中获取文本\n",
    "# filename = \"Migration.txt\"\n",
    "# with open(filename, encoding=\"utf-8\") as fileHandle:\n",
    "#     AllCommentsText = fileHandle.read()\n",
    "# 第二种：构建文本\n",
    "AllCommentsText = \"\"\"\n",
    "文案 文案The 抱抱 Zen of LOVE 抱抱 Python, 快乐 by Tim Peters公众号 公众号 Python 最好的 \n",
    "语言 语言一辈子 is better LOVE than 一辈子.喵小姐 is 爱你 than implicit.爱你 喵小姐蟹先生 is 爱你 \n",
    "than complex.一辈子 is 蟹先生 than complicated.二中 is 喵小姐 我想你了 than nested. 二中 蟹先生清湖 \n",
    "is 胜于 than 清湖.思旺 counts. 想你Special 喵小姐 我想你了 aren\"t special enough 思旺 break 思旺 rules.别生气 \n",
    "practicality beats 厨艺好.Errors should 我想你了 never pass 小龙虾 silently. 运营别生气 explicitly 好不好.\n",
    "LOVEIn the face of ambiguity, 程序员 the 厨艺好 to guess.龙华 龙华There 快乐 should be one-- \n",
    "我想你了 and preferably 红烧肉 only one 小龙虾--obvious way to do it.运营Although 共享单车 way may not \n",
    "我想你了 be obvious at first unless you\"re Dutch. 新媒体 地铁Now is better 红烧肉 than never.程序员 \n",
    "Although 共享单车 is often 高铁 than 东莞 now. 高铁 地铁If the implementation 想你 is hard to explain, \n",
    "it\"s a bad idea. 想你了If 成都 implementation is 想你 easy to explain, it may be a good idea.Namespaces are \n",
    "端午one 端午 honking great idea -- 成都 do more of those! 想你了深圳 晚安 深圳 新媒体\n",
    "\"\"\"\n",
    "# 第三种，从pandas列数据连接而成\n",
    "AllCommentsText = \" \".join(list(Commentsdata[\"评论内容\"]))\n",
    "\n",
    "CommentsWordCloud = WordCloud(collocations=False, font_path=\"msyh.ttc\", width=2000, height=1400, margin=2).generate(AllCommentsText)\n",
    "plt.figure(figsize=(16,12))\n",
    "plt.imshow(CommentsWordCloud, interpolation=\"bilinear\")\n",
    "plt.axis(\"off\")\n",
    "CommentsWordCloud.to_file(\"HLM.png\") "
   ]
  },
  {
   "cell_type": "markdown",
   "metadata": {},
   "source": [
    "### 中文分词"
   ]
  },
  {
   "cell_type": "code",
   "execution_count": null,
   "metadata": {
    "ExecuteTime": {
     "end_time": "2022-04-11T01:59:16.849357Z",
     "start_time": "2022-04-11T01:59:16.835286Z"
    }
   },
   "outputs": [],
   "source": [
    "!pip install jieba -i https://pypi.doubanio.com/simple"
   ]
  },
  {
   "cell_type": "code",
   "execution_count": null,
   "metadata": {
    "ExecuteTime": {
     "end_time": "2022-04-18T05:16:55.412434Z",
     "start_time": "2022-04-18T05:16:54.925517Z"
    }
   },
   "outputs": [],
   "source": [
    "import jieba"
   ]
  },
  {
   "cell_type": "code",
   "execution_count": null,
   "metadata": {
    "ExecuteTime": {
     "end_time": "2022-04-18T05:16:56.859513Z",
     "start_time": "2022-04-18T05:16:56.340759Z"
    },
    "scrolled": true
   },
   "outputs": [],
   "source": [
    "AllCommentsText1 = \" \".join(jieba.lcut(AllCommentsText))\n",
    "AllCommentsText1"
   ]
  },
  {
   "cell_type": "code",
   "execution_count": null,
   "metadata": {
    "ExecuteTime": {
     "end_time": "2022-04-18T05:17:04.171066Z",
     "start_time": "2022-04-18T05:16:59.774872Z"
    }
   },
   "outputs": [],
   "source": [
    "CommentsWordCloud = WordCloud(collocations=False, font_path=\"msyh.ttc\", width=2000, height=1400, margin=2).generate(AllCommentsText1)\n",
    "plt.figure(figsize=(16,12))\n",
    "plt.imshow(CommentsWordCloud, interpolation=\"bilinear\")\n",
    "plt.axis(\"off\")\n",
    "CommentsWordCloud.to_file(\"HLM1.png\") "
   ]
  },
  {
   "cell_type": "markdown",
   "metadata": {},
   "source": [
    "### 处理停用词"
   ]
  },
  {
   "cell_type": "code",
   "execution_count": null,
   "metadata": {
    "ExecuteTime": {
     "end_time": "2022-04-18T05:17:13.592066Z",
     "start_time": "2022-04-18T05:17:13.577065Z"
    }
   },
   "outputs": [],
   "source": [
    "filename = \"中文停用词库.txt\"\n",
    "with open(filename, mode='r+', encoding='gbk') as fileHandle:\n",
    "    StopWordsList = fileHandle.read().split(\"\\n\")\n",
    "StopWordsList"
   ]
  },
  {
   "cell_type": "code",
   "execution_count": null,
   "metadata": {
    "ExecuteTime": {
     "end_time": "2022-04-18T05:17:19.078969Z",
     "start_time": "2022-04-18T05:17:18.982796Z"
    }
   },
   "outputs": [],
   "source": [
    "AllCommentsGenerator = jieba.cut(AllCommentsText)\n",
    "AllCommentsText2 = []\n",
    "for word in AllCommentsGenerator:\n",
    "    if (word.strip() not in StopWordsList) and len(word.strip())>1:           #没在停用词里面且不是单字\n",
    "        AllCommentsText2.append(word)\n",
    "AllCommentsText2 = \" \".join(AllCommentsText2)\n",
    "AllCommentsText2"
   ]
  },
  {
   "cell_type": "code",
   "execution_count": null,
   "metadata": {
    "ExecuteTime": {
     "end_time": "2022-04-18T05:17:31.486030Z",
     "start_time": "2022-04-18T05:17:25.610702Z"
    }
   },
   "outputs": [],
   "source": [
    "CommentsWordCloud = WordCloud(collocations=False, font_path=\"msyh.ttc\", width=2000, height=1400, margin=2).generate(AllCommentsText2)\n",
    "plt.figure(figsize=(16,12))\n",
    "plt.imshow(CommentsWordCloud, interpolation=\"bilinear\")\n",
    "plt.axis(\"off\")\n",
    "CommentsWordCloud.to_file(\"HLM2.png\") "
   ]
  },
  {
   "cell_type": "markdown",
   "metadata": {},
   "source": [
    "## 情感分析"
   ]
  },
  {
   "cell_type": "markdown",
   "metadata": {},
   "source": [
    "### 安装包"
   ]
  },
  {
   "cell_type": "code",
   "execution_count": null,
   "metadata": {
    "ExecuteTime": {
     "end_time": "2022-04-18T05:17:37.316830Z",
     "start_time": "2022-04-18T05:17:37.301822Z"
    }
   },
   "outputs": [],
   "source": [
    "!pip install snownlp -i https://pypi.tuna.tsinghua.edu.cn/simple"
   ]
  },
  {
   "cell_type": "markdown",
   "metadata": {},
   "source": [
    "### 导入数据包"
   ]
  },
  {
   "cell_type": "code",
   "execution_count": null,
   "metadata": {
    "ExecuteTime": {
     "end_time": "2022-04-18T05:17:41.673109Z",
     "start_time": "2022-04-18T05:17:40.219423Z"
    }
   },
   "outputs": [],
   "source": [
    "from snownlp import SnowNLP, sentiment"
   ]
  },
  {
   "cell_type": "markdown",
   "metadata": {},
   "source": [
    "### 情感分析"
   ]
  },
  {
   "cell_type": "code",
   "execution_count": null,
   "metadata": {
    "ExecuteTime": {
     "end_time": "2022-04-18T05:17:46.847696Z",
     "start_time": "2022-04-18T05:17:46.826604Z"
    }
   },
   "outputs": [],
   "source": [
    "negSentences = \"疫情依然很严重，又没有抢到菜，心情糟糕透了！\"\n",
    "posSentences = \"阿加莎之外的另一位犯罪推理小说的大师级女作家！女作家和男作家的区别，在于擅长在逻辑严密和气氛紧张的犯罪推理之外，对人性的软弱、复杂和彼此之间可堪或不堪的关系有着细腻的观察和丰富的细节表现。小说更对女性在“法医”这一“男性”职业之种种身心压力、人际压力、规则压力的包围下，如何坚定地维护正义、呵护亲情和爱情，进行了细致入微地表现\"\n",
    "EmotionData = SnowNLP(negSentences)\n",
    "print(EmotionData.words)\n",
    "print(EmotionData.sentiments)\n",
    "print(list(EmotionData.tags))\n",
    "print(EmotionData.sentiments)"
   ]
  },
  {
   "cell_type": "code",
   "execution_count": null,
   "metadata": {
    "ExecuteTime": {
     "end_time": "2022-04-18T05:17:56.618913Z",
     "start_time": "2022-04-18T05:17:56.603912Z"
    }
   },
   "outputs": [],
   "source": [
    "#只提取中文的示例代码\n",
    "item = \"\"\"\n",
    "        from snownlp import SnowNLP\n",
    "        import pandas as pd\n",
    "        import re\n",
    "        df = pd.read_excel('评论数据.xlsx')\n",
    "        content = df['评论内容']\n",
    "        # 去除一些无用的字符,只提取出中文出来\n",
    "        content = [' '.join(re.findall('[\\u4e00-\\u9fa5]+', item, re.S)) for item in content]\n",
    "        # 对每条评论进行情感打分\n",
    "        scores = [SnowNLP(i).sentiments for i in content]\n",
    "        emotions = []\n",
    "        # 根据分数来划定好评 中评 差评\n",
    "        for i in scores:\n",
    "            if i >= 0.75:\n",
    "                emotions.append('好评')\n",
    "            elif 0.45 <= i < 0.75:\n",
    "                emotions.append('中评')\n",
    "            else:\n",
    "                emotions.append('差评')\n",
    "        df['情感分数'] = scores\n",
    "        df['情感'] = emotions\n",
    "        df.to_excel('NLP测试后数据.xlsx')\n",
    "        \"\"\"\n",
    "re.findall('[\\u4e00-\\u9fa5]+', item, re.S)"
   ]
  },
  {
   "cell_type": "markdown",
   "metadata": {},
   "source": [
    "**词性解释**  \n",
    "a/形容词 c/连词 d/副词 n/名词 p/介词 r/代词 v/动词  \n",
    "np/人名 ns/地名 ni/机构名 nz/其它专名  \n",
    "m/数词 q/量词 mq/数量词  \n",
    "t/时间词 f/方位词 s/处所词  \n",
    "h/前接成分 k/后接成分  \n",
    "i/习语 j/简称  \n",
    "y/语气助词 u/助词 e/叹词 o/拟声词 g/语素 w/标点 x/其它 "
   ]
  },
  {
   "cell_type": "code",
   "execution_count": null,
   "metadata": {
    "ExecuteTime": {
     "end_time": "2022-04-18T05:18:05.957712Z",
     "start_time": "2022-04-18T05:18:05.946721Z"
    }
   },
   "outputs": [],
   "source": [
    "Commentsdata[\"评论内容\"]"
   ]
  },
  {
   "cell_type": "code",
   "execution_count": null,
   "metadata": {
    "ExecuteTime": {
     "end_time": "2022-04-18T05:18:09.716320Z",
     "start_time": "2022-04-18T05:18:09.709332Z"
    }
   },
   "outputs": [],
   "source": [
    "SelectedComment = Commentsdata[\"评论内容\"][3]\n",
    "SelectedComment"
   ]
  },
  {
   "cell_type": "code",
   "execution_count": null,
   "metadata": {
    "ExecuteTime": {
     "end_time": "2022-04-18T05:18:13.086937Z",
     "start_time": "2022-04-18T05:18:13.020632Z"
    }
   },
   "outputs": [],
   "source": [
    "EmotionData = SnowNLP(SelectedComment)\n",
    "print(EmotionData.words)\n",
    "print(list(EmotionData.tags))\n",
    "print(EmotionData.sentiments)"
   ]
  },
  {
   "cell_type": "code",
   "execution_count": null,
   "metadata": {
    "ExecuteTime": {
     "end_time": "2022-04-18T05:18:16.203920Z",
     "start_time": "2022-04-18T05:18:16.189920Z"
    }
   },
   "outputs": [],
   "source": [
    "Commentsdata"
   ]
  },
  {
   "cell_type": "code",
   "execution_count": null,
   "metadata": {
    "ExecuteTime": {
     "end_time": "2022-04-18T05:18:21.303704Z",
     "start_time": "2022-04-18T05:18:19.365138Z"
    }
   },
   "outputs": [],
   "source": [
    "Commentsdata[\"情感指数\"] = Commentsdata[\"评论内容\"].map(lambda x: SnowNLP(x).sentiments if x!= \"\" else 0)\n",
    "\n",
    "# def ComputeSentiments(CommentsData):\n",
    "#     return SnowNLP(CommentsData[\"评论内容\"]).sentiments\n",
    "    \n",
    "# CommentsData[\"情感指数\"] = CommentsData.apply(ComputeSentiments, axis=1)"
   ]
  },
  {
   "cell_type": "code",
   "execution_count": null,
   "metadata": {
    "ExecuteTime": {
     "end_time": "2022-04-18T05:19:14.617418Z",
     "start_time": "2022-04-18T05:19:14.600426Z"
    }
   },
   "outputs": [],
   "source": [
    "Commentsdata.loc[90:97]"
   ]
  },
  {
   "cell_type": "code",
   "execution_count": null,
   "metadata": {
    "ExecuteTime": {
     "end_time": "2022-04-18T05:19:42.341033Z",
     "start_time": "2022-04-18T05:19:42.194109Z"
    }
   },
   "outputs": [],
   "source": [
    "plt.figure(figsize=(20,8),dpi=80)\n",
    "plt.hist(Commentsdata[\"情感指数\"], bins=10, color=\"Steelblue\", edgecolor=\"k\",label=\"直方图\")\n",
    "\n",
    "# 标题和坐标轴说明\n",
    "plt.xlabel(\"情感指数\",fontsize=20)\n",
    "plt.ylabel(\"人数\",fontsize=20)\n",
    "plt.title(\"情感指数分布图\",fontsize=20)"
   ]
  },
  {
   "cell_type": "markdown",
   "metadata": {},
   "source": [
    "### 训练自己的模型"
   ]
  },
  {
   "cell_type": "code",
   "execution_count": null,
   "metadata": {
    "ExecuteTime": {
     "end_time": "2022-04-11T03:39:14.912120Z",
     "start_time": "2022-04-11T03:33:05.652482Z"
    }
   },
   "outputs": [],
   "source": [
    "sentiment.train(\"neg.txt\",\"pos.txt\")\n",
    "sentiment.save(\"my_model.marshal\")"
   ]
  },
  {
   "cell_type": "markdown",
   "metadata": {},
   "source": [
    "### 装载模型"
   ]
  },
  {
   "cell_type": "code",
   "execution_count": null,
   "metadata": {
    "ExecuteTime": {
     "end_time": "2022-04-11T03:41:25.166843Z",
     "start_time": "2022-04-11T03:41:25.145843Z"
    }
   },
   "outputs": [],
   "source": [
    "import snownlp\n",
    "print(snownlp.__file__)"
   ]
  },
  {
   "cell_type": "code",
   "execution_count": null,
   "metadata": {},
   "outputs": [],
   "source": []
  },
  {
   "cell_type": "code",
   "execution_count": null,
   "metadata": {},
   "outputs": [],
   "source": []
  },
  {
   "cell_type": "code",
   "execution_count": null,
   "metadata": {},
   "outputs": [],
   "source": []
  }
 ],
 "metadata": {
  "kernelspec": {
   "display_name": "Python 3 (ipykernel)",
   "language": "python",
   "name": "python3"
  },
  "language_info": {
   "codemirror_mode": {
    "name": "ipython",
    "version": 3
   },
   "file_extension": ".py",
   "mimetype": "text/x-python",
   "name": "python",
   "nbconvert_exporter": "python",
   "pygments_lexer": "ipython3",
   "version": "3.11.9"
  },
  "latex_envs": {
   "LaTeX_envs_menu_present": true,
   "autoclose": true,
   "autocomplete": true,
   "bibliofile": "biblio.bib",
   "cite_by": "apalike",
   "current_citInitial": 1,
   "eqLabelWithNumbers": true,
   "eqNumInitial": 1,
   "hotkeys": {
    "equation": "Ctrl-E",
    "itemize": "Ctrl-I"
   },
   "labels_anchors": false,
   "latex_user_defs": false,
   "report_style_numbering": true,
   "user_envs_cfg": true
  },
  "toc": {
   "base_numbering": 1,
   "nav_menu": {},
   "number_sections": true,
   "sideBar": true,
   "skip_h1_title": false,
   "title_cell": "Table of Contents",
   "title_sidebar": "Contents",
   "toc_cell": false,
   "toc_position": {},
   "toc_section_display": true,
   "toc_window_display": false
  },
  "varInspector": {
   "cols": {
    "lenName": 16,
    "lenType": 16,
    "lenVar": 40
   },
   "kernels_config": {
    "python": {
     "delete_cmd_postfix": "",
     "delete_cmd_prefix": "del ",
     "library": "var_list.py",
     "varRefreshCmd": "print(var_dic_list())"
    },
    "r": {
     "delete_cmd_postfix": ") ",
     "delete_cmd_prefix": "rm(",
     "library": "var_list.r",
     "varRefreshCmd": "cat(var_dic_list()) "
    }
   },
   "types_to_exclude": [
    "module",
    "function",
    "builtin_function_or_method",
    "instance",
    "_Feature"
   ],
   "window_display": false
  },
  "vscode": {
   "interpreter": {
    "hash": "c16e677927941ce70baeab8125b8e3015e18b09ce433417c8fc81cea7c7ad01c"
   }
  }
 },
 "nbformat": 4,
 "nbformat_minor": 4
}
