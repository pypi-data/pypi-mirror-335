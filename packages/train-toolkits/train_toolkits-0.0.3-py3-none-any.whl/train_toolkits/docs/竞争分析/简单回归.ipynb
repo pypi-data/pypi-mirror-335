{
 "cells": [
  {
   "cell_type": "code",
   "execution_count": null,
   "id": "81e78aed",
   "metadata": {},
   "outputs": [],
   "source": [
    "import numpy as np"
   ]
  },
  {
   "cell_type": "markdown",
   "id": "de74ac97",
   "metadata": {},
   "source": [
    "\n",
    "- 线性回归\n",
    "- 有若干只鸡兔同在一个笼子里，从上面数，有35个头，从下面数，有94只脚。问笼中各有多少只鸡和兔？\n",
    "\n",
    "- $w_1 + w_2 = 35$\n",
    "- $2w_1 + 4w_2 = 94$"
   ]
  },
  {
   "cell_type": "code",
   "execution_count": null,
   "id": "e07cebec",
   "metadata": {},
   "outputs": [],
   "source": [
    "X = np.array([\n",
    "    [1,1],\n",
    "    [2,4]\n",
    "])\n",
    "\n",
    "\n",
    "y = np.array([\n",
    "    [35],\n",
    "    [94]\n",
    "])"
   ]
  },
  {
   "cell_type": "raw",
   "id": "e77c2ed7",
   "metadata": {},
   "source": [
    "y = wx\n",
    "\n",
    "- 线性代数 当中  矩阵 没有除法计算\n",
    "- 矩阵 有乘法\n",
    "- 矩阵的倒数 叫做逆矩阵 (只有方阵 才能求逆)\n",
    "- ((XTX)^-1 XTX)单位矩阵是 线性代数当中 的 1\n",
    "- XT .X  X.XT  都是当前矩阵的平方 (方阵)\n",
    "\n",
    "y = w x\n",
    "\n",
    "(XTX)^-1 XT y =  w (XTX)^-1 XTX\n",
    "\n",
    "w = (XTX)^-1 XT y"
   ]
  },
  {
   "cell_type": "code",
   "execution_count": null,
   "id": "0dc58b18",
   "metadata": {},
   "outputs": [],
   "source": [
    "#先把任何形状的矩阵转变为方阵\n",
    "XTX = np.dot(X.T,X)"
   ]
  },
  {
   "cell_type": "code",
   "execution_count": null,
   "id": "2209bc9d",
   "metadata": {},
   "outputs": [],
   "source": [
    "#求出方阵的 逆矩阵\n",
    "INV = np.linalg.inv(XTX)"
   ]
  },
  {
   "cell_type": "code",
   "execution_count": null,
   "id": "4239c624",
   "metadata": {},
   "outputs": [],
   "source": [
    "np.dot(INV,X.T)"
   ]
  },
  {
   "cell_type": "code",
   "execution_count": null,
   "id": "b6b1af6f",
   "metadata": {},
   "outputs": [],
   "source": []
  },
  {
   "cell_type": "code",
   "execution_count": null,
   "id": "89323e78",
   "metadata": {},
   "outputs": [],
   "source": [
    "from sklearn.linear_model import LinearRegression "
   ]
  },
  {
   "cell_type": "code",
   "execution_count": null,
   "id": "d9dcbf3b",
   "metadata": {},
   "outputs": [],
   "source": [
    "model = LinearRegression(fit_intercept=False).fit(X,y)"
   ]
  },
  {
   "cell_type": "code",
   "execution_count": null,
   "id": "f2bf91f7",
   "metadata": {},
   "outputs": [],
   "source": [
    "model.coef_"
   ]
  }
 ],
 "metadata": {
  "kernelspec": {
   "display_name": "Python 3 (ipykernel)",
   "language": "python",
   "name": "python3"
  },
  "language_info": {
   "codemirror_mode": {
    "name": "ipython",
    "version": 3
   },
   "file_extension": ".py",
   "mimetype": "text/x-python",
   "name": "python",
   "nbconvert_exporter": "python",
   "pygments_lexer": "ipython3",
   "version": "3.11.9"
  }
 },
 "nbformat": 4,
 "nbformat_minor": 5
}
