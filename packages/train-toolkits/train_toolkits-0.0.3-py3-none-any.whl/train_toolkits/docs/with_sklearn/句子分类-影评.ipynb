{
 "cells": [
  {
   "cell_type": "code",
   "execution_count": null,
   "metadata": {},
   "outputs": [],
   "source": [
    "import pandas\n",
    "import jieba\n",
    "import re"
   ]
  },
  {
   "cell_type": "markdown",
   "metadata": {},
   "source": [
    "# 数据集"
   ]
  },
  {
   "cell_type": "code",
   "execution_count": null,
   "metadata": {},
   "outputs": [],
   "source": [
    "# 训练集\n",
    "train = pandas.read_csv(\"./train.csv\")\n",
    "# 剔除无用信息\n",
    "train = train.drop(columns=[\"id\", \"userId\", \"timestamp\", \"like\"]) \n",
    "def clean(content):\n",
    "    content = re.sub(r'[^\\w\\s]', '', content)\n",
    "    content = \" \".join(list(jieba.cut(content)))\n",
    "    return content\n",
    "train[\"clean\"] = train[\"comment\"].apply(clean)\n",
    "train.head(5)"
   ]
  },
  {
   "cell_type": "code",
   "execution_count": null,
   "metadata": {},
   "outputs": [],
   "source": [
    "# 推理集\n",
    "predict = pandas.read_csv(\"./test.csv\")\n",
    "# 剔除无用信息\n",
    "predict = predict.drop(columns=[\"id\", \"userId\", \"timestamp\", \"like\"]) \n",
    "def clean(content):\n",
    "    content = re.sub(r'[^\\w\\s]', '', content)\n",
    "    content = \" \".join(list(jieba.cut(content)))\n",
    "    return content\n",
    "predict[\"clean\"] = predict[\"comment\"].apply(clean)\n",
    "predict.head(5)"
   ]
  },
  {
   "cell_type": "markdown",
   "metadata": {},
   "source": [
    "# 训练前处理（划分训练集测试集）"
   ]
  },
  {
   "cell_type": "code",
   "execution_count": null,
   "metadata": {},
   "outputs": [],
   "source": [
    "# 使用sklearn对所有的词进行特征提取\n",
    "from sklearn.feature_extraction.text import TfidfVectorizer\n",
    "from sklearn.model_selection import train_test_split\n",
    "vectorizer = TfidfVectorizer()\n",
    "X = vectorizer.fit_transform(train['clean'].values)\n",
    "y = train['rating'].values\n",
    "X_train, X_test, y_train, y_test = train_test_split(X, y, test_size=0.1, random_state=42)\n",
    "# X_train, y_train = X, y"
   ]
  },
  {
   "cell_type": "markdown",
   "metadata": {},
   "source": [
    "# 训练（多种不同训练模式）"
   ]
  },
  {
   "cell_type": "code",
   "execution_count": null,
   "metadata": {},
   "outputs": [],
   "source": [
    "# 使用随机森林进行训练\n",
    "from sklearn.ensemble import RandomForestClassifier\n",
    "model = RandomForestClassifier(n_estimators=100, random_state=42)\n",
    "model.fit(X_train, y_train)\n",
    "# mean_squared_error 3.7357142857142858"
   ]
  },
  {
   "cell_type": "code",
   "execution_count": null,
   "metadata": {},
   "outputs": [],
   "source": [
    "# 使用支持向量机进行训练\n",
    "from sklearn.svm import SVC\n",
    "model = SVC(kernel=\"linear\")\n",
    "model.fit(X_train, y_train)\n",
    "# mean_squared_error 2.6714285714285713"
   ]
  },
  {
   "cell_type": "code",
   "execution_count": null,
   "metadata": {},
   "outputs": [],
   "source": [
    "# 使用决策树进行训练\n",
    "from sklearn.tree import DecisionTreeClassifier\n",
    "model = DecisionTreeClassifier()\n",
    "model.fit(X_train, y_train)\n",
    "# mean_squared_error 3.8285714285714287"
   ]
  },
  {
   "cell_type": "code",
   "execution_count": null,
   "metadata": {},
   "outputs": [],
   "source": [
    "# 使用神经网络进行训练\n",
    "from sklearn.neural_network import MLPClassifier\n",
    "model = MLPClassifier(hidden_layer_sizes=(100, 100, 100), max_iter=100, random_state=42)\n",
    "model.fit(X_train, y_train)\n",
    "# mean_squared_error 2.407142857142857"
   ]
  },
  {
   "cell_type": "code",
   "execution_count": null,
   "metadata": {},
   "outputs": [],
   "source": [
    "# 使用朴素贝叶斯进行训练\n",
    "from sklearn.naive_bayes import MultinomialNB\n",
    "model = MultinomialNB()\n",
    "model.fit(X_train, y_train)\n",
    "# mean_squared_error 2.5642857142857145"
   ]
  },
  {
   "cell_type": "markdown",
   "metadata": {},
   "source": [
    "# 验证推理结果"
   ]
  },
  {
   "cell_type": "code",
   "execution_count": null,
   "metadata": {},
   "outputs": [],
   "source": [
    "y_pred = model.predict(X_test)\n",
    "print(model)\n",
    "# 准确率\n",
    "from sklearn.metrics import accuracy_score\n",
    "print(\"accuracy_score\", accuracy_score(y_test, y_pred))\n",
    "# R2分数（0~1范围打分，越接近1越好）\n",
    "from sklearn.metrics import r2_score\n",
    "print(\"r2_score\", r2_score(y_test, y_pred))\n",
    "# 均方误差\n",
    "from sklearn.metrics import mean_squared_error\n",
    "print(\"mean_squared_error\", mean_squared_error(y_test, y_pred))"
   ]
  }
 ],
 "metadata": {
  "kernelspec": {
   "display_name": "Python 3",
   "language": "python",
   "name": "python3"
  },
  "language_info": {
   "codemirror_mode": {
    "name": "ipython",
    "version": 3
   },
   "file_extension": ".py",
   "mimetype": "text/x-python",
   "name": "python",
   "nbconvert_exporter": "python",
   "pygments_lexer": "ipython3",
   "version": "3.10.12"
  }
 },
 "nbformat": 4,
 "nbformat_minor": 2
}
