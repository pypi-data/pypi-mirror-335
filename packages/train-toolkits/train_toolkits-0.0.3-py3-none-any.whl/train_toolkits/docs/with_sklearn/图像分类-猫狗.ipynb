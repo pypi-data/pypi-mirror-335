{
 "cells": [
  {
   "cell_type": "markdown",
   "metadata": {},
   "source": [
    "# 数据集（猫狗）"
   ]
  },
  {
   "cell_type": "code",
   "execution_count": null,
   "metadata": {},
   "outputs": [],
   "source": [
    "# 读取数据集\n",
    "import cv2\n",
    "import os\n",
    "cats = [cv2.resize(cv2.imread(f\"./catdog/cat/{image}\"), (64, 64)).flatten() for image in os.listdir(\"./catdog/cat\")]\n",
    "dogs = [cv2.resize(cv2.imread(f\"./catdog/dog/{image}\"), (64, 64)).flatten() for image in os.listdir(\"./catdog/dog\")]\n",
    "# 划分数据集至训练集和测试集\n",
    "from sklearn.model_selection import train_test_split\n",
    "X_train, X_test, y_train, y_test = train_test_split(cats+dogs, [0]*len(cats)+[1]*len(dogs), test_size=0.2, random_state=42)"
   ]
  },
  {
   "cell_type": "markdown",
   "metadata": {},
   "source": [
    "# 训练"
   ]
  },
  {
   "cell_type": "code",
   "execution_count": null,
   "metadata": {},
   "outputs": [],
   "source": [
    "# 使用支持向量机进行训练\n",
    "from sklearn.svm import SVC\n",
    "model = SVC(kernel=\"linear\")\n",
    "model.fit(X_train, y_train)\n",
    "# accuracy_score 0.6470588235294118"
   ]
  },
  {
   "cell_type": "code",
   "execution_count": null,
   "metadata": {},
   "outputs": [],
   "source": [
    "# 使用神经网络进行训练\n",
    "from sklearn.neural_network import MLPClassifier\n",
    "model = MLPClassifier(hidden_layer_sizes=(100, 100, 100), max_iter=300, random_state=42)\n",
    "model.fit(X_train, y_train)\n",
    "# accuracy_score 0.47058823529411764"
   ]
  },
  {
   "cell_type": "markdown",
   "metadata": {},
   "source": [
    "# 验证训练结果"
   ]
  },
  {
   "cell_type": "code",
   "execution_count": null,
   "metadata": {},
   "outputs": [],
   "source": [
    "y_pred = model.predict(X_test)\n",
    "print(model)\n",
    "# 准确率\n",
    "from sklearn.metrics import accuracy_score\n",
    "print(\"accuracy_score\", accuracy_score(y_test, y_pred))\n",
    "# 分类报告\n",
    "from sklearn.metrics import classification_report\n",
    "print(\"classification_report\", classification_report(y_test, y_pred))\n",
    "# 混淆矩阵\n",
    "from sklearn.metrics import confusion_matrix\n",
    "print(\"confusion_matrix\", confusion_matrix(y_test, y_pred))"
   ]
  }
 ],
 "metadata": {
  "kernelspec": {
   "display_name": "Python 3",
   "language": "python",
   "name": "python3"
  },
  "language_info": {
   "codemirror_mode": {
    "name": "ipython",
    "version": 3
   },
   "file_extension": ".py",
   "mimetype": "text/x-python",
   "name": "python",
   "nbconvert_exporter": "python",
   "pygments_lexer": "ipython3",
   "version": "3.12.9"
  }
 },
 "nbformat": 4,
 "nbformat_minor": 2
}
