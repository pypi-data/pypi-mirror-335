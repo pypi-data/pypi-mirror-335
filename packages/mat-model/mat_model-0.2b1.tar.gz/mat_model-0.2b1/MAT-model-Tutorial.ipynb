{
 "cells": [
  {
   "cell_type": "markdown",
   "metadata": {},
   "source": [
    "# MAT-model: Model Classes for Multiple Aspect Trajectory Data Mining \\[MAT-Tools Framework\\]\n",
    "\n",
    "Sample Code in python notebook to use `mat-model` as a python library.\n",
    "\n",
    "The present package offers a tool, to support the user in the task of modeling multiple aspect trajectories. It integrates into a unique framework for multiple aspects trajectories and in general for multidimensional sequence data mining methods.\n",
    "\n",
    "Created on Apr, 2024\n",
    "Copyright (C) 2023, License GPL Version 3 or superior (see LICENSE file)"
   ]
  },
  {
   "cell_type": "code",
   "execution_count": null,
   "metadata": {
    "tags": []
   },
   "outputs": [],
   "source": [
    "!pip install mat-model\n",
    "#!pip install --upgrade mat-model"
   ]
  },
  {
   "cell_type": "markdown",
   "metadata": {},
   "source": [
    "## 1. Loading Trajectory Sample Data"
   ]
  },
  {
   "cell_type": "code",
   "execution_count": 1,
   "metadata": {
    "tags": []
   },
   "outputs": [
    {
     "name": "stdout",
     "output_type": "stream",
     "text": [
      "Loading dataset file: https://github.com/mat-analysis/datasets/tree/main/mat/FoursquareNYC/\n"
     ]
    },
    {
     "name": "stderr",
     "output_type": "stream",
     "text": [
      "  % Total    % Received % Xferd  Average Speed   Time    Time     Time  Current\n",
      "                                 Dload  Upload   Total   Spent    Left  Speed\n",
      "100 1055k  100 1055k    0     0  5831k      0 --:--:-- --:--:-- --:--:-- 5929k\n"
     ]
    },
    {
     "data": {
      "application/vnd.jupyter.widget-view+json": {
       "model_id": "e0e123c9f72748c0a2264aea4eed79f1",
       "version_major": 2,
       "version_minor": 0
      },
      "text/plain": [
       "Stratification (class-balanced):   0%|          | 0/193 [00:00<?, ?it/s]"
      ]
     },
     "metadata": {},
     "output_type": "display_data"
    },
    {
     "data": {
      "application/vnd.jupyter.widget-view+json": {
       "model_id": "41d544a06b8a44539ce8ca253bc34266",
       "version_major": 2,
       "version_minor": 0
      },
      "text/plain": [
       "Sorting data:   0%|          | 0/193 [00:00<?, ?it/s]"
      ]
     },
     "metadata": {},
     "output_type": "display_data"
    },
    {
     "data": {
      "text/html": [
       "<div>\n",
       "<style scoped>\n",
       "    .dataframe tbody tr th:only-of-type {\n",
       "        vertical-align: middle;\n",
       "    }\n",
       "\n",
       "    .dataframe tbody tr th {\n",
       "        vertical-align: top;\n",
       "    }\n",
       "\n",
       "    .dataframe thead th {\n",
       "        text-align: right;\n",
       "    }\n",
       "</style>\n",
       "<table border=\"1\" class=\"dataframe\">\n",
       "  <thead>\n",
       "    <tr style=\"text-align: right;\">\n",
       "      <th></th>\n",
       "      <th>space</th>\n",
       "      <th>time</th>\n",
       "      <th>day</th>\n",
       "      <th>poi</th>\n",
       "      <th>type</th>\n",
       "      <th>root_type</th>\n",
       "      <th>rating</th>\n",
       "      <th>weather</th>\n",
       "      <th>tid</th>\n",
       "      <th>label</th>\n",
       "    </tr>\n",
       "  </thead>\n",
       "  <tbody>\n",
       "    <tr>\n",
       "      <th>0</th>\n",
       "      <td>40.8340978041072 -73.9452672225881</td>\n",
       "      <td>788</td>\n",
       "      <td>Monday</td>\n",
       "      <td>Galaxy Gourmet Deli</td>\n",
       "      <td>Deli / Bodega</td>\n",
       "      <td>Food</td>\n",
       "      <td>8.2</td>\n",
       "      <td>Clouds</td>\n",
       "      <td>127</td>\n",
       "      <td>6</td>\n",
       "    </tr>\n",
       "    <tr>\n",
       "      <th>1</th>\n",
       "      <td>40.5671960000000 -73.8825760000000</td>\n",
       "      <td>1175</td>\n",
       "      <td>Monday</td>\n",
       "      <td>MTA Bus - Beach 169 St &amp; Rockaway Point Bl (Q2...</td>\n",
       "      <td>Bus Stop</td>\n",
       "      <td>Travel &amp; Transport</td>\n",
       "      <td>-1.0</td>\n",
       "      <td>Clouds</td>\n",
       "      <td>127</td>\n",
       "      <td>6</td>\n",
       "    </tr>\n",
       "    <tr>\n",
       "      <th>2</th>\n",
       "      <td>40.6899127194574 -73.9815044403076</td>\n",
       "      <td>1381</td>\n",
       "      <td>Monday</td>\n",
       "      <td>MTA Subway - DeKalb Ave (B/Q/R)</td>\n",
       "      <td>Metro Station</td>\n",
       "      <td>Travel &amp; Transport</td>\n",
       "      <td>-1.0</td>\n",
       "      <td>Clouds</td>\n",
       "      <td>127</td>\n",
       "      <td>6</td>\n",
       "    </tr>\n",
       "    <tr>\n",
       "      <th>3</th>\n",
       "      <td>40.7085883614824 -73.9910316467285</td>\n",
       "      <td>1404</td>\n",
       "      <td>Monday</td>\n",
       "      <td>MTA Subway - Manhattan Bridge (B/D/N/Q)</td>\n",
       "      <td>Train</td>\n",
       "      <td>Travel &amp; Transport</td>\n",
       "      <td>-1.0</td>\n",
       "      <td>Clouds</td>\n",
       "      <td>127</td>\n",
       "      <td>6</td>\n",
       "    </tr>\n",
       "    <tr>\n",
       "      <th>4</th>\n",
       "      <td>40.8331652006224 -73.9418603427692</td>\n",
       "      <td>845</td>\n",
       "      <td>Tuesday</td>\n",
       "      <td>The Grinnell</td>\n",
       "      <td>Home (private)</td>\n",
       "      <td>Residence</td>\n",
       "      <td>-1.0</td>\n",
       "      <td>Clear</td>\n",
       "      <td>127</td>\n",
       "      <td>6</td>\n",
       "    </tr>\n",
       "    <tr>\n",
       "      <th>...</th>\n",
       "      <td>...</td>\n",
       "      <td>...</td>\n",
       "      <td>...</td>\n",
       "      <td>...</td>\n",
       "      <td>...</td>\n",
       "      <td>...</td>\n",
       "      <td>...</td>\n",
       "      <td>...</td>\n",
       "      <td>...</td>\n",
       "      <td>...</td>\n",
       "    </tr>\n",
       "    <tr>\n",
       "      <th>17</th>\n",
       "      <td>40.7047332789043 -73.9877378940582</td>\n",
       "      <td>939</td>\n",
       "      <td>Thursday</td>\n",
       "      <td>Miami Ad School Brooklyn</td>\n",
       "      <td>General College &amp; University</td>\n",
       "      <td>College &amp; University</td>\n",
       "      <td>-1.0</td>\n",
       "      <td>Clear</td>\n",
       "      <td>29559</td>\n",
       "      <td>1070</td>\n",
       "    </tr>\n",
       "    <tr>\n",
       "      <th>18</th>\n",
       "      <td>40.6978026652822 -73.9941451630314</td>\n",
       "      <td>483</td>\n",
       "      <td>Friday</td>\n",
       "      <td>Eastern Athletic Club</td>\n",
       "      <td>Gym</td>\n",
       "      <td>Outdoors &amp; Recreation</td>\n",
       "      <td>6.9</td>\n",
       "      <td>Clear</td>\n",
       "      <td>29559</td>\n",
       "      <td>1070</td>\n",
       "    </tr>\n",
       "    <tr>\n",
       "      <th>19</th>\n",
       "      <td>40.6946728967503 -73.9940820360805</td>\n",
       "      <td>794</td>\n",
       "      <td>Friday</td>\n",
       "      <td>Starbucks</td>\n",
       "      <td>Coffee Shop</td>\n",
       "      <td>Food</td>\n",
       "      <td>7.0</td>\n",
       "      <td>Clear</td>\n",
       "      <td>29559</td>\n",
       "      <td>1070</td>\n",
       "    </tr>\n",
       "    <tr>\n",
       "      <th>20</th>\n",
       "      <td>40.7023694709909 -73.9875124790989</td>\n",
       "      <td>1261</td>\n",
       "      <td>Friday</td>\n",
       "      <td>Superfine</td>\n",
       "      <td>American Restaurant</td>\n",
       "      <td>Food</td>\n",
       "      <td>7.6</td>\n",
       "      <td>Clear</td>\n",
       "      <td>29559</td>\n",
       "      <td>1070</td>\n",
       "    </tr>\n",
       "    <tr>\n",
       "      <th>21</th>\n",
       "      <td>40.6977207397189 -73.9930203524269</td>\n",
       "      <td>56</td>\n",
       "      <td>Saturday</td>\n",
       "      <td>EHS St. George Residence</td>\n",
       "      <td>College Residence Hall</td>\n",
       "      <td>College &amp; University</td>\n",
       "      <td>-1.0</td>\n",
       "      <td>Clouds</td>\n",
       "      <td>29559</td>\n",
       "      <td>1070</td>\n",
       "    </tr>\n",
       "  </tbody>\n",
       "</table>\n",
       "<p>15272 rows × 10 columns</p>\n",
       "</div>"
      ],
      "text/plain": [
       "                                 space  time       day  \\\n",
       "0   40.8340978041072 -73.9452672225881   788    Monday   \n",
       "1   40.5671960000000 -73.8825760000000  1175    Monday   \n",
       "2   40.6899127194574 -73.9815044403076  1381    Monday   \n",
       "3   40.7085883614824 -73.9910316467285  1404    Monday   \n",
       "4   40.8331652006224 -73.9418603427692   845   Tuesday   \n",
       "..                                 ...   ...       ...   \n",
       "17  40.7047332789043 -73.9877378940582   939  Thursday   \n",
       "18  40.6978026652822 -73.9941451630314   483    Friday   \n",
       "19  40.6946728967503 -73.9940820360805   794    Friday   \n",
       "20  40.7023694709909 -73.9875124790989  1261    Friday   \n",
       "21  40.6977207397189 -73.9930203524269    56  Saturday   \n",
       "\n",
       "                                                  poi  \\\n",
       "0                                 Galaxy Gourmet Deli   \n",
       "1   MTA Bus - Beach 169 St & Rockaway Point Bl (Q2...   \n",
       "2                     MTA Subway - DeKalb Ave (B/Q/R)   \n",
       "3             MTA Subway - Manhattan Bridge (B/D/N/Q)   \n",
       "4                                        The Grinnell   \n",
       "..                                                ...   \n",
       "17                           Miami Ad School Brooklyn   \n",
       "18                              Eastern Athletic Club   \n",
       "19                                          Starbucks   \n",
       "20                                          Superfine   \n",
       "21                           EHS St. George Residence   \n",
       "\n",
       "                            type              root_type  rating weather  \\\n",
       "0                  Deli / Bodega                   Food     8.2  Clouds   \n",
       "1                       Bus Stop     Travel & Transport    -1.0  Clouds   \n",
       "2                  Metro Station     Travel & Transport    -1.0  Clouds   \n",
       "3                          Train     Travel & Transport    -1.0  Clouds   \n",
       "4                 Home (private)              Residence    -1.0   Clear   \n",
       "..                           ...                    ...     ...     ...   \n",
       "17  General College & University   College & University    -1.0   Clear   \n",
       "18                           Gym  Outdoors & Recreation     6.9   Clear   \n",
       "19                   Coffee Shop                   Food     7.0   Clear   \n",
       "20           American Restaurant                   Food     7.6   Clear   \n",
       "21        College Residence Hall   College & University    -1.0  Clouds   \n",
       "\n",
       "      tid  label  \n",
       "0     127      6  \n",
       "1     127      6  \n",
       "2     127      6  \n",
       "3     127      6  \n",
       "4     127      6  \n",
       "..    ...    ...  \n",
       "17  29559   1070  \n",
       "18  29559   1070  \n",
       "19  29559   1070  \n",
       "20  29559   1070  \n",
       "21  29559   1070  \n",
       "\n",
       "[15272 rows x 10 columns]"
      ]
     },
     "execution_count": 1,
     "metadata": {},
     "output_type": "execute_result"
    }
   ],
   "source": [
    "from matdata.dataset import *\n",
    "ds = 'mat.FoursquareNYC'\n",
    "df = load_ds(ds, sample_size=0.25)\n",
    "df"
   ]
  },
  {
   "cell_type": "markdown",
   "metadata": {
    "tags": []
   },
   "source": [
    "## 2. Trajectory Objects\n",
    "\n",
    "First, convert the trajectory dataframe into Trajectory objects:"
   ]
  },
  {
   "cell_type": "code",
   "execution_count": 2,
   "metadata": {},
   "outputs": [
    {
     "data": {
      "application/vnd.jupyter.widget-view+json": {
       "model_id": "f28fb0e2721449d78103a260ec96d547",
       "version_major": 2,
       "version_minor": 0
      },
      "text/plain": [
       "Converting Trajectories:   0%|          | 0/694 [00:00<?, ?it/s]"
      ]
     },
     "metadata": {},
     "output_type": "display_data"
    }
   ],
   "source": [
    "from matmodel.util.parsers import df2trajectory\n",
    "\n",
    "T, data_desc = df2trajectory(df)"
   ]
  },
  {
   "cell_type": "markdown",
   "metadata": {},
   "source": [
    "- Text display of the trajectory:"
   ]
  },
  {
   "cell_type": "code",
   "execution_count": 3,
   "metadata": {},
   "outputs": [
    {
     "name": "stdout",
     "output_type": "stream",
     "text": [
      "𝘛𐄁128 \t𝘱1⟨(40.660 -73.830), 2024-01-01 17:22:00, Monday, MTA Subway - Howard Beach/JFK Airport (A), Metro Station, Travel & Transport, -1.0, Clear⟩↴\n",
      "\t𝘱2⟨(40.609 -73.819), 2024-01-01 19:39:00, Monday, MTA Bus - Q53, Beach, Outdoors & Recreation, -1.0, Clear⟩↴\n",
      "\t𝘱3⟨(40.734 -73.871), 2024-01-01 20:08:00, Monday, Queens Center Mall, Shopping Mall, Shop & Service, 7.5, Clear⟩↴\n",
      "\t𝘱4⟨(40.733 -73.871), 2024-01-01 20:10:00, Monday, MTA Bus - Q11/Q21/Q29/Q52LTD/Q53LTD/Q59/Q60 - Queens Blvd & 59th Av, Bus Line, Travel & Transport, -1.0, Clear⟩↴\n",
      "\t𝘱5⟨(40.763 -73.875), 2024-01-01 21:13:00, Monday, MTABus Q19, Q49 (Astoria Blvd/94th St), Bus Station, Travel & Transport, -1.0, Clear⟩↴\n",
      "\t𝘱6⟨(40.757 -73.992), 2024-01-01 02:17:00, Thursday, Port Authority Bus Terminal, Bus Station, Travel & Transport, 5.5, Clear⟩↴\n",
      "\t𝘱7⟨(40.756 -73.986), 2024-01-01 02:27:00, Thursday, Times Square, Plaza, Outdoors & Recreation, 9.0, Clear⟩↴\n",
      "\t𝘱8⟨(40.816 -73.958), 2024-01-01 02:51:00, Thursday, MTA Subway - 125th St (1), Metro Station, Travel & Transport, -1.0, Clear⟩↴\n",
      "\t𝘱9⟨(40.833 -73.942), 2024-01-01 14:39:00, Saturday, The Grinnell, Home (private), Residence, -1.0, Clouds⟩↴\n",
      "\t𝘱10⟨(40.831 -73.941), 2024-01-01 15:54:00, Saturday, MTA Subway - 155th St (C), Metro Station, Travel & Transport, -1.0, Clouds⟩↴\n",
      "\t𝘱11⟨(40.690 -73.982), 2024-01-01 17:35:00, Saturday, NYCT Transit Survey Unit, Office, Professional & Other Places, -1.0, Clouds⟩↴\n",
      "\t𝘱12⟨(40.828 -73.926), 2024-01-01 18:47:00, Saturday, MTA Bus - E 161 St & River Av (Bx6/Bx13), Bus Stop, Travel & Transport, 6.2, Clouds⟩↴\n",
      "\t𝘱13⟨(40.833 -73.942), 2024-01-01 00:11:00, Sunday, The Lair Of Modern Strange Cowboy, Home (private), Residence, -1.0, Clouds⟩↴\n",
      "\t𝘱14⟨(40.709 -73.991), 2024-01-01 12:31:00, Sunday, MTA Subway - Manhattan Bridge (B/D/N/Q), Train, Travel & Transport, -1.0, Fog⟩↴\n",
      "\t𝘱15⟨(40.691 -73.987), 2024-01-01 13:58:00, Sunday, MTA Subway - Jay St/MetroTech (A/C/F/R), Metro Station, Travel & Transport, -1.0, Fog⟩↴\n",
      "\t𝘱16⟨(40.731 -74.000), 2024-01-01 14:50:00, Sunday, NYU Law | Vanderbilt Hall, Law School, College & University, -1.0, Fog⟩↴\n",
      "\t𝘱17⟨(40.800 -73.829), 2024-01-01 20:10:00, Sunday, Bronx-Whitestone Bridge, Bridge, Outdoors & Recreation, -1.0, Clouds⟩↴\n",
      "\t𝘱18⟨(40.860 -73.926), 2024-01-01 21:19:00, Sunday, MTA Subway - Dyckman St (1), Metro Station, Travel & Transport, -1.0, Clouds⟩\n"
     ]
    }
   ],
   "source": [
    "traj = T[1]\n",
    "traj.display()"
   ]
  },
  {
   "cell_type": "markdown",
   "metadata": {},
   "source": [
    "- The dataset descriptor of attributes:"
   ]
  },
  {
   "cell_type": "code",
   "execution_count": null,
   "metadata": {},
   "outputs": [],
   "source": [
    "data_desc.attributes"
   ]
  },
  {
   "cell_type": "code",
   "execution_count": null,
   "metadata": {},
   "outputs": [],
   "source": [
    "traj.data_desc.attributes # data_desc is referenced in each trajectory internally"
   ]
  },
  {
   "cell_type": "markdown",
   "metadata": {},
   "source": [
    "- The spectial attributes, TID and class label:"
   ]
  },
  {
   "cell_type": "code",
   "execution_count": null,
   "metadata": {},
   "outputs": [],
   "source": [
    "# Special desctriptors for trajectory:\n",
    "print(data_desc.idDesc)\n",
    "print(data_desc.labelDesc)"
   ]
  },
  {
   "cell_type": "markdown",
   "metadata": {},
   "source": [
    "- Trajectory points:"
   ]
  },
  {
   "cell_type": "code",
   "execution_count": null,
   "metadata": {},
   "outputs": [],
   "source": [
    "traj.points[0]"
   ]
  },
  {
   "cell_type": "markdown",
   "metadata": {},
   "source": [
    "- The aspect values (from one point):"
   ]
  },
  {
   "cell_type": "code",
   "execution_count": null,
   "metadata": {},
   "outputs": [],
   "source": [
    "# Values\n",
    "traj.points[0].aspects[2], traj.points[0].aspects[3]"
   ]
  },
  {
   "cell_type": "code",
   "execution_count": null,
   "metadata": {},
   "outputs": [],
   "source": [
    "# The attribute name (aspect text) and value\n",
    "data_desc.attributes[3].text, traj.points[0].aspects[3]"
   ]
  },
  {
   "cell_type": "markdown",
   "metadata": {},
   "source": [
    "Testing the aspect type (instance):"
   ]
  },
  {
   "cell_type": "code",
   "execution_count": null,
   "metadata": {},
   "outputs": [],
   "source": [
    "a = traj.points[0].aspects[0]\n",
    "b = traj.points[0].aspects[2]\n",
    "from matmodel.base import Space2D\n",
    "\n",
    "isinstance(a, Space2D), isinstance(b, Space2D), type(a), type(b)"
   ]
  },
  {
   "cell_type": "code",
   "execution_count": null,
   "metadata": {},
   "outputs": [],
   "source": [
    "a.value, type(a.value), b.value, type(b.value)"
   ]
  },
  {
   "cell_type": "markdown",
   "metadata": {
    "tags": []
   },
   "source": [
    "## 3. Distance Comparators"
   ]
  },
  {
   "cell_type": "markdown",
   "metadata": {},
   "source": [
    "- If Dataset Descriptor has Aspect Comparators instantiated:"
   ]
  },
  {
   "cell_type": "code",
   "execution_count": null,
   "metadata": {},
   "outputs": [],
   "source": [
    "a1 = data_desc.attributes[0]\n",
    "a8 = data_desc.attributes[7]\n",
    "print(a1.order, a1.text, a1.dtype, sep=' -- ')\n",
    "\n",
    "print('Comparator 1:', a1.comparator)\n",
    "print('Comparator 8:', a8.comparator)"
   ]
  },
  {
   "cell_type": "code",
   "execution_count": null,
   "metadata": {},
   "outputs": [],
   "source": [
    "for attr in data_desc.attributes:\n",
    "    print(attr, attr.comparator)"
   ]
  },
  {
   "cell_type": "markdown",
   "metadata": {},
   "source": [
    "Calculating distances:"
   ]
  },
  {
   "cell_type": "code",
   "execution_count": null,
   "metadata": {},
   "outputs": [],
   "source": [
    "# Spatial Distance:\n",
    "a1.comparator.distance(traj.points[0].aspects[0], traj.points[1].aspects[0])"
   ]
  },
  {
   "cell_type": "code",
   "execution_count": null,
   "metadata": {},
   "outputs": [],
   "source": [
    "# Distance of p1 to p2, on attribute Weather (equals)\n",
    "a8.comparator.distance(traj.points[0].aspects[7], traj.points[1].aspects[7])"
   ]
  },
  {
   "cell_type": "code",
   "execution_count": null,
   "metadata": {},
   "outputs": [],
   "source": [
    "# Distance of p1 to p6, on attribute 1 (different)\n",
    "a8.comparator.distance(traj.points[0].aspects[7], traj.points[5].aspects[7])"
   ]
  },
  {
   "cell_type": "markdown",
   "metadata": {},
   "source": [
    "Examples to deal with distances:"
   ]
  },
  {
   "cell_type": "code",
   "execution_count": null,
   "metadata": {},
   "outputs": [],
   "source": [
    "# For this distance values:\n",
    "d1 = 2\n",
    "d2 = 10\n",
    "\n",
    "# this is a function used to increase the difference proportionally the greater the distance,\n",
    "# goes up to the max_value of the comparator (if set)\n",
    "a1.comparator.enhance(d1), a1.comparator.enhance(d2)"
   ]
  },
  {
   "cell_type": "code",
   "execution_count": null,
   "metadata": {},
   "outputs": [],
   "source": [
    "# For this distance values, supposing a max_value of 100:\n",
    "d1 = 25\n",
    "d2 = 75\n",
    "\n",
    "# If you have distance values that you want to normalize from 0 to 1, you can assign the largest possible distance value to comparators max_value:\n",
    "a1.comparator.max_value = 100\n",
    "a1.comparator.normalize(d1), a1.comparator.normalize(d2)"
   ]
  },
  {
   "cell_type": "code",
   "execution_count": null,
   "metadata": {},
   "outputs": [],
   "source": [
    "help(a1.comparator.distance)"
   ]
  },
  {
   "cell_type": "markdown",
   "metadata": {},
   "source": [
    "Replacing comparator instances:"
   ]
  },
  {
   "cell_type": "code",
   "execution_count": null,
   "metadata": {},
   "outputs": [],
   "source": [
    "# Eu posso criar outros comparadores, ou trocar:\n",
    "from matmodel.comparator import LcsDistance, EditlcsDistance\n",
    "\n",
    "a1.comparator = LcsDistance()\n",
    "print(traj.points[0].aspects[2], traj.points[2].aspects[2], a1.comparator.distance(traj.points[0].aspects[2], traj.points[2].aspects[2]))\n",
    "print(traj.points[0].aspects[2], traj.points[5].aspects[2], a1.comparator.distance(traj.points[0].aspects[2], traj.points[5].aspects[2]))\n",
    "\n",
    "a1.comparator = EditlcsDistance()\n",
    "print(traj.points[0].aspects[2], traj.points[2].aspects[2], a1.comparator.distance(traj.points[0].aspects[2], traj.points[2].aspects[2]))\n",
    "print(traj.points[0].aspects[2], traj.points[5].aspects[2], a1.comparator.distance(traj.points[0].aspects[2], traj.points[5].aspects[2]))"
   ]
  },
  {
   "cell_type": "markdown",
   "metadata": {},
   "source": [
    "---"
   ]
  },
  {
   "cell_type": "markdown",
   "metadata": {},
   "source": [
    "- Date time and interval comparators:"
   ]
  },
  {
   "cell_type": "code",
   "execution_count": null,
   "metadata": {},
   "outputs": [],
   "source": [
    "# 1. Instantiate some examples:\n",
    "from matmodel.base import DateTime, Interval\n",
    "\n",
    "v1 = DateTime('60')\n",
    "v2 = DateTime('150')\n",
    "v3 = DateTime('1430')\n",
    "\n",
    "i1 = Interval('70', '120') # All dates are out\n",
    "i2 = Interval('90', '180') # Inside: v2, out: v1 e v3\n",
    "i3 = Interval('1380', '1430') # v3 == interval end\n",
    "\n",
    "v1, v2, v3, i1, i2, i3"
   ]
  },
  {
   "cell_type": "code",
   "execution_count": null,
   "metadata": {},
   "outputs": [],
   "source": [
    "type(v1.value), v1.get('m'), v2.get('m'), v3.get('m')"
   ]
  },
  {
   "cell_type": "code",
   "execution_count": null,
   "metadata": {},
   "outputs": [],
   "source": [
    "# 2. Comparators:\n",
    "from matmodel.comparator import *\n",
    "\n",
    "tD = TimeDistance() # This always compares in relation to the time of day (only considers time) in minutes, hours, etc. *Forwards or Backwards*\n",
    "dD = DatetimeDistance(units='m') # This one will always compare from the largest to the smallest\n",
    "iD = InintervalDistance(units='m') # This compares dates and data intervals.\n",
    "\n",
    "tD.max_value, iD.max_value, dD.max_value"
   ]
  },
  {
   "cell_type": "code",
   "execution_count": null,
   "metadata": {},
   "outputs": [],
   "source": [
    "print(tD.distance(v1, v2), tD.distance(v2, v1))\n",
    "print(tD.distance(v1, v3), tD.distance(v3, v1)) # The difference is the small possible (Forwards or Backwards)\n",
    "\n",
    "print(dD.distance(v1, v2), dD.distance(v2, v1))\n",
    "print(dD.distance(v1, v3), dD.distance(v3, v1)) # from the largest to the smallest"
   ]
  },
  {
   "cell_type": "markdown",
   "metadata": {},
   "source": [
    "Instead of using the distance, we can use a match function of the comparator for True or False:"
   ]
  },
  {
   "cell_type": "code",
   "execution_count": null,
   "metadata": {},
   "outputs": [],
   "source": [
    "print(iD.distance(v1, v2), iD.distance(v2, v1))\n",
    "print(iD.match(v1, v2), iD.match(v2, v1)) # See if equals\n",
    "\n",
    "v4 = DateTime('60') # Equals v1\n",
    "print(iD.match(v1, v4), iD.match(v4, v1))\n",
    "\n",
    "print(iD.match(v1, v2, 60*3), iD.match(v2, v1, 60*3)) # See if match in the threshold of 3h"
   ]
  },
  {
   "cell_type": "code",
   "execution_count": null,
   "metadata": {},
   "outputs": [],
   "source": [
    "i1.start, i1.end"
   ]
  },
  {
   "cell_type": "code",
   "execution_count": null,
   "metadata": {},
   "outputs": [],
   "source": [
    "# distance is a match 0 or 1\n",
    "print(iD.distance(v1, i1), iD.distance(i1, v1))\n",
    "print(iD.distance(v2, i1), iD.distance(i1, v2))\n",
    "print(iD.distance(v3, i1), iD.distance(i1, v3))\n",
    "print()\n",
    "print(iD.distance(v1, i2), iD.distance(i2, v1))\n",
    "print(iD.distance(v2, i2), iD.distance(i2, v2)) # v2 inside\n",
    "print(iD.distance(v3, i2), iD.distance(i2, v3))\n",
    "print()\n",
    "print(iD.distance(v1, i3), iD.distance(i3, v1))\n",
    "print(iD.distance(v2, i3), iD.distance(i3, v2))\n",
    "print(iD.distance(v3, i3), iD.distance(i3, v3)) # v3 inside"
   ]
  },
  {
   "cell_type": "code",
   "execution_count": null,
   "metadata": {},
   "outputs": [],
   "source": [
    "# match is bool\n",
    "print(iD.match(v1, i1), iD.match(i1, v1))\n",
    "print(iD.match(v2, i1), iD.match(i1, v2))\n",
    "print(iD.match(v3, i1), iD.match(i1, v3))\n",
    "print()\n",
    "print(iD.match(v1, i2), iD.match(i2, v1))\n",
    "print(iD.match(v2, i2), iD.match(i2, v2))\n",
    "print(iD.match(v3, i2), iD.match(i2, v3))\n",
    "print()\n",
    "print(iD.match(v1, i3), iD.match(i3, v1))\n",
    "print(iD.match(v2, i3), iD.match(i3, v2))\n",
    "print(iD.match(v3, i3), iD.match(i3, v3))"
   ]
  },
  {
   "cell_type": "markdown",
   "metadata": {},
   "source": [
    "---"
   ]
  },
  {
   "cell_type": "code",
   "execution_count": null,
   "metadata": {},
   "outputs": [],
   "source": [
    "# For manually setting a weight for each attribute (can be configured in the descriptor JSON)\n",
    "for attr in data_desc.attributes:\n",
    "    attr.weight = 1.0"
   ]
  },
  {
   "cell_type": "code",
   "execution_count": null,
   "metadata": {},
   "outputs": [],
   "source": [
    "for attr in data_desc.attributes:\n",
    "    print(attr, '\\t>> W:', attr.weight)"
   ]
  },
  {
   "cell_type": "markdown",
   "metadata": {},
   "source": [
    "---\n",
    "## Other Stuff"
   ]
  },
  {
   "cell_type": "code",
   "execution_count": null,
   "metadata": {},
   "outputs": [],
   "source": [
    "# We can configure how the dataset attributes are going to be instantiated, each with different distance functions (comparators):\n",
    "from matmodel.util.parsers import df2trajectory\n",
    "T, data_desc = df2trajectory(df, data_desc='../datasets/mat/FoursquareNYC/FoursquareNYC.json')"
   ]
  },
  {
   "cell_type": "code",
   "execution_count": null,
   "metadata": {},
   "outputs": [],
   "source": [
    "for attr in data_desc.attributes:\n",
    "    print(attr.comparator, '>>', attr)"
   ]
  },
  {
   "cell_type": "code",
   "execution_count": null,
   "metadata": {},
   "outputs": [],
   "source": [
    "# Also, we can configure dependency groups, given any name to a subset of related attributes (in JSON descriptor file):\n",
    "data_desc.dependencies"
   ]
  },
  {
   "cell_type": "code",
   "execution_count": null,
   "metadata": {},
   "outputs": [],
   "source": [
    "for attr in data_desc.attributes:\n",
    "    print(attr.dependency_group, '>>', attr)"
   ]
  },
  {
   "cell_type": "code",
   "execution_count": null,
   "metadata": {},
   "outputs": [],
   "source": [
    "# The FeatureDescriptor class can instantiate any instance by a JSON object:\n",
    "from matmodel.descriptor import FeatureDescriptor\n",
    "\n",
    "desc = {\n",
    "    \"order\": 7,\n",
    "    \"type\": \"numeric\",\n",
    "    \"text\": \"rating\",\n",
    "    \"dependency\": \"poi\",\n",
    "    \"weight\": 0.5,\n",
    "    \"comparator\": {\n",
    "        \"distance\": \"diffnotneg\",\n",
    "        \"maxValue\": 5.0,\n",
    "        \"param1\": 'something x',\n",
    "        \"param2\": 'something y',\n",
    "    }\n",
    "}\n",
    "\n",
    "ft = FeatureDescriptor.instantiate(desc)\n",
    "ft"
   ]
  },
  {
   "cell_type": "code",
   "execution_count": null,
   "metadata": {},
   "outputs": [],
   "source": [
    "ft, ft.dependency_group, ft.weight, ft.comparator, ft.comparator.param1, ft.comparator.param2"
   ]
  },
  {
   "cell_type": "markdown",
   "metadata": {
    "tags": []
   },
   "source": [
    "# \n",
    "---"
   ]
  },
  {
   "cell_type": "markdown",
   "metadata": {},
   "source": [
    "\\# By Tarlis Portela (2023)"
   ]
  }
 ],
 "metadata": {
  "kernelspec": {
   "display_name": "Python 3 (ipykernel)",
   "language": "python",
   "name": "python3"
  },
  "language_info": {
   "codemirror_mode": {
    "name": "ipython",
    "version": 3
   },
   "file_extension": ".py",
   "mimetype": "text/x-python",
   "name": "python",
   "nbconvert_exporter": "python",
   "pygments_lexer": "ipython3",
   "version": "3.9.13"
  }
 },
 "nbformat": 4,
 "nbformat_minor": 4
}
