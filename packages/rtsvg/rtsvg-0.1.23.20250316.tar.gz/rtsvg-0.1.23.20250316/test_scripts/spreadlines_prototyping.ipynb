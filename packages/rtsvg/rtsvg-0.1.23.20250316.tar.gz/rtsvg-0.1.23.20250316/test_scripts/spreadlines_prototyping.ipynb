{
 "cells": [
  {
   "cell_type": "code",
   "execution_count": null,
   "metadata": {},
   "outputs": [],
   "source": [
    "import pandas as pd\n",
    "import polars as pl\n",
    "import numpy as np\n",
    "import time\n",
    "import random\n",
    "import copy\n",
    "import rtsvg\n",
    "rt = rtsvg.RACETrack()\n",
    "\n",
    "from spreadlines_prototyping import spreadLines\n",
    "\n",
    "use_real_data = True\n",
    "\n",
    "if use_real_data:\n",
    "    df1 = pl.read_csv('../../data/2013_vast_challenge/mc3_netflow/nf/nf-chunk1.csv')\n",
    "    df2 = pl.read_csv('../../data/2013_vast_challenge/mc3_netflow/nf/nf-chunk2.csv')\n",
    "    df3 = pl.read_csv('../../data/2013_vast_challenge/mc3_netflow/nf/nf-chunk3.csv')\n",
    "    df  = pl.concat([df1, df2, df3])\n",
    "    \n",
    "    df = rt.columnsAreTimestamps(df, 'parsedDate')\n",
    "    df = df.rename({'TimeSeconds':                '_del1_',\n",
    "                    'parsedDate':                 'timestamp',\n",
    "                    'dateTimeStr':                '_del2_',\n",
    "                    'ipLayerProtocol':            'pro',\n",
    "                    'ipLayerProtocolCode':        '_del3_',\n",
    "                    'firstSeenSrcIp':             'sip',\n",
    "                    'firstSeenDestIp':            'dip',\n",
    "                    'firstSeenSrcPort':           'spt',\n",
    "                    'firstSeenDestPort':          'dpt',\n",
    "                    'moreFragments':              '_del4_',\n",
    "                    'contFragments':              '_del5_',\n",
    "                    'durationSeconds':            'dur',\n",
    "                    'firstSeenSrcPayloadBytes':   '_del6_',\n",
    "                    'firstSeenDestPayloadBytes':  '_del7_',\n",
    "                    'firstSeenSrcTotalBytes':     'soct',\n",
    "                    'firstSeenDestTotalBytes':    'doct',\n",
    "                    'firstSeenSrcPacketCount':    'spkt',\n",
    "                    'firstSeenDestPacketCount':   'dpkt',\n",
    "                    'recordForceOut':             '_del8_'})\n",
    "    df = df.drop(['_del1_', '_del2_', '_del3_', '_del4_', '_del5_', '_del6_', '_del7_', '_del8_'])\n",
    "    df = df.sample(100_000)\n",
    "else:\n",
    "    _lu_ = {'sip':[], 'dip':[], 'timestamp':[]}\n",
    "    _lu_['sip'].append('a'), _lu_['dip'].append('c'), _lu_['timestamp'].append('2022-02-01')\n",
    "    _lu_['sip'].append('e'), _lu_['dip'].append('a'), _lu_['timestamp'].append('2022-02-01')\n",
    "    _lu_['sip'].append('f'), _lu_['dip'].append('c'), _lu_['timestamp'].append('2022-02-01')\n",
    "    _lu_['sip'].append('a'), _lu_['dip'].append('z'), _lu_['timestamp'].append('2022-02-01')\n",
    "    _lu_['sip'].append('y'), _lu_['dip'].append('a'), _lu_['timestamp'].append('2022-02-01')\n",
    "\n",
    "\n",
    "    _lu_['sip'].append('a'), _lu_['dip'].append('c'), _lu_['timestamp'].append('2022-02-02')\n",
    "    _lu_['sip'].append('c'), _lu_['dip'].append('d'), _lu_['timestamp'].append('2022-02-02')\n",
    "\n",
    "    _lu_['sip'].append('a'), _lu_['dip'].append('b'), _lu_['timestamp'].append('2022-02-03')\n",
    "    _lu_['sip'].append('b'), _lu_['dip'].append('c'), _lu_['timestamp'].append('2022-02-03')\n",
    "    _lu_['sip'].append('e'), _lu_['dip'].append('a'), _lu_['timestamp'].append('2022-02-03')\n",
    "    _lu_['sip'].append('b'), _lu_['dip'].append('f'), _lu_['timestamp'].append('2022-02-03')\n",
    "\n",
    "    _lu_['sip'].append('a'), _lu_['dip'].append('b'),  _lu_['timestamp'].append('2022-02-04')\n",
    "    _lu_['sip'].append('b'), _lu_['dip'].append('c'),  _lu_['timestamp'].append('2022-02-04')\n",
    "    _lu_['sip'].append('e'), _lu_['dip'].append('a'),  _lu_['timestamp'].append('2022-02-04')\n",
    "    _lu_['sip'].append('e'), _lu_['dip'].append('m0'), _lu_['timestamp'].append('2022-02-04')\n",
    "    _lu_['sip'].append('e'), _lu_['dip'].append('m1'), _lu_['timestamp'].append('2022-02-04')\n",
    "    _lu_['sip'].append('b'), _lu_['dip'].append('f'),  _lu_['timestamp'].append('2022-02-04')\n",
    "\n",
    "    _lu_['sip'].append('a'), _lu_['dip'].append('b'), _lu_['timestamp'].append('2022-02-05')\n",
    "    _lu_['sip'].append('b'), _lu_['dip'].append('c'), _lu_['timestamp'].append('2022-02-05')\n",
    "    _lu_['sip'].append('e'), _lu_['dip'].append('a'), _lu_['timestamp'].append('2022-02-05')\n",
    "    _lu_['sip'].append('b'), _lu_['dip'].append('f'), _lu_['timestamp'].append('2022-02-05')\n",
    "    _lu_['sip'].append('a'), _lu_['dip'].append('z'), _lu_['timestamp'].append('2022-02-05')\n",
    "    _lu_['sip'].append('y'), _lu_['dip'].append('a'), _lu_['timestamp'].append('2022-02-05')\n",
    "\n",
    "    df = pl.DataFrame(_lu_)\n",
    "    df = rt.columnsAreTimestamps(df, 'timestamp')"
   ]
  },
  {
   "cell_type": "markdown",
   "metadata": {},
   "source": [
    "_tiles_ = []\n",
    "for _num_of_nodes_ in range(500, 1500, 300):\n",
    "    _hdr_ = f'<svg x=\"0\" y=\"0\" width=\"{384}\" height=\"{384}\">'\n",
    "    _bg_  = f'<rect x=\"0\" y=\"0\" width=\"{384}\" height=\"{384}\" fill=\"{rt.co_mgr.getTVColor(\"background\",\"default\")}\" />'\n",
    "    _ftr_ = '</svg>'\n",
    "    _nodes_, _befores_, _afters_ = set(), set(), set()\n",
    "    for i in range(_num_of_nodes_):\n",
    "        _nodes_.add(i)\n",
    "        if random.random() < 0.3: _befores_.add(i)\n",
    "        if random.random() < 0.3: _afters_.add(i)\n",
    "    _svg_, _bounds_, _n2xyrs_ = sl.renderAlter(_nodes_, _befores_, _afters_, 175, 300, 200, 128, mul=-1)\n",
    "    xmin, ymin, xmax, ymax = _bounds_\n",
    "    _box_ = f'<rect x=\"{xmin}\" y=\"{ymin}\" width=\"{xmax-xmin}\" height=\"{ymax-ymin}\" stroke=\"{rt.co_mgr.getTVColor(\"axis\",\"major\")}\" stroke-width=\"0.8\" fill=\"none\" rx=\"10\" />'\n",
    "    _tiles_.append(_hdr_ + _bg_ + _svg_ + _box_ + _ftr_)\n",
    "    _svg_, _bounds_, _n2xyrs_ = sl.renderAlter(_nodes_, _befores_, _afters_, 175, 100, 300,  64, mul= 1)\n",
    "    xmin, ymin, xmax, ymax = _bounds_\n",
    "    _box_ = f'<rect x=\"{xmin}\" y=\"{ymin}\" width=\"{xmax-xmin}\" height=\"{ymax-ymin}\" stroke=\"{rt.co_mgr.getTVColor(\"axis\",\"major\")}\" stroke-width=\"0.8\" fill=\"none\" rx=\"10\" />'\n",
    "    _tiles_.append(_hdr_ + _bg_ + _svg_ + _box_ + _ftr_)\n",
    "rt.table(_tiles_, per_row=4, spacer=10)"
   ]
  },
  {
   "cell_type": "code",
   "execution_count": null,
   "metadata": {},
   "outputs": [],
   "source": [
    "params = {'rt_self':rt, 'df':df, 'relationships':[('sip','dip')], 'node_color':'node', 'every':'1d', 'h':384}\n",
    "\n",
    "rt.tile([spreadLines(node_focus='172.30.0.4',                                                           **params),\n",
    "         spreadLines(node_focus='172.30.0.4', only_render_nodes=set(['10.156.165.212', '10.16.5.15',]), **params),\n",
    "         spreadLines(node_focus='172.30.0.4', only_render_nodes=set(),                                  **params)], horz=False)"
   ]
  },
  {
   "cell_type": "code",
   "execution_count": null,
   "metadata": {},
   "outputs": [],
   "source": [
    "rt.tile([rtsvg.spreadLines(node_focus='172.30.0.4',                                                           **params),\n",
    "         rtsvg.spreadLines(node_focus='172.30.0.4', only_render_nodes=set(['10.156.165.212', '10.16.5.15',]), **params),\n",
    "         rtsvg.spreadLines(node_focus='172.30.0.4', only_render_nodes=set(),                                  **params)], horz=False)"
   ]
  },
  {
   "cell_type": "code",
   "execution_count": null,
   "metadata": {},
   "outputs": [],
   "source": [
    "f'This is a test {'25'} {\"34\"}'"
   ]
  },
  {
   "cell_type": "code",
   "execution_count": null,
   "metadata": {},
   "outputs": [],
   "source": []
  }
 ],
 "metadata": {
  "kernelspec": {
   "display_name": "Python 3",
   "language": "python",
   "name": "python3"
  },
  "language_info": {
   "codemirror_mode": {
    "name": "ipython",
    "version": 3
   },
   "file_extension": ".py",
   "mimetype": "text/x-python",
   "name": "python",
   "nbconvert_exporter": "python",
   "pygments_lexer": "ipython3",
   "version": "3.12.3"
  }
 },
 "nbformat": 4,
 "nbformat_minor": 2
}
