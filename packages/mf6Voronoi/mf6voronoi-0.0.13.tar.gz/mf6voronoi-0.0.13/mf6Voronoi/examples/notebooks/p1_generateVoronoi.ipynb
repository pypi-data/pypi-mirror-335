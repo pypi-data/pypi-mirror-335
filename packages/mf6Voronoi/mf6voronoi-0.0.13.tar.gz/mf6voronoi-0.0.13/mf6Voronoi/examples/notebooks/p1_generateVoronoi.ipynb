{
 "cells": [
  {
   "cell_type": "markdown",
   "metadata": {},
   "source": [
    "## Part 1 : Voronoi mesh generation"
   ]
  },
  {
   "cell_type": "code",
   "execution_count": null,
   "metadata": {},
   "outputs": [],
   "source": [
    "import warnings\n",
    "warnings.filterwarnings('ignore')\n",
    "\n",
    "import os, sys\n",
    "import geopandas as gpd\n",
    "from mf6Voronoi.geoVoronoi import createVoronoi\n",
    "from mf6Voronoi.meshProperties import meshShape\n",
    "from mf6Voronoi.utils import initiateOutputFolder, getVoronoiAsShp"
   ]
  },
  {
   "cell_type": "code",
   "execution_count": null,
   "metadata": {},
   "outputs": [],
   "source": [
    "#Create mesh object specifying the coarse mesh and the multiplier\n",
    "vorMesh = createVoronoi(meshName='regionalModel',maxRef = 250, multiplier=1)  #<============ Check this ============\n",
    "\n",
    "#Open limit layers and refinement definition layers\n",
    "vorMesh.addLimit('basin','shp/catchment.shp')                                 #<============ Check this ============\n",
    "vorMesh.addLayer('river','shp/river_basin.shp',100)                           #<============ Check this ============"
   ]
  },
  {
   "cell_type": "code",
   "execution_count": null,
   "metadata": {},
   "outputs": [],
   "source": [
    "#Generate point pair array\n",
    "vorMesh.generateOrgDistVertices()\n",
    "\n",
    "#Generate the point cloud and voronoi\n",
    "vorMesh.createPointCloud()\n",
    "vorMesh.generateVoronoi()"
   ]
  },
  {
   "cell_type": "code",
   "execution_count": null,
   "metadata": {},
   "outputs": [],
   "source": [
    "#Export generated voronoi mesh\n",
    "initiateOutputFolder('output')\n",
    "getVoronoiAsShp(vorMesh.modelDis, shapePath='output/'+vorMesh.modelDis['meshName']+'.shp')"
   ]
  },
  {
   "cell_type": "code",
   "execution_count": null,
   "metadata": {},
   "outputs": [],
   "source": [
    "# Show the resulting voronoi mesh\n",
    "\n",
    "#open the mesh file\n",
    "mesh=gpd.read_file('output/'+vorMesh.modelDis['meshName']+'.shp')\n",
    "#plot the mesh\n",
    "mesh.plot(figsize=(35,25), fc='crimson', alpha=0.3, ec='teal')"
   ]
  },
  {
   "cell_type": "markdown",
   "metadata": {},
   "source": [
    "## Part 2 generate disv properties"
   ]
  },
  {
   "cell_type": "code",
   "execution_count": null,
   "metadata": {},
   "outputs": [],
   "source": [
    "# open the mesh file\n",
    "mesh=meshShape('output/'+vorMesh.modelDis['meshName']+'.shp')"
   ]
  },
  {
   "cell_type": "code",
   "execution_count": null,
   "metadata": {},
   "outputs": [],
   "source": [
    "# get the list of vertices and cell2d data\n",
    "gridprops=mesh.get_gridprops_disv()"
   ]
  },
  {
   "cell_type": "code",
   "execution_count": null,
   "metadata": {},
   "outputs": [],
   "source": [
    "#create folder\n",
    "initiateOutputFolder('json')\n",
    "\n",
    "#export disv\n",
    "mesh.save_properties('json/disvDict.json')"
   ]
  }
 ],
 "metadata": {
  "kernelspec": {
   "display_name": "Python 3 (ipykernel)",
   "language": "python",
   "name": "python3"
  },
  "language_info": {
   "codemirror_mode": {
    "name": "ipython",
    "version": 3
   },
   "file_extension": ".py",
   "mimetype": "text/x-python",
   "name": "python",
   "nbconvert_exporter": "python",
   "pygments_lexer": "ipython3",
   "version": "3.10.12"
  }
 },
 "nbformat": 4,
 "nbformat_minor": 4
}
