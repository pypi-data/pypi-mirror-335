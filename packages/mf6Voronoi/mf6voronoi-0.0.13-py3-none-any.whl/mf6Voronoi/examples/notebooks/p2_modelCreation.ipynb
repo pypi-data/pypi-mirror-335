{
 "cells": [
  {
   "cell_type": "markdown",
   "metadata": {},
   "source": [
    "## Part 2a: generate disv properties"
   ]
  },
  {
   "cell_type": "code",
   "execution_count": null,
   "metadata": {},
   "outputs": [],
   "source": [
    "import sys, json, os\n",
    "import rasterio, flopy\n",
    "import numpy as np\n",
    "import matplotlib.pyplot as plt\n",
    "import geopandas as gpd\n",
    "from mf6Voronoi.meshProperties import meshShape\n",
    "from shapely.geometry import MultiLineString"
   ]
  },
  {
   "cell_type": "code",
   "execution_count": null,
   "metadata": {},
   "outputs": [],
   "source": [
    "# open the json file\n",
    "with open('json/disvDict.json') as file:                        #<============ Check this ============\n",
    "    gridProps = json.load(file)"
   ]
  },
  {
   "cell_type": "code",
   "execution_count": null,
   "metadata": {},
   "outputs": [],
   "source": [
    "cell2d = gridProps['cell2d']           #cellid, cell centroid xy, vertex number and vertex id list\n",
    "vertices = gridProps['vertices']       #vertex id and xy coordinates\n",
    "ncpl = gridProps['ncpl']               #number of cells per layer\n",
    "nvert = gridProps['nvert']             #number of verts\n",
    "centroids=gridProps['centroids']       #cell centroids xy "
   ]
  },
  {
   "cell_type": "markdown",
   "metadata": {},
   "source": [
    "## Part 2b: Model construction and simulation"
   ]
  },
  {
   "cell_type": "code",
   "execution_count": null,
   "metadata": {},
   "outputs": [],
   "source": [
    "#Extract dem values for each centroid of the voronois\n",
    "src = rasterio.open('rst/asterDem18S.tif')                     #<============ Check this ============\n",
    "elevation=[x for x in src.sample(centroids)]"
   ]
  },
  {
   "cell_type": "code",
   "execution_count": null,
   "metadata": {},
   "outputs": [],
   "source": [
    "nlay = 5                                                      #<============ Check this ============\n",
    "\n",
    "mtop=np.array([elev[0] for i,elev in enumerate(elevation)])\n",
    "zbot=np.zeros((nlay,ncpl))\n",
    "\n",
    "\n",
    "AcuifInf_Bottom = 2800\n",
    "zbot[0,] = mtop - 30\n",
    "zbot[1,] = AcuifInf_Bottom + (0.85 * (mtop - AcuifInf_Bottom))\n",
    "zbot[2,] = AcuifInf_Bottom + (0.70 * (mtop - AcuifInf_Bottom))\n",
    "zbot[3,] = AcuifInf_Bottom + (0.50 * (mtop - AcuifInf_Bottom))\n",
    "zbot[4,] = AcuifInf_Bottom"
   ]
  },
  {
   "cell_type": "markdown",
   "metadata": {},
   "source": [
    "### Create simulation and model"
   ]
  },
  {
   "cell_type": "code",
   "execution_count": null,
   "metadata": {},
   "outputs": [],
   "source": [
    "# create simulation\n",
    "simName = 'mf6Sim'\n",
    "modelName = 'mf6Model'\n",
    "modelWs = 'modelFiles'\n",
    "sim = flopy.mf6.MFSimulation(sim_name=modelName, version='mf6', \n",
    "                             exe_name='bin/mf6.exe', \n",
    "                             sim_ws=modelWs)"
   ]
  },
  {
   "cell_type": "code",
   "execution_count": null,
   "metadata": {},
   "outputs": [],
   "source": [
    "# create tdis package\n",
    "tdis_rc = [(1000.0, 1, 1.0)]\n",
    "tdis = flopy.mf6.ModflowTdis(sim, pname='tdis', time_units='DAYS', \n",
    "                             perioddata=tdis_rc)"
   ]
  },
  {
   "cell_type": "code",
   "execution_count": null,
   "metadata": {},
   "outputs": [],
   "source": [
    "# create gwf model\n",
    "gwf = flopy.mf6.ModflowGwf(sim, \n",
    "                           modelname=modelName, \n",
    "                           save_flows=True,\n",
    "                           newtonoptions=\"NEWTON UNDER_RELAXATION\")"
   ]
  },
  {
   "cell_type": "code",
   "execution_count": null,
   "metadata": {},
   "outputs": [],
   "source": [
    "# create iterative model solution and register the gwf model with it\n",
    "ims = flopy.mf6.ModflowIms(sim,\n",
    "                           complexity='COMPLEX',\n",
    "                           outer_maximum=50,\n",
    "                           inner_maximum=30, \n",
    "                           linear_acceleration='BICGSTAB')\n",
    "sim.register_ims_package(ims,[modelName])"
   ]
  },
  {
   "cell_type": "code",
   "execution_count": null,
   "metadata": {},
   "outputs": [],
   "source": [
    "# disv\n",
    "disv = flopy.mf6.ModflowGwfdisv(gwf, nlay=nlay, ncpl=ncpl, \n",
    "                                top=mtop, botm=zbot, \n",
    "                                nvert=nvert, vertices=vertices, \n",
    "                                cell2d=cell2d)"
   ]
  },
  {
   "cell_type": "code",
   "execution_count": null,
   "metadata": {},
   "outputs": [],
   "source": [
    "# initial conditions\n",
    "ic = flopy.mf6.ModflowGwfic(gwf, strt=np.stack([mtop for i in range(nlay)]))"
   ]
  },
  {
   "cell_type": "code",
   "execution_count": null,
   "metadata": {},
   "outputs": [],
   "source": [
    "Kx =[4E-4,5E-6,1E-6,9E-7,5E-7]                                    #<============ Check this ============\n",
    "icelltype = [1,1,0,0,0]\n",
    "\n",
    "# node property flow\n",
    "npf = flopy.mf6.ModflowGwfnpf(gwf, xt3doptions=[('xt3d')],\n",
    "                              save_specific_discharge=True,\n",
    "                              icelltype=icelltype, \n",
    "                              k=Kx)"
   ]
  },
  {
   "cell_type": "code",
   "execution_count": null,
   "metadata": {},
   "outputs": [],
   "source": [
    "# define storage and transient stress periods\n",
    "sto = flopy.mf6.ModflowGwfsto(gwf,\n",
    "                              iconvert=1,\n",
    "                              steady_state={\n",
    "                                0:True,\n",
    "                              }\n",
    "                              )"
   ]
  },
  {
   "cell_type": "markdown",
   "metadata": {},
   "source": [
    "#### Working with rechage, evapotranspiration"
   ]
  },
  {
   "cell_type": "code",
   "execution_count": null,
   "metadata": {},
   "outputs": [],
   "source": [
    "rchr = 0.15/365/86400                                          #<============ Check this ============\n",
    "rch = flopy.mf6.ModflowGwfrcha(gwf, recharge=rchr)\n",
    "evtr = 1.2/365/86400                                           #<============ Check this ============\n",
    "evt = flopy.mf6.ModflowGwfevta(gwf,ievt=1,surface=mtop,rate=evtr,depth=1.0)"
   ]
  },
  {
   "cell_type": "markdown",
   "metadata": {},
   "source": [
    "### Definition of the intersect object\n",
    "For the manipulation of spatial data to determine hydraulic parameters or boundary conditions"
   ]
  },
  {
   "cell_type": "code",
   "execution_count": null,
   "metadata": {},
   "outputs": [],
   "source": [
    "# Define intersection object\n",
    "interIx = flopy.utils.gridintersect.GridIntersect(gwf.modelgrid)"
   ]
  },
  {
   "cell_type": "code",
   "execution_count": null,
   "metadata": {},
   "outputs": [],
   "source": [
    "#open the river shapefile\n",
    "rivers =gpd.read_file('shp/river_basin.shp')                   #<============ Check this ============\n",
    "list_rivers=[]\n",
    "for i in range(rivers.shape[0]):\n",
    "    list_rivers.append(rivers['geometry'].loc[i])\n",
    "    \n",
    "riverMls = MultiLineString(lines=list_rivers)\n",
    "\n",
    "#intersec rivers with our grid\n",
    "riverCells=interIx.intersect(riverMls).cellids\n",
    "riverCells[:10]"
   ]
  },
  {
   "cell_type": "code",
   "execution_count": null,
   "metadata": {},
   "outputs": [],
   "source": [
    "#river package\n",
    "riverSpd = {}\n",
    "riverSpd[0] = []\n",
    "for cell in riverCells:\n",
    "    riverSpd[0].append([(0,cell),mtop[cell],0.01]) \n",
    "riv = flopy.mf6.ModflowGwfdrn(gwf, stress_period_data=riverSpd)"
   ]
  },
  {
   "cell_type": "code",
   "execution_count": null,
   "metadata": {},
   "outputs": [],
   "source": [
    "#river plot\n",
    "riv.plot(mflay=0)"
   ]
  },
  {
   "cell_type": "markdown",
   "metadata": {},
   "source": [
    "### Set the Output Control and run simulation"
   ]
  },
  {
   "cell_type": "code",
   "execution_count": null,
   "metadata": {},
   "outputs": [],
   "source": [
    "#oc\n",
    "head_filerecord = f\"{gwf.name}.hds\"\n",
    "oc = flopy.mf6.ModflowGwfoc(gwf,\n",
    "                            head_filerecord=head_filerecord,\n",
    "                            saverecord=[(\"HEAD\", \"LAST\")])"
   ]
  },
  {
   "cell_type": "code",
   "execution_count": null,
   "metadata": {},
   "outputs": [],
   "source": [
    "# Run the simulation\n",
    "sim.write_simulation()\n",
    "success, buff = sim.run_simulation()"
   ]
  },
  {
   "cell_type": "markdown",
   "metadata": {},
   "source": [
    "### Model output visualization"
   ]
  },
  {
   "cell_type": "code",
   "execution_count": null,
   "metadata": {},
   "outputs": [],
   "source": [
    "headObj = gwf.output.head()\n",
    "headObj.get_kstpkper()"
   ]
  },
  {
   "cell_type": "code",
   "execution_count": null,
   "metadata": {},
   "outputs": [],
   "source": [
    "heads = headObj.get_data()\n",
    "heads[2,0,:5]"
   ]
  },
  {
   "cell_type": "code",
   "execution_count": null,
   "metadata": {},
   "outputs": [],
   "source": [
    "# Plot the heads for a defined layer and boundary conditions\n",
    "fig = plt.figure(figsize=(12,8))\n",
    "ax = fig.add_subplot(1, 1, 1, aspect='equal')\n",
    "modelmap = flopy.plot.PlotMapView(model=gwf)\n",
    "\n",
    "####\n",
    "levels = np.linspace(heads[heads>-1e+30].min(),heads[heads>-1e+30].max(),num=50)\n",
    "contour = modelmap.contour_array(heads[3],ax=ax,levels=levels,cmap='PuBu')\n",
    "ax.clabel(contour)\n",
    "\n",
    "\n",
    "quadmesh = modelmap.plot_bc('DRN')\n",
    "cellhead = modelmap.plot_array(heads[3],ax=ax, cmap='Blues', alpha=0.8)\n",
    "\n",
    "linecollection = modelmap.plot_grid(linewidth=0.3, alpha=0.5, color='cyan', ax=ax)\n",
    "\n",
    "plt.colorbar(cellhead, shrink=0.75)\n",
    "\n",
    "plt.show()"
   ]
  },
  {
   "cell_type": "code",
   "execution_count": null,
   "metadata": {},
   "outputs": [],
   "source": []
  }
 ],
 "metadata": {
  "kernelspec": {
   "display_name": "Python 3 (ipykernel)",
   "language": "python",
   "name": "python3"
  },
  "language_info": {
   "codemirror_mode": {
    "name": "ipython",
    "version": 3
   },
   "file_extension": ".py",
   "mimetype": "text/x-python",
   "name": "python",
   "nbconvert_exporter": "python",
   "pygments_lexer": "ipython3",
   "version": "3.10.12"
  }
 },
 "nbformat": 4,
 "nbformat_minor": 4
}
