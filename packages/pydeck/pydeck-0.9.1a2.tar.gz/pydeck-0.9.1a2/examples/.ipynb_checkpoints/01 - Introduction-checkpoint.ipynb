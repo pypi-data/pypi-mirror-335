{
 "cells": [
  {
   "cell_type": "markdown",
   "metadata": {},
   "source": [
    "# A brief intro to pydeck\n",
    "\n",
    "The [pydeck](https://pydeck.gl) library is made for visualizing data points in 2D or 3D maps. Specifically, it handles\n",
    "\n",
    "- rendering large (>1M points) data sets, like LIDAR point clouds or GPS pings\n",
    "- large-scale updates to data points, like plotting points with motion\n",
    "- making beautiful maps\n",
    "\n",
    "Under the hood, it's powered by the [deck.gl](https://github.com/visgl/deck.gl/) JavaScript framework.\n",
    "\n",
    "pydeck is strongest when used in tandem with [Pandas](https://pandas.pydata.org/) but doesn't have to be.\n",
    "\n",
    "Please note that **these demo notebooks are best when executed cell-by-cell**, so ideally clone this repo or run it from mybinder.org."
   ]
  },
  {
   "cell_type": "code",
   "execution_count": 1,
   "metadata": {},
   "outputs": [
    {
     "name": "stdout",
     "output_type": "stream",
     "text": [
      "Welcome to pydeck version 0.9.1\n"
     ]
    }
   ],
   "source": [
    "import pydeck as pdk\n",
    "print(\"Welcome to pydeck version\", pdk.__version__)"
   ]
  },
  {
   "cell_type": "markdown",
   "metadata": {},
   "source": [
    "# There are three steps for most pydeck visualizations\n",
    "\n",
    "We'll walk through pydeck using a visualization of vehicle accident data in the United Kingdom.\n",
    "\n",
    "## 1. Choose your data\n",
    "\n",
    "Here, we'll use the history of accident data throughout the United Kingdom. This data set presents the location of every latitude and longitude of car accidents in the UK in 2014 ([source](https://data.gov.uk/dataset/053a6529-6c8c-42ac-ae1e-455b2708e535/road-traffic-accidents))."
   ]
  },
  {
   "cell_type": "code",
   "execution_count": 2,
   "metadata": {},
   "outputs": [
    {
     "data": {
      "text/html": [
       "<div>\n",
       "<style scoped>\n",
       "    .dataframe tbody tr th:only-of-type {\n",
       "        vertical-align: middle;\n",
       "    }\n",
       "\n",
       "    .dataframe tbody tr th {\n",
       "        vertical-align: top;\n",
       "    }\n",
       "\n",
       "    .dataframe thead th {\n",
       "        text-align: right;\n",
       "    }\n",
       "</style>\n",
       "<table border=\"1\" class=\"dataframe\">\n",
       "  <thead>\n",
       "    <tr style=\"text-align: right;\">\n",
       "      <th></th>\n",
       "      <th>lng</th>\n",
       "      <th>lat</th>\n",
       "    </tr>\n",
       "  </thead>\n",
       "  <tbody>\n",
       "    <tr>\n",
       "      <th>0</th>\n",
       "      <td>-0.198465</td>\n",
       "      <td>51.505538</td>\n",
       "    </tr>\n",
       "    <tr>\n",
       "      <th>1</th>\n",
       "      <td>-0.178838</td>\n",
       "      <td>51.491836</td>\n",
       "    </tr>\n",
       "    <tr>\n",
       "      <th>2</th>\n",
       "      <td>-0.205590</td>\n",
       "      <td>51.514910</td>\n",
       "    </tr>\n",
       "    <tr>\n",
       "      <th>3</th>\n",
       "      <td>-0.208327</td>\n",
       "      <td>51.514952</td>\n",
       "    </tr>\n",
       "    <tr>\n",
       "      <th>4</th>\n",
       "      <td>-0.206022</td>\n",
       "      <td>51.496572</td>\n",
       "    </tr>\n",
       "  </tbody>\n",
       "</table>\n",
       "</div>"
      ],
      "text/plain": [
       "        lng        lat\n",
       "0 -0.198465  51.505538\n",
       "1 -0.178838  51.491836\n",
       "2 -0.205590  51.514910\n",
       "3 -0.208327  51.514952\n",
       "4 -0.206022  51.496572"
      ]
     },
     "execution_count": 2,
     "metadata": {},
     "output_type": "execute_result"
    }
   ],
   "source": [
    "import pandas as pd\n",
    "\n",
    "UK_ACCIDENTS_DATA = 'https://raw.githubusercontent.com/visgl/deck.gl-data/master/examples/3d-heatmap/heatmap-data.csv'\n",
    "\n",
    "pd.read_csv(UK_ACCIDENTS_DATA).head()"
   ]
  },
  {
   "cell_type": "markdown",
   "metadata": {},
   "source": [
    "## 2. Configure the visualization: Choose your layer(s), viewport, and widget(s)\n",
    "\n",
    "pydeck's **`Layer`** object takes two positional and many keyword arguments:\n",
    "\n",
    "- First, a string specifying the layer type, with our example below using `'HexagonLayer'`\n",
    "- Next, a data URL–below you'll see the `UK_ACCIDENTS_DATA` that we set above, but we could alternately pass a data frame or list of dictionaries\n",
    "- Finally, keywords representing that layer's attributes–in our example, this would include `elevation_scale`, `elevation_range`, `extruded`, `coverage`. `pickable=True` also allows us to add a tooltip that appears on hover.\n",
    "\n",
    "```python\n",
    "layer = pdk.Layer(\n",
    "    'HexagonLayer',\n",
    "    UK_ACCIDENTS_DATA,\n",
    "    get_position=['lng', 'lat'],\n",
    "    elevation_scale=50,\n",
    "    pickable=True,\n",
    "    auto_highlight=True,\n",
    "    elevation_range=[0, 3000],\n",
    "    extruded=True,                 \n",
    "    coverage=1)\n",
    "```\n",
    "\n",
    "There is of course an entire catalog of layers which you're welcome to check out within the [deck.gl documentation](https://deck.gl/docs/api-reference/layers).\n",
    "\n",
    "### Configure your viewport\n",
    "\n",
    "We also have to specifiy a **`ViewState`** object.\n",
    "\n",
    "The **`ViewState`** object specifies a camera angle relative to the map data. If you don't want to manually specify it, the function **`pydeck.data_utils.compute_view`** can take your data and automatically zoom to it.\n",
    "\n",
    "pydeck also provides some controls, most of which should be familiar from map applications throughout the web. By default, you can hold out and drag to rotate the map.\n",
    "\n",
    "### Configure your UI widgets\n",
    "\n",
    "You may also want to add **`Widget`** objects to offer controls and information around the pydeck visualization. Browse the catalog of widgets within the [deck.gl documentation](https://deck.gl/docs/api-reference/widgets/overview)."
   ]
  },
  {
   "cell_type": "code",
   "execution_count": 3,
   "metadata": {
    "scrolled": false
   },
   "outputs": [
    {
     "data": {
      "text/html": [
       "\n",
       "        <iframe\n",
       "            width=\"100%\"\n",
       "            height=500\n",
       "            frameborder=\"0\"\n",
       "            srcdoc=\"&lt;!DOCTYPE html&gt;\n",
       "&lt;html&gt;\n",
       "  &lt;head&gt;\n",
       "    &lt;meta http-equiv=&quot;content-type&quot; content=&quot;text/html; charset=UTF-8&quot; /&gt;\n",
       "    &lt;title&gt;pydeck&lt;/title&gt;\n",
       "        &lt;script src=&quot;https://api.tiles.mapbox.com/mapbox-gl-js/v1.13.0/mapbox-gl.js&quot;&gt;&lt;/script&gt;\n",
       "        &lt;link rel=&quot;stylesheet&quot; href=&quot;https://maxcdn.bootstrapcdn.com/bootstrap/3.2.0/css/bootstrap-theme.min.css&quot; /&gt;\n",
       "    &lt;link rel=&quot;stylesheet&quot; href=&quot;https://maxcdn.bootstrapcdn.com/font-awesome/4.6.3/css/font-awesome.min.css&quot; /&gt;\n",
       "    &lt;script src=&#x27;https://cdn.jsdelivr.net/npm/@deck.gl/jupyter-widget@~9.1.*/dist/index.js&#x27;&gt;&lt;/script&gt;\n",
       "    &lt;link rel=&quot;stylesheet&quot; href=https://cdn.jsdelivr.net/npm/@deck.gl/widgets@~9.1.*/dist/stylesheet.css /&gt;\n",
       "    &lt;style&gt;\n",
       "    body {\n",
       "  margin: 0;\n",
       "  padding: 0;\n",
       "  overflow: hidden;\n",
       "}\n",
       "\n",
       "#deck-container {\n",
       "  width: 100vw;\n",
       "  height: 100vh;\n",
       "}\n",
       "\n",
       "#deck-container canvas {\n",
       "  z-index: 1;\n",
       "  background: none;\n",
       "}\n",
       "\n",
       "#deck-container .error_text {\n",
       "  color: red;\n",
       "  background: none;\n",
       "  position: absolute;\n",
       "  z-index: 100;\n",
       "}\n",
       "    &lt;/style&gt;\n",
       "  &lt;/head&gt;\n",
       "  &lt;body&gt;\n",
       "    &lt;div id=&quot;deck-container&quot;&gt;\n",
       "    &lt;/div&gt;\n",
       "  &lt;/body&gt;\n",
       "  &lt;script&gt;\n",
       "    const container = document.getElementById(&#x27;deck-container&#x27;);\n",
       "    const jsonInput = {\n",
       "  &quot;initialViewState&quot;: {\n",
       "    &quot;bearing&quot;: -27.36,\n",
       "    &quot;latitude&quot;: 52.2323,\n",
       "    &quot;longitude&quot;: -1.415,\n",
       "    &quot;maxZoom&quot;: 15,\n",
       "    &quot;minZoom&quot;: 5,\n",
       "    &quot;pitch&quot;: 40.5,\n",
       "    &quot;zoom&quot;: 6\n",
       "  },\n",
       "  &quot;layers&quot;: [\n",
       "    {\n",
       "      &quot;@@type&quot;: &quot;HexagonLayer&quot;,\n",
       "      &quot;autoHighlight&quot;: true,\n",
       "      &quot;coverage&quot;: 1,\n",
       "      &quot;data&quot;: &quot;https://raw.githubusercontent.com/visgl/deck.gl-data/master/examples/3d-heatmap/heatmap-data.csv&quot;,\n",
       "      &quot;elevationRange&quot;: [\n",
       "        0,\n",
       "        3000\n",
       "      ],\n",
       "      &quot;elevationScale&quot;: 50,\n",
       "      &quot;extruded&quot;: true,\n",
       "      &quot;getPosition&quot;: &quot;@@=[lng, lat]&quot;,\n",
       "      &quot;id&quot;: &quot;70dddcee-74f0-4204-bd89-b0d88ac5c49e&quot;,\n",
       "      &quot;pickable&quot;: true\n",
       "    }\n",
       "  ],\n",
       "  &quot;mapProvider&quot;: &quot;carto&quot;,\n",
       "  &quot;mapStyle&quot;: &quot;https://basemaps.cartocdn.com/gl/dark-matter-gl-style/style.json&quot;,\n",
       "  &quot;views&quot;: [\n",
       "    {\n",
       "      &quot;@@type&quot;: &quot;MapView&quot;,\n",
       "      &quot;controller&quot;: true\n",
       "    }\n",
       "  ],\n",
       "  &quot;widgets&quot;: [\n",
       "    {\n",
       "      &quot;@@type&quot;: &quot;CompassWidget&quot;,\n",
       "      &quot;placement&quot;: &quot;top-right&quot;\n",
       "    },\n",
       "    {\n",
       "      &quot;@@type&quot;: &quot;ZoomWidget&quot;,\n",
       "      &quot;placement&quot;: &quot;top-right&quot;\n",
       "    }\n",
       "  ]\n",
       "};\n",
       "    const tooltip = true;\n",
       "    const customLibraries = null;\n",
       "    const configuration = null;\n",
       "\n",
       "    const deckInstance = createDeck({\n",
       "                  container,\n",
       "      jsonInput,\n",
       "      tooltip,\n",
       "      customLibraries,\n",
       "      configuration,\n",
       "          });\n",
       "\n",
       "  &lt;/script&gt;\n",
       "&lt;/html&gt;\"\n",
       "        ></iframe>\n",
       "    "
      ],
      "text/plain": [
       "<IPython.core.display.HTML object>"
      ]
     },
     "execution_count": 3,
     "metadata": {},
     "output_type": "execute_result"
    }
   ],
   "source": [
    "layer = pdk.Layer(\n",
    "    'HexagonLayer',\n",
    "    UK_ACCIDENTS_DATA,\n",
    "    get_position=['lng', 'lat'],\n",
    "    auto_highlight=True,\n",
    "    elevation_scale=50,\n",
    "    pickable=True,\n",
    "    elevation_range=[0, 3000],\n",
    "    extruded=True,                 \n",
    "    coverage=1)\n",
    "\n",
    "# Set the viewport location\n",
    "view_state = pdk.ViewState(\n",
    "    longitude=-1.415,\n",
    "    latitude=52.2323,\n",
    "    zoom=6,\n",
    "    min_zoom=5,\n",
    "    max_zoom=15,\n",
    "    pitch=40.5,\n",
    "    bearing=-27.36)\n",
    "\n",
    "# Add a compass and zoom control\n",
    "compass_widget = pdk.Widget('CompassWidget', placement='top-right')\n",
    "zoom_widget = pdk.Widget('ZoomWidget', placement='top-right')\n",
    "\n",
    "# Combined all of it and render a viewport\n",
    "r = pdk.Deck(layers=[layer], initial_view_state=view_state, widgets=[compass_widget, zoom_widget])\n",
    "r.show()"
   ]
  },
  {
   "cell_type": "markdown",
   "metadata": {},
   "source": [
    "## Render an update to the visualization\n",
    "\n",
    "Execute the cell below and look at the map in the cell above–you'll notice a seamless rendered update on the map"
   ]
  },
  {
   "cell_type": "code",
   "execution_count": 4,
   "metadata": {},
   "outputs": [
    {
     "ename": "NotImplementedError",
     "evalue": "Jupyter-specific features not currently supported in pydeck v0.9.",
     "output_type": "error",
     "traceback": [
      "\u001b[0;31m---------------------------------------------------------------------------\u001b[0m",
      "\u001b[0;31mNotImplementedError\u001b[0m                       Traceback (most recent call last)",
      "Cell \u001b[0;32mIn[4], line 3\u001b[0m\n\u001b[1;32m      1\u001b[0m layer\u001b[38;5;241m.\u001b[39melevation_range \u001b[38;5;241m=\u001b[39m [\u001b[38;5;241m0\u001b[39m, \u001b[38;5;241m10000\u001b[39m]\n\u001b[0;32m----> 3\u001b[0m \u001b[43mr\u001b[49m\u001b[38;5;241;43m.\u001b[39;49m\u001b[43mupdate\u001b[49m\u001b[43m(\u001b[49m\u001b[43m)\u001b[49m\n",
      "File \u001b[0;32m~/Projects/deck.gl/bindings/pydeck/pydeck/bindings/deck.py:190\u001b[0m, in \u001b[0;36mDeck.update\u001b[0;34m(self)\u001b[0m\n\u001b[1;32m    169\u001b[0m \u001b[38;5;250m\u001b[39m\u001b[38;5;124;03m\"\"\"Update a deck.gl map to reflect the current configuration\u001b[39;00m\n\u001b[1;32m    170\u001b[0m \n\u001b[1;32m    171\u001b[0m \u001b[38;5;124;03mFor example, if you've modified data passed to Layer and rendered the map using `.show()`,\u001b[39;00m\n\u001b[0;32m   (...)\u001b[0m\n\u001b[1;32m    174\u001b[0m \u001b[38;5;124;03mIntended for use in a Jupyter environment.\u001b[39;00m\n\u001b[1;32m    175\u001b[0m \u001b[38;5;124;03m\"\"\"\u001b[39;00m\n\u001b[1;32m    176\u001b[0m \u001b[38;5;66;03m# TODO: Jupyter-specific features not currently supported in pydeck v0.9.\u001b[39;00m\n\u001b[1;32m    177\u001b[0m \u001b[38;5;66;03m# if not has_jupyter_extra():\u001b[39;00m\n\u001b[1;32m    178\u001b[0m \u001b[38;5;66;03m#     raise ImportError(\u001b[39;00m\n\u001b[0;32m   (...)\u001b[0m\n\u001b[1;32m    188\u001b[0m \u001b[38;5;66;03m# if has_binary:\u001b[39;00m\n\u001b[1;32m    189\u001b[0m \u001b[38;5;66;03m#     self.deck_widget.data_buffer = binary_data_sets\u001b[39;00m\n\u001b[0;32m--> 190\u001b[0m \u001b[38;5;28;01mraise\u001b[39;00m \u001b[38;5;167;01mNotImplementedError\u001b[39;00m(\n\u001b[1;32m    191\u001b[0m     \u001b[38;5;124m\"\u001b[39m\u001b[38;5;124mJupyter-specific features not currently supported in pydeck v0.9.\u001b[39m\u001b[38;5;124m\"\u001b[39m\n\u001b[1;32m    192\u001b[0m )\n",
      "\u001b[0;31mNotImplementedError\u001b[0m: Jupyter-specific features not currently supported in pydeck v0.9."
     ]
    }
   ],
   "source": [
    "layer.elevation_range = [0, 10000]\n",
    "\n",
    "r.update()"
   ]
  },
  {
   "cell_type": "markdown",
   "metadata": {},
   "source": [
    "## Support updates over time\n",
    "\n",
    "We can combine any Python function with our work here, of course. Execute the cell below to update our map above over time."
   ]
  },
  {
   "cell_type": "code",
   "execution_count": null,
   "metadata": {},
   "outputs": [],
   "source": [
    "import time\n",
    "r.show()"
   ]
  },
  {
   "cell_type": "code",
   "execution_count": null,
   "metadata": {},
   "outputs": [],
   "source": [
    "for i in range(0, 10000, 1000):\n",
    "    layer.elevation_range = [0, i]\n",
    "    r.update()\n",
    "    time.sleep(0.1)"
   ]
  },
  {
   "cell_type": "markdown",
   "metadata": {},
   "source": [
    "# pydeck without Jupyter\n",
    "\n",
    "If you prefer not to use Jupyter or you'd like to export your map to a separate file, you can also write out maps to HTML locally using the `.to_html` function."
   ]
  },
  {
   "cell_type": "code",
   "execution_count": null,
   "metadata": {},
   "outputs": [],
   "source": [
    "r.to_html()"
   ]
  }
 ],
 "metadata": {
  "kernelspec": {
   "display_name": "Python 3 (ipykernel)",
   "language": "python",
   "name": "python3"
  },
  "language_info": {
   "codemirror_mode": {
    "name": "ipython",
    "version": 3
   },
   "file_extension": ".py",
   "mimetype": "text/x-python",
   "name": "python",
   "nbconvert_exporter": "python",
   "pygments_lexer": "ipython3",
   "version": "3.10.13"
  }
 },
 "nbformat": 4,
 "nbformat_minor": 2
}
