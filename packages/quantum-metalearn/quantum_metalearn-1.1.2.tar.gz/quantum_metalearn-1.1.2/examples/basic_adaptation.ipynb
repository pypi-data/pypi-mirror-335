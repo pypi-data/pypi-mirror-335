{
 "cells": [
  {
   "cell_type": "code",
   "execution_count": null,
   "id": "1688a059",
   "metadata": {},
   "outputs": [],
   "source": [
    "from metalearn import EMCC, MetaTrainer\n",
    "from metalearn.core.models import DynamicContextEncoder\n",
    "import torch\n",
    "\n",
    "# Initialize components\n",
    "model = DynamicContextEncoder(input_dim=128)\n",
    "meta_learner = EMCC(model)\n",
    "optimizer = torch.optim.Adam(meta_learner.parameters())\n",
    "\n",
    "# Training setup\n",
    "trainer = MetaTrainer(meta_learner, optimizer)\n",
    "metrics = trainer.run_epoch(num_steps=1000)\n",
    "\n",
    "print(f\"Final loss: {metrics['loss'][-1]:.4f}\")"
   ]
  },
  {
   "cell_type": "code",
   "execution_count": null,
   "id": "f64c2063",
   "metadata": {},
   "outputs": [],
   "source": [
    "from metalearn import EMCC, MetaTrainer\n",
    "from metalearn.core.models import BayesianLSTMEncoder\n",
    "\n",
    "# Initialize components with automatic device placement\n",
    "model = BayesianLSTMEncoder(input_dim=128)\n",
    "meta_learner = EMCC(model)\n",
    "optimizer = torch.optim.AdamW(meta_learner.parameters(), lr=3e-4)\n",
    "\n",
    "# Configure training pipeline\n",
    "trainer = MetaTrainer(\n",
    "    meta_learner,\n",
    "    optimizer,\n",
    "    grad_clip=1.0,\n",
    "    use_amp=True\n",
    ")\n",
    "\n",
    "# Execute training\n",
    "metrics = trainer.run_epoch(task_loader, num_steps=5000)"
   ]
  }
 ],
 "metadata": {
  "language_info": {
   "name": "python"
  }
 },
 "nbformat": 4,
 "nbformat_minor": 5
}
