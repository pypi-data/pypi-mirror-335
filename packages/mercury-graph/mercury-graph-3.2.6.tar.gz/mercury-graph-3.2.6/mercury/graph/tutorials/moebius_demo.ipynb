{
 "cells": [
  {
   "cell_type": "markdown",
   "metadata": {
    "colab_type": "text",
    "id": "view-in-github"
   },
   "source": [
    "<a href=\"https://colab.research.google.com/github/BBVA/mercury-graph/blob/master/tutorials/moebius_demo.ipynb\" target=\"_parent\"><img src=\"https://colab.research.google.com/assets/colab-badge.svg\" alt=\"Open In Colab\"/></a>"
   ]
  },
  {
   "cell_type": "markdown",
   "metadata": {
    "id": "3xfunuPLJONz"
   },
   "source": [
    "# Vizualizing with mercury-graph: The Moebius Class"
   ]
  },
  {
   "cell_type": "markdown",
   "metadata": {
    "id": "ABMCd7JoJl2U"
   },
   "source": [
    "## Installing mercury-graph"
   ]
  },
  {
   "cell_type": "code",
   "execution_count": null,
   "metadata": {
    "id": "oBZEj_ZnI6P8"
   },
   "outputs": [],
   "source": [
    "# We need to install mercury-graph first. We get the latest version from PyPI.\n",
    "\n",
    "!pip install mercury-graph anywidget"
   ]
  },
  {
   "cell_type": "markdown",
   "metadata": {
    "id": "XUCgRliRKONA"
   },
   "source": [
    "## Creating a simple graph"
   ]
  },
  {
   "cell_type": "code",
   "execution_count": null,
   "metadata": {
    "id": "9FRkZ_HgKWgm"
   },
   "outputs": [],
   "source": [
    "from mercury.graph.core.graph import Graph\n",
    "from mercury.graph.viz import Moebius\n",
    "\n",
    "import pandas as pd\n"
   ]
  },
  {
   "cell_type": "code",
   "execution_count": null,
   "metadata": {
    "id": "k-bWqamZKqFM"
   },
   "outputs": [],
   "source": [
    "# We use a graph used in other tutorials. Get nodes and edges of the graph.\n",
    "\n",
    "edges = pd.read_csv('https://raw.githubusercontent.com/BBVA/mercury-graph/refs/heads/master/tutorials/data/fifa17_edges.csv', sep = '\\t')\n",
    "nodes = pd.read_csv('https://raw.githubusercontent.com/BBVA/mercury-graph/refs/heads/master/tutorials/data/fifa17_nodes.csv', sep = '\\t')"
   ]
  },
  {
   "cell_type": "code",
   "execution_count": null,
   "metadata": {
    "id": "fY_NtFVrI6Uj"
   },
   "outputs": [],
   "source": [
    "# We examine the content and column names\n",
    "\n",
    "edges[0:5]"
   ]
  },
  {
   "cell_type": "code",
   "execution_count": null,
   "metadata": {
    "id": "utIJWVmSK7mI"
   },
   "outputs": [],
   "source": [
    "nodes[0:5]"
   ]
  },
  {
   "cell_type": "code",
   "execution_count": null,
   "metadata": {
    "id": "AhZKrRw-I6ZO"
   },
   "outputs": [],
   "source": [
    "# First, we create a simple dictionary with the column names correspondance.\n",
    "\n",
    "keys = {'src': 'ori', 'dst': 'dest', 'weight': 'times', 'id': 'name'}"
   ]
  },
  {
   "cell_type": "code",
   "execution_count": null,
   "metadata": {
    "id": "k6myiemeI6bV"
   },
   "outputs": [],
   "source": [
    "# Now, we create the graph\n",
    "\n",
    "G = Graph(data = edges, keys = keys, nodes = nodes)"
   ]
  },
  {
   "cell_type": "code",
   "execution_count": null,
   "metadata": {
    "id": "bmDbiDBoI6eq"
   },
   "outputs": [],
   "source": [
    "G"
   ]
  },
  {
   "cell_type": "markdown",
   "metadata": {
    "id": "nQgdj6AbhAAl"
   },
   "source": [
    "## Start visualizing\n",
    "\n",
    "To visualize a graph, we just have to create a Moebius object passing the graph to the constructor.\n",
    "\n",
    "First, we try without any parameters other than the inital node."
   ]
  },
  {
   "cell_type": "code",
   "execution_count": null,
   "metadata": {
    "id": "uxrtCNilI6hv"
   },
   "outputs": [],
   "source": [
    "M = Moebius(G)"
   ]
  },
  {
   "cell_type": "code",
   "execution_count": null,
   "metadata": {
    "id": "n5FyOyBLM4hP"
   },
   "outputs": [],
   "source": [
    "# We provide the id of an inital node to expand. By default, its immediate\n",
    "# neighbors will be shown. If no id is given, it deploys the first node.\n",
    "\n",
    "M.show('Cristiano Ronaldo')"
   ]
  },
  {
   "cell_type": "markdown",
   "metadata": {
    "id": "p48ibavCiY4b"
   },
   "source": [
    "### Notice that:\n",
    "\n",
    "  - At first, you have just deployed the initial node and its neighbors.\n",
    "  - When you click on a node, a window shows on the left with the node's attributes.\n",
    "  - When you doble-click on a node that has a number (the number of edges not shown), all its edges are deployed.\n",
    "  - The inital nodes are shown with split color, the newly deployed nodes with full color.\n",
    "  - There is a search box. Try searching for \"Simone Verdi\" and you will add his subgraph to the current visualization.\n",
    "  - There is a menu on the right. In that menu you can select how nodes are shown."
   ]
  },
  {
   "cell_type": "markdown",
   "metadata": {
    "id": "LjlVoVpsmLug"
   },
   "source": [
    "## Configuring the output via arguments\n",
    "\n",
    "We already mentioned that you can change the way nodes and edges are shown using the menu on the right. Everything in that menu and some more options can be controlled via arguments."
   ]
  },
  {
   "cell_type": "markdown",
   "metadata": {},
   "source": [
    "### Generating color palettes"
   ]
  },
  {
   "cell_type": "markdown",
   "metadata": {},
   "source": [
    "There are three ways to generate color palettes: Manually, automatically and let the frontend generate one."
   ]
  },
  {
   "cell_type": "markdown",
   "metadata": {},
   "source": [
    "#### Manually generating a color palette"
   ]
  },
  {
   "cell_type": "code",
   "execution_count": null,
   "metadata": {},
   "outputs": [],
   "source": [
    "# We just make a dictionary of colors by player position for some of the most common positions.\n",
    "\n",
    "# The colors are in html encoded rgb\n",
    "\n",
    "my_palette = {'Sub': '#606068', 'Res': '#808088', 'RCB': '#a05028',\n",
    "              'LCB': '#2850a0', 'GK': '#101018', 'LB': '#3060c0', 'RB': '#c06030',\n",
    "              'ST': '#80c080', 'LM': '#3870e0', 'RM': '#e07038', 'LAM': '#4880e0',\n",
    "              'RAM': '#e08040', 'LDM': '#3870d0', 'RDM': '#d07030'}\n",
    "\n",
    "# This way, we have total control, but it is also the most cumbersome."
   ]
  },
  {
   "cell_type": "markdown",
   "metadata": {},
   "source": [
    "#### Automatically generating a color palette"
   ]
  },
  {
   "cell_type": "code",
   "execution_count": null,
   "metadata": {},
   "outputs": [],
   "source": [
    "# We can ask Moebius to generate a color palette for us. The method generate_color_palette() will\n",
    "# take a list of the unique values the variable takes and distribute the hue space in an HSL color\n",
    "# space to cover them all. We can control the saturation (0.25, is very low and therefore, grayish)\n",
    "# and the lightness (0.3 is rather dark).\n",
    "\n",
    "auto_palette = M.generate_color_palette(list(nodes['position'].unique()), sat = 0.25, light = 0.3)\n",
    "\n",
    "# That creates the palette for us.\n",
    "\n",
    "auto_palette"
   ]
  },
  {
   "cell_type": "markdown",
   "metadata": {},
   "source": [
    "#### Let the frontend generate a color palette\n",
    "\n",
    "When we create a configuration taht uses the `color_is` argument, but not `colors`, the configuration\n",
    "will create an empty color dictionary, that tells the frontend to create a palette."
   ]
  },
  {
   "cell_type": "code",
   "execution_count": null,
   "metadata": {
    "id": "iTZqYB_wm-C_"
   },
   "outputs": [],
   "source": [
    "# The configuration expects a dictionary. Since it may de tricky to create it,\n",
    "# the Moebius object has a helper method to do that: node_or_edge_config()\n",
    "\n",
    "# Create a configuration for the nodes NOTE: We do not define colors\n",
    "\n",
    "node_conf = M.node_or_edge_config(text_is = 'id', color_is = 'position')\n",
    "\n",
    "# Create a configuration for the edges\n",
    "\n",
    "edge_conf = M.node_or_edge_config(size_is = 'weight', size_range = [1, 3])\n",
    "\n",
    "M.show('Manuel Neuer',\n",
    "       initial_depth = 2,\n",
    "       node_config = node_conf,\n",
    "       edge_config = edge_conf)"
   ]
  },
  {
   "cell_type": "markdown",
   "metadata": {
    "id": "6Yx8n_TSIzX2"
   },
   "source": [
    "In this new visualization, we changed the depth of the initial deployment and initialized how nodes and edges are shown.\n",
    "\n",
    "**Note that**:\n",
    "\n",
    "  - We let the frontend create the color palette. We have no control over it, but it probably fits most uses.\n",
    "  - There is a color legend in the visualization that can also be hidden. It doesn't show all the colors, but only that of the deployed nodes."
   ]
  },
  {
   "cell_type": "code",
   "execution_count": null,
   "metadata": {},
   "outputs": [],
   "source": [
    "# Now we use the palette we created manually\n",
    "\n",
    "node_conf = M.node_or_edge_config(text_is = 'id', color_is = 'position', colors = my_palette)\n",
    "\n",
    "M.show('Alessandro Ligi',\n",
    "       initial_depth = 2,\n",
    "       node_config = node_conf,\n",
    "       edge_config = edge_conf)"
   ]
  },
  {
   "cell_type": "markdown",
   "metadata": {},
   "source": [
    "**Note that**:\n",
    "\n",
    "  - We did not provide color for any possible position code. Those not given will use the default color.\n"
   ]
  },
  {
   "cell_type": "code",
   "execution_count": null,
   "metadata": {},
   "outputs": [],
   "source": [
    "# Now we use the palette we created automatically\n",
    "\n",
    "node_conf = M.node_or_edge_config(text_is = 'id', color_is = 'position', colors = auto_palette)\n",
    "\n",
    "M.show('Simone Verdi',\n",
    "       initial_depth = 2,\n",
    "       node_config = node_conf,\n",
    "       edge_config = edge_conf)"
   ]
  },
  {
   "cell_type": "markdown",
   "metadata": {},
   "source": [
    "**Note that**:\n",
    "\n",
    "  - Here we have more control, we can set the initial hue, the saturation and lighness values.\n",
    "  - Of course, the result is a Python dictionary where we can modify individual values for total control-\n"
   ]
  },
  {
   "cell_type": "code",
   "execution_count": null,
   "metadata": {},
   "outputs": [],
   "source": []
  }
 ],
 "metadata": {
  "colab": {
   "authorship_tag": "ABX9TyNFbjSHZHxxsgMnLzZ69Vpv",
   "include_colab_link": true,
   "provenance": []
  },
  "kernelspec": {
   "display_name": "Python 3 (ipykernel)",
   "language": "python",
   "name": "python3"
  },
  "language_info": {
   "codemirror_mode": {
    "name": "ipython",
    "version": 3
   },
   "file_extension": ".py",
   "mimetype": "text/x-python",
   "name": "python",
   "nbconvert_exporter": "python",
   "pygments_lexer": "ipython3",
   "version": "3.13.0"
  }
 },
 "nbformat": 4,
 "nbformat_minor": 4
}
