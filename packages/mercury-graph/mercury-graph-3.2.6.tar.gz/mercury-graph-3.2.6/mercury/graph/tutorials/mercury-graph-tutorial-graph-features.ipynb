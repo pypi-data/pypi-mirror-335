{
  "cells": [
    {
      "cell_type": "markdown",
      "metadata": {},
      "source": [
        "<a href=\"https://colab.research.google.com/github/BBVA/mercury-graph/blob/master/tutorials/mercury-graph-tutorial-graph-features.ipynb\" target=\"_parent\"><img src=\"https://colab.research.google.com/assets/colab-badge.svg\" alt=\"Open In Colab\"/></a>"
      ]
    },
    {
      "cell_type": "markdown",
      "metadata": {
        "id": "6iP4gH787MGt"
      },
      "source": [
        "# Graph-Based Feature Engineering with Mercury Graph\n",
        "This notebook uses an AI-generated dataset to generate graph-based features using Mercury Graph."
      ]
    },
    {
      "cell_type": "markdown",
      "metadata": {
        "id": "JoU9NbUNWLPW"
      },
      "source": [
        "## Environment"
      ]
    },
    {
      "cell_type": "code",
      "execution_count": null,
      "metadata": {
        "collapsed": true,
        "id": "bWznxL7nkCnh"
      },
      "outputs": [],
      "source": [
        "!pip install mercury-graph graphframes anywidget"
      ]
    },
    {
      "cell_type": "markdown",
      "metadata": {
        "id": "uwJhIobWWT5o"
      },
      "source": [
        "## Setting up the environment\n",
        "Let's start off by importing the necessary dependencies"
      ]
    },
    {
      "cell_type": "code",
      "execution_count": null,
      "metadata": {
        "id": "yBwOY-qievhB"
      },
      "outputs": [],
      "source": [
        "import pandas as pd\n",
        "import mercury.graph as mg\n",
        "from mercury.graph.ml.graph_features import GraphFeatures\n",
        "from pyspark.context import SparkContext\n",
        "from pyspark.sql import SparkSession"
      ]
    },
    {
      "cell_type": "markdown",
      "metadata": {
        "id": "EGIpXErwZ0OT"
      },
      "source": [
        "Let's set up a pyspark session"
      ]
    },
    {
      "cell_type": "code",
      "execution_count": null,
      "metadata": {
        "id": "hFeNg5frZ3Os"
      },
      "outputs": [],
      "source": [
        "spark = (\n",
        "    SparkSession.builder.appName(\"graphs\")\n",
        "    .config(\"spark.jars.packages\", \"graphframes:graphframes:0.8.3-spark3.5-s_2.12\")\n",
        "    .getOrCreate()\n",
        ")"
      ]
    },
    {
      "cell_type": "markdown",
      "metadata": {
        "id": "_ZTZVRG1W_Wd"
      },
      "source": [
        "## Loading the data\n",
        "We now load the vertices and edges data directly from the CSV files available in the project repository."
      ]
    },
    {
      "cell_type": "code",
      "execution_count": null,
      "metadata": {
        "id": "oDAIoIrafEEP"
      },
      "outputs": [],
      "source": [
        "# Declare paths\n",
        "PATH = \"https://raw.githubusercontent.com/BBVA/mercury-graph/refs/heads/master/\"\n",
        "PATH_V = PATH + \"tutorials/data/chamberi_nodos.csv\"\n",
        "PATH_E = PATH + \"tutorials/data/chamberi_aristas.csv\"\n",
        "\n",
        "# Read data\n",
        "vertices = pd.read_csv(PATH_V, sep='\\t', usecols=[\"id\", \"facturación\", \"precio_medio\"])\n",
        "edges = pd.read_csv(PATH_E, sep = '\\t')\n",
        "\n",
        "# Rename columns\n",
        "vertices.columns = [\"id\", \"revenue\", \"mean_price\"]"
      ]
    },
    {
      "cell_type": "markdown",
      "metadata": {
        "id": "O8SOgZmuYGnF"
      },
      "source": [
        "## Declare a graph\n",
        "\n",
        "* Construct a graph from the loaded nodes and edges, leveraging the core `Graph` class from Mercury-Graph."
      ]
    },
    {
      "cell_type": "code",
      "execution_count": null,
      "metadata": {
        "id": "WZMOjqhNfkjo"
      },
      "outputs": [],
      "source": [
        "g = mg.core.Graph(\n",
        "    data=edges,\n",
        "    nodes=vertices,\n",
        "    keys={\"directed\": False}\n",
        ")"
      ]
    },
    {
      "cell_type": "markdown",
      "metadata": {
        "id": "mDdwXzd9dDIv"
      },
      "source": [
        "### Feature Engineering: Message Aggregation\n",
        "\n",
        "* The objective is to obtain the average revenue of all neighboring businesses.\n",
        "* Additionally, we also calculate the weighted average of this revenue level.\n",
        "\n",
        "By doing this, we go from having a single feature per node to three: the original value and two new variables, which provide additional information about the environment and relationships of each business."
      ]
    },
    {
      "cell_type": "code",
      "execution_count": null,
      "metadata": {
        "colab": {
          "base_uri": "https://localhost:8080/"
        },
        "id": "OH3zpPPtf_oc",
        "outputId": "9a4103f7-4b74-461a-b206-70afb2c78e53"
      },
      "outputs": [
        {
          "name": "stderr",
          "output_type": "stream",
          "text": [
            "/usr/local/lib/python3.11/dist-packages/pyspark/sql/dataframe.py:168: UserWarning: DataFrame.sql_ctx is an internal property, and will be removed in future releases. Use DataFrame.sparkSession instead.\n",
            "  warnings.warn(\n"
          ]
        },
        {
          "name": "stdout",
          "output_type": "stream",
          "text": [
            "+------------------+-----------+--------------+-----------------+--------------+-----------+--------------+\n",
            "|                id|revenue_min|mean_price_min|      revenue_avg|mean_price_avg|revenue_max|mean_price_max|\n",
            "+------------------+-----------+--------------+-----------------+--------------+-----------+--------------+\n",
            "|  Horno del Barrio|      27080|             5|         45481.25|          20.0|      74525|            40|\n",
            "|Juegos y Aventuras|      28120|            12|67619.66666666667|          37.0|     106788|            60|\n",
            "|La Boutique de Luz|      44688|            12|          75020.6|          33.4|     102090|            60|\n",
            "|        Gambón Hub|      44300|             5|          82942.0|          52.0|     141000|           150|\n",
            "|Flores de Chamberí|      16300|            20|          53330.0|         36.25|      98400|            60|\n",
            "+------------------+-----------+--------------+-----------------+--------------+-----------+--------------+\n",
            "only showing top 5 rows\n",
            "\n"
          ]
        }
      ],
      "source": [
        "# Init GraphFeatures isntance\n",
        "gf = GraphFeatures(\n",
        "    attributes=[\"revenue\", \"mean_price\"],\n",
        "    agg_funcs=[\"min\", \"avg\", \"max\"]\n",
        ")\n",
        "\n",
        "# Fit instance\n",
        "gf.fit(g)\n",
        "\n",
        "# View generated attributes\n",
        "gf.node_features_.show(5)"
      ]
    }
  ],
  "metadata": {
    "colab": {
      "provenance": []
    },
    "kernelspec": {
      "display_name": "Python 3",
      "name": "python3"
    },
    "language_info": {
      "name": "python"
    }
  },
  "nbformat": 4,
  "nbformat_minor": 0
}
