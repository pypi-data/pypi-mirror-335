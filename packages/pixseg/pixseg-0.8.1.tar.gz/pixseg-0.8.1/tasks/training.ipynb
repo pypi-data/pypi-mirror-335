{
 "cells": [
  {
   "cell_type": "code",
   "execution_count": null,
   "metadata": {},
   "outputs": [],
   "source": [
    "import logging\n",
    "import shutil\n",
    "import sys\n",
    "import traceback\n",
    "from pathlib import Path\n",
    "\n",
    "import toml\n",
    "\n",
    "sys.path.append(str(Path(\"..\").resolve()))\n",
    "from src.pixseg.pipeline import Config, init_logging\n",
    "from src.pixseg.utils.rng import seed"
   ]
  },
  {
   "cell_type": "markdown",
   "metadata": {},
   "source": [
    "**Declare path to config**\n",
    "\n",
    "Either a config file or a folder of config files, which will be ran through one by one"
   ]
  },
  {
   "cell_type": "code",
   "execution_count": null,
   "metadata": {},
   "outputs": [],
   "source": [
    "CONFIG_PATH = Path(\"config.toml\")"
   ]
  },
  {
   "cell_type": "code",
   "execution_count": null,
   "metadata": {},
   "outputs": [],
   "source": [
    "config_files: list[Path] = []\n",
    "if CONFIG_PATH.is_file():\n",
    "    config_files = [CONFIG_PATH]\n",
    "else:\n",
    "    config_files = list(CONFIG_PATH.glob(\"*.*\"))"
   ]
  },
  {
   "cell_type": "code",
   "execution_count": null,
   "metadata": {},
   "outputs": [],
   "source": [
    "for config_file in config_files:\n",
    "    config_dict = toml.load(config_file)\n",
    "\n",
    "    if len(config_files) > 1:\n",
    "        # use folder name as wandb group and file stem as notes\n",
    "        wandb_params: dict = config_dict[\"log\"][\"wandb\"][\"params\"]\n",
    "        wandb_params.update({\"group\": CONFIG_PATH.name, \"notes\": config_file.stem})\n",
    "\n",
    "    config = Config(config_dict)\n",
    "    out_folder = config.out_folder\n",
    "    print(f\"Experiment {config_file} outputs to {out_folder}\")\n",
    "\n",
    "    out_folder.mkdir(parents=True)\n",
    "    shutil.copy(config_file, out_folder / config_file.name)\n",
    "    with init_logging(out_folder / \"run.log\"):\n",
    "        config_to_log = {k: v for k, v in config_dict.items() if k != \"log\"}\n",
    "        config_text = toml.dumps(config_to_log)\n",
    "        logging.debug(f\"Config:\\n{config_text}\")\n",
    "\n",
    "        try:\n",
    "            trainer = config.to_trainer()\n",
    "            seed(42)\n",
    "            trainer.train()\n",
    "        except BaseException as e:\n",
    "            print(\"Error occurred. Terminating this training ...\")\n",
    "            traceback.print_exc()"
   ]
  }
 ],
 "metadata": {
  "kernelspec": {
   "display_name": ".venv",
   "language": "python",
   "name": "python3"
  },
  "language_info": {
   "codemirror_mode": {
    "name": "ipython",
    "version": 3
   },
   "file_extension": ".py",
   "mimetype": "text/x-python",
   "name": "python",
   "nbconvert_exporter": "python",
   "pygments_lexer": "ipython3",
   "version": "3.10.11"
  }
 },
 "nbformat": 4,
 "nbformat_minor": 2
}
