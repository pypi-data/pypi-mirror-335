{
 "cells": [
  {
   "cell_type": "code",
   "execution_count": 9,
   "metadata": {},
   "outputs": [],
   "source": [
    "import shutil\n",
    "import sys\n",
    "from pathlib import Path\n",
    "from pprint import pprint\n",
    "from timeit import default_timer\n",
    "\n",
    "import torch\n",
    "import tqdm\n",
    "from PIL import Image\n",
    "from torch import nn\n",
    "from torch.utils.data import DataLoader\n",
    "from torchvision.datasets import Cityscapes\n",
    "from torchvision.models.segmentation import fcn_resnet50\n",
    "from torchvision.transforms.v2 import functional as TF\n",
    "\n",
    "sys.path.append(str(Path(\"..\").resolve()))\n",
    "from src.pixseg.datasets import *\n",
    "from src.pixseg.models import *\n",
    "from src.pixseg.pipeline import (\n",
    "    TestTimeAugmentations,\n",
    "    create_snapshots,\n",
    "    eval_one_epoch,\n",
    "    inference_with_augmentations,\n",
    "    inference_with_sliding_window,\n",
    ")\n",
    "from src.pixseg.utils.metrics import MetricStore\n",
    "from src.pixseg.utils.rng import seed\n",
    "from src.pixseg.utils.transform import SegmentationAugment, SegmentationTransform\n",
    "from src.pixseg.utils.visual import combine_images"
   ]
  },
  {
   "cell_type": "code",
   "execution_count": 10,
   "metadata": {},
   "outputs": [],
   "source": [
    "metadata = resolve_metadata(\"VOC\")\n",
    "transforms = SegmentationTransform(mask_fill=metadata.ignore_index)\n",
    "augment = SegmentationAugment(mask_fill=metadata.ignore_index)\n",
    "dataset = DATASET_ZOO[\"VOC\"].construct_val(transforms, root=r\"..\\dataset\", year=\"2007\")\n",
    "data_loader = DataLoader(dataset)"
   ]
  },
  {
   "cell_type": "code",
   "execution_count": 11,
   "metadata": {},
   "outputs": [],
   "source": [
    "## load model from file\n",
    "# model_state_file = Path(r\"..\\runs\\20250227_171651\\best_model.pth\")\n",
    "# model = deeplabv3_resnet18(num_classes=metadata.num_classes)\n",
    "# model_weights = torch.load(model_state_file)\n",
    "# model.load_state_dict(model_weights)\n",
    "\n",
    "## or from pretrained weights\n",
    "model = bisenet_resnet18(weights=BiSeNet_ResNet18_Weights.SBD)"
   ]
  },
  {
   "cell_type": "code",
   "execution_count": 12,
   "metadata": {},
   "outputs": [
    {
     "name": "stdout",
     "output_type": "stream",
     "text": [
      "cpu\n"
     ]
    }
   ],
   "source": [
    "criterion = nn.CrossEntropyLoss(ignore_index=metadata.ignore_index)\n",
    "device = \"cuda\" if torch.cuda.is_available() else \"cpu\"\n",
    "model.to(device).eval()\n",
    "criterion.to(device).eval()\n",
    "print(device)"
   ]
  },
  {
   "cell_type": "code",
   "execution_count": 13,
   "metadata": {},
   "outputs": [
    {
     "data": {
      "image/jpeg": "[encoded data removed]",
      "image/png": "[encoded data removed]",
      "text/plain": [
       "<PIL.Image.Image image mode=RGB size=216x49>"
      ]
     },
     "execution_count": 13,
     "metadata": {},
     "output_type": "execute_result"
    }
   ],
   "source": [
    "snapshots = create_snapshots(model, dataset, augment, device, metadata.colors)\n",
    "combined = combine_images([s for ss in snapshots for s in ss])\n",
    "combined_pil: Image.Image = TF.to_pil_image(combined)\n",
    "combined_pil.reduce(7)"
   ]
  },
  {
   "cell_type": "markdown",
   "metadata": {},
   "source": [
    "### Without augmentations"
   ]
  },
  {
   "cell_type": "code",
   "execution_count": 14,
   "metadata": {},
   "outputs": [
    {
     "name": "stderr",
     "output_type": "stream",
     "text": [
      "Eval: 100%|██████████| 213/213 [00:20<00:00, 10.52it/s, acc=0.926, macc=0.8, miou=0.673, fwiou=0.87, dice=0.791, loss=0.273, time=0.0737]    "
     ]
    },
    {
     "name": "stdout",
     "output_type": "stream",
     "text": [
      "{'acc': 0.9262985526066942,\n",
      " 'dice': 0.7908804631579106,\n",
      " 'fwiou': 0.8698076158034788,\n",
      " 'loss': 0.2734202510270644,\n",
      " 'macc': 0.800131975972541,\n",
      " 'miou': 0.6730587339177458,\n",
      " 'time': 0.07372506525823322}\n"
     ]
    },
    {
     "name": "stderr",
     "output_type": "stream",
     "text": [
      "\n"
     ]
    }
   ],
   "source": [
    "seed(42)\n",
    "ms = eval_one_epoch(\n",
    "    model, data_loader, augment, criterion, device, metadata.num_classes\n",
    ")\n",
    "pprint(ms.summarize())"
   ]
  },
  {
   "cell_type": "markdown",
   "metadata": {},
   "source": [
    "### With augmentations"
   ]
  },
  {
   "cell_type": "code",
   "execution_count": 15,
   "metadata": {},
   "outputs": [],
   "source": [
    "scales = (0.5, 0.75, 1.0, 1.25, 1.5)\n",
    "ttas = TestTimeAugmentations(scales, (False, True), iter_product=True)"
   ]
  },
  {
   "cell_type": "code",
   "execution_count": 16,
   "metadata": {},
   "outputs": [
    {
     "name": "stderr",
     "output_type": "stream",
     "text": [
      "100%|██████████| 213/213 [03:48<00:00,  1.07s/it, acc=0.933, macc=0.773, miou=0.699, fwiou=0.877, dice=0.806, loss=0.237, time=1.05]   "
     ]
    },
    {
     "name": "stdout",
     "output_type": "stream",
     "text": [
      "{'acc': 0.9332198056677723,\n",
      " 'dice': 0.8062402011455987,\n",
      " 'fwiou': 0.876810739398423,\n",
      " 'loss': 0.23652208976648714,\n",
      " 'macc': 0.7731211764653614,\n",
      " 'miou': 0.6994119460255886,\n",
      " 'time': 1.045327307981161}\n"
     ]
    },
    {
     "name": "stderr",
     "output_type": "stream",
     "text": [
      "\n"
     ]
    }
   ],
   "source": [
    "seed(42)\n",
    "ms = MetricStore(metadata.num_classes)\n",
    "loader = tqdm.tqdm(iter(data_loader), total=len(data_loader))\n",
    "for images, masks in loader:\n",
    "    start_time = default_timer()\n",
    "    prelim_images, masks = augment(images.to(device), masks.to(device))\n",
    "    augmented_logits = inference_with_augmentations(model, prelim_images, ttas)\n",
    "\n",
    "    # may change how to aggregate results\n",
    "    aggregated_logits = torch.mean(augmented_logits, dim=0)\n",
    "    loss = criterion(aggregated_logits, masks)\n",
    "    end_time = default_timer()\n",
    "\n",
    "    preds = aggregated_logits.argmax(1)\n",
    "    ms.store_results(masks, preds)\n",
    "    batch_size = images.size(0)\n",
    "    measures = {\n",
    "        \"loss\": loss.item() * batch_size,\n",
    "        \"time\": end_time - start_time,\n",
    "    }\n",
    "    ms.store_measures(batch_size, measures)\n",
    "    loader.set_postfix(ms.summarize())\n",
    "pprint(ms.summarize())"
   ]
  },
  {
   "cell_type": "markdown",
   "metadata": {},
   "source": [
    "### With sliding window"
   ]
  },
  {
   "cell_type": "code",
   "execution_count": 17,
   "metadata": {},
   "outputs": [],
   "source": [
    "window_size = (128, 256)"
   ]
  },
  {
   "cell_type": "code",
   "execution_count": 18,
   "metadata": {},
   "outputs": [
    {
     "name": "stderr",
     "output_type": "stream",
     "text": [
      "100%|██████████| 213/213 [00:52<00:00,  4.03it/s, acc=0.8, macc=0.302, miou=0.247, fwiou=0.656, dice=0.376, time=0.225]   "
     ]
    },
    {
     "name": "stdout",
     "output_type": "stream",
     "text": [
      "{'acc': 0.799742103204781,\n",
      " 'dice': 0.3761293807774655,\n",
      " 'fwiou': 0.6555108394801383,\n",
      " 'macc': 0.30177461685984663,\n",
      " 'miou': 0.24720618217619106,\n",
      " 'time': 0.22538711126752203}\n"
     ]
    },
    {
     "name": "stderr",
     "output_type": "stream",
     "text": [
      "\n"
     ]
    }
   ],
   "source": [
    "seed(42)\n",
    "ms = MetricStore(metadata.num_classes)\n",
    "loader = tqdm.tqdm(iter(data_loader), total=len(data_loader))\n",
    "for images, masks in loader:\n",
    "    start_time = default_timer()\n",
    "    prelim_images, masks = augment(images.to(device), masks.to(device))\n",
    "    augmented_logits = inference_with_sliding_window(model, prelim_images, window_size)\n",
    "    aggregated_logits = torch.mean(augmented_logits, dim=0)\n",
    "    end_time = default_timer()\n",
    "\n",
    "    preds = aggregated_logits.argmax(1)\n",
    "    ms.store_results(masks, preds)\n",
    "    batch_size = images.size(0)\n",
    "    measures = {\"time\": end_time - start_time}\n",
    "    ms.store_measures(batch_size, measures)\n",
    "    loader.set_postfix(ms.summarize())\n",
    "pprint(ms.summarize())"
   ]
  },
  {
   "cell_type": "markdown",
   "metadata": {},
   "source": [
    "### For submitting to cityscapes benchmark suite"
   ]
  },
  {
   "cell_type": "code",
   "execution_count": null,
   "metadata": {},
   "outputs": [],
   "source": [
    "assert isinstance(dataset, Cityscapes)\n",
    "out_folder = Path(r\"cityscapes_semantic\")\n",
    "out_folder.mkdir(parents=True)\n",
    "full_metadata = resolve_metadata(\"CityscapesFull\")\n",
    "\n",
    "ttas = TestTimeAugmentations((1,), (False, True), (False,), (0,), iter_product=True)\n",
    "loader = tqdm.tqdm(enumerate(data_loader), total=len(data_loader))\n",
    "for i, (images, masks) in loader:\n",
    "    prelim_images, masks = augment(images.to(device), masks.to(device))\n",
    "    augmented_logits = inference_with_augmentations(model, prelim_images, ttas)\n",
    "    aggregated_logits = torch.mean(augmented_logits, dim=0)\n",
    "\n",
    "    # convert preds to labelIDs\n",
    "    preds = aggregated_logits.argmax(1)\n",
    "    label_id_pred = torch.zeros_like(preds, dtype=torch.uint8)\n",
    "    for train_id, train_label in enumerate(metadata.labels):\n",
    "        if train_label in full_metadata.labels:\n",
    "            label_id = full_metadata.labels.index(train_label)\n",
    "            label_id_pred[preds == train_id] = label_id\n",
    "\n",
    "    image_path = Path(dataset.images[i])\n",
    "    preds_pil: Image.Image = TF.to_pil_image(label_id_pred)\n",
    "    palette = [c for rgb in full_metadata.colors for c in rgb]\n",
    "    preds_pil.putpalette(palette)\n",
    "    preds_pil.save(out_folder / image_path.with_suffix(\".png\").name)\n",
    "\n",
    "shutil.make_archive(\"cityscapes_semantic\", \"zip\", out_folder)"
   ]
  }
 ],
 "metadata": {
  "kernelspec": {
   "display_name": ".venv",
   "language": "python",
   "name": "python3"
  },
  "language_info": {
   "codemirror_mode": {
    "name": "ipython",
    "version": 3
   },
   "file_extension": ".py",
   "mimetype": "text/x-python",
   "name": "python",
   "nbconvert_exporter": "python",
   "pygments_lexer": "ipython3",
   "version": "3.10.11"
  }
 },
 "nbformat": 4,
 "nbformat_minor": 2
}
