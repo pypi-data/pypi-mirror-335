{
 "cells": [
  {
   "cell_type": "code",
   "execution_count": 1,
   "metadata": {},
   "outputs": [
    {
     "name": "stderr",
     "output_type": "stream",
     "text": [
      "Downloading: \"https://github.com/CyrusCKF/PixSeg/zipball/main\" to C:\\Users\\cyrus.kfcheung/.cache\\torch\\hub\\main.zip\n"
     ]
    },
    {
     "name": "stdout",
     "output_type": "stream",
     "text": [
      "['bisenet_resnet18', 'bisenet_resnet50', 'bisenet_xception', 'deeplabv3_resnet18', 'enet_original', 'fcn_vgg16', 'get_model', 'get_model_builder', 'get_model_weights', 'get_weight', 'list_models', 'lraspp_resnet18', 'pspnet_resnet50', 'sfnet_lite_resnet101', 'sfnet_lite_resnet18', 'sfnet_resnet101', 'sfnet_resnet18', 'upernet_resnet101', 'upernet_resnet18']\n",
      "Bilateral Segmentation Network model with a ResNet-18 backbone\n",
      "\n",
      "Implement BiSeNet from [BiSeNet: Bilateral Segmentation Network for\n",
      "    Real-time Semantic Segmentation](https://arxiv.org/abs/1808.00897)\n",
      "\n",
      "Args:\n",
      "    num_classes: Number of output classes of the model (including the background).\n",
      "    weights: The pretrained weights to use. Possible values are: ['CITYSCAPE', 'SBD'].\n",
      "    progress: If True, display the download progress.\n",
      "    aux_loss: If True, the model uses and returns an auxiliary loss.\n",
      "    weights_backbone: The pretrained weights for the backbone. Possible values are: ['IMAGENET1K_V1'].\n"
     ]
    },
    {
     "name": "stderr",
     "output_type": "stream",
     "text": [
      "Using cache found in C:\\Users\\cyrus.kfcheung/.cache\\torch\\hub\\CyrusCKF_PixSeg_main\n",
      "Using cache found in C:\\Users\\cyrus.kfcheung/.cache\\torch\\hub\\CyrusCKF_PixSeg_main\n"
     ]
    }
   ],
   "source": [
    "import torch\n",
    "\n",
    "print(torch.hub.list(\"CyrusCKF/PixSeg\", force_reload=True, trust_repo=True))\n",
    "print(torch.hub.help(\"CyrusCKF/PixSeg\", \"bisenet_resnet18\"))\n",
    "model = torch.hub.load(\"CyrusCKF/PixSeg\", \"bisenet_resnet18\", weights=\"DEFAULT\")"
   ]
  },
  {
   "cell_type": "code",
   "execution_count": 2,
   "metadata": {},
   "outputs": [
    {
     "name": "stdout",
     "output_type": "stream",
     "text": [
      "torch.Size([4, 20, 512, 512])\n"
     ]
    }
   ],
   "source": [
    "fake_input = torch.rand([4, 3, 512, 512])\n",
    "output: dict[str, torch.Tensor] = model(fake_input)  # type: ignore\n",
    "print(output[\"out\"].shape)"
   ]
  }
 ],
 "metadata": {
  "kernelspec": {
   "display_name": ".venv",
   "language": "python",
   "name": "python3"
  },
  "language_info": {
   "codemirror_mode": {
    "name": "ipython",
    "version": 3
   },
   "file_extension": ".py",
   "mimetype": "text/x-python",
   "name": "python",
   "nbconvert_exporter": "python",
   "pygments_lexer": "ipython3",
   "version": "3.10.11"
  }
 },
 "nbformat": 4,
 "nbformat_minor": 2
}
