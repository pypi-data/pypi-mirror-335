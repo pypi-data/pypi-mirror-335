{
 "cells": [
  {
   "cell_type": "markdown",
   "metadata": {},
   "source": [
    "# Hard spheres and hexagonal symmetry\n",
    "> psi-6 / $\\psi_6$ is a measure for hexagonal symmetry in 2d. In this notebook set up different toy systems of hard spheres and perturb them, observing the decay of psi-6 from 1 to ~.4. Some configurations are exported to the [xyz](https://en.wikipedia.org/wiki/XYZ_file_format) format to be visualized with [ovito](https://www.ovito.org) (the basis version is enough)."
   ]
  },
  {
   "cell_type": "code",
   "execution_count": null,
   "metadata": {},
   "outputs": [],
   "source": [
    "%load_ext autoreload\n",
    "%autoreload 2"
   ]
  },
  {
   "cell_type": "code",
   "execution_count": null,
   "metadata": {},
   "outputs": [],
   "source": [
    "from scipy.spatial.transform import Rotation\n",
    "import numpy as np\n",
    "import polars as pl\n",
    "import seaborn as sns\n",
    "import matplotlib.pyplot as plt\n",
    "from dataclasses import dataclass\n",
    "from pathlib import Path\n",
    "import tqdm\n",
    "from hardspheres_2d import (\n",
    "    HardSpheres,\n",
    "    generate_velocities,\n",
    "    update_spheres,\n",
    "    run_edmd,\n",
    "    PerturbedSpheres,\n",
    ")\n",
    "from typing import Callable\n",
    "from hardspheres_2d.psi6 import calc_psi6_bond_order_given_num_neighbors\n",
    "from hardspheres_2d.hex import place_spheres_hexagonal, plot_spheres\n",
    "from hardspheres_2d.dump import write_xyz_file\n",
    "from hardspheres_2d.util import listify_array"
   ]
  },
  {
   "cell_type": "markdown",
   "metadata": {},
   "source": [
    "## Single hexagonal ring"
   ]
  },
  {
   "cell_type": "markdown",
   "metadata": {},
   "source": [
    "First let's create a rotation object"
   ]
  },
  {
   "cell_type": "code",
   "execution_count": null,
   "metadata": {},
   "outputs": [],
   "source": [
    "R = Rotation.from_euler(\"z\", 60, degrees=True).as_matrix()[:2, :2]\n",
    "R"
   ]
  },
  {
   "cell_type": "markdown",
   "metadata": {},
   "source": [
    "now apply the rotation object to the `[0 1]` vector and create our ring of spheres forming a hexagon ring"
   ]
  },
  {
   "cell_type": "code",
   "execution_count": null,
   "metadata": {},
   "outputs": [],
   "source": [
    "_x = np.array([0.0, 1.0])\n",
    "\n",
    "x_perfect_hexagon = np.array(\n",
    "    [\n",
    "        [0.0, 0.0],\n",
    "        _x,\n",
    "        R @ _x,\n",
    "        R @ R @ _x,\n",
    "        R @ R @ R @ _x,\n",
    "        R @ R @ R @ R @ _x,\n",
    "        R @ R @ R @ R @ R @ _x,\n",
    "    ]\n",
    ")\n",
    "x_perfect_hexagon"
   ]
  },
  {
   "cell_type": "code",
   "execution_count": null,
   "metadata": {},
   "outputs": [],
   "source": [
    "def factory(v: list[list[float]]) -> Callable[[HardSpheres, np.ndarray], HardSpheres]:\n",
    "    _m = listify_array(np.ones(shape=len(v)))\n",
    "\n",
    "    def spheres_with_new_x(s: HardSpheres, new_x: np.ndarray) -> HardSpheres:\n",
    "        return HardSpheres(\n",
    "            x=listify_array(new_x),  # type: ignore\n",
    "            v=v,  # type: ignore\n",
    "            t=s.t,\n",
    "            sigma=s.sigma,\n",
    "            a=s.a,\n",
    "            m=_m,  # type: ignore\n",
    "            dt_snapshot=s.dt_snapshot,\n",
    "            t_snapshot=s.t_snapshot,\n",
    "        )\n",
    "\n",
    "    return spheres_with_new_x"
   ]
  },
  {
   "cell_type": "markdown",
   "metadata": {},
   "source": [
    "Let's instantiate our `HardSpheres` object"
   ]
  },
  {
   "cell_type": "code",
   "execution_count": null,
   "metadata": {},
   "outputs": [],
   "source": [
    "x = listify_array(x_perfect_hexagon)\n",
    "v = listify_array(np.zeros_like(x_perfect_hexagon))\n",
    "m = listify_array(np.ones(shape=x_perfect_hexagon.shape[0]))\n",
    "s = HardSpheres(\n",
    "    x=x,  # type: ignore\n",
    "    v=v,  # type: ignore\n",
    "    t=0.0,\n",
    "    sigma=1.0,\n",
    "    a=10,\n",
    "    m=m,  # type: ignore\n",
    "    dt_snapshot=0.01,\n",
    "    t_snapshot=0.0,\n",
    ")\n",
    "\n",
    "spheres_with_new_x = factory(v)  # type: ignore"
   ]
  },
  {
   "cell_type": "markdown",
   "metadata": {},
   "source": [
    "Let's define some helper function for psi-6 computation"
   ]
  },
  {
   "cell_type": "code",
   "execution_count": null,
   "metadata": {},
   "outputs": [],
   "source": [
    "def get_psi6(s: HardSpheres) -> np.ndarray:\n",
    "    return calc_psi6_bond_order_given_num_neighbors(s, n_neighbors=6)\n",
    "\n",
    "\n",
    "get_psi6(s)"
   ]
  },
  {
   "cell_type": "markdown",
   "metadata": {},
   "source": [
    "### Perturb center sphere only"
   ]
  },
  {
   "cell_type": "code",
   "execution_count": null,
   "metadata": {},
   "outputs": [],
   "source": [
    "def get_perturbed_spheres(\n",
    "    s: HardSpheres, n_samples: int, ixs_perturb: list[int], stds: list[float]\n",
    ") -> list[PerturbedSpheres]:\n",
    "    perturbed_spheres = []\n",
    "    v = s.v\n",
    "    spheres_with_new_x = factory(v)  # type: ignore\n",
    "    for std in stds:\n",
    "        for _ in range(n_samples):\n",
    "            x = s.x\n",
    "            for ix in ixs_perturb:\n",
    "                dx = np.random.normal(scale=std, size=(2,))\n",
    "                x[ix, :] += dx\n",
    "\n",
    "            s_perturbed = spheres_with_new_x(s, x)\n",
    "\n",
    "            psi6 = np.abs(get_psi6(s_perturbed))\n",
    "            perturbed_spheres.append(\n",
    "                PerturbedSpheres(spheres=s_perturbed, std=std, psi6=psi6)\n",
    "            )\n",
    "    return perturbed_spheres\n",
    "\n",
    "\n",
    "n_samples = 10\n",
    "ixs_perturb = [0]\n",
    "stds = [0.001, 0.01, 0.02, 0.03, 0.04, 0.05, 0.06, 0.1, 0.2, 0.3, 0.4, 0.5, 0.6]\n",
    "perturbed_spheres = get_perturbed_spheres(s, n_samples, ixs_perturb, stds)"
   ]
  },
  {
   "cell_type": "code",
   "execution_count": null,
   "metadata": {},
   "outputs": [],
   "source": [
    "perturbed_spheres[-1]"
   ]
  },
  {
   "cell_type": "markdown",
   "metadata": {},
   "source": [
    "Let's have a look"
   ]
  },
  {
   "cell_type": "code",
   "execution_count": null,
   "metadata": {},
   "outputs": [],
   "source": [
    "fig, ax = plt.subplots()\n",
    "for _s in perturbed_spheres:\n",
    "    if _s.std < 0.2:\n",
    "        sns.scatterplot(\n",
    "            x=_s.spheres.x[:, 0], y=_s.spheres.x[:, 1], ax=ax, color=\"red\", alpha=0.4\n",
    "        )\n",
    "    else:\n",
    "        sns.scatterplot(\n",
    "            x=_s.spheres.x[:, 0], y=_s.spheres.x[:, 1], ax=ax, color=\"blue\", alpha=0.05\n",
    "        )\n",
    "\n",
    "plt.tight_layout()"
   ]
  },
  {
   "cell_type": "markdown",
   "metadata": {},
   "source": [
    "Neat, so scattering as expected, to a degree that is reasonable"
   ]
  },
  {
   "cell_type": "markdown",
   "metadata": {},
   "source": [
    "Let's organize the data into a data frame"
   ]
  },
  {
   "cell_type": "code",
   "execution_count": null,
   "metadata": {},
   "outputs": [],
   "source": [
    "def dataframify_perturbed_spheres(\n",
    "    perturbed_spheres: list[PerturbedSpheres],\n",
    ") -> pl.DataFrame:\n",
    "    return pl.DataFrame(\n",
    "        [\n",
    "            {\n",
    "                \"std\": _s.std,\n",
    "                \"psi6\": _s.psi6[ix_perturb],\n",
    "                \"sphere\": ix_perturb,\n",
    "                \"iteration\": iteration,\n",
    "            }\n",
    "            for iteration, _s in enumerate(perturbed_spheres)\n",
    "            for ix_perturb in range(len(_s.psi6))\n",
    "        ]\n",
    "    )\n",
    "\n",
    "\n",
    "df = dataframify_perturbed_spheres(perturbed_spheres)\n",
    "df.head()"
   ]
  },
  {
   "cell_type": "markdown",
   "metadata": {},
   "source": [
    "and inspect the psi-6 values as a function of perturbation of the center sphere"
   ]
  },
  {
   "cell_type": "code",
   "execution_count": null,
   "metadata": {},
   "outputs": [],
   "source": [
    "def plot_psi6_vs_std(df: pl.DataFrame, sphere: int | None = None):\n",
    "    if sphere:\n",
    "        df_stats = df.filter(pl.col(\"sphere\").eq(sphere))\n",
    "    else:\n",
    "        df_stats = df.clone()\n",
    "\n",
    "    df_stats = (\n",
    "        df_stats.group_by(\"std\")\n",
    "        .agg(**{\"psi6-mean\": pl.col(\"psi6\").mean(), \"psi6-std\": pl.col(\"psi6\").std()})\n",
    "        .with_columns(\n",
    "            **{\n",
    "                \"lb\": pl.col(\"psi6-mean\") - pl.col(\"psi6-std\"),\n",
    "                \"ub\": pl.col(\"psi6-mean\") + pl.col(\"psi6-std\"),\n",
    "            }\n",
    "        )\n",
    "    )\n",
    "    df_stats = df_stats.sort(\"std\")\n",
    "\n",
    "    fig, ax = plt.subplots()\n",
    "    ax.fill_between(data=df_stats, x=\"std\", y1=\"lb\", y2=\"ub\", alpha=0.2)\n",
    "    ax.plot(df_stats[\"std\"], df_stats[\"psi6-mean\"])\n",
    "    ax.set_title(f\"Sphere: {sphere}\")\n",
    "    plt.tight_layout()\n",
    "\n",
    "\n",
    "plot_psi6_vs_std(df, sphere=0)"
   ]
  },
  {
   "cell_type": "markdown",
   "metadata": {},
   "source": [
    "So in ideal condition we are at psi-6 = 1 and for stronger perturbations we land around .3"
   ]
  },
  {
   "cell_type": "markdown",
   "metadata": {},
   "source": [
    "### Perturb one or more non-center spheres"
   ]
  },
  {
   "cell_type": "code",
   "execution_count": null,
   "metadata": {},
   "outputs": [],
   "source": [
    "n_samples = 10\n",
    "ixs_perturb = [0, 1, 2, 3, 4, 5, 6]\n",
    "stds = [0.001, 0.01, 0.02, 0.03, 0.04, 0.05, 0.06, 0.1, 0.2, 0.3, 0.4, 0.5, 0.6]\n",
    "perturbed_spheres_hex_random = get_perturbed_spheres(s, n_samples, ixs_perturb, stds)"
   ]
  },
  {
   "cell_type": "code",
   "execution_count": null,
   "metadata": {},
   "outputs": [],
   "source": [
    "df_all = dataframify_perturbed_spheres(perturbed_spheres_hex_random)\n",
    "df_all.head()"
   ]
  },
  {
   "cell_type": "code",
   "execution_count": null,
   "metadata": {},
   "outputs": [],
   "source": [
    "fig, ax = plt.subplots()\n",
    "for _s in perturbed_spheres_hex_random:\n",
    "    if _s.std < 0.1:\n",
    "        sns.scatterplot(\n",
    "            x=_s.spheres.x[:, 0], y=_s.spheres.x[:, 1], ax=ax, color=\"red\", alpha=0.4\n",
    "        )\n",
    "    else:\n",
    "        sns.scatterplot(\n",
    "            x=_s.spheres.x[:, 0], y=_s.spheres.x[:, 1], ax=ax, color=\"blue\", alpha=0.05\n",
    "        )\n",
    "\n",
    "plt.tight_layout()"
   ]
  },
  {
   "cell_type": "markdown",
   "metadata": {},
   "source": [
    "Isn't that pretty? :)"
   ]
  },
  {
   "cell_type": "markdown",
   "metadata": {},
   "source": [
    "So how does the psi-6 for the center sphere behave when all spheres are perturbed?"
   ]
  },
  {
   "cell_type": "code",
   "execution_count": null,
   "metadata": {},
   "outputs": [],
   "source": [
    "plot_psi6_vs_std(df_all, sphere=0)"
   ]
  },
  {
   "cell_type": "markdown",
   "metadata": {},
   "source": [
    "Actually quite similar it seems, with a faster drop from 1 to .3 though"
   ]
  },
  {
   "cell_type": "markdown",
   "metadata": {},
   "source": [
    "So what's that like for the non-center spheres? E.g. sphere 1"
   ]
  },
  {
   "cell_type": "code",
   "execution_count": null,
   "metadata": {},
   "outputs": [],
   "source": [
    "plot_psi6_vs_std(df_all, sphere=1)"
   ]
  },
  {
   "cell_type": "markdown",
   "metadata": {},
   "source": [
    "Well, not surprisingly it did not start at psi-6 = 1 and remains around .3. Not surprising because all its 6 neighbors are not surrounding it but of to one direction. Remember the system is a sphere surrounded by 6 spheres. sphere 1 is one of the spheres in the ring."
   ]
  },
  {
   "cell_type": "markdown",
   "metadata": {},
   "source": [
    "## Perfect hexagon"
   ]
  },
  {
   "cell_type": "markdown",
   "metadata": {},
   "source": [
    "### Random peturbations"
   ]
  },
  {
   "cell_type": "code",
   "execution_count": null,
   "metadata": {},
   "outputs": [],
   "source": [
    "a = 10.0  # Edge length of the square\n",
    "r = 0.5  # Radius of the spheres\n",
    "\n",
    "sphere_centers = place_spheres_hexagonal(a, r, gap=0.1)\n",
    "\n",
    "if sphere_centers.size > 0:\n",
    "    plot_spheres(a, r, sphere_centers)\n",
    "else:\n",
    "    print(\"No spheres could be placed within the given dimensions.\")"
   ]
  },
  {
   "cell_type": "markdown",
   "metadata": {},
   "source": [
    "Isn't that pretty. Maybe stared at this for a bit :-P"
   ]
  },
  {
   "cell_type": "markdown",
   "metadata": {},
   "source": [
    "Let's set up our `HardSpheres` "
   ]
  },
  {
   "cell_type": "code",
   "execution_count": null,
   "metadata": {},
   "outputs": [],
   "source": [
    "s_perfect = HardSpheres(\n",
    "    x=listify_array(sphere_centers),  # type: ignore\n",
    "    v=listify_array(np.zeros_like(sphere_centers)),  # type: ignore\n",
    "    t=0.0,\n",
    "    sigma=r,\n",
    "    a=a,\n",
    "    m=listify_array(np.ones(shape=sphere_centers.shape[0])),  # type: ignore\n",
    "    dt_snapshot=0.01,\n",
    "    t_snapshot=0.0,\n",
    ")"
   ]
  },
  {
   "cell_type": "code",
   "execution_count": null,
   "metadata": {},
   "outputs": [],
   "source": [
    "n_samples = 100\n",
    "ixs_perturb = list(range(sphere_centers.shape[0]))\n",
    "stds = [0.001, 0.01, 0.02, 0.03, 0.04, 0.05, 0.06, 0.1, 0.2, 0.3, 0.4, 0.5, 0.6]\n",
    "perturbed_spheres_hex_random = get_perturbed_spheres(\n",
    "    s_perfect, n_samples, ixs_perturb, stds\n",
    ")"
   ]
  },
  {
   "cell_type": "code",
   "execution_count": null,
   "metadata": {},
   "outputs": [],
   "source": [
    "df_hex_random = dataframify_perturbed_spheres(perturbed_spheres_hex_random)"
   ]
  },
  {
   "cell_type": "code",
   "execution_count": null,
   "metadata": {},
   "outputs": [],
   "source": [
    "plot_psi6_vs_std(df_hex_random)"
   ]
  },
  {
   "cell_type": "markdown",
   "metadata": {},
   "source": [
    "So much more smooth than the single hexagon ring example, but same behavior."
   ]
  },
  {
   "cell_type": "markdown",
   "metadata": {},
   "source": [
    "Optionally write to disk for inspection in ovito"
   ]
  },
  {
   "cell_type": "code",
   "execution_count": null,
   "metadata": {},
   "outputs": [],
   "source": [
    "# sampled_spheres = [p.spheres for p in perturbed_spheres_hex_random]\n",
    "# psi6_abs_n = [p.psi6 for p in perturbed_spheres_hex_random]\n",
    "\n",
    "# file = Path(\"hardspheres-hexagon-sampling.xyz\")\n",
    "\n",
    "# write_xyz_file(\n",
    "#     sampled_spheres,\n",
    "#     file,\n",
    "#     sphere_features={\n",
    "#         \"psi6_n_abs\": psi6_abs_n,\n",
    "\n",
    "#     },\n",
    "# )"
   ]
  },
  {
   "cell_type": "markdown",
   "metadata": {},
   "source": [
    "### Running EDMD"
   ]
  },
  {
   "cell_type": "markdown",
   "metadata": {},
   "source": [
    "Let's run event driven molecular dynamics. So we do the same as above, but more physically motivated mumbling about temperature"
   ]
  },
  {
   "cell_type": "code",
   "execution_count": null,
   "metadata": {},
   "outputs": [],
   "source": [
    "a = 10.0  # Edge length of the square\n",
    "a_ext = a * 1.1\n",
    "r = 0.5  # Radius of the spheres\n",
    "\n",
    "sphere_centers = place_spheres_hexagonal(a, r, gap=0.1)\n",
    "plot_spheres(a_ext, r, sphere_centers, save=False)"
   ]
  },
  {
   "cell_type": "code",
   "execution_count": null,
   "metadata": {},
   "outputs": [],
   "source": [
    "m = np.ones(shape=sphere_centers.shape[0])"
   ]
  },
  {
   "cell_type": "code",
   "execution_count": null,
   "metadata": {},
   "outputs": [],
   "source": [
    "T = 0.01\n",
    "v = generate_velocities(m, dim=2, T=T)\n",
    "\n",
    "sns.histplot(x=v.ravel())"
   ]
  },
  {
   "cell_type": "code",
   "execution_count": null,
   "metadata": {},
   "outputs": [],
   "source": [
    "dt_snapshot = 0.1"
   ]
  },
  {
   "cell_type": "code",
   "execution_count": null,
   "metadata": {},
   "outputs": [],
   "source": [
    "s_edmd = HardSpheres(\n",
    "    x=listify_array(sphere_centers),  # type: ignore\n",
    "    v=listify_array(v),  # type: ignore\n",
    "    t=0.0,\n",
    "    sigma=r,\n",
    "    a=a_ext,\n",
    "    m=list(m),\n",
    "    dt_snapshot=dt_snapshot,\n",
    "    t_snapshot=0.0,\n",
    ")"
   ]
  },
  {
   "cell_type": "markdown",
   "metadata": {},
   "source": [
    "Now let's run edmd with `update_spheres`"
   ]
  },
  {
   "cell_type": "code",
   "execution_count": null,
   "metadata": {},
   "outputs": [],
   "source": [
    "n_iter = 1_000\n",
    "\n",
    "history_spheres, history_psi6_abs_n, history_perturbed_spheres = run_edmd(\n",
    "    s_edmd, n_iter=n_iter, T=T, progress=True, return_extra_info=True\n",
    ")"
   ]
  },
  {
   "cell_type": "markdown",
   "metadata": {},
   "source": [
    "Let's wrangle the data again"
   ]
  },
  {
   "cell_type": "code",
   "execution_count": null,
   "metadata": {},
   "outputs": [],
   "source": [
    "df_edmd = dataframify_perturbed_spheres(history_perturbed_spheres)"
   ]
  },
  {
   "cell_type": "markdown",
   "metadata": {},
   "source": [
    "And visualize psi-6 statistics"
   ]
  },
  {
   "cell_type": "code",
   "execution_count": null,
   "metadata": {},
   "outputs": [],
   "source": [
    "def plot_psi6_vs_time(df: pl.DataFrame, save: bool = False):\n",
    "    df_stats = (\n",
    "        df.group_by(\"iteration\")\n",
    "        .agg(\n",
    "            **{\n",
    "                \"psi6-mean\": pl.col(\"psi6\").mean(),\n",
    "                \"psi6-std\": pl.col(\"psi6\").std(),\n",
    "                \"psi6-max\": pl.col(\"psi6\").max(),\n",
    "                \"psi6-min\": pl.col(\"psi6\").min(),\n",
    "            }\n",
    "        )\n",
    "        .with_columns(\n",
    "            **{\n",
    "                \"lb\": pl.col(\"psi6-mean\") - pl.col(\"psi6-std\"),\n",
    "                \"ub\": pl.col(\"psi6-mean\") + pl.col(\"psi6-std\"),\n",
    "            }\n",
    "        )\n",
    "    )\n",
    "    df_stats = df_stats.sort(\"iteration\")\n",
    "    with sns.axes_style(\"whitegrid\"):\n",
    "        fig, ax = plt.subplots()\n",
    "        ax.fill_between(\n",
    "            data=df_stats,\n",
    "            x=\"iteration\",\n",
    "            y1=\"lb\",\n",
    "            y2=\"ub\",\n",
    "            alpha=0.2,\n",
    "            color=\"blue\",\n",
    "            label=\"mean+-std\",\n",
    "        )\n",
    "        ax.plot(\n",
    "            df_stats[\"iteration\"], df_stats[\"psi6-mean\"], color=\"blue\", label=\"mean\"\n",
    "        )\n",
    "        ax.plot(\n",
    "            df_stats[\"iteration\"],\n",
    "            df_stats[\"psi6-max\"],\n",
    "            color=\"black\",\n",
    "            linestyle=\"--\",\n",
    "            label=\"max\",\n",
    "        )\n",
    "        ax.plot(\n",
    "            df_stats[\"iteration\"],\n",
    "            df_stats[\"psi6-min\"],\n",
    "            color=\"black\",\n",
    "            linestyle=\"dotted\",\n",
    "            label=\"min\",\n",
    "        )\n",
    "        T = df[\"std\"].unique().item()\n",
    "        ax.set_title(f\"Absolute psi6 value for 6 nearest neighbors @ {T=} over time\")\n",
    "        ax.set_ylim(0, 1)\n",
    "        ax.set_xlabel(\"Iteration\")\n",
    "        ax.set_ylabel(\"|psi6|\")\n",
    "        ax.legend(loc=\"upper right\")\n",
    "        plt.tight_layout()\n",
    "        if save:\n",
    "            plt.savefig(\"hardspheres-hexagon-edmd-psi6-over-time.png\")\n",
    "\n",
    "\n",
    "plot_psi6_vs_time(df_edmd, save=False)"
   ]
  },
  {
   "cell_type": "markdown",
   "metadata": {},
   "source": [
    "So similar behavior as with the random perturbations"
   ]
  },
  {
   "cell_type": "code",
   "execution_count": null,
   "metadata": {},
   "outputs": [],
   "source": [
    "# file = Path(\"hardspheres-hexagon-edmd.xyz\")\n",
    "\n",
    "# write_xyz_file(\n",
    "#     history_spheres,\n",
    "#     file,\n",
    "#     sphere_features={\n",
    "#         \"psi6_n_abs\": history_psi6_abs_n,\n",
    "\n",
    "#     },\n",
    "# )"
   ]
  },
  {
   "cell_type": "code",
   "execution_count": null,
   "metadata": {},
   "outputs": [],
   "source": []
  }
 ],
 "metadata": {
  "language_info": {
   "codemirror_mode": {
    "name": "ipython",
    "version": 3
   },
   "file_extension": ".py",
   "mimetype": "text/x-python",
   "name": "python",
   "nbconvert_exporter": "python",
   "pygments_lexer": "ipython3",
   "version": "3.13.1"
  }
 },
 "nbformat": 4,
 "nbformat_minor": 2
}
