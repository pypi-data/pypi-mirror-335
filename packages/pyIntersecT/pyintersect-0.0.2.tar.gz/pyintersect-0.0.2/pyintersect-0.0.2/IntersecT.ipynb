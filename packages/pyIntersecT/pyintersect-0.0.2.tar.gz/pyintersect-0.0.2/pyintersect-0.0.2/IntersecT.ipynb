{
 "cells": [
  {
   "cell_type": "markdown",
   "id": "3512ffb9",
   "metadata": {},
   "source": [
    "![IntersecT Logo](https://github.com/neoscalc/IntersecT/blob/main/src/pyIntersecT/Logo-IntersecT.png?raw=true)"
   ]
  },
  {
   "cell_type": "markdown",
   "id": "2d5352db",
   "metadata": {},
   "source": [
    "# **IntersecT** \n",
    "# Qcmp from Perple_X models\n",
    "---\n",
    "\n",
    "## Introduction\n",
    "Phase diagrams calculated using forward thermodynamic modelling allow users to determine the pressure (*P*) and temperature (*T*) conditions of mineral assemblage formation for a given bulk composition (*X*). In the last decade, several software solutions have provided quantitative approaches where optimal *P–T* conditions can be calculated from a statistical point of view, resulting in a more accurate interpretation of forward model results (e.g., the quality factor implemented in Bingo-Antidote; Duesterhoeft & Lanari, 2020, https://doi.org/10.1111/jmg.12538).\n",
    "\n",
    "Here the quality factor of the composition (hereby **Qcmp**) as described in Duesterhoeft & Lanari (2020) is applied to the Perple_X results, particularly from the WERAMI output. The Qcmp allows the propagation of uncertainties in the measured mineral composition. In addition, IntersecT applies a reduced chi-squared statistics to assess the weight of the considered phases. This allows for the down-weighting of outlier data, whether due to model problems or incorrect assumptions, including disequilibrium features.\n",
    "\n",
    "##### **Requirements**\n",
    "- python\n",
    "- matplotlib\n",
    "- pandas\n",
    "- tkinter\n",
    "- **IntersecT**\n",
    "\n",
    "## Install and import the required libraries"
   ]
  },
  {
   "cell_type": "code",
   "execution_count": null,
   "id": "1c60b3c3-92b4-4fb1-820d-73faab836c59",
   "metadata": {},
   "outputs": [],
   "source": [
    "# install the required packages in a local environment\n",
    "%pip install pyIntersecT"
   ]
  },
  {
   "cell_type": "code",
   "execution_count": null,
   "id": "de99adbe",
   "metadata": {},
   "outputs": [],
   "source": [
    "# import IntersecT\n",
    "from pyIntersecT import IntersecT\n",
    "\n",
    "# create a Quality Factor Analysis object\n",
    "InT = IntersecT.QualityFactorAnalysis()"
   ]
  },
  {
   "cell_type": "markdown",
   "id": "8d4a90d6",
   "metadata": {},
   "source": [
    "## Input files\n",
    "Select your **WERAMI output .tab file**, where you extracted the compositions of your phases supposed to be at equilibrium.\n",
    "\n",
    "N.B. Because it's required to propagate the uncertainty of the measured composition, the extracted composition should be in **a.p.f.u.**"
   ]
  },
  {
   "cell_type": "code",
   "execution_count": null,
   "id": "4eceaede",
   "metadata": {},
   "outputs": [],
   "source": [
    "# import the output file from Perple_X\n",
    "InT.import_output_perplex()"
   ]
  },
  {
   "cell_type": "markdown",
   "id": "5f319e23",
   "metadata": {},
   "source": [
    "Select a second **.txt** input file with the **a.p.f.u. measured compositions** that match the WERAMI .tab file, the **name** of the considered phases in your rock and the **color scheme** you wish to apply."
   ]
  },
  {
   "cell_type": "code",
   "execution_count": null,
   "id": "dc98d349-0dfb-4b58-a0f6-27237ca9b665",
   "metadata": {},
   "outputs": [],
   "source": [
    "# import the measured compositions\n",
    "InT.import_analytical_compo()"
   ]
  },
  {
   "cell_type": "markdown",
   "id": "3157594d",
   "metadata": {},
   "source": [
    "## Output directory\n",
    "Select a directory where to store the output."
   ]
  },
  {
   "cell_type": "code",
   "execution_count": null,
   "id": "219739c9",
   "metadata": {},
   "outputs": [],
   "source": [
    "# set the output directory\n",
    "InT.set_output_directory()"
   ]
  },
  {
   "cell_type": "markdown",
   "id": "a0b1fc0e",
   "metadata": {},
   "source": [
    "## Qcmp calculation\n",
    "This part of the code **calculates the Qcmp**\n",
    "\n",
    "It then integrates the **reduced chi-squared** statistic to calculate a **weighted Qcmp** based on the best reduced chi-squared value for each phase."
   ]
  },
  {
   "cell_type": "markdown",
   "id": "69031ecf",
   "metadata": {},
   "source": [
    "This first part calculates the Qcmp for each **element** extracted from the WERAMI output"
   ]
  },
  {
   "cell_type": "code",
   "execution_count": null,
   "id": "a97a04b1",
   "metadata": {},
   "outputs": [],
   "source": [
    "# calculate the quality factor for each element\n",
    "InT.Qcmp_elem()"
   ]
  },
  {
   "cell_type": "markdown",
   "id": "11e10ec8",
   "metadata": {},
   "source": [
    "This part calculates the Qcmp for each **phase** (combining all elements)"
   ]
  },
  {
   "cell_type": "code",
   "execution_count": null,
   "id": "23e9f2c6",
   "metadata": {},
   "outputs": [],
   "source": [
    "# calculate the quality factor for each phase\n",
    "Qcmp_phase_tot = InT.Qcmp_phase()"
   ]
  },
  {
   "cell_type": "markdown",
   "id": "85aa1949",
   "metadata": {},
   "source": [
    "This calculates the **reduced chi-squared** for each **phase**"
   ]
  },
  {
   "cell_type": "code",
   "execution_count": null,
   "id": "74ebb1bd",
   "metadata": {},
   "outputs": [],
   "source": [
    "# calculate the reduced chi-squared statistic for each phase\n",
    "redchi2_phase = InT.redchi2_phase()"
   ]
  },
  {
   "cell_type": "markdown",
   "id": "f28fb481",
   "metadata": {},
   "source": [
    "This calculates the **reduced chi-squared** for the **overall dataset**"
   ]
  },
  {
   "cell_type": "code",
   "execution_count": null,
   "id": "19aad46a",
   "metadata": {},
   "outputs": [],
   "source": [
    "# calculate the reduced chi-squared statistic for the overall dataset\n",
    "redchi2_allphases = InT.redchi2_tot()"
   ]
  },
  {
   "cell_type": "markdown",
   "id": "dd91529c",
   "metadata": {},
   "source": [
    "This part calculates an **unweighted** Qcmp for the **overall dataset** (combining all phases)"
   ]
  },
  {
   "cell_type": "code",
   "execution_count": null,
   "id": "996671bc",
   "metadata": {},
   "outputs": [],
   "source": [
    "# calculate the unweighted quality factor for the overall dataset\n",
    "Qcmp_allphases = InT.Qcmp_tot(Qcmp_phase_tot, redchi2_phase)"
   ]
  },
  {
   "cell_type": "markdown",
   "id": "4e783a79",
   "metadata": {},
   "source": [
    "Integrating the reduced chi-squared statistic, this calculates a **weighted Qcmp** for the **overall dataset**"
   ]
  },
  {
   "cell_type": "code",
   "execution_count": null,
   "id": "5197cdff",
   "metadata": {},
   "outputs": [],
   "source": [
    "# calculate the weighted quality factor for the overall dataset\n",
    "Qcmp_allphases_weight = InT.Qcmp_tot_weight(Qcmp_phase_tot, redchi2_phase)"
   ]
  }
 ],
 "metadata": {
  "kernelspec": {
   "display_name": "Python 3",
   "language": "python",
   "name": "python3"
  },
  "language_info": {
   "codemirror_mode": {
    "name": "ipython",
    "version": 3
   },
   "file_extension": ".py",
   "mimetype": "text/x-python",
   "name": "python",
   "nbconvert_exporter": "python",
   "pygments_lexer": "ipython3",
   "version": "3.12.1"
  }
 },
 "nbformat": 4,
 "nbformat_minor": 5
}
