{
 "cells": [
  {
   "cell_type": "code",
   "execution_count": 1,
   "metadata": {},
   "outputs": [
    {
     "name": "stdout",
     "output_type": "stream",
     "text": [
      "[autogen.oai.client: 09-16 16:17:15] {315} WARNING - Model gpt-4o-2024-08-06 is not found. The cost will be 0. In your config_list, add field {\"price\" : [prompt_price_per_1k, completion_token_price_per_1k]} for customized pricing.\n",
      "LLM response:\n",
      " {\n",
      "\"reasoning\": \"The instruction asks us to evaluate the solution to the quadratic equation and correct any mistakes in the variable 'str0'. The equation provided is 3x^2 - 7x + 2 = 0. According to the quadratic formula, x = (-b ± √(b^2 - 4ac)) / 2a, the correct interpretation should consider 'b^2 - 4ac' with proper calculation. In 'str0', the terms 'b^2' and '4ac' are shown incorrectly in the quantity under the square root (as '√73' instead of '√(49 - 24)'). Thus, the solutions x1 and x2 are also incorrect in the way they are presented. The proper solutions should be x1 = (7 + √25) / 6, x2 = (7 - √25) / 6. Hence, we need to modify the string in 'str0' accordingly.\",\n",
      "\"answer\": \"\",\n",
      "\"suggestion\": {\n",
      "    \"str0\": \"To solve the equation 3x^2 - 7x + 2 = 0, we use the quadratic formula:\\nx = (-b ± √(b^2 - 4ac)) / 2a\\na = 3, b = -7, c = 2\\nx = (7 ± √(49 - 24)) / 6\\nx = (7 ± √25) / 6\\nThe solutions are:\\nx1 = (7 + √25) / 6\\nx1 = (12) / 6\\nx1 = 2\\nx2 = (7 - √25) / 6\\nx2 = (2) / 6\\nx2 = 1/3\"\n",
      "}\n",
      "}\n",
      "To solve the equation 3x^2 - 7x + 2 = 0, we use the quadratic formula:\n",
      "x = (-b ± √(b^2 - 4ac)) / 2a\n",
      "a = 3, b = -7, c = 2\n",
      "x = (7 ± √(49 - 24)) / 6\n",
      "x = (7 ± √25) / 6\n",
      "The solutions are:\n",
      "x1 = (7 + √25) / 6\n",
      "x1 = (12) / 6\n",
      "x1 = 2\n",
      "x2 = (7 - √25) / 6\n",
      "x2 = (2) / 6\n",
      "x2 = 1/3\n"
     ]
    }
   ],
   "source": [
    "from opto import trace\n",
    "from opto.optimizers import OptoPrime\n",
    "\n",
    "initial_solution = \"\"\"To solve the equation 3x^2 - 7x + 2 = 0, we use the quadratic formula:\n",
    "x = (-b ± √(b^2 - 4ac)) / 2a\n",
    "a = 3, b = -7, c = 2\n",
    "x = (7 ± √((-7)^2 + 4(3)(2))) / 6\n",
    "x = (7 ± √73) / 6\n",
    "The solutions are:\n",
    "x1 = (7 + √73)\n",
    "x2 = (7 - √73)\"\"\"\n",
    "\n",
    "solution = trace.node(initial_solution,\n",
    "                      trainable=True,\n",
    "                      description=\"solution to the math question\")\n",
    "\n",
    "# feedback = \"\"\"1. The discriminant calculation is incorrect: it should be b^2 - 4ac, not b^2 + 4ac.\n",
    "# 2. The final solutions are missing division by 6.\n",
    "# 3. The solutions should be written as fractions., role=response from the language model, grads=set())\n",
    "# \"\"\"\n",
    "\n",
    "feedback = \"Evaluate the solution to a math question and solve it.\"\n",
    "\n",
    "opt = OptoPrime([solution])\n",
    "\n",
    "opt.zero_feedback()\n",
    "solution.backward(feedback)\n",
    "opt.step(verbose='output')\n",
    "print(solution.data)\n"
   ]
  }
 ],
 "metadata": {
  "kernelspec": {
   "display_name": "trace-3.9",
   "language": "python",
   "name": "python3"
  },
  "language_info": {
   "codemirror_mode": {
    "name": "ipython",
    "version": 3
   },
   "file_extension": ".py",
   "mimetype": "text/x-python",
   "name": "python",
   "nbconvert_exporter": "python",
   "pygments_lexer": "ipython3",
   "version": "3.9.19"
  }
 },
 "nbformat": 4,
 "nbformat_minor": 2
}
