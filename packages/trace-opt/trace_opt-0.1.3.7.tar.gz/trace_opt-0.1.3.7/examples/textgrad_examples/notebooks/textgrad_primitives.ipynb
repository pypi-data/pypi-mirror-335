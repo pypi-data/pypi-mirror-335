{
 "cells": [
  {
   "cell_type": "code",
   "execution_count": 1,
   "metadata": {},
   "outputs": [
    {
     "name": "stdout",
     "output_type": "stream",
     "text": [
      "LLM response:\n",
      " {\n",
      "\"reasoning\": \"1. The #Instruction asks for adjustments to the given variables to improve the output based on the feedback provided. 2. The #Feedback states that we need to evaluate the correctness of the sentence, which suggests that there are errors in the sentence that need correction. 3. The variable `str0` has a typo in the word 'sentence' ('sntence'), which needs correction to fulfill the feedback's need to evaluate correctness. Also, the sentence is missing a period at the end to be grammatically correct.\",\n",
      "\"answer\": \"The sentence has a typographical error in 'sntence' which should be 'sentence'. It also lacks punctuation at the end.\",\n",
      "\"suggestion\": {\n",
      "    \"str0\": \"A sentence with a typo.\"\n",
      "}\n",
      "}\n",
      "A sentence with a typo.\n"
     ]
    }
   ],
   "source": [
    "from opto import trace\n",
    "from opto.optimizers import OptoPrime\n",
    "\n",
    "x = trace.node(\"A sntence with a typo\", description=\"The input sentence\", trainable=True)\n",
    "opt = OptoPrime([x])\n",
    "\n",
    "opt.zero_feedback()\n",
    "x.backward(\"Evaluate the correctness of this sentence\")\n",
    "opt.step(verbose='output')\n",
    "\n",
    "print(x.data)\n"
   ]
  }
 ],
 "metadata": {
  "kernelspec": {
   "display_name": "trace-3.9",
   "language": "python",
   "name": "python3"
  },
  "language_info": {
   "codemirror_mode": {
    "name": "ipython",
    "version": 3
   },
   "file_extension": ".py",
   "mimetype": "text/x-python",
   "name": "python",
   "nbconvert_exporter": "python",
   "pygments_lexer": "ipython3",
   "version": "3.9.19"
  }
 },
 "nbformat": 4,
 "nbformat_minor": 2
}
