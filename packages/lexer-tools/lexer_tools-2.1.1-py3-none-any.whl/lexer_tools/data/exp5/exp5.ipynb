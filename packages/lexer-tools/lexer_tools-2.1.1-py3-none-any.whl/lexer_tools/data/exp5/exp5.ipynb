{
 "cells": [
  {
   "cell_type": "code",
   "execution_count": 9,
   "id": "283b8eca",
   "metadata": {},
   "outputs": [],
   "source": [
    "import numpy as np"
   ]
  },
  {
   "cell_type": "code",
   "execution_count": 10,
   "id": "e27a23fb",
   "metadata": {},
   "outputs": [],
   "source": [
    "def forward(transition,initial,emmision,target):\n",
    "    M = len(target)\n",
    "    N = initial.shape[0]\n",
    "    alpha = np.zeros((M, N))\n",
    "    alpha[0, :] = initial * emmision[:,target[0]]\n",
    "    for t in range(1, M):\n",
    "        for j in range(N):\n",
    "            for i in range(N):\n",
    "                alpha[t, j] += alpha[t-1, i] * transition[i, j] * emmision[j, target[t]]\n",
    "    return np.sum(alpha[M-1,:])  "
   ]
  },
  {
   "cell_type": "code",
   "execution_count": 11,
   "id": "cee07036",
   "metadata": {},
   "outputs": [],
   "source": [
    "def backward(transition, initial, emission, target):\n",
    "    M = len(target)\n",
    "    N = initial.shape[0]\n",
    "    beta = np.zeros((M, N))\n",
    "    beta[M-1, :] = 1\n",
    "    for t in range(M-2, -1, -1):\n",
    "        for i in range(N):\n",
    "            for j in range(N):\n",
    "                beta[t, i] += transition[i, j] * emission[j, target[t+1]] * beta[t+1, j]\n",
    "    prob = np.sum(initial * emission[:, target[0]] * beta[0, :])\n",
    "    return prob"
   ]
  },
  {
   "cell_type": "code",
   "execution_count": 12,
   "id": "1672d06b",
   "metadata": {
    "scrolled": true
   },
   "outputs": [
    {
     "name": "stdout",
     "output_type": "stream",
     "text": [
      "Probability of the observed sequence in forward markov model is:  0.02856200000000001\n",
      "Probability of the observed sequence in backward Markov model is:  0.028562000000000008\n"
     ]
    }
   ],
   "source": [
    "def main():\n",
    "    states = 0, 1 \n",
    "    observations = [2, 0, 2]\n",
    "    # Transition Probabilities\n",
    "    A = np.array([[0.5, 0.5], [0.4, 0.6]])\n",
    "    # Initial Probabilities\n",
    "    pi = np.array([0.2,0.8])\n",
    "    # Emmision Probabilities\n",
    "    B = np.array([[0.5, 0.4, 0.1], [0.2, 0.4, 0.4]])\n",
    "    forwardprob = forward(A, pi, B, observations)\n",
    "    print(\"Probability of the observed sequence in forward markov model is: \", forwardprob)\n",
    "    backward_prob = backward(A, pi, B, observations)\n",
    "    print(\"Probability of the observed sequence in backward Markov model is: \", backward_prob)\n",
    "if __name__ == \"__main__\":\n",
    "    main()"
   ]
  },
  {
   "cell_type": "code",
   "execution_count": 18,
   "id": "70bd5e8f",
   "metadata": {},
   "outputs": [
    {
     "name": "stdout",
     "output_type": "stream",
     "text": [
      "Probability of the observed sequence in forward Markov model is:  0.0031560000000000004\n",
      "Probability of the observed sequence in backward Markov model is:  0.003156000000000001\n"
     ]
    }
   ],
   "source": [
    "import math\n",
    "def forwardmath(transition, initial, emission, target):\n",
    "    M = len(target)\n",
    "    N = len(initial)\n",
    "    alpha = [[0] * N for _ in range(M)]\n",
    "    for j in range(N):\n",
    "        alpha[0][j] = initial[j] * emission[j][target[0]]\n",
    "    for t in range(1, M):\n",
    "        for j in range(N):\n",
    "            for i in range(N):\n",
    "                alpha[t][j] += alpha[t-1][i] * transition[i][j] * emission[j][target[t]]\n",
    "    return sum(alpha[M-1])\n",
    "\n",
    "def backwardmath(transition, initial, emission, target):\n",
    "    M = len(target)\n",
    "    N = len(initial)\n",
    "    beta = [[0] * N for _ in range(M)]\n",
    "    for i in range(N):\n",
    "        beta[M-1][i] = 1\n",
    "    for t in range(M-2, -1, -1):\n",
    "        for i in range(N):\n",
    "            for j in range(N):\n",
    "                beta[t][i] += transition[i][j] * emission[j][target[t+1]] * beta[t+1][j]\n",
    "    prob = sum(initial[i] * emission[i][target[0]] * beta[0][i] for i in range(N))\n",
    "    return prob\n",
    "\n",
    "def main():\n",
    "    states = [0, 1]\n",
    "    observations = [3, 0, 2, 1]\n",
    "    A = [[0.8, 0.2], [0.4, 0.6]]\n",
    "    pi = [0.6, 0.4]\n",
    "    B = [[0.1, 0.3, 0.2, 0.4], [0.45, 0.05, 0.2, 0.3]]\n",
    "    forward_prob = forwardmath(A, pi, B, observations)\n",
    "    print(\"Probability of the observed sequence in forward Markov model is: \", forward_prob)\n",
    "    backward_prob = backwardmath(A, pi, B, observations)\n",
    "    print(\"Probability of the observed sequence in backward Markov model is: \", backward_prob)\n",
    "if __name__ == \"__main__\":\n",
    "    main()"
   ]
  },
  {
   "cell_type": "code",
   "execution_count": null,
   "id": "9b020a0a",
   "metadata": {},
   "outputs": [],
   "source": []
  }
 ],
 "metadata": {
  "kernelspec": {
   "display_name": "Python 3 (ipykernel)",
   "language": "python",
   "name": "python3"
  },
  "language_info": {
   "codemirror_mode": {
    "name": "ipython",
    "version": 3
   },
   "file_extension": ".py",
   "mimetype": "text/x-python",
   "name": "python",
   "nbconvert_exporter": "python",
   "pygments_lexer": "ipython3",
   "version": "3.11.3"
  }
 },
 "nbformat": 4,
 "nbformat_minor": 5
}
