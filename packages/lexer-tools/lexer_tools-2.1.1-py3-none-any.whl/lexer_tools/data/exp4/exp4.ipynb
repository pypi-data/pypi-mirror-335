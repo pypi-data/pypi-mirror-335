{
 "cells": [
  {
   "cell_type": "code",
   "execution_count": 1,
   "id": "22cd2768",
   "metadata": {},
   "outputs": [
    {
     "name": "stdout",
     "output_type": "stream",
     "text": [
      "Natural language in handling in processing data . Good natural language in handling in processing speech data and text data . It is a good subject for doing project . Natural language processing in medical field is good to analyze the medical data . Handling Natural language in online shop is more useful .\n"
     ]
    }
   ],
   "source": [
    "f=open('AttachmentAmbiguity.txt')\n",
    "txt=f.read()\n",
    "print(txt)"
   ]
  },
  {
   "cell_type": "code",
   "execution_count": 2,
   "id": "a4d02bc6",
   "metadata": {
    "scrolled": true
   },
   "outputs": [
    {
     "name": "stdout",
     "output_type": "stream",
     "text": [
      "['natural', 'language', 'in', 'handling', 'in', 'processing', 'data', '.', 'good', 'natural', 'language', 'in', 'handling', 'in', 'processing', 'speech', 'data', 'and', 'text', 'data', '.', 'it', 'is', 'a', 'good', 'subject', 'for', 'doing', 'project', '.', 'natural', 'language', 'processing', 'in', 'medical', 'field', 'is', 'good', 'to', 'analyze', 'the', 'medical', 'data', '.', 'handling', 'natural', 'language', 'in', 'online', 'shop', 'is', 'more', 'useful', '.']\n"
     ]
    }
   ],
   "source": [
    "words=txt.lower().split()\n",
    "print(words)"
   ]
  },
  {
   "cell_type": "code",
   "execution_count": 5,
   "id": "a4c2cc26",
   "metadata": {},
   "outputs": [
    {
     "name": "stdout",
     "output_type": "stream",
     "text": [
      "[('natural', 'JJ'), ('language', 'NN'), ('in', 'IN'), ('handling', 'VBG'), ('in', 'IN'), ('processing', 'VBG'), ('data', 'NNS'), ('.', '.'), ('good', 'JJ'), ('natural', 'JJ'), ('language', 'NN'), ('in', 'IN'), ('handling', 'VBG'), ('in', 'IN'), ('processing', 'VBG'), ('speech', 'NN'), ('data', 'NNS'), ('and', 'CC'), ('text', 'NN'), ('data', 'NNS'), ('.', '.'), ('it', 'PRP'), ('is', 'VBZ'), ('a', 'DT'), ('good', 'JJ'), ('subject', 'NN'), ('for', 'IN'), ('doing', 'VBG'), ('project', 'NN'), ('.', '.'), ('natural', 'JJ'), ('language', 'NN'), ('processing', 'NN'), ('in', 'IN'), ('medical', 'JJ'), ('field', 'NN'), ('is', 'VBZ'), ('good', 'JJ'), ('to', 'TO'), ('analyze', 'VB'), ('the', 'DT'), ('medical', 'JJ'), ('data', 'NNS'), ('.', '.'), ('handling', 'VBG'), ('natural', 'JJ'), ('language', 'NN'), ('in', 'IN'), ('online', 'NN'), ('shop', 'NN'), ('is', 'VBZ'), ('more', 'RBR'), ('useful', 'JJ'), ('.', '.')]\n"
     ]
    }
   ],
   "source": [
    "import nltk\n",
    "import math\n",
    "tags=nltk.pos_tag(words)\n",
    "print(tags)"
   ]
  },
  {
   "cell_type": "code",
   "execution_count": 7,
   "id": "5ad77524",
   "metadata": {},
   "outputs": [
    {
     "name": "stdout",
     "output_type": "stream",
     "text": [
      "Nouns :  ['language', 'data', 'language', 'speech', 'data', 'text', 'data', 'subject', 'project', 'language', 'processing', 'field', 'data', 'language', 'online', 'shop']\n",
      "Verbs :  ['handling', 'processing', 'handling', 'processing', 'is', 'doing', 'is', 'analyze', 'handling', 'is']\n",
      "Prepositions :  ['in', 'in', 'in', 'in', 'for', 'in', 'in']\n"
     ]
    }
   ],
   "source": [
    "nouns,verbs,prep=[],[],[]\n",
    "for i in range(len(tags)):\n",
    "    if tags[i][1] == 'NN' or tags[i][1] == 'NNS':\n",
    "        nouns.append(tags[i][0])\n",
    "    if tags[i][1] == 'VB' or tags[i][1] == 'VBN' or tags[i][1] == 'VBZ' or tags[i][1] == 'VBG':\n",
    "        verbs.append(tags[i][0])\n",
    "    if tags[i][1] == 'IN':\n",
    "        prep.append(tags[i][0])\n",
    "print(\"Nouns : \",nouns)\n",
    "print(\"Verbs : \",verbs)\n",
    "print(\"Prepositions : \",prep)"
   ]
  },
  {
   "cell_type": "code",
   "execution_count": 8,
   "id": "bac938d2",
   "metadata": {},
   "outputs": [
    {
     "name": "stdout",
     "output_type": "stream",
     "text": [
      "['natural language', 'language in', 'in handling', 'handling in', 'in processing', 'processing data', 'data .', '. good', 'good natural', 'natural language', 'language in', 'in handling', 'handling in', 'in processing', 'processing speech', 'speech data', 'data and', 'and text', 'text data', 'data .', '. it', 'it is', 'is a', 'a good', 'good subject', 'subject for', 'for doing', 'doing project', 'project .', '. natural', 'natural language', 'language processing', 'processing in', 'in medical', 'medical field', 'field is', 'is good', 'good to', 'to analyze', 'analyze the', 'the medical', 'medical data', 'data .', '. handling', 'handling natural', 'natural language', 'language in', 'in online', 'online shop', 'shop is', 'is more', 'more useful', 'useful .']\n"
     ]
    }
   ],
   "source": [
    "bigramwords=[]\n",
    "for i in range(len(words)-1):\n",
    "    bigramwords.append(words[i]+\" \"+words[i+1])\n",
    "print(bigramwords)"
   ]
  },
  {
   "cell_type": "code",
   "execution_count": 18,
   "id": "7b3be1fc",
   "metadata": {},
   "outputs": [],
   "source": [
    "def hindle_rooth(v,n,p):\n",
    "    verb_count = words.count(v)\n",
    "    noun_count = words.count(n)\n",
    "    prep_count = words.count(p)\n",
    "    verb_prep_count=bigramwords.count(v+\" \"+p)\n",
    "    noun_prep_count=bigramwords.count(n+\" \"+p)\n",
    "    p1=verb_prep_count/verb_count\n",
    "    p2=noun_prep_count/noun_count\n",
    "    p3=1-p2\n",
    "    result=(p1*p3)/p2\n",
    "    result=math.log(result,2)\n",
    "    framing(verb_count,noun_count,verb_prep_count,noun_prep_count,v,n,prep,result)"
   ]
  },
  {
   "cell_type": "code",
   "execution_count": 19,
   "id": "633f1225",
   "metadata": {},
   "outputs": [
    {
     "name": "stdout",
     "output_type": "stream",
     "text": [
      "           W  C(W)  C(W+P)\n",
      "->  handling     3       2\n",
      "->  language     4       3\n",
      "\n",
      "\n",
      "Noun:  language\n",
      "Verb:  handling\n",
      "Preposition:  ['in', 'in', 'in', 'in', 'for', 'in', 'in']\n",
      "Result:  -2.1699250014423126\n",
      "Preposition attaches with Noun\n"
     ]
    }
   ],
   "source": [
    "import pandas as pd\n",
    "def framing(v,n,vp,np,verb,noun,prep,result):\n",
    "    data={\"W\": [verb,noun],\"C(W)\": [v,n],\"C(W+P)\":[vp,np]}\n",
    "    df=pd.DataFrame(data,index=[\"->\",\"->\"])\n",
    "    print(df)\n",
    "    print('\\n')\n",
    "    print(\"Noun: \",noun)\n",
    "    print(\"Verb: \",verb)\n",
    "    print(\"Preposition: \",prep)\n",
    "    print(\"Result: \",result)\n",
    "    if result>0:\n",
    "        print(\"Prepositon attaches with verb\")\n",
    "    else :\n",
    "        print(\"Preposition attaches with Noun\")\n",
    "hindle_rooth(\"handling\",\"language\",\"in\")"
   ]
  },
  {
   "cell_type": "code",
   "execution_count": null,
   "id": "201e5676",
   "metadata": {},
   "outputs": [],
   "source": []
  }
 ],
 "metadata": {
  "kernelspec": {
   "display_name": "Python 3 (ipykernel)",
   "language": "python",
   "name": "python3"
  },
  "language_info": {
   "codemirror_mode": {
    "name": "ipython",
    "version": 3
   },
   "file_extension": ".py",
   "mimetype": "text/x-python",
   "name": "python",
   "nbconvert_exporter": "python",
   "pygments_lexer": "ipython3",
   "version": "3.11.3"
  }
 },
 "nbformat": 4,
 "nbformat_minor": 5
}
