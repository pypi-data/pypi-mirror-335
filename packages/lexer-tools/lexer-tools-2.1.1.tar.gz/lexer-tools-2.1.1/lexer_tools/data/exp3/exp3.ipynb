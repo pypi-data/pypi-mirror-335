{
 "cells": [
  {
   "cell_type": "code",
   "execution_count": 1,
   "id": "0b4d5257",
   "metadata": {},
   "outputs": [],
   "source": [
    "import nltk\n",
    "from nltk.corpus import stopwords\n",
    "from nltk.tokenize import word_tokenize\n",
    "import pandas as pd\n",
    "import math"
   ]
  },
  {
   "cell_type": "code",
   "execution_count": 2,
   "id": "29134f01",
   "metadata": {},
   "outputs": [
    {
     "name": "stdout",
     "output_type": "stream",
     "text": [
      "[\"He acts as the IT deparment's chair: Position\", 'He is seated in a steel chair : furniture', 'chair does not interfere in daytoday company matters : Position', 'I need a chair to sit : furniture', 'He is lying down on a chair : furniture']\n"
     ]
    }
   ],
   "source": [
    "f=open('Text.txt')\n",
    "text=f.read()\n",
    "data=text.splitlines()\n",
    "print(data)"
   ]
  },
  {
   "cell_type": "code",
   "execution_count": 3,
   "id": "013b6209",
   "metadata": {},
   "outputs": [
    {
     "name": "stdout",
     "output_type": "stream",
     "text": [
      "[['He', 'acts', 'as', 'the', 'IT', 'deparment', \"'s\", 'chair', ':', 'Position'], ['He', 'is', 'seated', 'in', 'a', 'steel', 'chair', ':', 'furniture'], ['chair', 'does', 'not', 'interfere', 'in', 'daytoday', 'company', 'matters', ':', 'Position'], ['I', 'need', 'a', 'chair', 'to', 'sit', ':', 'furniture'], ['He', 'is', 'lying', 'down', 'on', 'a', 'chair', ':', 'furniture']]\n"
     ]
    }
   ],
   "source": [
    "ds=list()\n",
    "for i in data:\n",
    "    tokens=word_tokenize(i)\n",
    "    ds.append(tokens)\n",
    "print(ds)"
   ]
  },
  {
   "cell_type": "code",
   "execution_count": 4,
   "id": "526fb867",
   "metadata": {},
   "outputs": [
    {
     "name": "stdout",
     "output_type": "stream",
     "text": [
      "enter the sentenceI'm the department chair for IT\n"
     ]
    }
   ],
   "source": [
    "testsen=input(\"enter the sentence\")"
   ]
  },
  {
   "cell_type": "code",
   "execution_count": 5,
   "id": "f89d30a9",
   "metadata": {},
   "outputs": [],
   "source": [
    "testsen=testsen.split(\" \")"
   ]
  },
  {
   "cell_type": "code",
   "execution_count": 6,
   "id": "7a2f84c8",
   "metadata": {},
   "outputs": [
    {
     "name": "stdout",
     "output_type": "stream",
     "text": [
      "enter the word to find its sense in the given input : chair\n"
     ]
    }
   ],
   "source": [
    "senseword=input(\"enter the word to find its sense in the given input : \")"
   ]
  },
  {
   "cell_type": "code",
   "execution_count": 7,
   "id": "957ed3f7",
   "metadata": {},
   "outputs": [
    {
     "name": "stdout",
     "output_type": "stream",
     "text": [
      "enter the sense 1: Position\n",
      "enter the sense 2: furniture\n"
     ]
    }
   ],
   "source": [
    "s1=input('enter the sense 1: ')\n",
    "s2=input('enter the sense 2: ')"
   ]
  },
  {
   "cell_type": "code",
   "execution_count": 8,
   "id": "bbc72a36",
   "metadata": {},
   "outputs": [
    {
     "name": "stdout",
     "output_type": "stream",
     "text": [
      "2.0\n",
      "3.0\n"
     ]
    }
   ],
   "source": [
    "cf=float(text.count(s1))\n",
    "cp=float(text.count(s2))\n",
    "print(cf)\n",
    "print(cp)"
   ]
  },
  {
   "cell_type": "code",
   "execution_count": 9,
   "id": "c2239384",
   "metadata": {},
   "outputs": [
    {
     "name": "stdout",
     "output_type": "stream",
     "text": [
      "2.502500340529183\n",
      "2.0874628412503395\n"
     ]
    }
   ],
   "source": [
    "scoref=-math.log2((cf+1)/(cp+cf+12))\n",
    "scorep=-math.log2((cp+1)/(cp+cf+12))\n",
    "print(scoref)\n",
    "print(scorep)"
   ]
  },
  {
   "cell_type": "code",
   "execution_count": 10,
   "id": "eb19b8a0",
   "metadata": {},
   "outputs": [
    {
     "name": "stdout",
     "output_type": "stream",
     "text": [
      "[['He', 'acts', 'as', 'the', 'IT', 'deparment', \"'s\", 'chair', ':', 'Position'], ['chair', 'does', 'not', 'interfere', 'in', 'daytoday', 'company', 'matters', ':', 'Position']]\n",
      "[['He', 'is', 'seated', 'in', 'a', 'steel', 'chair', ':', 'furniture'], ['I', 'need', 'a', 'chair', 'to', 'sit', ':', 'furniture'], ['He', 'is', 'lying', 'down', 'on', 'a', 'chair', ':', 'furniture']]\n"
     ]
    }
   ],
   "source": [
    "fur=list()\n",
    "pos=list()\n",
    "for i in ds:\n",
    "    if(s1 in i):\n",
    "        fur.append(i)\n",
    "    else:\n",
    "        pos.append(i)\n",
    "print(fur)\n",
    "print(pos)"
   ]
  },
  {
   "cell_type": "code",
   "execution_count": 11,
   "id": "766dcee5",
   "metadata": {},
   "outputs": [
    {
     "name": "stdout",
     "output_type": "stream",
     "text": [
      "['He', 'acts', 'as', 'the', 'IT', 'deparment', \"'s\", 'chair', ':', 'Position', 'He', 'is', 'seated', 'in', 'a', 'steel', 'chair', ':', 'furniture', 'chair', 'does', 'not', 'interfere', 'in', 'daytoday', 'company', 'matters', ':', 'Position', 'I', 'need', 'a', 'chair', 'to', 'sit', ':', 'furniture', 'He', 'is', 'lying', 'down', 'on', 'a', 'chair', ':', 'furniture']\n"
     ]
    }
   ],
   "source": [
    "worlis=word_tokenize(text)\n",
    "print(worlis)"
   ]
  },
  {
   "cell_type": "code",
   "execution_count": 18,
   "id": "46b6d23e",
   "metadata": {},
   "outputs": [],
   "source": [
    "problistf=list()\n",
    "problistp=list()\n",
    "for word in worlis:\n",
    "    p=0\n",
    "    f=0\n",
    "    wf=list()\n",
    "    wp=list()\n",
    "    for i in fur:\n",
    "        if(word in i):\n",
    "            f=f+1\n",
    "    wf.append(word)\n",
    "    wf.append(-math.log2((p+1)/(cp+12)))\n",
    "    if(wp not in problistf):\n",
    "        problistf.append(wp)\n",
    "    for i in pos:\n",
    "        if(word in i):\n",
    "            p=p+1\n",
    "    wp.append(word)\n",
    "    wp.append(-math.log((p+1)/(cp+12)))\n",
    "    if(wp not in problistp):\n",
    "        problistp.append(wp)\n",
    "    #scoref=scoref + math.log2((f+1)/(cf+12))\n",
    "    #scorep=scorep+math.log2(((p+1)/(cp+12)))\n"
   ]
  },
  {
   "cell_type": "code",
   "execution_count": 19,
   "id": "ae064b7d",
   "metadata": {},
   "outputs": [
    {
     "data": {
      "text/plain": [
       "[['He', 1.6094379124341003],\n",
       " ['acts', 2.70805020110221],\n",
       " ['as', 2.70805020110221],\n",
       " ['the', 2.70805020110221],\n",
       " ['IT', 2.70805020110221],\n",
       " ['deparment', 2.70805020110221],\n",
       " [\"'s\", 2.70805020110221],\n",
       " ['chair', 1.3217558399823195],\n",
       " [':', 1.3217558399823195],\n",
       " ['Position', 2.70805020110221],\n",
       " ['He', 1.6094379124341003],\n",
       " ['is', 1.6094379124341003],\n",
       " ['seated', 2.0149030205422647],\n",
       " ['in', 2.0149030205422647],\n",
       " ['a', 1.3217558399823195],\n",
       " ['steel', 2.0149030205422647],\n",
       " ['chair', 1.3217558399823195],\n",
       " [':', 1.3217558399823195],\n",
       " ['furniture', 1.3217558399823195],\n",
       " ['chair', 1.3217558399823195],\n",
       " ['does', 2.70805020110221],\n",
       " ['not', 2.70805020110221],\n",
       " ['interfere', 2.70805020110221],\n",
       " ['in', 2.0149030205422647],\n",
       " ['daytoday', 2.70805020110221],\n",
       " ['company', 2.70805020110221],\n",
       " ['matters', 2.70805020110221],\n",
       " [':', 1.3217558399823195],\n",
       " ['Position', 2.70805020110221],\n",
       " ['I', 2.0149030205422647],\n",
       " ['need', 2.0149030205422647],\n",
       " ['a', 1.3217558399823195],\n",
       " ['chair', 1.3217558399823195],\n",
       " ['to', 2.0149030205422647],\n",
       " ['sit', 2.0149030205422647],\n",
       " [':', 1.3217558399823195],\n",
       " ['furniture', 1.3217558399823195],\n",
       " ['He', 1.6094379124341003],\n",
       " ['is', 1.6094379124341003],\n",
       " ['lying', 2.0149030205422647],\n",
       " ['down', 2.0149030205422647],\n",
       " ['on', 2.0149030205422647],\n",
       " ['a', 1.3217558399823195],\n",
       " ['chair', 1.3217558399823195],\n",
       " [':', 1.3217558399823195],\n",
       " ['furniture', 1.3217558399823195]]"
      ]
     },
     "execution_count": 19,
     "metadata": {},
     "output_type": "execute_result"
    }
   ],
   "source": [
    "problistf"
   ]
  },
  {
   "cell_type": "code",
   "execution_count": 20,
   "id": "659248f9",
   "metadata": {},
   "outputs": [
    {
     "name": "stdout",
     "output_type": "stream",
     "text": [
      "the given chair is of sense Position in the given sentence\n"
     ]
    }
   ],
   "source": [
    "for word in testsen:\n",
    "    for i in problistf:\n",
    "        if(word in i):\n",
    "            scoref =scoref+i[1]\n",
    "    for i in problistp:\n",
    "        if(word in i):\n",
    "            scorep=scorep+i[1]\n",
    "if(scorep > scoref):\n",
    "    print(\"the given\",senseword,\"is of sense\",s2,\"in the given sentence\")\n",
    "else:\n",
    "    print(\"the given\",senseword,\"is of sense\",s1,\"in the given sentence\")"
   ]
  },
  {
   "cell_type": "code",
   "execution_count": null,
   "id": "938f84c3",
   "metadata": {},
   "outputs": [],
   "source": []
  }
 ],
 "metadata": {
  "kernelspec": {
   "display_name": "Python 3 (ipykernel)",
   "language": "python",
   "name": "python3"
  },
  "language_info": {
   "codemirror_mode": {
    "name": "ipython",
    "version": 3
   },
   "file_extension": ".py",
   "mimetype": "text/x-python",
   "name": "python",
   "nbconvert_exporter": "python",
   "pygments_lexer": "ipython3",
   "version": "3.11.3"
  }
 },
 "nbformat": 4,
 "nbformat_minor": 5
}
