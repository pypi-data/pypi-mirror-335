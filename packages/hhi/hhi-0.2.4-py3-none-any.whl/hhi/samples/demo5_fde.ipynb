{
 "cells": [
  {
   "cell_type": "markdown",
   "metadata": {},
   "source": [
    "## Mode simulations with GDSfactory\n",
    "\n",
    "In this notebook we will exemplify how customers of [Fraunhofer HHI Photonic InP Foundry](https://www.hhi.fraunhofer.de/en/departments/pc/research-groups/photonic-inp-foundry.html) might use the [GDSfactory](https://gdsfactory.github.io/gdsfactory/) HHI PDK to \n",
    "- design their own passive photonic device on the Fraunhofer HHI InP MPW platform\n",
    "- simulate it using the GDSfactory plugins for Mode solvers\n",
    "\n",
    "Also, it will highlight some of the current limitations of the GDSfactory PDK in the context of layout-driven simulations.\n",
    "\n",
    "In the future such workflows will be easily extended to circuit level simulations.\n",
    "\n",
    "### Simple Waveguide\n",
    "\n",
    "Let's start by designing the basic HHI E1700 waveguide using the GDSfactory PDK.\n"
   ]
  },
  {
   "cell_type": "code",
   "execution_count": null,
   "metadata": {},
   "outputs": [],
   "source": [
    "import gdsfactory as gf\n",
    "import gplugins.femwell.mode_solver as gm\n",
    "\n",
    "import hhi\n",
    "\n",
    "WG = gf.components.straight(cross_section=\"E1700\", length=10)"
   ]
  },
  {
   "cell_type": "code",
   "execution_count": null,
   "metadata": {},
   "outputs": [],
   "source": [
    "modes = gm.compute_component_slice_modes(\n",
    "    WG,\n",
    "    xsection_bounds=((5, -4), (5, 4)),\n",
    "    layer_stack=hhi.LAYER_STACK,\n",
    "    default_characteristic_length=0.1,\n",
    "    material_name_to_index=hhi.MATERIALS_INDEX,\n",
    ")"
   ]
  },
  {
   "cell_type": "code",
   "execution_count": null,
   "metadata": {},
   "outputs": [],
   "source": [
    "m = modes[0]"
   ]
  },
  {
   "cell_type": "code",
   "execution_count": null,
   "metadata": {},
   "outputs": [],
   "source": [
    "m.basis_epsilon_r.plot(m.epsilon_r.real)"
   ]
  },
  {
   "cell_type": "code",
   "execution_count": null,
   "metadata": {},
   "outputs": [],
   "source": [
    "modes[0].show(abs(modes[0].E) ** 2, colorbar=True, direction=\"x\")"
   ]
  },
  {
   "cell_type": "code",
   "execution_count": null,
   "metadata": {},
   "outputs": [],
   "source": []
  }
 ],
 "metadata": {
  "kernelspec": {
   "display_name": ".venv",
   "language": "python",
   "name": "python3"
  },
  "language_info": {
   "codemirror_mode": {
    "name": "ipython",
    "version": 3
   },
   "file_extension": ".py",
   "mimetype": "text/x-python",
   "name": "python",
   "nbconvert_exporter": "python",
   "pygments_lexer": "ipython3",
   "version": "3.11.2"
  }
 },
 "nbformat": 4,
 "nbformat_minor": 2
}
