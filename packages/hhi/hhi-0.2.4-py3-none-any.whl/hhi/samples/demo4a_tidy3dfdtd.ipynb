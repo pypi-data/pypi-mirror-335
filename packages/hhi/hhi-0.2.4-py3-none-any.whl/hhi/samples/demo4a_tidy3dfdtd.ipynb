{
 "cells": [
  {
   "cell_type": "markdown",
   "metadata": {},
   "source": [
    "# Coupler Simulation with FDTD tidy3d\n",
    "\n",
    "tidy3D is a fast GPU based FDTD tool developed by flexcompute.\n",
    "\n",
    "To run, you need to create an account and add credits. The number of credits that each simulation takes depends on the simulation size and computation time."
   ]
  },
  {
   "cell_type": "code",
   "execution_count": null,
   "metadata": {},
   "outputs": [],
   "source": [
    "import gdsfactory as gf\n",
    "import gplugins.tidy3d as gt\n",
    "import matplotlib.pyplot as plt\n",
    "import numpy as np\n",
    "import tidy3d as td\n",
    "from simulib import materials  # an HHI internal library, not for customers\n",
    "\n",
    "from hhi import LAYER_STACK\n",
    "\n",
    "LAYER_STACK.pprint()\n",
    "\n",
    "nm = 1e-3\n",
    "wavelength = np.linspace(1300, 1700, 101) * nm\n",
    "f = td.C_0 / wavelength"
   ]
  },
  {
   "cell_type": "markdown",
   "metadata": {},
   "source": [
    "## Materials\n",
    "\n",
    "To use gdsfactory LayerStack for different PDKs into tidy3d you have to create a mapping between each material name from the LayerStack into a tidy3d Medium.\n",
    "\n",
    "For the HHI E1700 stack, we take InP & SiN from the default tidy3d materials database and for Q(1.06), we use the [simulib materials library](https://gitlab.fe.hhi.de/hogan/simulib/-/blob/master/simulib/materials.py?ref_type=heads), where we have a Broberg/Sellmeier model for $\\text{In}_{x}\\text{Ga}_{1-x}\\text{As}_{y}\\text{P}_{1-y}$ alloys."
   ]
  },
  {
   "cell_type": "code",
   "execution_count": null,
   "metadata": {},
   "outputs": [],
   "source": [
    "# Define a mapping of pdk material names to tidy3d medium objects\n",
    "mapping = {\n",
    "    \"InP\": td.material_library[\"InP\"][\"Palik_Lossless\"],\n",
    "    \"Q(1.06)\": materials.get_tidy3d_medium_isotropic(\"Q(1.06)\", \"broberg\", wavelength),\n",
    "    \"sin\": td.material_library[\"SiN\"][\"Horiba\"],\n",
    "}\n",
    "\n",
    "\n",
    "# Plot the material dispersions\n",
    "\n",
    "fig, ax = plt.subplots()\n",
    "ax.set(xlabel=\"Wavelength (nm)\", ylabel=r\"$n$\")\n",
    "for material_name, medium in mapping.items():\n",
    "    eps_complex = medium.eps_model(f)\n",
    "    n, k = td.Medium.eps_complex_to_nk(eps_complex)\n",
    "    # Plot the refractive index and extinction coefficient\n",
    "    ax.plot(wavelength * 1e3, n, label=material_name)\n",
    "\n",
    "ax.legend()\n",
    "\n",
    "\n",
    "plt.show()"
   ]
  },
  {
   "cell_type": "markdown",
   "metadata": {},
   "source": [
    "## Create Component\n",
    "\n",
    "So get the geometry of the MMI2x2, we can either import a GDS or we can easily create it with gdsfactory."
   ]
  },
  {
   "cell_type": "code",
   "execution_count": null,
   "metadata": {},
   "outputs": [],
   "source": [
    "CR = gf.components.coupler_ring(cross_section=\"E1700\", gap=1, radius=250)\n",
    "CR.show()"
   ]
  },
  {
   "cell_type": "markdown",
   "metadata": {},
   "source": [
    "## Simulation Setup\n",
    "\n",
    "The gdsfactory plugin for tidy3d allows us to create a simulation object from the component, the material mapping, and HHI LayerStack."
   ]
  },
  {
   "cell_type": "code",
   "execution_count": null,
   "metadata": {},
   "outputs": [],
   "source": [
    "# Needed since /gplugins/common/base_models/component.py#L205 get_port_layers needs to be fixed\n",
    "LAYER_STACK.layers[\"core\"] = LAYER_STACK.layers.pop(\"E1700_3\")\n",
    "\n",
    "# Setup the tidy3d component\n",
    "c = gt.Tidy3DComponent(\n",
    "    component=CR,\n",
    "    layer_stack=LAYER_STACK,\n",
    "    material_mapping=mapping,  # gt.material_name_to_medium,  # mapping,\n",
    "    pad_xy_inner=2.0,\n",
    "    pad_xy_outer=2.0,\n",
    "    pad_z_inner=0,\n",
    "    pad_z_outer=0,\n",
    "    extend_ports=2.0,\n",
    ")\n",
    "\n",
    "# plot the component and the layerstack\n",
    "fig = plt.figure(constrained_layout=True)\n",
    "gs = fig.add_gridspec(ncols=2, nrows=3, width_ratios=(7, 1))\n",
    "ax0 = fig.add_subplot(gs[0, 0])\n",
    "ax1 = fig.add_subplot(gs[1, 0])\n",
    "ax2 = fig.add_subplot(gs[2, 0])\n",
    "axl = fig.add_subplot(gs[1, 1])\n",
    "c.plot_slice(x=\"core\", ax=ax0)\n",
    "c.plot_slice(y=\"core\", ax=ax1)\n",
    "c.plot_slice(z=\"core\", ax=ax2)\n",
    "handles, labels = ax0.get_legend_handles_labels()\n",
    "labels = [\n",
    "    label.__add__(\"_\" + LAYER_STACK[label].material)\n",
    "    if label in LAYER_STACK.layers\n",
    "    else label\n",
    "    for label in labels\n",
    "]\n",
    "\n",
    "axl.legend(handles, labels, loc=\"center\")\n",
    "axl.axis(\"off\")\n",
    "plt.show()\n",
    "\n",
    "# # initialize the tidy3d ComponentModeler\n",
    "# modeler = c.get_component_modeler(\n",
    "#     center_z=\"E1700_3\", port_size_mult=(6, 4), sim_size_z=3.0\n",
    "# )"
   ]
  },
  {
   "cell_type": "code",
   "execution_count": null,
   "metadata": {},
   "outputs": [],
   "source": [
    "c.plot_slice(x=\"core\")"
   ]
  },
  {
   "cell_type": "code",
   "execution_count": null,
   "metadata": {},
   "outputs": [],
   "source": [
    "# initialize the tidy3d ComponentModeler\n",
    "modeler = c.get_component_modeler(\n",
    "    center_z=\"core\", port_size_mult=(6, 4), sim_size_z=3.0\n",
    ")\n",
    "\n",
    "# we can plot the tidy3d simulation setup\n",
    "fig, ax = plt.subplots(2, 1)\n",
    "modeler.plot_sim(z=c.get_layer_center(\"core\")[2], ax=ax[0])\n",
    "modeler.plot_sim(x=c.ports[0].center[0], ax=ax[1])\n",
    "fig.tight_layout()\n",
    "plt.show()"
   ]
  },
  {
   "cell_type": "markdown",
   "metadata": {},
   "source": []
  }
 ],
 "metadata": {
  "kernelspec": {
   "display_name": ".venv",
   "language": "python",
   "name": "python3"
  },
  "language_info": {
   "codemirror_mode": {
    "name": "ipython",
    "version": 3
   },
   "file_extension": ".py",
   "mimetype": "text/x-python",
   "name": "python",
   "nbconvert_exporter": "python",
   "pygments_lexer": "ipython3",
   "version": "3.11.2"
  }
 },
 "nbformat": 4,
 "nbformat_minor": 2
}
