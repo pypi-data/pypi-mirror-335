{
 "cells": [
  {
   "cell_type": "markdown",
   "metadata": {},
   "source": [
    "## FDTD Lumerical integration with GDSfactory\n",
    "\n",
    "In this notebook we will exemplify how customers of [Fraunhofer HHI Photonic InP Foundry](https://www.hhi.fraunhofer.de/en/departments/pc/research-groups/photonic-inp-foundry.html) might use the [GDSfactory](https://gdsfactory.github.io/gdsfactory/) HHI PDK to \n",
    "- design their own passive photonic device on the Fraunhofer HHI InP MPW platform\n",
    "- simulate it using the [GDSfactory Lumerical FDTD plugin](https://gdsfactory.github.io/gplugins/notebooks/lumerical_1_fdtd_sparameters.html#).\n",
    "\n",
    "Also, it will highlight some of the current limitations of the GDSfactory PDK in the context of layout-driven simulations.\n",
    "\n",
    "In the future such workflows will be easily extended to circuit level simulations.\n",
    "\n",
    "### Design a simple passive photonic device\n",
    "Let's assume we want to design something with a coupler ring. We will use the GDSfactory PDK to design a simple ring resonator.\n",
    "\n"
   ]
  },
  {
   "cell_type": "code",
   "execution_count": null,
   "metadata": {},
   "outputs": [],
   "source": [
    "import gdsfactory as gf\n",
    "import gplugins.lumerical as sim\n",
    "\n",
    "CR = gf.components.coupler_ring(cross_section=\"E1700\", gap=1, radius=100)\n",
    "CR.to_3d().show()"
   ]
  },
  {
   "cell_type": "code",
   "execution_count": null,
   "metadata": {},
   "outputs": [],
   "source": [
    "sim.write_sparameters_lumerical(CR)"
   ]
  },
  {
   "cell_type": "markdown",
   "metadata": {},
   "source": []
  },
  {
   "cell_type": "code",
   "execution_count": null,
   "metadata": {},
   "outputs": [],
   "source": []
  },
  {
   "cell_type": "markdown",
   "metadata": {},
   "source": []
  },
  {
   "cell_type": "code",
   "execution_count": null,
   "metadata": {},
   "outputs": [],
   "source": []
  },
  {
   "cell_type": "markdown",
   "metadata": {},
   "source": []
  },
  {
   "cell_type": "code",
   "execution_count": null,
   "metadata": {},
   "outputs": [],
   "source": []
  }
 ],
 "metadata": {
  "kernelspec": {
   "display_name": ".venv",
   "language": "python",
   "name": "python3"
  },
  "language_info": {
   "codemirror_mode": {
    "name": "ipython",
    "version": 3
   },
   "file_extension": ".py",
   "mimetype": "text/x-python",
   "name": "python",
   "nbconvert_exporter": "python",
   "pygments_lexer": "ipython3",
   "version": "3.11.2"
  }
 },
 "nbformat": 4,
 "nbformat_minor": 2
}
