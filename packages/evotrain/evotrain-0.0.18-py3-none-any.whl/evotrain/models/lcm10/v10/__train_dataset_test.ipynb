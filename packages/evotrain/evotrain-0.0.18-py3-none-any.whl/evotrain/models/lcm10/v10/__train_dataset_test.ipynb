{
 "cells": [
  {
   "cell_type": "code",
   "execution_count": 1,
   "metadata": {},
   "outputs": [],
   "source": [
    "# Jupyter notebook related\n",
    "%reload_ext autoreload\n",
    "%autoreload 2\n",
    "%matplotlib widget"
   ]
  },
  {
   "cell_type": "code",
   "execution_count": null,
   "metadata": {},
   "outputs": [
    {
     "name": "stderr",
     "output_type": "stream",
     "text": [
      "/home/dzanaga/miniconda3/envs/eo/lib/python3.10/site-packages/torchvision/datapoints/__init__.py:12: UserWarning: The torchvision.datapoints and torchvision.transforms.v2 namespaces are still Beta. While we do not expect major breaking changes, some APIs may still change according to user feedback. Please submit any feedback you may have in this issue: https://github.com/pytorch/vision/issues/6753, and you can also check out https://github.com/pytorch/vision/issues/7319 to learn more about the APIs that we suspect might involve future changes. You can silence this warning by calling torchvision.disable_beta_transforms_warning().\n",
      "  warnings.warn(_BETA_TRANSFORMS_WARNING)\n",
      "/home/dzanaga/miniconda3/envs/eo/lib/python3.10/site-packages/torchvision/transforms/v2/__init__.py:54: UserWarning: The torchvision.datapoints and torchvision.transforms.v2 namespaces are still Beta. While we do not expect major breaking changes, some APIs may still change according to user feedback. Please submit any feedback you may have in this issue: https://github.com/pytorch/vision/issues/6753, and you can also check out https://github.com/pytorch/vision/issues/7319 to learn more about the APIs that we suspect might involve future changes. You can silence this warning by calling torchvision.disable_beta_transforms_warning().\n",
      "  warnings.warn(_BETA_TRANSFORMS_WARNING)\n",
      "\u001b[32m2024-10-30 23:16:42.838\u001b[0m | \u001b[1mINFO    \u001b[0m | \u001b[36mevotrain.v2\u001b[0m:\u001b[36m<module>\u001b[0m:\u001b[36m29\u001b[0m - \u001b[1mFound dataset at /vitodata/vegteam/projects/evoland/training/evotrain_v2\u001b[0m\n"
     ]
    },
    {
     "data": {
      "text/plain": [
       "(torch.Size([36, 128, 128]),\n",
       " torch.Size([9, 128, 128]),\n",
       " torch.Size([2, 128, 128]))"
      ]
     },
     "execution_count": 2,
     "metadata": {},
     "output_type": "execute_result"
    }
   ],
   "source": [
    "from dataset import EvoNetV1Dataset\n",
    "\n",
    "evo_ds = EvoNetV1Dataset()\n",
    "feats, target, latlon = evo_ds[0]\n",
    "feats.shape, target.shape, latlon.shape"
   ]
  },
  {
   "cell_type": "code",
   "execution_count": null,
   "metadata": {},
   "outputs": [
    {
     "name": "stderr",
     "output_type": "stream",
     "text": [
      "/home/dzanaga/miniconda3/envs/eo/lib/python3.10/site-packages/torch/utils/data/dataloader.py:560: UserWarning: This DataLoader will create 8 worker processes in total. Our suggested max number of worker in current system is 4, which is smaller than what this DataLoader is going to create. Please be aware that excessive worker creation might get DataLoader running slow or even freeze, lower the worker number to avoid potential slowness/freeze if necessary.\n",
      "  warnings.warn(_create_warning_msg(\n"
     ]
    }
   ],
   "source": [
    "from dataset import get_train_val_dataloaders\n",
    "\n",
    "train_loader, val_loader, train_dataset, val_dataset = (\n",
    "    get_train_val_dataloaders(\"configs/base_mep_debug.json\")\n",
    ")"
   ]
  },
  {
   "cell_type": "code",
   "execution_count": 4,
   "metadata": {},
   "outputs": [
    {
     "name": "stderr",
     "output_type": "stream",
     "text": [
      "\u001b[32m2024-10-30 23:16:58.926\u001b[0m | \u001b[31m\u001b[1mERROR   \u001b[0m | \u001b[36mdataset\u001b[0m:\u001b[36m__getitem__\u001b[0m:\u001b[36m355\u001b[0m - \u001b[31m\u001b[1mError reading evo target for location 54JYQ_092_36\u001b[0m\n",
      "\u001b[32m2024-10-30 23:16:59.912\u001b[0m | \u001b[31m\u001b[1mERROR   \u001b[0m | \u001b[36mdataset\u001b[0m:\u001b[36m__getitem__\u001b[0m:\u001b[36m355\u001b[0m - \u001b[31m\u001b[1mError reading evo target for location 53HPD_083_46\u001b[0m\n",
      "\u001b[32m2024-10-30 23:17:00.420\u001b[0m | \u001b[31m\u001b[1mERROR   \u001b[0m | \u001b[36mdataset\u001b[0m:\u001b[36m__getitem__\u001b[0m:\u001b[36m355\u001b[0m - \u001b[31m\u001b[1mError reading evo target for location 55JBH_089_61\u001b[0m\n",
      "\u001b[32m2024-10-30 23:17:00.717\u001b[0m | \u001b[31m\u001b[1mERROR   \u001b[0m | \u001b[36mdataset\u001b[0m:\u001b[36m__getitem__\u001b[0m:\u001b[36m355\u001b[0m - \u001b[31m\u001b[1mError reading evo target for location 54HTJ_056_36\u001b[0m\n",
      "/data/users/Private/dzanaga/repos/evotrain/src/evotrain/train/lcm10/v002/dataset.py:219: RuntimeWarning: invalid value encountered in divide\n",
      "  probs = probs / probs.sum(axis=0, keepdims=True)\n",
      "\u001b[32m2024-10-30 23:17:01.358\u001b[0m | \u001b[31m\u001b[1mERROR   \u001b[0m | \u001b[36mdataset\u001b[0m:\u001b[36m__getitem__\u001b[0m:\u001b[36m355\u001b[0m - \u001b[31m\u001b[1mError reading evo target for location 55JEF_049_35\u001b[0m\n",
      "\u001b[32m2024-10-30 23:17:02.683\u001b[0m | \u001b[31m\u001b[1mERROR   \u001b[0m | \u001b[36mdataset\u001b[0m:\u001b[36m__getitem__\u001b[0m:\u001b[36m355\u001b[0m - \u001b[31m\u001b[1mError reading evo target for location 55JBL_070_46\u001b[0m\n",
      "\u001b[32m2024-10-30 23:17:02.756\u001b[0m | \u001b[31m\u001b[1mERROR   \u001b[0m | \u001b[36mdataset\u001b[0m:\u001b[36m__getitem__\u001b[0m:\u001b[36m355\u001b[0m - \u001b[31m\u001b[1mError reading evo target for location 59GLJ_001_08\u001b[0m\n",
      "\u001b[32m2024-10-30 23:17:03.000\u001b[0m | \u001b[31m\u001b[1mERROR   \u001b[0m | \u001b[36mdataset\u001b[0m:\u001b[36m__getitem__\u001b[0m:\u001b[36m355\u001b[0m - \u001b[31m\u001b[1mError reading evo target for location 55JDL_067_44\u001b[0m\n",
      "\u001b[32m2024-10-30 23:17:03.229\u001b[0m | \u001b[31m\u001b[1mERROR   \u001b[0m | \u001b[36mdataset\u001b[0m:\u001b[36m__getitem__\u001b[0m:\u001b[36m355\u001b[0m - \u001b[31m\u001b[1mError reading evo target for location 56JNS_066_52\u001b[0m\n",
      "\u001b[32m2024-10-30 23:17:04.169\u001b[0m | \u001b[31m\u001b[1mERROR   \u001b[0m | \u001b[36mdataset\u001b[0m:\u001b[36m__getitem__\u001b[0m:\u001b[36m355\u001b[0m - \u001b[31m\u001b[1mError reading evo target for location 55JBF_055_53\u001b[0m\n",
      "\u001b[32m2024-10-30 23:17:04.180\u001b[0m | \u001b[31m\u001b[1mERROR   \u001b[0m | \u001b[36mdataset\u001b[0m:\u001b[36m__getitem__\u001b[0m:\u001b[36m355\u001b[0m - \u001b[31m\u001b[1mError reading evo target for location 55KBP_060_47\u001b[0m\n",
      "\u001b[32m2024-10-30 23:17:04.424\u001b[0m | \u001b[31m\u001b[1mERROR   \u001b[0m | \u001b[36mdataset\u001b[0m:\u001b[36m__getitem__\u001b[0m:\u001b[36m355\u001b[0m - \u001b[31m\u001b[1mError reading evo target for location 54JXT_041_59\u001b[0m\n",
      "\u001b[32m2024-10-30 23:17:04.469\u001b[0m | \u001b[31m\u001b[1mERROR   \u001b[0m | \u001b[36mdataset\u001b[0m:\u001b[36m__getitem__\u001b[0m:\u001b[36m355\u001b[0m - \u001b[31m\u001b[1mError reading evo target for location 54JYL_092_40\u001b[0m\n",
      "\u001b[32m2024-10-30 23:17:04.728\u001b[0m | \u001b[31m\u001b[1mERROR   \u001b[0m | \u001b[36mdataset\u001b[0m:\u001b[36m__getitem__\u001b[0m:\u001b[36m355\u001b[0m - \u001b[31m\u001b[1mError reading evo target for location 54JYT_001_43\u001b[0m\n",
      "\u001b[32m2024-10-30 23:17:05.009\u001b[0m | \u001b[31m\u001b[1mERROR   \u001b[0m | \u001b[36mdataset\u001b[0m:\u001b[36m__getitem__\u001b[0m:\u001b[36m355\u001b[0m - \u001b[31m\u001b[1mError reading evo target for location 59GLJ_055_63\u001b[0m\n",
      "\u001b[32m2024-10-30 23:17:05.451\u001b[0m | \u001b[31m\u001b[1mERROR   \u001b[0m | \u001b[36mdataset\u001b[0m:\u001b[36m__getitem__\u001b[0m:\u001b[36m355\u001b[0m - \u001b[31m\u001b[1mError reading evo target for location 55JDH_016_61\u001b[0m\n",
      "\u001b[32m2024-10-30 23:17:05.777\u001b[0m | \u001b[31m\u001b[1mERROR   \u001b[0m | \u001b[36mdataset\u001b[0m:\u001b[36m__getitem__\u001b[0m:\u001b[36m355\u001b[0m - \u001b[31m\u001b[1mError reading evo target for location 55JGN_058_00\u001b[0m\n",
      "\u001b[32m2024-10-30 23:17:06.265\u001b[0m | \u001b[31m\u001b[1mERROR   \u001b[0m | \u001b[36mdataset\u001b[0m:\u001b[36m__getitem__\u001b[0m:\u001b[36m355\u001b[0m - \u001b[31m\u001b[1mError reading evo target for location 54HUF_075_14\u001b[0m\n",
      "\u001b[32m2024-10-30 23:17:06.561\u001b[0m | \u001b[31m\u001b[1mERROR   \u001b[0m | \u001b[36mdataset\u001b[0m:\u001b[36m__getitem__\u001b[0m:\u001b[36m355\u001b[0m - \u001b[31m\u001b[1mError reading evo target for location 54HUF_063_05\u001b[0m\n",
      "\u001b[32m2024-10-30 23:17:06.643\u001b[0m | \u001b[31m\u001b[1mERROR   \u001b[0m | \u001b[36mdataset\u001b[0m:\u001b[36m__getitem__\u001b[0m:\u001b[36m355\u001b[0m - \u001b[31m\u001b[1mError reading evo target for location 55JFJ_062_61\u001b[0m\n",
      "\u001b[32m2024-10-30 23:17:07.455\u001b[0m | \u001b[31m\u001b[1mERROR   \u001b[0m | \u001b[36mdataset\u001b[0m:\u001b[36m__getitem__\u001b[0m:\u001b[36m355\u001b[0m - \u001b[31m\u001b[1mError reading evo target for location 54HUG_091_39\u001b[0m\n",
      "\u001b[32m2024-10-30 23:17:07.471\u001b[0m | \u001b[31m\u001b[1mERROR   \u001b[0m | \u001b[36mdataset\u001b[0m:\u001b[36m__getitem__\u001b[0m:\u001b[36m355\u001b[0m - \u001b[31m\u001b[1mError reading evo target for location 54JVL_001_41\u001b[0m\n",
      "\u001b[32m2024-10-30 23:17:07.874\u001b[0m | \u001b[31m\u001b[1mERROR   \u001b[0m | \u001b[36mdataset\u001b[0m:\u001b[36m__getitem__\u001b[0m:\u001b[36m355\u001b[0m - \u001b[31m\u001b[1mError reading evo target for location 59GNM_047_06\u001b[0m\n",
      "\u001b[32m2024-10-30 23:17:07.976\u001b[0m | \u001b[31m\u001b[1mERROR   \u001b[0m | \u001b[36mdataset\u001b[0m:\u001b[36m__getitem__\u001b[0m:\u001b[36m355\u001b[0m - \u001b[31m\u001b[1mError reading evo target for location 53JQH_023_11\u001b[0m\n",
      "\u001b[32m2024-10-30 23:17:08.252\u001b[0m | \u001b[31m\u001b[1mERROR   \u001b[0m | \u001b[36mdataset\u001b[0m:\u001b[36m__getitem__\u001b[0m:\u001b[36m355\u001b[0m - \u001b[31m\u001b[1mError reading evo target for location 53JQG_071_24\u001b[0m\n",
      "\u001b[32m2024-10-30 23:17:08.626\u001b[0m | \u001b[31m\u001b[1mERROR   \u001b[0m | \u001b[36mdataset\u001b[0m:\u001b[36m__getitem__\u001b[0m:\u001b[36m355\u001b[0m - \u001b[31m\u001b[1mError reading evo target for location 59GLM_071_41\u001b[0m\n",
      "\u001b[32m2024-10-30 23:17:08.839\u001b[0m | \u001b[31m\u001b[1mERROR   \u001b[0m | \u001b[36mdataset\u001b[0m:\u001b[36m__getitem__\u001b[0m:\u001b[36m355\u001b[0m - \u001b[31m\u001b[1mError reading evo target for location 56HLK_077_48\u001b[0m\n",
      "\u001b[32m2024-10-30 23:17:09.418\u001b[0m | \u001b[31m\u001b[1mERROR   \u001b[0m | \u001b[36mdataset\u001b[0m:\u001b[36m__getitem__\u001b[0m:\u001b[36m355\u001b[0m - \u001b[31m\u001b[1mError reading evo target for location 53JPN_028_07\u001b[0m\n",
      "\u001b[32m2024-10-30 23:17:10.666\u001b[0m | \u001b[31m\u001b[1mERROR   \u001b[0m | \u001b[36mdataset\u001b[0m:\u001b[36m__getitem__\u001b[0m:\u001b[36m355\u001b[0m - \u001b[31m\u001b[1mError reading evo target for location 52JDQ_089_00\u001b[0m\n",
      "\u001b[32m2024-10-30 23:17:11.011\u001b[0m | \u001b[31m\u001b[1mERROR   \u001b[0m | \u001b[36mdataset\u001b[0m:\u001b[36m__getitem__\u001b[0m:\u001b[36m355\u001b[0m - \u001b[31m\u001b[1mError reading evo target for location 53JMJ_001_00\u001b[0m\n",
      "\u001b[32m2024-10-30 23:17:11.914\u001b[0m | \u001b[31m\u001b[1mERROR   \u001b[0m | \u001b[36mdataset\u001b[0m:\u001b[36m__getitem__\u001b[0m:\u001b[36m355\u001b[0m - \u001b[31m\u001b[1mError reading evo target for location 53JKL_083_46\u001b[0m\n",
      "\u001b[32m2024-10-30 23:17:12.036\u001b[0m | \u001b[31m\u001b[1mERROR   \u001b[0m | \u001b[36mdataset\u001b[0m:\u001b[36m__getitem__\u001b[0m:\u001b[36m355\u001b[0m - \u001b[31m\u001b[1mError reading evo target for location 50JLM_038_02\u001b[0m\n",
      "\u001b[32m2024-10-30 23:17:12.044\u001b[0m | \u001b[31m\u001b[1mERROR   \u001b[0m | \u001b[36mdataset\u001b[0m:\u001b[36m__getitem__\u001b[0m:\u001b[36m355\u001b[0m - \u001b[31m\u001b[1mError reading evo target for location 53JLM_086_44\u001b[0m\n",
      "\u001b[32m2024-10-30 23:17:12.300\u001b[0m | \u001b[31m\u001b[1mERROR   \u001b[0m | \u001b[36mdataset\u001b[0m:\u001b[36m__getitem__\u001b[0m:\u001b[36m355\u001b[0m - \u001b[31m\u001b[1mError reading evo target for location 50JPP_036_01\u001b[0m\n",
      "\u001b[32m2024-10-30 23:17:12.386\u001b[0m | \u001b[31m\u001b[1mERROR   \u001b[0m | \u001b[36mdataset\u001b[0m:\u001b[36m__getitem__\u001b[0m:\u001b[36m355\u001b[0m - \u001b[31m\u001b[1mError reading evo target for location 50JPM_000_05\u001b[0m\n",
      "\u001b[32m2024-10-30 23:17:12.729\u001b[0m | \u001b[31m\u001b[1mERROR   \u001b[0m | \u001b[36mdataset\u001b[0m:\u001b[36m__getitem__\u001b[0m:\u001b[36m355\u001b[0m - \u001b[31m\u001b[1mError reading evo target for location 55GDQ_099_44\u001b[0m\n",
      "\u001b[32m2024-10-30 23:17:12.979\u001b[0m | \u001b[31m\u001b[1mERROR   \u001b[0m | \u001b[36mdataset\u001b[0m:\u001b[36m__getitem__\u001b[0m:\u001b[36m355\u001b[0m - \u001b[31m\u001b[1mError reading evo target for location 51JUK_011_00\u001b[0m\n",
      "\u001b[32m2024-10-30 23:17:13.004\u001b[0m | \u001b[31m\u001b[1mERROR   \u001b[0m | \u001b[36mdataset\u001b[0m:\u001b[36m__getitem__\u001b[0m:\u001b[36m355\u001b[0m - \u001b[31m\u001b[1mError reading evo target for location 52KGU_101_05\u001b[0m\n",
      "\u001b[32m2024-10-30 23:17:13.797\u001b[0m | \u001b[31m\u001b[1mERROR   \u001b[0m | \u001b[36mdataset\u001b[0m:\u001b[36m__getitem__\u001b[0m:\u001b[36m355\u001b[0m - \u001b[31m\u001b[1mError reading evo target for location 55HEB_031_18\u001b[0m\n",
      "\u001b[32m2024-10-30 23:17:14.241\u001b[0m | \u001b[31m\u001b[1mERROR   \u001b[0m | \u001b[36mdataset\u001b[0m:\u001b[36m__getitem__\u001b[0m:\u001b[36m355\u001b[0m - \u001b[31m\u001b[1mError reading evo target for location 50JMN_025_06\u001b[0m\n",
      "\u001b[32m2024-10-30 23:17:14.346\u001b[0m | \u001b[31m\u001b[1mERROR   \u001b[0m | \u001b[36mdataset\u001b[0m:\u001b[36m__getitem__\u001b[0m:\u001b[36m355\u001b[0m - \u001b[31m\u001b[1mError reading evo target for location 52JDT_056_63\u001b[0m\n",
      "\u001b[32m2024-10-30 23:17:14.416\u001b[0m | \u001b[31m\u001b[1mERROR   \u001b[0m | \u001b[36mdataset\u001b[0m:\u001b[36m__getitem__\u001b[0m:\u001b[36m355\u001b[0m - \u001b[31m\u001b[1mError reading evo target for location 50JMN_002_00\u001b[0m\n",
      "\u001b[32m2024-10-30 23:17:14.471\u001b[0m | \u001b[31m\u001b[1mERROR   \u001b[0m | \u001b[36mdataset\u001b[0m:\u001b[36m__getitem__\u001b[0m:\u001b[36m355\u001b[0m - \u001b[31m\u001b[1mError reading evo target for location 51JWN_091_41\u001b[0m\n",
      "\u001b[32m2024-10-30 23:17:14.582\u001b[0m | \u001b[31m\u001b[1mERROR   \u001b[0m | \u001b[36mdataset\u001b[0m:\u001b[36m__getitem__\u001b[0m:\u001b[36m355\u001b[0m - \u001b[31m\u001b[1mError reading evo target for location 55HCT_004_62\u001b[0m\n",
      "\u001b[32m2024-10-30 23:17:14.582\u001b[0m | \u001b[31m\u001b[1mERROR   \u001b[0m | \u001b[36mdataset\u001b[0m:\u001b[36m__getitem__\u001b[0m:\u001b[36m355\u001b[0m - \u001b[31m\u001b[1mError reading evo target for location 50JMP_077_40\u001b[0m\n",
      "\u001b[32m2024-10-30 23:17:14.749\u001b[0m | \u001b[31m\u001b[1mERROR   \u001b[0m | \u001b[36mdataset\u001b[0m:\u001b[36m__getitem__\u001b[0m:\u001b[36m355\u001b[0m - \u001b[31m\u001b[1mError reading evo target for location 50JLP_049_53\u001b[0m\n",
      "\u001b[32m2024-10-30 23:17:14.807\u001b[0m | \u001b[31m\u001b[1mERROR   \u001b[0m | \u001b[36mdataset\u001b[0m:\u001b[36m__getitem__\u001b[0m:\u001b[36m355\u001b[0m - \u001b[31m\u001b[1mError reading evo target for location 51JTN_004_41\u001b[0m\n",
      "\u001b[32m2024-10-30 23:17:14.842\u001b[0m | \u001b[31m\u001b[1mERROR   \u001b[0m | \u001b[36mdataset\u001b[0m:\u001b[36m__getitem__\u001b[0m:\u001b[36m355\u001b[0m - \u001b[31m\u001b[1mError reading evo target for location 51JZN_077_43\u001b[0m\n",
      "\u001b[32m2024-10-30 23:17:14.951\u001b[0m | \u001b[31m\u001b[1mERROR   \u001b[0m | \u001b[36mdataset\u001b[0m:\u001b[36m__getitem__\u001b[0m:\u001b[36m355\u001b[0m - \u001b[31m\u001b[1mError reading evo target for location 55HBU_108_19\u001b[0m\n",
      "\u001b[32m2024-10-30 23:17:15.077\u001b[0m | \u001b[31m\u001b[1mERROR   \u001b[0m | \u001b[36mdataset\u001b[0m:\u001b[36m__getitem__\u001b[0m:\u001b[36m355\u001b[0m - \u001b[31m\u001b[1mError reading evo target for location 50JPN_015_24\u001b[0m\n",
      "\u001b[32m2024-10-30 23:17:15.361\u001b[0m | \u001b[31m\u001b[1mERROR   \u001b[0m | \u001b[36mdataset\u001b[0m:\u001b[36m__getitem__\u001b[0m:\u001b[36m355\u001b[0m - \u001b[31m\u001b[1mError reading evo target for location 51JYL_044_24\u001b[0m\n",
      "\u001b[32m2024-10-30 23:17:15.709\u001b[0m | \u001b[31m\u001b[1mERROR   \u001b[0m | \u001b[36mdataset\u001b[0m:\u001b[36m__getitem__\u001b[0m:\u001b[36m355\u001b[0m - \u001b[31m\u001b[1mError reading evo target for location 51JVG_072_59\u001b[0m\n",
      "\u001b[32m2024-10-30 23:17:15.975\u001b[0m | \u001b[31m\u001b[1mERROR   \u001b[0m | \u001b[36mdataset\u001b[0m:\u001b[36m__getitem__\u001b[0m:\u001b[36m355\u001b[0m - \u001b[31m\u001b[1mError reading evo target for location 56HKE_090_34\u001b[0m\n",
      "\u001b[32m2024-10-30 23:17:16.144\u001b[0m | \u001b[31m\u001b[1mERROR   \u001b[0m | \u001b[36mdataset\u001b[0m:\u001b[36m__getitem__\u001b[0m:\u001b[36m355\u001b[0m - \u001b[31m\u001b[1mError reading evo target for location 50JPT_066_27\u001b[0m\n",
      "\u001b[32m2024-10-30 23:17:16.742\u001b[0m | \u001b[31m\u001b[1mERROR   \u001b[0m | \u001b[36mdataset\u001b[0m:\u001b[36m__getitem__\u001b[0m:\u001b[36m355\u001b[0m - \u001b[31m\u001b[1mError reading evo target for location 51JTF_086_47\u001b[0m\n"
     ]
    }
   ],
   "source": [
    "batch = train_loader.__iter__().__next__()"
   ]
  },
  {
   "cell_type": "code",
   "execution_count": 5,
   "metadata": {},
   "outputs": [
    {
     "data": {
      "text/plain": [
       "(torch.Size([32, 36, 128, 128]),\n",
       " torch.Size([32, 9, 128, 128]),\n",
       " torch.Size([32, 2, 128, 128]))"
      ]
     },
     "execution_count": 5,
     "metadata": {},
     "output_type": "execute_result"
    }
   ],
   "source": [
    "batch[0].shape, batch[1].shape, batch[2].shape"
   ]
  },
  {
   "cell_type": "code",
   "execution_count": null,
   "metadata": {},
   "outputs": [],
   "source": []
  },
  {
   "cell_type": "code",
   "execution_count": 14,
   "metadata": {},
   "outputs": [
    {
     "data": {
      "text/html": [
       "<div>\n",
       "<style scoped>\n",
       "    .dataframe tbody tr th:only-of-type {\n",
       "        vertical-align: middle;\n",
       "    }\n",
       "\n",
       "    .dataframe tbody tr th {\n",
       "        vertical-align: top;\n",
       "    }\n",
       "\n",
       "    .dataframe thead th {\n",
       "        text-align: right;\n",
       "    }\n",
       "</style>\n",
       "<table border=\"1\" class=\"dataframe\">\n",
       "  <thead>\n",
       "    <tr style=\"text-align: right;\">\n",
       "      <th></th>\n",
       "      <th>location_id</th>\n",
       "      <th>lab_10</th>\n",
       "      <th>lab_20</th>\n",
       "      <th>lab_30</th>\n",
       "      <th>lab_40</th>\n",
       "      <th>lab_50</th>\n",
       "      <th>lab_60</th>\n",
       "      <th>lab_70</th>\n",
       "      <th>lab_80</th>\n",
       "      <th>lab_90</th>\n",
       "      <th>...</th>\n",
       "      <th>dominant</th>\n",
       "      <th>mix_ratio</th>\n",
       "      <th>lon</th>\n",
       "      <th>lat</th>\n",
       "      <th>cell_id</th>\n",
       "      <th>h3_index</th>\n",
       "      <th>group</th>\n",
       "      <th>status</th>\n",
       "      <th>user_alias</th>\n",
       "      <th>test</th>\n",
       "    </tr>\n",
       "  </thead>\n",
       "  <tbody>\n",
       "    <tr>\n",
       "      <th>11</th>\n",
       "      <td>59GLJ_001_08</td>\n",
       "      <td>0.854309</td>\n",
       "      <td>0.001099</td>\n",
       "      <td>0.144287</td>\n",
       "      <td>0.0</td>\n",
       "      <td>0.0</td>\n",
       "      <td>0.000305</td>\n",
       "      <td>0.0</td>\n",
       "      <td>0.0</td>\n",
       "      <td>0.0</td>\n",
       "      <td>...</td>\n",
       "      <td>10</td>\n",
       "      <td>0.205926</td>\n",
       "      <td>168.555613</td>\n",
       "      <td>-46.044709</td>\n",
       "      <td>E170S45</td>\n",
       "      <td>82da87fffffffff</td>\n",
       "      <td>1</td>\n",
       "      <td>SUBMITTED</td>\n",
       "      <td>Andrii (External)</td>\n",
       "      <td>False</td>\n",
       "    </tr>\n",
       "  </tbody>\n",
       "</table>\n",
       "<p>1 rows × 29 columns</p>\n",
       "</div>"
      ],
      "text/plain": [
       "     location_id    lab_10    lab_20    lab_30  lab_40  lab_50    lab_60  \\\n",
       "11  59GLJ_001_08  0.854309  0.001099  0.144287     0.0     0.0  0.000305   \n",
       "\n",
       "    lab_70  lab_80  lab_90  ...  dominant  mix_ratio         lon        lat  \\\n",
       "11     0.0     0.0     0.0  ...        10   0.205926  168.555613 -46.044709   \n",
       "\n",
       "    cell_id         h3_index group     status         user_alias   test  \n",
       "11  E170S45  82da87fffffffff     1  SUBMITTED  Andrii (External)  False  \n",
       "\n",
       "[1 rows x 29 columns]"
      ]
     },
     "execution_count": 14,
     "metadata": {},
     "output_type": "execute_result"
    }
   ],
   "source": [
    "locs = train_dataset.evo_dataset.locs\n",
    "loc_id = \"59GLJ_001_08\"\n",
    "locs[locs.location_id == loc_id]"
   ]
  },
  {
   "cell_type": "code",
   "execution_count": null,
   "metadata": {},
   "outputs": [
    {
     "data": {
      "application/vnd.jupyter.widget-view+json": {
       "model_id": "33ab64842029443397b827c21c8600bc",
       "version_major": 2,
       "version_minor": 0
      },
      "text/plain": [
       "  0%|          | 0/14381 [00:00<?, ?it/s]"
      ]
     },
     "metadata": {},
     "output_type": "display_data"
    }
   ],
   "source": [
    "from satio_pc import parallelize\n",
    "\n",
    "reader = evo_ds.evo_dataset._reader()\n",
    "\n",
    "\n",
    "def check(loc_id):\n",
    "    fn = reader._annotation_patch_path(loc_id, 2020, \"evo-v1\")\n",
    "    return fn.exists()\n",
    "\n",
    "\n",
    "valid_flag = parallelize(check, locs.location_id.values, max_workers=20)"
   ]
  },
  {
   "cell_type": "code",
   "execution_count": 6,
   "metadata": {},
   "outputs": [],
   "source": [
    "# test inference preview\n",
    "\n",
    "from callbacks import InferencePreview"
   ]
  },
  {
   "cell_type": "code",
   "execution_count": null,
   "metadata": {},
   "outputs": [],
   "source": []
  }
 ],
 "metadata": {
  "kernelspec": {
   "display_name": "eo",
   "language": "python",
   "name": "python3"
  },
  "language_info": {
   "codemirror_mode": {
    "name": "ipython",
    "version": 3
   },
   "file_extension": ".py",
   "mimetype": "text/x-python",
   "name": "python",
   "nbconvert_exporter": "python",
   "pygments_lexer": "ipython3",
   "version": "3.10.12"
  }
 },
 "nbformat": 4,
 "nbformat_minor": 2
}
