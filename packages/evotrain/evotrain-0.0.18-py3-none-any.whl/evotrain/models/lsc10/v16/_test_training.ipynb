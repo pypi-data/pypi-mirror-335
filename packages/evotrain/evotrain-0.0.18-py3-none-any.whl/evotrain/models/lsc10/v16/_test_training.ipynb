{
 "cells": [
  {
   "cell_type": "code",
   "execution_count": null,
   "id": "328d2363-34f5-4756-be9b-cba999076988",
   "metadata": {},
   "outputs": [],
   "source": [
    "import torch\n",
    "# torch.zeros(1).cuda()\n",
    "torch.cuda.is_available()"
   ]
  },
  {
   "cell_type": "code",
   "execution_count": null,
   "id": "42f9491c-fcee-4457-90de-8110c03295a2",
   "metadata": {},
   "outputs": [],
   "source": [
    "from dataset import get_train_val_locs\n",
    "\n",
    "train_locs, val_locs = get_train_val_locs(locs_scenario=\"iiasa_evo_v1\", n_val_locs=10000)"
   ]
  },
  {
   "cell_type": "code",
   "execution_count": null,
   "id": "fc527e07-a19a-4ace-95ee-ed68ea26edb8",
   "metadata": {},
   "outputs": [],
   "source": [
    "from dataset import load_evo_dataset\n",
    "evo_ds = load_evo_dataset()\n",
    "v3_locs = evo_ds.locs"
   ]
  },
  {
   "cell_type": "code",
   "execution_count": null,
   "id": "76332f2d-8325-438b-a0b1-e102d5d4f6aa",
   "metadata": {},
   "outputs": [],
   "source": [
    "evo_ds.locs[\"quarter_id\"].astype(\"string[pyarrow]\")"
   ]
  },
  {
   "cell_type": "code",
   "execution_count": null,
   "id": "ba5686bd-585d-4751-aede-90ca6776d661",
   "metadata": {},
   "outputs": [],
   "source": [
    "evo_ds.sample_ids"
   ]
  },
  {
   "cell_type": "code",
   "execution_count": null,
   "id": "3eb05580-3dea-4d5d-8278-53cedb401908",
   "metadata": {},
   "outputs": [],
   "source": [
    "v3_locs.columns"
   ]
  },
  {
   "cell_type": "code",
   "execution_count": null,
   "id": "93d5f638-e249-4dc4-9745-179b5ad2093b",
   "metadata": {},
   "outputs": [],
   "source": [
    "from evotrain.v2 import EvoTrainV2Dataset"
   ]
  },
  {
   "cell_type": "code",
   "execution_count": null,
   "id": "929035da-435b-419b-8bef-4aba1c838931",
   "metadata": {},
   "outputs": [],
   "source": [
    "from dataset import EvoNetV1Dataset"
   ]
  },
  {
   "cell_type": "code",
   "execution_count": null,
   "id": "8c739a31-7a5a-4dcd-8b35-b3692ca818b8",
   "metadata": {},
   "outputs": [],
   "source": [
    "def slash_tile(tile: str):\n",
    "    if len(tile) != 5:\n",
    "        raise ValueError(f\"tile should be a str of len 5, not {tile}\")\n",
    "\n",
    "    return f\"{tile[:2]}/{tile[2]}/{tile[3:]}\""
   ]
  },
  {
   "cell_type": "code",
   "execution_count": null,
   "id": "049cb650-5d02-4bfe-9455-cab87c962d02",
   "metadata": {},
   "outputs": [],
   "source": [
    "# evo_ds.locs.lat.abs()\n",
    "# evo_ds.locs.sort_values(\"lat\").quarter_ids.values\n",
    "from pathlib import Path\n",
    "gamma0_path = Path('/projects/TAP/vegteam/training_data/GAMMA0-RAW/v001')\n",
    "import xarray as xr\n",
    "location_id = '39PWN_002_25' #'34TCR_000_58'\n",
    "# row = locs[locs['location_id'] == location_id].iloc[0]\n",
    "tile = '39PWN'\n",
    "year = 2020\n",
    "\n",
    "pth = gamma0_path / 'patches' / slash_tile(tile) / str(year) / f'LCFM_GAMMA0-RAW_{year}_{location_id}_V001.nc'\n",
    "darr = xr.open_dataset(pth)\n",
    "# darr"
   ]
  },
  {
   "cell_type": "code",
   "execution_count": null,
   "id": "213e7ac3-e953-4c52-bad2-d33cd55ad013",
   "metadata": {},
   "outputs": [],
   "source": [
    "ds = EvoNetV1Dataset(bands=[\n",
    "                \"B02\",\n",
    "                \"B03\",\n",
    "                \"B04\",\n",
    "                \"B08\",\n",
    "                \"B05\",\n",
    "                \"B06\",\n",
    "                \"B07\",\n",
    "                \"B8A\",\n",
    "                \"B11\",\n",
    "                \"B12\",\n",
    "                \"cop-DEM-alt\",\n",
    "                \"VV\",\n",
    "                \"VH\",\n",
    "                \"VHVVRATIO\"],\n",
    "                    locs_scenario='iiasa_evo_v1')"
   ]
  },
  {
   "cell_type": "code",
   "execution_count": null,
   "id": "cf0a380c-8958-4c22-9fcd-9287403fe403",
   "metadata": {},
   "outputs": [],
   "source": [
    "bands=[\n",
    "                \"VV\",\n",
    "                \"VH\",\n",
    "                \"VHVVRATIO\"]\n",
    "print(len(bands))\n",
    "ds.read_feats('29PRM_080_57_20200929', bands)"
   ]
  },
  {
   "cell_type": "code",
   "execution_count": null,
   "id": "7c333493-2dbd-4cdb-9dc7-d89810c616c5",
   "metadata": {},
   "outputs": [],
   "source": [
    "ds.read_s1feats('47SNV_008_43_20201101', [\"VV\",\n",
    "                \"VH\",\n",
    "                \"VHVVRATIO\"])"
   ]
  },
  {
   "cell_type": "code",
   "execution_count": null,
   "id": "86e27ff9-cb9e-468e-8dc4-ce1006271ee4",
   "metadata": {},
   "outputs": [],
   "source": [
    "list(set(ds.evo_dataset.locs['iiasa_evo_v1']))"
   ]
  },
  {
   "cell_type": "code",
   "execution_count": null,
   "id": "8e806951-fd39-4c18-bacd-384645e78d80",
   "metadata": {},
   "outputs": [],
   "source": [
    "ds.evo_dataset.locs['quarter_id']"
   ]
  },
  {
   "cell_type": "code",
   "execution_count": null,
   "id": "f5d94787-aaa6-48a1-bca4-3c296133c403",
   "metadata": {},
   "outputs": [],
   "source": [
    "quarter_id = ds.ids[1]\n",
    "quarter_id"
   ]
  },
  {
   "cell_type": "code",
   "execution_count": null,
   "id": "f977a035-fae7-47c9-8697-a0719cfc91f8",
   "metadata": {},
   "outputs": [],
   "source": [
    "df_locs = ds.evo_dataset.locs\n",
    "row = df_locs[df_locs['quarter_id'] == quarter_id].sample(n=1).iloc[0]"
   ]
  },
  {
   "cell_type": "code",
   "execution_count": null,
   "id": "0161f25f-407d-43e5-a356-83348d2b7ac1",
   "metadata": {},
   "outputs": [],
   "source": [
    "ds[1]"
   ]
  },
  {
   "cell_type": "code",
   "execution_count": null,
   "id": "823804a2-e1a9-47e7-a81a-5ad2b4730b4f",
   "metadata": {},
   "outputs": [],
   "source": [
    "list(ds.ids).index('39PWN_002_25_2020Q4')"
   ]
  },
  {
   "cell_type": "code",
   "execution_count": null,
   "id": "7ec8d180-b218-4244-b421-88f69719b1eb",
   "metadata": {},
   "outputs": [],
   "source": [
    "list(ds.ids).index('55GEN_046_09_20200105')"
   ]
  },
  {
   "cell_type": "code",
   "execution_count": null,
   "id": "a667eded-3176-4d38-a1ab-b82f6deaaae9",
   "metadata": {},
   "outputs": [],
   "source": [
    "feats, feats_head, probs, weights = ds[12820]"
   ]
  },
  {
   "cell_type": "code",
   "execution_count": null,
   "id": "d055bd4c-c781-47da-97b5-3a3b4cd4c311",
   "metadata": {},
   "outputs": [],
   "source": [
    "feats.shape, feats_head.shape"
   ]
  },
  {
   "cell_type": "code",
   "execution_count": null,
   "id": "aa0e29b6-eaf0-4ed8-b553-7666e2f40142",
   "metadata": {},
   "outputs": [],
   "source": [
    "\n",
    "print(probs[0].shape, weights[0].shape)\n",
    "print(probs[1].shape, weights[1].shape)\n",
    "print(probs[2].shape, weights[2].shape)"
   ]
  },
  {
   "cell_type": "code",
   "execution_count": null,
   "id": "c14fd898-e2e2-4b21-a8b7-650643849849",
   "metadata": {},
   "outputs": [],
   "source": [
    "ind = 2\n",
    "probs[ind].shape, weights[ind].shape"
   ]
  },
  {
   "cell_type": "code",
   "execution_count": null,
   "id": "3faa0e69-39f9-426a-8cd1-eeee7c860339",
   "metadata": {},
   "outputs": [],
   "source": [
    "import json\n",
    "\n",
    "with open(\"/projects/TAP/vegteam/models_wdk/lsc10/v15/lsc10-v15_test/config.json\", \"r\") as f:\n",
    "    config = json.load(f)"
   ]
  },
  {
   "cell_type": "code",
   "execution_count": null,
   "id": "2d1eb224-2b4a-42b1-ba15-2e05ee048686",
   "metadata": {},
   "outputs": [],
   "source": [
    "from model import Net"
   ]
  },
  {
   "cell_type": "code",
   "execution_count": null,
   "id": "6cb28ef1-e711-423e-9cd3-f513b50eab84",
   "metadata": {},
   "outputs": [],
   "source": [
    "net = Net(**config[\"model\"])"
   ]
  },
  {
   "cell_type": "code",
   "execution_count": null,
   "id": "de08fdfb-2570-41c7-b59b-8956a1e8ef61",
   "metadata": {},
   "outputs": [],
   "source": [
    "import numpy as np\n",
    "x, x_head, y, y_weights = ds[121318]\n",
    "x = torch.from_numpy(x.numpy()[np.newaxis, ...])\n",
    "x_head = torch.from_numpy(x_head.numpy()[np.newaxis, ...])\n",
    "y_pred = net.evonet(x, x_head)"
   ]
  },
  {
   "cell_type": "code",
   "execution_count": null,
   "id": "485de380-3e6d-4664-b9d5-f378e7c2320f",
   "metadata": {},
   "outputs": [],
   "source": [
    "y_pred = [net._slice_cover(y_pred), net._slice_occlusion(y_pred), net._slice_ecosystems(y_pred)]"
   ]
  },
  {
   "cell_type": "code",
   "execution_count": null,
   "id": "aa0eae9d-8f27-45d5-b64d-3b5a0f1e2ba4",
   "metadata": {},
   "outputs": [],
   "source": [
    "y = [torch.from_numpy(it.numpy()[np.newaxis, ...]) for it in y]"
   ]
  },
  {
   "cell_type": "code",
   "execution_count": null,
   "id": "a550bc90-2acb-4226-816d-43f327d45e75",
   "metadata": {},
   "outputs": [],
   "source": [
    "y_weights = [torch.from_numpy(it.numpy()[np.newaxis, ...]) for it in y_weights]"
   ]
  },
  {
   "cell_type": "code",
   "execution_count": null,
   "id": "1c2eade3-a90d-40ef-8747-0e2509ae4314",
   "metadata": {},
   "outputs": [],
   "source": [
    "print(y_pred[0].shape)\n",
    "print(y[0].shape)\n",
    "print(y_weights[0].shape)"
   ]
  },
  {
   "cell_type": "code",
   "execution_count": null,
   "id": "da4bffc8-3d47-4e67-bda5-3daeb84582cc",
   "metadata": {},
   "outputs": [],
   "source": [
    "net.on_validation_start()\n",
    "net.num_classes_components['occlusion']\n",
    "net._iou_accumulators['occlusion']"
   ]
  },
  {
   "cell_type": "code",
   "execution_count": null,
   "id": "516343da-df9e-4daf-b3d1-86c29721c580",
   "metadata": {},
   "outputs": [],
   "source": [
    "from torch import nn\n",
    "softmax = nn.Softmax(dim=1)\n",
    "y_pred_cover = softmax(y_pred[0])\n",
    "y_pred_occlusion = softmax(y_pred[1])\n",
    "y_pred_ecosystems = softmax(y_pred[2])\n",
    "y_pred_softmax = [y_pred_cover, y_pred_occlusion, y_pred_ecosystems]\n",
    "net._update_iou_accumulators(y_pred_softmax, y, y_weights)"
   ]
  },
  {
   "cell_type": "code",
   "execution_count": null,
   "id": "fd462af0-4c45-405f-9fd6-513a7d58a3b2",
   "metadata": {},
   "outputs": [],
   "source": [
    "labels_type = 'occlusion'\n",
    "net._iou_accumulators[labels_type]"
   ]
  },
  {
   "cell_type": "code",
   "execution_count": null,
   "id": "5f8681d9-bd07-4da4-b865-037e17fc1b4b",
   "metadata": {},
   "outputs": [],
   "source": [
    "mean_iou, classes_iou = net._get_iou_metric(labels_type)\n",
    "classes_dict = net.classes_dict[labels_type]\n",
    "classes_ids = list(classes_dict.keys())\n",
    "classes_ids"
   ]
  },
  {
   "cell_type": "code",
   "execution_count": null,
   "id": "2d10382f-c4b7-4580-9280-dbf6f4ea4233",
   "metadata": {},
   "outputs": [],
   "source": [
    "def get_accuracy_metrics(labels_type):\n",
    "    \n",
    "    "
   ]
  },
  {
   "cell_type": "code",
   "execution_count": null,
   "id": "5f6c0f33-dcc0-4991-86f2-42bd11ea4f6a",
   "metadata": {},
   "outputs": [],
   "source": [
    "labels_type = 'occlusion'\n",
    "tp_sum = net._iou_accumulators[labels_type]['true_positives'].sum()\n",
    "fp_sum = net._iou_accumulators[labels_type]['false_positives'].sum()\n",
    "\n",
    "overall_acc = tp_sum / (tp_sum + fp_sum)"
   ]
  },
  {
   "cell_type": "code",
   "execution_count": null,
   "id": "1d008d5a-c3ba-4fad-99fc-4a01c6f06159",
   "metadata": {},
   "outputs": [],
   "source": [
    "overall_acc"
   ]
  },
  {
   "cell_type": "code",
   "execution_count": null,
   "id": "99845072-b643-4173-af9d-b23cd7204883",
   "metadata": {},
   "outputs": [],
   "source": []
  },
  {
   "cell_type": "code",
   "execution_count": null,
   "id": "20de8792-9ec5-4f14-92ec-129bffd65d4c",
   "metadata": {},
   "outputs": [],
   "source": [
    "weighted_iou_sum = 0.0\n",
    "weight_sum = 0.0\n",
    "\n",
    "# raise ValueError(\"Not implemented\")  # fix range below\n",
    "for lab_i in range(self.num_classes_components[labels_type]):\n",
    "    tp = self._iou_accumulators[labels_type][\"true_positives\"][lab_i]\n",
    "    fp = self._iou_accumulators[labels_type][\"false_positives\"][lab_i]\n",
    "    fn = self._iou_accumulators[labels_type][\"false_negatives\"][lab_i]\n",
    "    sum_tp_fn = tp + fn\n",
    "    if sum_tp_fn > 0:\n",
    "        recall = tp / union\n",
    "        weight = self.classes_weights_tensor_component[labels_type][0, lab_i, 0, 0]\n",
    "        weighted_recall_sum += recall * weight\n",
    "        weight_sum += weight\n",
    "        classes_recall.append(recall.item())\n",
    "    else:\n",
    "        # from loguru import logger\n",
    "        # logger.info(f'{labels_type} {lab_i} {tp}')\n",
    "        classes_recall.append(float(\"nan\"))\n",
    "\n",
    "mean_recall = (\n",
    "    (weighted_iou_sum / weight_sum).item()\n",
    "    if weight_sum > 0\n",
    "    else float(\"nan\")\n",
    ")"
   ]
  },
  {
   "cell_type": "code",
   "execution_count": null,
   "id": "e47f68c7-1bca-4d66-be7a-e0fda765e2d8",
   "metadata": {},
   "outputs": [],
   "source": []
  },
  {
   "cell_type": "code",
   "execution_count": null,
   "id": "1e47055b-d328-47bc-88ff-8a59d2597bfb",
   "metadata": {},
   "outputs": [],
   "source": []
  },
  {
   "cell_type": "code",
   "execution_count": null,
   "id": "0958126b-e582-4aad-844e-2a65066bfe55",
   "metadata": {},
   "outputs": [],
   "source": [
    "classes_iou"
   ]
  },
  {
   "cell_type": "code",
   "execution_count": null,
   "id": "d3812a0e-52b1-4b98-8505-aee78d787f2f",
   "metadata": {},
   "outputs": [],
   "source": [
    "classes_dict = net.classes_dict[labels_type]"
   ]
  },
  {
   "cell_type": "code",
   "execution_count": null,
   "id": "73ef534b-ea88-4d83-af33-984920c3aae4",
   "metadata": {},
   "outputs": [],
   "source": [
    "prob_cover.shape, prob_occlusion.shape, prob_eco.shape, weight_cover.shape, weight_occlusion.shape, weight_eco.shape"
   ]
  },
  {
   "cell_type": "code",
   "execution_count": null,
   "id": "c7021b7c-a3aa-4c1b-afcc-7a1f1da7fdd9",
   "metadata": {},
   "outputs": [],
   "source": [
    "len(v3_locs)"
   ]
  },
  {
   "cell_type": "code",
   "execution_count": null,
   "id": "1389cacb-9aa1-4a01-baa6-925a5687e7d4",
   "metadata": {},
   "outputs": [],
   "source": [
    "len(list(set(v3_locs['location_id'])))"
   ]
  },
  {
   "cell_type": "code",
   "execution_count": null,
   "id": "80efadbd-620a-4d23-8e65-dfab7f9d7561",
   "metadata": {},
   "outputs": [],
   "source": [
    "v3_locs.columns"
   ]
  },
  {
   "cell_type": "code",
   "execution_count": null,
   "id": "94057b09-2633-432c-9097-5a8143cfb336",
   "metadata": {},
   "outputs": [],
   "source": [
    "list(set(v3_locs['selection_1']))"
   ]
  },
  {
   "cell_type": "code",
   "execution_count": null,
   "id": "092e8ea2-08b7-4dbf-a6df-376f6620a1e8",
   "metadata": {},
   "outputs": [],
   "source": [
    "train_locs[0]"
   ]
  },
  {
   "cell_type": "code",
   "execution_count": null,
   "id": "d2b6d8f4-b50b-4bea-8c4e-cdbb1612a869",
   "metadata": {},
   "outputs": [],
   "source": [
    "len(train_locs)"
   ]
  },
  {
   "cell_type": "code",
   "execution_count": null,
   "id": "97f0e5f5-025e-486e-8635-59d996aff6c6",
   "metadata": {},
   "outputs": [],
   "source": [
    "len(val_locs)"
   ]
  },
  {
   "cell_type": "code",
   "execution_count": null,
   "id": "bdf2431a-3d56-462d-9d3d-27a615d7985a",
   "metadata": {},
   "outputs": [],
   "source": [
    "import pandas as pd\n",
    "'/projects/TAP/vegteam/training_data/evotrain_v2/metadata/meteo_biome_features_v1.parquet'\n",
    "tst_meteo = pd.read_parquet('/home/vito/dekeersw/repos/evotrain/src/evotrain/v2/metadata/meteo_biome_features_v1.parquet')"
   ]
  },
  {
   "cell_type": "code",
   "execution_count": null,
   "id": "0732329b-e2c4-4215-b331-3b036c6f2bd5",
   "metadata": {},
   "outputs": [],
   "source": [
    "tst_meteo\n"
   ]
  },
  {
   "cell_type": "code",
   "execution_count": null,
   "id": "11e360c0-11f4-4076-a67c-01fa8764f847",
   "metadata": {},
   "outputs": [],
   "source": []
  },
  {
   "cell_type": "code",
   "execution_count": null,
   "id": "103f9d80-8278-493b-b9ad-35857438b95f",
   "metadata": {},
   "outputs": [],
   "source": [
    "# feats_head\n",
    "# feats"
   ]
  },
  {
   "cell_type": "code",
   "execution_count": null,
   "id": "5099225d-9379-45be-a8ee-f2afe7f16062",
   "metadata": {},
   "outputs": [],
   "source": [
    "# config[\"model\"]"
   ]
  },
  {
   "cell_type": "code",
   "execution_count": null,
   "id": "d810eee2-1428-4de0-b42f-1211e7238e54",
   "metadata": {},
   "outputs": [],
   "source": [
    "# y_pred"
   ]
  },
  {
   "cell_type": "code",
   "execution_count": null,
   "id": "1c802cfd-a489-4fba-98e5-4120def8d0f1",
   "metadata": {},
   "outputs": [],
   "source": []
  },
  {
   "cell_type": "code",
   "execution_count": null,
   "id": "de3075ca-df86-4078-924a-eb2e9c67b62a",
   "metadata": {},
   "outputs": [],
   "source": []
  },
  {
   "cell_type": "code",
   "execution_count": null,
   "id": "db453036-a472-4279-abab-515cffb359b2",
   "metadata": {},
   "outputs": [],
   "source": [
    "\n",
    "labels_type = 'occlusion'\n",
    "range(net.num_classes_components[labels_type])"
   ]
  },
  {
   "cell_type": "code",
   "execution_count": null,
   "id": "db08efcb-fa26-43df-b5d2-5590323fb48f",
   "metadata": {},
   "outputs": [],
   "source": [
    "net._iou_accumulators[labels_type]"
   ]
  },
  {
   "cell_type": "code",
   "execution_count": null,
   "id": "67b08fe0-656b-4c2b-b929-f411ffd181b6",
   "metadata": {},
   "outputs": [],
   "source": [
    "net._labels_types\n",
    "label_type = 'occlusion'\n",
    "mean_iou, classes_iou = net._get_iou_metric(label_type)"
   ]
  },
  {
   "cell_type": "code",
   "execution_count": null,
   "id": "ac105752-b30c-4584-b82a-c41be5fd5517",
   "metadata": {},
   "outputs": [],
   "source": []
  },
  {
   "cell_type": "code",
   "execution_count": null,
   "id": "2cc105d7-6e92-49b2-b155-c5606960a348",
   "metadata": {},
   "outputs": [],
   "source": []
  },
  {
   "cell_type": "code",
   "execution_count": null,
   "id": "14fdaa4c-6faa-4072-b175-7297489fae68",
   "metadata": {},
   "outputs": [],
   "source": [
    "feats.unsqueeze(0).shape"
   ]
  },
  {
   "cell_type": "code",
   "execution_count": null,
   "id": "4f8b87b9-31ac-4e93-868a-a44fd4deefdf",
   "metadata": {},
   "outputs": [],
   "source": [
    "y = net(feats.unsqueeze(0), feats_head.unsqueeze(0))"
   ]
  },
  {
   "cell_type": "code",
   "execution_count": null,
   "id": "4ecb8060-db57-4339-b948-d2aab6c0dacc",
   "metadata": {},
   "outputs": [],
   "source": [
    "y = net(feats.unsqueeze(0), feats_head.unsqueeze(0))"
   ]
  },
  {
   "cell_type": "code",
   "execution_count": null,
   "id": "ee83d552-0c83-4c5f-858a-09025b3b3f2c",
   "metadata": {},
   "outputs": [],
   "source": [
    "len(y)"
   ]
  },
  {
   "cell_type": "code",
   "execution_count": null,
   "id": "4148f56a-1824-4cd5-ba7a-32560fa78145",
   "metadata": {},
   "outputs": [],
   "source": [
    "y[0].shape"
   ]
  },
  {
   "cell_type": "code",
   "execution_count": null,
   "id": "dec53872-853d-4b3a-8185-dca3ba5f51ee",
   "metadata": {},
   "outputs": [],
   "source": [
    "y[1].shape"
   ]
  },
  {
   "cell_type": "code",
   "execution_count": null,
   "id": "738872a7-f14c-4fbc-aaa7-0dd9c3ac9ed5",
   "metadata": {},
   "outputs": [],
   "source": [
    "y[2].shape"
   ]
  },
  {
   "cell_type": "code",
   "execution_count": null,
   "id": "6668735e-8897-49a0-8084-455b20520c84",
   "metadata": {},
   "outputs": [],
   "source": [
    "y[0].shape"
   ]
  },
  {
   "cell_type": "code",
   "execution_count": null,
   "id": "d2a16d9b-9f01-4a7b-9a51-772828363aa2",
   "metadata": {},
   "outputs": [],
   "source": [
    "weights[0].shape"
   ]
  },
  {
   "cell_type": "code",
   "execution_count": null,
   "id": "93c5b8df-759e-45f2-8bc4-f5e9f10b8a5b",
   "metadata": {},
   "outputs": [],
   "source": []
  },
  {
   "cell_type": "code",
   "execution_count": null,
   "id": "e00ff1b3-06c2-4bef-a07d-8c71e674271e",
   "metadata": {},
   "outputs": [],
   "source": [
    "import matplotlib.pyplot as plt\n",
    "import numpy as np\n",
    "from labels import binarize_probs\n",
    "from labels import label_to_rgb\n",
    "from labels import LSC_COVER_LABELS\n",
    "nodata_mask = (weights[0][0] < 0.1).squeeze()\n",
    "lsc_probs = probs[0]\n",
    "# lsc_probs[:, nodata_mask] = np.nan\n",
    "lsc_map = binarize_probs(lsc_probs, LSC_COVER_LABELS) \n",
    "lsc_map[nodata_mask] = 0\n",
    "rgb = label_to_rgb(lsc_map, 'cover')\n",
    "\n",
    "print(rgb.shape)\n",
    "plt.imshow(np.moveaxis(rgb,[0,1,2],[2,0,1]))"
   ]
  },
  {
   "cell_type": "code",
   "execution_count": null,
   "id": "b7fb3401-ece4-48e9-96a3-7dba61d41122",
   "metadata": {},
   "outputs": [],
   "source": [
    "import numpy as np"
   ]
  },
  {
   "cell_type": "code",
   "execution_count": null,
   "id": "de3548d8-8a1e-4964-9fb9-45bde4618943",
   "metadata": {},
   "outputs": [],
   "source": [
    "prob = np.ones((12,6,128, 128))\n",
    "prob_sum = prob.sum(axis=1) \n",
    "nbands = prob.shape[1]\n",
    "prob_sum = np.repeat(np.expand_dims(prob_sum, axis=1), nbands, axis=1)"
   ]
  },
  {
   "cell_type": "code",
   "execution_count": null,
   "id": "b96b4ca9-80b5-479b-bc40-8dcb2cdc07e1",
   "metadata": {},
   "outputs": [],
   "source": [
    "prob_sum.shape"
   ]
  },
  {
   "cell_type": "code",
   "execution_count": null,
   "id": "7265c7a0-4790-4f18-ad60-ae2e83b23f13",
   "metadata": {},
   "outputs": [],
   "source": [
    "prob[prob_sum>1] = prob[prob_sum>1] / prob_sum[prob_sum>1]"
   ]
  },
  {
   "cell_type": "code",
   "execution_count": null,
   "id": "b81a4e90-f38e-4449-be31-999b1d4e7367",
   "metadata": {},
   "outputs": [],
   "source": [
    "np.expand_dims((1-prob_sum), axis=1).shape"
   ]
  },
  {
   "cell_type": "code",
   "execution_count": null,
   "id": "ac04276d-3e47-4904-b131-6cda810d7631",
   "metadata": {},
   "outputs": [],
   "source": [
    "prob_sum = prob.sum(axis=1)\n",
    "prob = np.hstack([prob, np.expand_dims((1-prob_sum), axis=1)])\n"
   ]
  },
  {
   "cell_type": "code",
   "execution_count": null,
   "id": "fdcc0e39-fb28-4c9e-bf0a-c125739c381f",
   "metadata": {},
   "outputs": [],
   "source": [
    "prob.shape"
   ]
  },
  {
   "cell_type": "code",
   "execution_count": null,
   "id": "f479996f-4026-4f49-89e6-e24d02e28cb4",
   "metadata": {},
   "outputs": [],
   "source": [
    "import numpy as np\n",
    "import xarray as xr\n",
    "prob_cover = ds.evo_dataset.read_annotation(\n",
    "            sample_id, annotation_name=\"lsc-evo-v1-prob-cover-v1\"\n",
    "        )\n",
    "print(len(prob_cover.band))\n",
    "sample_id = '55GEN_046_09_20200105'\n",
    "tst = ds.evo_dataset.read_annotation(\n",
    "            sample_id, annotation_name=\"lsc-evo-v1-weight-cover-v1\"\n",
    "        )\n",
    "xr.concat([tst for it in np.arange(len(prob_cover.band))], dim='band')\n",
    "# xr.DataArray(np.repeat(tst.data, 4, axis=0), dims=['band', 'y', 'x'],\n",
    "#             coords=)\n"
   ]
  },
  {
   "cell_type": "code",
   "execution_count": null,
   "id": "f05610b9-5cf4-4439-941c-7617bf8728da",
   "metadata": {},
   "outputs": [],
   "source": [
    "from pathlib import Path\n",
    "import pandas as pd\n",
    "_DATASET_PATH_HPC = Path(\"/projects/TAP/vegteam/training_data/evotrain_lsc/evotrain_lsc_v4_iiasa\")\n",
    "meta = pd.read_parquet(_DATASET_PATH_HPC / 'metadata' / \"locs_fracs.parquet\")"
   ]
  },
  {
   "cell_type": "code",
   "execution_count": null,
   "id": "09ba6c2a-c5c2-4653-bd02-a5478314ff50",
   "metadata": {},
   "outputs": [],
   "source": [
    "len(list(set(meta['location_id'])))"
   ]
  },
  {
   "cell_type": "code",
   "execution_count": null,
   "id": "6ee0891c-c452-4bf0-8048-fbb285603cfc",
   "metadata": {},
   "outputs": [],
   "source": []
  }
 ],
 "metadata": {
  "kernelspec": {
   "display_name": "eo_torch",
   "language": "python",
   "name": "eo_torch"
  },
  "language_info": {
   "codemirror_mode": {
    "name": "ipython",
    "version": 3
   },
   "file_extension": ".py",
   "mimetype": "text/x-python",
   "name": "python",
   "nbconvert_exporter": "python",
   "pygments_lexer": "ipython3",
   "version": "3.10.16"
  }
 },
 "nbformat": 4,
 "nbformat_minor": 5
}
