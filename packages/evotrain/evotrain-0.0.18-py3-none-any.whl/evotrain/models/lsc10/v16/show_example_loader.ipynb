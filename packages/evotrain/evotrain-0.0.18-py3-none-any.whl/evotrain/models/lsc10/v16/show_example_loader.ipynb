{
 "cells": [
  {
   "cell_type": "markdown",
   "id": "91d1a95e-4091-4ddc-b05d-995fdd17218c",
   "metadata": {},
   "source": [
    "## Illustrating the LSC EvoNetV1Dataset\n"
   ]
  },
  {
   "cell_type": "code",
   "execution_count": null,
   "id": "e29dd65a",
   "metadata": {},
   "outputs": [],
   "source": [
    "%load_ext autoreload\n",
    "%autoreload 2\n",
    "%matplotlib widget"
   ]
  },
  {
   "cell_type": "code",
   "execution_count": null,
   "id": "5ffe3f52-7ca4-487c-bf82-56ca73119cb2",
   "metadata": {},
   "outputs": [],
   "source": [
    "import torch\n",
    "torch.cuda.is_available()\n",
    "# torch.cuda.device_count()"
   ]
  },
  {
   "cell_type": "code",
   "execution_count": null,
   "id": "5393e552-80e1-46db-be8b-266652a5843c",
   "metadata": {},
   "outputs": [],
   "source": [
    "from pathlib import Path\n",
    "import matplotlib.pyplot as plt\n",
    "import numpy as np\n",
    "\n",
    "\n",
    "from evotrain.models.lsc10.v16.dataset import EvoNetV1Dataset"
   ]
  },
  {
   "cell_type": "code",
   "execution_count": null,
   "id": "a3090ffe-4e48-41fb-9a51-6a27fcfba211",
   "metadata": {},
   "outputs": [],
   "source": [
    "ds = EvoNetV1Dataset(\n",
    "    bands=[\"B04\", \"B03\", \"B02\", \"cop-DEM-alt\", \"VV\", \"VH\", 'VHonVV'],#\"VHVV-RATIO\"],\n",
    "    rgb_bands=None,\n",
    "    flip_augmentation=True,\n",
    "    rotate_augmentation=True,\n",
    "    augmented_scaling=True,\n",
    "    k_factor=5,\n",
    "    k_factor_jitter=2,\n",
    "    meteo_jitter=0.05,\n",
    "    latlon_jitter=0.5,\n",
    "    doy_jitter=15,\n",
    "    shuffle_locs=False,\n",
    "    sort_locs_by_latitude=False,\n",
    ")"
   ]
  },
  {
   "cell_type": "code",
   "execution_count": null,
   "id": "cdf00292-1db0-4653-98f4-72def60141bc",
   "metadata": {},
   "outputs": [],
   "source": [
    "# ds[8601]"
   ]
  },
  {
   "cell_type": "code",
   "execution_count": null,
   "id": "2e91ede5-a950-4f01-bf2e-e2ddb24faaa6",
   "metadata": {},
   "outputs": [],
   "source": [
    "tst = ds[38101] #ds[86011] #ds[8601]"
   ]
  },
  {
   "cell_type": "code",
   "execution_count": null,
   "id": "a0bd3130-e729-4193-a32c-f17ab85d5643",
   "metadata": {},
   "outputs": [],
   "source": [
    "tst[0].shape"
   ]
  },
  {
   "cell_type": "code",
   "execution_count": null,
   "id": "3fad2d70-04cb-4cc5-a6db-60227e0b5f41",
   "metadata": {},
   "outputs": [],
   "source": [
    "len(tst[-1][-1])\n",
    "(tst[-1][-1].numpy()[-1,...].squeeze()).min()"
   ]
  },
  {
   "cell_type": "code",
   "execution_count": null,
   "id": "33775b80-f620-4e7b-a52a-c29c772b4d53",
   "metadata": {},
   "outputs": [],
   "source": [
    "# tst[0].numpy().squeeze()[3,...].max()\n",
    "plt.imshow(tst[-1][-1].numpy()[-1,...].squeeze())"
   ]
  },
  {
   "cell_type": "code",
   "execution_count": null,
   "id": "484de57a-f8a7-4e99-b4a8-90aae10fb9e4",
   "metadata": {},
   "outputs": [],
   "source": [
    "np.nanmax(tst[0].numpy().squeeze()[2,...])"
   ]
  },
  {
   "cell_type": "code",
   "execution_count": null,
   "id": "f11c6222-c3e3-408f-9439-394595167390",
   "metadata": {},
   "outputs": [],
   "source": [
    "np.nanmax(tst[0].numpy().squeeze()[6,...])"
   ]
  },
  {
   "cell_type": "code",
   "execution_count": null,
   "id": "43fa5b08-7cca-4182-a3a9-f62ac93795d8",
   "metadata": {},
   "outputs": [],
   "source": [
    "rgb = tst[0].numpy().squeeze()[6,...]\n",
    "rgb[rgb == -1] = np.nan\n",
    "plt.imshow(rgb)"
   ]
  },
  {
   "cell_type": "code",
   "execution_count": null,
   "id": "97aa16f4-7f66-471f-93f7-b8425c868b02",
   "metadata": {},
   "outputs": [],
   "source": [
    "rgb = tst[0].numpy().squeeze()[:3,...]\n",
    "rgb = np.moveaxis(rgb, 0, -1)\n",
    "rgb[rgb == -1] = np.nan\n",
    "plt.imshow(rgb*3.5)"
   ]
  },
  {
   "cell_type": "code",
   "execution_count": null,
   "id": "cd6678c4-b0c8-4092-8d73-71d4b82a7901",
   "metadata": {},
   "outputs": [],
   "source": [
    "# ds[2]\n",
    "quarter_ids = ds.ids\n",
    "quarter_ids.index('11WMM_078_25_2020Q3')"
   ]
  },
  {
   "cell_type": "code",
   "execution_count": null,
   "id": "1eb21774-0a7c-4d45-867f-33b74872c104",
   "metadata": {},
   "outputs": [],
   "source": []
  },
  {
   "cell_type": "code",
   "execution_count": null,
   "id": "ae3a1dc2-5724-4bc8-8bd5-b65d13acbb7f",
   "metadata": {},
   "outputs": [],
   "source": [
    "import xarray as xr \n"
   ]
  },
  {
   "cell_type": "code",
   "execution_count": null,
   "id": "04568728-788c-4129-8afe-5c975abc3743",
   "metadata": {},
   "outputs": [],
   "source": [
    "sample_id = '11WMM_078_25_20200720'\n",
    "ds.read_feats(sample_id, [\"VHonVV\"])\n"
   ]
  },
  {
   "cell_type": "code",
   "execution_count": null,
   "id": "adde4310-e831-4eae-943f-e0773419c914",
   "metadata": {},
   "outputs": [],
   "source": [
    "sample_id = '11WMM_078_25_20200720'\n",
    "darr = ds.read_feats(sample_id, [\"B04\", \"B03\", \"B02\", \"VV\", \"VH\", \"VHonVV\"])\n",
    "# ids = ds.ids\n",
    "# # arr_s2 = ds.evo_dataset._reader()._read_s2('11WMM_078_25_20200214')\n",
    "# ids.index(sample_id)"
   ]
  },
  {
   "cell_type": "code",
   "execution_count": null,
   "id": "df927a58-24a9-4038-98c0-143c2403e068",
   "metadata": {},
   "outputs": [],
   "source": [
    "feats_bands = darr.band.data.tolist()\n",
    "\n",
    "from evotrain.v2tsm.bands import BANDS_V2TSM_S1_GAMMA0\n",
    "\n",
    "[b for b in BANDS_V2TSM_S1_GAMMA0 if b in feats_bands]\n"
   ]
  },
  {
   "cell_type": "code",
   "execution_count": null,
   "id": "0bc1e495-334a-4ddb-8b49-3f0292b219d2",
   "metadata": {},
   "outputs": [],
   "source": [
    "darr.loc[dict(band=\"VV\")] = -1\n",
    "darr.loc[dict(band=\"VH\")] = -1\n",
    "darr.loc[dict(band=\"VHonVV\")] = -1"
   ]
  },
  {
   "cell_type": "code",
   "execution_count": null,
   "id": "f113fffe-ddd1-40af-9b72-78c34400e666",
   "metadata": {},
   "outputs": [],
   "source": [
    "darr"
   ]
  },
  {
   "cell_type": "code",
   "execution_count": null,
   "id": "8f46088a-6f71-4cf2-998c-fe2e3c6e1bf0",
   "metadata": {},
   "outputs": [],
   "source": [
    "darr.loc[dict(band=\"VV\")]"
   ]
  },
  {
   "cell_type": "code",
   "execution_count": null,
   "id": "e102d22e-a40a-4cc6-b85f-ff1143d58134",
   "metadata": {},
   "outputs": [],
   "source": [
    "['VV'] in darr.band.data.tolist()\n",
    "any(map(lambda v: v in darr.band.data.tolist(), [\"VV\", \"VH\", \"VHonVV\"]))\n",
    "# darr.band.data.tolist()"
   ]
  },
  {
   "cell_type": "code",
   "execution_count": null,
   "id": "5c22be44-86e4-4ac5-bfc7-375227f13b3f",
   "metadata": {},
   "outputs": [],
   "source": [
    "darr"
   ]
  },
  {
   "cell_type": "code",
   "execution_count": null,
   "id": "2e429da0-7309-40ac-96e9-1ab5923c85da",
   "metadata": {},
   "outputs": [],
   "source": [
    "import random\n",
    "random.randrange(0,1000)"
   ]
  },
  {
   "cell_type": "code",
   "execution_count": null,
   "id": "1d6bbf83-4fc7-499f-8af4-fd3d1434e9fa",
   "metadata": {},
   "outputs": [],
   "source": [
    "import matplotlib.pyplot as plt\n",
    "rgb = darr.sel(band = [\"B04\", \"B03\", \"B02\"]).data\n",
    "rgb = np.moveaxis(rgb,0,-1)\n",
    "plt.imshow(rgb*4.5)"
   ]
  },
  {
   "cell_type": "code",
   "execution_count": null,
   "id": "e3be1344-ca9a-496e-a684-d1d086fd3910",
   "metadata": {},
   "outputs": [],
   "source": [
    "rgb = darr.sel(band = [\"VH\"]).data\n",
    "rgb = rgb.squeeze()\n",
    "plt.imshow(rgb)"
   ]
  },
  {
   "cell_type": "code",
   "execution_count": null,
   "id": "d770d6f6-96b2-4c19-8362-1f4570c4e0f1",
   "metadata": {},
   "outputs": [],
   "source": [
    "from evotrain.v2tsm import EvoTrainV2TSMDataset\n",
    "evo_ds = EvoTrainV2TSMDataset(\n",
    "        # dataset_path=dataset_path\n",
    "    )"
   ]
  },
  {
   "cell_type": "code",
   "execution_count": null,
   "id": "8ff0b133-2086-4380-8f62-9c757a55ea6c",
   "metadata": {},
   "outputs": [],
   "source": [
    "tmp = ds.evo_dataset.locs.copy()\n",
    "tmp[tmp['location_id'] == '11WMM_078_25']['sample_id']"
   ]
  },
  {
   "cell_type": "code",
   "execution_count": null,
   "id": "36d59f8c-b1e7-4db7-8734-06cee7fc6c34",
   "metadata": {},
   "outputs": [],
   "source": [
    "\n",
    "# feats, feats_head, probs, weights = ds[it]"
   ]
  },
  {
   "cell_type": "code",
   "execution_count": null,
   "id": "196da1e7-bacb-476d-b3e1-ba57ed334973",
   "metadata": {},
   "outputs": [],
   "source": []
  },
  {
   "cell_type": "code",
   "execution_count": null,
   "id": "e5a47178-811e-4ba4-9db6-7c76f2b0b19c",
   "metadata": {},
   "outputs": [],
   "source": []
  },
  {
   "cell_type": "code",
   "execution_count": null,
   "id": "a11a14d4-56aa-4040-a046-aaab6b1a8f3e",
   "metadata": {},
   "outputs": [],
   "source": []
  },
  {
   "cell_type": "code",
   "execution_count": null,
   "id": "0a343715-6e5b-44bd-abb7-6db13e9c8f47",
   "metadata": {},
   "outputs": [],
   "source": []
  },
  {
   "cell_type": "code",
   "execution_count": null,
   "id": "08dbd6be-8c10-4739-bf1e-8b9b3f76ea2e",
   "metadata": {},
   "outputs": [],
   "source": [
    "import xarray as xr\n",
    "pth = '/projects/TAP/vegteam/training_data/GAMMA0-RAW/v001/patches/11/W/MM/2020/LCFM_GAMMA0-RAW_2020_11WMM_078_25_V001.nc'\n",
    "\n",
    "darr = xr.open_dataset(pth)\n"
   ]
  },
  {
   "cell_type": "code",
   "execution_count": null,
   "id": "2118f2cf-12f4-4f95-8e63-8279c3329ea2",
   "metadata": {},
   "outputs": [],
   "source": [
    "darr.t.data"
   ]
  },
  {
   "cell_type": "code",
   "execution_count": null,
   "id": "5a7ddc1e-0bf0-47d8-9387-8da483cb507b",
   "metadata": {},
   "outputs": [],
   "source": [
    "import satio_pc\n",
    "from satio_pc.extension import SatioTimeSeries\n",
    "# vv = darr['VV']\n",
    "# bounds = vv.satio.bounds"
   ]
  },
  {
   "cell_type": "code",
   "execution_count": null,
   "id": "24fc549a-0368-4773-8d4f-352048a9f7c6",
   "metadata": {},
   "outputs": [],
   "source": [
    "bounds = [int(b) for b in list(bounds)]"
   ]
  },
  {
   "cell_type": "code",
   "execution_count": null,
   "id": "54a0d3fd-a102-4e2c-8348-2674e1aa48a1",
   "metadata": {},
   "outputs": [],
   "source": [
    "bounds"
   ]
  },
  {
   "cell_type": "code",
   "execution_count": null,
   "id": "45756436-6a75-4be5-bdb6-ebb0676794ed",
   "metadata": {},
   "outputs": [],
   "source": [
    "vv.shape"
   ]
  },
  {
   "cell_type": "code",
   "execution_count": null,
   "id": "aca9f77a-63ca-482d-919c-77eb87d0850c",
   "metadata": {},
   "outputs": [],
   "source": [
    "# # epsg = 4326 #src.crs.to_epsg()\n",
    "# from satio_pc.geotiff import compute_pixel_coordinates\n",
    "# attrs = {\"bounds\": bounds}#\"epsg\": epsg, \n",
    "# bands = [\"VV\"]\n",
    "# time = list(vv.t.data)\n",
    "# new_y, new_x = compute_pixel_coordinates(bounds, vv.shape[-2:])\n",
    "\n",
    "# darr = xr.DataArray(\n",
    "#     vv.expand_dims({'band': 1}, axis=1).data,\n",
    "#     dims=[\"time\", \"band\", \"y\", \"x\"],\n",
    "#     coords={\"time\": time, \"band\": bands, \"y\": new_y, \"x\": new_x},\n",
    "#     attrs=attrs,\n",
    "# )"
   ]
  },
  {
   "cell_type": "code",
   "execution_count": null,
   "id": "bc362449-b354-454f-b76f-fa380ad97833",
   "metadata": {},
   "outputs": [],
   "source": [
    "# darr.satio.rescale(scale=2, order=0)"
   ]
  },
  {
   "cell_type": "code",
   "execution_count": null,
   "id": "6890851c-2e09-4a38-a144-d77048984c8c",
   "metadata": {},
   "outputs": [],
   "source": [
    "\n",
    "# isinstance(new_res, xr.DataArray)"
   ]
  },
  {
   "cell_type": "code",
   "execution_count": null,
   "id": "cb1ad5c8-80ed-4567-93b2-244bcf87f5ac",
   "metadata": {},
   "outputs": [],
   "source": [
    "# int(new_res / 2)"
   ]
  },
  {
   "cell_type": "code",
   "execution_count": null,
   "id": "5d2e8b29-fb0d-4202-adab-67c6d7a26217",
   "metadata": {},
   "outputs": [],
   "source": [
    "# import numpy as np\n",
    "# scale = 2\n",
    "# xmin, ymin, xmax, ymax = darr.satio.bounds\n",
    "# new_res = darr.attrs.get('resolution',\n",
    "#                        vv.x[1] - vv.x[0]) / scale\n",
    "# new_res_half = new_res.data / 2\n",
    "\n",
    "# old_x = vv.x.size\n",
    "# old_y = vv.y.size\n",
    "\n",
    "# new_x = np.linspace(xmin + new_res_half,\n",
    "#                     xmax - new_res_half,\n",
    "                    # int(old_x * scale))"
   ]
  },
  {
   "cell_type": "code",
   "execution_count": null,
   "id": "846b8055-90b6-46cc-b220-d23eb6204b21",
   "metadata": {},
   "outputs": [],
   "source": [
    "tmp = ds.evo_dataset.locs.copy()\n",
    "tmp[tmp['location_id'] == '11WMM_078_25']['sample_id']"
   ]
  },
  {
   "cell_type": "code",
   "execution_count": null,
   "id": "9e5acea4-b4f8-472f-bd7f-f5678cca97bf",
   "metadata": {},
   "outputs": [],
   "source": [
    "# vv = darr.VV\n",
    "# vv\n",
    "# darr"
   ]
  },
  {
   "cell_type": "code",
   "execution_count": null,
   "id": "a8728659-6869-4f1a-98b4-82468b7bdc02",
   "metadata": {},
   "outputs": [],
   "source": [
    "# Rename the dimensions using rename_dims\n",
    "s1_bands = ['VV', 'VH', 'VHonVV']\n",
    "list_darrs = []\n",
    "for band in s1_bands:\n",
    "    vv = darr[band]\n",
    "    vv = vv.rename({\"t\": \"time\"})\n",
    "    vv = vv.expand_dims({'band': 1}, axis=1)\n",
    "    vv = vv.assign_coords(band=[band])\n",
    "    list_darrs.append(vv)\n",
    "darr_all = xr.concat(\n",
    "            list_darrs,\n",
    "            dim=\"band\",\n",
    "            compat=\"equals\",\n",
    "        )\n",
    "\n",
    "\n",
    "from satio_pc.extension import SatioTimeSeries\n",
    "darr_all = darr_all.satio.rescale(scale=2, order=0)"
   ]
  },
  {
   "cell_type": "code",
   "execution_count": null,
   "id": "4cc22021-8472-48fe-9f05-821dabd8bce1",
   "metadata": {},
   "outputs": [],
   "source": [
    "darr_all.shape"
   ]
  },
  {
   "cell_type": "code",
   "execution_count": null,
   "id": "bbbe84a3-1383-4a55-82e6-0f0591fc693b",
   "metadata": {},
   "outputs": [],
   "source": [
    "darr_all"
   ]
  },
  {
   "cell_type": "code",
   "execution_count": null,
   "id": "28791761-2937-484e-9458-767c515560d2",
   "metadata": {},
   "outputs": [],
   "source": [
    "# arr = vv.sel(time = vv.time.data[0]).data.squeeze()\n",
    "# arr.shape"
   ]
  },
  {
   "cell_type": "code",
   "execution_count": null,
   "id": "83000cce-5975-45a3-943d-77d94619b692",
   "metadata": {},
   "outputs": [],
   "source": [
    "# vv\n",
    "# vv.x.size"
   ]
  },
  {
   "cell_type": "code",
   "execution_count": null,
   "id": "3cead260-8076-4758-a4e3-382f476ed6c3",
   "metadata": {},
   "outputs": [],
   "source": [
    "# vv.satio.bounds"
   ]
  },
  {
   "cell_type": "code",
   "execution_count": null,
   "id": "d6af1f7d-8ada-4f43-ae25-cf57324ed73d",
   "metadata": {},
   "outputs": [],
   "source": [
    "# vv.attrs.get('resolution',\n",
    "#                              vv.x[1] - vv.x[0])"
   ]
  },
  {
   "cell_type": "code",
   "execution_count": null,
   "id": "e8e509df-ba59-430f-9ff3-c43290470170",
   "metadata": {},
   "outputs": [],
   "source": [
    "# xmin + new_res_half"
   ]
  },
  {
   "cell_type": "code",
   "execution_count": null,
   "id": "364cd666-0dad-4ef5-bb24-87e1c0720b17",
   "metadata": {},
   "outputs": [],
   "source": []
  },
  {
   "cell_type": "code",
   "execution_count": null,
   "id": "b36d17c5-b7fe-4cfb-a357-c36c5204dc5f",
   "metadata": {},
   "outputs": [],
   "source": [
    "# blurred_scl20 = xr.DataArray(\n",
    "#     blurred_scl20, dims=[\"time\", \"band\", \"y\", \"x\"]\n",
    "# )\n",
    "# blurred_scl10 = blurred_scl20.satio.rescale(scale=2, order=0)"
   ]
  },
  {
   "cell_type": "code",
   "execution_count": null,
   "id": "faff8bb3-f005-4588-9130-667249ec744a",
   "metadata": {},
   "outputs": [],
   "source": [
    "# import xarray as xr\n",
    "# from satio_pc.extension import SatioTimeSeries\n",
    "# # import satio_pc\n",
    "# # import satio\n",
    "# blurred_scl20 = xr.DataArray(\n",
    "#         np.ones((4,5,64,64)), dims=[\"time\", \"band\", \"y\", \"x\"]\n",
    "#     )\n",
    "# blurred_scl20.shape\n",
    "# blurred_scl20 = blurred_scl20.transpose(\"time\", \"band\", \"y\", \"x\")\n",
    "    "
   ]
  },
  {
   "cell_type": "code",
   "execution_count": null,
   "id": "904cc461-0bc5-40b9-8571-be4fcccdb189",
   "metadata": {},
   "outputs": [],
   "source": [
    "# blurred_scl20.satio.rescale(scale=2, order=0)"
   ]
  },
  {
   "cell_type": "code",
   "execution_count": null,
   "id": "8b1513fc-3f81-40e7-b2ac-261b40ea9dd1",
   "metadata": {},
   "outputs": [],
   "source": [
    "# vv['x'] = vv.x.astype(np.int64)"
   ]
  },
  {
   "cell_type": "code",
   "execution_count": null,
   "id": "6b8fa82d-2340-4cfb-934f-60299b73f3ed",
   "metadata": {},
   "outputs": [],
   "source": [
    "# vv.x"
   ]
  },
  {
   "cell_type": "code",
   "execution_count": null,
   "id": "b50d4b0e-e569-4721-87da-30c155e4aedf",
   "metadata": {},
   "outputs": [],
   "source": [
    "# vv.x[1] - vv.x[0]"
   ]
  },
  {
   "cell_type": "code",
   "execution_count": null,
   "id": "e3203948-95c1-4f0a-8caf-1bb3e11f93d5",
   "metadata": {},
   "outputs": [],
   "source": [
    "# scale = 2\n",
    "# xmin, ymin, xmax, ymax = vv.satio.bounds\n",
    "# new_res = vv.attrs.get('resolution',\n",
    "#                        vv.x[1] - vv.x[0]) / scale\n",
    "# new_res_half = int(new_res / 2)\n",
    "\n",
    "# old_x = vv.x.size\n",
    "# old_y = vv.y.size\n",
    "\n",
    "# new_x = np.linspace(xmin + new_res_half,\n",
    "#                     xmax - new_res_half,\n",
    "#                     int(old_x * scale))"
   ]
  },
  {
   "cell_type": "code",
   "execution_count": null,
   "id": "3e98f3fa-4eb9-422e-b4ff-9360fd8ab57d",
   "metadata": {},
   "outputs": [],
   "source": [
    "# xmin + new_res_half"
   ]
  },
  {
   "cell_type": "code",
   "execution_count": null,
   "id": "7cffed41-1e20-498a-a28a-80bc57c5e8ff",
   "metadata": {},
   "outputs": [],
   "source": [
    "# xmax - new_res_half"
   ]
  },
  {
   "cell_type": "code",
   "execution_count": null,
   "id": "17bdcd70-ac08-4401-b46b-b6a97e39af44",
   "metadata": {},
   "outputs": [],
   "source": [
    "# int(old_x * scale)"
   ]
  },
  {
   "cell_type": "code",
   "execution_count": null,
   "id": "88f96365-7310-442c-9676-6cd46f62e60c",
   "metadata": {},
   "outputs": [],
   "source": [
    "# new_res_half"
   ]
  },
  {
   "cell_type": "code",
   "execution_count": null,
   "id": "800c50f6-c01c-43a6-b6ad-e35d78774069",
   "metadata": {},
   "outputs": [],
   "source": [
    "# np.linspace(int(xmin) + int(new_res_half),\n",
    "#             int(xmax) - new_res_half,\n",
    "#                     int(old_x * scale))"
   ]
  },
  {
   "cell_type": "code",
   "execution_count": null,
   "id": "82ef10c2-7428-46b0-8ffb-45152efeed77",
   "metadata": {},
   "outputs": [],
   "source": [
    "vv.data.shape"
   ]
  },
  {
   "cell_type": "code",
   "execution_count": null,
   "id": "548493c4-34f6-4faf-87f4-ef43a078fbf4",
   "metadata": {},
   "outputs": [],
   "source": [
    "arr_s2"
   ]
  },
  {
   "cell_type": "code",
   "execution_count": null,
   "id": "367e0452-266e-4894-971a-ee21ae4ccac9",
   "metadata": {},
   "outputs": [],
   "source": [
    "# import satio_pc\n",
    "# vv = darr.VV\n",
    "# vv = vv.rename({\"t\": \"time\"})\n",
    "\n",
    "# vv = vv.expand_dims({'band': 1}, axis=1)\n",
    "# vv = vv.assign_coords(band=[\"VV\"])\n",
    "# # vv = vv.sel(t = vv.t.data[1])\n",
    "# vv.satio.rescale(scale=2, order=0)\n",
    "year = '2020'\n",
    "month = '02'\n",
    "day = '01'\n",
    "np.datetime64(f'{year}-{month}-{day}')"
   ]
  },
  {
   "cell_type": "code",
   "execution_count": null,
   "id": "e16127e5-de01-42c9-a27d-72730de4f106",
   "metadata": {},
   "outputs": [],
   "source": [
    "np.datetime64(f'{year}-{month}-{day}') in list(darr_all.time.data)"
   ]
  },
  {
   "cell_type": "code",
   "execution_count": null,
   "id": "7986912c-1195-4186-9860-4802d27c1285",
   "metadata": {},
   "outputs": [],
   "source": [
    "# darr_all.sel(time = np.datetime64(f'{year}-{month}-{day}'))"
   ]
  },
  {
   "cell_type": "code",
   "execution_count": null,
   "id": "55ad80ad-9666-40be-9c2e-d7192c7275bd",
   "metadata": {},
   "outputs": [],
   "source": [
    "# vv.expand_dims({'band': 1})\n",
    "darr_all.time.data"
   ]
  },
  {
   "cell_type": "code",
   "execution_count": null,
   "id": "ddc5e091-8e4f-4ee5-80b8-be06d332c33e",
   "metadata": {},
   "outputs": [],
   "source": [
    "arr_s2 = ds.evo_dataset._reader()._read_s2('11WMM_078_25_20200214')"
   ]
  },
  {
   "cell_type": "code",
   "execution_count": null,
   "id": "e0d387e3-77b1-4e05-9710-42ab40154fd8",
   "metadata": {},
   "outputs": [],
   "source": [
    "darr_merged = xr.concat(\n",
    "            [arr_s2, darr_all.sel(time = darr_all.time.data[0])],\n",
    "            dim=\"band\",\n",
    "            compat=\"equals\",\n",
    "        )"
   ]
  },
  {
   "cell_type": "code",
   "execution_count": null,
   "id": "dcee540f-36a7-48f1-af5a-f629d54f1eed",
   "metadata": {},
   "outputs": [],
   "source": [
    "darr_merged"
   ]
  },
  {
   "cell_type": "code",
   "execution_count": null,
   "id": "fafd5971-2dbe-4c29-8f7c-939dd9e3249e",
   "metadata": {},
   "outputs": [],
   "source": [
    "vv = darr.VV.data\n",
    "vh = darr.VH.data\n",
    "ratio = darr.VHonVV.data"
   ]
  },
  {
   "cell_type": "code",
   "execution_count": null,
   "id": "bd28e48d-b84f-41d4-bfe2-feb46b52dfac",
   "metadata": {},
   "outputs": [],
   "source": []
  },
  {
   "cell_type": "code",
   "execution_count": null,
   "id": "dad50c46-137f-40ca-a42b-ba8dc282ba5d",
   "metadata": {},
   "outputs": [],
   "source": [
    "# # epsg = 4326 #src.crs.to_epsg()\n",
    "from satio_pc.geotiff import compute_pixel_coordinates\n",
    "bounds = arr_s2.satio.bounds\n",
    "fill_value = -1\n",
    "attrs = {\"bounds\": bounds}#\"epsg\": epsg, \n",
    "bands = [\"VV\", \"VH\"]\n",
    "new_y, new_x = compute_pixel_coordinates(bounds, arr_s2.shape[-2:])\n",
    "fill_value = -1\n",
    "s1_arr = np.ones((len(bands), arr_s2.shape[-2], arr_s2.shape[-1])) * fill_value\n",
    "\n",
    "darr_tst = xr.DataArray(\n",
    "    s1_arr,\n",
    "    dims=[\"band\", \"y\", \"x\"],\n",
    "    coords={\"band\": bands, \"y\": new_y, \"x\": new_x},\n",
    "    attrs=attrs,\n",
    ")"
   ]
  },
  {
   "cell_type": "code",
   "execution_count": null,
   "id": "c63524a9-7ea8-467f-97cd-cb3d3b0b46df",
   "metadata": {},
   "outputs": [],
   "source": [
    "darr_tst"
   ]
  },
  {
   "cell_type": "code",
   "execution_count": null,
   "id": "43c65403-1563-4bd9-bc13-cb0d1cbaf95f",
   "metadata": {},
   "outputs": [],
   "source": [
    "arr_s2"
   ]
  },
  {
   "cell_type": "code",
   "execution_count": null,
   "id": "b05a057c-7dc6-460c-aa9b-5981de255d4e",
   "metadata": {},
   "outputs": [],
   "source": [
    "# darr.VH.t\n",
    "feats.shape"
   ]
  },
  {
   "cell_type": "code",
   "execution_count": null,
   "id": "071565cf-8045-46d3-8194-dbcff9453a28",
   "metadata": {},
   "outputs": [],
   "source": [
    "darr.VV.t"
   ]
  },
  {
   "cell_type": "code",
   "execution_count": null,
   "id": "f525554a-6036-485f-8167-c4711170b4d0",
   "metadata": {},
   "outputs": [],
   "source": [
    "import rasterio\n",
    "with rasterio.open() as src:\n",
    "    "
   ]
  },
  {
   "cell_type": "code",
   "execution_count": null,
   "id": "828fad44-7ce4-4c77-ad96-2740f634878b",
   "metadata": {},
   "outputs": [],
   "source": [
    "list(darr.VV.t.data)[0]"
   ]
  },
  {
   "cell_type": "code",
   "execution_count": null,
   "id": "f76c6c1a-78a8-4cc6-83d1-35c797621865",
   "metadata": {},
   "outputs": [],
   "source": [
    "month = list(darr.VV.t.data)[0].astype('datetime64[M]').astype(int) % 12 + 1\n",
    "month"
   ]
  },
  {
   "cell_type": "code",
   "execution_count": null,
   "id": "248e13e0-d82e-4438-9370-0d680b8f3972",
   "metadata": {},
   "outputs": [],
   "source": [
    "import matplotlib.pyplot as plt\n",
    "plt.imshow(vv[3,...])"
   ]
  },
  {
   "cell_type": "code",
   "execution_count": null,
   "id": "171b9d5e",
   "metadata": {},
   "outputs": [],
   "source": [
    "import torch"
   ]
  },
  {
   "cell_type": "code",
   "execution_count": null,
   "id": "333c7a70",
   "metadata": {},
   "outputs": [],
   "source": [
    "t = torch.rand(64, 13, 256, 256)\n",
    "m = torch.max(t, dim=1, keepdim=True)"
   ]
  },
  {
   "cell_type": "code",
   "execution_count": null,
   "id": "23fecf61",
   "metadata": {},
   "outputs": [],
   "source": [
    "m[0]"
   ]
  },
  {
   "cell_type": "code",
   "execution_count": null,
   "id": "67f514da-e35a-4b22-9300-2057678362f7",
   "metadata": {},
   "outputs": [],
   "source": [
    "ds = EvoNetV1Dataset(\n",
    "    bands=[\"B04\", \"B03\", \"B02\", \"cop-DEM-alt\"],\n",
    "    rgb_bands=None,\n",
    "    flip_augmentation=True,\n",
    "    rotate_augmentation=True,\n",
    "    augmented_scaling=False,\n",
    "    k_factor=5,\n",
    "    k_factor_jitter=2,\n",
    "    meteo_jitter=0.05,\n",
    "    latlon_jitter=0.5,\n",
    "    doy_jitter=15,\n",
    "    shuffle_locs=False,\n",
    "    sort_locs_by_latitude=False,\n",
    ")"
   ]
  },
  {
   "cell_type": "code",
   "execution_count": null,
   "id": "66ab7b74-1b5d-4d13-9149-0800cdc82378",
   "metadata": {},
   "outputs": [],
   "source": [
    "len(ds.ids)"
   ]
  },
  {
   "cell_type": "code",
   "execution_count": null,
   "id": "1cc915c8-430f-4f41-93b7-8ec0fe2d18b4",
   "metadata": {},
   "outputs": [],
   "source": [
    "len(ds.ids)"
   ]
  },
  {
   "cell_type": "markdown",
   "id": "dd5c4322-9e81-4257-ae4c-f0b77c2b3770",
   "metadata": {},
   "source": [
    "### Let's load some data"
   ]
  },
  {
   "cell_type": "code",
   "execution_count": null,
   "id": "6801e263-ba72-4696-8bf9-f244207d7eaf",
   "metadata": {},
   "outputs": [],
   "source": [
    "import rasterio\n",
    "with rasterio.open('/projects/TAP/vegteam/training_data/evotrain_v2tsm/annotations/2020/01/55/G/EN/evotrain_v2tsm_lsc-evo-v1-weight-cover-v1_55GEN_046_09_20200105.tif') as src:\n",
    "    print(src.descriptions)"
   ]
  },
  {
   "cell_type": "code",
   "execution_count": null,
   "id": "5bf4613a-316f-4df2-8414-6b486b07ec19",
   "metadata": {},
   "outputs": [],
   "source": [
    "it = 11\n",
    "sample_id = ds.ids[it]\n",
    "sample_id"
   ]
  },
  {
   "cell_type": "code",
   "execution_count": null,
   "id": "b3072f56-5225-47e6-a348-f856f4b9f777",
   "metadata": {},
   "outputs": [],
   "source": [
    "# len(ds)\n",
    "it = 11\n",
    "feats, feats_head, probs, weights = ds[it]\n",
    "sample_id = ds.ids[it]"
   ]
  },
  {
   "cell_type": "code",
   "execution_count": null,
   "id": "64c88265-0fa1-4da6-b42f-ede312ee1c96",
   "metadata": {},
   "outputs": [],
   "source": []
  },
  {
   "cell_type": "code",
   "execution_count": null,
   "id": "279256a5-0de1-49a3-891e-216db9801aa9",
   "metadata": {},
   "outputs": [],
   "source": []
  },
  {
   "cell_type": "markdown",
   "id": "952aae5c-eab5-44bf-aabf-95fdca409ebe",
   "metadata": {},
   "source": [
    "### Plot the loaded data"
   ]
  },
  {
   "cell_type": "code",
   "execution_count": null,
   "id": "3298436a-dc4f-4729-a8fd-728ccaa37087",
   "metadata": {},
   "outputs": [],
   "source": [
    "import matplotlib.pyplot as plt\n",
    "import matplotlib.gridspec as gridspec\n",
    "\n",
    "nrows = 3\n",
    "ncols = 7\n",
    "fig = plt.figure(figsize=(10, 8))\n",
    "gs = gridspec.GridSpec(nrows, ncols, figure=fig)\n",
    "\n",
    "ax = fig.add_subplot(gs[0, 0])\n",
    "plt.imshow(np.moveaxis(data.numpy()[:3], [0, 1, 2], [2, 0, 1]) * 2.5)\n",
    "plt.title(f\"SAMPLE ID {sample_id}\")\n",
    "\n",
    "for ind, prob in enumerate(probs.numpy()):\n",
    "    # rgb\n",
    "    r = (ind // ncols) + 1\n",
    "    c = ((ind + 1) % ncols) - 1\n",
    "    ax = fig.add_subplot(gs[r, c])\n",
    "    plt.imshow(prob.squeeze())\n",
    "    plt.title(f\"Probability {NET_LABEL_NAMES[ind]}\")\n"
   ]
  },
  {
   "cell_type": "code",
   "execution_count": null,
   "id": "4ad4f3ed-b39e-4e4c-bb33-81856358eb83",
   "metadata": {},
   "outputs": [],
   "source": [
    "data.shape"
   ]
  },
  {
   "cell_type": "code",
   "execution_count": null,
   "id": "8af4cfe1-8a32-43a2-9331-ee35160a3552",
   "metadata": {},
   "outputs": [],
   "source": [
    "head.shape"
   ]
  },
  {
   "cell_type": "code",
   "execution_count": null,
   "id": "c1d4adca-46d1-48fb-832a-27aa13b5833b",
   "metadata": {},
   "outputs": [],
   "source": [
    "probs.shape"
   ]
  }
 ],
 "metadata": {
  "kernelspec": {
   "display_name": "eo_torch",
   "language": "python",
   "name": "eo_torch"
  },
  "language_info": {
   "codemirror_mode": {
    "name": "ipython",
    "version": 3
   },
   "file_extension": ".py",
   "mimetype": "text/x-python",
   "name": "python",
   "nbconvert_exporter": "python",
   "pygments_lexer": "ipython3",
   "version": "3.10.16"
  }
 },
 "nbformat": 4,
 "nbformat_minor": 5
}
