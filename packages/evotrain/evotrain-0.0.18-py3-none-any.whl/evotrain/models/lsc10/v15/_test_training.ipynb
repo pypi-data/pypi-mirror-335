{
 "cells": [
  {
   "cell_type": "code",
   "execution_count": 1,
   "id": "328d2363-34f5-4756-be9b-cba999076988",
   "metadata": {},
   "outputs": [
    {
     "data": {
      "text/plain": [
       "False"
      ]
     },
     "execution_count": 1,
     "metadata": {},
     "output_type": "execute_result"
    }
   ],
   "source": [
    "import torch\n",
    "# torch.zeros(1).cuda()\n",
    "torch.cuda.is_available()"
   ]
  },
  {
   "cell_type": "code",
   "execution_count": 2,
   "id": "42f9491c-fcee-4457-90de-8110c03295a2",
   "metadata": {},
   "outputs": [
    {
     "name": "stderr",
     "output_type": "stream",
     "text": [
      "\u001b[32m2025-01-30 14:38:29.133\u001b[0m | \u001b[1mINFO    \u001b[0m | \u001b[36mevotrain.v2\u001b[0m:\u001b[36m<module>\u001b[0m:\u001b[36m28\u001b[0m - \u001b[1mFound dataset at /projects/TAP/vegteam/training_data/evotrain_v2\u001b[0m\n",
      "\u001b[32m2025-01-30 14:38:29.186\u001b[0m | \u001b[1mINFO    \u001b[0m | \u001b[36mevotrain.v2tsm\u001b[0m:\u001b[36m<module>\u001b[0m:\u001b[36m25\u001b[0m - \u001b[1mFound dataset at /projects/TAP/vegteam/training_data/evotrain_v2tsm\u001b[0m\n"
     ]
    }
   ],
   "source": [
    "from dataset import get_train_val_locs\n",
    "\n",
    "train_locs, val_locs = get_train_val_locs(locs_scenario=\"iiasa_evo_v1\", n_val_locs=10000)"
   ]
  },
  {
   "cell_type": "code",
   "execution_count": 4,
   "id": "4321084c-fe09-4b6e-9d62-0d72df1bff25",
   "metadata": {},
   "outputs": [
    {
     "data": {
      "text/plain": [
       "57168"
      ]
     },
     "execution_count": 4,
     "metadata": {},
     "output_type": "execute_result"
    }
   ],
   "source": [
    "len(train_locs)"
   ]
  },
  {
   "cell_type": "code",
   "execution_count": 3,
   "id": "8109f56a-7520-432a-b0b7-7624f4d71b6e",
   "metadata": {},
   "outputs": [
    {
     "data": {
      "text/plain": [
       "0"
      ]
     },
     "execution_count": 3,
     "metadata": {},
     "output_type": "execute_result"
    }
   ],
   "source": [
    "len(val_locs)"
   ]
  },
  {
   "cell_type": "code",
   "execution_count": 5,
   "id": "fc527e07-a19a-4ace-95ee-ed68ea26edb8",
   "metadata": {},
   "outputs": [],
   "source": [
    "from dataset import load_evo_dataset\n",
    "evo_ds = load_evo_dataset()\n",
    "v3_locs = evo_ds.locs"
   ]
  },
  {
   "cell_type": "code",
   "execution_count": 8,
   "id": "abd9fbc1-833e-4e8c-b30c-3d0f7b9dbe97",
   "metadata": {},
   "outputs": [
    {
     "data": {
      "text/plain": [
       "{False}"
      ]
     },
     "execution_count": 8,
     "metadata": {},
     "output_type": "execute_result"
    }
   ],
   "source": [
    "set(v3_locs[v3_locs[\"selection_2\"] == \"val\"]['iiasa_evo_v1'])"
   ]
  },
  {
   "cell_type": "code",
   "execution_count": 7,
   "id": "76332f2d-8325-438b-a0b1-e102d5d4f6aa",
   "metadata": {},
   "outputs": [
    {
     "data": {
      "text/plain": [
       "0         23MMR_005_31_2020Q1\n",
       "1         23MMR_005_31_2020Q1\n",
       "2         23MMR_005_31_2020Q1\n",
       "3         23MMR_005_31_2020Q2\n",
       "4         23MMR_005_31_2020Q2\n",
       "                 ...         \n",
       "522425    38WMV_049_54_2020Q4\n",
       "522426    45SUC_095_58_2020Q1\n",
       "522427    45SUC_095_58_2020Q1\n",
       "522428    45SUC_095_58_2020Q1\n",
       "522429    45SUC_095_58_2020Q2\n",
       "Name: quarter_id, Length: 522430, dtype: string"
      ]
     },
     "execution_count": 7,
     "metadata": {},
     "output_type": "execute_result"
    }
   ],
   "source": [
    "evo_ds.locs[\"quarter_id\"].astype(\"string[pyarrow]\")"
   ]
  },
  {
   "cell_type": "code",
   "execution_count": 8,
   "id": "ba5686bd-585d-4751-aede-90ca6776d661",
   "metadata": {},
   "outputs": [
    {
     "ename": "TypeError",
     "evalue": "'DataFrame' object is not callable",
     "output_type": "error",
     "traceback": [
      "\u001b[0;31m---------------------------------------------------------------------------\u001b[0m",
      "\u001b[0;31mTypeError\u001b[0m                                 Traceback (most recent call last)",
      "Cell \u001b[0;32mIn[8], line 1\u001b[0m\n\u001b[0;32m----> 1\u001b[0m \u001b[43mevo_ds\u001b[49m\u001b[38;5;241;43m.\u001b[39;49m\u001b[43msample_ids\u001b[49m\n",
      "File \u001b[0;32m~/repos/evotrain/src/evotrain/v2tsm/__init__.py:118\u001b[0m, in \u001b[0;36mEvoTrainV2TSMDataset.sample_ids\u001b[0;34m(self)\u001b[0m\n\u001b[1;32m    115\u001b[0m \u001b[38;5;129m@property\u001b[39m\n\u001b[1;32m    116\u001b[0m \u001b[38;5;28;01mdef\u001b[39;00m \u001b[38;5;21msample_ids\u001b[39m(\u001b[38;5;28mself\u001b[39m):\n\u001b[1;32m    117\u001b[0m     \u001b[38;5;28;01mif\u001b[39;00m \u001b[38;5;28mself\u001b[39m\u001b[38;5;241m.\u001b[39m_sample_ids \u001b[38;5;129;01mis\u001b[39;00m \u001b[38;5;28;01mNone\u001b[39;00m:\n\u001b[0;32m--> 118\u001b[0m         \u001b[38;5;28mself\u001b[39m\u001b[38;5;241m.\u001b[39m_quarter_ids \u001b[38;5;241m=\u001b[39m \u001b[38;5;28mself\u001b[39m\u001b[38;5;241m.\u001b[39mlocs[\u001b[38;5;124m\"\u001b[39m\u001b[38;5;124msample_id\u001b[39m\u001b[38;5;124m\"\u001b[39m]\u001b[38;5;241m.\u001b[39mastype(\u001b[38;5;124m\"\u001b[39m\u001b[38;5;124mstring[pyarrow]\u001b[39m\u001b[38;5;124m\"\u001b[39m)\n\u001b[1;32m    119\u001b[0m         \u001b[38;5;66;03m# self._sample_ids = _load(\"locs\", columns=[\"sample_id\"])[\u001b[39;00m\n\u001b[1;32m    120\u001b[0m         \u001b[38;5;66;03m#     \"sample_id\"\u001b[39;00m\n\u001b[1;32m    121\u001b[0m         \u001b[38;5;66;03m# ].astype(\"string[pyarrow]\")\u001b[39;00m\n\u001b[1;32m    122\u001b[0m     \u001b[38;5;28;01mreturn\u001b[39;00m \u001b[38;5;28mself\u001b[39m\u001b[38;5;241m.\u001b[39m_sample_ids\n",
      "\u001b[0;31mTypeError\u001b[0m: 'DataFrame' object is not callable"
     ]
    }
   ],
   "source": [
    "evo_ds.sample_ids"
   ]
  },
  {
   "cell_type": "code",
   "execution_count": 4,
   "id": "3eb05580-3dea-4d5d-8278-53cedb401908",
   "metadata": {},
   "outputs": [
    {
     "data": {
      "text/plain": [
       "Index(['location_id', 'xmin', 'ymin', 'xmax', 'ymax', 'tile', 'block_id',\n",
       "       'epsg', 'lon', 'lat', 'date', 'sample_id', 'year', 'month',\n",
       "       'product_uri', 'mean_view_zenith', 'mean_view_azimuth',\n",
       "       'mean_solar_zenith', 'mean_solar_azimuth', 'aux', 'meteo',\n",
       "       'iiasa_evo_v1', 'prob_w_tree', 'prob_w_shrub',\n",
       "       'prob_w_herbaceous vegetation', 'prob_w_not_vegetated', 'prob_w_water',\n",
       "       'prob_w_snow', 'prob_w_clouds', 'prob_w_shadow', 'prob_w_surface',\n",
       "       'prob_w_cropland', 'prob_w_mangrove', 'prob_w_built-up',\n",
       "       'prob_w_herbaceous_wetland', 'prob_w_lichen', 'prob_w_other',\n",
       "       'selection_2', 'quarter', 'quarter_id'],\n",
       "      dtype='object')"
      ]
     },
     "execution_count": 4,
     "metadata": {},
     "output_type": "execute_result"
    }
   ],
   "source": [
    "v3_locs.columns"
   ]
  },
  {
   "cell_type": "code",
   "execution_count": 5,
   "id": "93d5f638-e249-4dc4-9745-179b5ad2093b",
   "metadata": {},
   "outputs": [],
   "source": [
    "from evotrain.v2 import EvoTrainV2Dataset"
   ]
  },
  {
   "cell_type": "code",
   "execution_count": 6,
   "id": "929035da-435b-419b-8bef-4aba1c838931",
   "metadata": {},
   "outputs": [],
   "source": [
    "from dataset import EvoNetV1Dataset"
   ]
  },
  {
   "cell_type": "code",
   "execution_count": 7,
   "id": "049cb650-5d02-4bfe-9455-cab87c962d02",
   "metadata": {},
   "outputs": [],
   "source": [
    "# evo_ds.locs.lat.abs()\n",
    "# evo_ds.locs.sort_values(\"lat\").quarter_ids.values"
   ]
  },
  {
   "cell_type": "code",
   "execution_count": 8,
   "id": "213e7ac3-e953-4c52-bad2-d33cd55ad013",
   "metadata": {},
   "outputs": [
    {
     "name": "stderr",
     "output_type": "stream",
     "text": [
      "/home/vito/dekeersw/.conda/envs/eo_torch/lib/python3.10/site-packages/tqdm/auto.py:21: TqdmWarning: IProgress not found. Please update jupyter and ipywidgets. See https://ipywidgets.readthedocs.io/en/stable/user_install.html\n",
      "  from .autonotebook import tqdm as notebook_tqdm\n",
      "/home/vito/dekeersw/repos/evotrain/src/evotrain/models/lsc10/v15/dataset.py:202: SettingWithCopyWarning: \n",
      "A value is trying to be set on a copy of a slice from a DataFrame.\n",
      "Try using .loc[row_indexer,col_indexer] = value instead\n",
      "\n",
      "See the caveats in the documentation: https://pandas.pydata.org/pandas-docs/stable/user_guide/indexing.html#returning-a-view-versus-a-copy\n",
      "  evo_dataset.locs[\"abs_lat\"] = evo_dataset.locs.lat.abs()\n"
     ]
    }
   ],
   "source": [
    "ds = EvoNetV1Dataset(bands=[\n",
    "                \"B02\",\n",
    "                \"B03\",\n",
    "                \"B04\",\n",
    "                \"B08\",\n",
    "                \"B05\",\n",
    "                \"B06\",\n",
    "                \"B07\",\n",
    "                \"B8A\",\n",
    "                \"B11\",\n",
    "                \"B12\",\n",
    "                \"cop-DEM-alt\"],\n",
    "                    locs_scenario='iiasa_evo_v1')"
   ]
  },
  {
   "cell_type": "code",
   "execution_count": 9,
   "id": "86e27ff9-cb9e-468e-8dc4-ce1006271ee4",
   "metadata": {},
   "outputs": [
    {
     "data": {
      "text/plain": [
       "[True]"
      ]
     },
     "execution_count": 9,
     "metadata": {},
     "output_type": "execute_result"
    }
   ],
   "source": [
    "list(set(ds.evo_dataset.locs['iiasa_evo_v1']))"
   ]
  },
  {
   "cell_type": "code",
   "execution_count": 10,
   "id": "8e806951-fd39-4c18-bacd-384645e78d80",
   "metadata": {},
   "outputs": [
    {
     "data": {
      "text/plain": [
       "0         23MMR_005_31_2020Q1\n",
       "1         23MMR_005_31_2020Q1\n",
       "2         23MMR_005_31_2020Q1\n",
       "3         23MMR_005_31_2020Q2\n",
       "4         23MMR_005_31_2020Q2\n",
       "                 ...         \n",
       "167091    37UFB_007_33_2020Q2\n",
       "167092    37UFB_007_33_2020Q3\n",
       "167093    37UFB_007_33_2020Q3\n",
       "167094    37UFB_007_33_2020Q3\n",
       "167095    37UFB_007_33_2020Q4\n",
       "Name: quarter_id, Length: 167096, dtype: object"
      ]
     },
     "execution_count": 10,
     "metadata": {},
     "output_type": "execute_result"
    }
   ],
   "source": [
    "ds.evo_dataset.locs['quarter_id']"
   ]
  },
  {
   "cell_type": "code",
   "execution_count": 15,
   "id": "f5d94787-aaa6-48a1-bca4-3c296133c403",
   "metadata": {},
   "outputs": [
    {
     "data": {
      "text/plain": [
       "'33MWV_006_05_2020Q1'"
      ]
     },
     "execution_count": 15,
     "metadata": {},
     "output_type": "execute_result"
    }
   ],
   "source": [
    "quarter_id = ds.ids[1]\n",
    "quarter_id"
   ]
  },
  {
   "cell_type": "code",
   "execution_count": 16,
   "id": "f977a035-fae7-47c9-8697-a0719cfc91f8",
   "metadata": {},
   "outputs": [],
   "source": [
    "df_locs = ds.evo_dataset.locs\n",
    "row = df_locs[df_locs['quarter_id'] == quarter_id].sample(n=1).iloc[0]"
   ]
  },
  {
   "cell_type": "code",
   "execution_count": null,
   "id": "0161f25f-407d-43e5-a356-83348d2b7ac1",
   "metadata": {},
   "outputs": [],
   "source": [
    "ds[1]"
   ]
  },
  {
   "cell_type": "code",
   "execution_count": 10,
   "id": "7ec8d180-b218-4244-b421-88f69719b1eb",
   "metadata": {},
   "outputs": [
    {
     "ename": "ValueError",
     "evalue": "'55GEN_046_09_20200105' is not in list",
     "output_type": "error",
     "traceback": [
      "\u001b[0;31m---------------------------------------------------------------------------\u001b[0m",
      "\u001b[0;31mValueError\u001b[0m                                Traceback (most recent call last)",
      "Cell \u001b[0;32mIn[10], line 1\u001b[0m\n\u001b[0;32m----> 1\u001b[0m \u001b[38;5;28;43mlist\u001b[39;49m\u001b[43m(\u001b[49m\u001b[43mds\u001b[49m\u001b[38;5;241;43m.\u001b[39;49m\u001b[43mids\u001b[49m\u001b[43m)\u001b[49m\u001b[38;5;241;43m.\u001b[39;49m\u001b[43mindex\u001b[49m\u001b[43m(\u001b[49m\u001b[38;5;124;43m'\u001b[39;49m\u001b[38;5;124;43m55GEN_046_09_20200105\u001b[39;49m\u001b[38;5;124;43m'\u001b[39;49m\u001b[43m)\u001b[49m\n",
      "\u001b[0;31mValueError\u001b[0m: '55GEN_046_09_20200105' is not in list"
     ]
    }
   ],
   "source": [
    "list(ds.ids).index('55GEN_046_09_20200105')"
   ]
  },
  {
   "cell_type": "code",
   "execution_count": null,
   "id": "a667eded-3176-4d38-a1ab-b82f6deaaae9",
   "metadata": {},
   "outputs": [],
   "source": [
    "feats, feats_head, probs, weights = ds[121]"
   ]
  },
  {
   "cell_type": "code",
   "execution_count": 12,
   "id": "d055bd4c-c781-47da-97b5-3a3b4cd4c311",
   "metadata": {},
   "outputs": [
    {
     "data": {
      "text/plain": [
       "(torch.Size([11, 128, 128]), torch.Size([11, 128, 128]))"
      ]
     },
     "execution_count": 12,
     "metadata": {},
     "output_type": "execute_result"
    }
   ],
   "source": [
    "feats.shape, feats_head.shape"
   ]
  },
  {
   "cell_type": "code",
   "execution_count": 13,
   "id": "3faa0e69-39f9-426a-8cd1-eeee7c860339",
   "metadata": {},
   "outputs": [],
   "source": [
    "import json\n",
    "\n",
    "with open(\"/projects/TAP/vegteam/models_wdk/lsc10/v15/lsc10-v15_test/config.json\", \"r\") as f:\n",
    "    config = json.load(f)"
   ]
  },
  {
   "cell_type": "code",
   "execution_count": 14,
   "id": "2d1eb224-2b4a-42b1-ba15-2e05ee048686",
   "metadata": {},
   "outputs": [],
   "source": [
    "from model import Net"
   ]
  },
  {
   "cell_type": "code",
   "execution_count": 15,
   "id": "6cb28ef1-e711-423e-9cd3-f513b50eab84",
   "metadata": {},
   "outputs": [
    {
     "name": "stdout",
     "output_type": "stream",
     "text": [
      "Initializing Conv2d(16, 10, kernel_size=(9, 9), stride=(1, 1), padding=(4, 4), padding_mode=reflect)\n",
      "Initializing Conv2d(16, 10, kernel_size=(7, 7), stride=(1, 1), padding=(3, 3), padding_mode=reflect)\n",
      "Initializing Conv2d(16, 10, kernel_size=(5, 5), stride=(1, 1), padding=(2, 2), padding_mode=reflect)\n",
      "Initializing Conv2d(16, 10, kernel_size=(3, 3), stride=(1, 1), padding=(1, 1), padding_mode=reflect)\n",
      "Initializing Linear(in_features=62, out_features=400, bias=True)\n",
      "Initializing Linear(in_features=400, out_features=300, bias=True)\n",
      "Initializing Linear(in_features=300, out_features=200, bias=True)\n",
      "Initializing Linear(in_features=200, out_features=100, bias=True)\n",
      "Initializing Linear(in_features=100, out_features=50, bias=True)\n",
      "Initializing Linear(in_features=50, out_features=15, bias=True)\n"
     ]
    }
   ],
   "source": [
    "net = Net(**config[\"model\"])"
   ]
  },
  {
   "cell_type": "code",
   "execution_count": 16,
   "id": "de08fdfb-2570-41c7-b59b-8956a1e8ef61",
   "metadata": {},
   "outputs": [
    {
     "name": "stderr",
     "output_type": "stream",
     "text": [
      "\u001b[32m2025-01-28 18:26:06.618\u001b[0m | \u001b[1mINFO    \u001b[0m | \u001b[36mdataset\u001b[0m:\u001b[36m__getitem__\u001b[0m:\u001b[36m242\u001b[0m - \u001b[1m55GEN_046_09_2020Q3\u001b[0m\n",
      "\u001b[32m2025-01-28 18:26:06.620\u001b[0m | \u001b[1mINFO    \u001b[0m | \u001b[36mdataset\u001b[0m:\u001b[36m__getitem__\u001b[0m:\u001b[36m245\u001b[0m - \u001b[1m         location_id      xmin       ymin      xmax       ymax   tile  \\\n",
      "0       23MMR_005_31  460120.0  9594920.0  461400.0  9596200.0  23MMR   \n",
      "1       23MMR_005_31  460120.0  9594920.0  461400.0  9596200.0  23MMR   \n",
      "2       23MMR_005_31  460120.0  9594920.0  461400.0  9596200.0  23MMR   \n",
      "3       23MMR_005_31  460120.0  9594920.0  461400.0  9596200.0  23MMR   \n",
      "4       23MMR_005_31  460120.0  9594920.0  461400.0  9596200.0  23MMR   \n",
      "...              ...       ...        ...       ...        ...    ...   \n",
      "167091  37UFB_007_33  672960.0  6193640.0  674240.0  6194920.0  37UFB   \n",
      "167092  37UFB_007_33  672960.0  6193640.0  674240.0  6194920.0  37UFB   \n",
      "167093  37UFB_007_33  672960.0  6193640.0  674240.0  6194920.0  37UFB   \n",
      "167094  37UFB_007_33  672960.0  6193640.0  674240.0  6194920.0  37UFB   \n",
      "167095  37UFB_007_33  672960.0  6193640.0  674240.0  6194920.0  37UFB   \n",
      "\n",
      "        block_id   epsg        lon        lat  ... prob_w_cropland  \\\n",
      "0              5  32723 -45.353353  -3.658976  ...             0.0   \n",
      "1              5  32723 -45.353353  -3.658976  ...             0.0   \n",
      "2              5  32723 -45.353353  -3.658976  ...             0.0   \n",
      "3              5  32723 -45.353353  -3.658976  ...             0.0   \n",
      "4              5  32723 -45.353353  -3.658976  ...             0.0   \n",
      "...          ...    ...        ...        ...  ...             ...   \n",
      "167091         7  32637  41.774064  55.862716  ...             0.0   \n",
      "167092         7  32637  41.774064  55.862716  ...             0.0   \n",
      "167093         7  32637  41.774064  55.862716  ...             0.0   \n",
      "167094         7  32637  41.774064  55.862716  ...             0.0   \n",
      "167095         7  32637  41.774064  55.862716  ...             0.0   \n",
      "\n",
      "       prob_w_mangrove prob_w_built-up prob_w_herbaceous_wetland  \\\n",
      "0                  0.0        0.064275                       0.0   \n",
      "1                  0.0        0.100689                       0.0   \n",
      "2                  0.0        0.105103                       0.0   \n",
      "3                  0.0        0.096276                       0.0   \n",
      "4                  0.0        0.120697                       0.0   \n",
      "...                ...             ...                       ...   \n",
      "167091             0.0        0.101074                       0.0   \n",
      "167092             0.0        0.101074                       0.0   \n",
      "167093             0.0        0.101074                       0.0   \n",
      "167094             0.0        0.101074                       0.0   \n",
      "167095             0.0        0.101074                       0.0   \n",
      "\n",
      "       prob_w_lichen  prob_w_other  selection_2  quarter           quarter_id  \\\n",
      "0                0.0      0.071638        train       Q1  23MMR_005_31_2020Q1   \n",
      "1                0.0      0.165369        train       Q1  23MMR_005_31_2020Q1   \n",
      "2                0.0      0.175842        train       Q1  23MMR_005_31_2020Q1   \n",
      "3                0.0      0.112550        train       Q2  23MMR_005_31_2020Q2   \n",
      "4                0.0      0.187286        train       Q2  23MMR_005_31_2020Q2   \n",
      "...              ...           ...          ...      ...                  ...   \n",
      "167091           0.0      0.286804        train       Q2  37UFB_007_33_2020Q2   \n",
      "167092           0.0      0.286804        train       Q3  37UFB_007_33_2020Q3   \n",
      "167093           0.0      0.286804        train       Q3  37UFB_007_33_2020Q3   \n",
      "167094           0.0      0.286804        train       Q3  37UFB_007_33_2020Q3   \n",
      "167095           0.0      0.286804        train       Q4  37UFB_007_33_2020Q4   \n",
      "\n",
      "          abs_lat  \n",
      "0        3.658976  \n",
      "1        3.658976  \n",
      "2        3.658976  \n",
      "3        3.658976  \n",
      "4        3.658976  \n",
      "...           ...  \n",
      "167091  55.862716  \n",
      "167092  55.862716  \n",
      "167093  55.862716  \n",
      "167094  55.862716  \n",
      "167095  55.862716  \n",
      "\n",
      "[167096 rows x 41 columns]\u001b[0m\n"
     ]
    }
   ],
   "source": [
    "import numpy as np\n",
    "x, x_head, y, y_weights = ds[121318]\n",
    "x = torch.from_numpy(x.numpy()[np.newaxis, ...])\n",
    "x_head = torch.from_numpy(x_head.numpy()[np.newaxis, ...])\n",
    "y_pred = net.evonet(x, x_head)"
   ]
  },
  {
   "cell_type": "code",
   "execution_count": null,
   "id": "485de380-3e6d-4664-b9d5-f378e7c2320f",
   "metadata": {},
   "outputs": [],
   "source": [
    "y_pred = [net._slice_cover(y_pred), net._slice_occlusion(y_pred), net._slice_ecosystems(y_pred)]"
   ]
  },
  {
   "cell_type": "code",
   "execution_count": null,
   "id": "aa0eae9d-8f27-45d5-b64d-3b5a0f1e2ba4",
   "metadata": {},
   "outputs": [],
   "source": [
    "y = [torch.from_numpy(it.numpy()[np.newaxis, ...]) for it in y]"
   ]
  },
  {
   "cell_type": "code",
   "execution_count": null,
   "id": "a550bc90-2acb-4226-816d-43f327d45e75",
   "metadata": {},
   "outputs": [],
   "source": [
    "y_weights = [torch.from_numpy(it.numpy()[np.newaxis, ...]) for it in y_weights]"
   ]
  },
  {
   "cell_type": "code",
   "execution_count": null,
   "id": "1c2eade3-a90d-40ef-8747-0e2509ae4314",
   "metadata": {},
   "outputs": [],
   "source": [
    "print(y_pred[0].shape)\n",
    "print(y[0].shape)\n",
    "print(y_weights[0].shape)"
   ]
  },
  {
   "cell_type": "code",
   "execution_count": null,
   "id": "da4bffc8-3d47-4e67-bda5-3daeb84582cc",
   "metadata": {},
   "outputs": [],
   "source": [
    "net.on_validation_start()\n",
    "net.num_classes_components['occlusion']\n",
    "net._iou_accumulators['occlusion']"
   ]
  },
  {
   "cell_type": "code",
   "execution_count": null,
   "id": "516343da-df9e-4daf-b3d1-86c29721c580",
   "metadata": {},
   "outputs": [],
   "source": [
    "from torch import nn\n",
    "softmax = nn.Softmax(dim=1)\n",
    "y_pred_cover = softmax(y_pred[0])\n",
    "y_pred_occlusion = softmax(y_pred[1])\n",
    "y_pred_ecosystems = softmax(y_pred[2])\n",
    "y_pred_softmax = [y_pred_cover, y_pred_occlusion, y_pred_ecosystems]\n",
    "net._update_iou_accumulators(y_pred_softmax, y, y_weights)"
   ]
  },
  {
   "cell_type": "code",
   "execution_count": null,
   "id": "fd462af0-4c45-405f-9fd6-513a7d58a3b2",
   "metadata": {},
   "outputs": [],
   "source": [
    "labels_type = 'occlusion'\n",
    "net._iou_accumulators[labels_type]"
   ]
  },
  {
   "cell_type": "code",
   "execution_count": null,
   "id": "5f8681d9-bd07-4da4-b865-037e17fc1b4b",
   "metadata": {},
   "outputs": [],
   "source": [
    "mean_iou, classes_iou = net._get_iou_metric(labels_type)\n",
    "classes_dict = net.classes_dict[labels_type]\n",
    "classes_ids = list(classes_dict.keys())\n",
    "classes_ids"
   ]
  },
  {
   "cell_type": "code",
   "execution_count": null,
   "id": "2d10382f-c4b7-4580-9280-dbf6f4ea4233",
   "metadata": {},
   "outputs": [],
   "source": [
    "def get_accuracy_metrics(labels_type):\n",
    "    \n",
    "    "
   ]
  },
  {
   "cell_type": "code",
   "execution_count": null,
   "id": "5f6c0f33-dcc0-4991-86f2-42bd11ea4f6a",
   "metadata": {},
   "outputs": [],
   "source": [
    "labels_type = 'occlusion'\n",
    "tp_sum = net._iou_accumulators[labels_type]['true_positives'].sum()\n",
    "fp_sum = net._iou_accumulators[labels_type]['false_positives'].sum()\n",
    "\n",
    "overall_acc = tp_sum / (tp_sum + fp_sum)"
   ]
  },
  {
   "cell_type": "code",
   "execution_count": null,
   "id": "1d008d5a-c3ba-4fad-99fc-4a01c6f06159",
   "metadata": {},
   "outputs": [],
   "source": [
    "overall_acc"
   ]
  },
  {
   "cell_type": "code",
   "execution_count": null,
   "id": "99845072-b643-4173-af9d-b23cd7204883",
   "metadata": {},
   "outputs": [],
   "source": []
  },
  {
   "cell_type": "code",
   "execution_count": null,
   "id": "20de8792-9ec5-4f14-92ec-129bffd65d4c",
   "metadata": {},
   "outputs": [],
   "source": [
    "weighted_iou_sum = 0.0\n",
    "weight_sum = 0.0\n",
    "\n",
    "# raise ValueError(\"Not implemented\")  # fix range below\n",
    "for lab_i in range(self.num_classes_components[labels_type]):\n",
    "    tp = self._iou_accumulators[labels_type][\"true_positives\"][lab_i]\n",
    "    fp = self._iou_accumulators[labels_type][\"false_positives\"][lab_i]\n",
    "    fn = self._iou_accumulators[labels_type][\"false_negatives\"][lab_i]\n",
    "    sum_tp_fn = tp + fn\n",
    "    if sum_tp_fn > 0:\n",
    "        recall = tp / union\n",
    "        weight = self.classes_weights_tensor_component[labels_type][0, lab_i, 0, 0]\n",
    "        weighted_recall_sum += recall * weight\n",
    "        weight_sum += weight\n",
    "        classes_recall.append(recall.item())\n",
    "    else:\n",
    "        # from loguru import logger\n",
    "        # logger.info(f'{labels_type} {lab_i} {tp}')\n",
    "        classes_recall.append(float(\"nan\"))\n",
    "\n",
    "mean_recall = (\n",
    "    (weighted_iou_sum / weight_sum).item()\n",
    "    if weight_sum > 0\n",
    "    else float(\"nan\")\n",
    ")"
   ]
  },
  {
   "cell_type": "code",
   "execution_count": null,
   "id": "e47f68c7-1bca-4d66-be7a-e0fda765e2d8",
   "metadata": {},
   "outputs": [],
   "source": []
  },
  {
   "cell_type": "code",
   "execution_count": null,
   "id": "1e47055b-d328-47bc-88ff-8a59d2597bfb",
   "metadata": {},
   "outputs": [],
   "source": []
  },
  {
   "cell_type": "code",
   "execution_count": null,
   "id": "0958126b-e582-4aad-844e-2a65066bfe55",
   "metadata": {},
   "outputs": [],
   "source": [
    "classes_iou"
   ]
  },
  {
   "cell_type": "code",
   "execution_count": null,
   "id": "d3812a0e-52b1-4b98-8505-aee78d787f2f",
   "metadata": {},
   "outputs": [],
   "source": [
    "classes_dict = net.classes_dict[labels_type]"
   ]
  },
  {
   "cell_type": "code",
   "execution_count": null,
   "id": "73ef534b-ea88-4d83-af33-984920c3aae4",
   "metadata": {},
   "outputs": [],
   "source": [
    "prob_cover.shape, prob_occlusion.shape, prob_eco.shape, weight_cover.shape, weight_occlusion.shape, weight_eco.shape"
   ]
  },
  {
   "cell_type": "code",
   "execution_count": null,
   "id": "c7021b7c-a3aa-4c1b-afcc-7a1f1da7fdd9",
   "metadata": {},
   "outputs": [],
   "source": [
    "len(v3_locs)"
   ]
  },
  {
   "cell_type": "code",
   "execution_count": null,
   "id": "1389cacb-9aa1-4a01-baa6-925a5687e7d4",
   "metadata": {},
   "outputs": [],
   "source": [
    "len(list(set(v3_locs['location_id'])))"
   ]
  },
  {
   "cell_type": "code",
   "execution_count": null,
   "id": "80efadbd-620a-4d23-8e65-dfab7f9d7561",
   "metadata": {},
   "outputs": [],
   "source": [
    "v3_locs.columns"
   ]
  },
  {
   "cell_type": "code",
   "execution_count": null,
   "id": "94057b09-2633-432c-9097-5a8143cfb336",
   "metadata": {},
   "outputs": [],
   "source": [
    "list(set(v3_locs['selection_1']))"
   ]
  },
  {
   "cell_type": "code",
   "execution_count": null,
   "id": "092e8ea2-08b7-4dbf-a6df-376f6620a1e8",
   "metadata": {},
   "outputs": [],
   "source": [
    "train_locs[0]"
   ]
  },
  {
   "cell_type": "code",
   "execution_count": null,
   "id": "d2b6d8f4-b50b-4bea-8c4e-cdbb1612a869",
   "metadata": {},
   "outputs": [],
   "source": [
    "len(train_locs)"
   ]
  },
  {
   "cell_type": "code",
   "execution_count": null,
   "id": "97f0e5f5-025e-486e-8635-59d996aff6c6",
   "metadata": {},
   "outputs": [],
   "source": [
    "len(val_locs)"
   ]
  },
  {
   "cell_type": "code",
   "execution_count": null,
   "id": "bdf2431a-3d56-462d-9d3d-27a615d7985a",
   "metadata": {},
   "outputs": [],
   "source": [
    "import pandas as pd\n",
    "'/projects/TAP/vegteam/training_data/evotrain_v2/metadata/meteo_biome_features_v1.parquet'\n",
    "tst_meteo = pd.read_parquet('/home/vito/dekeersw/repos/evotrain/src/evotrain/v2/metadata/meteo_biome_features_v1.parquet')"
   ]
  },
  {
   "cell_type": "code",
   "execution_count": null,
   "id": "0732329b-e2c4-4215-b331-3b036c6f2bd5",
   "metadata": {},
   "outputs": [],
   "source": [
    "tst_meteo\n"
   ]
  },
  {
   "cell_type": "code",
   "execution_count": null,
   "id": "11e360c0-11f4-4076-a67c-01fa8764f847",
   "metadata": {},
   "outputs": [],
   "source": []
  },
  {
   "cell_type": "code",
   "execution_count": null,
   "id": "103f9d80-8278-493b-b9ad-35857438b95f",
   "metadata": {},
   "outputs": [],
   "source": [
    "# feats_head\n",
    "# feats"
   ]
  },
  {
   "cell_type": "code",
   "execution_count": null,
   "id": "5099225d-9379-45be-a8ee-f2afe7f16062",
   "metadata": {},
   "outputs": [],
   "source": [
    "# config[\"model\"]"
   ]
  },
  {
   "cell_type": "code",
   "execution_count": null,
   "id": "d810eee2-1428-4de0-b42f-1211e7238e54",
   "metadata": {},
   "outputs": [],
   "source": [
    "# y_pred"
   ]
  },
  {
   "cell_type": "code",
   "execution_count": null,
   "id": "1c802cfd-a489-4fba-98e5-4120def8d0f1",
   "metadata": {},
   "outputs": [],
   "source": []
  },
  {
   "cell_type": "code",
   "execution_count": null,
   "id": "de3075ca-df86-4078-924a-eb2e9c67b62a",
   "metadata": {},
   "outputs": [],
   "source": []
  },
  {
   "cell_type": "code",
   "execution_count": null,
   "id": "db453036-a472-4279-abab-515cffb359b2",
   "metadata": {},
   "outputs": [],
   "source": [
    "\n",
    "labels_type = 'occlusion'\n",
    "range(net.num_classes_components[labels_type])"
   ]
  },
  {
   "cell_type": "code",
   "execution_count": null,
   "id": "db08efcb-fa26-43df-b5d2-5590323fb48f",
   "metadata": {},
   "outputs": [],
   "source": [
    "net._iou_accumulators[labels_type]"
   ]
  },
  {
   "cell_type": "code",
   "execution_count": null,
   "id": "67b08fe0-656b-4c2b-b929-f411ffd181b6",
   "metadata": {},
   "outputs": [],
   "source": [
    "net._labels_types\n",
    "label_type = 'occlusion'\n",
    "mean_iou, classes_iou = net._get_iou_metric(label_type)"
   ]
  },
  {
   "cell_type": "code",
   "execution_count": null,
   "id": "ac105752-b30c-4584-b82a-c41be5fd5517",
   "metadata": {},
   "outputs": [],
   "source": []
  },
  {
   "cell_type": "code",
   "execution_count": null,
   "id": "2cc105d7-6e92-49b2-b155-c5606960a348",
   "metadata": {},
   "outputs": [],
   "source": []
  },
  {
   "cell_type": "code",
   "execution_count": null,
   "id": "14fdaa4c-6faa-4072-b175-7297489fae68",
   "metadata": {},
   "outputs": [],
   "source": [
    "feats.unsqueeze(0).shape"
   ]
  },
  {
   "cell_type": "code",
   "execution_count": null,
   "id": "4f8b87b9-31ac-4e93-868a-a44fd4deefdf",
   "metadata": {},
   "outputs": [],
   "source": [
    "y = net(feats.unsqueeze(0), feats_head.unsqueeze(0))"
   ]
  },
  {
   "cell_type": "code",
   "execution_count": null,
   "id": "4ecb8060-db57-4339-b948-d2aab6c0dacc",
   "metadata": {},
   "outputs": [],
   "source": [
    "y = net(feats.unsqueeze(0), feats_head.unsqueeze(0))"
   ]
  },
  {
   "cell_type": "code",
   "execution_count": null,
   "id": "ee83d552-0c83-4c5f-858a-09025b3b3f2c",
   "metadata": {},
   "outputs": [],
   "source": [
    "len(y)"
   ]
  },
  {
   "cell_type": "code",
   "execution_count": null,
   "id": "4148f56a-1824-4cd5-ba7a-32560fa78145",
   "metadata": {},
   "outputs": [],
   "source": [
    "y[0].shape"
   ]
  },
  {
   "cell_type": "code",
   "execution_count": null,
   "id": "dec53872-853d-4b3a-8185-dca3ba5f51ee",
   "metadata": {},
   "outputs": [],
   "source": [
    "y[1].shape"
   ]
  },
  {
   "cell_type": "code",
   "execution_count": null,
   "id": "738872a7-f14c-4fbc-aaa7-0dd9c3ac9ed5",
   "metadata": {},
   "outputs": [],
   "source": [
    "y[2].shape"
   ]
  },
  {
   "cell_type": "code",
   "execution_count": null,
   "id": "6668735e-8897-49a0-8084-455b20520c84",
   "metadata": {},
   "outputs": [],
   "source": [
    "y[0].shape"
   ]
  },
  {
   "cell_type": "code",
   "execution_count": null,
   "id": "d2a16d9b-9f01-4a7b-9a51-772828363aa2",
   "metadata": {},
   "outputs": [],
   "source": [
    "weights[0].shape"
   ]
  },
  {
   "cell_type": "code",
   "execution_count": null,
   "id": "93c5b8df-759e-45f2-8bc4-f5e9f10b8a5b",
   "metadata": {},
   "outputs": [],
   "source": []
  },
  {
   "cell_type": "code",
   "execution_count": null,
   "id": "e00ff1b3-06c2-4bef-a07d-8c71e674271e",
   "metadata": {},
   "outputs": [],
   "source": [
    "import matplotlib.pyplot as plt\n",
    "import numpy as np\n",
    "from labels import binarize_probs\n",
    "from labels import label_to_rgb\n",
    "from labels import LSC_COVER_LABELS\n",
    "nodata_mask = (weights[0][0] < 0.1).squeeze()\n",
    "lsc_probs = probs[0]\n",
    "# lsc_probs[:, nodata_mask] = np.nan\n",
    "lsc_map = binarize_probs(lsc_probs, LSC_COVER_LABELS) \n",
    "lsc_map[nodata_mask] = 0\n",
    "rgb = label_to_rgb(lsc_map, 'cover')\n",
    "\n",
    "print(rgb.shape)\n",
    "plt.imshow(np.moveaxis(rgb,[0,1,2],[2,0,1]))"
   ]
  },
  {
   "cell_type": "code",
   "execution_count": null,
   "id": "b7fb3401-ece4-48e9-96a3-7dba61d41122",
   "metadata": {},
   "outputs": [],
   "source": []
  },
  {
   "cell_type": "code",
   "execution_count": null,
   "id": "de3548d8-8a1e-4964-9fb9-45bde4618943",
   "metadata": {},
   "outputs": [],
   "source": []
  },
  {
   "cell_type": "code",
   "execution_count": null,
   "id": "b96b4ca9-80b5-479b-bc40-8dcb2cdc07e1",
   "metadata": {},
   "outputs": [],
   "source": []
  },
  {
   "cell_type": "code",
   "execution_count": null,
   "id": "f479996f-4026-4f49-89e6-e24d02e28cb4",
   "metadata": {},
   "outputs": [],
   "source": [
    "import numpy as np\n",
    "import xarray as xr\n",
    "prob_cover = ds.evo_dataset.read_annotation(\n",
    "            sample_id, annotation_name=\"lsc-evo-v1-prob-cover-v1\"\n",
    "        )\n",
    "print(len(prob_cover.band))\n",
    "sample_id = '55GEN_046_09_20200105'\n",
    "tst = ds.evo_dataset.read_annotation(\n",
    "            sample_id, annotation_name=\"lsc-evo-v1-weight-cover-v1\"\n",
    "        )\n",
    "xr.concat([tst for it in np.arange(len(prob_cover.band))], dim='band')\n",
    "# xr.DataArray(np.repeat(tst.data, 4, axis=0), dims=['band', 'y', 'x'],\n",
    "#             coords=)\n"
   ]
  },
  {
   "cell_type": "code",
   "execution_count": null,
   "id": "f05610b9-5cf4-4439-941c-7617bf8728da",
   "metadata": {},
   "outputs": [],
   "source": [
    "from pathlib import Path\n",
    "import pandas as pd\n",
    "_DATASET_PATH_HPC = Path(\"/projects/TAP/vegteam/training_data/evotrain_lsc/evotrain_lsc_v4_iiasa\")\n",
    "meta = pd.read_parquet(_DATASET_PATH_HPC / 'metadata' / \"locs_fracs.parquet\")"
   ]
  },
  {
   "cell_type": "code",
   "execution_count": null,
   "id": "09ba6c2a-c5c2-4653-bd02-a5478314ff50",
   "metadata": {},
   "outputs": [],
   "source": [
    "len(list(set(meta['location_id'])))"
   ]
  },
  {
   "cell_type": "code",
   "execution_count": null,
   "id": "6ee0891c-c452-4bf0-8048-fbb285603cfc",
   "metadata": {},
   "outputs": [],
   "source": []
  }
 ],
 "metadata": {
  "kernelspec": {
   "display_name": "eo_torch",
   "language": "python",
   "name": "eo_torch"
  },
  "language_info": {
   "codemirror_mode": {
    "name": "ipython",
    "version": 3
   },
   "file_extension": ".py",
   "mimetype": "text/x-python",
   "name": "python",
   "nbconvert_exporter": "python",
   "pygments_lexer": "ipython3",
   "version": "3.10.16"
  }
 },
 "nbformat": 4,
 "nbformat_minor": 5
}
