{
 "cells": [
  {
   "cell_type": "markdown",
   "id": "91d1a95e-4091-4ddc-b05d-995fdd17218c",
   "metadata": {},
   "source": [
    "## Illustrating the LSC EvoNetV1Dataset\n"
   ]
  },
  {
   "cell_type": "code",
   "execution_count": null,
   "id": "e29dd65a",
   "metadata": {},
   "outputs": [],
   "source": [
    "%load_ext autoreload\n",
    "%autoreload 2\n",
    "%matplotlib widget"
   ]
  },
  {
   "cell_type": "code",
   "execution_count": null,
   "id": "5ffe3f52-7ca4-487c-bf82-56ca73119cb2",
   "metadata": {},
   "outputs": [],
   "source": [
    "import torch\n",
    "torch.cuda.is_available()\n",
    "# torch.cuda.device_count()"
   ]
  },
  {
   "cell_type": "code",
   "execution_count": null,
   "id": "5393e552-80e1-46db-be8b-266652a5843c",
   "metadata": {},
   "outputs": [],
   "source": [
    "from pathlib import Path\n",
    "import matplotlib.pyplot as plt\n",
    "import numpy as np\n",
    "\n",
    "\n",
    "from evotrain.models.lsc10.v14.dataset import EvoNetV1Dataset"
   ]
  },
  {
   "cell_type": "code",
   "execution_count": null,
   "id": "d770d6f6-96b2-4c19-8362-1f4570c4e0f1",
   "metadata": {},
   "outputs": [],
   "source": [
    "from evotrain.v2tsm import EvoTrainV2TSMDataset\n",
    "evo_ds = EvoTrainV2TSMDataset(\n",
    "        # dataset_path=dataset_path\n",
    "    )"
   ]
  },
  {
   "cell_type": "code",
   "execution_count": null,
   "id": "fafd5971-2dbe-4c29-8f7c-939dd9e3249e",
   "metadata": {},
   "outputs": [],
   "source": []
  },
  {
   "cell_type": "code",
   "execution_count": null,
   "id": "171b9d5e",
   "metadata": {},
   "outputs": [],
   "source": [
    "import torch"
   ]
  },
  {
   "cell_type": "code",
   "execution_count": null,
   "id": "333c7a70",
   "metadata": {},
   "outputs": [],
   "source": [
    "t = torch.rand(64, 13, 256, 256)\n",
    "m = torch.max(t, dim=1, keepdim=True)"
   ]
  },
  {
   "cell_type": "code",
   "execution_count": null,
   "id": "23fecf61",
   "metadata": {},
   "outputs": [],
   "source": [
    "m[0]"
   ]
  },
  {
   "cell_type": "code",
   "execution_count": null,
   "id": "67f514da-e35a-4b22-9300-2057678362f7",
   "metadata": {},
   "outputs": [],
   "source": [
    "ds = EvoNetV1Dataset(\n",
    "    bands=[\"B04\", \"B03\", \"B02\", \"cop-DEM-alt\"],\n",
    "    rgb_bands=None,\n",
    "    flip_augmentation=True,\n",
    "    rotate_augmentation=True,\n",
    "    augmented_scaling=False,\n",
    "    k_factor=5,\n",
    "    k_factor_jitter=2,\n",
    "    meteo_jitter=0.05,\n",
    "    latlon_jitter=0.5,\n",
    "    doy_jitter=15,\n",
    "    shuffle_locs=False,\n",
    "    sort_locs_by_latitude=False,\n",
    ")"
   ]
  },
  {
   "cell_type": "code",
   "execution_count": null,
   "id": "66ab7b74-1b5d-4d13-9149-0800cdc82378",
   "metadata": {},
   "outputs": [],
   "source": [
    "len(ds.ids)"
   ]
  },
  {
   "cell_type": "code",
   "execution_count": null,
   "id": "1cc915c8-430f-4f41-93b7-8ec0fe2d18b4",
   "metadata": {},
   "outputs": [],
   "source": [
    "len(ds.ids)"
   ]
  },
  {
   "cell_type": "markdown",
   "id": "dd5c4322-9e81-4257-ae4c-f0b77c2b3770",
   "metadata": {},
   "source": [
    "### Let's load some data"
   ]
  },
  {
   "cell_type": "code",
   "execution_count": null,
   "id": "6801e263-ba72-4696-8bf9-f244207d7eaf",
   "metadata": {},
   "outputs": [],
   "source": [
    "import rasterio\n",
    "with rasterio.open('/projects/TAP/vegteam/training_data/evotrain_v2tsm/annotations/2020/01/55/G/EN/evotrain_v2tsm_lsc-evo-v1-weight-cover-v1_55GEN_046_09_20200105.tif') as src:\n",
    "    print(src.descriptions)"
   ]
  },
  {
   "cell_type": "code",
   "execution_count": null,
   "id": "5bf4613a-316f-4df2-8414-6b486b07ec19",
   "metadata": {},
   "outputs": [],
   "source": [
    "sample_id = ds.ids[it]"
   ]
  },
  {
   "cell_type": "code",
   "execution_count": null,
   "id": "64c88265-0fa1-4da6-b42f-ede312ee1c96",
   "metadata": {},
   "outputs": [],
   "source": [
    "sample_id"
   ]
  },
  {
   "cell_type": "code",
   "execution_count": null,
   "id": "b3072f56-5225-47e6-a348-f856f4b9f777",
   "metadata": {},
   "outputs": [],
   "source": [
    "# len(ds)\n",
    "it = 0\n",
    "data, head, prob_cover, prob_occlusion, prob_eco, weight_cover, weight_occlusion, weight_eco = ds[it]\n",
    "sample_id = ds.ids[it]"
   ]
  },
  {
   "cell_type": "markdown",
   "id": "952aae5c-eab5-44bf-aabf-95fdca409ebe",
   "metadata": {},
   "source": [
    "### Plot the loaded data"
   ]
  },
  {
   "cell_type": "code",
   "execution_count": null,
   "id": "3298436a-dc4f-4729-a8fd-728ccaa37087",
   "metadata": {},
   "outputs": [],
   "source": [
    "import matplotlib.pyplot as plt\n",
    "import matplotlib.gridspec as gridspec\n",
    "\n",
    "nrows = 3\n",
    "ncols = 7\n",
    "fig = plt.figure(figsize=(10, 8))\n",
    "gs = gridspec.GridSpec(nrows, ncols, figure=fig)\n",
    "\n",
    "ax = fig.add_subplot(gs[0, 0])\n",
    "plt.imshow(np.moveaxis(data.numpy()[:3], [0, 1, 2], [2, 0, 1]) * 2.5)\n",
    "plt.title(f\"SAMPLE ID {sample_id}\")\n",
    "\n",
    "for ind, prob in enumerate(probs.numpy()):\n",
    "    # rgb\n",
    "    r = (ind // ncols) + 1\n",
    "    c = ((ind + 1) % ncols) - 1\n",
    "    ax = fig.add_subplot(gs[r, c])\n",
    "    plt.imshow(prob.squeeze())\n",
    "    plt.title(f\"Probability {NET_LABEL_NAMES[ind]}\")\n"
   ]
  },
  {
   "cell_type": "code",
   "execution_count": null,
   "id": "4ad4f3ed-b39e-4e4c-bb33-81856358eb83",
   "metadata": {},
   "outputs": [],
   "source": [
    "data.shape"
   ]
  },
  {
   "cell_type": "code",
   "execution_count": null,
   "id": "8af4cfe1-8a32-43a2-9331-ee35160a3552",
   "metadata": {},
   "outputs": [],
   "source": [
    "head.shape"
   ]
  },
  {
   "cell_type": "code",
   "execution_count": null,
   "id": "c1d4adca-46d1-48fb-832a-27aa13b5833b",
   "metadata": {},
   "outputs": [],
   "source": [
    "probs.shape"
   ]
  }
 ],
 "metadata": {
  "kernelspec": {
   "display_name": "eo_torch",
   "language": "python",
   "name": "eo_torch"
  },
  "language_info": {
   "codemirror_mode": {
    "name": "ipython",
    "version": 3
   },
   "file_extension": ".py",
   "mimetype": "text/x-python",
   "name": "python",
   "nbconvert_exporter": "python",
   "pygments_lexer": "ipython3",
   "version": "3.10.16"
  }
 },
 "nbformat": 4,
 "nbformat_minor": 5
}
